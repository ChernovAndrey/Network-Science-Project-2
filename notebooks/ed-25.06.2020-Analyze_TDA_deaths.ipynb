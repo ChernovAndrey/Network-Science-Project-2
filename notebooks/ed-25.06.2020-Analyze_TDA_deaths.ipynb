{
 "cells": [
  {
   "cell_type": "code",
   "execution_count": 1,
   "metadata": {},
   "outputs": [],
   "source": [
    "import numpy as np\n",
    "import pandas as pd\n",
    "import matplotlib.pyplot as plt\n",
    "import seaborn as sns"
   ]
  },
  {
   "cell_type": "code",
   "execution_count": 2,
   "metadata": {},
   "outputs": [],
   "source": [
    "import os\n",
    "import sys"
   ]
  },
  {
   "cell_type": "code",
   "execution_count": 3,
   "metadata": {},
   "outputs": [
    {
     "data": {
      "text/html": [
       "<style>.container { width:90% !important; }</style>"
      ],
      "text/plain": [
       "<IPython.core.display.HTML object>"
      ]
     },
     "metadata": {},
     "output_type": "display_data"
    }
   ],
   "source": [
    "from IPython.core.display import display, HTML\n",
    "display(HTML(\"<style>.container { width:90% !important; }</style>\"))"
   ]
  },
  {
   "cell_type": "code",
   "execution_count": 4,
   "metadata": {},
   "outputs": [
    {
     "data": {
      "text/plain": [
       "['TDA_anomaly_death_3.npy',\n",
       " 'TDA_anomaly_death_2.npy',\n",
       " 'TDA_anomaly_death_1.npy']"
      ]
     },
     "execution_count": 4,
     "metadata": {},
     "output_type": "execute_result"
    }
   ],
   "source": [
    "fnames = [f for f in os.listdir('..') if f.startswith('TDA_anomaly_death')]\n",
    "fnames"
   ]
  },
  {
   "cell_type": "code",
   "execution_count": 5,
   "metadata": {},
   "outputs": [],
   "source": [
    "dicts = {fname.replace('.npy',''):np.load('../'+fname, allow_pickle=True).item() for fname in fnames}"
   ]
  },
  {
   "cell_type": "code",
   "execution_count": 6,
   "metadata": {},
   "outputs": [
    {
     "name": "stdout",
     "output_type": "stream",
     "text": [
      "(186, 3)\n"
     ]
    },
    {
     "data": {
      "text/html": [
       "<div>\n",
       "<style scoped>\n",
       "    .dataframe tbody tr th:only-of-type {\n",
       "        vertical-align: middle;\n",
       "    }\n",
       "\n",
       "    .dataframe tbody tr th {\n",
       "        vertical-align: top;\n",
       "    }\n",
       "\n",
       "    .dataframe thead th {\n",
       "        text-align: right;\n",
       "    }\n",
       "</style>\n",
       "<table border=\"1\" class=\"dataframe\">\n",
       "  <thead>\n",
       "    <tr style=\"text-align: right;\">\n",
       "      <th></th>\n",
       "      <th>TDA_anomaly_death_1</th>\n",
       "      <th>TDA_anomaly_death_2</th>\n",
       "      <th>TDA_anomaly_death_3</th>\n",
       "    </tr>\n",
       "    <tr>\n",
       "      <th>Country</th>\n",
       "      <th></th>\n",
       "      <th></th>\n",
       "      <th></th>\n",
       "    </tr>\n",
       "  </thead>\n",
       "  <tbody>\n",
       "    <tr>\n",
       "      <th>Afghanistan</th>\n",
       "      <td>class_1</td>\n",
       "      <td>class_1</td>\n",
       "      <td>class_2</td>\n",
       "    </tr>\n",
       "    <tr>\n",
       "      <th>Albania</th>\n",
       "      <td>class_1</td>\n",
       "      <td>class_1</td>\n",
       "      <td>class_2</td>\n",
       "    </tr>\n",
       "    <tr>\n",
       "      <th>Algeria</th>\n",
       "      <td>class_1</td>\n",
       "      <td>class_1</td>\n",
       "      <td>class_1</td>\n",
       "    </tr>\n",
       "    <tr>\n",
       "      <th>Andorra</th>\n",
       "      <td>class_5</td>\n",
       "      <td>NaN</td>\n",
       "      <td>NaN</td>\n",
       "    </tr>\n",
       "    <tr>\n",
       "      <th>Angola</th>\n",
       "      <td>class_1</td>\n",
       "      <td>class_1</td>\n",
       "      <td>class_1</td>\n",
       "    </tr>\n",
       "  </tbody>\n",
       "</table>\n",
       "</div>"
      ],
      "text/plain": [
       "            TDA_anomaly_death_1 TDA_anomaly_death_2 TDA_anomaly_death_3\n",
       "Country                                                                \n",
       "Afghanistan             class_1             class_1             class_2\n",
       "Albania                 class_1             class_1             class_2\n",
       "Algeria                 class_1             class_1             class_1\n",
       "Andorra                 class_5                 NaN                 NaN\n",
       "Angola                  class_1             class_1             class_1"
      ]
     },
     "execution_count": 6,
     "metadata": {},
     "output_type": "execute_result"
    }
   ],
   "source": [
    "tda_ds = pd.DataFrame(dicts)\n",
    "tda_ds = tda_ds[sorted(tda_ds.columns)]\n",
    "tda_ds.index.name = 'Country'\n",
    "print(tda_ds.shape)\n",
    "tda_ds.head()"
   ]
  },
  {
   "cell_type": "code",
   "execution_count": 7,
   "metadata": {},
   "outputs": [],
   "source": [
    "for f in tda_ds.columns:\n",
    "    tda_ds[f] = [int(x.replace('class','').replace('_','')) if x is not np.nan else None for x in tda_ds[f]]\n",
    "    tda_ds[f] = tda_ds[f].fillna(tda_ds[f].dropna().max()+1)"
   ]
  },
  {
   "cell_type": "code",
   "execution_count": 8,
   "metadata": {},
   "outputs": [
    {
     "name": "stdout",
     "output_type": "stream",
     "text": [
      "(28952, 60)\n"
     ]
    },
    {
     "data": {
      "text/html": [
       "<div>\n",
       "<style scoped>\n",
       "    .dataframe tbody tr th:only-of-type {\n",
       "        vertical-align: middle;\n",
       "    }\n",
       "\n",
       "    .dataframe tbody tr th {\n",
       "        vertical-align: top;\n",
       "    }\n",
       "\n",
       "    .dataframe thead th {\n",
       "        text-align: right;\n",
       "    }\n",
       "</style>\n",
       "<table border=\"1\" class=\"dataframe\">\n",
       "  <thead>\n",
       "    <tr style=\"text-align: right;\">\n",
       "      <th></th>\n",
       "      <th>Country</th>\n",
       "      <th>Lat</th>\n",
       "      <th>Long</th>\n",
       "      <th>Date</th>\n",
       "      <th>Confirmed</th>\n",
       "      <th>Deaths</th>\n",
       "      <th>Recovered</th>\n",
       "      <th>C1_School closing</th>\n",
       "      <th>C2_Workplace closing</th>\n",
       "      <th>C3_Cancel public events</th>\n",
       "      <th>...</th>\n",
       "      <th>male_smokers</th>\n",
       "      <th>handwashing_facilities</th>\n",
       "      <th>hospital_beds_per_thousand</th>\n",
       "      <th>life_expectancy</th>\n",
       "      <th>Population</th>\n",
       "      <th>GrowthRate</th>\n",
       "      <th>Area</th>\n",
       "      <th>Density</th>\n",
       "      <th>Airports</th>\n",
       "      <th>GDP</th>\n",
       "    </tr>\n",
       "  </thead>\n",
       "  <tbody>\n",
       "    <tr>\n",
       "      <th>0</th>\n",
       "      <td>Afghanistan</td>\n",
       "      <td>33.0</td>\n",
       "      <td>65.0</td>\n",
       "      <td>01/22/2020</td>\n",
       "      <td>0</td>\n",
       "      <td>0</td>\n",
       "      <td>0</td>\n",
       "      <td>0.0</td>\n",
       "      <td>0.0</td>\n",
       "      <td>0.0</td>\n",
       "      <td>...</td>\n",
       "      <td>NaN</td>\n",
       "      <td>37.746</td>\n",
       "      <td>0.5</td>\n",
       "      <td>64.83</td>\n",
       "      <td>38041.754</td>\n",
       "      <td>1.0233</td>\n",
       "      <td>652230.0</td>\n",
       "      <td>58.3257</td>\n",
       "      <td>22.0</td>\n",
       "      <td>74792.0</td>\n",
       "    </tr>\n",
       "    <tr>\n",
       "      <th>1</th>\n",
       "      <td>Afghanistan</td>\n",
       "      <td>33.0</td>\n",
       "      <td>65.0</td>\n",
       "      <td>01/23/2020</td>\n",
       "      <td>0</td>\n",
       "      <td>0</td>\n",
       "      <td>0</td>\n",
       "      <td>0.0</td>\n",
       "      <td>0.0</td>\n",
       "      <td>0.0</td>\n",
       "      <td>...</td>\n",
       "      <td>NaN</td>\n",
       "      <td>37.746</td>\n",
       "      <td>0.5</td>\n",
       "      <td>64.83</td>\n",
       "      <td>38041.754</td>\n",
       "      <td>1.0233</td>\n",
       "      <td>652230.0</td>\n",
       "      <td>58.3257</td>\n",
       "      <td>22.0</td>\n",
       "      <td>74792.0</td>\n",
       "    </tr>\n",
       "    <tr>\n",
       "      <th>2</th>\n",
       "      <td>Afghanistan</td>\n",
       "      <td>33.0</td>\n",
       "      <td>65.0</td>\n",
       "      <td>01/24/2020</td>\n",
       "      <td>0</td>\n",
       "      <td>0</td>\n",
       "      <td>0</td>\n",
       "      <td>0.0</td>\n",
       "      <td>0.0</td>\n",
       "      <td>0.0</td>\n",
       "      <td>...</td>\n",
       "      <td>NaN</td>\n",
       "      <td>37.746</td>\n",
       "      <td>0.5</td>\n",
       "      <td>64.83</td>\n",
       "      <td>38041.754</td>\n",
       "      <td>1.0233</td>\n",
       "      <td>652230.0</td>\n",
       "      <td>58.3257</td>\n",
       "      <td>22.0</td>\n",
       "      <td>74792.0</td>\n",
       "    </tr>\n",
       "    <tr>\n",
       "      <th>3</th>\n",
       "      <td>Afghanistan</td>\n",
       "      <td>33.0</td>\n",
       "      <td>65.0</td>\n",
       "      <td>01/25/2020</td>\n",
       "      <td>0</td>\n",
       "      <td>0</td>\n",
       "      <td>0</td>\n",
       "      <td>0.0</td>\n",
       "      <td>0.0</td>\n",
       "      <td>0.0</td>\n",
       "      <td>...</td>\n",
       "      <td>NaN</td>\n",
       "      <td>37.746</td>\n",
       "      <td>0.5</td>\n",
       "      <td>64.83</td>\n",
       "      <td>38041.754</td>\n",
       "      <td>1.0233</td>\n",
       "      <td>652230.0</td>\n",
       "      <td>58.3257</td>\n",
       "      <td>22.0</td>\n",
       "      <td>74792.0</td>\n",
       "    </tr>\n",
       "    <tr>\n",
       "      <th>4</th>\n",
       "      <td>Afghanistan</td>\n",
       "      <td>33.0</td>\n",
       "      <td>65.0</td>\n",
       "      <td>01/26/2020</td>\n",
       "      <td>0</td>\n",
       "      <td>0</td>\n",
       "      <td>0</td>\n",
       "      <td>0.0</td>\n",
       "      <td>0.0</td>\n",
       "      <td>0.0</td>\n",
       "      <td>...</td>\n",
       "      <td>NaN</td>\n",
       "      <td>37.746</td>\n",
       "      <td>0.5</td>\n",
       "      <td>64.83</td>\n",
       "      <td>38041.754</td>\n",
       "      <td>1.0233</td>\n",
       "      <td>652230.0</td>\n",
       "      <td>58.3257</td>\n",
       "      <td>22.0</td>\n",
       "      <td>74792.0</td>\n",
       "    </tr>\n",
       "  </tbody>\n",
       "</table>\n",
       "<p>5 rows × 60 columns</p>\n",
       "</div>"
      ],
      "text/plain": [
       "       Country   Lat  Long        Date  Confirmed  Deaths  Recovered  \\\n",
       "0  Afghanistan  33.0  65.0  01/22/2020          0       0          0   \n",
       "1  Afghanistan  33.0  65.0  01/23/2020          0       0          0   \n",
       "2  Afghanistan  33.0  65.0  01/24/2020          0       0          0   \n",
       "3  Afghanistan  33.0  65.0  01/25/2020          0       0          0   \n",
       "4  Afghanistan  33.0  65.0  01/26/2020          0       0          0   \n",
       "\n",
       "   C1_School closing  C2_Workplace closing  C3_Cancel public events   ...     \\\n",
       "0                0.0                   0.0                      0.0   ...      \n",
       "1                0.0                   0.0                      0.0   ...      \n",
       "2                0.0                   0.0                      0.0   ...      \n",
       "3                0.0                   0.0                      0.0   ...      \n",
       "4                0.0                   0.0                      0.0   ...      \n",
       "\n",
       "   male_smokers  handwashing_facilities  hospital_beds_per_thousand  \\\n",
       "0           NaN                  37.746                         0.5   \n",
       "1           NaN                  37.746                         0.5   \n",
       "2           NaN                  37.746                         0.5   \n",
       "3           NaN                  37.746                         0.5   \n",
       "4           NaN                  37.746                         0.5   \n",
       "\n",
       "   life_expectancy  Population  GrowthRate      Area  Density  Airports  \\\n",
       "0            64.83   38041.754      1.0233  652230.0  58.3257      22.0   \n",
       "1            64.83   38041.754      1.0233  652230.0  58.3257      22.0   \n",
       "2            64.83   38041.754      1.0233  652230.0  58.3257      22.0   \n",
       "3            64.83   38041.754      1.0233  652230.0  58.3257      22.0   \n",
       "4            64.83   38041.754      1.0233  652230.0  58.3257      22.0   \n",
       "\n",
       "       GDP  \n",
       "0  74792.0  \n",
       "1  74792.0  \n",
       "2  74792.0  \n",
       "3  74792.0  \n",
       "4  74792.0  \n",
       "\n",
       "[5 rows x 60 columns]"
      ]
     },
     "execution_count": 8,
     "metadata": {},
     "output_type": "execute_result"
    }
   ],
   "source": [
    "cov_ds = pd.read_csv('../Covid_19_aggregated.csv')\n",
    "print(cov_ds.shape)\n",
    "cov_ds.head()"
   ]
  },
  {
   "cell_type": "code",
   "execution_count": 9,
   "metadata": {},
   "outputs": [],
   "source": [
    "cov_ds = cov_ds.merge(tda_ds.reset_index())"
   ]
  },
  {
   "cell_type": "code",
   "execution_count": 10,
   "metadata": {},
   "outputs": [],
   "source": [
    "cov_ds['Date_dt'] = pd.to_datetime(cov_ds['Date'])"
   ]
  },
  {
   "cell_type": "code",
   "execution_count": 11,
   "metadata": {},
   "outputs": [
    {
     "data": {
      "text/plain": [
       "Index(['TDA_anomaly_death_1', 'TDA_anomaly_death_2', 'TDA_anomaly_death_3'], dtype='object')"
      ]
     },
     "execution_count": 11,
     "metadata": {},
     "output_type": "execute_result"
    }
   ],
   "source": [
    "tda_ds.columns"
   ]
  },
  {
   "cell_type": "code",
   "execution_count": 12,
   "metadata": {},
   "outputs": [],
   "source": [
    "cov_ds['Confirmed_lag1'] = None\n",
    "for v in cov_ds['Country'].unique():\n",
    "    cds = cov_ds[cov_ds['Country']==v].sort_values('Date_dt')\n",
    "    cov_ds.loc[cds.index, 'Confirmed_lag1'] = cds['Confirmed'].shift(1)\n",
    "#cov_ds['Confirmed_lag1'] = cds['Confirmed'].shift(1)"
   ]
  },
  {
   "cell_type": "raw",
   "metadata": {},
   "source": [
    "cds = cov_ds[cov_ds['Country']=='Afghanistan'].sort_values('Date_dt')"
   ]
  },
  {
   "cell_type": "raw",
   "metadata": {},
   "source": [
    "cov_ds['Confirmed_lag1'] = cds['Confirmed'].shift(1)"
   ]
  },
  {
   "cell_type": "code",
   "execution_count": 13,
   "metadata": {},
   "outputs": [],
   "source": [
    "cov_ds['Confirmed_diff'] = cov_ds['Confirmed']-cov_ds['Confirmed_lag1']"
   ]
  },
  {
   "cell_type": "code",
   "execution_count": 14,
   "metadata": {},
   "outputs": [],
   "source": [
    "cov_ds = cov_ds[cov_ds['Date_dt']>'2020-01-22']"
   ]
  },
  {
   "cell_type": "code",
   "execution_count": 15,
   "metadata": {},
   "outputs": [],
   "source": [
    "cov_ds['Confirmed_diff'] = cov_ds['Confirmed_diff'].astype(float)"
   ]
  },
  {
   "cell_type": "code",
   "execution_count": null,
   "metadata": {},
   "outputs": [],
   "source": []
  },
  {
   "cell_type": "code",
   "execution_count": 16,
   "metadata": {},
   "outputs": [
    {
     "name": "stderr",
     "output_type": "stream",
     "text": [
      "/home/egor/anaconda3/lib/python3.7/site-packages/ipykernel_launcher.py:5: RuntimeWarning: divide by zero encountered in log1p\n",
      "  \"\"\"\n",
      "/home/egor/anaconda3/lib/python3.7/site-packages/ipykernel_launcher.py:5: RuntimeWarning: invalid value encountered in log1p\n",
      "  \"\"\"\n"
     ]
    }
   ],
   "source": [
    "for f in ['Confirmed','Deaths','Recovered', 'Confirmed_diff']:\n",
    "    cov_ds[f\"{f}_per_kpop\"] = cov_ds[f]/cov_ds['Population']\n",
    "    cov_ds[f\"{f}_per_pop\"] = cov_ds[f]/cov_ds['Population']/1000\n",
    "    cov_ds[f\"{f}_per_pop_perc\"] = cov_ds[f]/cov_ds['Population']/1000*100\n",
    "    cov_ds[f\"{f}_log\"] = np.log1p(cov_ds[f])"
   ]
  },
  {
   "cell_type": "code",
   "execution_count": null,
   "metadata": {},
   "outputs": [],
   "source": []
  },
  {
   "cell_type": "code",
   "execution_count": 17,
   "metadata": {},
   "outputs": [],
   "source": [
    "xticks = list(cov_ds['Date_dt'].sort_values().drop_duplicates())[::7]"
   ]
  },
  {
   "cell_type": "code",
   "execution_count": 18,
   "metadata": {},
   "outputs": [],
   "source": [
    "yticks = np.array([0,1,3,10,30,100,300, 1000,3000, 10000, 30000])"
   ]
  },
  {
   "cell_type": "code",
   "execution_count": 44,
   "metadata": {},
   "outputs": [
    {
     "data": {
      "image/png": "[encoded data removed]",
      "text/plain": [
       "<Figure size 1080x360 with 1 Axes>"
      ]
     },
     "metadata": {
      "needs_background": "light"
     },
     "output_type": "display_data"
    }
   ],
   "source": [
    "plt.figure(figsize=(15,5))\n",
    "f = 'TDA_anomaly_death_1'\n",
    "for v in tda_ds[f].value_counts().index:\n",
    "    sns.lineplot(x='Date_dt', y='Deaths_log', data=cov_ds[cov_ds[f]==v],\n",
    "                 label=f\"Cluster {v} ({(tda_ds[f]==v).sum()} countries)\", palette='Accent',\n",
    "                err_kws={'alpha':0.2})\n",
    "plt.xticks(xticks, [str(x)[:10] for x in xticks], rotation=45)\n",
    "plt.yticks(np.log1p(yticks), yticks)\n",
    "for v in tda_ds[f].value_counts().index[1:]:\n",
    "    #if v==tda_ds[f].max():\n",
    "    #    continue\n",
    "    mean = cov_ds.loc[(cov_ds[f]==v)&(cov_ds['Date_dt']==xticks[-1]), 'Deaths_log'].mean()\n",
    "    cntrs = ', '.join(list(tda_ds[tda_ds[f]==v].index))\n",
    "    plt.text(xticks[-7], mean+0.1 if v not in [3,15] else mean-0.5, cntrs)\n",
    "\n",
    "plt.title(f\"Topological Data Analysis. The First Layer\")\n",
    "plt.ylabel('Deaths')\n",
    "plt.xlabel('Date')\n",
    "plt.show()"
   ]
  },
  {
   "cell_type": "raw",
   "metadata": {},
   "source": [
    "tda_ds.loc[tda_ds['TDA_anomaly_diff_1']==2, 'TDA_final'] = 'Ships'"
   ]
  },
  {
   "cell_type": "code",
   "execution_count": 46,
   "metadata": {},
   "outputs": [],
   "source": [
    "from datetime import timedelta"
   ]
  },
  {
   "cell_type": "code",
   "execution_count": 50,
   "metadata": {},
   "outputs": [
    {
     "data": {
      "text/plain": [
       "1.0     158\n",
       "16.0     13\n",
       "2.0      10\n",
       "3.0       3\n",
       "8.0       1\n",
       "15.0      1\n",
       "Name: TDA_anomaly_death_2, dtype: int64"
      ]
     },
     "execution_count": 50,
     "metadata": {},
     "output_type": "execute_result"
    }
   ],
   "source": [
    "tda_ds['TDA_anomaly_death_2'].value_counts()"
   ]
  },
  {
   "cell_type": "code",
   "execution_count": 59,
   "metadata": {},
   "outputs": [
    {
     "data": {
      "image/png": "[encoded data removed]",
      "text/plain": [
       "<Figure size 1080x360 with 1 Axes>"
      ]
     },
     "metadata": {
      "needs_background": "light"
     },
     "output_type": "display_data"
    }
   ],
   "source": [
    "plt.figure(figsize=(15,5))\n",
    "f = 'TDA_anomaly_death_2'\n",
    "for v in tda_ds[f].value_counts().index[:]:\n",
    "    if v==tda_ds[f].max():\n",
    "        continue\n",
    "    #pop_mean = cov_ds[cov_ds[f]==v].groupby('Country')['Population'].mean().median()\n",
    "    #sns.lineplot(x='Date_dt', y='Confirmed_log', data=cov_ds[cov_ds[f]==v],\n",
    "    sns.lineplot(x='Date_dt', y='Deaths_log', data=cov_ds[cov_ds[f]==v],\n",
    "    #sns.lineplot(x='Date_dt', y='Confirmed_per_pop', data=cov_ds[cov_ds[f]==v],\n",
    "                 #label=f\"Cluster {v} ({(tda_ds[f]==v).sum()} countries) (median pop: {pop_mean:.0f}\"+\" k)\" if pop_mean is not None else \")\",\n",
    "                 label=f\"Cluster {v} ({(tda_ds[f]==v).sum()} countries)\",\n",
    "                 palette='Accent', err_kws={'alpha':0.1})\n",
    "plt.xticks(xticks[4:], [str(x)[:10] for x in xticks][4:], rotation=45)\n",
    "plt.xlim((xticks[4], plt.xlim()[-1]))\n",
    "plt.yticks(np.log1p(yticks[:-3]), yticks[:-3])\n",
    "\n",
    "for v in tda_ds[f].value_counts().index[3:]:\n",
    "    if v==tda_ds[f].max():\n",
    "        continue\n",
    "    mean = cov_ds.loc[(cov_ds[f]==v)&(cov_ds['Date_dt']==xticks[-1]), 'Deaths_log'].mean()\n",
    "    cntrs = ', '.join(list(tda_ds[tda_ds[f]==v].index))\n",
    "    plt.text(xticks[-2], mean, cntrs)\n",
    "    #plt.text(xticks[-1], mean+0.1, f\"Confirmed cases: {np.expm1(mean):.0f}\")\n",
    "\n",
    "plt.title(f\"Topological Data Analysis. The Second Layer. Outliers\")\n",
    "plt.ylabel('Confirmed difference')\n",
    "plt.xlabel('Date')\n",
    "plt.show()"
   ]
  },
  {
   "cell_type": "code",
   "execution_count": 58,
   "metadata": {},
   "outputs": [
    {
     "data": {
      "text/html": [
       "<div>\n",
       "<style scoped>\n",
       "    .dataframe tbody tr th:only-of-type {\n",
       "        vertical-align: middle;\n",
       "    }\n",
       "\n",
       "    .dataframe tbody tr th {\n",
       "        vertical-align: top;\n",
       "    }\n",
       "\n",
       "    .dataframe thead th {\n",
       "        text-align: right;\n",
       "    }\n",
       "</style>\n",
       "<table border=\"1\" class=\"dataframe\">\n",
       "  <thead>\n",
       "    <tr style=\"text-align: right;\">\n",
       "      <th></th>\n",
       "      <th>TDA_anomaly_death_1</th>\n",
       "      <th>TDA_anomaly_death_2</th>\n",
       "      <th>TDA_anomaly_death_3</th>\n",
       "    </tr>\n",
       "    <tr>\n",
       "      <th>Country</th>\n",
       "      <th></th>\n",
       "      <th></th>\n",
       "      <th></th>\n",
       "    </tr>\n",
       "  </thead>\n",
       "  <tbody>\n",
       "    <tr>\n",
       "      <th>Qatar</th>\n",
       "      <td>1</td>\n",
       "      <td>8.0</td>\n",
       "      <td>16.0</td>\n",
       "    </tr>\n",
       "  </tbody>\n",
       "</table>\n",
       "</div>"
      ],
      "text/plain": [
       "         TDA_anomaly_death_1  TDA_anomaly_death_2  TDA_anomaly_death_3\n",
       "Country                                                               \n",
       "Qatar                      1                  8.0                 16.0"
      ]
     },
     "execution_count": 58,
     "metadata": {},
     "output_type": "execute_result"
    }
   ],
   "source": [
    "tda_ds[tda_ds['TDA_anomaly_death_2']==8]"
   ]
  },
  {
   "cell_type": "code",
   "execution_count": 25,
   "metadata": {},
   "outputs": [
    {
     "data": {
      "text/html": [
       "<div>\n",
       "<style scoped>\n",
       "    .dataframe tbody tr th:only-of-type {\n",
       "        vertical-align: middle;\n",
       "    }\n",
       "\n",
       "    .dataframe tbody tr th {\n",
       "        vertical-align: top;\n",
       "    }\n",
       "\n",
       "    .dataframe thead th {\n",
       "        text-align: right;\n",
       "    }\n",
       "</style>\n",
       "<table border=\"1\" class=\"dataframe\">\n",
       "  <thead>\n",
       "    <tr style=\"text-align: right;\">\n",
       "      <th></th>\n",
       "      <th>TDA_anomaly_diff_1</th>\n",
       "      <th>TDA_anomaly_diff_2</th>\n",
       "      <th>TDA_anomaly_diff_3</th>\n",
       "      <th>TDA_final</th>\n",
       "    </tr>\n",
       "    <tr>\n",
       "      <th>Country</th>\n",
       "      <th></th>\n",
       "      <th></th>\n",
       "      <th></th>\n",
       "      <th></th>\n",
       "    </tr>\n",
       "  </thead>\n",
       "  <tbody>\n",
       "    <tr>\n",
       "      <th>Andorra</th>\n",
       "      <td>1</td>\n",
       "      <td>5.0</td>\n",
       "      <td>16.0</td>\n",
       "      <td>NaN</td>\n",
       "    </tr>\n",
       "    <tr>\n",
       "      <th>Holy See</th>\n",
       "      <td>1</td>\n",
       "      <td>15.0</td>\n",
       "      <td>16.0</td>\n",
       "      <td>NaN</td>\n",
       "    </tr>\n",
       "    <tr>\n",
       "      <th>Liechtenstein</th>\n",
       "      <td>1</td>\n",
       "      <td>3.0</td>\n",
       "      <td>16.0</td>\n",
       "      <td>NaN</td>\n",
       "    </tr>\n",
       "    <tr>\n",
       "      <th>Luxembourg</th>\n",
       "      <td>1</td>\n",
       "      <td>3.0</td>\n",
       "      <td>16.0</td>\n",
       "      <td>NaN</td>\n",
       "    </tr>\n",
       "    <tr>\n",
       "      <th>San Marino</th>\n",
       "      <td>1</td>\n",
       "      <td>9.0</td>\n",
       "      <td>16.0</td>\n",
       "      <td>NaN</td>\n",
       "    </tr>\n",
       "    <tr>\n",
       "      <th>Sao Tome and Principe</th>\n",
       "      <td>1</td>\n",
       "      <td>3.0</td>\n",
       "      <td>16.0</td>\n",
       "      <td>NaN</td>\n",
       "    </tr>\n",
       "  </tbody>\n",
       "</table>\n",
       "</div>"
      ],
      "text/plain": [
       "                       TDA_anomaly_diff_1  TDA_anomaly_diff_2  \\\n",
       "Country                                                         \n",
       "Andorra                                 1                 5.0   \n",
       "Holy See                                1                15.0   \n",
       "Liechtenstein                           1                 3.0   \n",
       "Luxembourg                              1                 3.0   \n",
       "San Marino                              1                 9.0   \n",
       "Sao Tome and Principe                   1                 3.0   \n",
       "\n",
       "                       TDA_anomaly_diff_3 TDA_final  \n",
       "Country                                              \n",
       "Andorra                              16.0       NaN  \n",
       "Holy See                             16.0       NaN  \n",
       "Liechtenstein                        16.0       NaN  \n",
       "Luxembourg                           16.0       NaN  \n",
       "San Marino                           16.0       NaN  \n",
       "Sao Tome and Principe                16.0       NaN  "
      ]
     },
     "execution_count": 25,
     "metadata": {},
     "output_type": "execute_result"
    }
   ],
   "source": [
    "tda_ds[tda_ds['TDA_anomaly_diff_2'].isin([3,9,15,5])]"
   ]
  },
  {
   "cell_type": "code",
   "execution_count": null,
   "metadata": {},
   "outputs": [],
   "source": []
  },
  {
   "cell_type": "raw",
   "metadata": {},
   "source": [
    "tda_ds.loc[tda_ds['TDA_anomaly_dict_2'].isin([8,15,4,3]), 'TDA_final'] = 'Small Countries, infected early March'"
   ]
  },
  {
   "cell_type": "raw",
   "metadata": {},
   "source": [
    "plt.figure(figsize=(15,5))\n",
    "f = 'TDA_anomaly_diff_2'\n",
    "for v in tda_ds[f].value_counts().index[:2]:\n",
    "    pop_mean = cov_ds[cov_ds[f]==v].groupby('Country')['Population'].mean().median()\n",
    "#    sns.lineplot(x='Date_dt', y='Confirmed_per_pop', data=cov_ds[cov_ds[f]==v],\n",
    "    sns.lineplot(x='Date_dt', y='Confirmed_diff_per_kpop', data=cov_ds[cov_ds[f]==v],\n",
    "                 label=f\"Cluster {v} ({(tda_ds[f]==v).sum()} countries)\",\n",
    "                 palette='Accent', err_kws={'alpha':0.1})\n",
    "plt.xticks(xticks[4:], [str(x)[:10] for x in xticks][4:], rotation=45)\n",
    "plt.xlim((xticks[4], plt.xlim()[-1]))\n",
    "#plt.yticks(np.log1p(yticks), yticks)\n",
    "\n",
    "for idx, cntry in enumerate(sorted(tda_ds[tda_ds[f]==2].index)):\n",
    "    x_idx, y_idx = idx%4, idx//4\n",
    "    cntry = cntry if cntry!=\"United Kingdom\" else 'UK'\n",
    "    cntry = cntry if cntry!='United States' else 'USA'\n",
    "    plt.text(xticks[-6]+timedelta(days=x_idx*9), 2e-1-y_idx*2e-2, cntry)\n",
    "    #plt.text(xticks[-6]+timedelta(days=x_idx*9), 0.005-y_idx*5e-4, cntry)\n",
    "    #plt.text(xticks[-6]+timedelta(days=x_idx*9), 125000-y_idx*1e4, cntry)\n",
    "\n",
    "plt.title(f\"Topological Data Analysis. The Second Layer. Big Clusters\")\n",
    "plt.ylabel('Confirmed difference per thousand')\n",
    "plt.xlabel('Date')\n",
    "plt.show()"
   ]
  },
  {
   "cell_type": "raw",
   "metadata": {},
   "source": [
    "(tda_ds['TDA_anomaly_diff_2']==tda_ds['TDA_anomaly_diff_3']).mean()"
   ]
  },
  {
   "cell_type": "raw",
   "metadata": {},
   "source": [
    "tda_ds.loc[tda_ds['TDA_anomaly_dict_2']==2, 'TDA_final'] = 'The most infected'"
   ]
  },
  {
   "cell_type": "raw",
   "metadata": {},
   "source": [
    "plt.figure(figsize=(15,5))\n",
    "f = 'TDA_anomaly_diff_3'\n",
    "for v in tda_ds[f].value_counts().index[5:]:\n",
    "    #if v==0:\n",
    "    #    continue\n",
    "    pop_mean = cov_ds[cov_ds[f]==v].groupby('Country')['Population'].mean().median()\n",
    "#    sns.lineplot(x='Date_dt', y='Confirmed_log', data=cov_ds[cov_ds[f]==v],\n",
    "#                 label=f\"Cluster {v} ({(tda_ds[f]==v).sum()} countries) (median pop: {pop_mean:.0f}\"+\" k)\" if pop_mean is not None else \")\",\n",
    "    sns.lineplot(x='Date_dt', y='Confirmed_diff_per_kpop', data=cov_ds[cov_ds[f]==v],\n",
    "                 label=f\"Cluster {v} ({(tda_ds[f]==v).sum()} countries)\",\n",
    "                 palette='Accent', err_kws={'alpha':0.1})\n",
    "plt.xticks(xticks[4:], [str(x)[:10] for x in xticks][4:], rotation=45)\n",
    "plt.xlim((xticks[4], plt.xlim()[-1]))\n",
    "#plt.yticks(np.log1p(yticks), yticks)\n",
    "\n",
    "#for v in tda_ds[f].value_counts().index[3:]:\n",
    "    #if v==0:\n",
    "    #    continue\n",
    "#    mean = cov_ds.loc[(cov_ds[f]==v)&(cov_ds['Date_dt']==xticks[-1]), 'Confirmed_per_pop'].mean()\n",
    "#    cntrs = ', '.join(list(tda_ds[tda_ds[f]==v].index))\n",
    "#    plt.text(xticks[-2], mean, cntrs)\n",
    "    #plt.text(xticks[-1], mean+0.1, f\"Confirmed cases: {np.expm1(mean):.0f}\")\n",
    "\n",
    "plt.title(f\"Topological Data Analysis. The Third Layer. Outliers\")\n",
    "plt.ylabel('Confirmed per thousand')\n",
    "plt.xlabel('Date')\n",
    "plt.show()"
   ]
  },
  {
   "cell_type": "raw",
   "metadata": {},
   "source": [
    "tda_ds[tda_ds['TDA_anomaly_diff_3']==15]"
   ]
  },
  {
   "cell_type": "raw",
   "metadata": {},
   "source": [
    "tda_ds.loc[tda_ds['TDA_anomaly_dict_3'].isin([3,9,10,5,4,7,14,8,6,11]), 'TDA_final'] = 'Medium infection'\n",
    "tda_ds.loc[tda_ds['TDA_anomaly_dict_3'].isin([15]), 'TDA_final'] = 'Medium infection, speed up in May'"
   ]
  },
  {
   "cell_type": "raw",
   "metadata": {},
   "source": []
  },
  {
   "cell_type": "raw",
   "metadata": {},
   "source": [
    "plt.figure(figsize=(15,5))\n",
    "f = 'TDA_anomaly_diff_3'\n",
    "for v in tda_ds[f].value_counts().index[:5]:\n",
    "    if v==tda_ds[f].max():\n",
    "        continue\n",
    "    pop_mean = cov_ds[cov_ds[f]==v].groupby('Country')['Population'].mean().median()\n",
    "    #sns.lineplot(x='Date_dt', y='Confirmed_log', data=cov_ds[cov_ds[f]==v],\n",
    "    sns.lineplot(x='Date_dt', y='Confirmed_diff_per_kpop', data=cov_ds[cov_ds[f]==v],\n",
    "                 label=f\"Cluster {v} ({(tda_ds[f]==v).sum()} countries)\",\n",
    "                 palette='Accent', err_kws={'alpha':0.1})\n",
    "plt.xticks(xticks[4:], [str(x)[:10] for x in xticks][4:], rotation=45)\n",
    "plt.xlim((xticks[4], plt.xlim()[-1]))\n",
    "#plt.yticks(np.log1p(yticks), yticks)\n",
    "\n",
    "#y_coord = cov_ds[(cov_ds['Date_dt']==xticks[-1])&(cov_ds['Country'].isin(tda_ds[tda_ds[f]==2].index))]['Confirmed'].mean()\n",
    "y_coord = cov_ds[(cov_ds['Date_dt']==xticks[-1])&(cov_ds['Country'].isin(tda_ds[tda_ds[f]==2].index))]['Confirmed_diff_per_kpop'].mean()\n",
    "for idx, cntry in enumerate(sorted(tda_ds[tda_ds[f]==2].index)):\n",
    "    x_idx, y_idx = idx%6, idx//6\n",
    "    cntry = cntry if cntry!=\"United Kingdom\" else 'UK'\n",
    "    cntry = cntry if cntry!='United States' else 'USA'\n",
    "    #plt.text(xticks[-10]+timedelta(days=x_idx*10), np.log1p(y_coord)-y_idx*0.7, cntry)\n",
    "#    plt.text(xticks[-10]+timedelta(days=x_idx*10), np.log1p(y_coord)-y_idx*1e-1, cntry)\n",
    "\n",
    "plt.title(f\"Topological Data Analysis. The Third Layer. Big clusters\")\n",
    "plt.ylabel('Confirmed per day per thousand')\n",
    "plt.xlabel('Date')\n",
    "plt.show()"
   ]
  },
  {
   "cell_type": "raw",
   "metadata": {},
   "source": [
    "plt.figure(figsize=(15,5))\n",
    "f = 'TDA_anomaly_diff_3'\n",
    "for v in tda_ds[f].value_counts().index[:5]:\n",
    "    if v==tda_ds[f].max():\n",
    "        continue\n",
    "    pop_mean = cov_ds[cov_ds[f]==v].groupby('Country')['Population'].mean().median()\n",
    "    #sns.lineplot(x='Date_dt', y='Confirmed_log', data=cov_ds[cov_ds[f]==v],\n",
    "    sns.lineplot(x='Date_dt', y='Confirmed_diff_per_kpop', data=cov_ds[cov_ds[f]==v],\n",
    "                 label=f\"Cluster {v} ({(tda_ds[f]==v).sum()} countries)\",\n",
    "                 palette='Accent', err_kws={'alpha':0.1})\n",
    "plt.xticks(xticks[4:], [str(x)[:10] for x in xticks][4:], rotation=45)\n",
    "plt.xlim((xticks[4], plt.xlim()[-1]))\n",
    "#plt.yticks(np.log1p(yticks), yticks)\n",
    "\n",
    "#y_coord = cov_ds[(cov_ds['Date_dt']==xticks[-1])&(cov_ds['Country'].isin(tda_ds[tda_ds[f]==2].index))]['Confirmed'].mean()\n",
    "y_coord = cov_ds[(cov_ds['Date_dt']==xticks[-1])&(cov_ds['Country'].isin(tda_ds[tda_ds[f]==2].index))]['Confirmed_diff_per_kpop'].mean()\n",
    "for idx, cntry in enumerate(sorted(tda_ds[tda_ds[f]==2].index)):\n",
    "    x_idx, y_idx = idx%6, idx//6\n",
    "    cntry = cntry if cntry!=\"United Kingdom\" else 'UK'\n",
    "    cntry = cntry if cntry!='United States' else 'USA'\n",
    "    #plt.text(xticks[-10]+timedelta(days=x_idx*10), np.log1p(y_coord)-y_idx*0.7, cntry)\n",
    "#    plt.text(xticks[-10]+timedelta(days=x_idx*10), np.log1p(y_coord)-y_idx*1e-1, cntry)\n",
    "\n",
    "plt.title(f\"Topological Data Analysis. The Third Layer. Big clusters\")\n",
    "plt.ylabel('Confirmed per day per thousand')\n",
    "plt.xlabel('Date')\n",
    "plt.show()"
   ]
  },
  {
   "cell_type": "raw",
   "metadata": {},
   "source": [
    "plt.figure(figsize=(15,5))\n",
    "f = 'TDA_anomaly_diff_3'\n",
    "for v in tda_ds[tda_ds['TDA_anomaly_diff_3']==4].index:\n",
    "    if v==tda_ds[f].max():\n",
    "        continue\n",
    "    #sns.lineplot(x='Date_dt', y='Confirmed_log', data=cov_ds[cov_ds[f]==v],\n",
    "    sns.lineplot(x='Date_dt', y='Confirmed_diff', data=cov_ds[cov_ds['Country']==v],\n",
    "                 label=f\"Country {v}\",\n",
    "                 palette='Accent', err_kws={'alpha':0.1})\n",
    "plt.xticks(xticks[4:], [str(x)[:10] for x in xticks][4:], rotation=45)\n",
    "plt.xlim((xticks[4], plt.xlim()[-1]))\n",
    "plt.title('Cluster 4 of the third diff layer (red one)')\n",
    "plt.show()"
   ]
  },
  {
   "cell_type": "raw",
   "metadata": {},
   "source": [
    "cov_ds.loc[(cov_ds['Country']=='Lithuania')&(cov_ds['Date_dt']>='2020-04-23')][['Date','Confirmed','Confirmed_diff']]"
   ]
  },
  {
   "cell_type": "raw",
   "metadata": {},
   "source": []
  },
  {
   "cell_type": "raw",
   "metadata": {},
   "source": [
    "tda_ds[tda_ds['TDA_anomaly_diff_3']==4]"
   ]
  },
  {
   "cell_type": "raw",
   "metadata": {},
   "source": [
    "tda_ds[]"
   ]
  },
  {
   "cell_type": "raw",
   "metadata": {},
   "source": [
    "tda_ds.loc[tda_ds['TDA_anomaly_dict_3']==2, 'TDA_final'] = 'Small infection in the end of March'"
   ]
  },
  {
   "cell_type": "raw",
   "metadata": {},
   "source": [
    "tda_ds.loc[tda_ds.index=='Holy See', 'TDA_final'] = 'Holy See'"
   ]
  },
  {
   "cell_type": "raw",
   "metadata": {},
   "source": []
  },
  {
   "cell_type": "raw",
   "metadata": {},
   "source": [
    "f = 'TDA_final'\n",
    "d = tda_ds[f].to_dict()\n",
    "cov_ds[f] = cov_ds['Country'].apply(lambda x: d[x])"
   ]
  },
  {
   "cell_type": "raw",
   "metadata": {},
   "source": [
    "plt.figure(figsize=(15,5))\n",
    "f = 'TDA_final'\n",
    "for v in tda_ds[f].value_counts().index[:6]:\n",
    "    if v==tda_ds[f].max():\n",
    "        continue\n",
    " #   sns.lineplot(x='Date_dt', y='Confirmed_log', data=cov_ds[cov_ds[f]==v],\n",
    "    sns.lineplot(x='Date_dt', y='Confirmed_per_kpop', data=cov_ds[cov_ds[f]==v],\n",
    "                 label=f\"Cluster {v} ({(tda_ds[f]==v).sum()} countries)\",\n",
    "                 palette='Accent', err_kws={'alpha':0.1})\n",
    "plt.xticks(xticks[4:], [str(x)[:10] for x in xticks][4:], rotation=45)\n",
    "plt.xlim((xticks[4], plt.xlim()[-1]))\n",
    "#plt.yticks(np.log1p(yticks), yticks)\n",
    "\n",
    "#y_coord = cov_ds[(cov_ds['Date_dt']==xticks[-1])&(cov_ds['Country'].isin(tda_ds[tda_ds[f]==2].index))]['Confirmed'].mean()\n",
    "#for idx, cntry in enumerate(sorted(tda_ds[tda_ds[f]==2].index)):\n",
    "#    x_idx, y_idx = idx%6, idx//6\n",
    "#    cntry = cntry if cntry!=\"United Kingdom\" else 'UK'\n",
    "#    cntry = cntry if cntry!='United States' else 'USA'\n",
    "#    plt.text(xticks[-10]+timedelta(days=x_idx*10), np.log1p(y_coord)-y_idx*0.7, cntry)\n",
    "\n",
    "plt.title(f\"Topological Data Analysis. The biggest clusters\")\n",
    "plt.ylabel('Confirmed per thousand')\n",
    "plt.xlabel('Date')\n",
    "plt.show()"
   ]
  },
  {
   "cell_type": "raw",
   "metadata": {},
   "source": [
    "d = cov_ds[cov_ds['Date_dt']==xticks[-1]][\n",
    "    ['Country','TDA_final','Confirmed_per_kpop']].drop_duplicates().groupby('TDA_final')[\n",
    "    'Confirmed_per_kpop'].mean().fillna(0).sort_values(ascending=True)\n",
    "d = pd.Series([idx for idx, x in enumerate(d.index)], index=d.index)"
   ]
  },
  {
   "cell_type": "raw",
   "metadata": {},
   "source": [
    "tda_ds['TDA_final_code'] = tda_ds['TDA_final'].apply(lambda x: d.to_dict()[x])"
   ]
  },
  {
   "cell_type": "raw",
   "metadata": {},
   "source": [
    "tda_ds['TDA_final_short'] = None\n",
    "tda_ds.loc[tda_ds['TDA_final'].isin(['Medium infection']), 'TDA_final_short'] = 'Medium infection'\n",
    "tda_ds.loc[tda_ds['TDA_final'].isin(['Never Infected']), 'TDA_final_short'] = 'Never Infected'\n",
    "tda_ds.loc[tda_ds['TDA_final'].isin(['Rare infected, speed4','Rare infected, speed3']), 'TDA_final_short'] = 'Rare infected, high speed'\n",
    "tda_ds.loc[tda_ds['TDA_final'].isin(['Rare infected, speed1','Rare infected, speed2']), 'TDA_final_short'] = 'Rare infected, slow speed'\n",
    "tda_ds.loc[tda_ds['TDA_final'].isin(['The most infected']), 'TDA_final_short'] = 'The most infected'\n",
    "tda_ds.loc[tda_ds['TDA_final'].isin(['Ships','Holy See']), 'TDA_final_short'] = 'Quasi countries'\n",
    "tda_ds.loc[tda_ds['TDA_final'].isin(['Small infection in the end of March']), 'TDA_final_short'] = 'Small infection in the end of March'\n",
    "tda_ds.loc[tda_ds['TDA_final_short'].isna(), 'TDA_final_short'] = 'Outliers'"
   ]
  },
  {
   "cell_type": "raw",
   "metadata": {},
   "source": [
    "f = 'TDA_final_short'\n",
    "d = tda_ds[f].to_dict()\n",
    "cov_ds[f] = cov_ds['Country'].apply(lambda x: d[x])"
   ]
  },
  {
   "cell_type": "raw",
   "metadata": {},
   "source": [
    "d = cov_ds[cov_ds['Date_dt']==xticks[-1]][\n",
    "    ['Country','TDA_final_short','Confirmed_per_kpop']].drop_duplicates().groupby('TDA_final_short')[\n",
    "    'Confirmed_per_kpop'].mean().fillna(0).sort_values(ascending=True)\n",
    "d = pd.Series([idx for idx, x in enumerate(d.index)], index=d.index)"
   ]
  },
  {
   "cell_type": "raw",
   "metadata": {},
   "source": [
    "tda_ds['TDA_final_short_code'] = tda_ds['TDA_final_short'].apply(lambda x: d.to_dict()[x])"
   ]
  },
  {
   "cell_type": "raw",
   "metadata": {},
   "source": [
    "tda_ds.to_csv('../TDA_confirmed_anomalies.csv')"
   ]
  }
 ],
 "metadata": {
  "kernelspec": {
   "display_name": "Python 3",
   "language": "python",
   "name": "python3"
  },
  "language_info": {
   "codemirror_mode": {
    "name": "ipython",
    "version": 3
   },
   "file_extension": ".py",
   "mimetype": "text/x-python",
   "name": "python",
   "nbconvert_exporter": "python",
   "pygments_lexer": "ipython3",
   "version": "3.7.1"
  }
 },
 "nbformat": 4,
 "nbformat_minor": 2
}
