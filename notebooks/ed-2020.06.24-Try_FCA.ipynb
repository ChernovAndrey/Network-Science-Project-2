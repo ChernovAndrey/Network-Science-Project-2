{
 "cells": [
  {
   "cell_type": "code",
   "execution_count": 1,
   "metadata": {},
   "outputs": [
    {
     "data": {
      "text/html": [
       "<style>.container { width:90% !important; }</style>"
      ],
      "text/plain": [
       "<IPython.core.display.HTML object>"
      ]
     },
     "metadata": {},
     "output_type": "display_data"
    }
   ],
   "source": [
    "import sys\n",
    "import os\n",
    "\n",
    "import numpy as np\n",
    "import pandas as pd\n",
    "import matplotlib.pyplot as plt\n",
    "import seaborn as sns\n",
    "\n",
    "from IPython.core.display import display, HTML\n",
    "display(HTML(\"<style>.container { width:90% !important; }</style>\"))"
   ]
  },
  {
   "cell_type": "code",
   "execution_count": 2,
   "metadata": {},
   "outputs": [],
   "source": [
    "from tqdm.notebook import tqdm"
   ]
  },
  {
   "cell_type": "code",
   "execution_count": 3,
   "metadata": {},
   "outputs": [
    {
     "name": "stdout",
     "output_type": "stream",
     "text": [
      "(25756, 58)\n"
     ]
    },
    {
     "data": {
      "text/html": [
       "<div>\n",
       "<style scoped>\n",
       "    .dataframe tbody tr th:only-of-type {\n",
       "        vertical-align: middle;\n",
       "    }\n",
       "\n",
       "    .dataframe tbody tr th {\n",
       "        vertical-align: top;\n",
       "    }\n",
       "\n",
       "    .dataframe thead th {\n",
       "        text-align: right;\n",
       "    }\n",
       "</style>\n",
       "<table border=\"1\" class=\"dataframe\">\n",
       "  <thead>\n",
       "    <tr style=\"text-align: right;\">\n",
       "      <th></th>\n",
       "      <th>Country</th>\n",
       "      <th>Lat</th>\n",
       "      <th>Long</th>\n",
       "      <th>Date</th>\n",
       "      <th>Confirmed</th>\n",
       "      <th>Deaths</th>\n",
       "      <th>Recovered</th>\n",
       "      <th>C1_School closing</th>\n",
       "      <th>C2_Workplace closing</th>\n",
       "      <th>C3_Cancel public events</th>\n",
       "      <th>...</th>\n",
       "      <th>female_smokers</th>\n",
       "      <th>male_smokers</th>\n",
       "      <th>handwashing_facilities</th>\n",
       "      <th>hospital_beds_per_thousand</th>\n",
       "      <th>Population</th>\n",
       "      <th>GrowthRate</th>\n",
       "      <th>Area</th>\n",
       "      <th>Density</th>\n",
       "      <th>Airports</th>\n",
       "      <th>GDP</th>\n",
       "    </tr>\n",
       "  </thead>\n",
       "  <tbody>\n",
       "    <tr>\n",
       "      <th>0</th>\n",
       "      <td>Afghanistan</td>\n",
       "      <td>33.0</td>\n",
       "      <td>65.0</td>\n",
       "      <td>01/22/2020</td>\n",
       "      <td>0</td>\n",
       "      <td>0</td>\n",
       "      <td>0</td>\n",
       "      <td>0.0</td>\n",
       "      <td>0.0</td>\n",
       "      <td>0.0</td>\n",
       "      <td>...</td>\n",
       "      <td>NaN</td>\n",
       "      <td>NaN</td>\n",
       "      <td>37.746</td>\n",
       "      <td>0.5</td>\n",
       "      <td>38041.754</td>\n",
       "      <td>1.0233</td>\n",
       "      <td>652230.0</td>\n",
       "      <td>58.3257</td>\n",
       "      <td>22.0</td>\n",
       "      <td>74792.0</td>\n",
       "    </tr>\n",
       "    <tr>\n",
       "      <th>1</th>\n",
       "      <td>Afghanistan</td>\n",
       "      <td>33.0</td>\n",
       "      <td>65.0</td>\n",
       "      <td>01/23/2020</td>\n",
       "      <td>0</td>\n",
       "      <td>0</td>\n",
       "      <td>0</td>\n",
       "      <td>0.0</td>\n",
       "      <td>0.0</td>\n",
       "      <td>0.0</td>\n",
       "      <td>...</td>\n",
       "      <td>NaN</td>\n",
       "      <td>NaN</td>\n",
       "      <td>37.746</td>\n",
       "      <td>0.5</td>\n",
       "      <td>38041.754</td>\n",
       "      <td>1.0233</td>\n",
       "      <td>652230.0</td>\n",
       "      <td>58.3257</td>\n",
       "      <td>22.0</td>\n",
       "      <td>74792.0</td>\n",
       "    </tr>\n",
       "    <tr>\n",
       "      <th>2</th>\n",
       "      <td>Afghanistan</td>\n",
       "      <td>33.0</td>\n",
       "      <td>65.0</td>\n",
       "      <td>01/24/2020</td>\n",
       "      <td>0</td>\n",
       "      <td>0</td>\n",
       "      <td>0</td>\n",
       "      <td>0.0</td>\n",
       "      <td>0.0</td>\n",
       "      <td>0.0</td>\n",
       "      <td>...</td>\n",
       "      <td>NaN</td>\n",
       "      <td>NaN</td>\n",
       "      <td>37.746</td>\n",
       "      <td>0.5</td>\n",
       "      <td>38041.754</td>\n",
       "      <td>1.0233</td>\n",
       "      <td>652230.0</td>\n",
       "      <td>58.3257</td>\n",
       "      <td>22.0</td>\n",
       "      <td>74792.0</td>\n",
       "    </tr>\n",
       "    <tr>\n",
       "      <th>3</th>\n",
       "      <td>Afghanistan</td>\n",
       "      <td>33.0</td>\n",
       "      <td>65.0</td>\n",
       "      <td>01/25/2020</td>\n",
       "      <td>0</td>\n",
       "      <td>0</td>\n",
       "      <td>0</td>\n",
       "      <td>0.0</td>\n",
       "      <td>0.0</td>\n",
       "      <td>0.0</td>\n",
       "      <td>...</td>\n",
       "      <td>NaN</td>\n",
       "      <td>NaN</td>\n",
       "      <td>37.746</td>\n",
       "      <td>0.5</td>\n",
       "      <td>38041.754</td>\n",
       "      <td>1.0233</td>\n",
       "      <td>652230.0</td>\n",
       "      <td>58.3257</td>\n",
       "      <td>22.0</td>\n",
       "      <td>74792.0</td>\n",
       "    </tr>\n",
       "    <tr>\n",
       "      <th>4</th>\n",
       "      <td>Afghanistan</td>\n",
       "      <td>33.0</td>\n",
       "      <td>65.0</td>\n",
       "      <td>01/26/2020</td>\n",
       "      <td>0</td>\n",
       "      <td>0</td>\n",
       "      <td>0</td>\n",
       "      <td>0.0</td>\n",
       "      <td>0.0</td>\n",
       "      <td>0.0</td>\n",
       "      <td>...</td>\n",
       "      <td>NaN</td>\n",
       "      <td>NaN</td>\n",
       "      <td>37.746</td>\n",
       "      <td>0.5</td>\n",
       "      <td>38041.754</td>\n",
       "      <td>1.0233</td>\n",
       "      <td>652230.0</td>\n",
       "      <td>58.3257</td>\n",
       "      <td>22.0</td>\n",
       "      <td>74792.0</td>\n",
       "    </tr>\n",
       "  </tbody>\n",
       "</table>\n",
       "<p>5 rows × 58 columns</p>\n",
       "</div>"
      ],
      "text/plain": [
       "       Country   Lat  Long        Date  Confirmed  Deaths  Recovered  \\\n",
       "0  Afghanistan  33.0  65.0  01/22/2020          0       0          0   \n",
       "1  Afghanistan  33.0  65.0  01/23/2020          0       0          0   \n",
       "2  Afghanistan  33.0  65.0  01/24/2020          0       0          0   \n",
       "3  Afghanistan  33.0  65.0  01/25/2020          0       0          0   \n",
       "4  Afghanistan  33.0  65.0  01/26/2020          0       0          0   \n",
       "\n",
       "   C1_School closing  C2_Workplace closing  C3_Cancel public events   ...     \\\n",
       "0                0.0                   0.0                      0.0   ...      \n",
       "1                0.0                   0.0                      0.0   ...      \n",
       "2                0.0                   0.0                      0.0   ...      \n",
       "3                0.0                   0.0                      0.0   ...      \n",
       "4                0.0                   0.0                      0.0   ...      \n",
       "\n",
       "   female_smokers  male_smokers  handwashing_facilities  \\\n",
       "0             NaN           NaN                  37.746   \n",
       "1             NaN           NaN                  37.746   \n",
       "2             NaN           NaN                  37.746   \n",
       "3             NaN           NaN                  37.746   \n",
       "4             NaN           NaN                  37.746   \n",
       "\n",
       "   hospital_beds_per_thousand  Population  GrowthRate      Area  Density  \\\n",
       "0                         0.5   38041.754      1.0233  652230.0  58.3257   \n",
       "1                         0.5   38041.754      1.0233  652230.0  58.3257   \n",
       "2                         0.5   38041.754      1.0233  652230.0  58.3257   \n",
       "3                         0.5   38041.754      1.0233  652230.0  58.3257   \n",
       "4                         0.5   38041.754      1.0233  652230.0  58.3257   \n",
       "\n",
       "   Airports      GDP  \n",
       "0      22.0  74792.0  \n",
       "1      22.0  74792.0  \n",
       "2      22.0  74792.0  \n",
       "3      22.0  74792.0  \n",
       "4      22.0  74792.0  \n",
       "\n",
       "[5 rows x 58 columns]"
      ]
     },
     "execution_count": 3,
     "metadata": {},
     "output_type": "execute_result"
    }
   ],
   "source": [
    "ds = pd.read_csv('../Covid_19_aggregated.csv')\n",
    "print(ds.shape)\n",
    "ds.head()"
   ]
  },
  {
   "cell_type": "code",
   "execution_count": 4,
   "metadata": {},
   "outputs": [],
   "source": [
    "ds['Date_dt'] = pd.to_datetime(ds['Date'])"
   ]
  },
  {
   "cell_type": "code",
   "execution_count": 5,
   "metadata": {},
   "outputs": [],
   "source": [
    "import re"
   ]
  },
  {
   "cell_type": "code",
   "execution_count": 6,
   "metadata": {},
   "outputs": [],
   "source": [
    "cols_key = ['Country', 'Date_dt']\n",
    "assert ds[cols_key].drop_duplicates().shape[0]==ds.shape[0]\n",
    "cols_target = ['Confirmed','Deaths','Recovered']\n",
    "cols_geo = ['Lat','Long']\n",
    "cols_policy = [f for f in ds.columns if re.match('[CEH]\\d', f)] + ['M1_Wildcard']\n",
    "cols_indexes = [f for f in ds.columns if f.endswith('Index')]\n",
    "cols_perc_change = [f for f in ds.columns if '_percent_change_' in f]\n",
    "cols_health = ['extreme_poverty', 'handwashing_facilities','hospital_beds_per_thousand']\n",
    "cols_country_stat = ['Population', 'GrowthRate', 'Area', 'Density', 'Airports', 'GDP']\n",
    "cols_tests = ['total_tests','new_tests','total_tests_per_thousand', 'new_tests_per_thousand','new_tests_smoothed', 'new_tests_smoothed_per_thousand']\n",
    "cols_age = ['median_age','aged_65_older','aged_70_older',]\n",
    "cols_ill = ['cvd_death_rate','diabetes_prevalence','female_smokers','male_smokers']"
   ]
  },
  {
   "cell_type": "code",
   "execution_count": 7,
   "metadata": {},
   "outputs": [
    {
     "data": {
      "text/plain": [
       "Index(['Date'], dtype='object')"
      ]
     },
     "execution_count": 7,
     "metadata": {},
     "output_type": "execute_result"
    }
   ],
   "source": [
    "ds.drop(cols_key+cols_target+cols_geo+cols_policy+cols_indexes+cols_perc_change+cols_health+cols_country_stat+cols_tests+cols_age+cols_ill,1).columns"
   ]
  },
  {
   "cell_type": "code",
   "execution_count": null,
   "metadata": {},
   "outputs": [],
   "source": []
  },
  {
   "cell_type": "code",
   "execution_count": 8,
   "metadata": {},
   "outputs": [
    {
     "data": {
      "text/plain": [
       "(106, 21, (19928, 59), (3948, 59))"
      ]
     },
     "execution_count": 8,
     "metadata": {},
     "output_type": "execute_result"
    }
   ],
   "source": [
    "train_ids = (ds['Date_dt']>'2020-01-22')&(ds['Date_dt']<='2020-05-07')\n",
    "test_ids = (ds['Date_dt']>='2020-05-08')&(ds['Date_dt']<='2020-05-28')\n",
    "ds[train_ids]['Date'].nunique(), ds[test_ids]['Date'].nunique(),  ds[train_ids].shape, ds[test_ids].shape"
   ]
  },
  {
   "cell_type": "code",
   "execution_count": 9,
   "metadata": {},
   "outputs": [
    {
     "data": {
      "application/vnd.jupyter.widget-view+json": {
       "model_id": "ae35b137bf4e4d47a910b41d5cf0d9b4",
       "version_major": 2,
       "version_minor": 0
      },
      "text/plain": [
       "HBox(children=(FloatProgress(value=0.0, max=3.0), HTML(value='')))"
      ]
     },
     "metadata": {},
     "output_type": "display_data"
    },
    {
     "name": "stdout",
     "output_type": "stream",
     "text": [
      "\n"
     ]
    }
   ],
   "source": [
    "for f in tqdm(cols_target):\n",
    "    for x in range(1,4):\n",
    "        s = ds.groupby(cols_key)[(f+f'_lag{x-1}') if x>1 else f].rolling(1).mean().shift(1).reset_index()\n",
    "        s = s[s['Date_dt']!='2020-01-22']\n",
    "        s.index = s['level_2']\n",
    "        s.index.name = None\n",
    "        ds[f+f'_lag{x}'] = s[(f+f'_lag{x-1}') if x>1 else f]"
   ]
  },
  {
   "cell_type": "code",
   "execution_count": 10,
   "metadata": {},
   "outputs": [],
   "source": [
    "cols_lag = [f for f in ds.columns if '_lag' in f]"
   ]
  },
  {
   "cell_type": "code",
   "execution_count": 11,
   "metadata": {},
   "outputs": [],
   "source": [
    "for f in cols_target:\n",
    "    for x in range(0,3):\n",
    "        ds[f\"{f}_diff{x}\" if x>0 else f\"{f}_diff\"] = ds[f'{f}_lag{x}' if x>0 else f]-ds[f\"{f}_lag{x+1}\" if x>0 else f\"{f}_lag1\"]\n",
    "        ds[f\"{f}_diff{x}\" if x>0 else f\"{f}_diff\"] = ds[f\"{f}_diff{x}\" if x>0 else f\"{f}_diff\"].fillna(0)"
   ]
  },
  {
   "cell_type": "code",
   "execution_count": 12,
   "metadata": {},
   "outputs": [
    {
     "data": {
      "text/plain": [
       "['Confirmed_diff',\n",
       " 'Confirmed_diff1',\n",
       " 'Confirmed_diff2',\n",
       " 'Deaths_diff',\n",
       " 'Deaths_diff1',\n",
       " 'Deaths_diff2',\n",
       " 'Recovered_diff',\n",
       " 'Recovered_diff1',\n",
       " 'Recovered_diff2']"
      ]
     },
     "execution_count": 12,
     "metadata": {},
     "output_type": "execute_result"
    }
   ],
   "source": [
    "cols_diff = [f for f in ds.columns if '_diff' in f]\n",
    "cols_diff"
   ]
  },
  {
   "cell_type": "code",
   "execution_count": 13,
   "metadata": {},
   "outputs": [],
   "source": [
    "from datetime import timedelta"
   ]
  },
  {
   "cell_type": "raw",
   "metadata": {},
   "source": [
    "ds.groupby('Country')['Confirmed'].max().sort_values(ascending=False)"
   ]
  },
  {
   "cell_type": "code",
   "execution_count": 14,
   "metadata": {},
   "outputs": [
    {
     "data": {
      "text/plain": [
       "['Belarus',\n",
       " 'Belarus',\n",
       " 'Belarus',\n",
       " 'Belarus',\n",
       " 'Belarus',\n",
       " 'Belarus',\n",
       " 'Belarus',\n",
       " 'Belarus',\n",
       " 'Belarus',\n",
       " 'Belarus',\n",
       " 'Belarus',\n",
       " 'Belarus',\n",
       " 'Belarus',\n",
       " 'Belarus',\n",
       " 'Belarus',\n",
       " 'Belarus',\n",
       " 'Belarus',\n",
       " 'Belarus',\n",
       " 'Belarus',\n",
       " 'Belarus',\n",
       " 'Belarus',\n",
       " 'Belarus',\n",
       " 'Belarus',\n",
       " 'Belarus',\n",
       " 'Belarus',\n",
       " 'Belarus',\n",
       " 'Belarus',\n",
       " 'Belarus',\n",
       " 'Belarus',\n",
       " 'Belarus',\n",
       " 'Belarus',\n",
       " 'Belarus',\n",
       " 'Belarus',\n",
       " 'Belarus',\n",
       " 'Belarus',\n",
       " 'Belarus',\n",
       " 'Belarus',\n",
       " 'Belarus',\n",
       " 'Belarus',\n",
       " 'Belarus',\n",
       " 'Belarus',\n",
       " 'Belarus',\n",
       " 'Belarus',\n",
       " 'Belarus',\n",
       " 'Belarus',\n",
       " 'Belarus',\n",
       " 'Belarus',\n",
       " 'Belarus',\n",
       " 'Belarus',\n",
       " 'Belarus',\n",
       " 'Belarus',\n",
       " 'Belarus',\n",
       " 'Belarus',\n",
       " 'Belarus',\n",
       " 'Belarus',\n",
       " 'Belarus',\n",
       " 'Belarus',\n",
       " 'Belarus',\n",
       " 'Belarus',\n",
       " 'Belarus',\n",
       " 'Belarus',\n",
       " 'Belarus',\n",
       " 'Belarus',\n",
       " 'Belarus',\n",
       " 'Belarus',\n",
       " 'Belarus',\n",
       " 'Belarus',\n",
       " 'Belarus',\n",
       " 'Belarus',\n",
       " 'Belarus',\n",
       " 'Belarus',\n",
       " 'Belarus',\n",
       " 'Belarus',\n",
       " 'Belarus',\n",
       " 'Belarus',\n",
       " 'Belarus',\n",
       " 'Belarus',\n",
       " 'Belarus',\n",
       " 'Belarus',\n",
       " 'Belarus',\n",
       " 'Belarus',\n",
       " 'Belarus',\n",
       " 'Belarus',\n",
       " 'Belarus',\n",
       " 'Belarus',\n",
       " 'Belarus',\n",
       " 'Belarus',\n",
       " 'Belarus',\n",
       " 'Belarus',\n",
       " 'Belarus',\n",
       " 'Belarus',\n",
       " 'Belarus',\n",
       " 'Belarus',\n",
       " 'Belarus',\n",
       " 'Belarus',\n",
       " 'Belarus',\n",
       " 'Belarus',\n",
       " 'Belarus',\n",
       " 'Belarus',\n",
       " 'Belarus',\n",
       " 'Belarus',\n",
       " 'Belarus',\n",
       " 'Belarus',\n",
       " 'Belarus',\n",
       " 'Belarus',\n",
       " 'Belarus',\n",
       " 'Belarus',\n",
       " 'Belarus',\n",
       " 'Belarus',\n",
       " 'Belarus',\n",
       " 'Belarus',\n",
       " 'Belarus',\n",
       " 'Belarus',\n",
       " 'Belarus',\n",
       " 'Belarus',\n",
       " 'Belarus',\n",
       " 'Belarus',\n",
       " 'Belarus',\n",
       " 'Belarus',\n",
       " 'Belarus',\n",
       " 'Belarus',\n",
       " 'Belarus',\n",
       " 'Belarus',\n",
       " 'Belarus',\n",
       " 'Belarus',\n",
       " 'Belarus',\n",
       " 'Belarus',\n",
       " 'Belarus',\n",
       " 'Belarus',\n",
       " 'Belarus',\n",
       " 'Belarus',\n",
       " 'Belarus',\n",
       " 'Belarus',\n",
       " 'Belarus',\n",
       " 'Belarus',\n",
       " 'Belarus',\n",
       " 'Belarus',\n",
       " 'Belgium',\n",
       " 'Belgium',\n",
       " 'Belgium',\n",
       " 'Belgium',\n",
       " 'Belgium',\n",
       " 'Belgium',\n",
       " 'Belgium',\n",
       " 'Belgium',\n",
       " 'Belgium',\n",
       " 'Belgium',\n",
       " 'Belgium',\n",
       " 'Belgium',\n",
       " 'Belgium',\n",
       " 'Belgium',\n",
       " 'Belgium',\n",
       " 'Belgium',\n",
       " 'Belgium',\n",
       " 'Belgium',\n",
       " 'Belgium',\n",
       " 'Belgium',\n",
       " 'Belgium',\n",
       " 'Belgium',\n",
       " 'Belgium',\n",
       " 'Belgium',\n",
       " 'Belgium',\n",
       " 'Belgium',\n",
       " 'Belgium',\n",
       " 'Belgium',\n",
       " 'Belgium',\n",
       " 'Belgium',\n",
       " 'Belgium',\n",
       " 'Belgium',\n",
       " 'Belgium',\n",
       " 'Belgium',\n",
       " 'Belgium',\n",
       " 'Belgium',\n",
       " 'Belgium',\n",
       " 'Belgium',\n",
       " 'Belgium',\n",
       " 'Belgium',\n",
       " 'Belgium',\n",
       " 'Belgium',\n",
       " 'Belgium',\n",
       " 'Belgium',\n",
       " 'Belgium',\n",
       " 'Belgium',\n",
       " 'Belgium',\n",
       " 'Belgium',\n",
       " 'Belgium',\n",
       " 'Belgium',\n",
       " 'Belgium',\n",
       " 'Belgium',\n",
       " 'Belgium',\n",
       " 'Belgium',\n",
       " 'Belgium',\n",
       " 'Belgium',\n",
       " 'Belgium',\n",
       " 'Belgium',\n",
       " 'Belgium',\n",
       " 'Belgium',\n",
       " 'Belgium',\n",
       " 'Belgium',\n",
       " 'Belgium',\n",
       " 'Belgium',\n",
       " 'Belgium',\n",
       " 'Belgium',\n",
       " 'Belgium',\n",
       " 'Belgium',\n",
       " 'Belgium',\n",
       " 'Belgium',\n",
       " 'Belgium',\n",
       " 'Belgium',\n",
       " 'Belgium',\n",
       " 'Belgium',\n",
       " 'Belgium',\n",
       " 'Belgium',\n",
       " 'Belgium',\n",
       " 'Belgium',\n",
       " 'Belgium',\n",
       " 'Belgium',\n",
       " 'Belgium',\n",
       " 'Belgium',\n",
       " 'Belgium',\n",
       " 'Belgium',\n",
       " 'Belgium',\n",
       " 'Belgium',\n",
       " 'Belgium',\n",
       " 'Belgium',\n",
       " 'Belgium',\n",
       " 'Belgium',\n",
       " 'Belgium',\n",
       " 'Belgium',\n",
       " 'Belgium',\n",
       " 'Belgium',\n",
       " 'Belgium',\n",
       " 'Belgium',\n",
       " 'Belgium',\n",
       " 'Belgium',\n",
       " 'Belgium',\n",
       " 'Belgium',\n",
       " 'Belgium',\n",
       " 'Belgium',\n",
       " 'Belgium',\n",
       " 'Belgium',\n",
       " 'Belgium',\n",
       " 'Belgium',\n",
       " 'Belgium',\n",
       " 'Belgium',\n",
       " 'Belgium',\n",
       " 'Belgium',\n",
       " 'Belgium',\n",
       " 'Belgium',\n",
       " 'Belgium',\n",
       " 'Belgium',\n",
       " 'Belgium',\n",
       " 'Belgium',\n",
       " 'Belgium',\n",
       " 'Belgium',\n",
       " 'Belgium',\n",
       " 'Belgium',\n",
       " 'Belgium',\n",
       " 'Belgium',\n",
       " 'Belgium',\n",
       " 'Belgium',\n",
       " 'Belgium',\n",
       " 'Belgium',\n",
       " 'Belgium',\n",
       " 'Belgium',\n",
       " 'Belgium',\n",
       " 'Belgium',\n",
       " 'Belgium',\n",
       " 'Belgium',\n",
       " 'Belgium',\n",
       " 'Belgium',\n",
       " 'Belgium',\n",
       " 'Belgium',\n",
       " 'Belgium',\n",
       " 'Belize',\n",
       " 'Belize',\n",
       " 'Belize',\n",
       " 'Belize',\n",
       " 'Belize',\n",
       " 'Belize',\n",
       " 'Belize',\n",
       " 'Belize',\n",
       " 'Belize',\n",
       " 'Belize',\n",
       " 'Belize',\n",
       " 'Belize',\n",
       " 'Belize',\n",
       " 'Belize',\n",
       " 'Belize',\n",
       " 'Belize',\n",
       " 'Belize',\n",
       " 'Belize',\n",
       " 'Belize',\n",
       " 'Belize',\n",
       " 'Belize',\n",
       " 'Belize',\n",
       " 'Belize',\n",
       " 'Belize',\n",
       " 'Belize',\n",
       " 'Belize',\n",
       " 'Belize',\n",
       " 'Belize',\n",
       " 'Belize',\n",
       " 'Belize',\n",
       " 'Belize',\n",
       " 'Belize',\n",
       " 'Belize',\n",
       " 'Belize',\n",
       " 'Belize',\n",
       " 'Belize',\n",
       " 'Belize',\n",
       " 'Belize',\n",
       " 'Belize',\n",
       " 'Belize',\n",
       " 'Belize',\n",
       " 'Belize',\n",
       " 'Belize',\n",
       " 'Belize',\n",
       " 'Belize',\n",
       " 'Belize',\n",
       " 'Belize',\n",
       " 'Belize',\n",
       " 'Belize',\n",
       " 'Belize',\n",
       " 'Belize',\n",
       " 'Belize',\n",
       " 'Belize',\n",
       " 'Belize',\n",
       " 'Belize',\n",
       " 'Belize',\n",
       " 'Belize',\n",
       " 'Belize',\n",
       " 'Belize',\n",
       " 'Belize',\n",
       " 'Belize',\n",
       " 'Belize',\n",
       " 'Belize',\n",
       " 'Belize',\n",
       " 'Belize',\n",
       " 'Belize',\n",
       " 'Belize',\n",
       " 'Belize',\n",
       " 'Belize',\n",
       " 'Belize',\n",
       " 'Belize',\n",
       " 'Belize',\n",
       " 'Belize',\n",
       " 'Belize',\n",
       " 'Belize',\n",
       " 'Belize',\n",
       " 'Belize',\n",
       " 'Belize',\n",
       " 'Belize',\n",
       " 'Belize',\n",
       " 'Belize',\n",
       " 'Belize',\n",
       " 'Belize',\n",
       " 'Belize',\n",
       " 'Belize',\n",
       " 'Belize',\n",
       " 'Belize',\n",
       " 'Belize',\n",
       " 'Belize',\n",
       " 'Belize',\n",
       " 'Belize',\n",
       " 'Belize',\n",
       " 'Belize',\n",
       " 'Belize',\n",
       " 'Belize',\n",
       " 'Belize',\n",
       " 'Belize',\n",
       " 'Belize',\n",
       " 'Belize',\n",
       " 'Belize',\n",
       " 'Belize',\n",
       " 'Belize',\n",
       " 'Belize',\n",
       " 'Belize',\n",
       " 'Belize',\n",
       " 'Belize',\n",
       " 'Belize',\n",
       " 'Belize',\n",
       " 'Belize',\n",
       " 'Belize',\n",
       " 'Belize',\n",
       " 'Belize',\n",
       " 'Belize',\n",
       " 'Belize',\n",
       " 'Belize',\n",
       " 'Belize',\n",
       " 'Belize',\n",
       " 'Belize',\n",
       " 'Belize',\n",
       " 'Belize',\n",
       " 'Belize',\n",
       " 'Belize',\n",
       " 'Belize',\n",
       " 'Belize',\n",
       " 'Belize',\n",
       " 'Belize',\n",
       " 'Belize',\n",
       " 'Belize',\n",
       " 'Belize',\n",
       " 'Belize',\n",
       " 'Belize',\n",
       " 'Belize',\n",
       " 'Belize',\n",
       " 'Belize',\n",
       " 'Belize',\n",
       " 'Belize',\n",
       " 'Belize']"
      ]
     },
     "execution_count": 14,
     "metadata": {},
     "output_type": "execute_result"
    }
   ],
   "source": [
    "[x for x in ds['Country'].values if 'Bel' in x]"
   ]
  },
  {
   "cell_type": "code",
   "execution_count": 15,
   "metadata": {},
   "outputs": [],
   "source": [
    "cds = ds[ds['Country'].isin(['US'])]"
   ]
  },
  {
   "cell_type": "code",
   "execution_count": 16,
   "metadata": {},
   "outputs": [],
   "source": [
    "cds.index = cds['Date_dt']"
   ]
  },
  {
   "cell_type": "raw",
   "metadata": {},
   "source": [
    "sns.lineplot(x='Date_dt', y='Confirmed_', data=cds)"
   ]
  },
  {
   "cell_type": "code",
   "execution_count": 17,
   "metadata": {},
   "outputs": [
    {
     "name": "stderr",
     "output_type": "stream",
     "text": [
      "/home/egor/anaconda3/lib/python3.7/site-packages/pandas/core/indexing.py:1027: FutureWarning: \n",
      "Passing list-likes to .loc or [] with any missing label will raise\n",
      "KeyError in the future, you can use .reindex() as an alternative.\n",
      "\n",
      "See the documentation here:\n",
      "https://pandas.pydata.org/pandas-docs/stable/indexing.html#deprecate-loc-reindex-listlike\n",
      "  return getattr(section, self.name)[new_key]\n"
     ]
    }
   ],
   "source": [
    "s_ = cds.loc[cds.index-timedelta(days=7),'Confirmed_diff']"
   ]
  },
  {
   "cell_type": "code",
   "execution_count": 18,
   "metadata": {},
   "outputs": [],
   "source": [
    "s = cds['Confirmed_diff']"
   ]
  },
  {
   "cell_type": "code",
   "execution_count": null,
   "metadata": {},
   "outputs": [],
   "source": []
  },
  {
   "cell_type": "code",
   "execution_count": 19,
   "metadata": {},
   "outputs": [
    {
     "data": {
      "text/plain": [
       "36188.0"
      ]
     },
     "execution_count": 19,
     "metadata": {},
     "output_type": "execute_result"
    }
   ],
   "source": [
    "cds['Confirmed_diff2'].max()"
   ]
  },
  {
   "cell_type": "code",
   "execution_count": 20,
   "metadata": {},
   "outputs": [
    {
     "data": {
      "text/plain": [
       "3.0    92\n",
       "0.0    43\n",
       "Name: C1_School closing, dtype: int64"
      ]
     },
     "execution_count": 20,
     "metadata": {},
     "output_type": "execute_result"
    }
   ],
   "source": [
    "cds['C1_School closing'].value_counts()"
   ]
  },
  {
   "cell_type": "code",
   "execution_count": 21,
   "metadata": {},
   "outputs": [
    {
     "data": {
      "text/plain": [
       "(array([737446., 737456., 737477., 737485., 737506., 737516., 737537.,\n",
       "        737546., 737567., 737577.]), <a list of 10 Text xticklabel objects>)"
      ]
     },
     "execution_count": 21,
     "metadata": {},
     "output_type": "execute_result"
    },
    {
     "data": {
      "image/png": "[encoded data removed]",
      "text/plain": [
       "<Figure size 432x288 with 1 Axes>"
      ]
     },
     "metadata": {
      "needs_background": "light"
     },
     "output_type": "display_data"
    }
   ],
   "source": [
    "sns.lineplot(x='Date_dt', y='Confirmed_diff', data=cds)\n",
    "for f in ['C2_Workplace closing', 'C5_Close public transport']:#cols_policy[:10]:\n",
    "    sns.lineplot(x=cds['Date_dt'], y=cds[f]*10000, label=f)\n",
    "plt.title('US confirmed speed')\n",
    "plt.legend()\n",
    "\n",
    "plt.xticks(rotation=45)"
   ]
  },
  {
   "cell_type": "markdown",
   "metadata": {},
   "source": [
    "cols_key, cols_target, cols_geo, cols_policy, cols_indexes, cols_perc_change, \n",
    "cols_health, cols_country_stat, cols_tests, \n",
    "cols_age, cols_ill"
   ]
  },
  {
   "cell_type": "code",
   "execution_count": 22,
   "metadata": {},
   "outputs": [],
   "source": [
    "from sklearn.ensemble import RandomForestRegressor"
   ]
  },
  {
   "cell_type": "code",
   "execution_count": 35,
   "metadata": {},
   "outputs": [],
   "source": [
    "cols_train = cols_geo+cols_policy+cols_indexes+cols_perc_change+cols_health+cols_country_stat+ cols_tests+cols_age+cols_ill+cols_lag+list(set(cols_diff)-set(['Confirmed_diff','Recovered_diff','Deaths_diff']))"
   ]
  },
  {
   "cell_type": "code",
   "execution_count": 37,
   "metadata": {},
   "outputs": [
    {
     "name": "stderr",
     "output_type": "stream",
     "text": [
      "/home/egor/anaconda3/lib/python3.7/site-packages/sklearn/ensemble/forest.py:246: FutureWarning: The default value of n_estimators will change from 10 in version 0.20 to 100 in 0.22.\n",
      "  \"10 in version 0.20 to 100 in 0.22.\", FutureWarning)\n"
     ]
    },
    {
     "data": {
      "text/plain": [
       "RandomForestRegressor(bootstrap=True, criterion='mse', max_depth=None,\n",
       "           max_features='auto', max_leaf_nodes=None,\n",
       "           min_impurity_decrease=0.0, min_impurity_split=None,\n",
       "           min_samples_leaf=1, min_samples_split=2,\n",
       "           min_weight_fraction_leaf=0.0, n_estimators=10, n_jobs=None,\n",
       "           oob_score=False, random_state=None, verbose=0, warm_start=False)"
      ]
     },
     "execution_count": 37,
     "metadata": {},
     "output_type": "execute_result"
    }
   ],
   "source": [
    "rf = RandomForestRegressor()\n",
    "rf.fit(ds.loc[train_ids, cols_train].fillna(0), ds.loc[train_ids, 'Confirmed_diff'])"
   ]
  },
  {
   "cell_type": "code",
   "execution_count": 38,
   "metadata": {},
   "outputs": [],
   "source": [
    "import shap"
   ]
  },
  {
   "cell_type": "code",
   "execution_count": 39,
   "metadata": {},
   "outputs": [],
   "source": [
    "explainer = shap.TreeExplainer(rf)"
   ]
  },
  {
   "cell_type": "code",
   "execution_count": 43,
   "metadata": {},
   "outputs": [],
   "source": [
    "sv = explainer.shap_values(ds.loc[test_ids, cols_train].fillna(0).head(1000))"
   ]
  },
  {
   "cell_type": "code",
   "execution_count": 44,
   "metadata": {},
   "outputs": [],
   "source": [
    "sv_ds = pd.DataFrame(sv, columns=cols_train)"
   ]
  },
  {
   "cell_type": "code",
   "execution_count": 45,
   "metadata": {},
   "outputs": [
    {
     "data": {
      "text/html": [
       "<div>\n",
       "<style scoped>\n",
       "    .dataframe tbody tr th:only-of-type {\n",
       "        vertical-align: middle;\n",
       "    }\n",
       "\n",
       "    .dataframe tbody tr th {\n",
       "        vertical-align: top;\n",
       "    }\n",
       "\n",
       "    .dataframe thead th {\n",
       "        text-align: right;\n",
       "    }\n",
       "</style>\n",
       "<table border=\"1\" class=\"dataframe\">\n",
       "  <thead>\n",
       "    <tr style=\"text-align: right;\">\n",
       "      <th></th>\n",
       "      <th>Lat</th>\n",
       "      <th>Long</th>\n",
       "      <th>C1_School closing</th>\n",
       "      <th>C2_Workplace closing</th>\n",
       "      <th>C3_Cancel public events</th>\n",
       "      <th>C4_Restrictions on gatherings</th>\n",
       "      <th>C5_Close public transport</th>\n",
       "      <th>C6_Stay at home requirements</th>\n",
       "      <th>C7_Restrictions on internal movement</th>\n",
       "      <th>C8_International travel controls</th>\n",
       "      <th>...</th>\n",
       "      <th>Deaths_lag3</th>\n",
       "      <th>Recovered_lag1</th>\n",
       "      <th>Recovered_lag2</th>\n",
       "      <th>Recovered_lag3</th>\n",
       "      <th>Confirmed_diff1</th>\n",
       "      <th>Deaths_diff1</th>\n",
       "      <th>Recovered_diff1</th>\n",
       "      <th>Deaths_diff2</th>\n",
       "      <th>Recovered_diff2</th>\n",
       "      <th>Confirmed_diff2</th>\n",
       "    </tr>\n",
       "  </thead>\n",
       "  <tbody>\n",
       "    <tr>\n",
       "      <th>0</th>\n",
       "      <td>0.687040</td>\n",
       "      <td>-0.185200</td>\n",
       "      <td>0.121672</td>\n",
       "      <td>-0.120952</td>\n",
       "      <td>0.009138</td>\n",
       "      <td>-0.149788</td>\n",
       "      <td>-0.163716</td>\n",
       "      <td>0.523340</td>\n",
       "      <td>-0.073230</td>\n",
       "      <td>-0.149081</td>\n",
       "      <td>...</td>\n",
       "      <td>1.236206</td>\n",
       "      <td>-0.481487</td>\n",
       "      <td>-0.556121</td>\n",
       "      <td>1.021668</td>\n",
       "      <td>22.256134</td>\n",
       "      <td>-2.545069</td>\n",
       "      <td>-0.658941</td>\n",
       "      <td>4.802674</td>\n",
       "      <td>-1.165955</td>\n",
       "      <td>-41.296833</td>\n",
       "    </tr>\n",
       "    <tr>\n",
       "      <th>1</th>\n",
       "      <td>1.295917</td>\n",
       "      <td>-0.281430</td>\n",
       "      <td>0.122305</td>\n",
       "      <td>0.446719</td>\n",
       "      <td>0.015871</td>\n",
       "      <td>-0.238067</td>\n",
       "      <td>-0.037461</td>\n",
       "      <td>0.176348</td>\n",
       "      <td>-0.082286</td>\n",
       "      <td>0.124899</td>\n",
       "      <td>...</td>\n",
       "      <td>0.235700</td>\n",
       "      <td>-0.141121</td>\n",
       "      <td>-0.504500</td>\n",
       "      <td>1.017923</td>\n",
       "      <td>37.537214</td>\n",
       "      <td>-1.748051</td>\n",
       "      <td>-2.029718</td>\n",
       "      <td>-3.168940</td>\n",
       "      <td>0.399914</td>\n",
       "      <td>-76.302034</td>\n",
       "    </tr>\n",
       "    <tr>\n",
       "      <th>2</th>\n",
       "      <td>1.527646</td>\n",
       "      <td>1.243109</td>\n",
       "      <td>-0.352105</td>\n",
       "      <td>0.548936</td>\n",
       "      <td>0.007402</td>\n",
       "      <td>0.024460</td>\n",
       "      <td>-0.185773</td>\n",
       "      <td>0.186885</td>\n",
       "      <td>-0.092525</td>\n",
       "      <td>0.182422</td>\n",
       "      <td>...</td>\n",
       "      <td>0.683488</td>\n",
       "      <td>0.024245</td>\n",
       "      <td>-0.995033</td>\n",
       "      <td>2.297112</td>\n",
       "      <td>59.281376</td>\n",
       "      <td>-3.862872</td>\n",
       "      <td>1.508382</td>\n",
       "      <td>-1.821154</td>\n",
       "      <td>2.923412</td>\n",
       "      <td>-29.761616</td>\n",
       "    </tr>\n",
       "    <tr>\n",
       "      <th>3</th>\n",
       "      <td>-1.208118</td>\n",
       "      <td>0.510687</td>\n",
       "      <td>0.027444</td>\n",
       "      <td>0.511693</td>\n",
       "      <td>0.006197</td>\n",
       "      <td>0.101582</td>\n",
       "      <td>-0.070489</td>\n",
       "      <td>0.562257</td>\n",
       "      <td>-0.148686</td>\n",
       "      <td>0.111689</td>\n",
       "      <td>...</td>\n",
       "      <td>0.282585</td>\n",
       "      <td>0.058864</td>\n",
       "      <td>0.391866</td>\n",
       "      <td>2.106668</td>\n",
       "      <td>95.835500</td>\n",
       "      <td>-3.986120</td>\n",
       "      <td>-0.827476</td>\n",
       "      <td>-0.779841</td>\n",
       "      <td>-0.392271</td>\n",
       "      <td>-16.825465</td>\n",
       "    </tr>\n",
       "    <tr>\n",
       "      <th>4</th>\n",
       "      <td>-0.393963</td>\n",
       "      <td>0.049052</td>\n",
       "      <td>0.110692</td>\n",
       "      <td>0.391622</td>\n",
       "      <td>0.019744</td>\n",
       "      <td>3.355277</td>\n",
       "      <td>-0.113901</td>\n",
       "      <td>-0.381809</td>\n",
       "      <td>0.037674</td>\n",
       "      <td>-0.851095</td>\n",
       "      <td>...</td>\n",
       "      <td>0.514320</td>\n",
       "      <td>-0.030338</td>\n",
       "      <td>-0.484114</td>\n",
       "      <td>2.039077</td>\n",
       "      <td>100.893630</td>\n",
       "      <td>-5.439793</td>\n",
       "      <td>-2.126043</td>\n",
       "      <td>-0.756161</td>\n",
       "      <td>-1.980556</td>\n",
       "      <td>102.426597</td>\n",
       "    </tr>\n",
       "    <tr>\n",
       "      <th>5</th>\n",
       "      <td>-0.162296</td>\n",
       "      <td>0.178348</td>\n",
       "      <td>0.026902</td>\n",
       "      <td>0.600856</td>\n",
       "      <td>0.012854</td>\n",
       "      <td>0.045025</td>\n",
       "      <td>-0.182567</td>\n",
       "      <td>0.261477</td>\n",
       "      <td>-0.068269</td>\n",
       "      <td>0.008603</td>\n",
       "      <td>...</td>\n",
       "      <td>0.839366</td>\n",
       "      <td>0.401641</td>\n",
       "      <td>-0.754461</td>\n",
       "      <td>1.230581</td>\n",
       "      <td>108.688932</td>\n",
       "      <td>-7.689326</td>\n",
       "      <td>0.614117</td>\n",
       "      <td>-1.680390</td>\n",
       "      <td>2.741392</td>\n",
       "      <td>36.980767</td>\n",
       "    </tr>\n",
       "    <tr>\n",
       "      <th>6</th>\n",
       "      <td>-0.034363</td>\n",
       "      <td>1.230015</td>\n",
       "      <td>-0.346822</td>\n",
       "      <td>0.273874</td>\n",
       "      <td>0.007776</td>\n",
       "      <td>0.053412</td>\n",
       "      <td>-0.111203</td>\n",
       "      <td>0.134927</td>\n",
       "      <td>-0.103028</td>\n",
       "      <td>0.156953</td>\n",
       "      <td>...</td>\n",
       "      <td>0.973073</td>\n",
       "      <td>1.039637</td>\n",
       "      <td>-1.236091</td>\n",
       "      <td>-3.712959</td>\n",
       "      <td>96.102398</td>\n",
       "      <td>-7.328301</td>\n",
       "      <td>0.462351</td>\n",
       "      <td>-2.453087</td>\n",
       "      <td>-3.014377</td>\n",
       "      <td>30.501048</td>\n",
       "    </tr>\n",
       "    <tr>\n",
       "      <th>7</th>\n",
       "      <td>-1.551176</td>\n",
       "      <td>2.169652</td>\n",
       "      <td>0.025142</td>\n",
       "      <td>0.386657</td>\n",
       "      <td>0.006544</td>\n",
       "      <td>0.681632</td>\n",
       "      <td>-0.159577</td>\n",
       "      <td>-2.944989</td>\n",
       "      <td>-0.715660</td>\n",
       "      <td>-0.513973</td>\n",
       "      <td>...</td>\n",
       "      <td>0.864275</td>\n",
       "      <td>-0.278749</td>\n",
       "      <td>-1.101702</td>\n",
       "      <td>2.049548</td>\n",
       "      <td>170.124914</td>\n",
       "      <td>-1.893880</td>\n",
       "      <td>-3.412233</td>\n",
       "      <td>-0.638331</td>\n",
       "      <td>-0.020025</td>\n",
       "      <td>-17.724106</td>\n",
       "    </tr>\n",
       "    <tr>\n",
       "      <th>8</th>\n",
       "      <td>-0.193262</td>\n",
       "      <td>0.786153</td>\n",
       "      <td>0.137448</td>\n",
       "      <td>1.480905</td>\n",
       "      <td>0.024892</td>\n",
       "      <td>0.450209</td>\n",
       "      <td>-0.128428</td>\n",
       "      <td>0.439588</td>\n",
       "      <td>-0.431400</td>\n",
       "      <td>-0.178098</td>\n",
       "      <td>...</td>\n",
       "      <td>0.747034</td>\n",
       "      <td>-0.106858</td>\n",
       "      <td>3.730598</td>\n",
       "      <td>1.605260</td>\n",
       "      <td>220.390894</td>\n",
       "      <td>-4.995834</td>\n",
       "      <td>-2.119984</td>\n",
       "      <td>2.704518</td>\n",
       "      <td>-1.404626</td>\n",
       "      <td>186.066270</td>\n",
       "    </tr>\n",
       "    <tr>\n",
       "      <th>9</th>\n",
       "      <td>0.019868</td>\n",
       "      <td>0.656306</td>\n",
       "      <td>0.138260</td>\n",
       "      <td>0.130707</td>\n",
       "      <td>0.007065</td>\n",
       "      <td>0.922781</td>\n",
       "      <td>-0.137121</td>\n",
       "      <td>-0.162396</td>\n",
       "      <td>0.005121</td>\n",
       "      <td>-0.660749</td>\n",
       "      <td>...</td>\n",
       "      <td>1.112137</td>\n",
       "      <td>0.323576</td>\n",
       "      <td>-0.922405</td>\n",
       "      <td>1.705277</td>\n",
       "      <td>153.398183</td>\n",
       "      <td>-3.168925</td>\n",
       "      <td>-3.056820</td>\n",
       "      <td>0.202051</td>\n",
       "      <td>-0.579073</td>\n",
       "      <td>189.306790</td>\n",
       "    </tr>\n",
       "    <tr>\n",
       "      <th>10</th>\n",
       "      <td>-0.478185</td>\n",
       "      <td>0.718952</td>\n",
       "      <td>0.103975</td>\n",
       "      <td>0.413023</td>\n",
       "      <td>0.029006</td>\n",
       "      <td>3.077359</td>\n",
       "      <td>-0.108391</td>\n",
       "      <td>-0.031447</td>\n",
       "      <td>-0.033589</td>\n",
       "      <td>-0.294533</td>\n",
       "      <td>...</td>\n",
       "      <td>0.790645</td>\n",
       "      <td>0.482259</td>\n",
       "      <td>0.148134</td>\n",
       "      <td>1.977516</td>\n",
       "      <td>87.537367</td>\n",
       "      <td>-21.463391</td>\n",
       "      <td>0.213216</td>\n",
       "      <td>-0.859407</td>\n",
       "      <td>3.726836</td>\n",
       "      <td>116.802731</td>\n",
       "    </tr>\n",
       "    <tr>\n",
       "      <th>11</th>\n",
       "      <td>-1.592248</td>\n",
       "      <td>6.265093</td>\n",
       "      <td>0.025423</td>\n",
       "      <td>5.161902</td>\n",
       "      <td>0.007373</td>\n",
       "      <td>0.675871</td>\n",
       "      <td>-0.158959</td>\n",
       "      <td>-2.692876</td>\n",
       "      <td>-0.479105</td>\n",
       "      <td>-0.526036</td>\n",
       "      <td>...</td>\n",
       "      <td>1.078283</td>\n",
       "      <td>-0.364157</td>\n",
       "      <td>-1.197876</td>\n",
       "      <td>1.072566</td>\n",
       "      <td>174.579101</td>\n",
       "      <td>-1.651747</td>\n",
       "      <td>4.011487</td>\n",
       "      <td>-0.547268</td>\n",
       "      <td>-0.601199</td>\n",
       "      <td>-10.700193</td>\n",
       "    </tr>\n",
       "    <tr>\n",
       "      <th>12</th>\n",
       "      <td>-0.752801</td>\n",
       "      <td>0.630755</td>\n",
       "      <td>0.099230</td>\n",
       "      <td>0.472854</td>\n",
       "      <td>0.656312</td>\n",
       "      <td>0.363614</td>\n",
       "      <td>-0.219694</td>\n",
       "      <td>0.403111</td>\n",
       "      <td>-0.145057</td>\n",
       "      <td>-0.195002</td>\n",
       "      <td>...</td>\n",
       "      <td>3.178354</td>\n",
       "      <td>-1.049630</td>\n",
       "      <td>3.671264</td>\n",
       "      <td>0.886890</td>\n",
       "      <td>305.375277</td>\n",
       "      <td>-1.989313</td>\n",
       "      <td>0.474367</td>\n",
       "      <td>6.426057</td>\n",
       "      <td>1.008745</td>\n",
       "      <td>85.622731</td>\n",
       "    </tr>\n",
       "    <tr>\n",
       "      <th>13</th>\n",
       "      <td>-0.344796</td>\n",
       "      <td>-1.653801</td>\n",
       "      <td>0.298549</td>\n",
       "      <td>0.491882</td>\n",
       "      <td>0.018647</td>\n",
       "      <td>-0.993112</td>\n",
       "      <td>0.041561</td>\n",
       "      <td>0.847830</td>\n",
       "      <td>0.227571</td>\n",
       "      <td>-4.079995</td>\n",
       "      <td>...</td>\n",
       "      <td>7.214925</td>\n",
       "      <td>-2.272754</td>\n",
       "      <td>-0.384083</td>\n",
       "      <td>0.972191</td>\n",
       "      <td>-39.027839</td>\n",
       "      <td>-14.117308</td>\n",
       "      <td>3.669939</td>\n",
       "      <td>-11.351082</td>\n",
       "      <td>-0.915439</td>\n",
       "      <td>315.400339</td>\n",
       "    </tr>\n",
       "    <tr>\n",
       "      <th>14</th>\n",
       "      <td>-3.885690</td>\n",
       "      <td>-0.527920</td>\n",
       "      <td>0.226066</td>\n",
       "      <td>-0.180757</td>\n",
       "      <td>0.133674</td>\n",
       "      <td>0.030429</td>\n",
       "      <td>0.019679</td>\n",
       "      <td>0.586860</td>\n",
       "      <td>0.027482</td>\n",
       "      <td>-1.032983</td>\n",
       "      <td>...</td>\n",
       "      <td>32.469702</td>\n",
       "      <td>-2.012827</td>\n",
       "      <td>0.540563</td>\n",
       "      <td>0.548041</td>\n",
       "      <td>62.758090</td>\n",
       "      <td>-4.086461</td>\n",
       "      <td>-0.195563</td>\n",
       "      <td>-1.166616</td>\n",
       "      <td>0.106284</td>\n",
       "      <td>462.444674</td>\n",
       "    </tr>\n",
       "    <tr>\n",
       "      <th>15</th>\n",
       "      <td>-0.888038</td>\n",
       "      <td>-0.557098</td>\n",
       "      <td>0.085430</td>\n",
       "      <td>-0.976787</td>\n",
       "      <td>0.138119</td>\n",
       "      <td>0.048825</td>\n",
       "      <td>-0.033013</td>\n",
       "      <td>0.870656</td>\n",
       "      <td>0.369005</td>\n",
       "      <td>-0.987697</td>\n",
       "      <td>...</td>\n",
       "      <td>26.659904</td>\n",
       "      <td>-2.389246</td>\n",
       "      <td>-0.686924</td>\n",
       "      <td>0.728381</td>\n",
       "      <td>177.029606</td>\n",
       "      <td>-12.186343</td>\n",
       "      <td>-3.238792</td>\n",
       "      <td>-2.863156</td>\n",
       "      <td>1.770505</td>\n",
       "      <td>277.506614</td>\n",
       "    </tr>\n",
       "    <tr>\n",
       "      <th>16</th>\n",
       "      <td>-0.366942</td>\n",
       "      <td>-0.836325</td>\n",
       "      <td>0.073159</td>\n",
       "      <td>0.022559</td>\n",
       "      <td>0.099017</td>\n",
       "      <td>0.054140</td>\n",
       "      <td>0.015690</td>\n",
       "      <td>0.297569</td>\n",
       "      <td>-0.049345</td>\n",
       "      <td>4.382720</td>\n",
       "      <td>...</td>\n",
       "      <td>33.971832</td>\n",
       "      <td>-1.970575</td>\n",
       "      <td>-0.590217</td>\n",
       "      <td>-1.372018</td>\n",
       "      <td>298.298425</td>\n",
       "      <td>-8.871820</td>\n",
       "      <td>-2.857088</td>\n",
       "      <td>-5.126649</td>\n",
       "      <td>1.533633</td>\n",
       "      <td>320.418826</td>\n",
       "    </tr>\n",
       "    <tr>\n",
       "      <th>17</th>\n",
       "      <td>1.972769</td>\n",
       "      <td>-1.132305</td>\n",
       "      <td>0.109137</td>\n",
       "      <td>0.421438</td>\n",
       "      <td>0.065840</td>\n",
       "      <td>0.067022</td>\n",
       "      <td>0.393407</td>\n",
       "      <td>0.258278</td>\n",
       "      <td>-1.025393</td>\n",
       "      <td>-0.083003</td>\n",
       "      <td>...</td>\n",
       "      <td>36.903143</td>\n",
       "      <td>-1.852536</td>\n",
       "      <td>-1.871627</td>\n",
       "      <td>1.443534</td>\n",
       "      <td>144.614812</td>\n",
       "      <td>-6.195622</td>\n",
       "      <td>-1.655796</td>\n",
       "      <td>34.799736</td>\n",
       "      <td>-1.878840</td>\n",
       "      <td>446.622868</td>\n",
       "    </tr>\n",
       "    <tr>\n",
       "      <th>18</th>\n",
       "      <td>-0.268549</td>\n",
       "      <td>-0.529111</td>\n",
       "      <td>0.105511</td>\n",
       "      <td>-1.341548</td>\n",
       "      <td>0.198808</td>\n",
       "      <td>0.093920</td>\n",
       "      <td>0.810453</td>\n",
       "      <td>0.295333</td>\n",
       "      <td>-0.063147</td>\n",
       "      <td>-0.536145</td>\n",
       "      <td>...</td>\n",
       "      <td>33.316534</td>\n",
       "      <td>-2.051388</td>\n",
       "      <td>-1.082680</td>\n",
       "      <td>2.024849</td>\n",
       "      <td>237.917124</td>\n",
       "      <td>29.869258</td>\n",
       "      <td>-5.629241</td>\n",
       "      <td>-7.009823</td>\n",
       "      <td>-2.270810</td>\n",
       "      <td>331.428621</td>\n",
       "    </tr>\n",
       "    <tr>\n",
       "      <th>19</th>\n",
       "      <td>-0.443119</td>\n",
       "      <td>-0.631207</td>\n",
       "      <td>0.064193</td>\n",
       "      <td>0.044513</td>\n",
       "      <td>0.084634</td>\n",
       "      <td>-0.041172</td>\n",
       "      <td>0.811659</td>\n",
       "      <td>0.365462</td>\n",
       "      <td>-0.011464</td>\n",
       "      <td>-0.488168</td>\n",
       "      <td>...</td>\n",
       "      <td>35.590282</td>\n",
       "      <td>-2.154351</td>\n",
       "      <td>-0.631119</td>\n",
       "      <td>-2.554090</td>\n",
       "      <td>242.156721</td>\n",
       "      <td>-7.855606</td>\n",
       "      <td>-4.440207</td>\n",
       "      <td>-8.285955</td>\n",
       "      <td>-8.319919</td>\n",
       "      <td>321.761590</td>\n",
       "    </tr>\n",
       "    <tr>\n",
       "      <th>20</th>\n",
       "      <td>-0.678689</td>\n",
       "      <td>-1.192023</td>\n",
       "      <td>0.255418</td>\n",
       "      <td>0.326436</td>\n",
       "      <td>0.032669</td>\n",
       "      <td>0.058458</td>\n",
       "      <td>0.818123</td>\n",
       "      <td>0.135484</td>\n",
       "      <td>1.354525</td>\n",
       "      <td>-1.589130</td>\n",
       "      <td>...</td>\n",
       "      <td>36.583403</td>\n",
       "      <td>-1.341129</td>\n",
       "      <td>-2.208061</td>\n",
       "      <td>-1.792138</td>\n",
       "      <td>275.352920</td>\n",
       "      <td>-12.842716</td>\n",
       "      <td>-3.935337</td>\n",
       "      <td>34.814761</td>\n",
       "      <td>-2.780257</td>\n",
       "      <td>392.555296</td>\n",
       "    </tr>\n",
       "    <tr>\n",
       "      <th>21</th>\n",
       "      <td>0.229904</td>\n",
       "      <td>-0.288069</td>\n",
       "      <td>0.110758</td>\n",
       "      <td>0.036300</td>\n",
       "      <td>0.016776</td>\n",
       "      <td>-0.096135</td>\n",
       "      <td>-0.112841</td>\n",
       "      <td>0.090199</td>\n",
       "      <td>-0.013789</td>\n",
       "      <td>-0.112420</td>\n",
       "      <td>...</td>\n",
       "      <td>0.405950</td>\n",
       "      <td>0.258815</td>\n",
       "      <td>0.093878</td>\n",
       "      <td>0.000128</td>\n",
       "      <td>-70.614671</td>\n",
       "      <td>-2.777840</td>\n",
       "      <td>-0.082998</td>\n",
       "      <td>-0.875848</td>\n",
       "      <td>-0.116237</td>\n",
       "      <td>-107.910533</td>\n",
       "    </tr>\n",
       "    <tr>\n",
       "      <th>22</th>\n",
       "      <td>0.220083</td>\n",
       "      <td>-0.226943</td>\n",
       "      <td>0.110055</td>\n",
       "      <td>0.012871</td>\n",
       "      <td>0.001639</td>\n",
       "      <td>0.078232</td>\n",
       "      <td>-0.155982</td>\n",
       "      <td>-0.139804</td>\n",
       "      <td>-0.016184</td>\n",
       "      <td>-0.114600</td>\n",
       "      <td>...</td>\n",
       "      <td>0.400776</td>\n",
       "      <td>-0.259447</td>\n",
       "      <td>0.096686</td>\n",
       "      <td>-0.051624</td>\n",
       "      <td>-71.032569</td>\n",
       "      <td>-2.776995</td>\n",
       "      <td>-0.658296</td>\n",
       "      <td>-1.011216</td>\n",
       "      <td>-0.304079</td>\n",
       "      <td>-107.383632</td>\n",
       "    </tr>\n",
       "    <tr>\n",
       "      <th>23</th>\n",
       "      <td>0.217931</td>\n",
       "      <td>-0.221374</td>\n",
       "      <td>0.109488</td>\n",
       "      <td>0.004880</td>\n",
       "      <td>0.012143</td>\n",
       "      <td>-0.115551</td>\n",
       "      <td>-0.151828</td>\n",
       "      <td>0.203439</td>\n",
       "      <td>0.018735</td>\n",
       "      <td>-0.053865</td>\n",
       "      <td>...</td>\n",
       "      <td>0.436370</td>\n",
       "      <td>0.131535</td>\n",
       "      <td>0.007992</td>\n",
       "      <td>-0.022253</td>\n",
       "      <td>-71.525326</td>\n",
       "      <td>-2.742730</td>\n",
       "      <td>-0.419223</td>\n",
       "      <td>-0.892151</td>\n",
       "      <td>-0.271618</td>\n",
       "      <td>-106.715485</td>\n",
       "    </tr>\n",
       "    <tr>\n",
       "      <th>24</th>\n",
       "      <td>0.251971</td>\n",
       "      <td>-0.268244</td>\n",
       "      <td>0.130636</td>\n",
       "      <td>0.008388</td>\n",
       "      <td>0.020468</td>\n",
       "      <td>-0.103165</td>\n",
       "      <td>0.111038</td>\n",
       "      <td>0.064573</td>\n",
       "      <td>-0.008551</td>\n",
       "      <td>-0.191514</td>\n",
       "      <td>...</td>\n",
       "      <td>0.578303</td>\n",
       "      <td>0.373860</td>\n",
       "      <td>0.009249</td>\n",
       "      <td>-0.287147</td>\n",
       "      <td>-69.447735</td>\n",
       "      <td>-2.774886</td>\n",
       "      <td>-0.184537</td>\n",
       "      <td>-0.890465</td>\n",
       "      <td>-0.159712</td>\n",
       "      <td>-107.320468</td>\n",
       "    </tr>\n",
       "    <tr>\n",
       "      <th>25</th>\n",
       "      <td>0.386363</td>\n",
       "      <td>-0.215861</td>\n",
       "      <td>0.135200</td>\n",
       "      <td>0.040695</td>\n",
       "      <td>0.030228</td>\n",
       "      <td>-0.007267</td>\n",
       "      <td>-0.158752</td>\n",
       "      <td>0.061711</td>\n",
       "      <td>0.021303</td>\n",
       "      <td>-0.047456</td>\n",
       "      <td>...</td>\n",
       "      <td>0.405079</td>\n",
       "      <td>-0.090828</td>\n",
       "      <td>-0.139380</td>\n",
       "      <td>0.049159</td>\n",
       "      <td>-71.946735</td>\n",
       "      <td>-2.744763</td>\n",
       "      <td>-0.558471</td>\n",
       "      <td>-0.953341</td>\n",
       "      <td>-0.310380</td>\n",
       "      <td>-107.884464</td>\n",
       "    </tr>\n",
       "    <tr>\n",
       "      <th>26</th>\n",
       "      <td>0.202351</td>\n",
       "      <td>-0.182266</td>\n",
       "      <td>0.136616</td>\n",
       "      <td>0.020906</td>\n",
       "      <td>0.022131</td>\n",
       "      <td>-0.023718</td>\n",
       "      <td>-0.170243</td>\n",
       "      <td>0.093747</td>\n",
       "      <td>-0.022363</td>\n",
       "      <td>-0.003157</td>\n",
       "      <td>...</td>\n",
       "      <td>0.124897</td>\n",
       "      <td>-0.491406</td>\n",
       "      <td>0.003018</td>\n",
       "      <td>0.705392</td>\n",
       "      <td>-71.639469</td>\n",
       "      <td>-2.710397</td>\n",
       "      <td>-0.292978</td>\n",
       "      <td>-0.913799</td>\n",
       "      <td>-0.153931</td>\n",
       "      <td>-109.259845</td>\n",
       "    </tr>\n",
       "    <tr>\n",
       "      <th>27</th>\n",
       "      <td>0.204515</td>\n",
       "      <td>-0.223077</td>\n",
       "      <td>0.137454</td>\n",
       "      <td>0.020578</td>\n",
       "      <td>0.022180</td>\n",
       "      <td>-0.023779</td>\n",
       "      <td>-0.170216</td>\n",
       "      <td>0.089101</td>\n",
       "      <td>-0.020558</td>\n",
       "      <td>-0.003195</td>\n",
       "      <td>...</td>\n",
       "      <td>0.125134</td>\n",
       "      <td>-0.517301</td>\n",
       "      <td>-0.008137</td>\n",
       "      <td>0.704115</td>\n",
       "      <td>-71.130426</td>\n",
       "      <td>-2.710841</td>\n",
       "      <td>-0.461895</td>\n",
       "      <td>-0.931242</td>\n",
       "      <td>-0.202845</td>\n",
       "      <td>-109.589201</td>\n",
       "    </tr>\n",
       "    <tr>\n",
       "      <th>28</th>\n",
       "      <td>-0.002217</td>\n",
       "      <td>-0.415637</td>\n",
       "      <td>0.142899</td>\n",
       "      <td>0.042399</td>\n",
       "      <td>0.021128</td>\n",
       "      <td>-0.089301</td>\n",
       "      <td>-0.145071</td>\n",
       "      <td>0.110831</td>\n",
       "      <td>-0.028253</td>\n",
       "      <td>-0.105764</td>\n",
       "      <td>...</td>\n",
       "      <td>-0.229327</td>\n",
       "      <td>0.112436</td>\n",
       "      <td>0.085071</td>\n",
       "      <td>0.239702</td>\n",
       "      <td>-65.129134</td>\n",
       "      <td>-2.780200</td>\n",
       "      <td>-0.584239</td>\n",
       "      <td>-0.927587</td>\n",
       "      <td>-0.313859</td>\n",
       "      <td>-110.980412</td>\n",
       "    </tr>\n",
       "    <tr>\n",
       "      <th>29</th>\n",
       "      <td>0.132941</td>\n",
       "      <td>-0.195697</td>\n",
       "      <td>0.099830</td>\n",
       "      <td>0.027380</td>\n",
       "      <td>0.024285</td>\n",
       "      <td>-0.084715</td>\n",
       "      <td>-0.143137</td>\n",
       "      <td>0.129155</td>\n",
       "      <td>0.005976</td>\n",
       "      <td>-0.411060</td>\n",
       "      <td>...</td>\n",
       "      <td>0.270361</td>\n",
       "      <td>0.468070</td>\n",
       "      <td>-0.221405</td>\n",
       "      <td>0.718091</td>\n",
       "      <td>-64.937485</td>\n",
       "      <td>-2.810006</td>\n",
       "      <td>-0.428159</td>\n",
       "      <td>-0.830495</td>\n",
       "      <td>-0.195662</td>\n",
       "      <td>-100.601491</td>\n",
       "    </tr>\n",
       "    <tr>\n",
       "      <th>...</th>\n",
       "      <td>...</td>\n",
       "      <td>...</td>\n",
       "      <td>...</td>\n",
       "      <td>...</td>\n",
       "      <td>...</td>\n",
       "      <td>...</td>\n",
       "      <td>...</td>\n",
       "      <td>...</td>\n",
       "      <td>...</td>\n",
       "      <td>...</td>\n",
       "      <td>...</td>\n",
       "      <td>...</td>\n",
       "      <td>...</td>\n",
       "      <td>...</td>\n",
       "      <td>...</td>\n",
       "      <td>...</td>\n",
       "      <td>...</td>\n",
       "      <td>...</td>\n",
       "      <td>...</td>\n",
       "      <td>...</td>\n",
       "      <td>...</td>\n",
       "    </tr>\n",
       "    <tr>\n",
       "      <th>970</th>\n",
       "      <td>28.425367</td>\n",
       "      <td>-1.066665</td>\n",
       "      <td>-1.632705</td>\n",
       "      <td>0.049791</td>\n",
       "      <td>0.013808</td>\n",
       "      <td>0.163783</td>\n",
       "      <td>0.620173</td>\n",
       "      <td>-0.306511</td>\n",
       "      <td>0.905454</td>\n",
       "      <td>0.168350</td>\n",
       "      <td>...</td>\n",
       "      <td>0.040635</td>\n",
       "      <td>0.390127</td>\n",
       "      <td>-0.392848</td>\n",
       "      <td>-3.728586</td>\n",
       "      <td>-178.764884</td>\n",
       "      <td>-2.417234</td>\n",
       "      <td>86.126597</td>\n",
       "      <td>-0.757705</td>\n",
       "      <td>-0.673075</td>\n",
       "      <td>-91.055794</td>\n",
       "    </tr>\n",
       "    <tr>\n",
       "      <th>971</th>\n",
       "      <td>13.039416</td>\n",
       "      <td>-0.191651</td>\n",
       "      <td>-1.596717</td>\n",
       "      <td>0.133839</td>\n",
       "      <td>0.006564</td>\n",
       "      <td>0.081418</td>\n",
       "      <td>0.176227</td>\n",
       "      <td>-0.260189</td>\n",
       "      <td>0.398554</td>\n",
       "      <td>0.028610</td>\n",
       "      <td>...</td>\n",
       "      <td>0.168153</td>\n",
       "      <td>-0.176235</td>\n",
       "      <td>-0.487941</td>\n",
       "      <td>-2.797309</td>\n",
       "      <td>-119.617502</td>\n",
       "      <td>-1.566980</td>\n",
       "      <td>143.405419</td>\n",
       "      <td>-0.860504</td>\n",
       "      <td>-0.976144</td>\n",
       "      <td>-170.912285</td>\n",
       "    </tr>\n",
       "    <tr>\n",
       "      <th>972</th>\n",
       "      <td>22.304500</td>\n",
       "      <td>-0.142310</td>\n",
       "      <td>-1.517401</td>\n",
       "      <td>0.099433</td>\n",
       "      <td>0.006715</td>\n",
       "      <td>0.105741</td>\n",
       "      <td>0.231605</td>\n",
       "      <td>-0.532317</td>\n",
       "      <td>0.410799</td>\n",
       "      <td>0.190291</td>\n",
       "      <td>...</td>\n",
       "      <td>0.217042</td>\n",
       "      <td>0.628856</td>\n",
       "      <td>-0.534083</td>\n",
       "      <td>-2.390398</td>\n",
       "      <td>-156.875314</td>\n",
       "      <td>-1.276784</td>\n",
       "      <td>132.767427</td>\n",
       "      <td>-0.845351</td>\n",
       "      <td>-1.207487</td>\n",
       "      <td>-120.531783</td>\n",
       "    </tr>\n",
       "    <tr>\n",
       "      <th>973</th>\n",
       "      <td>12.226625</td>\n",
       "      <td>-0.467048</td>\n",
       "      <td>-1.527858</td>\n",
       "      <td>-0.023134</td>\n",
       "      <td>0.006401</td>\n",
       "      <td>0.136348</td>\n",
       "      <td>0.210995</td>\n",
       "      <td>-0.076650</td>\n",
       "      <td>0.523883</td>\n",
       "      <td>0.177459</td>\n",
       "      <td>...</td>\n",
       "      <td>2.922583</td>\n",
       "      <td>-0.974463</td>\n",
       "      <td>-0.622724</td>\n",
       "      <td>-1.095912</td>\n",
       "      <td>-66.757557</td>\n",
       "      <td>-2.681001</td>\n",
       "      <td>46.924410</td>\n",
       "      <td>-0.714259</td>\n",
       "      <td>-2.013834</td>\n",
       "      <td>-115.628301</td>\n",
       "    </tr>\n",
       "    <tr>\n",
       "      <th>974</th>\n",
       "      <td>-0.034782</td>\n",
       "      <td>-0.409420</td>\n",
       "      <td>-1.088960</td>\n",
       "      <td>0.053764</td>\n",
       "      <td>-0.003878</td>\n",
       "      <td>-0.458079</td>\n",
       "      <td>0.307809</td>\n",
       "      <td>-0.259192</td>\n",
       "      <td>-0.097406</td>\n",
       "      <td>0.751107</td>\n",
       "      <td>...</td>\n",
       "      <td>0.149937</td>\n",
       "      <td>1.105204</td>\n",
       "      <td>-1.112899</td>\n",
       "      <td>-0.523539</td>\n",
       "      <td>-53.279539</td>\n",
       "      <td>-3.565758</td>\n",
       "      <td>0.271943</td>\n",
       "      <td>-0.866717</td>\n",
       "      <td>-0.662723</td>\n",
       "      <td>-50.187369</td>\n",
       "    </tr>\n",
       "    <tr>\n",
       "      <th>975</th>\n",
       "      <td>0.174252</td>\n",
       "      <td>-0.211477</td>\n",
       "      <td>-1.601504</td>\n",
       "      <td>0.150520</td>\n",
       "      <td>0.003263</td>\n",
       "      <td>-0.064878</td>\n",
       "      <td>0.212133</td>\n",
       "      <td>0.249881</td>\n",
       "      <td>-0.124442</td>\n",
       "      <td>-0.093277</td>\n",
       "      <td>...</td>\n",
       "      <td>0.058726</td>\n",
       "      <td>0.499020</td>\n",
       "      <td>-1.203043</td>\n",
       "      <td>-0.620107</td>\n",
       "      <td>-65.613323</td>\n",
       "      <td>-2.084862</td>\n",
       "      <td>-0.875982</td>\n",
       "      <td>-0.960567</td>\n",
       "      <td>-1.064373</td>\n",
       "      <td>-58.775301</td>\n",
       "    </tr>\n",
       "    <tr>\n",
       "      <th>976</th>\n",
       "      <td>0.414155</td>\n",
       "      <td>-0.016057</td>\n",
       "      <td>-1.573286</td>\n",
       "      <td>0.120992</td>\n",
       "      <td>0.006107</td>\n",
       "      <td>-0.059410</td>\n",
       "      <td>0.160055</td>\n",
       "      <td>-0.260378</td>\n",
       "      <td>0.543754</td>\n",
       "      <td>-0.020042</td>\n",
       "      <td>...</td>\n",
       "      <td>0.156359</td>\n",
       "      <td>-0.332489</td>\n",
       "      <td>-0.505863</td>\n",
       "      <td>-1.202413</td>\n",
       "      <td>-81.452104</td>\n",
       "      <td>-2.243504</td>\n",
       "      <td>-1.049858</td>\n",
       "      <td>-0.987124</td>\n",
       "      <td>-0.487387</td>\n",
       "      <td>-62.280567</td>\n",
       "    </tr>\n",
       "    <tr>\n",
       "      <th>977</th>\n",
       "      <td>28.374846</td>\n",
       "      <td>-0.406815</td>\n",
       "      <td>-1.627885</td>\n",
       "      <td>-0.922315</td>\n",
       "      <td>0.024813</td>\n",
       "      <td>0.353200</td>\n",
       "      <td>0.307655</td>\n",
       "      <td>-0.331992</td>\n",
       "      <td>0.227286</td>\n",
       "      <td>-0.154375</td>\n",
       "      <td>...</td>\n",
       "      <td>9.269073</td>\n",
       "      <td>0.307399</td>\n",
       "      <td>-1.003593</td>\n",
       "      <td>0.815839</td>\n",
       "      <td>-202.633812</td>\n",
       "      <td>-3.322796</td>\n",
       "      <td>178.008426</td>\n",
       "      <td>-0.921385</td>\n",
       "      <td>-2.321636</td>\n",
       "      <td>-108.209481</td>\n",
       "    </tr>\n",
       "    <tr>\n",
       "      <th>978</th>\n",
       "      <td>1.415670</td>\n",
       "      <td>-2.152246</td>\n",
       "      <td>-1.678071</td>\n",
       "      <td>-0.021812</td>\n",
       "      <td>0.003220</td>\n",
       "      <td>-0.932761</td>\n",
       "      <td>0.189742</td>\n",
       "      <td>-0.343374</td>\n",
       "      <td>0.089369</td>\n",
       "      <td>0.118507</td>\n",
       "      <td>...</td>\n",
       "      <td>0.541659</td>\n",
       "      <td>0.135117</td>\n",
       "      <td>-1.190140</td>\n",
       "      <td>0.192926</td>\n",
       "      <td>-69.660457</td>\n",
       "      <td>-1.568929</td>\n",
       "      <td>1.603917</td>\n",
       "      <td>-1.226202</td>\n",
       "      <td>0.317334</td>\n",
       "      <td>-38.963328</td>\n",
       "    </tr>\n",
       "    <tr>\n",
       "      <th>979</th>\n",
       "      <td>-0.047895</td>\n",
       "      <td>-0.379334</td>\n",
       "      <td>-1.650082</td>\n",
       "      <td>0.029848</td>\n",
       "      <td>0.012171</td>\n",
       "      <td>0.014668</td>\n",
       "      <td>0.136431</td>\n",
       "      <td>0.253768</td>\n",
       "      <td>0.019947</td>\n",
       "      <td>0.082679</td>\n",
       "      <td>...</td>\n",
       "      <td>0.144836</td>\n",
       "      <td>-0.151713</td>\n",
       "      <td>-0.888012</td>\n",
       "      <td>0.855832</td>\n",
       "      <td>-36.765335</td>\n",
       "      <td>-2.901395</td>\n",
       "      <td>-0.227562</td>\n",
       "      <td>-0.893003</td>\n",
       "      <td>-1.388490</td>\n",
       "      <td>-71.438341</td>\n",
       "    </tr>\n",
       "    <tr>\n",
       "      <th>980</th>\n",
       "      <td>0.764708</td>\n",
       "      <td>-0.442214</td>\n",
       "      <td>-1.659684</td>\n",
       "      <td>0.078959</td>\n",
       "      <td>0.006276</td>\n",
       "      <td>-0.615078</td>\n",
       "      <td>0.213538</td>\n",
       "      <td>-0.297624</td>\n",
       "      <td>0.022952</td>\n",
       "      <td>0.615607</td>\n",
       "      <td>...</td>\n",
       "      <td>0.142013</td>\n",
       "      <td>-0.298645</td>\n",
       "      <td>-0.602061</td>\n",
       "      <td>-0.502259</td>\n",
       "      <td>-74.719812</td>\n",
       "      <td>-2.465997</td>\n",
       "      <td>0.627742</td>\n",
       "      <td>-0.650383</td>\n",
       "      <td>-0.938623</td>\n",
       "      <td>-59.510759</td>\n",
       "    </tr>\n",
       "    <tr>\n",
       "      <th>981</th>\n",
       "      <td>0.677545</td>\n",
       "      <td>-0.338896</td>\n",
       "      <td>-1.554913</td>\n",
       "      <td>-0.032713</td>\n",
       "      <td>0.013104</td>\n",
       "      <td>0.013924</td>\n",
       "      <td>0.225196</td>\n",
       "      <td>-0.360782</td>\n",
       "      <td>-0.266181</td>\n",
       "      <td>0.134980</td>\n",
       "      <td>...</td>\n",
       "      <td>-0.160300</td>\n",
       "      <td>0.036609</td>\n",
       "      <td>-0.450840</td>\n",
       "      <td>0.143367</td>\n",
       "      <td>-43.666055</td>\n",
       "      <td>-1.046023</td>\n",
       "      <td>0.360382</td>\n",
       "      <td>-0.591557</td>\n",
       "      <td>-0.650115</td>\n",
       "      <td>-90.459471</td>\n",
       "    </tr>\n",
       "    <tr>\n",
       "      <th>982</th>\n",
       "      <td>0.069639</td>\n",
       "      <td>-0.242637</td>\n",
       "      <td>-1.649027</td>\n",
       "      <td>0.008574</td>\n",
       "      <td>0.013170</td>\n",
       "      <td>0.015110</td>\n",
       "      <td>0.236902</td>\n",
       "      <td>0.474713</td>\n",
       "      <td>0.008842</td>\n",
       "      <td>0.088594</td>\n",
       "      <td>...</td>\n",
       "      <td>2.827415</td>\n",
       "      <td>0.141697</td>\n",
       "      <td>-1.378187</td>\n",
       "      <td>0.690133</td>\n",
       "      <td>-35.605697</td>\n",
       "      <td>-2.882227</td>\n",
       "      <td>-0.396639</td>\n",
       "      <td>-0.823135</td>\n",
       "      <td>-1.618030</td>\n",
       "      <td>-86.050613</td>\n",
       "    </tr>\n",
       "    <tr>\n",
       "      <th>983</th>\n",
       "      <td>0.091753</td>\n",
       "      <td>-0.565634</td>\n",
       "      <td>-1.558520</td>\n",
       "      <td>-0.021940</td>\n",
       "      <td>-0.013117</td>\n",
       "      <td>-0.414908</td>\n",
       "      <td>0.047637</td>\n",
       "      <td>-0.153566</td>\n",
       "      <td>0.074734</td>\n",
       "      <td>0.775797</td>\n",
       "      <td>...</td>\n",
       "      <td>0.126060</td>\n",
       "      <td>1.212041</td>\n",
       "      <td>-1.419915</td>\n",
       "      <td>-0.360420</td>\n",
       "      <td>-53.141684</td>\n",
       "      <td>-2.567054</td>\n",
       "      <td>-0.328084</td>\n",
       "      <td>0.312279</td>\n",
       "      <td>-0.666856</td>\n",
       "      <td>-48.319454</td>\n",
       "    </tr>\n",
       "    <tr>\n",
       "      <th>984</th>\n",
       "      <td>0.023812</td>\n",
       "      <td>-0.142299</td>\n",
       "      <td>-1.778184</td>\n",
       "      <td>0.138445</td>\n",
       "      <td>-0.027872</td>\n",
       "      <td>0.013193</td>\n",
       "      <td>0.209846</td>\n",
       "      <td>-0.234282</td>\n",
       "      <td>-0.097377</td>\n",
       "      <td>0.391037</td>\n",
       "      <td>...</td>\n",
       "      <td>0.162336</td>\n",
       "      <td>-0.220373</td>\n",
       "      <td>-0.456839</td>\n",
       "      <td>-1.066941</td>\n",
       "      <td>-66.223297</td>\n",
       "      <td>-3.282975</td>\n",
       "      <td>2.183057</td>\n",
       "      <td>-1.087558</td>\n",
       "      <td>-0.999236</td>\n",
       "      <td>-57.711188</td>\n",
       "    </tr>\n",
       "    <tr>\n",
       "      <th>985</th>\n",
       "      <td>0.976395</td>\n",
       "      <td>-0.218396</td>\n",
       "      <td>-1.636181</td>\n",
       "      <td>0.107121</td>\n",
       "      <td>-0.021416</td>\n",
       "      <td>0.094581</td>\n",
       "      <td>0.217832</td>\n",
       "      <td>-0.067477</td>\n",
       "      <td>0.420456</td>\n",
       "      <td>0.449517</td>\n",
       "      <td>...</td>\n",
       "      <td>0.021356</td>\n",
       "      <td>0.978340</td>\n",
       "      <td>-0.506742</td>\n",
       "      <td>-0.638571</td>\n",
       "      <td>-55.924794</td>\n",
       "      <td>-2.164542</td>\n",
       "      <td>0.203026</td>\n",
       "      <td>-0.568531</td>\n",
       "      <td>-0.865441</td>\n",
       "      <td>-64.017561</td>\n",
       "    </tr>\n",
       "    <tr>\n",
       "      <th>986</th>\n",
       "      <td>0.409187</td>\n",
       "      <td>-0.256884</td>\n",
       "      <td>-1.518648</td>\n",
       "      <td>0.156572</td>\n",
       "      <td>-0.017224</td>\n",
       "      <td>0.193658</td>\n",
       "      <td>0.140361</td>\n",
       "      <td>-0.269131</td>\n",
       "      <td>0.490707</td>\n",
       "      <td>0.280768</td>\n",
       "      <td>...</td>\n",
       "      <td>0.209797</td>\n",
       "      <td>-0.237100</td>\n",
       "      <td>-0.545176</td>\n",
       "      <td>-1.055693</td>\n",
       "      <td>-72.658860</td>\n",
       "      <td>-2.158867</td>\n",
       "      <td>0.972406</td>\n",
       "      <td>-1.058587</td>\n",
       "      <td>-0.603964</td>\n",
       "      <td>-64.556182</td>\n",
       "    </tr>\n",
       "    <tr>\n",
       "      <th>987</th>\n",
       "      <td>12.824800</td>\n",
       "      <td>-0.299366</td>\n",
       "      <td>-1.626414</td>\n",
       "      <td>-0.684232</td>\n",
       "      <td>-0.340387</td>\n",
       "      <td>-0.075673</td>\n",
       "      <td>0.203391</td>\n",
       "      <td>-0.383257</td>\n",
       "      <td>0.287068</td>\n",
       "      <td>-0.116765</td>\n",
       "      <td>...</td>\n",
       "      <td>3.065097</td>\n",
       "      <td>1.592885</td>\n",
       "      <td>-0.237932</td>\n",
       "      <td>-1.060176</td>\n",
       "      <td>-46.390720</td>\n",
       "      <td>-3.112745</td>\n",
       "      <td>46.975584</td>\n",
       "      <td>-1.156470</td>\n",
       "      <td>-0.725255</td>\n",
       "      <td>-72.427361</td>\n",
       "    </tr>\n",
       "    <tr>\n",
       "      <th>988</th>\n",
       "      <td>13.421424</td>\n",
       "      <td>-0.074241</td>\n",
       "      <td>-1.604901</td>\n",
       "      <td>-0.455618</td>\n",
       "      <td>-0.068897</td>\n",
       "      <td>0.131910</td>\n",
       "      <td>0.763141</td>\n",
       "      <td>-0.264572</td>\n",
       "      <td>-0.000693</td>\n",
       "      <td>-0.142054</td>\n",
       "      <td>...</td>\n",
       "      <td>2.999223</td>\n",
       "      <td>0.664289</td>\n",
       "      <td>-0.120963</td>\n",
       "      <td>-1.357779</td>\n",
       "      <td>-67.464636</td>\n",
       "      <td>-2.651521</td>\n",
       "      <td>47.381333</td>\n",
       "      <td>-1.310335</td>\n",
       "      <td>-1.270067</td>\n",
       "      <td>-51.000360</td>\n",
       "    </tr>\n",
       "    <tr>\n",
       "      <th>989</th>\n",
       "      <td>13.344135</td>\n",
       "      <td>-0.437530</td>\n",
       "      <td>-1.602918</td>\n",
       "      <td>-0.402219</td>\n",
       "      <td>-0.033167</td>\n",
       "      <td>0.028742</td>\n",
       "      <td>0.150674</td>\n",
       "      <td>-0.296912</td>\n",
       "      <td>-0.347795</td>\n",
       "      <td>0.032864</td>\n",
       "      <td>...</td>\n",
       "      <td>6.337744</td>\n",
       "      <td>0.719002</td>\n",
       "      <td>0.127300</td>\n",
       "      <td>-1.287788</td>\n",
       "      <td>-120.580299</td>\n",
       "      <td>-3.952590</td>\n",
       "      <td>120.345231</td>\n",
       "      <td>-0.265528</td>\n",
       "      <td>-0.011115</td>\n",
       "      <td>-101.248762</td>\n",
       "    </tr>\n",
       "    <tr>\n",
       "      <th>990</th>\n",
       "      <td>0.364854</td>\n",
       "      <td>-0.658905</td>\n",
       "      <td>-1.605038</td>\n",
       "      <td>-0.662171</td>\n",
       "      <td>-0.034203</td>\n",
       "      <td>-0.279810</td>\n",
       "      <td>0.193128</td>\n",
       "      <td>-0.340314</td>\n",
       "      <td>0.132221</td>\n",
       "      <td>-0.338884</td>\n",
       "      <td>...</td>\n",
       "      <td>1.946678</td>\n",
       "      <td>-1.862718</td>\n",
       "      <td>-0.089040</td>\n",
       "      <td>0.643007</td>\n",
       "      <td>-30.223001</td>\n",
       "      <td>-5.387025</td>\n",
       "      <td>1.997747</td>\n",
       "      <td>-0.831577</td>\n",
       "      <td>2.159143</td>\n",
       "      <td>-37.677542</td>\n",
       "    </tr>\n",
       "    <tr>\n",
       "      <th>991</th>\n",
       "      <td>1.509688</td>\n",
       "      <td>-1.356065</td>\n",
       "      <td>-1.626259</td>\n",
       "      <td>-0.870400</td>\n",
       "      <td>-0.034257</td>\n",
       "      <td>-0.076461</td>\n",
       "      <td>0.162961</td>\n",
       "      <td>-0.326566</td>\n",
       "      <td>-0.027484</td>\n",
       "      <td>-0.136376</td>\n",
       "      <td>...</td>\n",
       "      <td>2.570491</td>\n",
       "      <td>-1.711276</td>\n",
       "      <td>-1.157633</td>\n",
       "      <td>1.194700</td>\n",
       "      <td>-58.649538</td>\n",
       "      <td>-4.048851</td>\n",
       "      <td>1.134189</td>\n",
       "      <td>-1.080638</td>\n",
       "      <td>-0.821865</td>\n",
       "      <td>-49.276445</td>\n",
       "    </tr>\n",
       "    <tr>\n",
       "      <th>992</th>\n",
       "      <td>13.466169</td>\n",
       "      <td>-0.724282</td>\n",
       "      <td>-1.603407</td>\n",
       "      <td>-0.532438</td>\n",
       "      <td>-0.022562</td>\n",
       "      <td>0.007846</td>\n",
       "      <td>0.161972</td>\n",
       "      <td>-0.183784</td>\n",
       "      <td>-0.041553</td>\n",
       "      <td>-0.153364</td>\n",
       "      <td>...</td>\n",
       "      <td>2.263615</td>\n",
       "      <td>0.137561</td>\n",
       "      <td>-1.008182</td>\n",
       "      <td>-2.847401</td>\n",
       "      <td>-69.151065</td>\n",
       "      <td>-4.694463</td>\n",
       "      <td>47.448081</td>\n",
       "      <td>-1.669782</td>\n",
       "      <td>-0.491815</td>\n",
       "      <td>-102.913896</td>\n",
       "    </tr>\n",
       "    <tr>\n",
       "      <th>993</th>\n",
       "      <td>0.696091</td>\n",
       "      <td>-0.598748</td>\n",
       "      <td>-1.628639</td>\n",
       "      <td>-0.706666</td>\n",
       "      <td>-0.022609</td>\n",
       "      <td>-0.022153</td>\n",
       "      <td>0.169003</td>\n",
       "      <td>-0.163653</td>\n",
       "      <td>-0.074744</td>\n",
       "      <td>-0.130910</td>\n",
       "      <td>...</td>\n",
       "      <td>2.724433</td>\n",
       "      <td>0.188958</td>\n",
       "      <td>-0.800541</td>\n",
       "      <td>-1.324795</td>\n",
       "      <td>-36.018349</td>\n",
       "      <td>-1.824117</td>\n",
       "      <td>0.971392</td>\n",
       "      <td>-1.600174</td>\n",
       "      <td>0.400467</td>\n",
       "      <td>-74.500911</td>\n",
       "    </tr>\n",
       "    <tr>\n",
       "      <th>994</th>\n",
       "      <td>0.581348</td>\n",
       "      <td>3.082558</td>\n",
       "      <td>-1.584828</td>\n",
       "      <td>-0.129817</td>\n",
       "      <td>-0.016827</td>\n",
       "      <td>-0.017807</td>\n",
       "      <td>0.174359</td>\n",
       "      <td>-0.314999</td>\n",
       "      <td>0.014715</td>\n",
       "      <td>-0.029438</td>\n",
       "      <td>...</td>\n",
       "      <td>0.257237</td>\n",
       "      <td>-0.050074</td>\n",
       "      <td>0.107495</td>\n",
       "      <td>-0.467919</td>\n",
       "      <td>-63.419764</td>\n",
       "      <td>-3.855774</td>\n",
       "      <td>0.787801</td>\n",
       "      <td>-0.529851</td>\n",
       "      <td>-1.394478</td>\n",
       "      <td>-45.002148</td>\n",
       "    </tr>\n",
       "    <tr>\n",
       "      <th>995</th>\n",
       "      <td>25.173909</td>\n",
       "      <td>-0.307635</td>\n",
       "      <td>-1.595342</td>\n",
       "      <td>-0.354741</td>\n",
       "      <td>-0.034519</td>\n",
       "      <td>-0.000423</td>\n",
       "      <td>0.142400</td>\n",
       "      <td>-0.501862</td>\n",
       "      <td>-0.121646</td>\n",
       "      <td>-0.119554</td>\n",
       "      <td>...</td>\n",
       "      <td>7.102421</td>\n",
       "      <td>0.148630</td>\n",
       "      <td>-0.299200</td>\n",
       "      <td>-1.977391</td>\n",
       "      <td>-127.492651</td>\n",
       "      <td>-5.011564</td>\n",
       "      <td>132.418835</td>\n",
       "      <td>-0.721848</td>\n",
       "      <td>-1.008480</td>\n",
       "      <td>-137.331864</td>\n",
       "    </tr>\n",
       "    <tr>\n",
       "      <th>996</th>\n",
       "      <td>1.050393</td>\n",
       "      <td>0.454147</td>\n",
       "      <td>-1.610143</td>\n",
       "      <td>-0.540564</td>\n",
       "      <td>0.181550</td>\n",
       "      <td>-0.042840</td>\n",
       "      <td>-0.032221</td>\n",
       "      <td>-0.173834</td>\n",
       "      <td>0.009347</td>\n",
       "      <td>-0.079736</td>\n",
       "      <td>...</td>\n",
       "      <td>0.474957</td>\n",
       "      <td>0.274067</td>\n",
       "      <td>-0.588844</td>\n",
       "      <td>-2.454690</td>\n",
       "      <td>-51.336080</td>\n",
       "      <td>-3.452272</td>\n",
       "      <td>1.215039</td>\n",
       "      <td>-1.893019</td>\n",
       "      <td>-0.109991</td>\n",
       "      <td>-48.366263</td>\n",
       "    </tr>\n",
       "    <tr>\n",
       "      <th>997</th>\n",
       "      <td>2.030260</td>\n",
       "      <td>0.904496</td>\n",
       "      <td>-1.602876</td>\n",
       "      <td>-0.366544</td>\n",
       "      <td>0.143110</td>\n",
       "      <td>-0.047067</td>\n",
       "      <td>0.066551</td>\n",
       "      <td>-0.036792</td>\n",
       "      <td>-0.002005</td>\n",
       "      <td>-0.041452</td>\n",
       "      <td>...</td>\n",
       "      <td>0.301026</td>\n",
       "      <td>0.294952</td>\n",
       "      <td>-0.500630</td>\n",
       "      <td>-1.387442</td>\n",
       "      <td>-50.732960</td>\n",
       "      <td>-3.459856</td>\n",
       "      <td>1.042961</td>\n",
       "      <td>1.108376</td>\n",
       "      <td>-0.332151</td>\n",
       "      <td>-49.693733</td>\n",
       "    </tr>\n",
       "    <tr>\n",
       "      <th>998</th>\n",
       "      <td>1.990962</td>\n",
       "      <td>3.432487</td>\n",
       "      <td>-1.799467</td>\n",
       "      <td>-0.355611</td>\n",
       "      <td>-0.018705</td>\n",
       "      <td>-0.060788</td>\n",
       "      <td>0.188168</td>\n",
       "      <td>-0.090365</td>\n",
       "      <td>0.003315</td>\n",
       "      <td>0.075179</td>\n",
       "      <td>...</td>\n",
       "      <td>-0.017729</td>\n",
       "      <td>0.132099</td>\n",
       "      <td>0.023905</td>\n",
       "      <td>-0.692849</td>\n",
       "      <td>-65.627321</td>\n",
       "      <td>-4.415738</td>\n",
       "      <td>0.138998</td>\n",
       "      <td>-0.815149</td>\n",
       "      <td>-1.222271</td>\n",
       "      <td>-48.791776</td>\n",
       "    </tr>\n",
       "    <tr>\n",
       "      <th>999</th>\n",
       "      <td>4.728475</td>\n",
       "      <td>-0.275356</td>\n",
       "      <td>-1.610289</td>\n",
       "      <td>-0.619167</td>\n",
       "      <td>-0.038614</td>\n",
       "      <td>-0.037983</td>\n",
       "      <td>0.147964</td>\n",
       "      <td>-0.095952</td>\n",
       "      <td>-0.045522</td>\n",
       "      <td>-0.127308</td>\n",
       "      <td>...</td>\n",
       "      <td>8.187034</td>\n",
       "      <td>0.160034</td>\n",
       "      <td>-0.134498</td>\n",
       "      <td>1.734966</td>\n",
       "      <td>-16.265145</td>\n",
       "      <td>-4.209045</td>\n",
       "      <td>2.565594</td>\n",
       "      <td>-1.031535</td>\n",
       "      <td>-0.824122</td>\n",
       "      <td>-82.297698</td>\n",
       "    </tr>\n",
       "  </tbody>\n",
       "</table>\n",
       "<p>1000 rows × 68 columns</p>\n",
       "</div>"
      ],
      "text/plain": [
       "           Lat      Long  C1_School closing  C2_Workplace closing  \\\n",
       "0     0.687040 -0.185200           0.121672             -0.120952   \n",
       "1     1.295917 -0.281430           0.122305              0.446719   \n",
       "2     1.527646  1.243109          -0.352105              0.548936   \n",
       "3    -1.208118  0.510687           0.027444              0.511693   \n",
       "4    -0.393963  0.049052           0.110692              0.391622   \n",
       "5    -0.162296  0.178348           0.026902              0.600856   \n",
       "6    -0.034363  1.230015          -0.346822              0.273874   \n",
       "7    -1.551176  2.169652           0.025142              0.386657   \n",
       "8    -0.193262  0.786153           0.137448              1.480905   \n",
       "9     0.019868  0.656306           0.138260              0.130707   \n",
       "10   -0.478185  0.718952           0.103975              0.413023   \n",
       "11   -1.592248  6.265093           0.025423              5.161902   \n",
       "12   -0.752801  0.630755           0.099230              0.472854   \n",
       "13   -0.344796 -1.653801           0.298549              0.491882   \n",
       "14   -3.885690 -0.527920           0.226066             -0.180757   \n",
       "15   -0.888038 -0.557098           0.085430             -0.976787   \n",
       "16   -0.366942 -0.836325           0.073159              0.022559   \n",
       "17    1.972769 -1.132305           0.109137              0.421438   \n",
       "18   -0.268549 -0.529111           0.105511             -1.341548   \n",
       "19   -0.443119 -0.631207           0.064193              0.044513   \n",
       "20   -0.678689 -1.192023           0.255418              0.326436   \n",
       "21    0.229904 -0.288069           0.110758              0.036300   \n",
       "22    0.220083 -0.226943           0.110055              0.012871   \n",
       "23    0.217931 -0.221374           0.109488              0.004880   \n",
       "24    0.251971 -0.268244           0.130636              0.008388   \n",
       "25    0.386363 -0.215861           0.135200              0.040695   \n",
       "26    0.202351 -0.182266           0.136616              0.020906   \n",
       "27    0.204515 -0.223077           0.137454              0.020578   \n",
       "28   -0.002217 -0.415637           0.142899              0.042399   \n",
       "29    0.132941 -0.195697           0.099830              0.027380   \n",
       "..         ...       ...                ...                   ...   \n",
       "970  28.425367 -1.066665          -1.632705              0.049791   \n",
       "971  13.039416 -0.191651          -1.596717              0.133839   \n",
       "972  22.304500 -0.142310          -1.517401              0.099433   \n",
       "973  12.226625 -0.467048          -1.527858             -0.023134   \n",
       "974  -0.034782 -0.409420          -1.088960              0.053764   \n",
       "975   0.174252 -0.211477          -1.601504              0.150520   \n",
       "976   0.414155 -0.016057          -1.573286              0.120992   \n",
       "977  28.374846 -0.406815          -1.627885             -0.922315   \n",
       "978   1.415670 -2.152246          -1.678071             -0.021812   \n",
       "979  -0.047895 -0.379334          -1.650082              0.029848   \n",
       "980   0.764708 -0.442214          -1.659684              0.078959   \n",
       "981   0.677545 -0.338896          -1.554913             -0.032713   \n",
       "982   0.069639 -0.242637          -1.649027              0.008574   \n",
       "983   0.091753 -0.565634          -1.558520             -0.021940   \n",
       "984   0.023812 -0.142299          -1.778184              0.138445   \n",
       "985   0.976395 -0.218396          -1.636181              0.107121   \n",
       "986   0.409187 -0.256884          -1.518648              0.156572   \n",
       "987  12.824800 -0.299366          -1.626414             -0.684232   \n",
       "988  13.421424 -0.074241          -1.604901             -0.455618   \n",
       "989  13.344135 -0.437530          -1.602918             -0.402219   \n",
       "990   0.364854 -0.658905          -1.605038             -0.662171   \n",
       "991   1.509688 -1.356065          -1.626259             -0.870400   \n",
       "992  13.466169 -0.724282          -1.603407             -0.532438   \n",
       "993   0.696091 -0.598748          -1.628639             -0.706666   \n",
       "994   0.581348  3.082558          -1.584828             -0.129817   \n",
       "995  25.173909 -0.307635          -1.595342             -0.354741   \n",
       "996   1.050393  0.454147          -1.610143             -0.540564   \n",
       "997   2.030260  0.904496          -1.602876             -0.366544   \n",
       "998   1.990962  3.432487          -1.799467             -0.355611   \n",
       "999   4.728475 -0.275356          -1.610289             -0.619167   \n",
       "\n",
       "     C3_Cancel public events  C4_Restrictions on gatherings  \\\n",
       "0                   0.009138                      -0.149788   \n",
       "1                   0.015871                      -0.238067   \n",
       "2                   0.007402                       0.024460   \n",
       "3                   0.006197                       0.101582   \n",
       "4                   0.019744                       3.355277   \n",
       "5                   0.012854                       0.045025   \n",
       "6                   0.007776                       0.053412   \n",
       "7                   0.006544                       0.681632   \n",
       "8                   0.024892                       0.450209   \n",
       "9                   0.007065                       0.922781   \n",
       "10                  0.029006                       3.077359   \n",
       "11                  0.007373                       0.675871   \n",
       "12                  0.656312                       0.363614   \n",
       "13                  0.018647                      -0.993112   \n",
       "14                  0.133674                       0.030429   \n",
       "15                  0.138119                       0.048825   \n",
       "16                  0.099017                       0.054140   \n",
       "17                  0.065840                       0.067022   \n",
       "18                  0.198808                       0.093920   \n",
       "19                  0.084634                      -0.041172   \n",
       "20                  0.032669                       0.058458   \n",
       "21                  0.016776                      -0.096135   \n",
       "22                  0.001639                       0.078232   \n",
       "23                  0.012143                      -0.115551   \n",
       "24                  0.020468                      -0.103165   \n",
       "25                  0.030228                      -0.007267   \n",
       "26                  0.022131                      -0.023718   \n",
       "27                  0.022180                      -0.023779   \n",
       "28                  0.021128                      -0.089301   \n",
       "29                  0.024285                      -0.084715   \n",
       "..                       ...                            ...   \n",
       "970                 0.013808                       0.163783   \n",
       "971                 0.006564                       0.081418   \n",
       "972                 0.006715                       0.105741   \n",
       "973                 0.006401                       0.136348   \n",
       "974                -0.003878                      -0.458079   \n",
       "975                 0.003263                      -0.064878   \n",
       "976                 0.006107                      -0.059410   \n",
       "977                 0.024813                       0.353200   \n",
       "978                 0.003220                      -0.932761   \n",
       "979                 0.012171                       0.014668   \n",
       "980                 0.006276                      -0.615078   \n",
       "981                 0.013104                       0.013924   \n",
       "982                 0.013170                       0.015110   \n",
       "983                -0.013117                      -0.414908   \n",
       "984                -0.027872                       0.013193   \n",
       "985                -0.021416                       0.094581   \n",
       "986                -0.017224                       0.193658   \n",
       "987                -0.340387                      -0.075673   \n",
       "988                -0.068897                       0.131910   \n",
       "989                -0.033167                       0.028742   \n",
       "990                -0.034203                      -0.279810   \n",
       "991                -0.034257                      -0.076461   \n",
       "992                -0.022562                       0.007846   \n",
       "993                -0.022609                      -0.022153   \n",
       "994                -0.016827                      -0.017807   \n",
       "995                -0.034519                      -0.000423   \n",
       "996                 0.181550                      -0.042840   \n",
       "997                 0.143110                      -0.047067   \n",
       "998                -0.018705                      -0.060788   \n",
       "999                -0.038614                      -0.037983   \n",
       "\n",
       "     C5_Close public transport  C6_Stay at home requirements  \\\n",
       "0                    -0.163716                      0.523340   \n",
       "1                    -0.037461                      0.176348   \n",
       "2                    -0.185773                      0.186885   \n",
       "3                    -0.070489                      0.562257   \n",
       "4                    -0.113901                     -0.381809   \n",
       "5                    -0.182567                      0.261477   \n",
       "6                    -0.111203                      0.134927   \n",
       "7                    -0.159577                     -2.944989   \n",
       "8                    -0.128428                      0.439588   \n",
       "9                    -0.137121                     -0.162396   \n",
       "10                   -0.108391                     -0.031447   \n",
       "11                   -0.158959                     -2.692876   \n",
       "12                   -0.219694                      0.403111   \n",
       "13                    0.041561                      0.847830   \n",
       "14                    0.019679                      0.586860   \n",
       "15                   -0.033013                      0.870656   \n",
       "16                    0.015690                      0.297569   \n",
       "17                    0.393407                      0.258278   \n",
       "18                    0.810453                      0.295333   \n",
       "19                    0.811659                      0.365462   \n",
       "20                    0.818123                      0.135484   \n",
       "21                   -0.112841                      0.090199   \n",
       "22                   -0.155982                     -0.139804   \n",
       "23                   -0.151828                      0.203439   \n",
       "24                    0.111038                      0.064573   \n",
       "25                   -0.158752                      0.061711   \n",
       "26                   -0.170243                      0.093747   \n",
       "27                   -0.170216                      0.089101   \n",
       "28                   -0.145071                      0.110831   \n",
       "29                   -0.143137                      0.129155   \n",
       "..                         ...                           ...   \n",
       "970                   0.620173                     -0.306511   \n",
       "971                   0.176227                     -0.260189   \n",
       "972                   0.231605                     -0.532317   \n",
       "973                   0.210995                     -0.076650   \n",
       "974                   0.307809                     -0.259192   \n",
       "975                   0.212133                      0.249881   \n",
       "976                   0.160055                     -0.260378   \n",
       "977                   0.307655                     -0.331992   \n",
       "978                   0.189742                     -0.343374   \n",
       "979                   0.136431                      0.253768   \n",
       "980                   0.213538                     -0.297624   \n",
       "981                   0.225196                     -0.360782   \n",
       "982                   0.236902                      0.474713   \n",
       "983                   0.047637                     -0.153566   \n",
       "984                   0.209846                     -0.234282   \n",
       "985                   0.217832                     -0.067477   \n",
       "986                   0.140361                     -0.269131   \n",
       "987                   0.203391                     -0.383257   \n",
       "988                   0.763141                     -0.264572   \n",
       "989                   0.150674                     -0.296912   \n",
       "990                   0.193128                     -0.340314   \n",
       "991                   0.162961                     -0.326566   \n",
       "992                   0.161972                     -0.183784   \n",
       "993                   0.169003                     -0.163653   \n",
       "994                   0.174359                     -0.314999   \n",
       "995                   0.142400                     -0.501862   \n",
       "996                  -0.032221                     -0.173834   \n",
       "997                   0.066551                     -0.036792   \n",
       "998                   0.188168                     -0.090365   \n",
       "999                   0.147964                     -0.095952   \n",
       "\n",
       "     C7_Restrictions on internal movement  C8_International travel controls  \\\n",
       "0                               -0.073230                         -0.149081   \n",
       "1                               -0.082286                          0.124899   \n",
       "2                               -0.092525                          0.182422   \n",
       "3                               -0.148686                          0.111689   \n",
       "4                                0.037674                         -0.851095   \n",
       "5                               -0.068269                          0.008603   \n",
       "6                               -0.103028                          0.156953   \n",
       "7                               -0.715660                         -0.513973   \n",
       "8                               -0.431400                         -0.178098   \n",
       "9                                0.005121                         -0.660749   \n",
       "10                              -0.033589                         -0.294533   \n",
       "11                              -0.479105                         -0.526036   \n",
       "12                              -0.145057                         -0.195002   \n",
       "13                               0.227571                         -4.079995   \n",
       "14                               0.027482                         -1.032983   \n",
       "15                               0.369005                         -0.987697   \n",
       "16                              -0.049345                          4.382720   \n",
       "17                              -1.025393                         -0.083003   \n",
       "18                              -0.063147                         -0.536145   \n",
       "19                              -0.011464                         -0.488168   \n",
       "20                               1.354525                         -1.589130   \n",
       "21                              -0.013789                         -0.112420   \n",
       "22                              -0.016184                         -0.114600   \n",
       "23                               0.018735                         -0.053865   \n",
       "24                              -0.008551                         -0.191514   \n",
       "25                               0.021303                         -0.047456   \n",
       "26                              -0.022363                         -0.003157   \n",
       "27                              -0.020558                         -0.003195   \n",
       "28                              -0.028253                         -0.105764   \n",
       "29                               0.005976                         -0.411060   \n",
       "..                                    ...                               ...   \n",
       "970                              0.905454                          0.168350   \n",
       "971                              0.398554                          0.028610   \n",
       "972                              0.410799                          0.190291   \n",
       "973                              0.523883                          0.177459   \n",
       "974                             -0.097406                          0.751107   \n",
       "975                             -0.124442                         -0.093277   \n",
       "976                              0.543754                         -0.020042   \n",
       "977                              0.227286                         -0.154375   \n",
       "978                              0.089369                          0.118507   \n",
       "979                              0.019947                          0.082679   \n",
       "980                              0.022952                          0.615607   \n",
       "981                             -0.266181                          0.134980   \n",
       "982                              0.008842                          0.088594   \n",
       "983                              0.074734                          0.775797   \n",
       "984                             -0.097377                          0.391037   \n",
       "985                              0.420456                          0.449517   \n",
       "986                              0.490707                          0.280768   \n",
       "987                              0.287068                         -0.116765   \n",
       "988                             -0.000693                         -0.142054   \n",
       "989                             -0.347795                          0.032864   \n",
       "990                              0.132221                         -0.338884   \n",
       "991                             -0.027484                         -0.136376   \n",
       "992                             -0.041553                         -0.153364   \n",
       "993                             -0.074744                         -0.130910   \n",
       "994                              0.014715                         -0.029438   \n",
       "995                             -0.121646                         -0.119554   \n",
       "996                              0.009347                         -0.079736   \n",
       "997                             -0.002005                         -0.041452   \n",
       "998                              0.003315                          0.075179   \n",
       "999                             -0.045522                         -0.127308   \n",
       "\n",
       "          ...         Deaths_lag3  Recovered_lag1  Recovered_lag2  \\\n",
       "0         ...            1.236206       -0.481487       -0.556121   \n",
       "1         ...            0.235700       -0.141121       -0.504500   \n",
       "2         ...            0.683488        0.024245       -0.995033   \n",
       "3         ...            0.282585        0.058864        0.391866   \n",
       "4         ...            0.514320       -0.030338       -0.484114   \n",
       "5         ...            0.839366        0.401641       -0.754461   \n",
       "6         ...            0.973073        1.039637       -1.236091   \n",
       "7         ...            0.864275       -0.278749       -1.101702   \n",
       "8         ...            0.747034       -0.106858        3.730598   \n",
       "9         ...            1.112137        0.323576       -0.922405   \n",
       "10        ...            0.790645        0.482259        0.148134   \n",
       "11        ...            1.078283       -0.364157       -1.197876   \n",
       "12        ...            3.178354       -1.049630        3.671264   \n",
       "13        ...            7.214925       -2.272754       -0.384083   \n",
       "14        ...           32.469702       -2.012827        0.540563   \n",
       "15        ...           26.659904       -2.389246       -0.686924   \n",
       "16        ...           33.971832       -1.970575       -0.590217   \n",
       "17        ...           36.903143       -1.852536       -1.871627   \n",
       "18        ...           33.316534       -2.051388       -1.082680   \n",
       "19        ...           35.590282       -2.154351       -0.631119   \n",
       "20        ...           36.583403       -1.341129       -2.208061   \n",
       "21        ...            0.405950        0.258815        0.093878   \n",
       "22        ...            0.400776       -0.259447        0.096686   \n",
       "23        ...            0.436370        0.131535        0.007992   \n",
       "24        ...            0.578303        0.373860        0.009249   \n",
       "25        ...            0.405079       -0.090828       -0.139380   \n",
       "26        ...            0.124897       -0.491406        0.003018   \n",
       "27        ...            0.125134       -0.517301       -0.008137   \n",
       "28        ...           -0.229327        0.112436        0.085071   \n",
       "29        ...            0.270361        0.468070       -0.221405   \n",
       "..        ...                 ...             ...             ...   \n",
       "970       ...            0.040635        0.390127       -0.392848   \n",
       "971       ...            0.168153       -0.176235       -0.487941   \n",
       "972       ...            0.217042        0.628856       -0.534083   \n",
       "973       ...            2.922583       -0.974463       -0.622724   \n",
       "974       ...            0.149937        1.105204       -1.112899   \n",
       "975       ...            0.058726        0.499020       -1.203043   \n",
       "976       ...            0.156359       -0.332489       -0.505863   \n",
       "977       ...            9.269073        0.307399       -1.003593   \n",
       "978       ...            0.541659        0.135117       -1.190140   \n",
       "979       ...            0.144836       -0.151713       -0.888012   \n",
       "980       ...            0.142013       -0.298645       -0.602061   \n",
       "981       ...           -0.160300        0.036609       -0.450840   \n",
       "982       ...            2.827415        0.141697       -1.378187   \n",
       "983       ...            0.126060        1.212041       -1.419915   \n",
       "984       ...            0.162336       -0.220373       -0.456839   \n",
       "985       ...            0.021356        0.978340       -0.506742   \n",
       "986       ...            0.209797       -0.237100       -0.545176   \n",
       "987       ...            3.065097        1.592885       -0.237932   \n",
       "988       ...            2.999223        0.664289       -0.120963   \n",
       "989       ...            6.337744        0.719002        0.127300   \n",
       "990       ...            1.946678       -1.862718       -0.089040   \n",
       "991       ...            2.570491       -1.711276       -1.157633   \n",
       "992       ...            2.263615        0.137561       -1.008182   \n",
       "993       ...            2.724433        0.188958       -0.800541   \n",
       "994       ...            0.257237       -0.050074        0.107495   \n",
       "995       ...            7.102421        0.148630       -0.299200   \n",
       "996       ...            0.474957        0.274067       -0.588844   \n",
       "997       ...            0.301026        0.294952       -0.500630   \n",
       "998       ...           -0.017729        0.132099        0.023905   \n",
       "999       ...            8.187034        0.160034       -0.134498   \n",
       "\n",
       "     Recovered_lag3  Confirmed_diff1  Deaths_diff1  Recovered_diff1  \\\n",
       "0          1.021668        22.256134     -2.545069        -0.658941   \n",
       "1          1.017923        37.537214     -1.748051        -2.029718   \n",
       "2          2.297112        59.281376     -3.862872         1.508382   \n",
       "3          2.106668        95.835500     -3.986120        -0.827476   \n",
       "4          2.039077       100.893630     -5.439793        -2.126043   \n",
       "5          1.230581       108.688932     -7.689326         0.614117   \n",
       "6         -3.712959        96.102398     -7.328301         0.462351   \n",
       "7          2.049548       170.124914     -1.893880        -3.412233   \n",
       "8          1.605260       220.390894     -4.995834        -2.119984   \n",
       "9          1.705277       153.398183     -3.168925        -3.056820   \n",
       "10         1.977516        87.537367    -21.463391         0.213216   \n",
       "11         1.072566       174.579101     -1.651747         4.011487   \n",
       "12         0.886890       305.375277     -1.989313         0.474367   \n",
       "13         0.972191       -39.027839    -14.117308         3.669939   \n",
       "14         0.548041        62.758090     -4.086461        -0.195563   \n",
       "15         0.728381       177.029606    -12.186343        -3.238792   \n",
       "16        -1.372018       298.298425     -8.871820        -2.857088   \n",
       "17         1.443534       144.614812     -6.195622        -1.655796   \n",
       "18         2.024849       237.917124     29.869258        -5.629241   \n",
       "19        -2.554090       242.156721     -7.855606        -4.440207   \n",
       "20        -1.792138       275.352920    -12.842716        -3.935337   \n",
       "21         0.000128       -70.614671     -2.777840        -0.082998   \n",
       "22        -0.051624       -71.032569     -2.776995        -0.658296   \n",
       "23        -0.022253       -71.525326     -2.742730        -0.419223   \n",
       "24        -0.287147       -69.447735     -2.774886        -0.184537   \n",
       "25         0.049159       -71.946735     -2.744763        -0.558471   \n",
       "26         0.705392       -71.639469     -2.710397        -0.292978   \n",
       "27         0.704115       -71.130426     -2.710841        -0.461895   \n",
       "28         0.239702       -65.129134     -2.780200        -0.584239   \n",
       "29         0.718091       -64.937485     -2.810006        -0.428159   \n",
       "..              ...              ...           ...              ...   \n",
       "970       -3.728586      -178.764884     -2.417234        86.126597   \n",
       "971       -2.797309      -119.617502     -1.566980       143.405419   \n",
       "972       -2.390398      -156.875314     -1.276784       132.767427   \n",
       "973       -1.095912       -66.757557     -2.681001        46.924410   \n",
       "974       -0.523539       -53.279539     -3.565758         0.271943   \n",
       "975       -0.620107       -65.613323     -2.084862        -0.875982   \n",
       "976       -1.202413       -81.452104     -2.243504        -1.049858   \n",
       "977        0.815839      -202.633812     -3.322796       178.008426   \n",
       "978        0.192926       -69.660457     -1.568929         1.603917   \n",
       "979        0.855832       -36.765335     -2.901395        -0.227562   \n",
       "980       -0.502259       -74.719812     -2.465997         0.627742   \n",
       "981        0.143367       -43.666055     -1.046023         0.360382   \n",
       "982        0.690133       -35.605697     -2.882227        -0.396639   \n",
       "983       -0.360420       -53.141684     -2.567054        -0.328084   \n",
       "984       -1.066941       -66.223297     -3.282975         2.183057   \n",
       "985       -0.638571       -55.924794     -2.164542         0.203026   \n",
       "986       -1.055693       -72.658860     -2.158867         0.972406   \n",
       "987       -1.060176       -46.390720     -3.112745        46.975584   \n",
       "988       -1.357779       -67.464636     -2.651521        47.381333   \n",
       "989       -1.287788      -120.580299     -3.952590       120.345231   \n",
       "990        0.643007       -30.223001     -5.387025         1.997747   \n",
       "991        1.194700       -58.649538     -4.048851         1.134189   \n",
       "992       -2.847401       -69.151065     -4.694463        47.448081   \n",
       "993       -1.324795       -36.018349     -1.824117         0.971392   \n",
       "994       -0.467919       -63.419764     -3.855774         0.787801   \n",
       "995       -1.977391      -127.492651     -5.011564       132.418835   \n",
       "996       -2.454690       -51.336080     -3.452272         1.215039   \n",
       "997       -1.387442       -50.732960     -3.459856         1.042961   \n",
       "998       -0.692849       -65.627321     -4.415738         0.138998   \n",
       "999        1.734966       -16.265145     -4.209045         2.565594   \n",
       "\n",
       "     Deaths_diff2  Recovered_diff2  Confirmed_diff2  \n",
       "0        4.802674        -1.165955       -41.296833  \n",
       "1       -3.168940         0.399914       -76.302034  \n",
       "2       -1.821154         2.923412       -29.761616  \n",
       "3       -0.779841        -0.392271       -16.825465  \n",
       "4       -0.756161        -1.980556       102.426597  \n",
       "5       -1.680390         2.741392        36.980767  \n",
       "6       -2.453087        -3.014377        30.501048  \n",
       "7       -0.638331        -0.020025       -17.724106  \n",
       "8        2.704518        -1.404626       186.066270  \n",
       "9        0.202051        -0.579073       189.306790  \n",
       "10      -0.859407         3.726836       116.802731  \n",
       "11      -0.547268        -0.601199       -10.700193  \n",
       "12       6.426057         1.008745        85.622731  \n",
       "13     -11.351082        -0.915439       315.400339  \n",
       "14      -1.166616         0.106284       462.444674  \n",
       "15      -2.863156         1.770505       277.506614  \n",
       "16      -5.126649         1.533633       320.418826  \n",
       "17      34.799736        -1.878840       446.622868  \n",
       "18      -7.009823        -2.270810       331.428621  \n",
       "19      -8.285955        -8.319919       321.761590  \n",
       "20      34.814761        -2.780257       392.555296  \n",
       "21      -0.875848        -0.116237      -107.910533  \n",
       "22      -1.011216        -0.304079      -107.383632  \n",
       "23      -0.892151        -0.271618      -106.715485  \n",
       "24      -0.890465        -0.159712      -107.320468  \n",
       "25      -0.953341        -0.310380      -107.884464  \n",
       "26      -0.913799        -0.153931      -109.259845  \n",
       "27      -0.931242        -0.202845      -109.589201  \n",
       "28      -0.927587        -0.313859      -110.980412  \n",
       "29      -0.830495        -0.195662      -100.601491  \n",
       "..            ...              ...              ...  \n",
       "970     -0.757705        -0.673075       -91.055794  \n",
       "971     -0.860504        -0.976144      -170.912285  \n",
       "972     -0.845351        -1.207487      -120.531783  \n",
       "973     -0.714259        -2.013834      -115.628301  \n",
       "974     -0.866717        -0.662723       -50.187369  \n",
       "975     -0.960567        -1.064373       -58.775301  \n",
       "976     -0.987124        -0.487387       -62.280567  \n",
       "977     -0.921385        -2.321636      -108.209481  \n",
       "978     -1.226202         0.317334       -38.963328  \n",
       "979     -0.893003        -1.388490       -71.438341  \n",
       "980     -0.650383        -0.938623       -59.510759  \n",
       "981     -0.591557        -0.650115       -90.459471  \n",
       "982     -0.823135        -1.618030       -86.050613  \n",
       "983      0.312279        -0.666856       -48.319454  \n",
       "984     -1.087558        -0.999236       -57.711188  \n",
       "985     -0.568531        -0.865441       -64.017561  \n",
       "986     -1.058587        -0.603964       -64.556182  \n",
       "987     -1.156470        -0.725255       -72.427361  \n",
       "988     -1.310335        -1.270067       -51.000360  \n",
       "989     -0.265528        -0.011115      -101.248762  \n",
       "990     -0.831577         2.159143       -37.677542  \n",
       "991     -1.080638        -0.821865       -49.276445  \n",
       "992     -1.669782        -0.491815      -102.913896  \n",
       "993     -1.600174         0.400467       -74.500911  \n",
       "994     -0.529851        -1.394478       -45.002148  \n",
       "995     -0.721848        -1.008480      -137.331864  \n",
       "996     -1.893019        -0.109991       -48.366263  \n",
       "997      1.108376        -0.332151       -49.693733  \n",
       "998     -0.815149        -1.222271       -48.791776  \n",
       "999     -1.031535        -0.824122       -82.297698  \n",
       "\n",
       "[1000 rows x 68 columns]"
      ]
     },
     "execution_count": 45,
     "metadata": {},
     "output_type": "execute_result"
    }
   ],
   "source": [
    "sv_ds"
   ]
  },
  {
   "cell_type": "raw",
   "metadata": {},
   "source": [
    "sv_ds.abs().median(0).sort_values(ascending=False)"
   ]
  },
  {
   "cell_type": "code",
   "execution_count": 69,
   "metadata": {},
   "outputs": [],
   "source": [
    "cds = []\n",
    "for f in cols_indexes:#+cols_policy:\n",
    "    cds_ = sv_ds[[f]].rename(columns={f:'Policy impact'})\n",
    "    cds_['Policy'] = f\n",
    "    cds.append(cds_)\n",
    "cds = pd.concat(cds, 0)"
   ]
  },
  {
   "cell_type": "code",
   "execution_count": 88,
   "metadata": {},
   "outputs": [
    {
     "data": {
      "image/png": "[encoded data removed]",
      "text/plain": [
       "<Figure size 432x288 with 1 Axes>"
      ]
     },
     "metadata": {
      "needs_background": "light"
     },
     "output_type": "display_data"
    }
   ],
   "source": [
    "sns.boxplot(y='Policy', x='Policy impact', data=cds)\n",
    "plt.xlabel('Policy impact (Confirmed cases per day)')\n",
    "#plt.xlim(-10, 10)\n",
    "plt.title('Policy impact according to Random Forest')\n",
    "plt.axvline(0, linewidth=2, linestyle='--', color='lightgrey')\n",
    "plt.show()"
   ]
  },
  {
   "cell_type": "code",
   "execution_count": 103,
   "metadata": {},
   "outputs": [
    {
     "data": {
      "text/html": [
       "<div align='center'><img src='data:image/png;base64,iVBORw0KGgoAAAANSUhEUgAAABkAAAAWCAYAAAA1vze2AAAAGXRFWHRTb2Z0d2FyZQBBZG9iZSBJbWFnZVJlYWR5ccllPAAAAdxJREFUeNq0Vt1Rg0AQJjcpgBJiBWIFkgoMFYhPPAIVECogPuYpdJBYgXQQrMCUkA50V7+d2ZwXuXPGm9khHLu3f9+3l1nkWNvtNqfHLgpfQ1EUS3tz5nAQ0+NIsiAZSc6eDlI8M3J00B/mDuUKDk6kfOebAgW3pkdD0pFcODGW4gKKvOrAUm04MA4QDt1OEIXU9hDigfS5rC1eS5T90gltck1Xrizo257kgySZcNRzgCSxCvgiE9nckPJo2b/B2AcEkk2OwL8bD8gmOKR1GPbaCUqxEgTq0tLvgb6zfo7+DgYGkkWL2tqLDV4RSITfbHPPfJKIrWz4nJQTMPAWA7IbD6imcNaDeDfgk+4No+wZr40BL3g9eQJJCFqRQ54KiSt72lsLpE3o3MCBSxDuq4yOckU2hKXRuwBH3OyMR4g1UpyTYw6mlmBqNdUXRM1NfyF5EPI6JkcpIDBIX8jX6DR/6ckAZJ0wEAdLR8DEk6OfC1Pp8BKo6TQIwPJbvJ6toK5lmuvJoRtfK6Ym1iRYIarRo2UyYHvRN5qpakR3yoizWrouoyuXXQqI185LCw07op5ZyCRGL99h24InP0e9xdQukEKVmhzrqZuRIfwISB//cP3Wk3f8f/yR+BRgAHu00HjLcEQBAAAAAElFTkSuQmCC' /></div><script>!function(t){function e(r){if(n[r])return n[r].exports;var i=n[r]={i:r,l:!1,exports:{}};return t[r].call(i.exports,i,i.exports,e),i.l=!0,i.exports}var n={};e.m=t,e.c=n,e.i=function(t){return t},e.d=function(t,n,r){e.o(t,n)||Object.defineProperty(t,n,{configurable:!1,enumerable:!0,get:r})},e.n=function(t){var n=t&&t.__esModule?function(){return t.default}:function(){return t};return e.d(n,\"a\",n),n},e.o=function(t,e){return Object.prototype.hasOwnProperty.call(t,e)},e.p=\"\",e(e.s=189)}([function(t,e,n){\"use strict\";function r(t,e,n,r,o,a,u,c){if(i(e),!t){var s;if(void 0===e)s=new Error(\"Minified exception occurred; use the non-minified dev environment for the full error message and additional helpful warnings.\");else{var l=[n,r,o,a,u,c],f=0;s=new Error(e.replace(/%s/g,function(){return l[f++]})),s.name=\"Invariant Violation\"}throw s.framesToPop=1,s}}var i=function(t){};t.exports=r},function(t,e,n){\"use strict\";function r(t){for(var e=arguments.length-1,n=\"Minified React error #\"+t+\"; visit http://facebook.github.io/react/docs/error-decoder.html?invariant=\"+t,r=0;r<e;r++)n+=\"&args[]=\"+encodeURIComponent(arguments[r+1]);n+=\" for the full message or use the non-minified dev environment for full errors and additional helpful warnings.\";var i=new Error(n);throw i.name=\"Invariant Violation\",i.framesToPop=1,i}t.exports=r},function(t,e,n){\"use strict\";var r=n(11),i=r;t.exports=i},function(t,e,n){\"use strict\";function r(t){if(null===t||void 0===t)throw new TypeError(\"Object.assign cannot be called with null or undefined\");return Object(t)}/*\n",
       "object-assign\n",
       "(c) Sindre Sorhus\n",
       "@license MIT\n",
       "*/\n",
       "var i=Object.getOwnPropertySymbols,o=Object.prototype.hasOwnProperty,a=Object.prototype.propertyIsEnumerable;t.exports=function(){try{if(!Object.assign)return!1;var t=new String(\"abc\");if(t[5]=\"de\",\"5\"===Object.getOwnPropertyNames(t)[0])return!1;for(var e={},n=0;n<10;n++)e[\"_\"+String.fromCharCode(n)]=n;if(\"0123456789\"!==Object.getOwnPropertyNames(e).map(function(t){return e[t]}).join(\"\"))return!1;var r={};return\"abcdefghijklmnopqrst\".split(\"\").forEach(function(t){r[t]=t}),\"abcdefghijklmnopqrst\"===Object.keys(Object.assign({},r)).join(\"\")}catch(t){return!1}}()?Object.assign:function(t,e){for(var n,u,c=r(t),s=1;s<arguments.length;s++){n=Object(arguments[s]);for(var l in n)o.call(n,l)&&(c[l]=n[l]);if(i){u=i(n);for(var f=0;f<u.length;f++)a.call(n,u[f])&&(c[u[f]]=n[u[f]])}}return c}},function(t,e,n){\"use strict\";function r(t,e){return 1===t.nodeType&&t.getAttribute(d)===String(e)||8===t.nodeType&&t.nodeValue===\" react-text: \"+e+\" \"||8===t.nodeType&&t.nodeValue===\" react-empty: \"+e+\" \"}function i(t){for(var e;e=t._renderedComponent;)t=e;return t}function o(t,e){var n=i(t);n._hostNode=e,e[g]=n}function a(t){var e=t._hostNode;e&&(delete e[g],t._hostNode=null)}function u(t,e){if(!(t._flags&v.hasCachedChildNodes)){var n=t._renderedChildren,a=e.firstChild;t:for(var u in n)if(n.hasOwnProperty(u)){var c=n[u],s=i(c)._domID;if(0!==s){for(;null!==a;a=a.nextSibling)if(r(a,s)){o(c,a);continue t}f(\"32\",s)}}t._flags|=v.hasCachedChildNodes}}function c(t){if(t[g])return t[g];for(var e=[];!t[g];){if(e.push(t),!t.parentNode)return null;t=t.parentNode}for(var n,r;t&&(r=t[g]);t=e.pop())n=r,e.length&&u(r,t);return n}function s(t){var e=c(t);return null!=e&&e._hostNode===t?e:null}function l(t){if(void 0===t._hostNode&&f(\"33\"),t._hostNode)return t._hostNode;for(var e=[];!t._hostNode;)e.push(t),t._hostParent||f(\"34\"),t=t._hostParent;for(;e.length;t=e.pop())u(t,t._hostNode);return t._hostNode}var f=n(1),p=n(21),h=n(161),d=(n(0),p.ID_ATTRIBUTE_NAME),v=h,g=\"__reactInternalInstance$\"+Math.random().toString(36).slice(2),m={getClosestInstanceFromNode:c,getInstanceFromNode:s,getNodeFromInstance:l,precacheChildNodes:u,precacheNode:o,uncacheNode:a};t.exports=m},function(t,e,n){\"use strict\";function r(t,e,n,a){function u(e){return t(e=new Date(+e)),e}return u.floor=u,u.ceil=function(n){return t(n=new Date(n-1)),e(n,1),t(n),n},u.round=function(t){var e=u(t),n=u.ceil(t);return t-e<n-t?e:n},u.offset=function(t,n){return e(t=new Date(+t),null==n?1:Math.floor(n)),t},u.range=function(n,r,i){var o,a=[];if(n=u.ceil(n),i=null==i?1:Math.floor(i),!(n<r&&i>0))return a;do{a.push(o=new Date(+n)),e(n,i),t(n)}while(o<n&&n<r);return a},u.filter=function(n){return r(function(e){if(e>=e)for(;t(e),!n(e);)e.setTime(e-1)},function(t,r){if(t>=t)if(r<0)for(;++r<=0;)for(;e(t,-1),!n(t););else for(;--r>=0;)for(;e(t,1),!n(t););})},n&&(u.count=function(e,r){return i.setTime(+e),o.setTime(+r),t(i),t(o),Math.floor(n(i,o))},u.every=function(t){return t=Math.floor(t),isFinite(t)&&t>0?t>1?u.filter(a?function(e){return a(e)%t==0}:function(e){return u.count(0,e)%t==0}):u:null}),u}e.a=r;var i=new Date,o=new Date},function(t,e,n){\"use strict\";var r=!(\"undefined\"==typeof window||!window.document||!window.document.createElement),i={canUseDOM:r,canUseWorkers:\"undefined\"!=typeof Worker,canUseEventListeners:r&&!(!window.addEventListener&&!window.attachEvent),canUseViewport:r&&!!window.screen,isInWorker:!r};t.exports=i},function(t,e,n){\"use strict\";Object.defineProperty(e,\"__esModule\",{value:!0});var r=n(101);n.d(e,\"bisect\",function(){return r.a}),n.d(e,\"bisectRight\",function(){return r.b}),n.d(e,\"bisectLeft\",function(){return r.c});var i=n(19);n.d(e,\"ascending\",function(){return i.a});var o=n(102);n.d(e,\"bisector\",function(){return o.a});var a=n(193);n.d(e,\"cross\",function(){return a.a});var u=n(194);n.d(e,\"descending\",function(){return u.a});var c=n(103);n.d(e,\"deviation\",function(){return c.a});var s=n(104);n.d(e,\"extent\",function(){return s.a});var l=n(195);n.d(e,\"histogram\",function(){return l.a});var f=n(205);n.d(e,\"thresholdFreedmanDiaconis\",function(){return f.a});var p=n(206);n.d(e,\"thresholdScott\",function(){return p.a});var h=n(108);n.d(e,\"thresholdSturges\",function(){return h.a});var d=n(197);n.d(e,\"max\",function(){return d.a});var v=n(198);n.d(e,\"mean\",function(){return v.a});var g=n(199);n.d(e,\"median\",function(){return g.a});var m=n(200);n.d(e,\"merge\",function(){return m.a});var y=n(105);n.d(e,\"min\",function(){return y.a});var _=n(106);n.d(e,\"pairs\",function(){return _.a});var b=n(201);n.d(e,\"permute\",function(){return b.a});var x=n(59);n.d(e,\"quantile\",function(){return x.a});var w=n(107);n.d(e,\"range\",function(){return w.a});var C=n(202);n.d(e,\"scan\",function(){return C.a});var k=n(203);n.d(e,\"shuffle\",function(){return k.a});var E=n(204);n.d(e,\"sum\",function(){return E.a});var M=n(109);n.d(e,\"ticks\",function(){return M.a}),n.d(e,\"tickIncrement\",function(){return M.b}),n.d(e,\"tickStep\",function(){return M.c});var T=n(110);n.d(e,\"transpose\",function(){return T.a});var S=n(111);n.d(e,\"variance\",function(){return S.a});var N=n(207);n.d(e,\"zip\",function(){return N.a})},function(t,e,n){\"use strict\";function r(t,e){this._groups=t,this._parents=e}function i(){return new r([[document.documentElement]],R)}n.d(e,\"c\",function(){return R}),e.b=r;var o=n(283),a=n(284),u=n(272),c=n(266),s=n(132),l=n(271),f=n(276),p=n(279),h=n(286),d=n(263),v=n(278),g=n(277),m=n(285),y=n(270),_=n(269),b=n(262),x=n(134),w=n(280),C=n(264),k=n(287),E=n(273),M=n(281),T=n(275),S=n(261),N=n(274),A=n(282),P=n(265),O=n(267),I=n(70),D=n(268),R=[null];r.prototype=i.prototype={constructor:r,select:o.a,selectAll:a.a,filter:u.a,data:c.a,enter:s.a,exit:l.a,merge:f.a,order:p.a,sort:h.a,call:d.a,nodes:v.a,node:g.a,size:m.a,empty:y.a,each:_.a,attr:b.a,style:x.b,property:w.a,classed:C.a,text:k.a,html:E.a,raise:M.a,lower:T.a,append:S.a,insert:N.a,remove:A.a,clone:P.a,datum:O.a,on:I.c,dispatch:D.a},e.a=i},function(t,e,n){\"use strict\";var r=null;t.exports={debugTool:r}},function(t,e,n){\"use strict\";Object.defineProperty(e,\"__esModule\",{value:!0});var r=n(61);n.d(e,\"color\",function(){return r.a}),n.d(e,\"rgb\",function(){return r.b}),n.d(e,\"hsl\",function(){return r.c});var i=n(218);n.d(e,\"lab\",function(){return i.a}),n.d(e,\"hcl\",function(){return i.b});var o=n(217);n.d(e,\"cubehelix\",function(){return o.a})},function(t,e,n){\"use strict\";function r(t){return function(){return t}}var i=function(){};i.thatReturns=r,i.thatReturnsFalse=r(!1),i.thatReturnsTrue=r(!0),i.thatReturnsNull=r(null),i.thatReturnsThis=function(){return this},i.thatReturnsArgument=function(t){return t},t.exports=i},function(t,e,n){\"use strict\";function r(){S.ReactReconcileTransaction&&w||l(\"123\")}function i(){this.reinitializeTransaction(),this.dirtyComponentsLength=null,this.callbackQueue=p.getPooled(),this.reconcileTransaction=S.ReactReconcileTransaction.getPooled(!0)}function o(t,e,n,i,o,a){return r(),w.batchedUpdates(t,e,n,i,o,a)}function a(t,e){return t._mountOrder-e._mountOrder}function u(t){var e=t.dirtyComponentsLength;e!==y.length&&l(\"124\",e,y.length),y.sort(a),_++;for(var n=0;n<e;n++){var r=y[n],i=r._pendingCallbacks;r._pendingCallbacks=null;var o;if(d.logTopLevelRenders){var u=r;r._currentElement.type.isReactTopLevelWrapper&&(u=r._renderedComponent),o=\"React update: \"+u.getName(),console.time(o)}if(v.performUpdateIfNecessary(r,t.reconcileTransaction,_),o&&console.timeEnd(o),i)for(var c=0;c<i.length;c++)t.callbackQueue.enqueue(i[c],r.getPublicInstance())}}function c(t){if(r(),!w.isBatchingUpdates)return void w.batchedUpdates(c,t);y.push(t),null==t._updateBatchNumber&&(t._updateBatchNumber=_+1)}function s(t,e){m(w.isBatchingUpdates,\"ReactUpdates.asap: Can't enqueue an asap callback in a context whereupdates are not being batched.\"),b.enqueue(t,e),x=!0}var l=n(1),f=n(3),p=n(159),h=n(18),d=n(164),v=n(24),g=n(55),m=n(0),y=[],_=0,b=p.getPooled(),x=!1,w=null,C={initialize:function(){this.dirtyComponentsLength=y.length},close:function(){this.dirtyComponentsLength!==y.length?(y.splice(0,this.dirtyComponentsLength),M()):y.length=0}},k={initialize:function(){this.callbackQueue.reset()},close:function(){this.callbackQueue.notifyAll()}},E=[C,k];f(i.prototype,g,{getTransactionWrappers:function(){return E},destructor:function(){this.dirtyComponentsLength=null,p.release(this.callbackQueue),this.callbackQueue=null,S.ReactReconcileTransaction.release(this.reconcileTransaction),this.reconcileTransaction=null},perform:function(t,e,n){return g.perform.call(this,this.reconcileTransaction.perform,this.reconcileTransaction,t,e,n)}}),h.addPoolingTo(i);var M=function(){for(;y.length||x;){if(y.length){var t=i.getPooled();t.perform(u,null,t),i.release(t)}if(x){x=!1;var e=b;b=p.getPooled(),e.notifyAll(),p.release(e)}}},T={injectReconcileTransaction:function(t){t||l(\"126\"),S.ReactReconcileTransaction=t},injectBatchingStrategy:function(t){t||l(\"127\"),\"function\"!=typeof t.batchedUpdates&&l(\"128\"),\"boolean\"!=typeof t.isBatchingUpdates&&l(\"129\"),w=t}},S={ReactReconcileTransaction:null,batchedUpdates:o,enqueueUpdate:c,flushBatchedUpdates:M,injection:T,asap:s};t.exports=S},function(t,e,n){\"use strict\";n.d(e,\"e\",function(){return r}),n.d(e,\"d\",function(){return i}),n.d(e,\"c\",function(){return o}),n.d(e,\"b\",function(){return a}),n.d(e,\"a\",function(){return u});var r=1e3,i=6e4,o=36e5,a=864e5,u=6048e5},function(t,e,n){\"use strict\";function r(t,e,n,r){this.dispatchConfig=t,this._targetInst=e,this.nativeEvent=n;var i=this.constructor.Interface;for(var o in i)if(i.hasOwnProperty(o)){var u=i[o];u?this[o]=u(n):\"target\"===o?this.target=r:this[o]=n[o]}var c=null!=n.defaultPrevented?n.defaultPrevented:!1===n.returnValue;return this.isDefaultPrevented=c?a.thatReturnsTrue:a.thatReturnsFalse,this.isPropagationStopped=a.thatReturnsFalse,this}var i=n(3),o=n(18),a=n(11),u=(n(2),[\"dispatchConfig\",\"_targetInst\",\"nativeEvent\",\"isDefaultPrevented\",\"isPropagationStopped\",\"_dispatchListeners\",\"_dispatchInstances\"]),c={type:null,target:null,currentTarget:a.thatReturnsNull,eventPhase:null,bubbles:null,cancelable:null,timeStamp:function(t){return t.timeStamp||Date.now()},defaultPrevented:null,isTrusted:null};i(r.prototype,{preventDefault:function(){this.defaultPrevented=!0;var t=this.nativeEvent;t&&(t.preventDefault?t.preventDefault():\"unknown\"!=typeof t.returnValue&&(t.returnValue=!1),this.isDefaultPrevented=a.thatReturnsTrue)},stopPropagation:function(){var t=this.nativeEvent;t&&(t.stopPropagation?t.stopPropagation():\"unknown\"!=typeof t.cancelBubble&&(t.cancelBubble=!0),this.isPropagationStopped=a.thatReturnsTrue)},persist:function(){this.isPersistent=a.thatReturnsTrue},isPersistent:a.thatReturnsFalse,destructor:function(){var t=this.constructor.Interface;for(var e in t)this[e]=null;for(var n=0;n<u.length;n++)this[u[n]]=null}}),r.Interface=c,r.augmentClass=function(t,e){var n=this,r=function(){};r.prototype=n.prototype;var a=new r;i(a,t.prototype),t.prototype=a,t.prototype.constructor=t,t.Interface=i({},n.Interface,e),t.augmentClass=n.augmentClass,o.addPoolingTo(t,o.fourArgumentPooler)},o.addPoolingTo(r,o.fourArgumentPooler),t.exports=r},function(t,e,n){\"use strict\";var r={current:null};t.exports=r},function(t,e,n){\"use strict\";n.d(e,\"a\",function(){return i}),n.d(e,\"b\",function(){return o});var r=Array.prototype,i=r.map,o=r.slice},function(t,e,n){\"use strict\";e.a=function(t){return function(){return t}}},function(t,e,n){\"use strict\";var r=n(1),i=(n(0),function(t){var e=this;if(e.instancePool.length){var n=e.instancePool.pop();return e.call(n,t),n}return new e(t)}),o=function(t,e){var n=this;if(n.instancePool.length){var r=n.instancePool.pop();return n.call(r,t,e),r}return new n(t,e)},a=function(t,e,n){var r=this;if(r.instancePool.length){var i=r.instancePool.pop();return r.call(i,t,e,n),i}return new r(t,e,n)},u=function(t,e,n,r){var i=this;if(i.instancePool.length){var o=i.instancePool.pop();return i.call(o,t,e,n,r),o}return new i(t,e,n,r)},c=function(t){var e=this;t instanceof e||r(\"25\"),t.destructor(),e.instancePool.length<e.poolSize&&e.instancePool.push(t)},s=i,l=function(t,e){var n=t;return n.instancePool=[],n.getPooled=e||s,n.poolSize||(n.poolSize=10),n.release=c,n},f={addPoolingTo:l,oneArgumentPooler:i,twoArgumentPooler:o,threeArgumentPooler:a,fourArgumentPooler:u};t.exports=f},function(t,e,n){\"use strict\";e.a=function(t,e){return t<e?-1:t>e?1:t>=e?0:NaN}},function(t,e,n){\"use strict\";function r(t){if(d){var e=t.node,n=t.children;if(n.length)for(var r=0;r<n.length;r++)v(e,n[r],null);else null!=t.html?f(e,t.html):null!=t.text&&h(e,t.text)}}function i(t,e){t.parentNode.replaceChild(e.node,t),r(e)}function o(t,e){d?t.children.push(e):t.node.appendChild(e.node)}function a(t,e){d?t.html=e:f(t.node,e)}function u(t,e){d?t.text=e:h(t.node,e)}function c(){return this.node.nodeName}function s(t){return{node:t,children:[],html:null,text:null,toString:c}}var l=n(83),f=n(57),p=n(91),h=n(176),d=\"undefined\"!=typeof document&&\"number\"==typeof document.documentMode||\"undefined\"!=typeof navigator&&\"string\"==typeof navigator.userAgent&&/\\bEdge\\/\\d/.test(navigator.userAgent),v=p(function(t,e,n){11===e.node.nodeType||1===e.node.nodeType&&\"object\"===e.node.nodeName.toLowerCase()&&(null==e.node.namespaceURI||e.node.namespaceURI===l.html)?(r(e),t.insertBefore(e.node,n)):(t.insertBefore(e.node,n),r(e))});s.insertTreeBefore=v,s.replaceChildWithTree=i,s.queueChild=o,s.queueHTML=a,s.queueText=u,t.exports=s},function(t,e,n){\"use strict\";function r(t,e){return(t&e)===e}var i=n(1),o=(n(0),{MUST_USE_PROPERTY:1,HAS_BOOLEAN_VALUE:4,HAS_NUMERIC_VALUE:8,HAS_POSITIVE_NUMERIC_VALUE:24,HAS_OVERLOADED_BOOLEAN_VALUE:32,injectDOMPropertyConfig:function(t){var e=o,n=t.Properties||{},a=t.DOMAttributeNamespaces||{},c=t.DOMAttributeNames||{},s=t.DOMPropertyNames||{},l=t.DOMMutationMethods||{};t.isCustomAttribute&&u._isCustomAttributeFunctions.push(t.isCustomAttribute);for(var f in n){u.properties.hasOwnProperty(f)&&i(\"48\",f);var p=f.toLowerCase(),h=n[f],d={attributeName:p,attributeNamespace:null,propertyName:f,mutationMethod:null,mustUseProperty:r(h,e.MUST_USE_PROPERTY),hasBooleanValue:r(h,e.HAS_BOOLEAN_VALUE),hasNumericValue:r(h,e.HAS_NUMERIC_VALUE),hasPositiveNumericValue:r(h,e.HAS_POSITIVE_NUMERIC_VALUE),hasOverloadedBooleanValue:r(h,e.HAS_OVERLOADED_BOOLEAN_VALUE)};if(d.hasBooleanValue+d.hasNumericValue+d.hasOverloadedBooleanValue<=1||i(\"50\",f),c.hasOwnProperty(f)){var v=c[f];d.attributeName=v}a.hasOwnProperty(f)&&(d.attributeNamespace=a[f]),s.hasOwnProperty(f)&&(d.propertyName=s[f]),l.hasOwnProperty(f)&&(d.mutationMethod=l[f]),u.properties[f]=d}}}),a=\":A-Z_a-z\\\\u00C0-\\\\u00D6\\\\u00D8-\\\\u00F6\\\\u00F8-\\\\u02FF\\\\u0370-\\\\u037D\\\\u037F-\\\\u1FFF\\\\u200C-\\\\u200D\\\\u2070-\\\\u218F\\\\u2C00-\\\\u2FEF\\\\u3001-\\\\uD7FF\\\\uF900-\\\\uFDCF\\\\uFDF0-\\\\uFFFD\",u={ID_ATTRIBUTE_NAME:\"data-reactid\",ROOT_ATTRIBUTE_NAME:\"data-reactroot\",ATTRIBUTE_NAME_START_CHAR:a,ATTRIBUTE_NAME_CHAR:a+\"\\\\-.0-9\\\\u00B7\\\\u0300-\\\\u036F\\\\u203F-\\\\u2040\",properties:{},getPossibleStandardName:null,_isCustomAttributeFunctions:[],isCustomAttribute:function(t){for(var e=0;e<u._isCustomAttributeFunctions.length;e++){if((0,u._isCustomAttributeFunctions[e])(t))return!0}return!1},injection:o};t.exports=u},function(t,e,n){\"use strict\";function r(t){return\"button\"===t||\"input\"===t||\"select\"===t||\"textarea\"===t}function i(t,e,n){switch(t){case\"onClick\":case\"onClickCapture\":case\"onDoubleClick\":case\"onDoubleClickCapture\":case\"onMouseDown\":case\"onMouseDownCapture\":case\"onMouseMove\":case\"onMouseMoveCapture\":case\"onMouseUp\":case\"onMouseUpCapture\":return!(!n.disabled||!r(e));default:return!1}}var o=n(1),a=n(84),u=n(52),c=n(88),s=n(169),l=n(170),f=(n(0),{}),p=null,h=function(t,e){t&&(u.executeDispatchesInOrder(t,e),t.isPersistent()||t.constructor.release(t))},d=function(t){return h(t,!0)},v=function(t){return h(t,!1)},g=function(t){return\".\"+t._rootNodeID},m={injection:{injectEventPluginOrder:a.injectEventPluginOrder,injectEventPluginsByName:a.injectEventPluginsByName},putListener:function(t,e,n){\"function\"!=typeof n&&o(\"94\",e,typeof n);var r=g(t);(f[e]||(f[e]={}))[r]=n;var i=a.registrationNameModules[e];i&&i.didPutListener&&i.didPutListener(t,e,n)},getListener:function(t,e){var n=f[e];if(i(e,t._currentElement.type,t._currentElement.props))return null;var r=g(t);return n&&n[r]},deleteListener:function(t,e){var n=a.registrationNameModules[e];n&&n.willDeleteListener&&n.willDeleteListener(t,e);var r=f[e];if(r){delete r[g(t)]}},deleteAllListeners:function(t){var e=g(t);for(var n in f)if(f.hasOwnProperty(n)&&f[n][e]){var r=a.registrationNameModules[n];r&&r.willDeleteListener&&r.willDeleteListener(t,n),delete f[n][e]}},extractEvents:function(t,e,n,r){for(var i,o=a.plugins,u=0;u<o.length;u++){var c=o[u];if(c){var l=c.extractEvents(t,e,n,r);l&&(i=s(i,l))}}return i},enqueueEvents:function(t){t&&(p=s(p,t))},processEventQueue:function(t){var e=p;p=null,t?l(e,d):l(e,v),p&&o(\"95\"),c.rethrowCaughtError()},__purge:function(){f={}},__getListenerBank:function(){return f}};t.exports=m},function(t,e,n){\"use strict\";function r(t,e,n){var r=e.dispatchConfig.phasedRegistrationNames[n];return m(t,r)}function i(t,e,n){var i=r(t,n,e);i&&(n._dispatchListeners=v(n._dispatchListeners,i),n._dispatchInstances=v(n._dispatchInstances,t))}function o(t){t&&t.dispatchConfig.phasedRegistrationNames&&d.traverseTwoPhase(t._targetInst,i,t)}function a(t){if(t&&t.dispatchConfig.phasedRegistrationNames){var e=t._targetInst,n=e?d.getParentInstance(e):null;d.traverseTwoPhase(n,i,t)}}function u(t,e,n){if(n&&n.dispatchConfig.registrationName){var r=n.dispatchConfig.registrationName,i=m(t,r);i&&(n._dispatchListeners=v(n._dispatchListeners,i),n._dispatchInstances=v(n._dispatchInstances,t))}}function c(t){t&&t.dispatchConfig.registrationName&&u(t._targetInst,null,t)}function s(t){g(t,o)}function l(t){g(t,a)}function f(t,e,n,r){d.traverseEnterLeave(n,r,u,t,e)}function p(t){g(t,c)}var h=n(22),d=n(52),v=n(169),g=n(170),m=(n(2),h.getListener),y={accumulateTwoPhaseDispatches:s,accumulateTwoPhaseDispatchesSkipTarget:l,accumulateDirectDispatches:p,accumulateEnterLeaveDispatches:f};t.exports=y},function(t,e,n){\"use strict\";function r(){i.attachRefs(this,this._currentElement)}var i=n(382),o=(n(9),n(2),{mountComponent:function(t,e,n,i,o,a){var u=t.mountComponent(e,n,i,o,a);return t._currentElement&&null!=t._currentElement.ref&&e.getReactMountReady().enqueue(r,t),u},getHostNode:function(t){return t.getHostNode()},unmountComponent:function(t,e){i.detachRefs(t,t._currentElement),t.unmountComponent(e)},receiveComponent:function(t,e,n,o){var a=t._currentElement;if(e!==a||o!==t._context){var u=i.shouldUpdateRefs(a,e);u&&i.detachRefs(t,a),t.receiveComponent(e,n,o),u&&t._currentElement&&null!=t._currentElement.ref&&n.getReactMountReady().enqueue(r,t)}},performUpdateIfNecessary:function(t,e,n){t._updateBatchNumber===n&&t.performUpdateIfNecessary(e)}});t.exports=o},function(t,e,n){\"use strict\";function r(t,e,n,r){return i.call(this,t,e,n,r)}var i=n(14),o=n(94),a={view:function(t){if(t.view)return t.view;var e=o(t);if(e.window===e)return e;var n=e.ownerDocument;return n?n.defaultView||n.parentWindow:window},detail:function(t){return t.detail||0}};i.augmentClass(r,a),t.exports=r},function(t,e,n){\"use strict\";var r=n(3),i=n(178),o=n(414),a=n(415),u=n(27),c=n(416),s=n(417),l=n(418),f=n(422),p=u.createElement,h=u.createFactory,d=u.cloneElement,v=r,g=function(t){return t},m={Children:{map:o.map,forEach:o.forEach,count:o.count,toArray:o.toArray,only:f},Component:i.Component,PureComponent:i.PureComponent,createElement:p,cloneElement:d,isValidElement:u.isValidElement,PropTypes:c,createClass:l,createFactory:h,createMixin:g,DOM:a,version:s,__spread:v};t.exports=m},function(t,e,n){\"use strict\";function r(t){return void 0!==t.ref}function i(t){return void 0!==t.key}var o=n(3),a=n(15),u=(n(2),n(182),Object.prototype.hasOwnProperty),c=n(180),s={key:!0,ref:!0,__self:!0,__source:!0},l=function(t,e,n,r,i,o,a){var u={$$typeof:c,type:t,key:e,ref:n,props:a,_owner:o};return u};l.createElement=function(t,e,n){var o,c={},f=null,p=null;if(null!=e){r(e)&&(p=e.ref),i(e)&&(f=\"\"+e.key),void 0===e.__self?null:e.__self,void 0===e.__source?null:e.__source;for(o in e)u.call(e,o)&&!s.hasOwnProperty(o)&&(c[o]=e[o])}var h=arguments.length-2;if(1===h)c.children=n;else if(h>1){for(var d=Array(h),v=0;v<h;v++)d[v]=arguments[v+2];c.children=d}if(t&&t.defaultProps){var g=t.defaultProps;for(o in g)void 0===c[o]&&(c[o]=g[o])}return l(t,f,p,0,0,a.current,c)},l.createFactory=function(t){var e=l.createElement.bind(null,t);return e.type=t,e},l.cloneAndReplaceKey=function(t,e){return l(t.type,e,t.ref,t._self,t._source,t._owner,t.props)},l.cloneElement=function(t,e,n){var c,f=o({},t.props),p=t.key,h=t.ref,d=(t._self,t._source,t._owner);if(null!=e){r(e)&&(h=e.ref,d=a.current),i(e)&&(p=\"\"+e.key);var v;t.type&&t.type.defaultProps&&(v=t.type.defaultProps);for(c in e)u.call(e,c)&&!s.hasOwnProperty(c)&&(void 0===e[c]&&void 0!==v?f[c]=v[c]:f[c]=e[c])}var g=arguments.length-2;if(1===g)f.children=n;else if(g>1){for(var m=Array(g),y=0;y<g;y++)m[y]=arguments[y+2];f.children=m}return l(t.type,p,h,0,0,d,f)},l.isValidElement=function(t){return\"object\"==typeof t&&null!==t&&t.$$typeof===c},t.exports=l},function(t,e,n){\"use strict\";e.a=function(t){return null===t?NaN:+t}},function(t,e,n){\"use strict\";Object.defineProperty(e,\"__esModule\",{value:!0});var r=n(219);n.d(e,\"formatDefaultLocale\",function(){return r.a}),n.d(e,\"format\",function(){return r.b}),n.d(e,\"formatPrefix\",function(){return r.c});var i=n(117);n.d(e,\"formatLocale\",function(){return i.a});var o=n(115);n.d(e,\"formatSpecifier\",function(){return o.a});var a=n(225);n.d(e,\"precisionFixed\",function(){return a.a});var u=n(226);n.d(e,\"precisionPrefix\",function(){return u.a});var c=n(227);n.d(e,\"precisionRound\",function(){return c.a})},function(t,e,n){\"use strict\";var r=n(65);n.d(e,\"b\",function(){return r.a});var i=(n(118),n(64),n(119),n(121),n(43));n.d(e,\"a\",function(){return i.a});var o=(n(122),n(233));n.d(e,\"c\",function(){return o.a});var a=(n(124),n(235),n(237),n(123),n(230),n(231),n(229),n(228));n.d(e,\"d\",function(){return a.a});n(232)},function(t,e,n){\"use strict\";function r(t,e){return function(n){return t+n*e}}function i(t,e,n){return t=Math.pow(t,n),e=Math.pow(e,n)-t,n=1/n,function(r){return Math.pow(t+r*e,n)}}function o(t,e){var i=e-t;return i?r(t,i>180||i<-180?i-360*Math.round(i/360):i):n.i(c.a)(isNaN(t)?e:t)}function a(t){return 1==(t=+t)?u:function(e,r){return r-e?i(e,r,t):n.i(c.a)(isNaN(e)?r:e)}}function u(t,e){var i=e-t;return i?r(t,i):n.i(c.a)(isNaN(t)?e:t)}e.b=o,e.c=a,e.a=u;var c=n(120)},function(t,e,n){\"use strict\";var r=n(238);n.d(e,\"a\",function(){return r.a})},function(t,e,n){\"use strict\";e.a=function(t){return t.match(/.{6}/g).map(function(t){return\"#\"+t})}},function(t,e,n){\"use strict\";function r(t){var e=t.domain;return t.ticks=function(t){var r=e();return n.i(o.ticks)(r[0],r[r.length-1],null==t?10:t)},t.tickFormat=function(t,r){return n.i(c.a)(e(),t,r)},t.nice=function(r){null==r&&(r=10);var i,a=e(),u=0,c=a.length-1,s=a[u],l=a[c];return l<s&&(i=s,s=l,l=i,i=u,u=c,c=i),i=n.i(o.tickIncrement)(s,l,r),i>0?(s=Math.floor(s/i)*i,l=Math.ceil(l/i)*i,i=n.i(o.tickIncrement)(s,l,r)):i<0&&(s=Math.ceil(s*i)/i,l=Math.floor(l*i)/i,i=n.i(o.tickIncrement)(s,l,r)),i>0?(a[u]=Math.floor(s/i)*i,a[c]=Math.ceil(l/i)*i,e(a)):i<0&&(a[u]=Math.ceil(s*i)/i,a[c]=Math.floor(l*i)/i,e(a)),t},t}function i(){var t=n.i(u.a)(u.b,a.a);return t.copy=function(){return n.i(u.c)(t,i())},r(t)}e.b=r,e.a=i;var o=n(7),a=n(30),u=n(44),c=n(253)},function(t,e,n){\"use strict\";function r(t){return t>1?0:t<-1?h:Math.acos(t)}function i(t){return t>=1?d:t<=-1?-d:Math.asin(t)}n.d(e,\"g\",function(){return o}),n.d(e,\"m\",function(){return a}),n.d(e,\"h\",function(){return u}),n.d(e,\"e\",function(){return c}),n.d(e,\"j\",function(){return s}),n.d(e,\"i\",function(){return l}),n.d(e,\"d\",function(){return f}),n.d(e,\"a\",function(){return p}),n.d(e,\"b\",function(){return h}),n.d(e,\"f\",function(){return d}),n.d(e,\"c\",function(){return v}),e.l=r,e.k=i;var o=Math.abs,a=Math.atan2,u=Math.cos,c=Math.max,s=Math.min,l=Math.sin,f=Math.sqrt,p=1e-12,h=Math.PI,d=h/2,v=2*h},function(t,e,n){\"use strict\";e.a=function(t,e){if((i=t.length)>1)for(var n,r,i,o=1,a=t[e[0]],u=a.length;o<i;++o)for(r=a,a=t[e[o]],n=0;n<u;++n)a[n][1]+=a[n][0]=isNaN(r[n][1])?r[n][0]:r[n][1]}},function(t,e,n){\"use strict\";e.a=function(t){for(var e=t.length,n=new Array(e);--e>=0;)n[e]=e;return n}},function(t,e,n){(function(t,r){var i;(function(){function o(t,e,n){switch(n.length){case 0:return t.call(e);case 1:return t.call(e,n[0]);case 2:return t.call(e,n[0],n[1]);case 3:return t.call(e,n[0],n[1],n[2])}return t.apply(e,n)}function a(t,e,n,r){for(var i=-1,o=null==t?0:t.length;++i<o;){var a=t[i];e(r,a,n(a),t)}return r}function u(t,e){for(var n=-1,r=null==t?0:t.length;++n<r&&!1!==e(t[n],n,t););return t}function c(t,e){for(var n=null==t?0:t.length;n--&&!1!==e(t[n],n,t););return t}function s(t,e){for(var n=-1,r=null==t?0:t.length;++n<r;)if(!e(t[n],n,t))return!1;return!0}function l(t,e){for(var n=-1,r=null==t?0:t.length,i=0,o=[];++n<r;){var a=t[n];e(a,n,t)&&(o[i++]=a)}return o}function f(t,e){return!!(null==t?0:t.length)&&w(t,e,0)>-1}function p(t,e,n){for(var r=-1,i=null==t?0:t.length;++r<i;)if(n(e,t[r]))return!0;return!1}function h(t,e){for(var n=-1,r=null==t?0:t.length,i=Array(r);++n<r;)i[n]=e(t[n],n,t);return i}function d(t,e){for(var n=-1,r=e.length,i=t.length;++n<r;)t[i+n]=e[n];return t}function v(t,e,n,r){var i=-1,o=null==t?0:t.length;for(r&&o&&(n=t[++i]);++i<o;)n=e(n,t[i],i,t);return n}function g(t,e,n,r){var i=null==t?0:t.length;for(r&&i&&(n=t[--i]);i--;)n=e(n,t[i],i,t);return n}function m(t,e){for(var n=-1,r=null==t?0:t.length;++n<r;)if(e(t[n],n,t))return!0;return!1}function y(t){return t.split(\"\")}function _(t){return t.match(Ue)||[]}function b(t,e,n){var r;return n(t,function(t,n,i){if(e(t,n,i))return r=n,!1}),r}function x(t,e,n,r){for(var i=t.length,o=n+(r?1:-1);r?o--:++o<i;)if(e(t[o],o,t))return o;return-1}function w(t,e,n){return e===e?$(t,e,n):x(t,k,n)}function C(t,e,n,r){for(var i=n-1,o=t.length;++i<o;)if(r(t[i],e))return i;return-1}function k(t){return t!==t}function E(t,e){var n=null==t?0:t.length;return n?A(t,e)/n:It}function M(t){return function(e){return null==e?nt:e[t]}}function T(t){return function(e){return null==t?nt:t[e]}}function S(t,e,n,r,i){return i(t,function(t,i,o){n=r?(r=!1,t):e(n,t,i,o)}),n}function N(t,e){var n=t.length;for(t.sort(e);n--;)t[n]=t[n].value;return t}function A(t,e){for(var n,r=-1,i=t.length;++r<i;){var o=e(t[r]);o!==nt&&(n=n===nt?o:n+o)}return n}function P(t,e){for(var n=-1,r=Array(t);++n<t;)r[n]=e(n);return r}function O(t,e){return h(e,function(e){return[e,t[e]]})}function I(t){return function(e){return t(e)}}function D(t,e){return h(e,function(e){return t[e]})}function R(t,e){return t.has(e)}function L(t,e){for(var n=-1,r=t.length;++n<r&&w(e,t[n],0)>-1;);return n}function U(t,e){for(var n=t.length;n--&&w(e,t[n],0)>-1;);return n}function F(t,e){for(var n=t.length,r=0;n--;)t[n]===e&&++r;return r}function j(t){return\"\\\\\"+En[t]}function B(t,e){return null==t?nt:t[e]}function V(t){return gn.test(t)}function W(t){return mn.test(t)}function z(t){for(var e,n=[];!(e=t.next()).done;)n.push(e.value);return n}function H(t){var e=-1,n=Array(t.size);return t.forEach(function(t,r){n[++e]=[r,t]}),n}function q(t,e){return function(n){return t(e(n))}}function Y(t,e){for(var n=-1,r=t.length,i=0,o=[];++n<r;){var a=t[n];a!==e&&a!==ct||(t[n]=ct,o[i++]=n)}return o}function K(t){var e=-1,n=Array(t.size);return t.forEach(function(t){n[++e]=t}),n}function G(t){var e=-1,n=Array(t.size);return t.forEach(function(t){n[++e]=[t,t]}),n}function $(t,e,n){for(var r=n-1,i=t.length;++r<i;)if(t[r]===e)return r;return-1}function X(t,e,n){for(var r=n+1;r--;)if(t[r]===e)return r;return r}function Q(t){return V(t)?J(t):Wn(t)}function Z(t){return V(t)?tt(t):y(t)}function J(t){for(var e=dn.lastIndex=0;dn.test(t);)++e;return e}function tt(t){return t.match(dn)||[]}function et(t){return t.match(vn)||[]}var nt,rt=200,it=\"Unsupported core-js use. Try https://npms.io/search?q=ponyfill.\",ot=\"Expected a function\",at=\"__lodash_hash_undefined__\",ut=500,ct=\"__lodash_placeholder__\",st=1,lt=2,ft=4,pt=1,ht=2,dt=1,vt=2,gt=4,mt=8,yt=16,_t=32,bt=64,xt=128,wt=256,Ct=512,kt=30,Et=\"...\",Mt=800,Tt=16,St=1,Nt=2,At=1/0,Pt=9007199254740991,Ot=1.7976931348623157e308,It=NaN,Dt=4294967295,Rt=Dt-1,Lt=Dt>>>1,Ut=[[\"ary\",xt],[\"bind\",dt],[\"bindKey\",vt],[\"curry\",mt],[\"curryRight\",yt],[\"flip\",Ct],[\"partial\",_t],[\"partialRight\",bt],[\"rearg\",wt]],Ft=\"[object Arguments]\",jt=\"[object Array]\",Bt=\"[object AsyncFunction]\",Vt=\"[object Boolean]\",Wt=\"[object Date]\",zt=\"[object DOMException]\",Ht=\"[object Error]\",qt=\"[object Function]\",Yt=\"[object GeneratorFunction]\",Kt=\"[object Map]\",Gt=\"[object Number]\",$t=\"[object Null]\",Xt=\"[object Object]\",Qt=\"[object Proxy]\",Zt=\"[object RegExp]\",Jt=\"[object Set]\",te=\"[object String]\",ee=\"[object Symbol]\",ne=\"[object Undefined]\",re=\"[object WeakMap]\",ie=\"[object WeakSet]\",oe=\"[object ArrayBuffer]\",ae=\"[object DataView]\",ue=\"[object Float32Array]\",ce=\"[object Float64Array]\",se=\"[object Int8Array]\",le=\"[object Int16Array]\",fe=\"[object Int32Array]\",pe=\"[object Uint8Array]\",he=\"[object Uint8ClampedArray]\",de=\"[object Uint16Array]\",ve=\"[object Uint32Array]\",ge=/\\b__p \\+= '';/g,me=/\\b(__p \\+=) '' \\+/g,ye=/(__e\\(.*?\\)|\\b__t\\)) \\+\\n'';/g,_e=/&(?:amp|lt|gt|quot|#39);/g,be=/[&<>\"']/g,xe=RegExp(_e.source),we=RegExp(be.source),Ce=/<%-([\\s\\S]+?)%>/g,ke=/<%([\\s\\S]+?)%>/g,Ee=/<%=([\\s\\S]+?)%>/g,Me=/\\.|\\[(?:[^[\\]]*|([\"'])(?:(?!\\1)[^\\\\]|\\\\.)*?\\1)\\]/,Te=/^\\w*$/,Se=/[^.[\\]]+|\\[(?:(-?\\d+(?:\\.\\d+)?)|([\"'])((?:(?!\\2)[^\\\\]|\\\\.)*?)\\2)\\]|(?=(?:\\.|\\[\\])(?:\\.|\\[\\]|$))/g,Ne=/[\\\\^$.*+?()[\\]{}|]/g,Ae=RegExp(Ne.source),Pe=/^\\s+|\\s+$/g,Oe=/^\\s+/,Ie=/\\s+$/,De=/\\{(?:\\n\\/\\* \\[wrapped with .+\\] \\*\\/)?\\n?/,Re=/\\{\\n\\/\\* \\[wrapped with (.+)\\] \\*/,Le=/,? & /,Ue=/[^\\x00-\\x2f\\x3a-\\x40\\x5b-\\x60\\x7b-\\x7f]+/g,Fe=/\\\\(\\\\)?/g,je=/\\$\\{([^\\\\}]*(?:\\\\.[^\\\\}]*)*)\\}/g,Be=/\\w*$/,Ve=/^[-+]0x[0-9a-f]+$/i,We=/^0b[01]+$/i,ze=/^\\[object .+?Constructor\\]$/,He=/^0o[0-7]+$/i,qe=/^(?:0|[1-9]\\d*)$/,Ye=/[\\xc0-\\xd6\\xd8-\\xf6\\xf8-\\xff\\u0100-\\u017f]/g,Ke=/($^)/,Ge=/['\\n\\r\\u2028\\u2029\\\\]/g,$e=\"\\\\u0300-\\\\u036f\\\\ufe20-\\\\ufe2f\\\\u20d0-\\\\u20ff\",Xe=\"\\\\xac\\\\xb1\\\\xd7\\\\xf7\\\\x00-\\\\x2f\\\\x3a-\\\\x40\\\\x5b-\\\\x60\\\\x7b-\\\\xbf\\\\u2000-\\\\u206f \\\\t\\\\x0b\\\\f\\\\xa0\\\\ufeff\\\\n\\\\r\\\\u2028\\\\u2029\\\\u1680\\\\u180e\\\\u2000\\\\u2001\\\\u2002\\\\u2003\\\\u2004\\\\u2005\\\\u2006\\\\u2007\\\\u2008\\\\u2009\\\\u200a\\\\u202f\\\\u205f\\\\u3000\",Qe=\"[\"+Xe+\"]\",Ze=\"[\"+$e+\"]\",Je=\"[a-z\\\\xdf-\\\\xf6\\\\xf8-\\\\xff]\",tn=\"[^\\\\ud800-\\\\udfff\"+Xe+\"\\\\d+\\\\u2700-\\\\u27bfa-z\\\\xdf-\\\\xf6\\\\xf8-\\\\xffA-Z\\\\xc0-\\\\xd6\\\\xd8-\\\\xde]\",en=\"\\\\ud83c[\\\\udffb-\\\\udfff]\",nn=\"(?:\\\\ud83c[\\\\udde6-\\\\uddff]){2}\",rn=\"[\\\\ud800-\\\\udbff][\\\\udc00-\\\\udfff]\",on=\"[A-Z\\\\xc0-\\\\xd6\\\\xd8-\\\\xde]\",an=\"(?:\"+Je+\"|\"+tn+\")\",un=\"(?:[\\\\u0300-\\\\u036f\\\\ufe20-\\\\ufe2f\\\\u20d0-\\\\u20ff]|\\\\ud83c[\\\\udffb-\\\\udfff])?\",cn=\"(?:\\\\u200d(?:\"+[\"[^\\\\ud800-\\\\udfff]\",nn,rn].join(\"|\")+\")[\\\\ufe0e\\\\ufe0f]?\"+un+\")*\",sn=\"[\\\\ufe0e\\\\ufe0f]?\"+un+cn,ln=\"(?:\"+[\"[\\\\u2700-\\\\u27bf]\",nn,rn].join(\"|\")+\")\"+sn,fn=\"(?:\"+[\"[^\\\\ud800-\\\\udfff]\"+Ze+\"?\",Ze,nn,rn,\"[\\\\ud800-\\\\udfff]\"].join(\"|\")+\")\",pn=RegExp(\"['’]\",\"g\"),hn=RegExp(Ze,\"g\"),dn=RegExp(en+\"(?=\"+en+\")|\"+fn+sn,\"g\"),vn=RegExp([on+\"?\"+Je+\"+(?:['’](?:d|ll|m|re|s|t|ve))?(?=\"+[Qe,on,\"$\"].join(\"|\")+\")\",\"(?:[A-Z\\\\xc0-\\\\xd6\\\\xd8-\\\\xde]|[^\\\\ud800-\\\\udfff\\\\xac\\\\xb1\\\\xd7\\\\xf7\\\\x00-\\\\x2f\\\\x3a-\\\\x40\\\\x5b-\\\\x60\\\\x7b-\\\\xbf\\\\u2000-\\\\u206f \\\\t\\\\x0b\\\\f\\\\xa0\\\\ufeff\\\\n\\\\r\\\\u2028\\\\u2029\\\\u1680\\\\u180e\\\\u2000\\\\u2001\\\\u2002\\\\u2003\\\\u2004\\\\u2005\\\\u2006\\\\u2007\\\\u2008\\\\u2009\\\\u200a\\\\u202f\\\\u205f\\\\u3000\\\\d+\\\\u2700-\\\\u27bfa-z\\\\xdf-\\\\xf6\\\\xf8-\\\\xffA-Z\\\\xc0-\\\\xd6\\\\xd8-\\\\xde])+(?:['’](?:D|LL|M|RE|S|T|VE))?(?=\"+[Qe,on+an,\"$\"].join(\"|\")+\")\",on+\"?\"+an+\"+(?:['’](?:d|ll|m|re|s|t|ve))?\",on+\"+(?:['’](?:D|LL|M|RE|S|T|VE))?\",\"\\\\d*(?:1ST|2ND|3RD|(?![123])\\\\dTH)(?=\\\\b|[a-z_])\",\"\\\\d*(?:1st|2nd|3rd|(?![123])\\\\dth)(?=\\\\b|[A-Z_])\",\"\\\\d+\",ln].join(\"|\"),\"g\"),gn=RegExp(\"[\\\\u200d\\\\ud800-\\\\udfff\"+$e+\"\\\\ufe0e\\\\ufe0f]\"),mn=/[a-z][A-Z]|[A-Z]{2}[a-z]|[0-9][a-zA-Z]|[a-zA-Z][0-9]|[^a-zA-Z0-9 ]/,yn=[\"Array\",\"Buffer\",\"DataView\",\"Date\",\"Error\",\"Float32Array\",\"Float64Array\",\"Function\",\"Int8Array\",\"Int16Array\",\"Int32Array\",\"Map\",\"Math\",\"Object\",\"Promise\",\"RegExp\",\"Set\",\"String\",\"Symbol\",\"TypeError\",\"Uint8Array\",\"Uint8ClampedArray\",\"Uint16Array\",\"Uint32Array\",\"WeakMap\",\"_\",\"clearTimeout\",\"isFinite\",\"parseInt\",\"setTimeout\"],_n=-1,bn={};bn[ue]=bn[ce]=bn[se]=bn[le]=bn[fe]=bn[pe]=bn[he]=bn[de]=bn[ve]=!0,bn[Ft]=bn[jt]=bn[oe]=bn[Vt]=bn[ae]=bn[Wt]=bn[Ht]=bn[qt]=bn[Kt]=bn[Gt]=bn[Xt]=bn[Zt]=bn[Jt]=bn[te]=bn[re]=!1;var xn={};xn[Ft]=xn[jt]=xn[oe]=xn[ae]=xn[Vt]=xn[Wt]=xn[ue]=xn[ce]=xn[se]=xn[le]=xn[fe]=xn[Kt]=xn[Gt]=xn[Xt]=xn[Zt]=xn[Jt]=xn[te]=xn[ee]=xn[pe]=xn[he]=xn[de]=xn[ve]=!0,xn[Ht]=xn[qt]=xn[re]=!1;var wn={\"À\":\"A\",\"Á\":\"A\",\"Â\":\"A\",\"Ã\":\"A\",\"Ä\":\"A\",\"Å\":\"A\",\"à\":\"a\",\"á\":\"a\",\"â\":\"a\",\"ã\":\"a\",\"ä\":\"a\",\"å\":\"a\",\"Ç\":\"C\",\"ç\":\"c\",\"Ð\":\"D\",\"ð\":\"d\",\"È\":\"E\",\"É\":\"E\",\"Ê\":\"E\",\"Ë\":\"E\",\"è\":\"e\",\"é\":\"e\",\"ê\":\"e\",\"ë\":\"e\",\"Ì\":\"I\",\"Í\":\"I\",\"Î\":\"I\",\"Ï\":\"I\",\"ì\":\"i\",\"í\":\"i\",\"î\":\"i\",\"ï\":\"i\",\"Ñ\":\"N\",\"ñ\":\"n\",\"Ò\":\"O\",\"Ó\":\"O\",\"Ô\":\"O\",\"Õ\":\"O\",\"Ö\":\"O\",\"Ø\":\"O\",\"ò\":\"o\",\"ó\":\"o\",\"ô\":\"o\",\"õ\":\"o\",\"ö\":\"o\",\"ø\":\"o\",\"Ù\":\"U\",\"Ú\":\"U\",\"Û\":\"U\",\"Ü\":\"U\",\"ù\":\"u\",\"ú\":\"u\",\"û\":\"u\",\"ü\":\"u\",\"Ý\":\"Y\",\"ý\":\"y\",\"ÿ\":\"y\",\"Æ\":\"Ae\",\"æ\":\"ae\",\"Þ\":\"Th\",\"þ\":\"th\",\"ß\":\"ss\",\"Ā\":\"A\",\"Ă\":\"A\",\"Ą\":\"A\",\"ā\":\"a\",\"ă\":\"a\",\"ą\":\"a\",\"Ć\":\"C\",\"Ĉ\":\"C\",\"Ċ\":\"C\",\"Č\":\"C\",\"ć\":\"c\",\"ĉ\":\"c\",\"ċ\":\"c\",\"č\":\"c\",\"Ď\":\"D\",\"Đ\":\"D\",\"ď\":\"d\",\"đ\":\"d\",\"Ē\":\"E\",\"Ĕ\":\"E\",\"Ė\":\"E\",\"Ę\":\"E\",\"Ě\":\"E\",\"ē\":\"e\",\"ĕ\":\"e\",\"ė\":\"e\",\"ę\":\"e\",\"ě\":\"e\",\"Ĝ\":\"G\",\"Ğ\":\"G\",\"Ġ\":\"G\",\"Ģ\":\"G\",\"ĝ\":\"g\",\"ğ\":\"g\",\"ġ\":\"g\",\"ģ\":\"g\",\"Ĥ\":\"H\",\"Ħ\":\"H\",\"ĥ\":\"h\",\"ħ\":\"h\",\"Ĩ\":\"I\",\"Ī\":\"I\",\"Ĭ\":\"I\",\"Į\":\"I\",\"İ\":\"I\",\"ĩ\":\"i\",\"ī\":\"i\",\"ĭ\":\"i\",\"į\":\"i\",\"ı\":\"i\",\"Ĵ\":\"J\",\"ĵ\":\"j\",\"Ķ\":\"K\",\"ķ\":\"k\",\"ĸ\":\"k\",\"Ĺ\":\"L\",\"Ļ\":\"L\",\"Ľ\":\"L\",\"Ŀ\":\"L\",\"Ł\":\"L\",\"ĺ\":\"l\",\"ļ\":\"l\",\"ľ\":\"l\",\"ŀ\":\"l\",\"ł\":\"l\",\"Ń\":\"N\",\"Ņ\":\"N\",\"Ň\":\"N\",\"Ŋ\":\"N\",\"ń\":\"n\",\"ņ\":\"n\",\"ň\":\"n\",\"ŋ\":\"n\",\"Ō\":\"O\",\"Ŏ\":\"O\",\"Ő\":\"O\",\"ō\":\"o\",\"ŏ\":\"o\",\"ő\":\"o\",\"Ŕ\":\"R\",\"Ŗ\":\"R\",\"Ř\":\"R\",\"ŕ\":\"r\",\"ŗ\":\"r\",\"ř\":\"r\",\"Ś\":\"S\",\"Ŝ\":\"S\",\"Ş\":\"S\",\"Š\":\"S\",\"ś\":\"s\",\"ŝ\":\"s\",\"ş\":\"s\",\"š\":\"s\",\"Ţ\":\"T\",\"Ť\":\"T\",\"Ŧ\":\"T\",\"ţ\":\"t\",\"ť\":\"t\",\"ŧ\":\"t\",\"Ũ\":\"U\",\"Ū\":\"U\",\"Ŭ\":\"U\",\"Ů\":\"U\",\"Ű\":\"U\",\"Ų\":\"U\",\"ũ\":\"u\",\"ū\":\"u\",\"ŭ\":\"u\",\"ů\":\"u\",\"ű\":\"u\",\"ų\":\"u\",\"Ŵ\":\"W\",\"ŵ\":\"w\",\"Ŷ\":\"Y\",\"ŷ\":\"y\",\"Ÿ\":\"Y\",\"Ź\":\"Z\",\"Ż\":\"Z\",\"Ž\":\"Z\",\"ź\":\"z\",\"ż\":\"z\",\"ž\":\"z\",\"Ĳ\":\"IJ\",\"ĳ\":\"ij\",\"Œ\":\"Oe\",\"œ\":\"oe\",\"ŉ\":\"'n\",\"ſ\":\"s\"},Cn={\"&\":\"&amp;\",\"<\":\"&lt;\",\">\":\"&gt;\",'\"':\"&quot;\",\"'\":\"&#39;\"},kn={\"&amp;\":\"&\",\"&lt;\":\"<\",\"&gt;\":\">\",\"&quot;\":'\"',\"&#39;\":\"'\"},En={\"\\\\\":\"\\\\\",\"'\":\"'\",\"\\n\":\"n\",\"\\r\":\"r\",\"\\u2028\":\"u2028\",\"\\u2029\":\"u2029\"},Mn=parseFloat,Tn=parseInt,Sn=\"object\"==typeof t&&t&&t.Object===Object&&t,Nn=\"object\"==typeof self&&self&&self.Object===Object&&self,An=Sn||Nn||Function(\"return this\")(),Pn=\"object\"==typeof e&&e&&!e.nodeType&&e,On=Pn&&\"object\"==typeof r&&r&&!r.nodeType&&r,In=On&&On.exports===Pn,Dn=In&&Sn.process,Rn=function(){try{var t=On&&On.require&&On.require(\"util\").types;return t||Dn&&Dn.binding&&Dn.binding(\"util\")}catch(t){}}(),Ln=Rn&&Rn.isArrayBuffer,Un=Rn&&Rn.isDate,Fn=Rn&&Rn.isMap,jn=Rn&&Rn.isRegExp,Bn=Rn&&Rn.isSet,Vn=Rn&&Rn.isTypedArray,Wn=M(\"length\"),zn=T(wn),Hn=T(Cn),qn=T(kn),Yn=function t(e){function n(t){if(ec(t)&&!hp(t)&&!(t instanceof y)){if(t instanceof i)return t;if(pl.call(t,\"__wrapped__\"))return Zo(t)}return new i(t)}function r(){}function i(t,e){this.__wrapped__=t,this.__actions__=[],this.__chain__=!!e,this.__index__=0,this.__values__=nt}function y(t){this.__wrapped__=t,this.__actions__=[],this.__dir__=1,this.__filtered__=!1,this.__iteratees__=[],this.__takeCount__=Dt,this.__views__=[]}function T(){var t=new y(this.__wrapped__);return t.__actions__=Oi(this.__actions__),t.__dir__=this.__dir__,t.__filtered__=this.__filtered__,t.__iteratees__=Oi(this.__iteratees__),t.__takeCount__=this.__takeCount__,t.__views__=Oi(this.__views__),t}function $(){if(this.__filtered__){var t=new y(this);t.__dir__=-1,t.__filtered__=!0}else t=this.clone(),t.__dir__*=-1;return t}function J(){var t=this.__wrapped__.value(),e=this.__dir__,n=hp(t),r=e<0,i=n?t.length:0,o=wo(0,i,this.__views__),a=o.start,u=o.end,c=u-a,s=r?u:a-1,l=this.__iteratees__,f=l.length,p=0,h=Wl(c,this.__takeCount__);if(!n||!r&&i==c&&h==c)return vi(t,this.__actions__);var d=[];t:for(;c--&&p<h;){s+=e;for(var v=-1,g=t[s];++v<f;){var m=l[v],y=m.iteratee,_=m.type,b=y(g);if(_==Nt)g=b;else if(!b){if(_==St)continue t;break t}}d[p++]=g}return d}function tt(t){var e=-1,n=null==t?0:t.length;for(this.clear();++e<n;){var r=t[e];this.set(r[0],r[1])}}function Ue(){this.__data__=Zl?Zl(null):{},this.size=0}function $e(t){var e=this.has(t)&&delete this.__data__[t];return this.size-=e?1:0,e}function Xe(t){var e=this.__data__;if(Zl){var n=e[t];return n===at?nt:n}return pl.call(e,t)?e[t]:nt}function Qe(t){var e=this.__data__;return Zl?e[t]!==nt:pl.call(e,t)}function Ze(t,e){var n=this.__data__;return this.size+=this.has(t)?0:1,n[t]=Zl&&e===nt?at:e,this}function Je(t){var e=-1,n=null==t?0:t.length;for(this.clear();++e<n;){var r=t[e];this.set(r[0],r[1])}}function tn(){this.__data__=[],this.size=0}function en(t){var e=this.__data__,n=Kn(e,t);return!(n<0)&&(n==e.length-1?e.pop():Ml.call(e,n,1),--this.size,!0)}function nn(t){var e=this.__data__,n=Kn(e,t);return n<0?nt:e[n][1]}function rn(t){return Kn(this.__data__,t)>-1}function on(t,e){var n=this.__data__,r=Kn(n,t);return r<0?(++this.size,n.push([t,e])):n[r][1]=e,this}function an(t){var e=-1,n=null==t?0:t.length;for(this.clear();++e<n;){var r=t[e];this.set(r[0],r[1])}}function un(){this.size=0,this.__data__={hash:new tt,map:new(Gl||Je),string:new tt}}function cn(t){var e=yo(this,t).delete(t);return this.size-=e?1:0,e}function sn(t){return yo(this,t).get(t)}function ln(t){return yo(this,t).has(t)}function fn(t,e){var n=yo(this,t),r=n.size;return n.set(t,e),this.size+=n.size==r?0:1,this}function dn(t){var e=-1,n=null==t?0:t.length;for(this.__data__=new an;++e<n;)this.add(t[e])}function vn(t){return this.__data__.set(t,at),this}function gn(t){return this.__data__.has(t)}function mn(t){var e=this.__data__=new Je(t);this.size=e.size}function wn(){this.__data__=new Je,this.size=0}function Cn(t){var e=this.__data__,n=e.delete(t);return this.size=e.size,n}function kn(t){return this.__data__.get(t)}function En(t){return this.__data__.has(t)}function Sn(t,e){var n=this.__data__;if(n instanceof Je){var r=n.__data__;if(!Gl||r.length<rt-1)return r.push([t,e]),this.size=++n.size,this;n=this.__data__=new an(r)}return n.set(t,e),this.size=n.size,this}function Nn(t,e){var n=hp(t),r=!n&&pp(t),i=!n&&!r&&vp(t),o=!n&&!r&&!i&&bp(t),a=n||r||i||o,u=a?P(t.length,ol):[],c=u.length;for(var s in t)!e&&!pl.call(t,s)||a&&(\"length\"==s||i&&(\"offset\"==s||\"parent\"==s)||o&&(\"buffer\"==s||\"byteLength\"==s||\"byteOffset\"==s)||Ao(s,c))||u.push(s);return u}function Pn(t){var e=t.length;return e?t[Xr(0,e-1)]:nt}function On(t,e){return Go(Oi(t),Jn(e,0,t.length))}function Dn(t){return Go(Oi(t))}function Rn(t,e,n){(n===nt||Vu(t[e],n))&&(n!==nt||e in t)||Qn(t,e,n)}function Wn(t,e,n){var r=t[e];pl.call(t,e)&&Vu(r,n)&&(n!==nt||e in t)||Qn(t,e,n)}function Kn(t,e){for(var n=t.length;n--;)if(Vu(t[n][0],e))return n;return-1}function Gn(t,e,n,r){return ff(t,function(t,i,o){e(r,t,n(t),o)}),r}function $n(t,e){return t&&Ii(e,Lc(e),t)}function Xn(t,e){return t&&Ii(e,Uc(e),t)}function Qn(t,e,n){\"__proto__\"==e&&Al?Al(t,e,{configurable:!0,enumerable:!0,value:n,writable:!0}):t[e]=n}function Zn(t,e){for(var n=-1,r=e.length,i=Zs(r),o=null==t;++n<r;)i[n]=o?nt:Ic(t,e[n]);return i}function Jn(t,e,n){return t===t&&(n!==nt&&(t=t<=n?t:n),e!==nt&&(t=t>=e?t:e)),t}function tr(t,e,n,r,i,o){var a,c=e&st,s=e&lt,l=e&ft;if(n&&(a=i?n(t,r,i,o):n(t)),a!==nt)return a;if(!tc(t))return t;var f=hp(t);if(f){if(a=Eo(t),!c)return Oi(t,a)}else{var p=Cf(t),h=p==qt||p==Yt;if(vp(t))return wi(t,c);if(p==Xt||p==Ft||h&&!i){if(a=s||h?{}:Mo(t),!c)return s?Ri(t,Xn(a,t)):Di(t,$n(a,t))}else{if(!xn[p])return i?t:{};a=To(t,p,c)}}o||(o=new mn);var d=o.get(t);if(d)return d;if(o.set(t,a),_p(t))return t.forEach(function(r){a.add(tr(r,e,n,r,t,o))}),a;if(mp(t))return t.forEach(function(r,i){a.set(i,tr(r,e,n,i,t,o))}),a;var v=l?s?ho:po:s?Uc:Lc,g=f?nt:v(t);return u(g||t,function(r,i){g&&(i=r,r=t[i]),Wn(a,i,tr(r,e,n,i,t,o))}),a}function er(t){var e=Lc(t);return function(n){return nr(n,t,e)}}function nr(t,e,n){var r=n.length;if(null==t)return!r;for(t=rl(t);r--;){var i=n[r],o=e[i],a=t[i];if(a===nt&&!(i in t)||!o(a))return!1}return!0}function rr(t,e,n){if(\"function\"!=typeof t)throw new al(ot);return Mf(function(){t.apply(nt,n)},e)}function ir(t,e,n,r){var i=-1,o=f,a=!0,u=t.length,c=[],s=e.length;if(!u)return c;n&&(e=h(e,I(n))),r?(o=p,a=!1):e.length>=rt&&(o=R,a=!1,e=new dn(e));t:for(;++i<u;){var l=t[i],d=null==n?l:n(l);if(l=r||0!==l?l:0,a&&d===d){for(var v=s;v--;)if(e[v]===d)continue t;c.push(l)}else o(e,d,r)||c.push(l)}return c}function or(t,e){var n=!0;return ff(t,function(t,r,i){return n=!!e(t,r,i)}),n}function ar(t,e,n){for(var r=-1,i=t.length;++r<i;){var o=t[r],a=e(o);if(null!=a&&(u===nt?a===a&&!pc(a):n(a,u)))var u=a,c=o}return c}function ur(t,e,n,r){var i=t.length;for(n=yc(n),n<0&&(n=-n>i?0:i+n),r=r===nt||r>i?i:yc(r),r<0&&(r+=i),r=n>r?0:_c(r);n<r;)t[n++]=e;return t}function cr(t,e){var n=[];return ff(t,function(t,r,i){e(t,r,i)&&n.push(t)}),n}function sr(t,e,n,r,i){var o=-1,a=t.length;for(n||(n=No),i||(i=[]);++o<a;){var u=t[o];e>0&&n(u)?e>1?sr(u,e-1,n,r,i):d(i,u):r||(i[i.length]=u)}return i}function lr(t,e){return t&&hf(t,e,Lc)}function fr(t,e){return t&&df(t,e,Lc)}function pr(t,e){return l(e,function(e){return Qu(t[e])})}function hr(t,e){e=bi(e,t);for(var n=0,r=e.length;null!=t&&n<r;)t=t[$o(e[n++])];return n&&n==r?t:nt}function dr(t,e,n){var r=e(t);return hp(t)?r:d(r,n(t))}function vr(t){return null==t?t===nt?ne:$t:Nl&&Nl in rl(t)?xo(t):Vo(t)}function gr(t,e){return t>e}function mr(t,e){return null!=t&&pl.call(t,e)}function yr(t,e){return null!=t&&e in rl(t)}function _r(t,e,n){return t>=Wl(e,n)&&t<Vl(e,n)}function br(t,e,n){for(var r=n?p:f,i=t[0].length,o=t.length,a=o,u=Zs(o),c=1/0,s=[];a--;){var l=t[a];a&&e&&(l=h(l,I(e))),c=Wl(l.length,c),u[a]=!n&&(e||i>=120&&l.length>=120)?new dn(a&&l):nt}l=t[0];var d=-1,v=u[0];t:for(;++d<i&&s.length<c;){var g=l[d],m=e?e(g):g;if(g=n||0!==g?g:0,!(v?R(v,m):r(s,m,n))){for(a=o;--a;){var y=u[a];if(!(y?R(y,m):r(t[a],m,n)))continue t}v&&v.push(m),s.push(g)}}return s}function xr(t,e,n,r){return lr(t,function(t,i,o){e(r,n(t),i,o)}),r}function wr(t,e,n){e=bi(e,t),t=zo(t,e);var r=null==t?t:t[$o(ma(e))];return null==r?nt:o(r,t,n)}function Cr(t){return ec(t)&&vr(t)==Ft}function kr(t){return ec(t)&&vr(t)==oe}function Er(t){return ec(t)&&vr(t)==Wt}function Mr(t,e,n,r,i){return t===e||(null==t||null==e||!ec(t)&&!ec(e)?t!==t&&e!==e:Tr(t,e,n,r,Mr,i))}function Tr(t,e,n,r,i,o){var a=hp(t),u=hp(e),c=a?jt:Cf(t),s=u?jt:Cf(e);c=c==Ft?Xt:c,s=s==Ft?Xt:s;var l=c==Xt,f=s==Xt,p=c==s;if(p&&vp(t)){if(!vp(e))return!1;a=!0,l=!1}if(p&&!l)return o||(o=new mn),a||bp(t)?co(t,e,n,r,i,o):so(t,e,c,n,r,i,o);if(!(n&pt)){var h=l&&pl.call(t,\"__wrapped__\"),d=f&&pl.call(e,\"__wrapped__\");if(h||d){var v=h?t.value():t,g=d?e.value():e;return o||(o=new mn),i(v,g,n,r,o)}}return!!p&&(o||(o=new mn),lo(t,e,n,r,i,o))}function Sr(t){return ec(t)&&Cf(t)==Kt}function Nr(t,e,n,r){var i=n.length,o=i,a=!r;if(null==t)return!o;for(t=rl(t);i--;){var u=n[i];if(a&&u[2]?u[1]!==t[u[0]]:!(u[0]in t))return!1}for(;++i<o;){u=n[i];var c=u[0],s=t[c],l=u[1];if(a&&u[2]){if(s===nt&&!(c in t))return!1}else{var f=new mn;if(r)var p=r(s,l,c,t,e,f);if(!(p===nt?Mr(l,s,pt|ht,r,f):p))return!1}}return!0}function Ar(t){return!(!tc(t)||Ro(t))&&(Qu(t)?yl:ze).test(Xo(t))}function Pr(t){return ec(t)&&vr(t)==Zt}function Or(t){return ec(t)&&Cf(t)==Jt}function Ir(t){return ec(t)&&Ju(t.length)&&!!bn[vr(t)]}function Dr(t){return\"function\"==typeof t?t:null==t?Ms:\"object\"==typeof t?hp(t)?Br(t[0],t[1]):jr(t):Ds(t)}function Rr(t){if(!Lo(t))return Bl(t);var e=[];for(var n in rl(t))pl.call(t,n)&&\"constructor\"!=n&&e.push(n);return e}function Lr(t){if(!tc(t))return Bo(t);var e=Lo(t),n=[];for(var r in t)(\"constructor\"!=r||!e&&pl.call(t,r))&&n.push(r);return n}function Ur(t,e){return t<e}function Fr(t,e){var n=-1,r=Wu(t)?Zs(t.length):[];return ff(t,function(t,i,o){r[++n]=e(t,i,o)}),r}function jr(t){var e=_o(t);return 1==e.length&&e[0][2]?Fo(e[0][0],e[0][1]):function(n){return n===t||Nr(n,t,e)}}function Br(t,e){return Oo(t)&&Uo(e)?Fo($o(t),e):function(n){var r=Ic(n,t);return r===nt&&r===e?Rc(n,t):Mr(e,r,pt|ht)}}function Vr(t,e,n,r,i){t!==e&&hf(e,function(o,a){if(tc(o))i||(i=new mn),Wr(t,e,a,n,Vr,r,i);else{var u=r?r(qo(t,a),o,a+\"\",t,e,i):nt;u===nt&&(u=o),Rn(t,a,u)}},Uc)}function Wr(t,e,n,r,i,o,a){var u=qo(t,n),c=qo(e,n),s=a.get(c);if(s)return void Rn(t,n,s);var l=o?o(u,c,n+\"\",t,e,a):nt,f=l===nt;if(f){var p=hp(c),h=!p&&vp(c),d=!p&&!h&&bp(c);l=c,p||h||d?hp(u)?l=u:zu(u)?l=Oi(u):h?(f=!1,l=wi(c,!0)):d?(f=!1,l=Ti(c,!0)):l=[]:sc(c)||pp(c)?(l=u,pp(u)?l=xc(u):tc(u)&&!Qu(u)||(l=Mo(c))):f=!1}f&&(a.set(c,l),i(l,c,r,o,a),a.delete(c)),Rn(t,n,l)}function zr(t,e){var n=t.length;if(n)return e+=e<0?n:0,Ao(e,n)?t[e]:nt}function Hr(t,e,n){var r=-1;return e=h(e.length?e:[Ms],I(mo())),N(Fr(t,function(t,n,i){return{criteria:h(e,function(e){return e(t)}),index:++r,value:t}}),function(t,e){return Ni(t,e,n)})}function qr(t,e){return Yr(t,e,function(e,n){return Rc(t,n)})}function Yr(t,e,n){for(var r=-1,i=e.length,o={};++r<i;){var a=e[r],u=hr(t,a);n(u,a)&&ni(o,bi(a,t),u)}return o}function Kr(t){return function(e){return hr(e,t)}}function Gr(t,e,n,r){var i=r?C:w,o=-1,a=e.length,u=t;for(t===e&&(e=Oi(e)),n&&(u=h(t,I(n)));++o<a;)for(var c=0,s=e[o],l=n?n(s):s;(c=i(u,l,c,r))>-1;)u!==t&&Ml.call(u,c,1),Ml.call(t,c,1);return t}function $r(t,e){for(var n=t?e.length:0,r=n-1;n--;){var i=e[n];if(n==r||i!==o){var o=i;Ao(i)?Ml.call(t,i,1):pi(t,i)}}return t}function Xr(t,e){return t+Rl(ql()*(e-t+1))}function Qr(t,e,n,r){for(var i=-1,o=Vl(Dl((e-t)/(n||1)),0),a=Zs(o);o--;)a[r?o:++i]=t,t+=n;return a}function Zr(t,e){var n=\"\";if(!t||e<1||e>Pt)return n;do{e%2&&(n+=t),(e=Rl(e/2))&&(t+=t)}while(e);return n}function Jr(t,e){return Tf(Wo(t,e,Ms),t+\"\")}function ti(t){return Pn($c(t))}function ei(t,e){var n=$c(t);return Go(n,Jn(e,0,n.length))}function ni(t,e,n,r){if(!tc(t))return t;e=bi(e,t);for(var i=-1,o=e.length,a=o-1,u=t;null!=u&&++i<o;){var c=$o(e[i]),s=n;if(i!=a){var l=u[c];s=r?r(l,c,u):nt,s===nt&&(s=tc(l)?l:Ao(e[i+1])?[]:{})}Wn(u,c,s),u=u[c]}return t}function ri(t){return Go($c(t))}function ii(t,e,n){var r=-1,i=t.length;e<0&&(e=-e>i?0:i+e),n=n>i?i:n,n<0&&(n+=i),i=e>n?0:n-e>>>0,e>>>=0;for(var o=Zs(i);++r<i;)o[r]=t[r+e];return o}function oi(t,e){var n;return ff(t,function(t,r,i){return!(n=e(t,r,i))}),!!n}function ai(t,e,n){var r=0,i=null==t?r:t.length;if(\"number\"==typeof e&&e===e&&i<=Lt){for(;r<i;){var o=r+i>>>1,a=t[o];null!==a&&!pc(a)&&(n?a<=e:a<e)?r=o+1:i=o}return i}return ui(t,e,Ms,n)}function ui(t,e,n,r){e=n(e);for(var i=0,o=null==t?0:t.length,a=e!==e,u=null===e,c=pc(e),s=e===nt;i<o;){var l=Rl((i+o)/2),f=n(t[l]),p=f!==nt,h=null===f,d=f===f,v=pc(f);if(a)var g=r||d;else g=s?d&&(r||p):u?d&&p&&(r||!h):c?d&&p&&!h&&(r||!v):!h&&!v&&(r?f<=e:f<e);g?i=l+1:o=l}return Wl(o,Rt)}function ci(t,e){for(var n=-1,r=t.length,i=0,o=[];++n<r;){var a=t[n],u=e?e(a):a;if(!n||!Vu(u,c)){var c=u;o[i++]=0===a?0:a}}return o}function si(t){return\"number\"==typeof t?t:pc(t)?It:+t}function li(t){if(\"string\"==typeof t)return t;if(hp(t))return h(t,li)+\"\";if(pc(t))return sf?sf.call(t):\"\";var e=t+\"\";return\"0\"==e&&1/t==-At?\"-0\":e}function fi(t,e,n){var r=-1,i=f,o=t.length,a=!0,u=[],c=u;if(n)a=!1,i=p;else if(o>=rt){var s=e?null:_f(t);if(s)return K(s);a=!1,i=R,c=new dn}else c=e?[]:u;t:for(;++r<o;){var l=t[r],h=e?e(l):l;if(l=n||0!==l?l:0,a&&h===h){for(var d=c.length;d--;)if(c[d]===h)continue t;e&&c.push(h),u.push(l)}else i(c,h,n)||(c!==u&&c.push(h),u.push(l))}return u}function pi(t,e){return e=bi(e,t),null==(t=zo(t,e))||delete t[$o(ma(e))]}function hi(t,e,n,r){return ni(t,e,n(hr(t,e)),r)}function di(t,e,n,r){for(var i=t.length,o=r?i:-1;(r?o--:++o<i)&&e(t[o],o,t););return n?ii(t,r?0:o,r?o+1:i):ii(t,r?o+1:0,r?i:o)}function vi(t,e){var n=t;return n instanceof y&&(n=n.value()),v(e,function(t,e){return e.func.apply(e.thisArg,d([t],e.args))},n)}function gi(t,e,n){var r=t.length;if(r<2)return r?fi(t[0]):[];for(var i=-1,o=Zs(r);++i<r;)for(var a=t[i],u=-1;++u<r;)u!=i&&(o[i]=ir(o[i]||a,t[u],e,n));return fi(sr(o,1),e,n)}function mi(t,e,n){for(var r=-1,i=t.length,o=e.length,a={};++r<i;){var u=r<o?e[r]:nt;n(a,t[r],u)}return a}function yi(t){return zu(t)?t:[]}function _i(t){return\"function\"==typeof t?t:Ms}function bi(t,e){return hp(t)?t:Oo(t,e)?[t]:Sf(Cc(t))}function xi(t,e,n){var r=t.length;return n=n===nt?r:n,!e&&n>=r?t:ii(t,e,n)}function wi(t,e){if(e)return t.slice();var n=t.length,r=wl?wl(n):new t.constructor(n);return t.copy(r),r}function Ci(t){var e=new t.constructor(t.byteLength);return new xl(e).set(new xl(t)),e}function ki(t,e){var n=e?Ci(t.buffer):t.buffer;return new t.constructor(n,t.byteOffset,t.byteLength)}function Ei(t){var e=new t.constructor(t.source,Be.exec(t));return e.lastIndex=t.lastIndex,e}function Mi(t){return cf?rl(cf.call(t)):{}}function Ti(t,e){var n=e?Ci(t.buffer):t.buffer;return new t.constructor(n,t.byteOffset,t.length)}function Si(t,e){if(t!==e){var n=t!==nt,r=null===t,i=t===t,o=pc(t),a=e!==nt,u=null===e,c=e===e,s=pc(e);if(!u&&!s&&!o&&t>e||o&&a&&c&&!u&&!s||r&&a&&c||!n&&c||!i)return 1;if(!r&&!o&&!s&&t<e||s&&n&&i&&!r&&!o||u&&n&&i||!a&&i||!c)return-1}return 0}function Ni(t,e,n){for(var r=-1,i=t.criteria,o=e.criteria,a=i.length,u=n.length;++r<a;){var c=Si(i[r],o[r]);if(c){if(r>=u)return c;return c*(\"desc\"==n[r]?-1:1)}}return t.index-e.index}function Ai(t,e,n,r){for(var i=-1,o=t.length,a=n.length,u=-1,c=e.length,s=Vl(o-a,0),l=Zs(c+s),f=!r;++u<c;)l[u]=e[u];for(;++i<a;)(f||i<o)&&(l[n[i]]=t[i]);for(;s--;)l[u++]=t[i++];return l}function Pi(t,e,n,r){for(var i=-1,o=t.length,a=-1,u=n.length,c=-1,s=e.length,l=Vl(o-u,0),f=Zs(l+s),p=!r;++i<l;)f[i]=t[i];for(var h=i;++c<s;)f[h+c]=e[c];for(;++a<u;)(p||i<o)&&(f[h+n[a]]=t[i++]);return f}function Oi(t,e){var n=-1,r=t.length;for(e||(e=Zs(r));++n<r;)e[n]=t[n];return e}function Ii(t,e,n,r){var i=!n;n||(n={});for(var o=-1,a=e.length;++o<a;){var u=e[o],c=r?r(n[u],t[u],u,n,t):nt;c===nt&&(c=t[u]),i?Qn(n,u,c):Wn(n,u,c)}return n}function Di(t,e){return Ii(t,xf(t),e)}function Ri(t,e){return Ii(t,wf(t),e)}function Li(t,e){return function(n,r){var i=hp(n)?a:Gn,o=e?e():{};return i(n,t,mo(r,2),o)}}function Ui(t){return Jr(function(e,n){var r=-1,i=n.length,o=i>1?n[i-1]:nt,a=i>2?n[2]:nt;for(o=t.length>3&&\"function\"==typeof o?(i--,o):nt,a&&Po(n[0],n[1],a)&&(o=i<3?nt:o,i=1),e=rl(e);++r<i;){var u=n[r];u&&t(e,u,r,o)}return e})}function Fi(t,e){return function(n,r){if(null==n)return n;if(!Wu(n))return t(n,r);for(var i=n.length,o=e?i:-1,a=rl(n);(e?o--:++o<i)&&!1!==r(a[o],o,a););return n}}function ji(t){return function(e,n,r){for(var i=-1,o=rl(e),a=r(e),u=a.length;u--;){var c=a[t?u:++i];if(!1===n(o[c],c,o))break}return e}}function Bi(t,e,n){function r(){return(this&&this!==An&&this instanceof r?o:t).apply(i?n:this,arguments)}var i=e&dt,o=zi(t);return r}function Vi(t){return function(e){e=Cc(e);var n=V(e)?Z(e):nt,r=n?n[0]:e.charAt(0),i=n?xi(n,1).join(\"\"):e.slice(1);return r[t]()+i}}function Wi(t){return function(e){return v(xs(es(e).replace(pn,\"\")),t,\"\")}}function zi(t){return function(){var e=arguments;switch(e.length){case 0:return new t;case 1:return new t(e[0]);case 2:return new t(e[0],e[1]);case 3:return new t(e[0],e[1],e[2]);case 4:return new t(e[0],e[1],e[2],e[3]);case 5:return new t(e[0],e[1],e[2],e[3],e[4]);case 6:return new t(e[0],e[1],e[2],e[3],e[4],e[5]);case 7:return new t(e[0],e[1],e[2],e[3],e[4],e[5],e[6])}var n=lf(t.prototype),r=t.apply(n,e);return tc(r)?r:n}}function Hi(t,e,n){function r(){for(var a=arguments.length,u=Zs(a),c=a,s=go(r);c--;)u[c]=arguments[c];var l=a<3&&u[0]!==s&&u[a-1]!==s?[]:Y(u,s);return(a-=l.length)<n?eo(t,e,Ki,r.placeholder,nt,u,l,nt,nt,n-a):o(this&&this!==An&&this instanceof r?i:t,this,u)}var i=zi(t);return r}function qi(t){return function(e,n,r){var i=rl(e);if(!Wu(e)){var o=mo(n,3);e=Lc(e),n=function(t){return o(i[t],t,i)}}var a=t(e,n,r);return a>-1?i[o?e[a]:a]:nt}}function Yi(t){return fo(function(e){var n=e.length,r=n,o=i.prototype.thru;for(t&&e.reverse();r--;){var a=e[r];if(\"function\"!=typeof a)throw new al(ot);if(o&&!u&&\"wrapper\"==vo(a))var u=new i([],!0)}for(r=u?r:n;++r<n;){a=e[r];var c=vo(a),s=\"wrapper\"==c?bf(a):nt;u=s&&Do(s[0])&&s[1]==(xt|mt|_t|wt)&&!s[4].length&&1==s[9]?u[vo(s[0])].apply(u,s[3]):1==a.length&&Do(a)?u[c]():u.thru(a)}return function(){var t=arguments,r=t[0];if(u&&1==t.length&&hp(r))return u.plant(r).value();for(var i=0,o=n?e[i].apply(this,t):r;++i<n;)o=e[i].call(this,o);return o}})}function Ki(t,e,n,r,i,o,a,u,c,s){function l(){for(var m=arguments.length,y=Zs(m),_=m;_--;)y[_]=arguments[_];if(d)var b=go(l),x=F(y,b);if(r&&(y=Ai(y,r,i,d)),o&&(y=Pi(y,o,a,d)),m-=x,d&&m<s){var w=Y(y,b);return eo(t,e,Ki,l.placeholder,n,y,w,u,c,s-m)}var C=p?n:this,k=h?C[t]:t;return m=y.length,u?y=Ho(y,u):v&&m>1&&y.reverse(),f&&c<m&&(y.length=c),this&&this!==An&&this instanceof l&&(k=g||zi(k)),k.apply(C,y)}var f=e&xt,p=e&dt,h=e&vt,d=e&(mt|yt),v=e&Ct,g=h?nt:zi(t);return l}function Gi(t,e){return function(n,r){return xr(n,t,e(r),{})}}function $i(t,e){return function(n,r){var i;if(n===nt&&r===nt)return e;if(n!==nt&&(i=n),r!==nt){if(i===nt)return r;\"string\"==typeof n||\"string\"==typeof r?(n=li(n),r=li(r)):(n=si(n),r=si(r)),i=t(n,r)}return i}}function Xi(t){return fo(function(e){return e=h(e,I(mo())),Jr(function(n){var r=this;return t(e,function(t){return o(t,r,n)})})})}function Qi(t,e){e=e===nt?\" \":li(e);var n=e.length;if(n<2)return n?Zr(e,t):e;var r=Zr(e,Dl(t/Q(e)));return V(e)?xi(Z(r),0,t).join(\"\"):r.slice(0,t)}function Zi(t,e,n,r){function i(){for(var e=-1,c=arguments.length,s=-1,l=r.length,f=Zs(l+c),p=this&&this!==An&&this instanceof i?u:t;++s<l;)f[s]=r[s];for(;c--;)f[s++]=arguments[++e];return o(p,a?n:this,f)}var a=e&dt,u=zi(t);return i}function Ji(t){return function(e,n,r){return r&&\"number\"!=typeof r&&Po(e,n,r)&&(n=r=nt),e=mc(e),n===nt?(n=e,e=0):n=mc(n),r=r===nt?e<n?1:-1:mc(r),Qr(e,n,r,t)}}function to(t){return function(e,n){return\"string\"==typeof e&&\"string\"==typeof n||(e=bc(e),n=bc(n)),t(e,n)}}function eo(t,e,n,r,i,o,a,u,c,s){var l=e&mt,f=l?a:nt,p=l?nt:a,h=l?o:nt,d=l?nt:o;e|=l?_t:bt,(e&=~(l?bt:_t))&gt||(e&=~(dt|vt));var v=[t,e,i,h,f,d,p,u,c,s],g=n.apply(nt,v);return Do(t)&&Ef(g,v),g.placeholder=r,Yo(g,t,e)}function no(t){var e=nl[t];return function(t,n){if(t=bc(t),n=null==n?0:Wl(yc(n),292)){var r=(Cc(t)+\"e\").split(\"e\");return r=(Cc(e(r[0]+\"e\"+(+r[1]+n)))+\"e\").split(\"e\"),+(r[0]+\"e\"+(+r[1]-n))}return e(t)}}function ro(t){return function(e){var n=Cf(e);return n==Kt?H(e):n==Jt?G(e):O(e,t(e))}}function io(t,e,n,r,i,o,a,u){var c=e&vt;if(!c&&\"function\"!=typeof t)throw new al(ot);var s=r?r.length:0;if(s||(e&=~(_t|bt),r=i=nt),a=a===nt?a:Vl(yc(a),0),u=u===nt?u:yc(u),s-=i?i.length:0,e&bt){var l=r,f=i;r=i=nt}var p=c?nt:bf(t),h=[t,e,n,r,i,l,f,o,a,u];if(p&&jo(h,p),t=h[0],e=h[1],n=h[2],r=h[3],i=h[4],u=h[9]=h[9]===nt?c?0:t.length:Vl(h[9]-s,0),!u&&e&(mt|yt)&&(e&=~(mt|yt)),e&&e!=dt)d=e==mt||e==yt?Hi(t,e,u):e!=_t&&e!=(dt|_t)||i.length?Ki.apply(nt,h):Zi(t,e,n,r);else var d=Bi(t,e,n);return Yo((p?vf:Ef)(d,h),t,e)}function oo(t,e,n,r){return t===nt||Vu(t,sl[n])&&!pl.call(r,n)?e:t}function ao(t,e,n,r,i,o){return tc(t)&&tc(e)&&(o.set(e,t),Vr(t,e,nt,ao,o),o.delete(e)),t}function uo(t){return sc(t)?nt:t}function co(t,e,n,r,i,o){var a=n&pt,u=t.length,c=e.length;if(u!=c&&!(a&&c>u))return!1;var s=o.get(t);if(s&&o.get(e))return s==e;var l=-1,f=!0,p=n&ht?new dn:nt;for(o.set(t,e),o.set(e,t);++l<u;){var h=t[l],d=e[l];if(r)var v=a?r(d,h,l,e,t,o):r(h,d,l,t,e,o);if(v!==nt){if(v)continue;f=!1;break}if(p){if(!m(e,function(t,e){if(!R(p,e)&&(h===t||i(h,t,n,r,o)))return p.push(e)})){f=!1;break}}else if(h!==d&&!i(h,d,n,r,o)){f=!1;break}}return o.delete(t),o.delete(e),f}function so(t,e,n,r,i,o,a){switch(n){case ae:if(t.byteLength!=e.byteLength||t.byteOffset!=e.byteOffset)return!1;t=t.buffer,e=e.buffer;case oe:return!(t.byteLength!=e.byteLength||!o(new xl(t),new xl(e)));case Vt:case Wt:case Gt:return Vu(+t,+e);case Ht:return t.name==e.name&&t.message==e.message;case Zt:case te:return t==e+\"\";case Kt:var u=H;case Jt:var c=r&pt;if(u||(u=K),t.size!=e.size&&!c)return!1;var s=a.get(t);if(s)return s==e;r|=ht,a.set(t,e);var l=co(u(t),u(e),r,i,o,a);return a.delete(t),l;case ee:if(cf)return cf.call(t)==cf.call(e)}return!1}function lo(t,e,n,r,i,o){var a=n&pt,u=po(t),c=u.length;if(c!=po(e).length&&!a)return!1;for(var s=c;s--;){var l=u[s];if(!(a?l in e:pl.call(e,l)))return!1}var f=o.get(t);if(f&&o.get(e))return f==e;var p=!0;o.set(t,e),o.set(e,t);for(var h=a;++s<c;){l=u[s];var d=t[l],v=e[l];if(r)var g=a?r(v,d,l,e,t,o):r(d,v,l,t,e,o);if(!(g===nt?d===v||i(d,v,n,r,o):g)){p=!1;break}h||(h=\"constructor\"==l)}if(p&&!h){var m=t.constructor,y=e.constructor;m!=y&&\"constructor\"in t&&\"constructor\"in e&&!(\"function\"==typeof m&&m instanceof m&&\"function\"==typeof y&&y instanceof y)&&(p=!1)}return o.delete(t),o.delete(e),p}function fo(t){return Tf(Wo(t,nt,sa),t+\"\")}function po(t){return dr(t,Lc,xf)}function ho(t){return dr(t,Uc,wf)}function vo(t){for(var e=t.name+\"\",n=tf[e],r=pl.call(tf,e)?n.length:0;r--;){var i=n[r],o=i.func;if(null==o||o==t)return i.name}return e}function go(t){return(pl.call(n,\"placeholder\")?n:t).placeholder}function mo(){var t=n.iteratee||Ts;return t=t===Ts?Dr:t,arguments.length?t(arguments[0],arguments[1]):t}function yo(t,e){var n=t.__data__;return Io(e)?n[\"string\"==typeof e?\"string\":\"hash\"]:n.map}function _o(t){for(var e=Lc(t),n=e.length;n--;){var r=e[n],i=t[r];e[n]=[r,i,Uo(i)]}return e}function bo(t,e){var n=B(t,e);return Ar(n)?n:nt}function xo(t){var e=pl.call(t,Nl),n=t[Nl];try{t[Nl]=nt;var r=!0}catch(t){}var i=vl.call(t);return r&&(e?t[Nl]=n:delete t[Nl]),i}function wo(t,e,n){for(var r=-1,i=n.length;++r<i;){var o=n[r],a=o.size;switch(o.type){case\"drop\":t+=a;break;case\"dropRight\":e-=a;break;case\"take\":e=Wl(e,t+a);break;case\"takeRight\":t=Vl(t,e-a)}}return{start:t,end:e}}function Co(t){var e=t.match(Re);return e?e[1].split(Le):[]}function ko(t,e,n){e=bi(e,t);for(var r=-1,i=e.length,o=!1;++r<i;){var a=$o(e[r]);if(!(o=null!=t&&n(t,a)))break;t=t[a]}return o||++r!=i?o:!!(i=null==t?0:t.length)&&Ju(i)&&Ao(a,i)&&(hp(t)||pp(t))}function Eo(t){var e=t.length,n=new t.constructor(e);return e&&\"string\"==typeof t[0]&&pl.call(t,\"index\")&&(n.index=t.index,n.input=t.input),n}function Mo(t){return\"function\"!=typeof t.constructor||Lo(t)?{}:lf(Cl(t))}function To(t,e,n){var r=t.constructor;switch(e){case oe:return Ci(t);case Vt:case Wt:return new r(+t);case ae:return ki(t,n);case ue:case ce:case se:case le:case fe:case pe:case he:case de:case ve:return Ti(t,n);case Kt:return new r;case Gt:case te:return new r(t);case Zt:return Ei(t);case Jt:return new r;case ee:return Mi(t)}}function So(t,e){var n=e.length;if(!n)return t;var r=n-1;return e[r]=(n>1?\"& \":\"\")+e[r],e=e.join(n>2?\", \":\" \"),t.replace(De,\"{\\n/* [wrapped with \"+e+\"] */\\n\")}function No(t){return hp(t)||pp(t)||!!(Tl&&t&&t[Tl])}function Ao(t,e){var n=typeof t;return!!(e=null==e?Pt:e)&&(\"number\"==n||\"symbol\"!=n&&qe.test(t))&&t>-1&&t%1==0&&t<e}function Po(t,e,n){if(!tc(n))return!1;var r=typeof e;return!!(\"number\"==r?Wu(n)&&Ao(e,n.length):\"string\"==r&&e in n)&&Vu(n[e],t)}function Oo(t,e){if(hp(t))return!1;var n=typeof t;return!(\"number\"!=n&&\"symbol\"!=n&&\"boolean\"!=n&&null!=t&&!pc(t))||(Te.test(t)||!Me.test(t)||null!=e&&t in rl(e))}function Io(t){var e=typeof t;return\"string\"==e||\"number\"==e||\"symbol\"==e||\"boolean\"==e?\"__proto__\"!==t:null===t}function Do(t){var e=vo(t),r=n[e];if(\"function\"!=typeof r||!(e in y.prototype))return!1;if(t===r)return!0;var i=bf(r);return!!i&&t===i[0]}function Ro(t){return!!dl&&dl in t}function Lo(t){var e=t&&t.constructor;return t===(\"function\"==typeof e&&e.prototype||sl)}function Uo(t){return t===t&&!tc(t)}function Fo(t,e){return function(n){return null!=n&&(n[t]===e&&(e!==nt||t in rl(n)))}}function jo(t,e){var n=t[1],r=e[1],i=n|r,o=i<(dt|vt|xt),a=r==xt&&n==mt||r==xt&&n==wt&&t[7].length<=e[8]||r==(xt|wt)&&e[7].length<=e[8]&&n==mt;if(!o&&!a)return t;r&dt&&(t[2]=e[2],i|=n&dt?0:gt);var u=e[3];if(u){var c=t[3];t[3]=c?Ai(c,u,e[4]):u,t[4]=c?Y(t[3],ct):e[4]}return u=e[5],u&&(c=t[5],t[5]=c?Pi(c,u,e[6]):u,t[6]=c?Y(t[5],ct):e[6]),u=e[7],u&&(t[7]=u),r&xt&&(t[8]=null==t[8]?e[8]:Wl(t[8],e[8])),null==t[9]&&(t[9]=e[9]),t[0]=e[0],t[1]=i,t}function Bo(t){var e=[];if(null!=t)for(var n in rl(t))e.push(n);return e}function Vo(t){return vl.call(t)}function Wo(t,e,n){return e=Vl(e===nt?t.length-1:e,0),function(){for(var r=arguments,i=-1,a=Vl(r.length-e,0),u=Zs(a);++i<a;)u[i]=r[e+i];i=-1;for(var c=Zs(e+1);++i<e;)c[i]=r[i];return c[e]=n(u),o(t,this,c)}}function zo(t,e){return e.length<2?t:hr(t,ii(e,0,-1))}function Ho(t,e){for(var n=t.length,r=Wl(e.length,n),i=Oi(t);r--;){var o=e[r];t[r]=Ao(o,n)?i[o]:nt}return t}function qo(t,e){if(\"__proto__\"!=e)return t[e]}function Yo(t,e,n){var r=e+\"\";return Tf(t,So(r,Qo(Co(r),n)))}function Ko(t){var e=0,n=0;return function(){var r=zl(),i=Tt-(r-n);if(n=r,i>0){if(++e>=Mt)return arguments[0]}else e=0;return t.apply(nt,arguments)}}function Go(t,e){var n=-1,r=t.length,i=r-1;for(e=e===nt?r:e;++n<e;){var o=Xr(n,i),a=t[o];t[o]=t[n],t[n]=a}return t.length=e,t}function $o(t){if(\"string\"==typeof t||pc(t))return t;var e=t+\"\";return\"0\"==e&&1/t==-At?\"-0\":e}function Xo(t){if(null!=t){try{return fl.call(t)}catch(t){}try{return t+\"\"}catch(t){}}return\"\"}function Qo(t,e){return u(Ut,function(n){var r=\"_.\"+n[0];e&n[1]&&!f(t,r)&&t.push(r)}),t.sort()}function Zo(t){if(t instanceof y)return t.clone();var e=new i(t.__wrapped__,t.__chain__);return e.__actions__=Oi(t.__actions__),e.__index__=t.__index__,e.__values__=t.__values__,e}function Jo(t,e,n){e=(n?Po(t,e,n):e===nt)?1:Vl(yc(e),0);var r=null==t?0:t.length;if(!r||e<1)return[];for(var i=0,o=0,a=Zs(Dl(r/e));i<r;)a[o++]=ii(t,i,i+=e);return a}function ta(t){for(var e=-1,n=null==t?0:t.length,r=0,i=[];++e<n;){var o=t[e];o&&(i[r++]=o)}return i}function ea(){var t=arguments.length;if(!t)return[];for(var e=Zs(t-1),n=arguments[0],r=t;r--;)e[r-1]=arguments[r];return d(hp(n)?Oi(n):[n],sr(e,1))}function na(t,e,n){var r=null==t?0:t.length;return r?(e=n||e===nt?1:yc(e),ii(t,e<0?0:e,r)):[]}function ra(t,e,n){var r=null==t?0:t.length;return r?(e=n||e===nt?1:yc(e),e=r-e,ii(t,0,e<0?0:e)):[]}function ia(t,e){return t&&t.length?di(t,mo(e,3),!0,!0):[]}function oa(t,e){return t&&t.length?di(t,mo(e,3),!0):[]}function aa(t,e,n,r){var i=null==t?0:t.length;return i?(n&&\"number\"!=typeof n&&Po(t,e,n)&&(n=0,r=i),ur(t,e,n,r)):[]}function ua(t,e,n){var r=null==t?0:t.length;if(!r)return-1;var i=null==n?0:yc(n);return i<0&&(i=Vl(r+i,0)),x(t,mo(e,3),i)}function ca(t,e,n){var r=null==t?0:t.length;if(!r)return-1;var i=r-1;return n!==nt&&(i=yc(n),i=n<0?Vl(r+i,0):Wl(i,r-1)),x(t,mo(e,3),i,!0)}function sa(t){return(null==t?0:t.length)?sr(t,1):[]}function la(t){return(null==t?0:t.length)?sr(t,At):[]}function fa(t,e){return(null==t?0:t.length)?(e=e===nt?1:yc(e),sr(t,e)):[]}function pa(t){for(var e=-1,n=null==t?0:t.length,r={};++e<n;){var i=t[e];r[i[0]]=i[1]}return r}function ha(t){return t&&t.length?t[0]:nt}function da(t,e,n){var r=null==t?0:t.length;if(!r)return-1;var i=null==n?0:yc(n);return i<0&&(i=Vl(r+i,0)),w(t,e,i)}function va(t){return(null==t?0:t.length)?ii(t,0,-1):[]}function ga(t,e){return null==t?\"\":jl.call(t,e)}function ma(t){var e=null==t?0:t.length;return e?t[e-1]:nt}function ya(t,e,n){var r=null==t?0:t.length;if(!r)return-1;var i=r;return n!==nt&&(i=yc(n),i=i<0?Vl(r+i,0):Wl(i,r-1)),e===e?X(t,e,i):x(t,k,i,!0)}function _a(t,e){return t&&t.length?zr(t,yc(e)):nt}function ba(t,e){return t&&t.length&&e&&e.length?Gr(t,e):t}function xa(t,e,n){return t&&t.length&&e&&e.length?Gr(t,e,mo(n,2)):t}function wa(t,e,n){return t&&t.length&&e&&e.length?Gr(t,e,nt,n):t}function Ca(t,e){var n=[];if(!t||!t.length)return n;var r=-1,i=[],o=t.length;for(e=mo(e,3);++r<o;){var a=t[r];e(a,r,t)&&(n.push(a),i.push(r))}return $r(t,i),n}function ka(t){return null==t?t:Yl.call(t)}function Ea(t,e,n){var r=null==t?0:t.length;return r?(n&&\"number\"!=typeof n&&Po(t,e,n)?(e=0,n=r):(e=null==e?0:yc(e),n=n===nt?r:yc(n)),ii(t,e,n)):[]}function Ma(t,e){return ai(t,e)}function Ta(t,e,n){return ui(t,e,mo(n,2))}function Sa(t,e){var n=null==t?0:t.length;if(n){var r=ai(t,e);if(r<n&&Vu(t[r],e))return r}return-1}function Na(t,e){return ai(t,e,!0)}function Aa(t,e,n){return ui(t,e,mo(n,2),!0)}function Pa(t,e){if(null==t?0:t.length){var n=ai(t,e,!0)-1;if(Vu(t[n],e))return n}return-1}function Oa(t){return t&&t.length?ci(t):[]}function Ia(t,e){return t&&t.length?ci(t,mo(e,2)):[]}function Da(t){var e=null==t?0:t.length;return e?ii(t,1,e):[]}function Ra(t,e,n){return t&&t.length?(e=n||e===nt?1:yc(e),ii(t,0,e<0?0:e)):[]}function La(t,e,n){var r=null==t?0:t.length;return r?(e=n||e===nt?1:yc(e),e=r-e,ii(t,e<0?0:e,r)):[]}function Ua(t,e){return t&&t.length?di(t,mo(e,3),!1,!0):[]}function Fa(t,e){return t&&t.length?di(t,mo(e,3)):[]}function ja(t){return t&&t.length?fi(t):[]}function Ba(t,e){return t&&t.length?fi(t,mo(e,2)):[]}function Va(t,e){return e=\"function\"==typeof e?e:nt,t&&t.length?fi(t,nt,e):[]}function Wa(t){if(!t||!t.length)return[];var e=0;return t=l(t,function(t){if(zu(t))return e=Vl(t.length,e),!0}),P(e,function(e){return h(t,M(e))})}function za(t,e){if(!t||!t.length)return[];var n=Wa(t);return null==e?n:h(n,function(t){return o(e,nt,t)})}function Ha(t,e){return mi(t||[],e||[],Wn)}function qa(t,e){return mi(t||[],e||[],ni)}function Ya(t){var e=n(t);return e.__chain__=!0,e}function Ka(t,e){return e(t),t}function Ga(t,e){return e(t)}function $a(){return Ya(this)}function Xa(){return new i(this.value(),this.__chain__)}function Qa(){this.__values__===nt&&(this.__values__=gc(this.value()));var t=this.__index__>=this.__values__.length;return{done:t,value:t?nt:this.__values__[this.__index__++]}}function Za(){return this}function Ja(t){for(var e,n=this;n instanceof r;){var i=Zo(n);i.__index__=0,i.__values__=nt,e?o.__wrapped__=i:e=i;var o=i;n=n.__wrapped__}return o.__wrapped__=t,e}function tu(){var t=this.__wrapped__;if(t instanceof y){var e=t;return this.__actions__.length&&(e=new y(this)),e=e.reverse(),e.__actions__.push({func:Ga,args:[ka],thisArg:nt}),new i(e,this.__chain__)}return this.thru(ka)}function eu(){return vi(this.__wrapped__,this.__actions__)}function nu(t,e,n){var r=hp(t)?s:or;return n&&Po(t,e,n)&&(e=nt),r(t,mo(e,3))}function ru(t,e){return(hp(t)?l:cr)(t,mo(e,3))}function iu(t,e){return sr(lu(t,e),1)}function ou(t,e){return sr(lu(t,e),At)}function au(t,e,n){return n=n===nt?1:yc(n),sr(lu(t,e),n)}function uu(t,e){return(hp(t)?u:ff)(t,mo(e,3))}function cu(t,e){return(hp(t)?c:pf)(t,mo(e,3))}function su(t,e,n,r){t=Wu(t)?t:$c(t),n=n&&!r?yc(n):0;var i=t.length;return n<0&&(n=Vl(i+n,0)),fc(t)?n<=i&&t.indexOf(e,n)>-1:!!i&&w(t,e,n)>-1}function lu(t,e){return(hp(t)?h:Fr)(t,mo(e,3))}function fu(t,e,n,r){return null==t?[]:(hp(e)||(e=null==e?[]:[e]),n=r?nt:n,hp(n)||(n=null==n?[]:[n]),Hr(t,e,n))}function pu(t,e,n){var r=hp(t)?v:S,i=arguments.length<3;return r(t,mo(e,4),n,i,ff)}function hu(t,e,n){var r=hp(t)?g:S,i=arguments.length<3;return r(t,mo(e,4),n,i,pf)}function du(t,e){return(hp(t)?l:cr)(t,Su(mo(e,3)))}function vu(t){return(hp(t)?Pn:ti)(t)}function gu(t,e,n){return e=(n?Po(t,e,n):e===nt)?1:yc(e),(hp(t)?On:ei)(t,e)}function mu(t){return(hp(t)?Dn:ri)(t)}function yu(t){if(null==t)return 0;if(Wu(t))return fc(t)?Q(t):t.length;var e=Cf(t);return e==Kt||e==Jt?t.size:Rr(t).length}function _u(t,e,n){var r=hp(t)?m:oi;return n&&Po(t,e,n)&&(e=nt),r(t,mo(e,3))}function bu(t,e){if(\"function\"!=typeof e)throw new al(ot);return t=yc(t),function(){if(--t<1)return e.apply(this,arguments)}}function xu(t,e,n){return e=n?nt:e,e=t&&null==e?t.length:e,io(t,xt,nt,nt,nt,nt,e)}function wu(t,e){var n;if(\"function\"!=typeof e)throw new al(ot);return t=yc(t),function(){return--t>0&&(n=e.apply(this,arguments)),t<=1&&(e=nt),n}}function Cu(t,e,n){e=n?nt:e;var r=io(t,mt,nt,nt,nt,nt,nt,e);return r.placeholder=Cu.placeholder,r}function ku(t,e,n){e=n?nt:e;var r=io(t,yt,nt,nt,nt,nt,nt,e);return r.placeholder=ku.placeholder,r}function Eu(t,e,n){function r(e){var n=p,r=h;return p=h=nt,y=e,v=t.apply(r,n)}function i(t){return y=t,g=Mf(u,e),_?r(t):v}function o(t){var n=t-m,r=t-y,i=e-n;return b?Wl(i,d-r):i}function a(t){var n=t-m,r=t-y;return m===nt||n>=e||n<0||b&&r>=d}function u(){var t=ep();if(a(t))return c(t);g=Mf(u,o(t))}function c(t){return g=nt,x&&p?r(t):(p=h=nt,v)}function s(){g!==nt&&yf(g),y=0,p=m=h=g=nt}function l(){return g===nt?v:c(ep())}function f(){var t=ep(),n=a(t);if(p=arguments,h=this,m=t,n){if(g===nt)return i(m);if(b)return g=Mf(u,e),r(m)}return g===nt&&(g=Mf(u,e)),v}var p,h,d,v,g,m,y=0,_=!1,b=!1,x=!0;if(\"function\"!=typeof t)throw new al(ot);return e=bc(e)||0,tc(n)&&(_=!!n.leading,b=\"maxWait\"in n,d=b?Vl(bc(n.maxWait)||0,e):d,x=\"trailing\"in n?!!n.trailing:x),f.cancel=s,f.flush=l,f}function Mu(t){return io(t,Ct)}function Tu(t,e){if(\"function\"!=typeof t||null!=e&&\"function\"!=typeof e)throw new al(ot);var n=function(){var r=arguments,i=e?e.apply(this,r):r[0],o=n.cache;if(o.has(i))return o.get(i);var a=t.apply(this,r);return n.cache=o.set(i,a)||o,a};return n.cache=new(Tu.Cache||an),n}function Su(t){if(\"function\"!=typeof t)throw new al(ot);return function(){var e=arguments;switch(e.length){case 0:return!t.call(this);case 1:return!t.call(this,e[0]);case 2:return!t.call(this,e[0],e[1]);case 3:return!t.call(this,e[0],e[1],e[2])}return!t.apply(this,e)}}function Nu(t){return wu(2,t)}function Au(t,e){if(\"function\"!=typeof t)throw new al(ot);return e=e===nt?e:yc(e),Jr(t,e)}function Pu(t,e){if(\"function\"!=typeof t)throw new al(ot);return e=null==e?0:Vl(yc(e),0),Jr(function(n){var r=n[e],i=xi(n,0,e);return r&&d(i,r),o(t,this,i)})}function Ou(t,e,n){var r=!0,i=!0;if(\"function\"!=typeof t)throw new al(ot);return tc(n)&&(r=\"leading\"in n?!!n.leading:r,i=\"trailing\"in n?!!n.trailing:i),Eu(t,e,{leading:r,maxWait:e,trailing:i})}function Iu(t){return xu(t,1)}function Du(t,e){return up(_i(e),t)}function Ru(){if(!arguments.length)return[];var t=arguments[0];return hp(t)?t:[t]}function Lu(t){return tr(t,ft)}function Uu(t,e){return e=\"function\"==typeof e?e:nt,tr(t,ft,e)}function Fu(t){return tr(t,st|ft)}function ju(t,e){return e=\"function\"==typeof e?e:nt,tr(t,st|ft,e)}function Bu(t,e){return null==e||nr(t,e,Lc(e))}function Vu(t,e){return t===e||t!==t&&e!==e}function Wu(t){return null!=t&&Ju(t.length)&&!Qu(t)}function zu(t){return ec(t)&&Wu(t)}function Hu(t){return!0===t||!1===t||ec(t)&&vr(t)==Vt}function qu(t){return ec(t)&&1===t.nodeType&&!sc(t)}function Yu(t){if(null==t)return!0;if(Wu(t)&&(hp(t)||\"string\"==typeof t||\"function\"==typeof t.splice||vp(t)||bp(t)||pp(t)))return!t.length;var e=Cf(t);if(e==Kt||e==Jt)return!t.size;if(Lo(t))return!Rr(t).length;for(var n in t)if(pl.call(t,n))return!1;return!0}function Ku(t,e){return Mr(t,e)}function Gu(t,e,n){n=\"function\"==typeof n?n:nt;var r=n?n(t,e):nt;return r===nt?Mr(t,e,nt,n):!!r}function $u(t){if(!ec(t))return!1;var e=vr(t);return e==Ht||e==zt||\"string\"==typeof t.message&&\"string\"==typeof t.name&&!sc(t)}function Xu(t){return\"number\"==typeof t&&Fl(t)}function Qu(t){if(!tc(t))return!1;var e=vr(t);return e==qt||e==Yt||e==Bt||e==Qt}function Zu(t){return\"number\"==typeof t&&t==yc(t)}function Ju(t){return\"number\"==typeof t&&t>-1&&t%1==0&&t<=Pt}function tc(t){var e=typeof t;return null!=t&&(\"object\"==e||\"function\"==e)}function ec(t){return null!=t&&\"object\"==typeof t}function nc(t,e){return t===e||Nr(t,e,_o(e))}function rc(t,e,n){return n=\"function\"==typeof n?n:nt,Nr(t,e,_o(e),n)}function ic(t){return cc(t)&&t!=+t}function oc(t){if(kf(t))throw new tl(it);return Ar(t)}function ac(t){return null===t}function uc(t){return null==t}function cc(t){return\"number\"==typeof t||ec(t)&&vr(t)==Gt}function sc(t){if(!ec(t)||vr(t)!=Xt)return!1;var e=Cl(t);if(null===e)return!0;var n=pl.call(e,\"constructor\")&&e.constructor;return\"function\"==typeof n&&n instanceof n&&fl.call(n)==gl}function lc(t){return Zu(t)&&t>=-Pt&&t<=Pt}function fc(t){return\"string\"==typeof t||!hp(t)&&ec(t)&&vr(t)==te}function pc(t){return\"symbol\"==typeof t||ec(t)&&vr(t)==ee}function hc(t){return t===nt}function dc(t){return ec(t)&&Cf(t)==re}function vc(t){return ec(t)&&vr(t)==ie}function gc(t){if(!t)return[];if(Wu(t))return fc(t)?Z(t):Oi(t);if(Sl&&t[Sl])return z(t[Sl]());var e=Cf(t);return(e==Kt?H:e==Jt?K:$c)(t)}function mc(t){if(!t)return 0===t?t:0;if((t=bc(t))===At||t===-At){return(t<0?-1:1)*Ot}return t===t?t:0}function yc(t){var e=mc(t),n=e%1;return e===e?n?e-n:e:0}function _c(t){return t?Jn(yc(t),0,Dt):0}function bc(t){if(\"number\"==typeof t)return t;if(pc(t))return It;if(tc(t)){var e=\"function\"==typeof t.valueOf?t.valueOf():t;t=tc(e)?e+\"\":e}if(\"string\"!=typeof t)return 0===t?t:+t;t=t.replace(Pe,\"\");var n=We.test(t);return n||He.test(t)?Tn(t.slice(2),n?2:8):Ve.test(t)?It:+t}function xc(t){return Ii(t,Uc(t))}function wc(t){return t?Jn(yc(t),-Pt,Pt):0===t?t:0}function Cc(t){return null==t?\"\":li(t)}function kc(t,e){var n=lf(t);return null==e?n:$n(n,e)}function Ec(t,e){return b(t,mo(e,3),lr)}function Mc(t,e){return b(t,mo(e,3),fr)}function Tc(t,e){return null==t?t:hf(t,mo(e,3),Uc)}function Sc(t,e){return null==t?t:df(t,mo(e,3),Uc)}function Nc(t,e){return t&&lr(t,mo(e,3))}function Ac(t,e){return t&&fr(t,mo(e,3))}function Pc(t){return null==t?[]:pr(t,Lc(t))}function Oc(t){return null==t?[]:pr(t,Uc(t))}function Ic(t,e,n){var r=null==t?nt:hr(t,e);return r===nt?n:r}function Dc(t,e){return null!=t&&ko(t,e,mr)}function Rc(t,e){return null!=t&&ko(t,e,yr)}function Lc(t){return Wu(t)?Nn(t):Rr(t)}function Uc(t){return Wu(t)?Nn(t,!0):Lr(t)}function Fc(t,e){var n={};return e=mo(e,3),lr(t,function(t,r,i){Qn(n,e(t,r,i),t)}),n}function jc(t,e){var n={};return e=mo(e,3),lr(t,function(t,r,i){Qn(n,r,e(t,r,i))}),n}function Bc(t,e){return Vc(t,Su(mo(e)))}function Vc(t,e){if(null==t)return{};var n=h(ho(t),function(t){return[t]});return e=mo(e),Yr(t,n,function(t,n){return e(t,n[0])})}function Wc(t,e,n){e=bi(e,t);var r=-1,i=e.length;for(i||(i=1,t=nt);++r<i;){var o=null==t?nt:t[$o(e[r])];o===nt&&(r=i,o=n),t=Qu(o)?o.call(t):o}return t}function zc(t,e,n){return null==t?t:ni(t,e,n)}function Hc(t,e,n,r){return r=\"function\"==typeof r?r:nt,null==t?t:ni(t,e,n,r)}function qc(t,e,n){var r=hp(t),i=r||vp(t)||bp(t);if(e=mo(e,4),null==n){var o=t&&t.constructor;n=i?r?new o:[]:tc(t)&&Qu(o)?lf(Cl(t)):{}}return(i?u:lr)(t,function(t,r,i){return e(n,t,r,i)}),n}function Yc(t,e){return null==t||pi(t,e)}function Kc(t,e,n){return null==t?t:hi(t,e,_i(n))}function Gc(t,e,n,r){return r=\"function\"==typeof r?r:nt,null==t?t:hi(t,e,_i(n),r)}function $c(t){return null==t?[]:D(t,Lc(t))}function Xc(t){return null==t?[]:D(t,Uc(t))}function Qc(t,e,n){return n===nt&&(n=e,e=nt),n!==nt&&(n=bc(n),n=n===n?n:0),e!==nt&&(e=bc(e),e=e===e?e:0),Jn(bc(t),e,n)}function Zc(t,e,n){return e=mc(e),n===nt?(n=e,e=0):n=mc(n),t=bc(t),_r(t,e,n)}function Jc(t,e,n){if(n&&\"boolean\"!=typeof n&&Po(t,e,n)&&(e=n=nt),n===nt&&(\"boolean\"==typeof e?(n=e,e=nt):\"boolean\"==typeof t&&(n=t,t=nt)),t===nt&&e===nt?(t=0,e=1):(t=mc(t),e===nt?(e=t,t=0):e=mc(e)),t>e){var r=t;t=e,e=r}if(n||t%1||e%1){var i=ql();return Wl(t+i*(e-t+Mn(\"1e-\"+((i+\"\").length-1))),e)}return Xr(t,e)}function ts(t){return Yp(Cc(t).toLowerCase())}function es(t){return(t=Cc(t))&&t.replace(Ye,zn).replace(hn,\"\")}function ns(t,e,n){t=Cc(t),e=li(e);var r=t.length;n=n===nt?r:Jn(yc(n),0,r);var i=n;return(n-=e.length)>=0&&t.slice(n,i)==e}function rs(t){return t=Cc(t),t&&we.test(t)?t.replace(be,Hn):t}function is(t){return t=Cc(t),t&&Ae.test(t)?t.replace(Ne,\"\\\\$&\"):t}function os(t,e,n){t=Cc(t),e=yc(e);var r=e?Q(t):0;if(!e||r>=e)return t;var i=(e-r)/2;return Qi(Rl(i),n)+t+Qi(Dl(i),n)}function as(t,e,n){t=Cc(t),e=yc(e);var r=e?Q(t):0;return e&&r<e?t+Qi(e-r,n):t}function us(t,e,n){t=Cc(t),e=yc(e);var r=e?Q(t):0;return e&&r<e?Qi(e-r,n)+t:t}function cs(t,e,n){return n||null==e?e=0:e&&(e=+e),Hl(Cc(t).replace(Oe,\"\"),e||0)}function ss(t,e,n){return e=(n?Po(t,e,n):e===nt)?1:yc(e),Zr(Cc(t),e)}function ls(){var t=arguments,e=Cc(t[0]);return t.length<3?e:e.replace(t[1],t[2])}function fs(t,e,n){return n&&\"number\"!=typeof n&&Po(t,e,n)&&(e=n=nt),(n=n===nt?Dt:n>>>0)?(t=Cc(t),t&&(\"string\"==typeof e||null!=e&&!yp(e))&&!(e=li(e))&&V(t)?xi(Z(t),0,n):t.split(e,n)):[]}function ps(t,e,n){return t=Cc(t),n=null==n?0:Jn(yc(n),0,t.length),e=li(e),t.slice(n,n+e.length)==e}function hs(t,e,r){var i=n.templateSettings;r&&Po(t,e,r)&&(e=nt),t=Cc(t),e=Ep({},e,i,oo);var o,a,u=Ep({},e.imports,i.imports,oo),c=Lc(u),s=D(u,c),l=0,f=e.interpolate||Ke,p=\"__p += '\",h=il((e.escape||Ke).source+\"|\"+f.source+\"|\"+(f===Ee?je:Ke).source+\"|\"+(e.evaluate||Ke).source+\"|$\",\"g\"),d=\"//# sourceURL=\"+(\"sourceURL\"in e?e.sourceURL:\"lodash.templateSources[\"+ ++_n+\"]\")+\"\\n\";t.replace(h,function(e,n,r,i,u,c){return r||(r=i),p+=t.slice(l,c).replace(Ge,j),n&&(o=!0,p+=\"' +\\n__e(\"+n+\") +\\n'\"),u&&(a=!0,p+=\"';\\n\"+u+\";\\n__p += '\"),r&&(p+=\"' +\\n((__t = (\"+r+\")) == null ? '' : __t) +\\n'\"),l=c+e.length,e}),p+=\"';\\n\";var v=e.variable;v||(p=\"with (obj) {\\n\"+p+\"\\n}\\n\"),p=(a?p.replace(ge,\"\"):p).replace(me,\"$1\").replace(ye,\"$1;\"),p=\"function(\"+(v||\"obj\")+\") {\\n\"+(v?\"\":\"obj || (obj = {});\\n\")+\"var __t, __p = ''\"+(o?\", __e = _.escape\":\"\")+(a?\", __j = Array.prototype.join;\\nfunction print() { __p += __j.call(arguments, '') }\\n\":\";\\n\")+p+\"return __p\\n}\";var g=Kp(function(){return el(c,d+\"return \"+p).apply(nt,s)});if(g.source=p,$u(g))throw g;return g}function ds(t){return Cc(t).toLowerCase()}function vs(t){return Cc(t).toUpperCase()}function gs(t,e,n){if((t=Cc(t))&&(n||e===nt))return t.replace(Pe,\"\");if(!t||!(e=li(e)))return t;var r=Z(t),i=Z(e);return xi(r,L(r,i),U(r,i)+1).join(\"\")}function ms(t,e,n){if((t=Cc(t))&&(n||e===nt))return t.replace(Ie,\"\");if(!t||!(e=li(e)))return t;var r=Z(t);return xi(r,0,U(r,Z(e))+1).join(\"\")}function ys(t,e,n){if((t=Cc(t))&&(n||e===nt))return t.replace(Oe,\"\");if(!t||!(e=li(e)))return t;var r=Z(t);return xi(r,L(r,Z(e))).join(\"\")}function _s(t,e){var n=kt,r=Et;if(tc(e)){var i=\"separator\"in e?e.separator:i;n=\"length\"in e?yc(e.length):n,r=\"omission\"in e?li(e.omission):r}t=Cc(t);var o=t.length;if(V(t)){var a=Z(t);o=a.length}if(n>=o)return t;var u=n-Q(r);if(u<1)return r;var c=a?xi(a,0,u).join(\"\"):t.slice(0,u);if(i===nt)return c+r;if(a&&(u+=c.length-u),yp(i)){if(t.slice(u).search(i)){var s,l=c;for(i.global||(i=il(i.source,Cc(Be.exec(i))+\"g\")),i.lastIndex=0;s=i.exec(l);)var f=s.index;c=c.slice(0,f===nt?u:f)}}else if(t.indexOf(li(i),u)!=u){var p=c.lastIndexOf(i);p>-1&&(c=c.slice(0,p))}return c+r}function bs(t){return t=Cc(t),t&&xe.test(t)?t.replace(_e,qn):t}function xs(t,e,n){return t=Cc(t),e=n?nt:e,e===nt?W(t)?et(t):_(t):t.match(e)||[]}function ws(t){var e=null==t?0:t.length,n=mo();return t=e?h(t,function(t){if(\"function\"!=typeof t[1])throw new al(ot);return[n(t[0]),t[1]]}):[],Jr(function(n){for(var r=-1;++r<e;){var i=t[r];if(o(i[0],this,n))return o(i[1],this,n)}})}function Cs(t){return er(tr(t,st))}function ks(t){return function(){return t}}function Es(t,e){return null==t||t!==t?e:t}function Ms(t){return t}function Ts(t){return Dr(\"function\"==typeof t?t:tr(t,st))}function Ss(t){return jr(tr(t,st))}function Ns(t,e){return Br(t,tr(e,st))}function As(t,e,n){var r=Lc(e),i=pr(e,r);null!=n||tc(e)&&(i.length||!r.length)||(n=e,e=t,t=this,i=pr(e,Lc(e)));var o=!(tc(n)&&\"chain\"in n&&!n.chain),a=Qu(t);return u(i,function(n){var r=e[n];t[n]=r,a&&(t.prototype[n]=function(){var e=this.__chain__;if(o||e){var n=t(this.__wrapped__);return(n.__actions__=Oi(this.__actions__)).push({func:r,args:arguments,thisArg:t}),n.__chain__=e,n}return r.apply(t,d([this.value()],arguments))})}),t}function Ps(){return An._===this&&(An._=ml),this}function Os(){}function Is(t){return t=yc(t),Jr(function(e){return zr(e,t)})}function Ds(t){return Oo(t)?M($o(t)):Kr(t)}function Rs(t){return function(e){return null==t?nt:hr(t,e)}}function Ls(){return[]}function Us(){return!1}function Fs(){return{}}function js(){return\"\"}function Bs(){return!0}function Vs(t,e){if((t=yc(t))<1||t>Pt)return[];var n=Dt,r=Wl(t,Dt);e=mo(e),t-=Dt;for(var i=P(r,e);++n<t;)e(n);return i}function Ws(t){return hp(t)?h(t,$o):pc(t)?[t]:Oi(Sf(Cc(t)))}function zs(t){var e=++hl;return Cc(t)+e}function Hs(t){return t&&t.length?ar(t,Ms,gr):nt}function qs(t,e){return t&&t.length?ar(t,mo(e,2),gr):nt}function Ys(t){return E(t,Ms)}function Ks(t,e){return E(t,mo(e,2))}function Gs(t){return t&&t.length?ar(t,Ms,Ur):nt}function $s(t,e){return t&&t.length?ar(t,mo(e,2),Ur):nt}function Xs(t){return t&&t.length?A(t,Ms):0}function Qs(t,e){return t&&t.length?A(t,mo(e,2)):0}e=null==e?An:Yn.defaults(An.Object(),e,Yn.pick(An,yn));var Zs=e.Array,Js=e.Date,tl=e.Error,el=e.Function,nl=e.Math,rl=e.Object,il=e.RegExp,ol=e.String,al=e.TypeError,ul=Zs.prototype,cl=el.prototype,sl=rl.prototype,ll=e[\"__core-js_shared__\"],fl=cl.toString,pl=sl.hasOwnProperty,hl=0,dl=function(){var t=/[^.]+$/.exec(ll&&ll.keys&&ll.keys.IE_PROTO||\"\");return t?\"Symbol(src)_1.\"+t:\"\"}(),vl=sl.toString,gl=fl.call(rl),ml=An._,yl=il(\"^\"+fl.call(pl).replace(Ne,\"\\\\$&\").replace(/hasOwnProperty|(function).*?(?=\\\\\\()| for .+?(?=\\\\\\])/g,\"$1.*?\")+\"$\"),_l=In?e.Buffer:nt,bl=e.Symbol,xl=e.Uint8Array,wl=_l?_l.allocUnsafe:nt,Cl=q(rl.getPrototypeOf,rl),kl=rl.create,El=sl.propertyIsEnumerable,Ml=ul.splice,Tl=bl?bl.isConcatSpreadable:nt,Sl=bl?bl.iterator:nt,Nl=bl?bl.toStringTag:nt,Al=function(){try{var t=bo(rl,\"defineProperty\");return t({},\"\",{}),t}catch(t){}}(),Pl=e.clearTimeout!==An.clearTimeout&&e.clearTimeout,Ol=Js&&Js.now!==An.Date.now&&Js.now,Il=e.setTimeout!==An.setTimeout&&e.setTimeout,Dl=nl.ceil,Rl=nl.floor,Ll=rl.getOwnPropertySymbols,Ul=_l?_l.isBuffer:nt,Fl=e.isFinite,jl=ul.join,Bl=q(rl.keys,rl),Vl=nl.max,Wl=nl.min,zl=Js.now,Hl=e.parseInt,ql=nl.random,Yl=ul.reverse,Kl=bo(e,\"DataView\"),Gl=bo(e,\"Map\"),$l=bo(e,\"Promise\"),Xl=bo(e,\"Set\"),Ql=bo(e,\"WeakMap\"),Zl=bo(rl,\"create\"),Jl=Ql&&new Ql,tf={},ef=Xo(Kl),nf=Xo(Gl),rf=Xo($l),of=Xo(Xl),af=Xo(Ql),uf=bl?bl.prototype:nt,cf=uf?uf.valueOf:nt,sf=uf?uf.toString:nt,lf=function(){function t(){}return function(e){if(!tc(e))return{};if(kl)return kl(e);t.prototype=e;var n=new t;return t.prototype=nt,n}}();n.templateSettings={escape:Ce,evaluate:ke,interpolate:Ee,variable:\"\",imports:{_:n}},n.prototype=r.prototype,n.prototype.constructor=n,i.prototype=lf(r.prototype),i.prototype.constructor=i,y.prototype=lf(r.prototype),y.prototype.constructor=y,tt.prototype.clear=Ue,tt.prototype.delete=$e,tt.prototype.get=Xe,tt.prototype.has=Qe,tt.prototype.set=Ze,Je.prototype.clear=tn,Je.prototype.delete=en,Je.prototype.get=nn,Je.prototype.has=rn,Je.prototype.set=on,an.prototype.clear=un,an.prototype.delete=cn,an.prototype.get=sn,an.prototype.has=ln,an.prototype.set=fn,dn.prototype.add=dn.prototype.push=vn,dn.prototype.has=gn,mn.prototype.clear=wn,mn.prototype.delete=Cn,mn.prototype.get=kn,mn.prototype.has=En,mn.prototype.set=Sn;var ff=Fi(lr),pf=Fi(fr,!0),hf=ji(),df=ji(!0),vf=Jl?function(t,e){return Jl.set(t,e),t}:Ms,gf=Al?function(t,e){return Al(t,\"toString\",{configurable:!0,enumerable:!1,value:ks(e),writable:!0})}:Ms,mf=Jr,yf=Pl||function(t){return An.clearTimeout(t)},_f=Xl&&1/K(new Xl([,-0]))[1]==At?function(t){return new Xl(t)}:Os,bf=Jl?function(t){return Jl.get(t)}:Os,xf=Ll?function(t){return null==t?[]:(t=rl(t),l(Ll(t),function(e){return El.call(t,e)}))}:Ls,wf=Ll?function(t){for(var e=[];t;)d(e,xf(t)),t=Cl(t);return e}:Ls,Cf=vr;(Kl&&Cf(new Kl(new ArrayBuffer(1)))!=ae||Gl&&Cf(new Gl)!=Kt||$l&&\"[object Promise]\"!=Cf($l.resolve())||Xl&&Cf(new Xl)!=Jt||Ql&&Cf(new Ql)!=re)&&(Cf=function(t){var e=vr(t),n=e==Xt?t.constructor:nt,r=n?Xo(n):\"\";if(r)switch(r){case ef:return ae;case nf:return Kt;case rf:return\"[object Promise]\";case of:return Jt;case af:return re}return e});var kf=ll?Qu:Us,Ef=Ko(vf),Mf=Il||function(t,e){return An.setTimeout(t,e)},Tf=Ko(gf),Sf=function(t){var e=Tu(t,function(t){return n.size===ut&&n.clear(),t}),n=e.cache;return e}(function(t){var e=[];return 46===t.charCodeAt(0)&&e.push(\"\"),t.replace(Se,function(t,n,r,i){e.push(r?i.replace(Fe,\"$1\"):n||t)}),e}),Nf=Jr(function(t,e){return zu(t)?ir(t,sr(e,1,zu,!0)):[]}),Af=Jr(function(t,e){var n=ma(e);return zu(n)&&(n=nt),zu(t)?ir(t,sr(e,1,zu,!0),mo(n,2)):[]}),Pf=Jr(function(t,e){var n=ma(e);return zu(n)&&(n=nt),zu(t)?ir(t,sr(e,1,zu,!0),nt,n):[]}),Of=Jr(function(t){var e=h(t,yi);return e.length&&e[0]===t[0]?br(e):[]}),If=Jr(function(t){var e=ma(t),n=h(t,yi);return e===ma(n)?e=nt:n.pop(),n.length&&n[0]===t[0]?br(n,mo(e,2)):[]}),Df=Jr(function(t){var e=ma(t),n=h(t,yi);return e=\"function\"==typeof e?e:nt,e&&n.pop(),n.length&&n[0]===t[0]?br(n,nt,e):[]}),Rf=Jr(ba),Lf=fo(function(t,e){var n=null==t?0:t.length,r=Zn(t,e);return $r(t,h(e,function(t){return Ao(t,n)?+t:t}).sort(Si)),r}),Uf=Jr(function(t){return fi(sr(t,1,zu,!0))}),Ff=Jr(function(t){var e=ma(t);return zu(e)&&(e=nt),fi(sr(t,1,zu,!0),mo(e,2))}),jf=Jr(function(t){var e=ma(t);return e=\"function\"==typeof e?e:nt,fi(sr(t,1,zu,!0),nt,e)}),Bf=Jr(function(t,e){return zu(t)?ir(t,e):[]}),Vf=Jr(function(t){return gi(l(t,zu))}),Wf=Jr(function(t){var e=ma(t);return zu(e)&&(e=nt),gi(l(t,zu),mo(e,2))}),zf=Jr(function(t){var e=ma(t);return e=\"function\"==typeof e?e:nt,gi(l(t,zu),nt,e)}),Hf=Jr(Wa),qf=Jr(function(t){var e=t.length,n=e>1?t[e-1]:nt;return n=\"function\"==typeof n?(t.pop(),n):nt,za(t,n)}),Yf=fo(function(t){var e=t.length,n=e?t[0]:0,r=this.__wrapped__,o=function(e){return Zn(e,t)};return!(e>1||this.__actions__.length)&&r instanceof y&&Ao(n)?(r=r.slice(n,+n+(e?1:0)),r.__actions__.push({func:Ga,args:[o],thisArg:nt}),new i(r,this.__chain__).thru(function(t){return e&&!t.length&&t.push(nt),t})):this.thru(o)}),Kf=Li(function(t,e,n){pl.call(t,n)?++t[n]:Qn(t,n,1)}),Gf=qi(ua),$f=qi(ca),Xf=Li(function(t,e,n){pl.call(t,n)?t[n].push(e):Qn(t,n,[e])}),Qf=Jr(function(t,e,n){var r=-1,i=\"function\"==typeof e,a=Wu(t)?Zs(t.length):[];return ff(t,function(t){a[++r]=i?o(e,t,n):wr(t,e,n)}),a}),Zf=Li(function(t,e,n){Qn(t,n,e)}),Jf=Li(function(t,e,n){t[n?0:1].push(e)},function(){return[[],[]]}),tp=Jr(function(t,e){if(null==t)return[];var n=e.length;return n>1&&Po(t,e[0],e[1])?e=[]:n>2&&Po(e[0],e[1],e[2])&&(e=[e[0]]),Hr(t,sr(e,1),[])}),ep=Ol||function(){return An.Date.now()},np=Jr(function(t,e,n){var r=dt;if(n.length){var i=Y(n,go(np));r|=_t}return io(t,r,e,n,i)}),rp=Jr(function(t,e,n){var r=dt|vt;if(n.length){var i=Y(n,go(rp));r|=_t}return io(e,r,t,n,i)}),ip=Jr(function(t,e){return rr(t,1,e)}),op=Jr(function(t,e,n){return rr(t,bc(e)||0,n)});Tu.Cache=an;var ap=mf(function(t,e){e=1==e.length&&hp(e[0])?h(e[0],I(mo())):h(sr(e,1),I(mo()));var n=e.length;return Jr(function(r){for(var i=-1,a=Wl(r.length,n);++i<a;)r[i]=e[i].call(this,r[i]);return o(t,this,r)})}),up=Jr(function(t,e){var n=Y(e,go(up));return io(t,_t,nt,e,n)}),cp=Jr(function(t,e){var n=Y(e,go(cp));return io(t,bt,nt,e,n)}),sp=fo(function(t,e){return io(t,wt,nt,nt,nt,e)}),lp=to(gr),fp=to(function(t,e){return t>=e}),pp=Cr(function(){return arguments}())?Cr:function(t){return ec(t)&&pl.call(t,\"callee\")&&!El.call(t,\"callee\")},hp=Zs.isArray,dp=Ln?I(Ln):kr,vp=Ul||Us,gp=Un?I(Un):Er,mp=Fn?I(Fn):Sr,yp=jn?I(jn):Pr,_p=Bn?I(Bn):Or,bp=Vn?I(Vn):Ir,xp=to(Ur),wp=to(function(t,e){return t<=e}),Cp=Ui(function(t,e){if(Lo(e)||Wu(e))return void Ii(e,Lc(e),t);for(var n in e)pl.call(e,n)&&Wn(t,n,e[n])}),kp=Ui(function(t,e){Ii(e,Uc(e),t)}),Ep=Ui(function(t,e,n,r){Ii(e,Uc(e),t,r)}),Mp=Ui(function(t,e,n,r){Ii(e,Lc(e),t,r)}),Tp=fo(Zn),Sp=Jr(function(t,e){t=rl(t);var n=-1,r=e.length,i=r>2?e[2]:nt;for(i&&Po(e[0],e[1],i)&&(r=1);++n<r;)for(var o=e[n],a=Uc(o),u=-1,c=a.length;++u<c;){var s=a[u],l=t[s];(l===nt||Vu(l,sl[s])&&!pl.call(t,s))&&(t[s]=o[s])}return t}),Np=Jr(function(t){return t.push(nt,ao),o(Dp,nt,t)}),Ap=Gi(function(t,e,n){null!=e&&\"function\"!=typeof e.toString&&(e=vl.call(e)),t[e]=n},ks(Ms)),Pp=Gi(function(t,e,n){null!=e&&\"function\"!=typeof e.toString&&(e=vl.call(e)),pl.call(t,e)?t[e].push(n):t[e]=[n]},mo),Op=Jr(wr),Ip=Ui(function(t,e,n){Vr(t,e,n)}),Dp=Ui(function(t,e,n,r){Vr(t,e,n,r)}),Rp=fo(function(t,e){var n={};if(null==t)return n;var r=!1;e=h(e,function(e){return e=bi(e,t),r||(r=e.length>1),e}),Ii(t,ho(t),n),r&&(n=tr(n,st|lt|ft,uo));for(var i=e.length;i--;)pi(n,e[i]);return n}),Lp=fo(function(t,e){return null==t?{}:qr(t,e)}),Up=ro(Lc),Fp=ro(Uc),jp=Wi(function(t,e,n){return e=e.toLowerCase(),t+(n?ts(e):e)}),Bp=Wi(function(t,e,n){return t+(n?\"-\":\"\")+e.toLowerCase()}),Vp=Wi(function(t,e,n){return t+(n?\" \":\"\")+e.toLowerCase()}),Wp=Vi(\"toLowerCase\"),zp=Wi(function(t,e,n){return t+(n?\"_\":\"\")+e.toLowerCase()}),Hp=Wi(function(t,e,n){return t+(n?\" \":\"\")+Yp(e)}),qp=Wi(function(t,e,n){return t+(n?\" \":\"\")+e.toUpperCase()}),Yp=Vi(\"toUpperCase\"),Kp=Jr(function(t,e){try{return o(t,nt,e)}catch(t){return $u(t)?t:new tl(t)}}),Gp=fo(function(t,e){return u(e,function(e){e=$o(e),Qn(t,e,np(t[e],t))}),t}),$p=Yi(),Xp=Yi(!0),Qp=Jr(function(t,e){return function(n){return wr(n,t,e)}}),Zp=Jr(function(t,e){return function(n){return wr(t,n,e)}}),Jp=Xi(h),th=Xi(s),eh=Xi(m),nh=Ji(),rh=Ji(!0),ih=$i(function(t,e){return t+e},0),oh=no(\"ceil\"),ah=$i(function(t,e){return t/e},1),uh=no(\"floor\"),ch=$i(function(t,e){return t*e},1),sh=no(\"round\"),lh=$i(function(t,e){return t-e},0);return n.after=bu,n.ary=xu,n.assign=Cp,n.assignIn=kp,n.assignInWith=Ep,n.assignWith=Mp,n.at=Tp,n.before=wu,n.bind=np,n.bindAll=Gp,n.bindKey=rp,n.castArray=Ru,n.chain=Ya,n.chunk=Jo,n.compact=ta,n.concat=ea,n.cond=ws,n.conforms=Cs,n.constant=ks,n.countBy=Kf,n.create=kc,n.curry=Cu,n.curryRight=ku,n.debounce=Eu,n.defaults=Sp,n.defaultsDeep=Np,n.defer=ip,n.delay=op,n.difference=Nf,n.differenceBy=Af,n.differenceWith=Pf,n.drop=na,n.dropRight=ra,n.dropRightWhile=ia,n.dropWhile=oa,n.fill=aa,n.filter=ru,n.flatMap=iu,n.flatMapDeep=ou,n.flatMapDepth=au,n.flatten=sa,n.flattenDeep=la,n.flattenDepth=fa,n.flip=Mu,n.flow=$p,n.flowRight=Xp,n.fromPairs=pa,n.functions=Pc,n.functionsIn=Oc,n.groupBy=Xf,n.initial=va,n.intersection=Of,n.intersectionBy=If,n.intersectionWith=Df,n.invert=Ap,n.invertBy=Pp,n.invokeMap=Qf,n.iteratee=Ts,n.keyBy=Zf,n.keys=Lc,n.keysIn=Uc,n.map=lu,n.mapKeys=Fc,n.mapValues=jc,n.matches=Ss,n.matchesProperty=Ns,n.memoize=Tu,n.merge=Ip,n.mergeWith=Dp,n.method=Qp,n.methodOf=Zp,n.mixin=As,n.negate=Su,n.nthArg=Is,n.omit=Rp,n.omitBy=Bc,n.once=Nu,n.orderBy=fu,n.over=Jp,n.overArgs=ap,n.overEvery=th,n.overSome=eh,n.partial=up,n.partialRight=cp,n.partition=Jf,n.pick=Lp,n.pickBy=Vc,n.property=Ds,n.propertyOf=Rs,n.pull=Rf,n.pullAll=ba,n.pullAllBy=xa,n.pullAllWith=wa,n.pullAt=Lf,n.range=nh,n.rangeRight=rh,n.rearg=sp,n.reject=du,n.remove=Ca,n.rest=Au,n.reverse=ka,n.sampleSize=gu,n.set=zc,n.setWith=Hc,n.shuffle=mu,n.slice=Ea,n.sortBy=tp,n.sortedUniq=Oa,n.sortedUniqBy=Ia,n.split=fs,n.spread=Pu,n.tail=Da,n.take=Ra,n.takeRight=La,n.takeRightWhile=Ua,n.takeWhile=Fa,n.tap=Ka,n.throttle=Ou,n.thru=Ga,n.toArray=gc,n.toPairs=Up,n.toPairsIn=Fp,n.toPath=Ws,n.toPlainObject=xc,n.transform=qc,n.unary=Iu,n.union=Uf,n.unionBy=Ff,n.unionWith=jf,n.uniq=ja,n.uniqBy=Ba,n.uniqWith=Va,n.unset=Yc,n.unzip=Wa,n.unzipWith=za,n.update=Kc,n.updateWith=Gc,n.values=$c,n.valuesIn=Xc,n.without=Bf,n.words=xs,n.wrap=Du,n.xor=Vf,n.xorBy=Wf,n.xorWith=zf,n.zip=Hf,n.zipObject=Ha,n.zipObjectDeep=qa,n.zipWith=qf,n.entries=Up,n.entriesIn=Fp,n.extend=kp,n.extendWith=Ep,As(n,n),n.add=ih,n.attempt=Kp,n.camelCase=jp,n.capitalize=ts,n.ceil=oh,n.clamp=Qc,n.clone=Lu,n.cloneDeep=Fu,n.cloneDeepWith=ju,n.cloneWith=Uu,n.conformsTo=Bu,n.deburr=es,n.defaultTo=Es,n.divide=ah,n.endsWith=ns,n.eq=Vu,n.escape=rs,n.escapeRegExp=is,n.every=nu,n.find=Gf,n.findIndex=ua,n.findKey=Ec,n.findLast=$f,n.findLastIndex=ca,n.findLastKey=Mc,n.floor=uh,n.forEach=uu,n.forEachRight=cu,n.forIn=Tc,n.forInRight=Sc,n.forOwn=Nc,n.forOwnRight=Ac,n.get=Ic,n.gt=lp,n.gte=fp,n.has=Dc,n.hasIn=Rc,n.head=ha,n.identity=Ms,n.includes=su,n.indexOf=da,n.inRange=Zc,n.invoke=Op,n.isArguments=pp,n.isArray=hp,n.isArrayBuffer=dp,n.isArrayLike=Wu,n.isArrayLikeObject=zu,n.isBoolean=Hu,n.isBuffer=vp,n.isDate=gp,n.isElement=qu,n.isEmpty=Yu,n.isEqual=Ku,n.isEqualWith=Gu,n.isError=$u,n.isFinite=Xu,n.isFunction=Qu,n.isInteger=Zu,n.isLength=Ju,n.isMap=mp,n.isMatch=nc,n.isMatchWith=rc,n.isNaN=ic,n.isNative=oc,n.isNil=uc,n.isNull=ac,n.isNumber=cc,n.isObject=tc,n.isObjectLike=ec,n.isPlainObject=sc,n.isRegExp=yp,n.isSafeInteger=lc,n.isSet=_p,n.isString=fc,n.isSymbol=pc,n.isTypedArray=bp,n.isUndefined=hc,n.isWeakMap=dc,n.isWeakSet=vc,n.join=ga,n.kebabCase=Bp,n.last=ma,n.lastIndexOf=ya,n.lowerCase=Vp,n.lowerFirst=Wp,n.lt=xp,n.lte=wp,n.max=Hs,n.maxBy=qs,n.mean=Ys,n.meanBy=Ks,n.min=Gs,n.minBy=$s,n.stubArray=Ls,n.stubFalse=Us,n.stubObject=Fs,n.stubString=js,n.stubTrue=Bs,n.multiply=ch,n.nth=_a,n.noConflict=Ps,n.noop=Os,n.now=ep,n.pad=os,n.padEnd=as,n.padStart=us,n.parseInt=cs,n.random=Jc,n.reduce=pu,n.reduceRight=hu,n.repeat=ss,n.replace=ls,n.result=Wc,n.round=sh,n.runInContext=t,n.sample=vu,n.size=yu,n.snakeCase=zp,n.some=_u,n.sortedIndex=Ma,n.sortedIndexBy=Ta,n.sortedIndexOf=Sa,n.sortedLastIndex=Na,n.sortedLastIndexBy=Aa,n.sortedLastIndexOf=Pa,n.startCase=Hp,n.startsWith=ps,n.subtract=lh,n.sum=Xs,n.sumBy=Qs,n.template=hs,n.times=Vs,n.toFinite=mc,n.toInteger=yc,n.toLength=_c,n.toLower=ds,n.toNumber=bc,n.toSafeInteger=wc,n.toString=Cc,n.toUpper=vs,n.trim=gs,n.trimEnd=ms,n.trimStart=ys,n.truncate=_s,n.unescape=bs,n.uniqueId=zs,n.upperCase=qp,n.upperFirst=Yp,n.each=uu,n.eachRight=cu,n.first=ha,As(n,function(){var t={};return lr(n,function(e,r){pl.call(n.prototype,r)||(t[r]=e)}),t}(),{chain:!1}),n.VERSION=\"4.17.11\",u([\"bind\",\"bindKey\",\"curry\",\"curryRight\",\"partial\",\"partialRight\"],function(t){n[t].placeholder=n}),u([\"drop\",\"take\"],function(t,e){y.prototype[t]=function(n){n=n===nt?1:Vl(yc(n),0);var r=this.__filtered__&&!e?new y(this):this.clone();return r.__filtered__?r.__takeCount__=Wl(n,r.__takeCount__):r.__views__.push({size:Wl(n,Dt),type:t+(r.__dir__<0?\"Right\":\"\")}),r},y.prototype[t+\"Right\"]=function(e){return this.reverse()[t](e).reverse()}}),u([\"filter\",\"map\",\"takeWhile\"],function(t,e){var n=e+1,r=n==St||3==n;y.prototype[t]=function(t){var e=this.clone();return e.__iteratees__.push({iteratee:mo(t,3),type:n}),e.__filtered__=e.__filtered__||r,e}}),u([\"head\",\"last\"],function(t,e){var n=\"take\"+(e?\"Right\":\"\");y.prototype[t]=function(){return this[n](1).value()[0]}}),u([\"initial\",\"tail\"],function(t,e){var n=\"drop\"+(e?\"\":\"Right\");y.prototype[t]=function(){return this.__filtered__?new y(this):this[n](1)}}),y.prototype.compact=function(){return this.filter(Ms)},y.prototype.find=function(t){return this.filter(t).head()},y.prototype.findLast=function(t){return this.reverse().find(t)},y.prototype.invokeMap=Jr(function(t,e){return\"function\"==typeof t?new y(this):this.map(function(n){return wr(n,t,e)})}),y.prototype.reject=function(t){return this.filter(Su(mo(t)))},y.prototype.slice=function(t,e){t=yc(t);var n=this;return n.__filtered__&&(t>0||e<0)?new y(n):(t<0?n=n.takeRight(-t):t&&(n=n.drop(t)),e!==nt&&(e=yc(e),n=e<0?n.dropRight(-e):n.take(e-t)),n)},y.prototype.takeRightWhile=function(t){return this.reverse().takeWhile(t).reverse()},y.prototype.toArray=function(){return this.take(Dt)},lr(y.prototype,function(t,e){var r=/^(?:filter|find|map|reject)|While$/.test(e),o=/^(?:head|last)$/.test(e),a=n[o?\"take\"+(\"last\"==e?\"Right\":\"\"):e],u=o||/^find/.test(e);a&&(n.prototype[e]=function(){var e=this.__wrapped__,c=o?[1]:arguments,s=e instanceof y,l=c[0],f=s||hp(e),p=function(t){var e=a.apply(n,d([t],c));return o&&h?e[0]:e};f&&r&&\"function\"==typeof l&&1!=l.length&&(s=f=!1);var h=this.__chain__,v=!!this.__actions__.length,g=u&&!h,m=s&&!v;if(!u&&f){e=m?e:new y(this);var _=t.apply(e,c);return _.__actions__.push({func:Ga,args:[p],thisArg:nt}),new i(_,h)}return g&&m?t.apply(this,c):(_=this.thru(p),g?o?_.value()[0]:_.value():_)})}),u([\"pop\",\"push\",\"shift\",\"sort\",\"splice\",\"unshift\"],function(t){var e=ul[t],r=/^(?:push|sort|unshift)$/.test(t)?\"tap\":\"thru\",i=/^(?:pop|shift)$/.test(t);n.prototype[t]=function(){var t=arguments;if(i&&!this.__chain__){var n=this.value();return e.apply(hp(n)?n:[],t)}return this[r](function(n){return e.apply(hp(n)?n:[],t)})}}),lr(y.prototype,function(t,e){var r=n[e];if(r){var i=r.name+\"\";(tf[i]||(tf[i]=[])).push({name:e,func:r})}}),tf[Ki(nt,vt).name]=[{name:\"wrapper\",func:nt}],y.prototype.clone=T,y.prototype.reverse=$,y.prototype.value=J,n.prototype.at=Yf,n.prototype.chain=$a,n.prototype.commit=Xa,n.prototype.next=Qa,n.prototype.plant=Ja,n.prototype.reverse=tu,n.prototype.toJSON=n.prototype.valueOf=n.prototype.value=eu,n.prototype.first=n.prototype.head,Sl&&(n.prototype[Sl]=Za),n}();An._=Yn,(i=function(){return Yn}.call(e,n,e,r))!==nt&&(r.exports=i)}).call(this)}).call(e,n(98),n(99)(t))},function(t,e,n){\"use strict\";var r={remove:function(t){t._reactInternalInstance=void 0},get:function(t){return t._reactInternalInstance},has:function(t){return void 0!==t._reactInternalInstance},set:function(t,e){t._reactInternalInstance=e}};t.exports=r},function(t,e,n){\"use strict\";function r(t){for(var e=arguments.length-1,n=\"Minified React error #\"+t+\"; visit http://facebook.github.io/react/docs/error-decoder.html?invariant=\"+t,r=0;r<e;r++)n+=\"&args[]=\"+encodeURIComponent(arguments[r+1]);n+=\" for the full message or use the non-minified dev environment for full errors and additional helpful warnings.\";var i=new Error(n);throw i.name=\"Invariant Violation\",i.framesToPop=1,i}t.exports=r},function(t,e,n){\"use strict\";t.exports=n(26)},function(t,e,n){\"use strict\";var r=n(63);e.a=function(t){return t=n.i(r.a)(Math.abs(t)),t?t[1]:NaN}},function(t,e,n){\"use strict\";e.a=function(t,e){return t=+t,e-=t,function(n){return t+e*n}}},function(t,e,n){\"use strict\";function r(t,e){return(e-=t=+t)?function(n){return(n-t)/e}:n.i(h.a)(e)}function i(t){return function(e,n){var r=t(e=+e,n=+n);return function(t){return t<=e?0:t>=n?1:r(t)}}}function o(t){return function(e,n){var r=t(e=+e,n=+n);return function(t){return t<=0?e:t>=1?n:r(t)}}}function a(t,e,n,r){var i=t[0],o=t[1],a=e[0],u=e[1];return o<i?(i=n(o,i),a=r(u,a)):(i=n(i,o),a=r(a,u)),function(t){return a(i(t))}}function u(t,e,r,i){var o=Math.min(t.length,e.length)-1,a=new Array(o),u=new Array(o),c=-1;for(t[o]<t[0]&&(t=t.slice().reverse(),e=e.slice().reverse());++c<o;)a[c]=r(t[c],t[c+1]),u[c]=i(e[c],e[c+1]);return function(e){var r=n.i(l.bisect)(t,e,1,o)-1;return u[r](a[r](e))}}function c(t,e){return e.domain(t.domain()).range(t.range()).interpolate(t.interpolate()).clamp(t.clamp())}function s(t,e){function n(){return s=Math.min(g.length,m.length)>2?u:a,l=h=null,c}function c(e){return(l||(l=s(g,m,_?i(t):t,y)))(+e)}var s,l,h,g=v,m=v,y=f.b,_=!1;return c.invert=function(t){return(h||(h=s(m,g,r,_?o(e):e)))(+t)},c.domain=function(t){return arguments.length?(g=p.a.call(t,d.a),n()):g.slice()},c.range=function(t){return arguments.length?(m=p.b.call(t),n()):m.slice()},c.rangeRound=function(t){return m=p.b.call(t),y=f.c,n()},c.clamp=function(t){return arguments.length?(_=!!t,n()):_},c.interpolate=function(t){return arguments.length?(y=t,n()):y},n()}e.b=r,e.c=c,e.a=s;var l=n(7),f=n(30),p=n(16),h=n(67),d=n(126),v=[0,1]},function(t,e,n){\"use strict\";function r(t){return function(){var e=this.ownerDocument,n=this.namespaceURI;return n===a.b&&e.documentElement.namespaceURI===a.b?e.createElement(t):e.createElementNS(n,t)}}function i(t){return function(){return this.ownerDocument.createElementNS(t.space,t.local)}}var o=n(68),a=n(69);e.a=function(t){var e=n.i(o.a)(t);return(e.local?i:r)(e)}},function(t,e,n){\"use strict\";e.a=function(t,e){var n=t.ownerSVGElement||t;if(n.createSVGPoint){var r=n.createSVGPoint();return r.x=e.clientX,r.y=e.clientY,r=r.matrixTransform(t.getScreenCTM().inverse()),[r.x,r.y]}var i=t.getBoundingClientRect();return[e.clientX-i.left-t.clientLeft,e.clientY-i.top-t.clientTop]}},function(t,e,n){\"use strict\";function r(t,e,n){t._context.bezierCurveTo((2*t._x0+t._x1)/3,(2*t._y0+t._y1)/3,(t._x0+2*t._x1)/3,(t._y0+2*t._y1)/3,(t._x0+4*t._x1+e)/6,(t._y0+4*t._y1+n)/6)}function i(t){this._context=t}e.c=r,e.b=i,i.prototype={areaStart:function(){this._line=0},areaEnd:function(){this._line=NaN},lineStart:function(){this._x0=this._x1=this._y0=this._y1=NaN,this._point=0},lineEnd:function(){switch(this._point){case 3:r(this,this._x1,this._y1);case 2:this._context.lineTo(this._x1,this._y1)}(this._line||0!==this._line&&1===this._point)&&this._context.closePath(),this._line=1-this._line},point:function(t,e){switch(t=+t,e=+e,this._point){case 0:this._point=1,this._line?this._context.lineTo(t,e):this._context.moveTo(t,e);break;case 1:this._point=2;break;case 2:this._point=3,this._context.lineTo((5*this._x0+this._x1)/6,(5*this._y0+this._y1)/6);default:r(this,t,e)}this._x0=this._x1,this._x1=t,this._y0=this._y1,this._y1=e}},e.a=function(t){return new i(t)}},function(t,e,n){\"use strict\";function r(t,e,n){t._context.bezierCurveTo(t._x1+t._k*(t._x2-t._x0),t._y1+t._k*(t._y2-t._y0),t._x2+t._k*(t._x1-e),t._y2+t._k*(t._y1-n),t._x2,t._y2)}function i(t,e){this._context=t,this._k=(1-e)/6}e.c=r,e.b=i,i.prototype={areaStart:function(){this._line=0},areaEnd:function(){this._line=NaN},lineStart:function(){this._x0=this._x1=this._x2=this._y0=this._y1=this._y2=NaN,this._point=0},lineEnd:function(){switch(this._point){case 2:this._context.lineTo(this._x2,this._y2);break;case 3:r(this,this._x1,this._y1)}(this._line||0!==this._line&&1===this._point)&&this._context.closePath(),this._line=1-this._line},point:function(t,e){switch(t=+t,e=+e,this._point){case 0:this._point=1,this._line?this._context.lineTo(t,e):this._context.moveTo(t,e);break;case 1:this._point=2,this._x1=t,this._y1=e;break;case 2:this._point=3;default:r(this,t,e)}this._x0=this._x1,this._x1=this._x2,this._x2=t,this._y0=this._y1,this._y1=this._y2,this._y2=e}},e.a=function t(e){function n(t){return new i(t,e)}return n.tension=function(e){return t(+e)},n}(0)},function(t,e,n){\"use strict\";function r(t){this._context=t}r.prototype={areaStart:function(){this._line=0},areaEnd:function(){this._line=NaN},lineStart:function(){this._point=0},lineEnd:function(){(this._line||0!==this._line&&1===this._point)&&this._context.closePath(),this._line=1-this._line},point:function(t,e){switch(t=+t,e=+e,this._point){case 0:this._point=1,this._line?this._context.lineTo(t,e):this._context.moveTo(t,e);break;case 1:this._point=2;default:this._context.lineTo(t,e)}}},e.a=function(t){return new r(t)}},function(t,e,n){\"use strict\";e.a=function(){}},function(t,e,n){\"use strict\";var r={};t.exports=r},function(t,e,n){\"use strict\";function r(t){return\"topMouseUp\"===t||\"topTouchEnd\"===t||\"topTouchCancel\"===t}function i(t){return\"topMouseMove\"===t||\"topTouchMove\"===t}function o(t){return\"topMouseDown\"===t||\"topTouchStart\"===t}function a(t,e,n,r){var i=t.type||\"unknown-event\";t.currentTarget=m.getNodeFromInstance(r),e?v.invokeGuardedCallbackWithCatch(i,n,t):v.invokeGuardedCallback(i,n,t),t.currentTarget=null}function u(t,e){var n=t._dispatchListeners,r=t._dispatchInstances;if(Array.isArray(n))for(var i=0;i<n.length&&!t.isPropagationStopped();i++)a(t,e,n[i],r[i]);else n&&a(t,e,n,r);t._dispatchListeners=null,t._dispatchInstances=null}function c(t){var e=t._dispatchListeners,n=t._dispatchInstances;if(Array.isArray(e)){for(var r=0;r<e.length&&!t.isPropagationStopped();r++)if(e[r](t,n[r]))return n[r]}else if(e&&e(t,n))return n;return null}function s(t){var e=c(t);return t._dispatchInstances=null,t._dispatchListeners=null,e}function l(t){var e=t._dispatchListeners,n=t._dispatchInstances;Array.isArray(e)&&d(\"103\"),t.currentTarget=e?m.getNodeFromInstance(n):null;var r=e?e(t):null;return t.currentTarget=null,t._dispatchListeners=null,t._dispatchInstances=null,r}function f(t){return!!t._dispatchListeners}var p,h,d=n(1),v=n(88),g=(n(0),n(2),{injectComponentTree:function(t){p=t},injectTreeTraversal:function(t){h=t}}),m={isEndish:r,isMoveish:i,isStartish:o,executeDirectDispatch:l,executeDispatchesInOrder:u,executeDispatchesInOrderStopAtTrue:s,hasDispatches:f,getInstanceFromNode:function(t){return p.getInstanceFromNode(t)},getNodeFromInstance:function(t){return p.getNodeFromInstance(t)},isAncestor:function(t,e){return h.isAncestor(t,e)},getLowestCommonAncestor:function(t,e){return h.getLowestCommonAncestor(t,e)},getParentInstance:function(t){return h.getParentInstance(t)},traverseTwoPhase:function(t,e,n){return h.traverseTwoPhase(t,e,n)},traverseEnterLeave:function(t,e,n,r,i){return h.traverseEnterLeave(t,e,n,r,i)},injection:g};t.exports=m},function(t,e,n){\"use strict\";function r(t){return Object.prototype.hasOwnProperty.call(t,v)||(t[v]=h++,f[t[v]]={}),f[t[v]]}var i,o=n(3),a=n(84),u=n(374),c=n(90),s=n(406),l=n(95),f={},p=!1,h=0,d={topAbort:\"abort\",topAnimationEnd:s(\"animationend\")||\"animationend\",topAnimationIteration:s(\"animationiteration\")||\"animationiteration\",topAnimationStart:s(\"animationstart\")||\"animationstart\",topBlur:\"blur\",topCanPlay:\"canplay\",topCanPlayThrough:\"canplaythrough\",topChange:\"change\",topClick:\"click\",topCompositionEnd:\"compositionend\",topCompositionStart:\"compositionstart\",topCompositionUpdate:\"compositionupdate\",topContextMenu:\"contextmenu\",topCopy:\"copy\",topCut:\"cut\",topDoubleClick:\"dblclick\",topDrag:\"drag\",topDragEnd:\"dragend\",topDragEnter:\"dragenter\",topDragExit:\"dragexit\",topDragLeave:\"dragleave\",topDragOver:\"dragover\",topDragStart:\"dragstart\",topDrop:\"drop\",topDurationChange:\"durationchange\",topEmptied:\"emptied\",topEncrypted:\"encrypted\",topEnded:\"ended\",topError:\"error\",topFocus:\"focus\",topInput:\"input\",topKeyDown:\"keydown\",topKeyPress:\"keypress\",topKeyUp:\"keyup\",topLoadedData:\"loadeddata\",topLoadedMetadata:\"loadedmetadata\",topLoadStart:\"loadstart\",topMouseDown:\"mousedown\",topMouseMove:\"mousemove\",topMouseOut:\"mouseout\",topMouseOver:\"mouseover\",topMouseUp:\"mouseup\",topPaste:\"paste\",topPause:\"pause\",topPlay:\"play\",topPlaying:\"playing\",topProgress:\"progress\",topRateChange:\"ratechange\",topScroll:\"scroll\",topSeeked:\"seeked\",topSeeking:\"seeking\",topSelectionChange:\"selectionchange\",topStalled:\"stalled\",topSuspend:\"suspend\",topTextInput:\"textInput\",topTimeUpdate:\"timeupdate\",topTouchCancel:\"touchcancel\",topTouchEnd:\"touchend\",topTouchMove:\"touchmove\",topTouchStart:\"touchstart\",topTransitionEnd:s(\"transitionend\")||\"transitionend\",topVolumeChange:\"volumechange\",topWaiting:\"waiting\",topWheel:\"wheel\"},v=\"_reactListenersID\"+String(Math.random()).slice(2),g=o({},u,{ReactEventListener:null,injection:{injectReactEventListener:function(t){t.setHandleTopLevel(g.handleTopLevel),g.ReactEventListener=t}},setEnabled:function(t){g.ReactEventListener&&g.ReactEventListener.setEnabled(t)},isEnabled:function(){return!(!g.ReactEventListener||!g.ReactEventListener.isEnabled())},listenTo:function(t,e){for(var n=e,i=r(n),o=a.registrationNameDependencies[t],u=0;u<o.length;u++){var c=o[u];i.hasOwnProperty(c)&&i[c]||(\"topWheel\"===c?l(\"wheel\")?g.ReactEventListener.trapBubbledEvent(\"topWheel\",\"wheel\",n):l(\"mousewheel\")?g.ReactEventListener.trapBubbledEvent(\"topWheel\",\"mousewheel\",n):g.ReactEventListener.trapBubbledEvent(\"topWheel\",\"DOMMouseScroll\",n):\"topScroll\"===c?l(\"scroll\",!0)?g.ReactEventListener.trapCapturedEvent(\"topScroll\",\"scroll\",n):g.ReactEventListener.trapBubbledEvent(\"topScroll\",\"scroll\",g.ReactEventListener.WINDOW_HANDLE):\"topFocus\"===c||\"topBlur\"===c?(l(\"focus\",!0)?(g.ReactEventListener.trapCapturedEvent(\"topFocus\",\"focus\",n),g.ReactEventListener.trapCapturedEvent(\"topBlur\",\"blur\",n)):l(\"focusin\")&&(g.ReactEventListener.trapBubbledEvent(\"topFocus\",\"focusin\",n),g.ReactEventListener.trapBubbledEvent(\"topBlur\",\"focusout\",n)),i.topBlur=!0,i.topFocus=!0):d.hasOwnProperty(c)&&g.ReactEventListener.trapBubbledEvent(c,d[c],n),i[c]=!0)}},trapBubbledEvent:function(t,e,n){return g.ReactEventListener.trapBubbledEvent(t,e,n)},trapCapturedEvent:function(t,e,n){return g.ReactEventListener.trapCapturedEvent(t,e,n)},supportsEventPageXY:function(){if(!document.createEvent)return!1;var t=document.createEvent(\"MouseEvent\");return null!=t&&\"pageX\"in t},ensureScrollValueMonitoring:function(){if(void 0===i&&(i=g.supportsEventPageXY()),!i&&!p){var t=c.refreshScrollValues;g.ReactEventListener.monitorScrollValue(t),p=!0}}});t.exports=g},function(t,e,n){\"use strict\";function r(t,e,n,r){return i.call(this,t,e,n,r)}var i=n(25),o=n(90),a=n(93),u={screenX:null,screenY:null,clientX:null,clientY:null,ctrlKey:null,shiftKey:null,altKey:null,metaKey:null,getModifierState:a,button:function(t){var e=t.button;return\"which\"in t?e:2===e?2:4===e?1:0},buttons:null,relatedTarget:function(t){return t.relatedTarget||(t.fromElement===t.srcElement?t.toElement:t.fromElement)},pageX:function(t){return\"pageX\"in t?t.pageX:t.clientX+o.currentScrollLeft},pageY:function(t){return\"pageY\"in t?t.pageY:t.clientY+o.currentScrollTop}};i.augmentClass(r,u),t.exports=r},function(t,e,n){\"use strict\";var r=n(1),i=(n(0),{}),o={reinitializeTransaction:function(){this.transactionWrappers=this.getTransactionWrappers(),this.wrapperInitData?this.wrapperInitData.length=0:this.wrapperInitData=[],this._isInTransaction=!1},_isInTransaction:!1,getTransactionWrappers:null,isInTransaction:function(){return!!this._isInTransaction},perform:function(t,e,n,i,o,a,u,c){this.isInTransaction()&&r(\"27\");var s,l;try{this._isInTransaction=!0,s=!0,this.initializeAll(0),l=t.call(e,n,i,o,a,u,c),s=!1}finally{try{if(s)try{this.closeAll(0)}catch(t){}else this.closeAll(0)}finally{this._isInTransaction=!1}}return l},initializeAll:function(t){for(var e=this.transactionWrappers,n=t;n<e.length;n++){var r=e[n];try{this.wrapperInitData[n]=i,this.wrapperInitData[n]=r.initialize?r.initialize.call(this):null}finally{if(this.wrapperInitData[n]===i)try{this.initializeAll(n+1)}catch(t){}}}},closeAll:function(t){this.isInTransaction()||r(\"28\");for(var e=this.transactionWrappers,n=t;n<e.length;n++){var o,a=e[n],u=this.wrapperInitData[n];try{o=!0,u!==i&&a.close&&a.close.call(this,u),o=!1}finally{if(o)try{this.closeAll(n+1)}catch(t){}}}this.wrapperInitData.length=0}};t.exports=o},function(t,e,n){\"use strict\";function r(t){var e=\"\"+t,n=o.exec(e);if(!n)return e;var r,i=\"\",a=0,u=0;for(a=n.index;a<e.length;a++){switch(e.charCodeAt(a)){case 34:r=\"&quot;\";break;case 38:r=\"&amp;\";break;case 39:r=\"&#x27;\";break;case 60:r=\"&lt;\";break;case 62:r=\"&gt;\";break;default:continue}u!==a&&(i+=e.substring(u,a)),u=a+1,i+=r}return u!==a?i+e.substring(u,a):i}function i(t){return\"boolean\"==typeof t||\"number\"==typeof t?\"\"+t:r(t)}var o=/[\"'&<>]/;t.exports=i},function(t,e,n){\"use strict\";var r,i=n(6),o=n(83),a=/^[ \\r\\n\\t\\f]/,u=/<(!--|link|noscript|meta|script|style)[ \\r\\n\\t\\f\\/>]/,c=n(91),s=c(function(t,e){if(t.namespaceURI!==o.svg||\"innerHTML\"in t)t.innerHTML=e;else{r=r||document.createElement(\"div\"),r.innerHTML=\"<svg>\"+e+\"</svg>\";for(var n=r.firstChild;n.firstChild;)t.appendChild(n.firstChild)}});if(i.canUseDOM){var l=document.createElement(\"div\");l.innerHTML=\" \",\"\"===l.innerHTML&&(s=function(t,e){if(t.parentNode&&t.parentNode.replaceChild(t,t),a.test(e)||\"<\"===e[0]&&u.test(e)){t.innerHTML=String.fromCharCode(65279)+e;var n=t.firstChild;1===n.data.length?t.removeChild(n):n.deleteData(0,1)}else t.innerHTML=e}),l=null}t.exports=s},function(t,e,n){\"use strict\";Object.defineProperty(e,\"__esModule\",{value:!0}),e.default={colors:{RdBu:[\"rgb(255, 13, 87)\",\"rgb(30, 136, 229)\"],GnPR:[\"rgb(24, 196, 93)\",\"rgb(124, 82, 255)\"],CyPU:[\"#0099C6\",\"#990099\"],PkYg:[\"#DD4477\",\"#66AA00\"],DrDb:[\"#B82E2E\",\"#316395\"],LpLb:[\"#994499\",\"#22AA99\"],YlDp:[\"#AAAA11\",\"#6633CC\"],OrId:[\"#E67300\",\"#3E0099\"]},gray:\"#777\"}},function(t,e,n){\"use strict\";var r=n(28);e.a=function(t,e,n){if(null==n&&(n=r.a),i=t.length){if((e=+e)<=0||i<2)return+n(t[0],0,t);if(e>=1)return+n(t[i-1],i-1,t);var i,o=(i-1)*e,a=Math.floor(o),u=+n(t[a],a,t);return u+(+n(t[a+1],a+1,t)-u)*(o-a)}}},function(t,e,n){\"use strict\";function r(){}function i(t,e){var n=new r;if(t instanceof r)t.each(function(t,e){n.set(e,t)});else if(Array.isArray(t)){var i,o=-1,a=t.length;if(null==e)for(;++o<a;)n.set(o,t[o]);else for(;++o<a;)n.set(e(i=t[o],o,t),i)}else if(t)for(var u in t)n.set(u,t[u]);return n}n.d(e,\"b\",function(){return o});var o=\"$\";r.prototype=i.prototype={constructor:r,has:function(t){return o+t in this},get:function(t){return this[o+t]},set:function(t,e){return this[o+t]=e,this},remove:function(t){var e=o+t;return e in this&&delete this[e]},clear:function(){for(var t in this)t[0]===o&&delete this[t]},keys:function(){var t=[];for(var e in this)e[0]===o&&t.push(e.slice(1));return t},values:function(){var t=[];for(var e in this)e[0]===o&&t.push(this[e]);return t},entries:function(){var t=[];for(var e in this)e[0]===o&&t.push({key:e.slice(1),value:this[e]});return t},size:function(){var t=0;for(var e in this)e[0]===o&&++t;return t},empty:function(){for(var t in this)if(t[0]===o)return!1;return!0},each:function(t){for(var e in this)e[0]===o&&t(this[e],e.slice(1),this)}},e.a=i},function(t,e,n){\"use strict\";function r(){}function i(t){var e;return t=(t+\"\").trim().toLowerCase(),(e=x.exec(t))?(e=parseInt(e[1],16),new s(e>>8&15|e>>4&240,e>>4&15|240&e,(15&e)<<4|15&e,1)):(e=w.exec(t))?o(parseInt(e[1],16)):(e=C.exec(t))?new s(e[1],e[2],e[3],1):(e=k.exec(t))?new s(255*e[1]/100,255*e[2]/100,255*e[3]/100,1):(e=E.exec(t))?a(e[1],e[2],e[3],e[4]):(e=M.exec(t))?a(255*e[1]/100,255*e[2]/100,255*e[3]/100,e[4]):(e=T.exec(t))?l(e[1],e[2]/100,e[3]/100,1):(e=S.exec(t))?l(e[1],e[2]/100,e[3]/100,e[4]):N.hasOwnProperty(t)?o(N[t]):\"transparent\"===t?new s(NaN,NaN,NaN,0):null}function o(t){return new s(t>>16&255,t>>8&255,255&t,1)}function a(t,e,n,r){return r<=0&&(t=e=n=NaN),new s(t,e,n,r)}function u(t){return t instanceof r||(t=i(t)),t?(t=t.rgb(),new s(t.r,t.g,t.b,t.opacity)):new s}function c(t,e,n,r){return 1===arguments.length?u(t):new s(t,e,n,null==r?1:r)}function s(t,e,n,r){this.r=+t,this.g=+e,this.b=+n,this.opacity=+r}function l(t,e,n,r){return r<=0?t=e=n=NaN:n<=0||n>=1?t=e=NaN:e<=0&&(t=NaN),new h(t,e,n,r)}function f(t){if(t instanceof h)return new h(t.h,t.s,t.l,t.opacity);if(t instanceof r||(t=i(t)),!t)return new h;if(t instanceof h)return t;t=t.rgb();var e=t.r/255,n=t.g/255,o=t.b/255,a=Math.min(e,n,o),u=Math.max(e,n,o),c=NaN,s=u-a,l=(u+a)/2;return s?(c=e===u?(n-o)/s+6*(n<o):n===u?(o-e)/s+2:(e-n)/s+4,s/=l<.5?u+a:2-u-a,c*=60):s=l>0&&l<1?0:c,new h(c,s,l,t.opacity)}function p(t,e,n,r){return 1===arguments.length?f(t):new h(t,e,n,null==r?1:r)}function h(t,e,n,r){this.h=+t,this.s=+e,this.l=+n,this.opacity=+r}function d(t,e,n){return 255*(t<60?e+(n-e)*t/60:t<180?n:t<240?e+(n-e)*(240-t)/60:e)}e.f=r,n.d(e,\"h\",function(){return g}),n.d(e,\"g\",function(){return m}),e.a=i,e.e=u,e.b=c,e.d=s,e.c=p;var v=n(62),g=.7,m=1/g,y=\"\\\\s*([+-]?\\\\d+)\\\\s*\",_=\"\\\\s*([+-]?\\\\d*\\\\.?\\\\d+(?:[eE][+-]?\\\\d+)?)\\\\s*\",b=\"\\\\s*([+-]?\\\\d*\\\\.?\\\\d+(?:[eE][+-]?\\\\d+)?)%\\\\s*\",x=/^#([0-9a-f]{3})$/,w=/^#([0-9a-f]{6})$/,C=new RegExp(\"^rgb\\\\(\"+[y,y,y]+\"\\\\)$\"),k=new RegExp(\"^rgb\\\\(\"+[b,b,b]+\"\\\\)$\"),E=new RegExp(\"^rgba\\\\(\"+[y,y,y,_]+\"\\\\)$\"),M=new RegExp(\"^rgba\\\\(\"+[b,b,b,_]+\"\\\\)$\"),T=new RegExp(\"^hsl\\\\(\"+[_,b,b]+\"\\\\)$\"),S=new RegExp(\"^hsla\\\\(\"+[_,b,b,_]+\"\\\\)$\"),N={aliceblue:15792383,antiquewhite:16444375,aqua:65535,aquamarine:8388564,azure:15794175,beige:16119260,bisque:16770244,black:0,blanchedalmond:16772045,blue:255,blueviolet:9055202,brown:10824234,burlywood:14596231,cadetblue:6266528,chartreuse:8388352,chocolate:13789470,coral:16744272,cornflowerblue:6591981,cornsilk:16775388,crimson:14423100,cyan:65535,darkblue:139,darkcyan:35723,darkgoldenrod:12092939,darkgray:11119017,darkgreen:25600,darkgrey:11119017,darkkhaki:12433259,darkmagenta:9109643,darkolivegreen:5597999,darkorange:16747520,darkorchid:10040012,darkred:9109504,darksalmon:15308410,darkseagreen:9419919,darkslateblue:4734347,darkslategray:3100495,darkslategrey:3100495,darkturquoise:52945,darkviolet:9699539,deeppink:16716947,deepskyblue:49151,dimgray:6908265,dimgrey:6908265,dodgerblue:2003199,firebrick:11674146,floralwhite:16775920,forestgreen:2263842,fuchsia:16711935,gainsboro:14474460,ghostwhite:16316671,gold:16766720,goldenrod:14329120,gray:8421504,green:32768,greenyellow:11403055,grey:8421504,honeydew:15794160,hotpink:16738740,indianred:13458524,indigo:4915330,ivory:16777200,khaki:15787660,lavender:15132410,lavenderblush:16773365,lawngreen:8190976,lemonchiffon:16775885,lightblue:11393254,lightcoral:15761536,lightcyan:14745599,lightgoldenrodyellow:16448210,lightgray:13882323,lightgreen:9498256,lightgrey:13882323,lightpink:16758465,lightsalmon:16752762,lightseagreen:2142890,lightskyblue:8900346,lightslategray:7833753,lightslategrey:7833753,lightsteelblue:11584734,lightyellow:16777184,lime:65280,limegreen:3329330,linen:16445670,magenta:16711935,maroon:8388608,mediumaquamarine:6737322,mediumblue:205,mediumorchid:12211667,mediumpurple:9662683,mediumseagreen:3978097,mediumslateblue:8087790,mediumspringgreen:64154,mediumturquoise:4772300,mediumvioletred:13047173,midnightblue:1644912,mintcream:16121850,mistyrose:16770273,moccasin:16770229,navajowhite:16768685,navy:128,oldlace:16643558,olive:8421376,olivedrab:7048739,orange:16753920,orangered:16729344,orchid:14315734,palegoldenrod:15657130,palegreen:10025880,paleturquoise:11529966,palevioletred:14381203,papayawhip:16773077,peachpuff:16767673,peru:13468991,pink:16761035,plum:14524637,powderblue:11591910,purple:8388736,rebeccapurple:6697881,red:16711680,rosybrown:12357519,royalblue:4286945,saddlebrown:9127187,salmon:16416882,sandybrown:16032864,seagreen:3050327,seashell:16774638,sienna:10506797,silver:12632256,skyblue:8900331,slateblue:6970061,slategray:7372944,slategrey:7372944,snow:16775930,springgreen:65407,steelblue:4620980,tan:13808780,teal:32896,thistle:14204888,tomato:16737095,turquoise:4251856,violet:15631086,wheat:16113331,white:16777215,whitesmoke:16119285,yellow:16776960,yellowgreen:10145074};n.i(v.a)(r,i,{displayable:function(){return this.rgb().displayable()},toString:function(){return this.rgb()+\"\"}}),n.i(v.a)(s,c,n.i(v.b)(r,{brighter:function(t){return t=null==t?m:Math.pow(m,t),new s(this.r*t,this.g*t,this.b*t,this.opacity)},darker:function(t){return t=null==t?g:Math.pow(g,t),new s(this.r*t,this.g*t,this.b*t,this.opacity)},rgb:function(){return this},displayable:function(){return 0<=this.r&&this.r<=255&&0<=this.g&&this.g<=255&&0<=this.b&&this.b<=255&&0<=this.opacity&&this.opacity<=1},toString:function(){var t=this.opacity;return t=isNaN(t)?1:Math.max(0,Math.min(1,t)),(1===t?\"rgb(\":\"rgba(\")+Math.max(0,Math.min(255,Math.round(this.r)||0))+\", \"+Math.max(0,Math.min(255,Math.round(this.g)||0))+\", \"+Math.max(0,Math.min(255,Math.round(this.b)||0))+(1===t?\")\":\", \"+t+\")\")}})),n.i(v.a)(h,p,n.i(v.b)(r,{brighter:function(t){return t=null==t?m:Math.pow(m,t),new h(this.h,this.s,this.l*t,this.opacity)},darker:function(t){return t=null==t?g:Math.pow(g,t),new h(this.h,this.s,this.l*t,this.opacity)},rgb:function(){var t=this.h%360+360*(this.h<0),e=isNaN(t)||isNaN(this.s)?0:this.s,n=this.l,r=n+(n<.5?n:1-n)*e,i=2*n-r;return new s(d(t>=240?t-240:t+120,i,r),d(t,i,r),d(t<120?t+240:t-120,i,r),this.opacity)},displayable:function(){return(0<=this.s&&this.s<=1||isNaN(this.s))&&0<=this.l&&this.l<=1&&0<=this.opacity&&this.opacity<=1}}))},function(t,e,n){\"use strict\";function r(t,e){var n=Object.create(t.prototype);for(var r in e)n[r]=e[r];return n}e.b=r,e.a=function(t,e,n){t.prototype=e.prototype=n,n.constructor=t}},function(t,e,n){\"use strict\";e.a=function(t,e){if((n=(t=e?t.toExponential(e-1):t.toExponential()).indexOf(\"e\"))<0)return null;var n,r=t.slice(0,n);return[r.length>1?r[0]+r.slice(2):r,+t.slice(n+1)]}},function(t,e,n){\"use strict\";function r(t,e,n,r,i){var o=t*t,a=o*t;return((1-3*t+3*o-a)*e+(4-6*o+3*a)*n+(1+3*t+3*o-3*a)*r+a*i)/6}e.b=r,e.a=function(t){var e=t.length-1;return function(n){var i=n<=0?n=0:n>=1?(n=1,e-1):Math.floor(n*e),o=t[i],a=t[i+1],u=i>0?t[i-1]:2*o-a,c=i<e-1?t[i+2]:2*a-o;return r((n-i/e)*e,u,o,a,c)}}},function(t,e,n){\"use strict\";var r=n(10),i=n(123),o=n(118),a=n(121),u=n(43),c=n(122),s=n(124),l=n(120);e.a=function(t,e){var f,p=typeof e;return null==e||\"boolean\"===p?n.i(l.a)(e):(\"number\"===p?u.a:\"string\"===p?(f=n.i(r.color)(e))?(e=f,i.a):s.a:e instanceof r.color?i.a:e instanceof Date?a.a:Array.isArray(e)?o.a:\"function\"!=typeof e.valueOf&&\"function\"!=typeof e.toString||isNaN(e)?c.a:u.a)(t,e)}},function(t,e,n){\"use strict\";Object.defineProperty(e,\"__esModule\",{value:!0});var r=n(239);n.d(e,\"scaleBand\",function(){return r.a}),n.d(e,\"scalePoint\",function(){return r.b});var i=n(245);n.d(e,\"scaleIdentity\",function(){return i.a});var o=n(34);n.d(e,\"scaleLinear\",function(){return o.a});var a=n(246);n.d(e,\"scaleLog\",function(){return a.a});var u=n(127);n.d(e,\"scaleOrdinal\",function(){return u.a}),n.d(e,\"scaleImplicit\",function(){return u.b});var c=n(247);n.d(e,\"scalePow\",function(){return c.a}),n.d(e,\"scaleSqrt\",function(){return c.b});var s=n(248);n.d(e,\"scaleQuantile\",function(){return s.a});var l=n(249);n.d(e,\"scaleQuantize\",function(){return l.a});var f=n(252);n.d(e,\"scaleThreshold\",function(){return f.a});var p=n(128);n.d(e,\"scaleTime\",function(){return p.a});var h=n(254);n.d(e,\"scaleUtc\",function(){return h.a});var d=n(240);n.d(e,\"schemeCategory10\",function(){return d.a});var v=n(242);n.d(e,\"schemeCategory20b\",function(){return v.a});var g=n(243);n.d(e,\"schemeCategory20c\",function(){return g.a});var m=n(241);n.d(e,\"schemeCategory20\",function(){return m.a});var y=n(244);n.d(e,\"interpolateCubehelixDefault\",function(){return y.a});var _=n(250);n.d(e,\"interpolateRainbow\",function(){return _.a}),n.d(e,\"interpolateWarm\",function(){return _.b}),n.d(e,\"interpolateCool\",function(){return _.c});var b=n(255);n.d(e,\"interpolateViridis\",function(){return b.a}),n.d(e,\"interpolateMagma\",function(){return b.b}),n.d(e,\"interpolateInferno\",function(){return b.c}),n.d(e,\"interpolatePlasma\",function(){return b.d});var x=n(251);n.d(e,\"scaleSequential\",function(){return x.a})},function(t,e,n){\"use strict\";e.a=function(t){return function(){return t}}},function(t,e,n){\"use strict\";var r=n(69);e.a=function(t){var e=t+=\"\",n=e.indexOf(\":\");return n>=0&&\"xmlns\"!==(e=t.slice(0,n))&&(t=t.slice(n+1)),r.a.hasOwnProperty(e)?{space:r.a[e],local:t}:t}},function(t,e,n){\"use strict\";n.d(e,\"b\",function(){return r});var r=\"http://www.w3.org/1999/xhtml\";e.a={svg:\"http://www.w3.org/2000/svg\",xhtml:r,xlink:\"http://www.w3.org/1999/xlink\",xml:\"http://www.w3.org/XML/1998/namespace\",xmlns:\"http://www.w3.org/2000/xmlns/\"}},function(t,e,n){\"use strict\";function r(t,e,n){return t=i(t,e,n),function(e){var n=e.relatedTarget;n&&(n===this||8&n.compareDocumentPosition(this))||t.call(this,e)}}function i(t,e,n){return function(r){var i=l;l=r;try{t.call(this,this.__data__,e,n)}finally{l=i}}}function o(t){return t.trim().split(/^|\\s+/).map(function(t){var e=\"\",n=t.indexOf(\".\");return n>=0&&(e=t.slice(n+1),t=t.slice(0,n)),{type:t,name:e}})}function a(t){return function(){var e=this.__on;if(e){for(var n,r=0,i=-1,o=e.length;r<o;++r)n=e[r],t.type&&n.type!==t.type||n.name!==t.name?e[++i]=n:this.removeEventListener(n.type,n.listener,n.capture);++i?e.length=i:delete this.__on}}}function u(t,e,n){var o=s.hasOwnProperty(t.type)?r:i;return function(r,i,a){var u,c=this.__on,s=o(e,i,a);if(c)for(var l=0,f=c.length;l<f;++l)if((u=c[l]).type===t.type&&u.name===t.name)return this.removeEventListener(u.type,u.listener,u.capture),this.addEventListener(u.type,u.listener=s,u.capture=n),void(u.value=e);this.addEventListener(t.type,s,n),u={type:t.type,name:t.name,value:e,listener:s,capture:n},c?c.push(u):this.__on=[u]}}function c(t,e,n,r){var i=l;t.sourceEvent=l,l=t;try{return e.apply(n,r)}finally{l=i}}n.d(e,\"a\",function(){return l}),e.b=c;var s={},l=null;if(\"undefined\"!=typeof document){\"onmouseenter\"in document.documentElement||(s={mouseenter:\"mouseover\",mouseleave:\"mouseout\"})}e.c=function(t,e,n){var r,i,c=o(t+\"\"),s=c.length;{if(!(arguments.length<2)){for(l=e?u:a,null==n&&(n=!1),r=0;r<s;++r)this.each(l(c[r],e,n));return this}var l=this.node().__on;if(l)for(var f,p=0,h=l.length;p<h;++p)for(r=0,f=l[p];r<s;++r)if((i=c[r]).type===f.type&&i.name===f.name)return f.value}}},function(t,e,n){\"use strict\";function r(){}e.a=function(t){return null==t?r:function(){return this.querySelector(t)}}},function(t,e,n){\"use strict\";var r=n(70);e.a=function(){for(var t,e=r.a;t=e.sourceEvent;)e=t;return e}},function(t,e,n){\"use strict\";e.a=function(t){return t.ownerDocument&&t.ownerDocument.defaultView||t.document&&t||t.defaultView}},function(t,e,n){\"use strict\";function r(t,e,n){var r=t._x1,i=t._y1,a=t._x2,u=t._y2;if(t._l01_a>o.a){var c=2*t._l01_2a+3*t._l01_a*t._l12_a+t._l12_2a,s=3*t._l01_a*(t._l01_a+t._l12_a);r=(r*c-t._x0*t._l12_2a+t._x2*t._l01_2a)/s,i=(i*c-t._y0*t._l12_2a+t._y2*t._l01_2a)/s}if(t._l23_a>o.a){var l=2*t._l23_2a+3*t._l23_a*t._l12_a+t._l12_2a,f=3*t._l23_a*(t._l23_a+t._l12_a);a=(a*l+t._x1*t._l23_2a-e*t._l12_2a)/f,u=(u*l+t._y1*t._l23_2a-n*t._l12_2a)/f}t._context.bezierCurveTo(r,i,a,u,t._x2,t._y2)}function i(t,e){this._context=t,this._alpha=e}e.b=r;var o=n(35),a=n(48);i.prototype={areaStart:function(){this._line=0},areaEnd:function(){this._line=NaN},lineStart:function(){this._x0=this._x1=this._x2=this._y0=this._y1=this._y2=NaN,this._l01_a=this._l12_a=this._l23_a=this._l01_2a=this._l12_2a=this._l23_2a=this._point=0},lineEnd:function(){switch(this._point){case 2:this._context.lineTo(this._x2,this._y2);break;case 3:this.point(this._x2,this._y2)}(this._line||0!==this._line&&1===this._point)&&this._context.closePath(),this._line=1-this._line},point:function(t,e){if(t=+t,e=+e,this._point){var n=this._x2-t,i=this._y2-e;this._l23_a=Math.sqrt(this._l23_2a=Math.pow(n*n+i*i,this._alpha))}switch(this._point){case 0:this._point=1,this._line?this._context.lineTo(t,e):this._context.moveTo(t,e);break;case 1:this._point=2;break;case 2:this._point=3;default:r(this,t,e)}this._l01_a=this._l12_a,this._l12_a=this._l23_a,this._l01_2a=this._l12_2a,this._l12_2a=this._l23_2a,this._x0=this._x1,this._x1=this._x2,this._x2=t,this._y0=this._y1,this._y1=this._y2,this._y2=e}},e.a=function t(e){function n(t){return e?new i(t,e):new a.b(t,0)}return n.alpha=function(e){return t(+e)},n}(.5)},function(t,e,n){\"use strict\";var r=n(32),i=n(17),o=n(49),a=n(77);e.a=function(){function t(t){var i,o,a,p=t.length,h=!1;for(null==s&&(f=l(a=n.i(r.a)())),i=0;i<=p;++i)!(i<p&&c(o=t[i],i,t))===h&&((h=!h)?f.lineStart():f.lineEnd()),h&&f.point(+e(o,i,t),+u(o,i,t));if(a)return f=null,a+\"\"||null}var e=a.a,u=a.b,c=n.i(i.a)(!0),s=null,l=o.a,f=null;return t.x=function(r){return arguments.length?(e=\"function\"==typeof r?r:n.i(i.a)(+r),t):e},t.y=function(e){return arguments.length?(u=\"function\"==typeof e?e:n.i(i.a)(+e),t):u},t.defined=function(e){return arguments.length?(c=\"function\"==typeof e?e:n.i(i.a)(!!e),t):c},t.curve=function(e){return arguments.length?(l=e,null!=s&&(f=l(s)),t):l},t.context=function(e){return arguments.length?(null==e?s=f=null:f=l(s=e),t):s},t}},function(t,e,n){\"use strict\";function r(t){for(var e,n=0,r=-1,i=t.length;++r<i;)(e=+t[r][1])&&(n+=e);return n}e.b=r;var i=n(37);e.a=function(t){var e=t.map(r);return n.i(i.a)(t).sort(function(t,n){return e[t]-e[n]})}},function(t,e,n){\"use strict\";function r(t){return t[0]}function i(t){return t[1]}e.a=r,e.b=i},function(t,e,n){\"use strict\";Object.defineProperty(e,\"__esModule\",{value:!0});var r=n(79);n.d(e,\"timeFormatDefaultLocale\",function(){return r.a}),n.d(e,\"timeFormat\",function(){return r.b}),n.d(e,\"timeParse\",function(){return r.c}),n.d(e,\"utcFormat\",function(){return r.d}),n.d(e,\"utcParse\",function(){return r.e});var i=n(152);n.d(e,\"timeFormatLocale\",function(){return i.a});var o=n(151);n.d(e,\"isoFormat\",function(){return o.a});var a=n(314);n.d(e,\"isoParse\",function(){return a.a})},function(t,e,n){\"use strict\";function r(t){return i=n.i(s.a)(t),o=i.format,a=i.parse,u=i.utcFormat,c=i.utcParse,i}n.d(e,\"b\",function(){return o}),n.d(e,\"c\",function(){return a}),n.d(e,\"d\",function(){return u}),n.d(e,\"e\",function(){return c}),e.a=r;var i,o,a,u,c,s=n(152);r({dateTime:\"%x, %X\",date:\"%-m/%-d/%Y\",time:\"%-I:%M:%S %p\",periods:[\"AM\",\"PM\"],days:[\"Sunday\",\"Monday\",\"Tuesday\",\"Wednesday\",\"Thursday\",\"Friday\",\"Saturday\"],shortDays:[\"Sun\",\"Mon\",\"Tue\",\"Wed\",\"Thu\",\"Fri\",\"Sat\"],months:[\"January\",\"February\",\"March\",\"April\",\"May\",\"June\",\"July\",\"August\",\"September\",\"October\",\"November\",\"December\"],shortMonths:[\"Jan\",\"Feb\",\"Mar\",\"Apr\",\"May\",\"Jun\",\"Jul\",\"Aug\",\"Sep\",\"Oct\",\"Nov\",\"Dec\"]})},function(t,e,n){\"use strict\";var r=(n(5),n(317));n.d(e,\"v\",function(){return r.a}),n.d(e,\"p\",function(){return r.a});var i=n(320);n.d(e,\"u\",function(){return i.a}),n.d(e,\"o\",function(){return i.a});var o=n(318);n.d(e,\"t\",function(){return o.a});var a=n(316);n.d(e,\"s\",function(){return a.a});var u=n(315);n.d(e,\"d\",function(){return u.a});var c=n(327);n.d(e,\"r\",function(){return c.a}),n.d(e,\"f\",function(){return c.a}),n.d(e,\"c\",function(){return c.b}),n.d(e,\"g\",function(){return c.c});var s=n(319);n.d(e,\"q\",function(){return s.a});var l=n(328);n.d(e,\"e\",function(){return l.a});var f=n(323);n.d(e,\"n\",function(){return f.a});var p=n(322);n.d(e,\"m\",function(){return p.a});var h=n(321);n.d(e,\"b\",function(){return h.a});var d=n(325);n.d(e,\"l\",function(){return d.a}),n.d(e,\"i\",function(){return d.a}),n.d(e,\"a\",function(){return d.b}),n.d(e,\"j\",function(){return d.c});var v=n(324);n.d(e,\"k\",function(){return v.a});var g=n(326);n.d(e,\"h\",function(){return g.a})},function(t,e,n){\"use strict\";function r(t,e){return t===e?0!==t||0!==e||1/t==1/e:t!==t&&e!==e}function i(t,e){if(r(t,e))return!0;if(\"object\"!=typeof t||null===t||\"object\"!=typeof e||null===e)return!1;var n=Object.keys(t),i=Object.keys(e);if(n.length!==i.length)return!1;for(var a=0;a<n.length;a++)if(!o.call(e,n[a])||!r(t[n[a]],e[n[a]]))return!1;return!0}var o=Object.prototype.hasOwnProperty;t.exports=i},function(t,e,n){\"use strict\";function r(t,e){return Array.isArray(e)&&(e=e[1]),e?e.nextSibling:t.firstChild}function i(t,e,n){l.insertTreeBefore(t,e,n)}function o(t,e,n){Array.isArray(e)?u(t,e[0],e[1],n):v(t,e,n)}function a(t,e){if(Array.isArray(e)){var n=e[1];e=e[0],c(t,e,n),t.removeChild(n)}t.removeChild(e)}function u(t,e,n,r){for(var i=e;;){var o=i.nextSibling;if(v(t,i,r),i===n)break;i=o}}function c(t,e,n){for(;;){var r=e.nextSibling;if(r===n)break;t.removeChild(r)}}function s(t,e,n){var r=t.parentNode,i=t.nextSibling;i===e?n&&v(r,document.createTextNode(n),i):n?(d(i,n),c(r,i,e)):c(r,t,e)}var l=n(20),f=n(350),p=(n(4),n(9),n(91)),h=n(57),d=n(176),v=p(function(t,e,n){t.insertBefore(e,n)}),g=f.dangerouslyReplaceNodeWithMarkup,m={dangerouslyReplaceNodeWithMarkup:g,replaceDelimitedText:s,processUpdates:function(t,e){for(var n=0;n<e.length;n++){var u=e[n];switch(u.type){case\"INSERT_MARKUP\":i(t,u.content,r(t,u.afterNode));break;case\"MOVE_EXISTING\":o(t,u.fromNode,r(t,u.afterNode));break;case\"SET_MARKUP\":h(t,u.content);break;case\"TEXT_CONTENT\":d(t,u.content);break;case\"REMOVE_NODE\":a(t,u.fromNode)}}}};t.exports=m},function(t,e,n){\"use strict\";var r={html:\"http://www.w3.org/1999/xhtml\",mathml:\"http://www.w3.org/1998/Math/MathML\",svg:\"http://www.w3.org/2000/svg\"};t.exports=r},function(t,e,n){\"use strict\";function r(){if(u)for(var t in c){var e=c[t],n=u.indexOf(t);if(n>-1||a(\"96\",t),!s.plugins[n]){e.extractEvents||a(\"97\",t),s.plugins[n]=e;var r=e.eventTypes;for(var o in r)i(r[o],e,o)||a(\"98\",o,t)}}}function i(t,e,n){s.eventNameDispatchConfigs.hasOwnProperty(n)&&a(\"99\",n),s.eventNameDispatchConfigs[n]=t;var r=t.phasedRegistrationNames;if(r){for(var i in r)if(r.hasOwnProperty(i)){var u=r[i];o(u,e,n)}return!0}return!!t.registrationName&&(o(t.registrationName,e,n),!0)}function o(t,e,n){s.registrationNameModules[t]&&a(\"100\",t),s.registrationNameModules[t]=e,s.registrationNameDependencies[t]=e.eventTypes[n].dependencies}var a=n(1),u=(n(0),null),c={},s={plugins:[],eventNameDispatchConfigs:{},registrationNameModules:{},registrationNameDependencies:{},possibleRegistrationNames:null,injectEventPluginOrder:function(t){u&&a(\"101\"),u=Array.prototype.slice.call(t),r()},injectEventPluginsByName:function(t){var e=!1;for(var n in t)if(t.hasOwnProperty(n)){var i=t[n];c.hasOwnProperty(n)&&c[n]===i||(c[n]&&a(\"102\",n),c[n]=i,e=!0)}e&&r()},getPluginModuleForEvent:function(t){var e=t.dispatchConfig;if(e.registrationName)return s.registrationNameModules[e.registrationName]||null;if(void 0!==e.phasedRegistrationNames){var n=e.phasedRegistrationNames;for(var r in n)if(n.hasOwnProperty(r)){var i=s.registrationNameModules[n[r]];if(i)return i}}return null},_resetEventPlugins:function(){u=null;for(var t in c)c.hasOwnProperty(t)&&delete c[t];s.plugins.length=0;var e=s.eventNameDispatchConfigs;for(var n in e)e.hasOwnProperty(n)&&delete e[n];var r=s.registrationNameModules;for(var i in r)r.hasOwnProperty(i)&&delete r[i]}};t.exports=s},function(t,e,n){\"use strict\";function r(t){var e={\"=\":\"=0\",\":\":\"=2\"};return\"$\"+(\"\"+t).replace(/[=:]/g,function(t){return e[t]})}function i(t){var e=/(=0|=2)/g,n={\"=0\":\"=\",\"=2\":\":\"};return(\"\"+(\".\"===t[0]&&\"$\"===t[1]?t.substring(2):t.substring(1))).replace(e,function(t){return n[t]})}var o={escape:r,unescape:i};t.exports=o},function(t,e,n){\"use strict\";function r(t){null!=t.checkedLink&&null!=t.valueLink&&u(\"87\")}function i(t){r(t),(null!=t.value||null!=t.onChange)&&u(\"88\")}function o(t){r(t),(null!=t.checked||null!=t.onChange)&&u(\"89\")}function a(t){if(t){var e=t.getName();if(e)return\" Check the render method of `\"+e+\"`.\"}return\"\"}var u=n(1),c=n(380),s=n(157),l=n(26),f=s(l.isValidElement),p=(n(0),n(2),{button:!0,checkbox:!0,image:!0,hidden:!0,radio:!0,reset:!0,submit:!0}),h={value:function(t,e,n){return!t[e]||p[t.type]||t.onChange||t.readOnly||t.disabled?null:new Error(\"You provided a `value` prop to a form field without an `onChange` handler. This will render a read-only field. If the field should be mutable use `defaultValue`. Otherwise, set either `onChange` or `readOnly`.\")},checked:function(t,e,n){return!t[e]||t.onChange||t.readOnly||t.disabled?null:new Error(\"You provided a `checked` prop to a form field without an `onChange` handler. This will render a read-only field. If the field should be mutable use `defaultChecked`. Otherwise, set either `onChange` or `readOnly`.\")},onChange:f.func},d={},v={checkPropTypes:function(t,e,n){for(var r in h){if(h.hasOwnProperty(r))var i=h[r](e,r,t,\"prop\",null,c);if(i instanceof Error&&!(i.message in d)){d[i.message]=!0;a(n)}}},getValue:function(t){return t.valueLink?(i(t),t.valueLink.value):t.value},getChecked:function(t){return t.checkedLink?(o(t),t.checkedLink.value):t.checked},executeOnChange:function(t,e){return t.valueLink?(i(t),t.valueLink.requestChange(e.target.value)):t.checkedLink?(o(t),t.checkedLink.requestChange(e.target.checked)):t.onChange?t.onChange.call(void 0,e):void 0}};t.exports=v},function(t,e,n){\"use strict\";var r=n(1),i=(n(0),!1),o={replaceNodeWithMarkup:null,processChildrenUpdates:null,injection:{injectEnvironment:function(t){i&&r(\"104\"),o.replaceNodeWithMarkup=t.replaceNodeWithMarkup,o.processChildrenUpdates=t.processChildrenUpdates,i=!0}}};t.exports=o},function(t,e,n){\"use strict\";function r(t,e,n){try{e(n)}catch(t){null===i&&(i=t)}}var i=null,o={invokeGuardedCallback:r,invokeGuardedCallbackWithCatch:r,rethrowCaughtError:function(){if(i){var t=i;throw i=null,t}}};t.exports=o},function(t,e,n){\"use strict\";function r(t){c.enqueueUpdate(t)}function i(t){var e=typeof t;if(\"object\"!==e)return e;var n=t.constructor&&t.constructor.name||e,r=Object.keys(t);return r.length>0&&r.length<20?n+\" (keys: \"+r.join(\", \")+\")\":n}function o(t,e){var n=u.get(t);if(!n){return null}return n}var a=n(1),u=(n(15),n(39)),c=(n(9),n(12)),s=(n(0),n(2),{isMounted:function(t){var e=u.get(t);return!!e&&!!e._renderedComponent},enqueueCallback:function(t,e,n){s.validateCallback(e,n);var i=o(t);if(!i)return null;i._pendingCallbacks?i._pendingCallbacks.push(e):i._pendingCallbacks=[e],r(i)},enqueueCallbackInternal:function(t,e){t._pendingCallbacks?t._pendingCallbacks.push(e):t._pendingCallbacks=[e],r(t)},enqueueForceUpdate:function(t){var e=o(t,\"forceUpdate\");e&&(e._pendingForceUpdate=!0,r(e))},enqueueReplaceState:function(t,e,n){var i=o(t,\"replaceState\");i&&(i._pendingStateQueue=[e],i._pendingReplaceState=!0,void 0!==n&&null!==n&&(s.validateCallback(n,\"replaceState\"),i._pendingCallbacks?i._pendingCallbacks.push(n):i._pendingCallbacks=[n]),r(i))},enqueueSetState:function(t,e){var n=o(t,\"setState\");if(n){(n._pendingStateQueue||(n._pendingStateQueue=[])).push(e),r(n)}},enqueueElementInternal:function(t,e,n){t._pendingElement=e,t._context=n,r(t)},validateCallback:function(t,e){t&&\"function\"!=typeof t&&a(\"122\",e,i(t))}});t.exports=s},function(t,e,n){\"use strict\";var r={currentScrollLeft:0,currentScrollTop:0,refreshScrollValues:function(t){r.currentScrollLeft=t.x,r.currentScrollTop=t.y}};t.exports=r},function(t,e,n){\"use strict\";var r=function(t){return\"undefined\"!=typeof MSApp&&MSApp.execUnsafeLocalFunction?function(e,n,r,i){MSApp.execUnsafeLocalFunction(function(){return t(e,n,r,i)})}:t};t.exports=r},function(t,e,n){\"use strict\";function r(t){var e,n=t.keyCode;return\"charCode\"in t?0===(e=t.charCode)&&13===n&&(e=13):e=n,e>=32||13===e?e:0}t.exports=r},function(t,e,n){\"use strict\";function r(t){var e=this,n=e.nativeEvent;if(n.getModifierState)return n.getModifierState(t);var r=o[t];return!!r&&!!n[r]}function i(t){return r}var o={Alt:\"altKey\",Control:\"ctrlKey\",Meta:\"metaKey\",Shift:\"shiftKey\"};t.exports=i},function(t,e,n){\"use strict\";function r(t){var e=t.target||t.srcElement||window;return e.correspondingUseElement&&(e=e.correspondingUseElement),3===e.nodeType?e.parentNode:e}t.exports=r},function(t,e,n){\"use strict\";/**\n",
       " * Checks if an event is supported in the current execution environment.\n",
       " *\n",
       " * NOTE: This will not work correctly for non-generic events such as `change`,\n",
       " * `reset`, `load`, `error`, and `select`.\n",
       " *\n",
       " * Borrows from Modernizr.\n",
       " *\n",
       " * @param {string} eventNameSuffix Event name, e.g. \"click\".\n",
       " * @param {?boolean} capture Check if the capture phase is supported.\n",
       " * @return {boolean} True if the event is supported.\n",
       " * @internal\n",
       " * @license Modernizr 3.0.0pre (Custom Build) | MIT\n",
       " */\n",
       "function r(t,e){if(!o.canUseDOM||e&&!(\"addEventListener\"in document))return!1;var n=\"on\"+t,r=n in document;if(!r){var a=document.createElement(\"div\");a.setAttribute(n,\"return;\"),r=\"function\"==typeof a[n]}return!r&&i&&\"wheel\"===t&&(r=document.implementation.hasFeature(\"Events.wheel\",\"3.0\")),r}var i,o=n(6);o.canUseDOM&&(i=document.implementation&&document.implementation.hasFeature&&!0!==document.implementation.hasFeature(\"\",\"\")),t.exports=r},function(t,e,n){\"use strict\";function r(t,e){var n=null===t||!1===t,r=null===e||!1===e;if(n||r)return n===r;var i=typeof t,o=typeof e;return\"string\"===i||\"number\"===i?\"string\"===o||\"number\"===o:\"object\"===o&&t.type===e.type&&t.key===e.key}t.exports=r},function(t,e,n){\"use strict\";var r=(n(3),n(11)),i=(n(2),r);t.exports=i},function(t,e){var n;n=function(){return this}();try{n=n||Function(\"return this\")()||(0,eval)(\"this\")}catch(t){\"object\"==typeof window&&(n=window)}t.exports=n},function(t,e){t.exports=function(t){return t.webpackPolyfill||(t.deprecate=function(){},t.paths=[],t.children||(t.children=[]),Object.defineProperty(t,\"loaded\",{enumerable:!0,get:function(){return t.l}}),Object.defineProperty(t,\"id\",{enumerable:!0,get:function(){return t.i}}),t.webpackPolyfill=1),t}},function(t,e,n){\"use strict\";n.d(e,\"b\",function(){return i}),n.d(e,\"a\",function(){return o});var r=Array.prototype,i=r.slice,o=r.map},function(t,e,n){\"use strict\";n.d(e,\"b\",function(){return a}),n.d(e,\"c\",function(){return u});var r=n(19),i=n(102),o=n.i(i.a)(r.a),a=o.right,u=o.left;e.a=a},function(t,e,n){\"use strict\";function r(t){return function(e,r){return n.i(i.a)(t(e),r)}}var i=n(19);e.a=function(t){return 1===t.length&&(t=r(t)),{left:function(e,n,r,i){for(null==r&&(r=0),null==i&&(i=e.length);r<i;){var o=r+i>>>1;t(e[o],n)<0?r=o+1:i=o}return r},right:function(e,n,r,i){for(null==r&&(r=0),null==i&&(i=e.length);r<i;){var o=r+i>>>1;t(e[o],n)>0?i=o:r=o+1}return r}}}},function(t,e,n){\"use strict\";var r=n(111);e.a=function(t,e){var i=n.i(r.a)(t,e);return i?Math.sqrt(i):i}},function(t,e,n){\"use strict\";e.a=function(t,e){var n,r,i,o=t.length,a=-1;if(null==e){for(;++a<o;)if(null!=(n=t[a])&&n>=n)for(r=i=n;++a<o;)null!=(n=t[a])&&(r>n&&(r=n),i<n&&(i=n))}else for(;++a<o;)if(null!=(n=e(t[a],a,t))&&n>=n)for(r=i=n;++a<o;)null!=(n=e(t[a],a,t))&&(r>n&&(r=n),i<n&&(i=n));return[r,i]}},function(t,e,n){\"use strict\";e.a=function(t,e){var n,r,i=t.length,o=-1;if(null==e){for(;++o<i;)if(null!=(n=t[o])&&n>=n)for(r=n;++o<i;)null!=(n=t[o])&&r>n&&(r=n)}else for(;++o<i;)if(null!=(n=e(t[o],o,t))&&n>=n)for(r=n;++o<i;)null!=(n=e(t[o],o,t))&&r>n&&(r=n);return r}},function(t,e,n){\"use strict\";function r(t,e){return[t,e]}e.b=r,e.a=function(t,e){null==e&&(e=r);for(var n=0,i=t.length-1,o=t[0],a=new Array(i<0?0:i);n<i;)a[n]=e(o,o=t[++n]);return a}},function(t,e,n){\"use strict\";e.a=function(t,e,n){t=+t,e=+e,n=(i=arguments.length)<2?(e=t,t=0,1):i<3?1:+n;for(var r=-1,i=0|Math.max(0,Math.ceil((e-t)/n)),o=new Array(i);++r<i;)o[r]=t+r*n;return o}},function(t,e,n){\"use strict\";e.a=function(t){return Math.ceil(Math.log(t.length)/Math.LN2)+1}},function(t,e,n){\"use strict\";function r(t,e,n){var r=(e-t)/Math.max(0,n),i=Math.floor(Math.log(r)/Math.LN10),c=r/Math.pow(10,i);return i>=0?(c>=o?10:c>=a?5:c>=u?2:1)*Math.pow(10,i):-Math.pow(10,-i)/(c>=o?10:c>=a?5:c>=u?2:1)}function i(t,e,n){var r=Math.abs(e-t)/Math.max(0,n),i=Math.pow(10,Math.floor(Math.log(r)/Math.LN10)),c=r/i;return c>=o?i*=10:c>=a?i*=5:c>=u&&(i*=2),e<t?-i:i}e.b=r,e.c=i;var o=Math.sqrt(50),a=Math.sqrt(10),u=Math.sqrt(2);e.a=function(t,e,n){var i,o,a,u,c=-1;if(e=+e,t=+t,n=+n,t===e&&n>0)return[t];if((i=e<t)&&(o=t,t=e,e=o),0===(u=r(t,e,n))||!isFinite(u))return[];if(u>0)for(t=Math.ceil(t/u),e=Math.floor(e/u),a=new Array(o=Math.ceil(e-t+1));++c<o;)a[c]=(t+c)*u;else for(t=Math.floor(t*u),e=Math.ceil(e*u),a=new Array(o=Math.ceil(t-e+1));++c<o;)a[c]=(t-c)/u;return i&&a.reverse(),a}},function(t,e,n){\"use strict\";function r(t){return t.length}var i=n(105);e.a=function(t){if(!(u=t.length))return[];for(var e=-1,o=n.i(i.a)(t,r),a=new Array(o);++e<o;)for(var u,c=-1,s=a[e]=new Array(u);++c<u;)s[c]=t[c][e];return a}},function(t,e,n){\"use strict\";var r=n(28);e.a=function(t,e){var i,o,a=t.length,u=0,c=-1,s=0,l=0;if(null==e)for(;++c<a;)isNaN(i=n.i(r.a)(t[c]))||(o=i-s,s+=o/++u,l+=o*(i-s));else for(;++c<a;)isNaN(i=n.i(r.a)(e(t[c],c,t)))||(o=i-s,s+=o/++u,l+=o*(i-s));if(u>1)return l/(u-1)}},function(t,e,n){\"use strict\";Object.defineProperty(e,\"__esModule\",{value:!0});var r=n(209);n.d(e,\"axisTop\",function(){return r.a}),n.d(e,\"axisRight\",function(){return r.b}),n.d(e,\"axisBottom\",function(){return r.c}),n.d(e,\"axisLeft\",function(){return r.d})},function(t,e,n){\"use strict\";n.d(e,\"b\",function(){return r}),n.d(e,\"a\",function(){return i});var r=Math.PI/180,i=180/Math.PI},function(t,e,n){\"use strict\";n.d(e,\"b\",function(){return r});var r,i=n(63);e.a=function(t,e){var o=n.i(i.a)(t,e);if(!o)return t+\"\";var a=o[0],u=o[1],c=u-(r=3*Math.max(-8,Math.min(8,Math.floor(u/3))))+1,s=a.length;return c===s?a:c>s?a+new Array(c-s+1).join(\"0\"):c>0?a.slice(0,c)+\".\"+a.slice(c):\"0.\"+new Array(1-c).join(\"0\")+n.i(i.a)(t,Math.max(0,e+c-1))[0]}},function(t,e,n){\"use strict\";function r(t){return new i(t)}function i(t){if(!(e=a.exec(t)))throw new Error(\"invalid format: \"+t);var e,n=e[1]||\" \",r=e[2]||\">\",i=e[3]||\"-\",u=e[4]||\"\",c=!!e[5],s=e[6]&&+e[6],l=!!e[7],f=e[8]&&+e[8].slice(1),p=e[9]||\"\";\"n\"===p?(l=!0,p=\"g\"):o.a[p]||(p=\"\"),(c||\"0\"===n&&\"=\"===r)&&(c=!0,n=\"0\",r=\"=\"),this.fill=n,this.align=r,this.sign=i,this.symbol=u,this.zero=c,this.width=s,this.comma=l,this.precision=f,this.type=p}e.a=r;var o=n(116),a=/^(?:(.)?([<>=^]))?([+\\-\\( ])?([$#])?(0)?(\\d+)?(,)?(\\.\\d+)?([a-z%])?$/i;r.prototype=i.prototype,i.prototype.toString=function(){return this.fill+this.align+this.sign+this.symbol+(this.zero?\"0\":\"\")+(null==this.width?\"\":Math.max(1,0|this.width))+(this.comma?\",\":\"\")+(null==this.precision?\"\":\".\"+Math.max(0,0|this.precision))+this.type}},function(t,e,n){\"use strict\";var r=n(220),i=n(114),o=n(223);e.a={\"\":r.a,\"%\":function(t,e){return(100*t).toFixed(e)},b:function(t){return Math.round(t).toString(2)},c:function(t){return t+\"\"},d:function(t){return Math.round(t).toString(10)},e:function(t,e){return t.toExponential(e)},f:function(t,e){return t.toFixed(e)},g:function(t,e){return t.toPrecision(e)},o:function(t){return Math.round(t).toString(8)},p:function(t,e){return n.i(o.a)(100*t,e)},r:o.a,s:i.a,X:function(t){return Math.round(t).toString(16).toUpperCase()},x:function(t){return Math.round(t).toString(16)}}},function(t,e,n){\"use strict\";var r=n(42),i=n(221),o=n(222),a=n(115),u=n(116),c=n(114),s=n(224),l=[\"y\",\"z\",\"a\",\"f\",\"p\",\"n\",\"µ\",\"m\",\"\",\"k\",\"M\",\"G\",\"T\",\"P\",\"E\",\"Z\",\"Y\"];e.a=function(t){function e(t){function e(t){var e,n,a,u=x,s=w;if(\"c\"===b)s=C(t)+s,t=\"\";else{t=+t;var h=t<0;if(t=C(Math.abs(t),_),h&&0==+t&&(h=!1),u=(h?\"(\"===o?o:\"-\":\"-\"===o||\"(\"===o?\"\":o)+u,s=(\"s\"===b?l[8+c.b/3]:\"\")+s+(h&&\"(\"===o?\")\":\"\"),k)for(e=-1,n=t.length;++e<n;)if(48>(a=t.charCodeAt(e))||a>57){s=(46===a?d+t.slice(e+1):t.slice(e))+s,t=t.slice(0,e);break}}y&&!f&&(t=p(t,1/0));var g=u.length+t.length+s.length,E=g<m?new Array(m-g+1).join(r):\"\";switch(y&&f&&(t=p(E+t,E.length?m-s.length:1/0),E=\"\"),i){case\"<\":t=u+t+s+E;break;case\"=\":t=u+E+t+s;break;case\"^\":t=E.slice(0,g=E.length>>1)+u+t+s+E.slice(g);break;default:t=E+u+t+s}return v(t)}t=n.i(a.a)(t);var r=t.fill,i=t.align,o=t.sign,s=t.symbol,f=t.zero,m=t.width,y=t.comma,_=t.precision,b=t.type,x=\"$\"===s?h[0]:\"#\"===s&&/[boxX]/.test(b)?\"0\"+b.toLowerCase():\"\",w=\"$\"===s?h[1]:/[%p]/.test(b)?g:\"\",C=u.a[b],k=!b||/[defgprs%]/.test(b);return _=null==_?b?6:12:/[gprs]/.test(b)?Math.max(1,Math.min(21,_)):Math.max(0,Math.min(20,_)),e.toString=function(){return t+\"\"},e}function f(t,i){var o=e((t=n.i(a.a)(t),t.type=\"f\",t)),u=3*Math.max(-8,Math.min(8,Math.floor(n.i(r.a)(i)/3))),c=Math.pow(10,-u),s=l[8+u/3];return function(t){return o(c*t)+s}}var p=t.grouping&&t.thousands?n.i(i.a)(t.grouping,t.thousands):s.a,h=t.currency,d=t.decimal,v=t.numerals?n.i(o.a)(t.numerals):s.a,g=t.percent||\"%\";return{format:e,formatPrefix:f}}},function(t,e,n){\"use strict\";var r=n(65);e.a=function(t,e){var i,o=e?e.length:0,a=t?Math.min(o,t.length):0,u=new Array(a),c=new Array(o);for(i=0;i<a;++i)u[i]=n.i(r.a)(t[i],e[i]);for(;i<o;++i)c[i]=e[i];return function(t){for(i=0;i<a;++i)c[i]=u[i](t);return c}}},function(t,e,n){\"use strict\";var r=n(64);e.a=function(t){var e=t.length;return function(i){var o=Math.floor(((i%=1)<0?++i:i)*e),a=t[(o+e-1)%e],u=t[o%e],c=t[(o+1)%e],s=t[(o+2)%e];return n.i(r.b)((i-o/e)*e,a,u,c,s)}}},function(t,e,n){\"use strict\";e.a=function(t){return function(){return t}}},function(t,e,n){\"use strict\";e.a=function(t,e){var n=new Date;return t=+t,e-=t,function(r){return n.setTime(t+e*r),n}}},function(t,e,n){\"use strict\";var r=n(65);e.a=function(t,e){var i,o={},a={};null!==t&&\"object\"==typeof t||(t={}),null!==e&&\"object\"==typeof e||(e={});for(i in e)i in t?o[i]=n.i(r.a)(t[i],e[i]):a[i]=e[i];return function(t){for(i in o)a[i]=o[i](t);return a}}},function(t,e,n){\"use strict\";function r(t){return function(e){var r,o,a=e.length,u=new Array(a),c=new Array(a),s=new Array(a);for(r=0;r<a;++r)o=n.i(i.rgb)(e[r]),u[r]=o.r||0,c[r]=o.g||0,s[r]=o.b||0;return u=t(u),c=t(c),s=t(s),o.opacity=1,function(t){return o.r=u(t),o.g=c(t),o.b=s(t),o+\"\"}}}var i=n(10),o=n(64),a=n(119),u=n(31);e.a=function t(e){function r(t,e){var r=o((t=n.i(i.rgb)(t)).r,(e=n.i(i.rgb)(e)).r),a=o(t.g,e.g),c=o(t.b,e.b),s=n.i(u.a)(t.opacity,e.opacity);return function(e){return t.r=r(e),t.g=a(e),t.b=c(e),t.opacity=s(e),t+\"\"}}var o=n.i(u.c)(e);return r.gamma=t,r}(1);r(o.a),r(a.a)},function(t,e,n){\"use strict\";function r(t){return function(){return t}}function i(t){return function(e){return t(e)+\"\"}}var o=n(43),a=/[-+]?(?:\\d+\\.?\\d*|\\.?\\d+)(?:[eE][-+]?\\d+)?/g,u=new RegExp(a.source,\"g\");e.a=function(t,e){var c,s,l,f=a.lastIndex=u.lastIndex=0,p=-1,h=[],d=[];for(t+=\"\",e+=\"\";(c=a.exec(t))&&(s=u.exec(e));)(l=s.index)>f&&(l=e.slice(f,l),h[p]?h[p]+=l:h[++p]=l),(c=c[0])===(s=s[0])?h[p]?h[p]+=s:h[++p]=s:(h[++p]=null,d.push({i:p,x:n.i(o.a)(c,s)})),f=u.lastIndex;return f<e.length&&(l=e.slice(f),h[p]?h[p]+=l:h[++p]=l),h.length<2?d[0]?i(d[0].x):r(e):(e=d.length,function(t){for(var n,r=0;r<e;++r)h[(n=d[r]).i]=n.x(t);return h.join(\"\")})}},function(t,e,n){\"use strict\";e.a=function(t,e){t=t.slice();var n,r=0,i=t.length-1,o=t[r],a=t[i];return a<o&&(n=r,r=i,i=n,n=o,o=a,a=n),t[r]=e.floor(o),t[i]=e.ceil(a),t}},function(t,e,n){\"use strict\";e.a=function(t){return+t}},function(t,e,n){\"use strict\";function r(t){function e(e){var n=e+\"\",r=u.get(n);if(!r){if(s!==a)return s;u.set(n,r=c.push(e))}return t[(r-1)%t.length]}var u=n.i(i.a)(),c=[],s=a;return t=null==t?[]:o.b.call(t),e.domain=function(t){if(!arguments.length)return c.slice();c=[],u=n.i(i.a)();for(var r,o,a=-1,s=t.length;++a<s;)u.has(o=(r=t[a])+\"\")||u.set(o,c.push(r));return e},e.range=function(n){return arguments.length?(t=o.b.call(n),e):t.slice()},e.unknown=function(t){return arguments.length?(s=t,e):s},e.copy=function(){return r().domain(c).range(t).unknown(s)},e}n.d(e,\"b\",function(){return a}),e.a=r;var i=n(211),o=n(16),a={name:\"implicit\"}},function(t,e,n){\"use strict\";function r(t){return new Date(t)}function i(t){return t instanceof Date?+t:+new Date(+t)}function o(t,e,c,s,b,x,w,C,k){function E(n){return(w(n)<n?A:x(n)<n?P:b(n)<n?O:s(n)<n?I:e(n)<n?c(n)<n?D:R:t(n)<n?L:U)(n)}function M(e,r,i,o){if(null==e&&(e=10),\"number\"==typeof e){var u=Math.abs(i-r)/e,c=n.i(a.bisector)(function(t){return t[2]}).right(F,u);c===F.length?(o=n.i(a.tickStep)(r/_,i/_,e),e=t):c?(c=F[u/F[c-1][2]<F[c][2]/u?c-1:c],o=c[1],e=c[0]):(o=Math.max(n.i(a.tickStep)(r,i,e),1),e=C)}return null==o?e:e.every(o)}var T=n.i(f.a)(f.b,u.a),S=T.invert,N=T.domain,A=k(\".%L\"),P=k(\":%S\"),O=k(\"%I:%M\"),I=k(\"%I %p\"),D=k(\"%a %d\"),R=k(\"%b %d\"),L=k(\"%B\"),U=k(\"%Y\"),F=[[w,1,h],[w,5,5*h],[w,15,15*h],[w,30,30*h],[x,1,d],[x,5,5*d],[x,15,15*d],[x,30,30*d],[b,1,v],[b,3,3*v],[b,6,6*v],[b,12,12*v],[s,1,g],[s,2,2*g],[c,1,m],[e,1,y],[e,3,3*y],[t,1,_]];return T.invert=function(t){return new Date(S(t))},T.domain=function(t){return arguments.length?N(l.a.call(t,i)):N().map(r)},T.ticks=function(t,e){var n,r=N(),i=r[0],o=r[r.length-1],a=o<i;return a&&(n=i,i=o,o=n),n=M(t,i,o,e),n=n?n.range(i,o+1):[],a?n.reverse():n},T.tickFormat=function(t,e){return null==e?E:k(e)},T.nice=function(t,e){var r=N();return(t=M(t,r[0],r[r.length-1],e))?N(n.i(p.a)(r,t)):T},T.copy=function(){return n.i(f.c)(T,o(t,e,c,s,b,x,w,C,k))},T}e.b=o;var a=n(7),u=n(30),c=n(80),s=n(78),l=n(16),f=n(44),p=n(125),h=1e3,d=60*h,v=60*d,g=24*v,m=7*g,y=30*g,_=365*g;e.a=function(){return o(c.e,c.q,c.r,c.d,c.s,c.t,c.u,c.v,s.timeFormat).domain([new Date(2e3,0,1),new Date(2e3,0,2)])}},function(t,e,n){\"use strict\";Object.defineProperty(e,\"__esModule\",{value:!0});var r=n(257);n.d(e,\"create\",function(){return r.a});var i=n(45);n.d(e,\"creator\",function(){return i.a});var o=n(258);n.d(e,\"local\",function(){return o.a});var a=n(130);n.d(e,\"matcher\",function(){return a.a});var u=n(259);n.d(e,\"mouse\",function(){return u.a});var c=n(68);n.d(e,\"namespace\",function(){return c.a});var s=n(69);n.d(e,\"namespaces\",function(){return s.a});var l=n(46);n.d(e,\"clientPoint\",function(){return l.a});var f=n(131);n.d(e,\"select\",function(){return f.a});var p=n(260);n.d(e,\"selectAll\",function(){return p.a});var h=n(8);n.d(e,\"selection\",function(){return h.a});var d=n(71);n.d(e,\"selector\",function(){return d.a});var v=n(135);n.d(e,\"selectorAll\",function(){return v.a});var g=n(134);n.d(e,\"style\",function(){return g.a});var m=n(288);n.d(e,\"touch\",function(){return m.a});var y=n(289);n.d(e,\"touches\",function(){return y.a});var _=n(73);n.d(e,\"window\",function(){return _.a});var b=n(70);n.d(e,\"event\",function(){return b.a}),n.d(e,\"customEvent\",function(){return b.b})},function(t,e,n){\"use strict\";var r=function(t){return function(){return this.matches(t)}};if(\"undefined\"!=typeof document){var i=document.documentElement;if(!i.matches){var o=i.webkitMatchesSelector||i.msMatchesSelector||i.mozMatchesSelector||i.oMatchesSelector;r=function(t){return function(){return o.call(this,t)}}}}e.a=r},function(t,e,n){\"use strict\";var r=n(8);e.a=function(t){return\"string\"==typeof t?new r.b([[document.querySelector(t)]],[document.documentElement]):new r.b([[t]],r.c)}},function(t,e,n){\"use strict\";function r(t,e){this.ownerDocument=t.ownerDocument,this.namespaceURI=t.namespaceURI,this._next=null,this._parent=t,this.__data__=e}e.b=r;var i=n(133),o=n(8);e.a=function(){return new o.b(this._enter||this._groups.map(i.a),this._parents)},r.prototype={constructor:r,appendChild:function(t){return this._parent.insertBefore(t,this._next)},insertBefore:function(t,e){return this._parent.insertBefore(t,e)},querySelector:function(t){return this._parent.querySelector(t)},querySelectorAll:function(t){return this._parent.querySelectorAll(t)}}},function(t,e,n){\"use strict\";e.a=function(t){return new Array(t.length)}},function(t,e,n){\"use strict\";function r(t){return function(){this.style.removeProperty(t)}}function i(t,e,n){return function(){this.style.setProperty(t,e,n)}}function o(t,e,n){return function(){var r=e.apply(this,arguments);null==r?this.style.removeProperty(t):this.style.setProperty(t,r,n)}}function a(t,e){return t.style.getPropertyValue(e)||n.i(u.a)(t).getComputedStyle(t,null).getPropertyValue(e)}e.a=a;var u=n(73);e.b=function(t,e,n){return arguments.length>1?this.each((null==e?r:\"function\"==typeof e?o:i)(t,e,null==n?\"\":n)):a(this.node(),t)}},function(t,e,n){\"use strict\";function r(){return[]}e.a=function(t){return null==t?r:function(){return this.querySelectorAll(t)}}},function(t,e,n){\"use strict\";Object.defineProperty(e,\"__esModule\",{value:!0});var r=n(290);n.d(e,\"arc\",function(){return r.a});var i=n(137);n.d(e,\"area\",function(){return i.a});var o=n(75);n.d(e,\"line\",function(){return o.a});var a=n(311);n.d(e,\"pie\",function(){return a.a});var u=n(291);n.d(e,\"areaRadial\",function(){return u.a}),n.d(e,\"radialArea\",function(){return u.a});var c=n(142);n.d(e,\"lineRadial\",function(){return c.a}),n.d(e,\"radialLine\",function(){return c.a});var s=n(143);n.d(e,\"pointRadial\",function(){return s.a});var l=n(303);n.d(e,\"linkHorizontal\",function(){return l.a}),n.d(e,\"linkVertical\",function(){return l.b}),n.d(e,\"linkRadial\",function(){return l.c});var f=n(313);n.d(e,\"symbol\",function(){return f.a}),n.d(e,\"symbols\",function(){return f.b});var p=n(144);n.d(e,\"symbolCircle\",function(){return p.a});var h=n(145);n.d(e,\"symbolCross\",function(){return h.a});var d=n(146);n.d(e,\"symbolDiamond\",function(){return d.a});var v=n(147);n.d(e,\"symbolSquare\",function(){return v.a});var g=n(148);n.d(e,\"symbolStar\",function(){return g.a});var m=n(149);n.d(e,\"symbolTriangle\",function(){return m.a});var y=n(150);n.d(e,\"symbolWye\",function(){return y.a});var _=n(292);n.d(e,\"curveBasisClosed\",function(){return _.a});var b=n(293);n.d(e,\"curveBasisOpen\",function(){return b.a});var x=n(47);n.d(e,\"curveBasis\",function(){return x.a});var w=n(294);n.d(e,\"curveBundle\",function(){return w.a});var C=n(139);n.d(e,\"curveCardinalClosed\",function(){return C.a});var k=n(140);n.d(e,\"curveCardinalOpen\",function(){return k.a});var E=n(48);n.d(e,\"curveCardinal\",function(){return E.a});var M=n(295);n.d(e,\"curveCatmullRomClosed\",function(){return M.a});var T=n(296);n.d(e,\"curveCatmullRomOpen\",function(){return T.a});var S=n(74);n.d(e,\"curveCatmullRom\",function(){return S.a});var N=n(297);n.d(e,\"curveLinearClosed\",function(){return N.a});var A=n(49);n.d(e,\"curveLinear\",function(){return A.a});var P=n(298);n.d(e,\"curveMonotoneX\",function(){return P.a}),n.d(e,\"curveMonotoneY\",function(){return P.b});var O=n(299);n.d(e,\"curveNatural\",function(){return O.a});var I=n(300);n.d(e,\"curveStep\",function(){return I.a}),n.d(e,\"curveStepAfter\",function(){return I.b}),n.d(e,\"curveStepBefore\",function(){return I.c});var D=n(312);n.d(e,\"stack\",function(){return D.a});var R=n(305);n.d(e,\"stackOffsetExpand\",function(){return R.a});var L=n(304);n.d(e,\"stackOffsetDiverging\",function(){return L.a});var U=n(36);n.d(e,\"stackOffsetNone\",function(){return U.a});var F=n(306);n.d(e,\"stackOffsetSilhouette\",function(){return F.a});var j=n(307);n.d(e,\"stackOffsetWiggle\",function(){return j.a});var B=n(76);n.d(e,\"stackOrderAscending\",function(){return B.a});var V=n(308);n.d(e,\"stackOrderDescending\",function(){return V.a});var W=n(309);n.d(e,\"stackOrderInsideOut\",function(){return W.a});var z=n(37);n.d(e,\"stackOrderNone\",function(){return z.a});var H=n(310);n.d(e,\"stackOrderReverse\",function(){return H.a})},function(t,e,n){\"use strict\";var r=n(32),i=n(17),o=n(49),a=n(75),u=n(77);e.a=function(){function t(t){var e,i,o,a,u,g=t.length,m=!1,y=new Array(g),_=new Array(g);for(null==h&&(v=d(u=n.i(r.a)())),e=0;e<=g;++e){if(!(e<g&&p(a=t[e],e,t))===m)if(m=!m)i=e,v.areaStart(),v.lineStart();else{for(v.lineEnd(),v.lineStart(),o=e-1;o>=i;--o)v.point(y[o],_[o]);v.lineEnd(),v.areaEnd()}m&&(y[e]=+c(a,e,t),_[e]=+l(a,e,t),v.point(s?+s(a,e,t):y[e],f?+f(a,e,t):_[e]))}if(u)return v=null,u+\"\"||null}function e(){return n.i(a.a)().defined(p).curve(d).context(h)}var c=u.a,s=null,l=n.i(i.a)(0),f=u.b,p=n.i(i.a)(!0),h=null,d=o.a,v=null;return t.x=function(e){return arguments.length?(c=\"function\"==typeof e?e:n.i(i.a)(+e),s=null,t):c},t.x0=function(e){return arguments.length?(c=\"function\"==typeof e?e:n.i(i.a)(+e),t):c},t.x1=function(e){return arguments.length?(s=null==e?null:\"function\"==typeof e?e:n.i(i.a)(+e),t):s},t.y=function(e){return arguments.length?(l=\"function\"==typeof e?e:n.i(i.a)(+e),f=null,t):l},t.y0=function(e){return arguments.length?(l=\"function\"==typeof e?e:n.i(i.a)(+e),t):l},t.y1=function(e){return arguments.length?(f=null==e?null:\"function\"==typeof e?e:n.i(i.a)(+e),t):f},t.lineX0=t.lineY0=function(){return e().x(c).y(l)},t.lineY1=function(){return e().x(c).y(f)},t.lineX1=function(){return e().x(s).y(l)},t.defined=function(e){return arguments.length?(p=\"function\"==typeof e?e:n.i(i.a)(!!e),t):p},t.curve=function(e){return arguments.length?(d=e,null!=h&&(v=d(h)),t):d},t.context=function(e){return arguments.length?(null==e?h=v=null:v=d(h=e),t):h},t}},function(t,e,n){\"use strict\";n.d(e,\"a\",function(){return r});var r=Array.prototype.slice},function(t,e,n){\"use strict\";function r(t,e){this._context=t,this._k=(1-e)/6}e.b=r;var i=n(50),o=n(48);r.prototype={areaStart:i.a,areaEnd:i.a,lineStart:function(){this._x0=this._x1=this._x2=this._x3=this._x4=this._x5=this._y0=this._y1=this._y2=this._y3=this._y4=this._y5=NaN,this._point=0},lineEnd:function(){switch(this._point){case 1:this._context.moveTo(this._x3,this._y3),this._context.closePath();break;case 2:this._context.lineTo(this._x3,this._y3),this._context.closePath();break;case 3:this.point(this._x3,this._y3),this.point(this._x4,this._y4),this.point(this._x5,this._y5)}},point:function(t,e){switch(t=+t,e=+e,this._point){case 0:this._point=1,this._x3=t,this._y3=e;break;case 1:this._point=2,this._context.moveTo(this._x4=t,this._y4=e);break;case 2:this._point=3,this._x5=t,this._y5=e;break;default:n.i(o.c)(this,t,e)}this._x0=this._x1,this._x1=this._x2,this._x2=t,this._y0=this._y1,this._y1=this._y2,this._y2=e}},e.a=function t(e){function n(t){return new r(t,e)}return n.tension=function(e){return t(+e)},n}(0)},function(t,e,n){\"use strict\";function r(t,e){this._context=t,this._k=(1-e)/6}e.b=r;var i=n(48);r.prototype={areaStart:function(){this._line=0},areaEnd:function(){this._line=NaN},lineStart:function(){this._x0=this._x1=this._x2=this._y0=this._y1=this._y2=NaN,this._point=0},lineEnd:function(){(this._line||0!==this._line&&3===this._point)&&this._context.closePath(),this._line=1-this._line},point:function(t,e){switch(t=+t,e=+e,this._point){case 0:this._point=1;break;case 1:this._point=2;break;case 2:this._point=3,this._line?this._context.lineTo(this._x2,this._y2):this._context.moveTo(this._x2,this._y2);break;case 3:this._point=4;default:n.i(i.c)(this,t,e)}this._x0=this._x1,this._x1=this._x2,this._x2=t,this._y0=this._y1,this._y1=this._y2,this._y2=e}},e.a=function t(e){function n(t){return new r(t,e)}return n.tension=function(e){return t(+e)},n}(0)},function(t,e,n){\"use strict\";function r(t){this._curve=t}function i(t){function e(e){return new r(t(e))}return e._curve=t,e}n.d(e,\"b\",function(){return a}),e.a=i;var o=n(49),a=i(o.a);r.prototype={areaStart:function(){this._curve.areaStart()},areaEnd:function(){this._curve.areaEnd()},lineStart:function(){this._curve.lineStart()},lineEnd:function(){this._curve.lineEnd()},point:function(t,e){this._curve.point(e*Math.sin(t),e*-Math.cos(t))}}},function(t,e,n){\"use strict\";function r(t){var e=t.curve;return t.angle=t.x,delete t.x,t.radius=t.y,delete t.y,t.curve=function(t){return arguments.length?e(n.i(i.a)(t)):e()._curve},t}e.b=r;var i=n(141),o=n(75);e.a=function(){return r(n.i(o.a)().curve(i.b))}},function(t,e,n){\"use strict\";e.a=function(t,e){return[(e=+e)*Math.cos(t-=Math.PI/2),e*Math.sin(t)]}},function(t,e,n){\"use strict\";var r=n(35);e.a={draw:function(t,e){var n=Math.sqrt(e/r.b);t.moveTo(n,0),t.arc(0,0,n,0,r.c)}}},function(t,e,n){\"use strict\";e.a={draw:function(t,e){var n=Math.sqrt(e/5)/2;t.moveTo(-3*n,-n),t.lineTo(-n,-n),t.lineTo(-n,-3*n),t.lineTo(n,-3*n),t.lineTo(n,-n),t.lineTo(3*n,-n),t.lineTo(3*n,n),t.lineTo(n,n),t.lineTo(n,3*n),t.lineTo(-n,3*n),t.lineTo(-n,n),t.lineTo(-3*n,n),t.closePath()}}},function(t,e,n){\"use strict\";var r=Math.sqrt(1/3),i=2*r;e.a={draw:function(t,e){var n=Math.sqrt(e/i),o=n*r;t.moveTo(0,-n),t.lineTo(o,0),t.lineTo(0,n),t.lineTo(-o,0),t.closePath()}}},function(t,e,n){\"use strict\";e.a={draw:function(t,e){var n=Math.sqrt(e),r=-n/2;t.rect(r,r,n,n)}}},function(t,e,n){\"use strict\";var r=n(35),i=Math.sin(r.b/10)/Math.sin(7*r.b/10),o=Math.sin(r.c/10)*i,a=-Math.cos(r.c/10)*i;e.a={draw:function(t,e){var n=Math.sqrt(.8908130915292852*e),i=o*n,u=a*n;t.moveTo(0,-n),t.lineTo(i,u);for(var c=1;c<5;++c){var s=r.c*c/5,l=Math.cos(s),f=Math.sin(s);t.lineTo(f*n,-l*n),t.lineTo(l*i-f*u,f*i+l*u)}t.closePath()}}},function(t,e,n){\"use strict\";var r=Math.sqrt(3);e.a={draw:function(t,e){var n=-Math.sqrt(e/(3*r));t.moveTo(0,2*n),t.lineTo(-r*n,-n),t.lineTo(r*n,-n),t.closePath()}}},function(t,e,n){\"use strict\";var r=-.5,i=Math.sqrt(3)/2,o=1/Math.sqrt(12),a=3*(o/2+1);e.a={draw:function(t,e){var n=Math.sqrt(e/a),u=n/2,c=n*o,s=u,l=n*o+n,f=-s,p=l;t.moveTo(u,c),t.lineTo(s,l),t.lineTo(f,p),t.lineTo(r*u-i*c,i*u+r*c),t.lineTo(r*s-i*l,i*s+r*l),t.lineTo(r*f-i*p,i*f+r*p),t.lineTo(r*u+i*c,r*c-i*u),t.lineTo(r*s+i*l,r*l-i*s),t.lineTo(r*f+i*p,r*p-i*f),t.closePath()}}},function(t,e,n){\"use strict\";function r(t){return t.toISOString()}n.d(e,\"b\",function(){return o});var i=n(79),o=\"%Y-%m-%dT%H:%M:%S.%LZ\",a=Date.prototype.toISOString?r:n.i(i.d)(o);e.a=a},function(t,e,n){\"use strict\";function r(t){if(0<=t.y&&t.y<100){var e=new Date(-1,t.m,t.d,t.H,t.M,t.S,t.L);return e.setFullYear(t.y),e}return new Date(t.y,t.m,t.d,t.H,t.M,t.S,t.L)}function i(t){if(0<=t.y&&t.y<100){var e=new Date(Date.UTC(-1,t.m,t.d,t.H,t.M,t.S,t.L));return e.setUTCFullYear(t.y),e}return new Date(Date.UTC(t.y,t.m,t.d,t.H,t.M,t.S,t.L))}function o(t){return{y:t,m:0,d:1,H:0,M:0,S:0,L:0}}function a(t){function e(t,e){return function(n){var r,i,o,a=[],u=-1,c=0,s=t.length;for(n instanceof Date||(n=new Date(+n));++u<s;)37===t.charCodeAt(u)&&(a.push(t.slice(c,u)),null!=(i=dt[r=t.charAt(++u)])?r=t.charAt(++u):i=\"e\"===r?\" \":\"0\",(o=e[r])&&(r=o(n,i)),a.push(r),c=u+1);return a.push(t.slice(c,u)),a.join(\"\")}}function a(t,e){return function(r){var a,c,s=o(1900),l=u(s,t,r+=\"\",0);if(l!=r.length)return null;if(\"Q\"in s)return new Date(s.Q);if(\"p\"in s&&(s.H=s.H%12+12*s.p),\"V\"in s){if(s.V<1||s.V>53)return null;\"w\"in s||(s.w=1),\"Z\"in s?(a=i(o(s.y)),c=a.getUTCDay(),a=c>4||0===c?ht.a.ceil(a):n.i(ht.a)(a),a=ht.b.offset(a,7*(s.V-1)),s.y=a.getUTCFullYear(),s.m=a.getUTCMonth(),s.d=a.getUTCDate()+(s.w+6)%7):(a=e(o(s.y)),c=a.getDay(),a=c>4||0===c?ht.c.ceil(a):n.i(ht.c)(a),a=ht.d.offset(a,7*(s.V-1)),s.y=a.getFullYear(),s.m=a.getMonth(),s.d=a.getDate()+(s.w+6)%7)}else(\"W\"in s||\"U\"in s)&&(\"w\"in s||(s.w=\"u\"in s?s.u%7:\"W\"in s?1:0),c=\"Z\"in s?i(o(s.y)).getUTCDay():e(o(s.y)).getDay(),s.m=0,s.d=\"W\"in s?(s.w+6)%7+7*s.W-(c+5)%7:s.w+7*s.U-(c+6)%7);return\"Z\"in s?(s.H+=s.Z/100|0,s.M+=s.Z%100,i(s)):e(s)}}function u(t,e,n,r){for(var i,o,a=0,u=e.length,c=n.length;a<u;){if(r>=c)return-1;if(37===(i=e.charCodeAt(a++))){if(i=e.charAt(a++),!(o=Zt[i in dt?e.charAt(a++):i])||(r=o(t,n,r))<0)return-1}else if(i!=n.charCodeAt(r++))return-1}return r}function c(t,e,n){var r=Bt.exec(e.slice(n));return r?(t.p=Vt[r[0].toLowerCase()],n+r[0].length):-1}function vt(t,e,n){var r=Ht.exec(e.slice(n));return r?(t.w=qt[r[0].toLowerCase()],n+r[0].length):-1}function gt(t,e,n){var r=Wt.exec(e.slice(n));return r?(t.w=zt[r[0].toLowerCase()],n+r[0].length):-1}function mt(t,e,n){var r=Gt.exec(e.slice(n));return r?(t.m=$t[r[0].toLowerCase()],n+r[0].length):-1}function yt(t,e,n){var r=Yt.exec(e.slice(n));return r?(t.m=Kt[r[0].toLowerCase()],n+r[0].length):-1}function _t(t,e,n){return u(t,Ot,e,n)}function bt(t,e,n){return u(t,It,e,n)}function xt(t,e,n){return u(t,Dt,e,n)}function wt(t){return Ut[t.getDay()]}function Ct(t){return Lt[t.getDay()]}function kt(t){return jt[t.getMonth()]}function Et(t){return Ft[t.getMonth()]}function Mt(t){return Rt[+(t.getHours()>=12)]}function Tt(t){return Ut[t.getUTCDay()]}function St(t){return Lt[t.getUTCDay()]}function Nt(t){return jt[t.getUTCMonth()]}function At(t){return Ft[t.getUTCMonth()]}function Pt(t){return Rt[+(t.getUTCHours()>=12)]}var Ot=t.dateTime,It=t.date,Dt=t.time,Rt=t.periods,Lt=t.days,Ut=t.shortDays,Ft=t.months,jt=t.shortMonths,Bt=s(Rt),Vt=l(Rt),Wt=s(Lt),zt=l(Lt),Ht=s(Ut),qt=l(Ut),Yt=s(Ft),Kt=l(Ft),Gt=s(jt),$t=l(jt),Xt={a:wt,A:Ct,b:kt,B:Et,c:null,d:A,e:A,f:R,H:P,I:O,j:I,L:D,m:L,M:U,p:Mt,Q:ft,s:pt,S:F,u:j,U:B,V:V,w:W,W:z,x:null,X:null,y:H,Y:q,Z:Y,\"%\":lt},Qt={a:Tt,A:St,b:Nt,B:At,c:null,d:K,e:K,f:Z,H:G,I:$,j:X,L:Q,m:J,M:tt,p:Pt,Q:ft,s:pt,S:et,u:nt,U:rt,V:it,w:ot,W:at,x:null,X:null,y:ut,Y:ct,Z:st,\"%\":lt},Zt={a:vt,A:gt,b:mt,B:yt,c:_t,d:b,e:b,f:M,H:w,I:w,j:x,L:E,m:_,M:C,p:c,Q:S,s:N,S:k,u:p,U:h,V:d,w:f,W:v,x:bt,X:xt,y:m,Y:g,Z:y,\"%\":T};return Xt.x=e(It,Xt),Xt.X=e(Dt,Xt),Xt.c=e(Ot,Xt),Qt.x=e(It,Qt),Qt.X=e(Dt,Qt),Qt.c=e(Ot,Qt),{format:function(t){var n=e(t+=\"\",Xt);return n.toString=function(){return t},n},parse:function(t){var e=a(t+=\"\",r);return e.toString=function(){return t},e},utcFormat:function(t){var n=e(t+=\"\",Qt);return n.toString=function(){return t},n},utcParse:function(t){var e=a(t,i);return e.toString=function(){return t},e}}}function u(t,e,n){var r=t<0?\"-\":\"\",i=(r?-t:t)+\"\",o=i.length;return r+(o<n?new Array(n-o+1).join(e)+i:i)}function c(t){return t.replace(mt,\"\\\\$&\")}function s(t){return new RegExp(\"^(?:\"+t.map(c).join(\"|\")+\")\",\"i\")}function l(t){for(var e={},n=-1,r=t.length;++n<r;)e[t[n].toLowerCase()]=n;return e}function f(t,e,n){var r=vt.exec(e.slice(n,n+1));return r?(t.w=+r[0],n+r[0].length):-1}function p(t,e,n){var r=vt.exec(e.slice(n,n+1));return r?(t.u=+r[0],n+r[0].length):-1}function h(t,e,n){var r=vt.exec(e.slice(n,n+2));return r?(t.U=+r[0],n+r[0].length):-1}function d(t,e,n){var r=vt.exec(e.slice(n,n+2));return r?(t.V=+r[0],n+r[0].length):-1}function v(t,e,n){var r=vt.exec(e.slice(n,n+2));return r?(t.W=+r[0],n+r[0].length):-1}function g(t,e,n){var r=vt.exec(e.slice(n,n+4));return r?(t.y=+r[0],n+r[0].length):-1}function m(t,e,n){var r=vt.exec(e.slice(n,n+2));return r?(t.y=+r[0]+(+r[0]>68?1900:2e3),n+r[0].length):-1}function y(t,e,n){var r=/^(Z)|([+-]\\d\\d)(?::?(\\d\\d))?/.exec(e.slice(n,n+6));return r?(t.Z=r[1]?0:-(r[2]+(r[3]||\"00\")),n+r[0].length):-1}function _(t,e,n){var r=vt.exec(e.slice(n,n+2));return r?(t.m=r[0]-1,n+r[0].length):-1}function b(t,e,n){var r=vt.exec(e.slice(n,n+2));return r?(t.d=+r[0],n+r[0].length):-1}function x(t,e,n){var r=vt.exec(e.slice(n,n+3));return r?(t.m=0,t.d=+r[0],n+r[0].length):-1}function w(t,e,n){var r=vt.exec(e.slice(n,n+2));return r?(t.H=+r[0],n+r[0].length):-1}function C(t,e,n){var r=vt.exec(e.slice(n,n+2));return r?(t.M=+r[0],n+r[0].length):-1}function k(t,e,n){var r=vt.exec(e.slice(n,n+2));return r?(t.S=+r[0],n+r[0].length):-1}function E(t,e,n){var r=vt.exec(e.slice(n,n+3));return r?(t.L=+r[0],n+r[0].length):-1}function M(t,e,n){var r=vt.exec(e.slice(n,n+6));return r?(t.L=Math.floor(r[0]/1e3),n+r[0].length):-1}function T(t,e,n){var r=gt.exec(e.slice(n,n+1));return r?n+r[0].length:-1}function S(t,e,n){var r=vt.exec(e.slice(n));return r?(t.Q=+r[0],n+r[0].length):-1}function N(t,e,n){var r=vt.exec(e.slice(n));return r?(t.Q=1e3*+r[0],n+r[0].length):-1}function A(t,e){return u(t.getDate(),e,2)}function P(t,e){return u(t.getHours(),e,2)}function O(t,e){return u(t.getHours()%12||12,e,2)}function I(t,e){return u(1+ht.d.count(n.i(ht.e)(t),t),e,3)}function D(t,e){return u(t.getMilliseconds(),e,3)}function R(t,e){return D(t,e)+\"000\"}function L(t,e){return u(t.getMonth()+1,e,2)}function U(t,e){return u(t.getMinutes(),e,2)}function F(t,e){return u(t.getSeconds(),e,2)}function j(t){var e=t.getDay();return 0===e?7:e}function B(t,e){return u(ht.f.count(n.i(ht.e)(t),t),e,2)}function V(t,e){var r=t.getDay();return t=r>=4||0===r?n.i(ht.g)(t):ht.g.ceil(t),u(ht.g.count(n.i(ht.e)(t),t)+(4===n.i(ht.e)(t).getDay()),e,2)}function W(t){return t.getDay()}function z(t,e){return u(ht.c.count(n.i(ht.e)(t),t),e,2)}function H(t,e){return u(t.getFullYear()%100,e,2)}function q(t,e){return u(t.getFullYear()%1e4,e,4)}function Y(t){var e=t.getTimezoneOffset();return(e>0?\"-\":(e*=-1,\"+\"))+u(e/60|0,\"0\",2)+u(e%60,\"0\",2)}function K(t,e){return u(t.getUTCDate(),e,2)}function G(t,e){return u(t.getUTCHours(),e,2)}function $(t,e){return u(t.getUTCHours()%12||12,e,2)}function X(t,e){return u(1+ht.b.count(n.i(ht.h)(t),t),e,3)}function Q(t,e){return u(t.getUTCMilliseconds(),e,3)}function Z(t,e){return Q(t,e)+\"000\"}function J(t,e){return u(t.getUTCMonth()+1,e,2)}function tt(t,e){return u(t.getUTCMinutes(),e,2)}function et(t,e){return u(t.getUTCSeconds(),e,2)}function nt(t){var e=t.getUTCDay();return 0===e?7:e}function rt(t,e){return u(ht.i.count(n.i(ht.h)(t),t),e,2)}function it(t,e){var r=t.getUTCDay();return t=r>=4||0===r?n.i(ht.j)(t):ht.j.ceil(t),u(ht.j.count(n.i(ht.h)(t),t)+(4===n.i(ht.h)(t).getUTCDay()),e,2)}function ot(t){return t.getUTCDay()}function at(t,e){return u(ht.a.count(n.i(ht.h)(t),t),e,2)}function ut(t,e){return u(t.getUTCFullYear()%100,e,2)}function ct(t,e){return u(t.getUTCFullYear()%1e4,e,4)}function st(){return\"+0000\"}function lt(){return\"%\"}function ft(t){return+t}function pt(t){return Math.floor(+t/1e3)}e.a=a;var ht=n(80),dt={\"-\":\"\",_:\" \",0:\"0\"},vt=/^\\s*\\d+/,gt=/^%/,mt=/[\\\\^$*+?|[\\]().{}]/g},function(t,e,n){\"use strict\";var r=n(11),i={listen:function(t,e,n){return t.addEventListener?(t.addEventListener(e,n,!1),{remove:function(){t.removeEventListener(e,n,!1)}}):t.attachEvent?(t.attachEvent(\"on\"+e,n),{remove:function(){t.detachEvent(\"on\"+e,n)}}):void 0},capture:function(t,e,n){return t.addEventListener?(t.addEventListener(e,n,!0),{remove:function(){t.removeEventListener(e,n,!0)}}):{remove:r}},registerDefault:function(){}};t.exports=i},function(t,e,n){\"use strict\";function r(t){try{t.focus()}catch(t){}}t.exports=r},function(t,e,n){\"use strict\";function r(t){if(void 0===(t=t||(\"undefined\"!=typeof document?document:void 0)))return null;try{return t.activeElement||t.body}catch(e){return t.body}}t.exports=r},function(t,e){function n(){throw new Error(\"setTimeout has not been defined\")}function r(){throw new Error(\"clearTimeout has not been defined\")}function i(t){if(l===setTimeout)return setTimeout(t,0);if((l===n||!l)&&setTimeout)return l=setTimeout,setTimeout(t,0);try{return l(t,0)}catch(e){try{return l.call(null,t,0)}catch(e){return l.call(this,t,0)}}}function o(t){if(f===clearTimeout)return clearTimeout(t);if((f===r||!f)&&clearTimeout)return f=clearTimeout,clearTimeout(t);try{return f(t)}catch(e){try{return f.call(null,t)}catch(e){return f.call(this,t)}}}function a(){v&&h&&(v=!1,h.length?d=h.concat(d):g=-1,d.length&&u())}function u(){if(!v){var t=i(a);v=!0;for(var e=d.length;e;){for(h=d,d=[];++g<e;)h&&h[g].run();g=-1,e=d.length}h=null,v=!1,o(t)}}function c(t,e){this.fun=t,this.array=e}function s(){}var l,f,p=t.exports={};!function(){try{l=\"function\"==typeof setTimeout?setTimeout:n}catch(t){l=n}try{f=\"function\"==typeof clearTimeout?clearTimeout:r}catch(t){f=r}}();var h,d=[],v=!1,g=-1;p.nextTick=function(t){var e=new Array(arguments.length-1);if(arguments.length>1)for(var n=1;n<arguments.length;n++)e[n-1]=arguments[n];d.push(new c(t,e)),1!==d.length||v||i(u)},c.prototype.run=function(){this.fun.apply(null,this.array)},p.title=\"browser\",p.browser=!0,p.env={},p.argv=[],p.version=\"\",p.versions={},p.on=s,p.addListener=s,p.once=s,p.off=s,p.removeListener=s,p.removeAllListeners=s,p.emit=s,p.prependListener=s,p.prependOnceListener=s,p.listeners=function(t){return[]},p.binding=function(t){throw new Error(\"process.binding is not supported\")},p.cwd=function(){return\"/\"},p.chdir=function(t){throw new Error(\"process.chdir is not supported\")},p.umask=function(){return 0}},function(t,e,n){\"use strict\";var r=n(343);t.exports=function(t){return r(t,!1)}},function(t,e,n){\"use strict\";function r(t,e){return t+e.charAt(0).toUpperCase()+e.substring(1)}var i={animationIterationCount:!0,borderImageOutset:!0,borderImageSlice:!0,borderImageWidth:!0,boxFlex:!0,boxFlexGroup:!0,boxOrdinalGroup:!0,columnCount:!0,columns:!0,flex:!0,flexGrow:!0,flexPositive:!0,flexShrink:!0,flexNegative:!0,flexOrder:!0,gridRow:!0,gridRowEnd:!0,gridRowSpan:!0,gridRowStart:!0,gridColumn:!0,gridColumnEnd:!0,gridColumnSpan:!0,gridColumnStart:!0,fontWeight:!0,lineClamp:!0,lineHeight:!0,opacity:!0,order:!0,orphans:!0,tabSize:!0,widows:!0,zIndex:!0,zoom:!0,fillOpacity:!0,floodOpacity:!0,stopOpacity:!0,strokeDasharray:!0,strokeDashoffset:!0,strokeMiterlimit:!0,strokeOpacity:!0,strokeWidth:!0},o=[\"Webkit\",\"ms\",\"Moz\",\"O\"];Object.keys(i).forEach(function(t){o.forEach(function(e){i[r(e,t)]=i[t]})});var a={background:{backgroundAttachment:!0,backgroundColor:!0,backgroundImage:!0,backgroundPositionX:!0,backgroundPositionY:!0,backgroundRepeat:!0},backgroundPosition:{backgroundPositionX:!0,backgroundPositionY:!0},border:{borderWidth:!0,borderStyle:!0,borderColor:!0},borderBottom:{borderBottomWidth:!0,borderBottomStyle:!0,borderBottomColor:!0},borderLeft:{borderLeftWidth:!0,borderLeftStyle:!0,borderLeftColor:!0},borderRight:{borderRightWidth:!0,borderRightStyle:!0,borderRightColor:!0},borderTop:{borderTopWidth:!0,borderTopStyle:!0,borderTopColor:!0},font:{fontStyle:!0,fontVariant:!0,fontWeight:!0,fontSize:!0,lineHeight:!0,fontFamily:!0},outline:{outlineWidth:!0,outlineStyle:!0,outlineColor:!0}},u={isUnitlessNumber:i,shorthandPropertyExpansions:a};t.exports=u},function(t,e,n){\"use strict\";function r(t,e){if(!(t instanceof e))throw new TypeError(\"Cannot call a class as a function\")}var i=n(1),o=n(18),a=(n(0),function(){function t(e){r(this,t),this._callbacks=null,this._contexts=null,this._arg=e}return t.prototype.enqueue=function(t,e){this._callbacks=this._callbacks||[],this._callbacks.push(t),this._contexts=this._contexts||[],this._contexts.push(e)},t.prototype.notifyAll=function(){var t=this._callbacks,e=this._contexts,n=this._arg;if(t&&e){t.length!==e.length&&i(\"24\"),this._callbacks=null,this._contexts=null;for(var r=0;r<t.length;r++)t[r].call(e[r],n);t.length=0,e.length=0}},t.prototype.checkpoint=function(){return this._callbacks?this._callbacks.length:0},t.prototype.rollback=function(t){this._callbacks&&this._contexts&&(this._callbacks.length=t,this._contexts.length=t)},t.prototype.reset=function(){this._callbacks=null,this._contexts=null},t.prototype.destructor=function(){this.reset()},t}());t.exports=o.addPoolingTo(a)},function(t,e,n){\"use strict\";function r(t){return!!s.hasOwnProperty(t)||!c.hasOwnProperty(t)&&(u.test(t)?(s[t]=!0,!0):(c[t]=!0,!1))}function i(t,e){return null==e||t.hasBooleanValue&&!e||t.hasNumericValue&&isNaN(e)||t.hasPositiveNumericValue&&e<1||t.hasOverloadedBooleanValue&&!1===e}var o=n(21),a=(n(4),n(9),n(407)),u=(n(2),new RegExp(\"^[\"+o.ATTRIBUTE_NAME_START_CHAR+\"][\"+o.ATTRIBUTE_NAME_CHAR+\"]*$\")),c={},s={},l={createMarkupForID:function(t){return o.ID_ATTRIBUTE_NAME+\"=\"+a(t)},setAttributeForID:function(t,e){t.setAttribute(o.ID_ATTRIBUTE_NAME,e)},createMarkupForRoot:function(){return o.ROOT_ATTRIBUTE_NAME+'=\"\"'},setAttributeForRoot:function(t){t.setAttribute(o.ROOT_ATTRIBUTE_NAME,\"\")},createMarkupForProperty:function(t,e){var n=o.properties.hasOwnProperty(t)?o.properties[t]:null;if(n){if(i(n,e))return\"\";var r=n.attributeName;return n.hasBooleanValue||n.hasOverloadedBooleanValue&&!0===e?r+'=\"\"':r+\"=\"+a(e)}return o.isCustomAttribute(t)?null==e?\"\":t+\"=\"+a(e):null},createMarkupForCustomAttribute:function(t,e){return r(t)&&null!=e?t+\"=\"+a(e):\"\"},setValueForProperty:function(t,e,n){var r=o.properties.hasOwnProperty(e)?o.properties[e]:null;if(r){var a=r.mutationMethod;if(a)a(t,n);else{if(i(r,n))return void this.deleteValueForProperty(t,e);if(r.mustUseProperty)t[r.propertyName]=n;else{var u=r.attributeName,c=r.attributeNamespace;c?t.setAttributeNS(c,u,\"\"+n):r.hasBooleanValue||r.hasOverloadedBooleanValue&&!0===n?t.setAttribute(u,\"\"):t.setAttribute(u,\"\"+n)}}}else if(o.isCustomAttribute(e))return void l.setValueForAttribute(t,e,n)},setValueForAttribute:function(t,e,n){if(r(e)){null==n?t.removeAttribute(e):t.setAttribute(e,\"\"+n)}},deleteValueForAttribute:function(t,e){t.removeAttribute(e)},deleteValueForProperty:function(t,e){var n=o.properties.hasOwnProperty(e)?o.properties[e]:null;if(n){var r=n.mutationMethod;if(r)r(t,void 0);else if(n.mustUseProperty){var i=n.propertyName;n.hasBooleanValue?t[i]=!1:t[i]=\"\"}else t.removeAttribute(n.attributeName)}else o.isCustomAttribute(e)&&t.removeAttribute(e)}};t.exports=l},function(t,e,n){\"use strict\";var r={hasCachedChildNodes:1};t.exports=r},function(t,e,n){\"use strict\";function r(){if(this._rootNodeID&&this._wrapperState.pendingUpdate){this._wrapperState.pendingUpdate=!1;var t=this._currentElement.props,e=u.getValue(t);null!=e&&i(this,Boolean(t.multiple),e)}}function i(t,e,n){var r,i,o=c.getNodeFromInstance(t).options;if(e){for(r={},i=0;i<n.length;i++)r[\"\"+n[i]]=!0;for(i=0;i<o.length;i++){var a=r.hasOwnProperty(o[i].value);o[i].selected!==a&&(o[i].selected=a)}}else{for(r=\"\"+n,i=0;i<o.length;i++)if(o[i].value===r)return void(o[i].selected=!0);o.length&&(o[0].selected=!0)}}function o(t){var e=this._currentElement.props,n=u.executeOnChange(e,t);return this._rootNodeID&&(this._wrapperState.pendingUpdate=!0),s.asap(r,this),n}var a=n(3),u=n(86),c=n(4),s=n(12),l=(n(2),!1),f={getHostProps:function(t,e){return a({},e,{onChange:t._wrapperState.onChange,value:void 0})},mountWrapper:function(t,e){var n=u.getValue(e);t._wrapperState={pendingUpdate:!1,initialValue:null!=n?n:e.defaultValue,listeners:null,onChange:o.bind(t),wasMultiple:Boolean(e.multiple)},void 0===e.value||void 0===e.defaultValue||l||(l=!0)},getSelectValueContext:function(t){return t._wrapperState.initialValue},postUpdateWrapper:function(t){var e=t._currentElement.props;t._wrapperState.initialValue=void 0;var n=t._wrapperState.wasMultiple;t._wrapperState.wasMultiple=Boolean(e.multiple);var r=u.getValue(e);null!=r?(t._wrapperState.pendingUpdate=!1,i(t,Boolean(e.multiple),r)):n!==Boolean(e.multiple)&&(null!=e.defaultValue?i(t,Boolean(e.multiple),e.defaultValue):i(t,Boolean(e.multiple),e.multiple?[]:\"\"))}};t.exports=f},function(t,e,n){\"use strict\";var r,i={injectEmptyComponentFactory:function(t){r=t}},o={create:function(t){return r(t)}};o.injection=i,t.exports=o},function(t,e,n){\"use strict\";var r={logTopLevelRenders:!1};t.exports=r},function(t,e,n){\"use strict\";function r(t){return u||a(\"111\",t.type),new u(t)}function i(t){return new c(t)}function o(t){return t instanceof c}var a=n(1),u=(n(0),null),c=null,s={injectGenericComponentClass:function(t){u=t},injectTextComponentClass:function(t){c=t}},l={createInternalComponent:r,createInstanceForText:i,isTextComponent:o,injection:s};t.exports=l},function(t,e,n){\"use strict\";function r(t){return o(document.documentElement,t)}var i=n(367),o=n(331),a=n(154),u=n(155),c={hasSelectionCapabilities:function(t){var e=t&&t.nodeName&&t.nodeName.toLowerCase();return e&&(\"input\"===e&&\"text\"===t.type||\"textarea\"===e||\"true\"===t.contentEditable)},getSelectionInformation:function(){var t=u();return{focusedElem:t,selectionRange:c.hasSelectionCapabilities(t)?c.getSelection(t):null}},restoreSelection:function(t){var e=u(),n=t.focusedElem,i=t.selectionRange;e!==n&&r(n)&&(c.hasSelectionCapabilities(n)&&c.setSelection(n,i),a(n))},getSelection:function(t){var e;if(\"selectionStart\"in t)e={start:t.selectionStart,end:t.selectionEnd};else if(document.selection&&t.nodeName&&\"input\"===t.nodeName.toLowerCase()){var n=document.selection.createRange();n.parentElement()===t&&(e={start:-n.moveStart(\"character\",-t.value.length),end:-n.moveEnd(\"character\",-t.value.length)})}else e=i.getOffsets(t);return e||{start:0,end:0}},setSelection:function(t,e){var n=e.start,r=e.end;if(void 0===r&&(r=n),\"selectionStart\"in t)t.selectionStart=n,t.selectionEnd=Math.min(r,t.value.length);else if(document.selection&&t.nodeName&&\"input\"===t.nodeName.toLowerCase()){var o=t.createTextRange();o.collapse(!0),o.moveStart(\"character\",n),o.moveEnd(\"character\",r-n),o.select()}else i.setOffsets(t,e)}};t.exports=c},function(t,e,n){\"use strict\";function r(t,e){for(var n=Math.min(t.length,e.length),r=0;r<n;r++)if(t.charAt(r)!==e.charAt(r))return r;return t.length===e.length?-1:n}function i(t){return t?t.nodeType===D?t.documentElement:t.firstChild:null}function o(t){return t.getAttribute&&t.getAttribute(P)||\"\"}function a(t,e,n,r,i){var o;if(x.logTopLevelRenders){var a=t._currentElement.props.child,u=a.type;o=\"React mount: \"+(\"string\"==typeof u?u:u.displayName||u.name),console.time(o)}var c=k.mountComponent(t,n,null,_(t,e),i,0);o&&console.timeEnd(o),t._renderedComponent._topLevelWrapper=t,j._mountImageIntoNode(c,e,t,r,n)}function u(t,e,n,r){var i=M.ReactReconcileTransaction.getPooled(!n&&b.useCreateElement);i.perform(a,null,t,e,i,n,r),M.ReactReconcileTransaction.release(i)}function c(t,e,n){for(k.unmountComponent(t,n),e.nodeType===D&&(e=e.documentElement);e.lastChild;)e.removeChild(e.lastChild)}function s(t){var e=i(t);if(e){var n=y.getInstanceFromNode(e);return!(!n||!n._hostParent)}}function l(t){return!(!t||t.nodeType!==I&&t.nodeType!==D&&t.nodeType!==R)}function f(t){var e=i(t),n=e&&y.getInstanceFromNode(e);return n&&!n._hostParent?n:null}function p(t){var e=f(t);return e?e._hostContainerInfo._topLevelWrapper:null}var h=n(1),d=n(20),v=n(21),g=n(26),m=n(53),y=(n(15),n(4)),_=n(361),b=n(363),x=n(164),w=n(39),C=(n(9),n(377)),k=n(24),E=n(89),M=n(12),T=n(51),S=n(174),N=(n(0),n(57)),A=n(96),P=(n(2),v.ID_ATTRIBUTE_NAME),O=v.ROOT_ATTRIBUTE_NAME,I=1,D=9,R=11,L={},U=1,F=function(){this.rootID=U++};F.prototype.isReactComponent={},F.prototype.render=function(){return this.props.child},F.isReactTopLevelWrapper=!0;var j={TopLevelWrapper:F,_instancesByReactRootID:L,scrollMonitor:function(t,e){e()},_updateRootComponent:function(t,e,n,r,i){return j.scrollMonitor(r,function(){E.enqueueElementInternal(t,e,n),i&&E.enqueueCallbackInternal(t,i)}),t},_renderNewRootComponent:function(t,e,n,r){l(e)||h(\"37\"),m.ensureScrollValueMonitoring();var i=S(t,!1);M.batchedUpdates(u,i,e,n,r);var o=i._instance.rootID;return L[o]=i,i},renderSubtreeIntoContainer:function(t,e,n,r){return null!=t&&w.has(t)||h(\"38\"),j._renderSubtreeIntoContainer(t,e,n,r)},_renderSubtreeIntoContainer:function(t,e,n,r){E.validateCallback(r,\"ReactDOM.render\"),g.isValidElement(e)||h(\"39\",\"string\"==typeof e?\" Instead of passing a string like 'div', pass React.createElement('div') or <div />.\":\"function\"==typeof e?\" Instead of passing a class like Foo, pass React.createElement(Foo) or <Foo />.\":null!=e&&void 0!==e.props?\" This may be caused by unintentionally loading two independent copies of React.\":\"\");var a,u=g.createElement(F,{child:e});if(t){var c=w.get(t);a=c._processChildContext(c._context)}else a=T;var l=p(n);if(l){var f=l._currentElement,d=f.props.child;if(A(d,e)){var v=l._renderedComponent.getPublicInstance(),m=r&&function(){r.call(v)};return j._updateRootComponent(l,u,a,n,m),v}j.unmountComponentAtNode(n)}var y=i(n),_=y&&!!o(y),b=s(n),x=_&&!l&&!b,C=j._renderNewRootComponent(u,n,x,a)._renderedComponent.getPublicInstance();return r&&r.call(C),C},render:function(t,e,n){return j._renderSubtreeIntoContainer(null,t,e,n)},unmountComponentAtNode:function(t){l(t)||h(\"40\");var e=p(t);if(!e){s(t),1===t.nodeType&&t.hasAttribute(O);return!1}return delete L[e._instance.rootID],M.batchedUpdates(c,e,t,!1),!0},_mountImageIntoNode:function(t,e,n,o,a){if(l(e)||h(\"41\"),o){var u=i(e);if(C.canReuseMarkup(t,u))return void y.precacheNode(n,u);var c=u.getAttribute(C.CHECKSUM_ATTR_NAME);u.removeAttribute(C.CHECKSUM_ATTR_NAME);var s=u.outerHTML;u.setAttribute(C.CHECKSUM_ATTR_NAME,c);var f=t,p=r(f,s),v=\" (client) \"+f.substring(p-20,p+20)+\"\\n (server) \"+s.substring(p-20,p+20);e.nodeType===D&&h(\"42\",v)}if(e.nodeType===D&&h(\"43\"),a.useCreateElement){for(;e.lastChild;)e.removeChild(e.lastChild);d.insertTreeBefore(e,t,null)}else N(e,t),y.precacheNode(n,e.firstChild)}};t.exports=j},function(t,e,n){\"use strict\";var r=n(1),i=n(26),o=(n(0),{HOST:0,COMPOSITE:1,EMPTY:2,getType:function(t){return null===t||!1===t?o.EMPTY:i.isValidElement(t)?\"function\"==typeof t.type?o.COMPOSITE:o.HOST:void r(\"26\",t)}});t.exports=o},function(t,e,n){\"use strict\";function r(t,e){return null==e&&i(\"30\"),null==t?e:Array.isArray(t)?Array.isArray(e)?(t.push.apply(t,e),t):(t.push(e),t):Array.isArray(e)?[t].concat(e):[t,e]}var i=n(1);n(0);t.exports=r},function(t,e,n){\"use strict\";function r(t,e,n){Array.isArray(t)?t.forEach(e,n):t&&e.call(n,t)}t.exports=r},function(t,e,n){\"use strict\";function r(t){for(var e;(e=t._renderedNodeType)===i.COMPOSITE;)t=t._renderedComponent;return e===i.HOST?t._renderedComponent:e===i.EMPTY?null:void 0}var i=n(168);t.exports=r},function(t,e,n){\"use strict\";function r(){return!o&&i.canUseDOM&&(o=\"textContent\"in document.documentElement?\"textContent\":\"innerText\"),o}var i=n(6),o=null;t.exports=r},function(t,e,n){\"use strict\";function r(t){var e=t.type,n=t.nodeName;return n&&\"input\"===n.toLowerCase()&&(\"checkbox\"===e||\"radio\"===e)}function i(t){return t._wrapperState.valueTracker}function o(t,e){t._wrapperState.valueTracker=e}function a(t){t._wrapperState.valueTracker=null}function u(t){var e;return t&&(e=r(t)?\"\"+t.checked:t.value),e}var c=n(4),s={_getTrackerFromNode:function(t){return i(c.getInstanceFromNode(t))},track:function(t){if(!i(t)){var e=c.getNodeFromInstance(t),n=r(e)?\"checked\":\"value\",u=Object.getOwnPropertyDescriptor(e.constructor.prototype,n),s=\"\"+e[n];e.hasOwnProperty(n)||\"function\"!=typeof u.get||\"function\"!=typeof u.set||(Object.defineProperty(e,n,{enumerable:u.enumerable,configurable:!0,get:function(){return u.get.call(this)},set:function(t){s=\"\"+t,u.set.call(this,t)}}),o(t,{getValue:function(){return s},setValue:function(t){s=\"\"+t},stopTracking:function(){a(t),delete e[n]}}))}},updateValueIfChanged:function(t){if(!t)return!1;var e=i(t);if(!e)return s.track(t),!0;var n=e.getValue(),r=u(c.getNodeFromInstance(t));return r!==n&&(e.setValue(r),!0)},stopTracking:function(t){var e=i(t);e&&e.stopTracking()}};t.exports=s},function(t,e,n){\"use strict\";function r(t){if(t){var e=t.getName();if(e)return\" Check the render method of `\"+e+\"`.\"}return\"\"}function i(t){return\"function\"==typeof t&&void 0!==t.prototype&&\"function\"==typeof t.prototype.mountComponent&&\"function\"==typeof t.prototype.receiveComponent}function o(t,e){var n;if(null===t||!1===t)n=s.create(o);else if(\"object\"==typeof t){var u=t,c=u.type;if(\"function\"!=typeof c&&\"string\"!=typeof c){var p=\"\";p+=r(u._owner),a(\"130\",null==c?c:typeof c,p)}\"string\"==typeof u.type?n=l.createInternalComponent(u):i(u.type)?(n=new u.type(u),n.getHostNode||(n.getHostNode=n.getNativeNode)):n=new f(u)}else\"string\"==typeof t||\"number\"==typeof t?n=l.createInstanceForText(t):a(\"131\",typeof t);return n._mountIndex=0,n._mountImage=null,n}var a=n(1),u=n(3),c=n(358),s=n(163),l=n(165),f=(n(420),n(0),n(2),function(t){this.construct(t)});u(f.prototype,c,{_instantiateReactComponent:o}),t.exports=o},function(t,e,n){\"use strict\";function r(t){var e=t&&t.nodeName&&t.nodeName.toLowerCase();return\"input\"===e?!!i[t.type]:\"textarea\"===e}var i={color:!0,date:!0,datetime:!0,\"datetime-local\":!0,email:!0,month:!0,number:!0,password:!0,range:!0,search:!0,tel:!0,text:!0,time:!0,url:!0,week:!0};t.exports=r},function(t,e,n){\"use strict\";var r=n(6),i=n(56),o=n(57),a=function(t,e){if(e){var n=t.firstChild;if(n&&n===t.lastChild&&3===n.nodeType)return void(n.nodeValue=e)}t.textContent=e};r.canUseDOM&&(\"textContent\"in document.documentElement||(a=function(t,e){if(3===t.nodeType)return void(t.nodeValue=e);o(t,i(e))})),t.exports=a},function(t,e,n){\"use strict\";function r(t,e){return t&&\"object\"==typeof t&&null!=t.key?s.escape(t.key):e.toString(36)}function i(t,e,n,o){var p=typeof t;if(\"undefined\"!==p&&\"boolean\"!==p||(t=null),null===t||\"string\"===p||\"number\"===p||\"object\"===p&&t.$$typeof===u)return n(o,t,\"\"===e?l+r(t,0):e),1;var h,d,v=0,g=\"\"===e?l:e+f;if(Array.isArray(t))for(var m=0;m<t.length;m++)h=t[m],d=g+r(h,m),v+=i(h,d,n,o);else{var y=c(t);if(y){var _,b=y.call(t);if(y!==t.entries)for(var x=0;!(_=b.next()).done;)h=_.value,d=g+r(h,x++),v+=i(h,d,n,o);else for(;!(_=b.next()).done;){var w=_.value;w&&(h=w[1],d=g+s.escape(w[0])+f+r(h,0),v+=i(h,d,n,o))}}else if(\"object\"===p){var C=\"\",k=String(t);a(\"31\",\"[object Object]\"===k?\"object with keys {\"+Object.keys(t).join(\", \")+\"}\":k,C)}}return v}function o(t,e,n){return null==t?0:i(t,\"\",e,n)}var a=n(1),u=(n(15),n(373)),c=n(404),s=(n(0),n(85)),l=(n(2),\".\"),f=\":\";t.exports=o},function(t,e,n){\"use strict\";function r(t,e,n){this.props=t,this.context=e,this.refs=s,this.updater=n||c}function i(t,e,n){this.props=t,this.context=e,this.refs=s,this.updater=n||c}function o(){}var a=n(40),u=n(3),c=n(181),s=(n(182),n(51));n(0),n(421);r.prototype.isReactComponent={},r.prototype.setState=function(t,e){\"object\"!=typeof t&&\"function\"!=typeof t&&null!=t&&a(\"85\"),this.updater.enqueueSetState(this,t),e&&this.updater.enqueueCallback(this,e,\"setState\")},r.prototype.forceUpdate=function(t){this.updater.enqueueForceUpdate(this),t&&this.updater.enqueueCallback(this,t,\"forceUpdate\")};o.prototype=r.prototype,i.prototype=new o,i.prototype.constructor=i,u(i.prototype,r.prototype),i.prototype.isPureReactComponent=!0,t.exports={Component:r,PureComponent:i}},function(t,e,n){\"use strict\";function r(t){var e=Function.prototype.toString,n=Object.prototype.hasOwnProperty,r=RegExp(\"^\"+e.call(n).replace(/[\\\\^$.*+?()[\\]{}|]/g,\"\\\\$&\").replace(/hasOwnProperty|(function).*?(?=\\\\\\()| for .+?(?=\\\\\\])/g,\"$1.*?\")+\"$\");try{var i=e.call(t);return r.test(i)}catch(t){return!1}}function i(t){var e=s(t);if(e){var n=e.childIDs;l(t),n.forEach(i)}}function o(t,e,n){return\"\\n    in \"+(t||\"Unknown\")+(e?\" (at \"+e.fileName.replace(/^.*[\\\\\\/]/,\"\")+\":\"+e.lineNumber+\")\":n?\" (created by \"+n+\")\":\"\")}function a(t){return null==t?\"#empty\":\"string\"==typeof t||\"number\"==typeof t?\"#text\":\"string\"==typeof t.type?t.type:t.type.displayName||t.type.name||\"Unknown\"}function u(t){var e,n=E.getDisplayName(t),r=E.getElement(t),i=E.getOwnerID(t);return i&&(e=E.getDisplayName(i)),o(n,r&&r._source,e)}var c,s,l,f,p,h,d,v=n(40),g=n(15),m=(n(0),n(2),\"function\"==typeof Array.from&&\"function\"==typeof Map&&r(Map)&&null!=Map.prototype&&\"function\"==typeof Map.prototype.keys&&r(Map.prototype.keys)&&\"function\"==typeof Set&&r(Set)&&null!=Set.prototype&&\"function\"==typeof Set.prototype.keys&&r(Set.prototype.keys));if(m){var y=new Map,_=new Set;c=function(t,e){y.set(t,e)},s=function(t){return y.get(t)},l=function(t){y.delete(t)},f=function(){return Array.from(y.keys())},p=function(t){_.add(t)},h=function(t){_.delete(t)},d=function(){return Array.from(_.keys())}}else{var b={},x={},w=function(t){return\".\"+t},C=function(t){return parseInt(t.substr(1),10)};c=function(t,e){var n=w(t);b[n]=e},s=function(t){var e=w(t);return b[e]},l=function(t){var e=w(t);delete b[e]},f=function(){return Object.keys(b).map(C)},p=function(t){var e=w(t);x[e]=!0},h=function(t){var e=w(t);delete x[e]},d=function(){return Object.keys(x).map(C)}}var k=[],E={onSetChildren:function(t,e){var n=s(t);n||v(\"144\"),n.childIDs=e;for(var r=0;r<e.length;r++){var i=e[r],o=s(i);o||v(\"140\"),null==o.childIDs&&\"object\"==typeof o.element&&null!=o.element&&v(\"141\"),o.isMounted||v(\"71\"),null==o.parentID&&(o.parentID=t),o.parentID!==t&&v(\"142\",i,o.parentID,t)}},onBeforeMountComponent:function(t,e,n){c(t,{element:e,parentID:n,text:null,childIDs:[],isMounted:!1,updateCount:0})},onBeforeUpdateComponent:function(t,e){var n=s(t);n&&n.isMounted&&(n.element=e)},onMountComponent:function(t){var e=s(t);e||v(\"144\"),e.isMounted=!0,0===e.parentID&&p(t)},onUpdateComponent:function(t){var e=s(t);e&&e.isMounted&&e.updateCount++},onUnmountComponent:function(t){var e=s(t);if(e){e.isMounted=!1;0===e.parentID&&h(t)}k.push(t)},purgeUnmountedComponents:function(){if(!E._preventPurging){for(var t=0;t<k.length;t++){i(k[t])}k.length=0}},isMounted:function(t){var e=s(t);return!!e&&e.isMounted},getCurrentStackAddendum:function(t){var e=\"\";if(t){var n=a(t),r=t._owner;e+=o(n,t._source,r&&r.getName())}var i=g.current,u=i&&i._debugID;return e+=E.getStackAddendumByID(u)},getStackAddendumByID:function(t){for(var e=\"\";t;)e+=u(t),t=E.getParentID(t);return e},getChildIDs:function(t){var e=s(t);return e?e.childIDs:[]},getDisplayName:function(t){var e=E.getElement(t);return e?a(e):null},getElement:function(t){var e=s(t);return e?e.element:null},getOwnerID:function(t){var e=E.getElement(t);return e&&e._owner?e._owner._debugID:null},getParentID:function(t){var e=s(t);return e?e.parentID:null},getSource:function(t){var e=s(t),n=e?e.element:null;return null!=n?n._source:null},getText:function(t){var e=E.getElement(t);return\"string\"==typeof e?e:\"number\"==typeof e?\"\"+e:null},getUpdateCount:function(t){var e=s(t);return e?e.updateCount:0},getRootIDs:d,getRegisteredIDs:f,pushNonStandardWarningStack:function(t,e){if(\"function\"==typeof console.reactStack){var n=[],r=g.current,i=r&&r._debugID;try{for(t&&n.push({name:i?E.getDisplayName(i):null,fileName:e?e.fileName:null,lineNumber:e?e.lineNumber:null});i;){var o=E.getElement(i),a=E.getParentID(i),u=E.getOwnerID(i),c=u?E.getDisplayName(u):null,s=o&&o._source;n.push({name:c,fileName:s?s.fileName:null,lineNumber:s?s.lineNumber:null}),i=a}}catch(t){}console.reactStack(n)}},popNonStandardWarningStack:function(){\"function\"==typeof console.reactStackEnd&&console.reactStackEnd()}};t.exports=E},function(t,e,n){\"use strict\";var r=\"function\"==typeof Symbol&&Symbol.for&&Symbol.for(\"react.element\")||60103;t.exports=r},function(t,e,n){\"use strict\";var r=(n(2),{isMounted:function(t){return!1},enqueueCallback:function(t,e){},enqueueForceUpdate:function(t){},enqueueReplaceState:function(t,e){},enqueueSetState:function(t,e){}});t.exports=r},function(t,e,n){\"use strict\";var r=!1;t.exports=r},,function(t,e,n){\"use strict\";function r(t){return t&&t.__esModule?t:{default:t}}function i(t,e){if(!(t instanceof e))throw new TypeError(\"Cannot call a class as a function\")}function o(t,e){if(!t)throw new ReferenceError(\"this hasn't been initialised - super() hasn't been called\");return!e||\"object\"!=typeof e&&\"function\"!=typeof e?t:e}function a(t,e){if(\"function\"!=typeof e&&null!==e)throw new TypeError(\"Super expression must either be null or a function, not \"+typeof e);t.prototype=Object.create(e&&e.prototype,{constructor:{value:t,enumerable:!1,writable:!0,configurable:!0}}),e&&(Object.setPrototypeOf?Object.setPrototypeOf(t,e):t.__proto__=e)}Object.defineProperty(e,\"__esModule\",{value:!0});var u=\"function\"==typeof Symbol&&\"symbol\"==typeof Symbol.iterator?function(t){return typeof t}:function(t){return t&&\"function\"==typeof Symbol&&t.constructor===Symbol&&t!==Symbol.prototype?\"symbol\":typeof t},c=function(){function t(t,e){for(var n=0;n<e.length;n++){var r=e[n];r.enumerable=r.enumerable||!1,r.configurable=!0,\"value\"in r&&(r.writable=!0),Object.defineProperty(t,r.key,r)}}return function(e,n,r){return n&&t(e.prototype,n),r&&t(e,r),e}}(),s=n(41),l=r(s),f=n(129),p=n(66),h=(n(7),n(29)),d=n(78),v=n(112),g=n(136),m=n(10),y=n(38),_=n(58),b=r(_),x=function(t){function e(){i(this,e);var t=o(this,(e.__proto__||Object.getPrototypeOf(e)).call(this));return window.lastAdditiveForceArrayVisualizer=t,t.topOffset=28,t.leftOffset=80,t.height=350,t.effectFormat=(0,h.format)(\".2\"),t.redraw=(0,y.debounce)(function(){return t.draw()},200),t}return a(e,t),c(e,[{key:\"componentDidMount\",value:function(){var t=this;this.mainGroup=this.svg.append(\"g\"),this.onTopGroup=this.svg.append(\"g\"),this.xaxisElement=this.onTopGroup.append(\"g\").attr(\"transform\",\"translate(0,35)\").attr(\"class\",\"force-bar-array-xaxis\"),this.yaxisElement=this.onTopGroup.append(\"g\").attr(\"transform\",\"translate(0,35)\").attr(\"class\",\"force-bar-array-yaxis\"),this.hoverGroup1=this.svg.append(\"g\"),this.hoverGroup2=this.svg.append(\"g\"),this.baseValueTitle=this.svg.append(\"text\"),this.hoverLine=this.svg.append(\"line\"),this.hoverxOutline=this.svg.append(\"text\").attr(\"text-anchor\",\"middle\").attr(\"font-weight\",\"bold\").attr(\"fill\",\"#fff\").attr(\"stroke\",\"#fff\").attr(\"stroke-width\",\"6\").attr(\"font-size\",\"12px\"),this.hoverx=this.svg.append(\"text\").attr(\"text-anchor\",\"middle\").attr(\"font-weight\",\"bold\").attr(\"fill\",\"#000\").attr(\"font-size\",\"12px\"),this.hoverxTitle=this.svg.append(\"text\").attr(\"text-anchor\",\"middle\").attr(\"opacity\",.6).attr(\"font-size\",\"12px\"),this.hoveryOutline=this.svg.append(\"text\").attr(\"text-anchor\",\"end\").attr(\"font-weight\",\"bold\").attr(\"fill\",\"#fff\").attr(\"stroke\",\"#fff\").attr(\"stroke-width\",\"6\").attr(\"font-size\",\"12px\"),this.hovery=this.svg.append(\"text\").attr(\"text-anchor\",\"end\").attr(\"font-weight\",\"bold\").attr(\"fill\",\"#000\").attr(\"font-size\",\"12px\"),this.xlabel=this.wrapper.select(\".additive-force-array-xlabel\"),this.ylabel=this.wrapper.select(\".additive-force-array-ylabel\");var e=void 0;\"string\"==typeof this.props.plot_cmap?this.props.plot_cmap in b.default.colors?e=b.default.colors[this.props.plot_cmap]:(console.log(\"Invalid color map name, reverting to default.\"),e=b.default.colors.RdBu):Array.isArray(this.props.plot_cmap)&&(e=this.props.plot_cmap),this.colors=e.map(function(t){return(0,m.hsl)(t)}),this.brighterColors=[1.45,1.6].map(function(e,n){return t.colors[n].brighter(e)});var n=(0,h.format)(\",.4\");if(null!=this.props.ordering_keys&&null!=this.props.ordering_keys_time_format){var r=function(t){return\"object\"==(void 0===t?\"undefined\":u(t))?this.formatTime(t):n(t)};this.parseTime=(0,d.timeParse)(this.props.ordering_keys_time_format),this.formatTime=(0,d.timeFormat)(this.props.ordering_keys_time_format),this.xtickFormat=r}else this.parseTime=null,this.formatTime=null,this.xtickFormat=n;this.xscale=(0,p.scaleLinear)(),this.xaxis=(0,v.axisBottom)().scale(this.xscale).tickSizeInner(4).tickSizeOuter(0).tickFormat(function(e){return t.xtickFormat(e)}).tickPadding(-18),this.ytickFormat=n,this.yscale=(0,p.scaleLinear)(),this.yaxis=(0,v.axisLeft)().scale(this.yscale).tickSizeInner(4).tickSizeOuter(0).tickFormat(function(e){return t.ytickFormat(t.invLinkFunction(e))}).tickPadding(2),this.xlabel.node().onchange=function(){return t.internalDraw()},this.ylabel.node().onchange=function(){return t.internalDraw()},this.svg.on(\"mousemove\",function(e){return t.mouseMoved(e)}),this.svg.on(\"click\",function(e){return alert(\"This original index of the sample you clicked is \"+t.nearestExpIndex)}),this.svg.on(\"mouseout\",function(e){return t.mouseOut(e)}),window.addEventListener(\"resize\",this.redraw),window.setTimeout(this.redraw,50)}},{key:\"componentDidUpdate\",value:function(){this.draw()}},{key:\"mouseOut\",value:function(){this.hoverLine.attr(\"display\",\"none\"),this.hoverx.attr(\"display\",\"none\"),this.hoverxOutline.attr(\"display\",\"none\"),this.hoverxTitle.attr(\"display\",\"none\"),this.hovery.attr(\"display\",\"none\"),this.hoveryOutline.attr(\"display\",\"none\"),this.hoverGroup1.attr(\"display\",\"none\"),this.hoverGroup2.attr(\"display\",\"none\")}},{key:\"mouseMoved\",value:function(t){var e=this,n=void 0,r=void 0;this.hoverLine.attr(\"display\",\"\"),this.hoverx.attr(\"display\",\"\"),this.hoverxOutline.attr(\"display\",\"\"),this.hoverxTitle.attr(\"display\",\"\"),this.hovery.attr(\"display\",\"\"),this.hoveryOutline.attr(\"display\",\"\"),this.hoverGroup1.attr(\"display\",\"\"),this.hoverGroup2.attr(\"display\",\"\");var i=(0,f.mouse)(this.svg.node())[0];if(this.props.explanations){for(n=0;n<this.props.explanations.length;++n)(!r||Math.abs(r.xmapScaled-i)>Math.abs(this.props.explanations[n].xmapScaled-i))&&(r=this.props.explanations[n],this.nearestExpIndex=n);this.hoverLine.attr(\"x1\",r.xmapScaled).attr(\"x2\",r.xmapScaled).attr(\"y1\",0+this.topOffset).attr(\"y2\",this.height),this.hoverx.attr(\"x\",r.xmapScaled).attr(\"y\",this.topOffset-5).text(this.xtickFormat(r.xmap)),this.hoverxOutline.attr(\"x\",r.xmapScaled).attr(\"y\",this.topOffset-5).text(this.xtickFormat(r.xmap)),this.hoverxTitle.attr(\"x\",r.xmapScaled).attr(\"y\",this.topOffset-18).text(r.count>1?r.count+\" averaged samples\":\"\"),this.hovery.attr(\"x\",this.leftOffset-6).attr(\"y\",r.joinPointy).text(this.ytickFormat(this.invLinkFunction(r.joinPoint))),this.hoveryOutline.attr(\"x\",this.leftOffset-6).attr(\"y\",r.joinPointy).text(this.ytickFormat(this.invLinkFunction(r.joinPoint)));for(var o=(this.props.featureNames.length,[]),a=void 0,u=void 0,c=this.currPosOrderedFeatures.length-1;c>=0;--c){var s=this.currPosOrderedFeatures[c],l=r.features[s];u=5+(l.posyTop+l.posyBottom)/2,(!a||u-a>=15)&&l.posyTop-l.posyBottom>=6&&(o.push(l),a=u)}var p=[];a=void 0;var h=!0,d=!1,v=void 0;try{for(var g,m=this.currNegOrderedFeatures[Symbol.iterator]();!(h=(g=m.next()).done);h=!0){var y=g.value,_=r.features[y];u=5+(_.negyTop+_.negyBottom)/2,(!a||a-u>=15)&&_.negyTop-_.negyBottom>=6&&(p.push(_),a=u)}}catch(t){d=!0,v=t}finally{try{!h&&m.return&&m.return()}finally{if(d)throw v}}var b=function(t){var n=\"\";return null!==t.value&&void 0!==t.value&&(n=\" = \"+(isNaN(t.value)?t.value:e.ytickFormat(t.value))),r.count>1?\"mean(\"+e.props.featureNames[t.ind]+\")\"+n:e.props.featureNames[t.ind]+n},x=this.hoverGroup1.selectAll(\".pos-values\").data(o);x.enter().append(\"text\").attr(\"class\",\"pos-values\").merge(x).attr(\"x\",r.xmapScaled+5).attr(\"y\",function(t){return 4+(t.posyTop+t.posyBottom)/2}).attr(\"text-anchor\",\"start\").attr(\"font-size\",12).attr(\"stroke\",\"#fff\").attr(\"fill\",\"#fff\").attr(\"stroke-width\",\"4\").attr(\"stroke-linejoin\",\"round\").attr(\"opacity\",1).text(b),x.exit().remove();var w=this.hoverGroup2.selectAll(\".pos-values\").data(o);w.enter().append(\"text\").attr(\"class\",\"pos-values\").merge(w).attr(\"x\",r.xmapScaled+5).attr(\"y\",function(t){return 4+(t.posyTop+t.posyBottom)/2}).attr(\"text-anchor\",\"start\").attr(\"font-size\",12).attr(\"fill\",this.colors[0]).text(b),w.exit().remove();var C=this.hoverGroup1.selectAll(\".neg-values\").data(p);C.enter().append(\"text\").attr(\"class\",\"neg-values\").merge(C).attr(\"x\",r.xmapScaled+5).attr(\"y\",function(t){return 4+(t.negyTop+t.negyBottom)/2}).attr(\"text-anchor\",\"start\").attr(\"font-size\",12).attr(\"stroke\",\"#fff\").attr(\"fill\",\"#fff\").attr(\"stroke-width\",\"4\").attr(\"stroke-linejoin\",\"round\").attr(\"opacity\",1).text(b),C.exit().remove();var k=this.hoverGroup2.selectAll(\".neg-values\").data(p);k.enter().append(\"text\").attr(\"class\",\"neg-values\").merge(k).attr(\"x\",r.xmapScaled+5).attr(\"y\",function(t){return 4+(t.negyTop+t.negyBottom)/2}).attr(\"text-anchor\",\"start\").attr(\"font-size\",12).attr(\"fill\",this.colors[1]).text(b),k.exit().remove()}}},{key:\"draw\",value:function(){var t=this;if(this.props.explanations&&0!==this.props.explanations.length){(0,y.each)(this.props.explanations,function(t,e){return t.origInd=e});var e={},n={},r={},i=!0,o=!1,a=void 0;try{for(var u,c=this.props.explanations[Symbol.iterator]();!(i=(u=c.next()).done);i=!0){var s=u.value;for(var l in s.features)void 0===e[l]&&(e[l]=0,n[l]=0,r[l]=0),s.features[l].effect>0?e[l]+=s.features[l].effect:n[l]-=s.features[l].effect,null!==s.features[l].value&&void 0!==s.features[l].value&&(r[l]+=1)}}catch(t){o=!0,a=t}finally{try{!i&&c.return&&c.return()}finally{if(o)throw a}}this.usedFeatures=(0,y.sortBy)((0,y.keys)(e),function(t){return-(e[t]+n[t])}),console.log(\"found \",this.usedFeatures.length,\" used features\"),this.posOrderedFeatures=(0,y.sortBy)(this.usedFeatures,function(t){return e[t]}),this.negOrderedFeatures=(0,y.sortBy)(this.usedFeatures,function(t){return-n[t]}),this.singleValueFeatures=(0,y.filter)(this.usedFeatures,function(t){return r[t]>0});var f=[\"sample order by similarity\",\"sample order by output value\",\"original sample ordering\"].concat(this.singleValueFeatures.map(function(e){return t.props.featureNames[e]}));null!=this.props.ordering_keys&&f.unshift(\"sample order by key\");var p=this.xlabel.selectAll(\"option\").data(f);p.enter().append(\"option\").merge(p).attr(\"value\",function(t){return t}).text(function(t){return t}),p.exit().remove();var h=this.props.outNames[0]?this.props.outNames[0]:\"model output value\";f=(0,y.map)(this.usedFeatures,function(e){return[t.props.featureNames[e],t.props.featureNames[e]+\" effects\"]}),f.unshift([\"model output value\",h]);var d=this.ylabel.selectAll(\"option\").data(f);d.enter().append(\"option\").merge(d).attr(\"value\",function(t){return t[0]}).text(function(t){return t[1]}),d.exit().remove(),this.ylabel.style(\"top\",(this.height-10-this.topOffset)/2+this.topOffset+\"px\").style(\"left\",10-this.ylabel.node().offsetWidth/2+\"px\"),this.internalDraw()}}},{key:\"internalDraw\",value:function(){var t=this,e=!0,n=!1,r=void 0;try{for(var i,o=this.props.explanations[Symbol.iterator]();!(e=(i=o.next()).done);e=!0){var a=i.value,u=!0,c=!1,s=void 0;try{for(var l,f=this.usedFeatures[Symbol.iterator]();!(u=(l=f.next()).done);u=!0){var h=l.value;a.features.hasOwnProperty(h)||(a.features[h]={effect:0,value:0}),a.features[h].ind=h}}catch(t){c=!0,s=t}finally{try{!u&&f.return&&f.return()}finally{if(c)throw s}}}}catch(t){n=!0,r=t}finally{try{!e&&o.return&&o.return()}finally{if(n)throw r}}var d=void 0,v=this.xlabel.node().value,m=\"sample order by key\"===v&&null!=this.props.ordering_keys_time_format;if(this.xscale=m?(0,p.scaleTime)():(0,p.scaleLinear)(),this.xaxis.scale(this.xscale),\"sample order by similarity\"===v)d=(0,y.sortBy)(this.props.explanations,function(t){return t.simIndex}),(0,y.each)(d,function(t,e){return t.xmap=e});else if(\"sample order by output value\"===v)d=(0,y.sortBy)(this.props.explanations,function(t){return-t.outValue}),(0,y.each)(d,function(t,e){return t.xmap=e});else if(\"original sample ordering\"===v)d=(0,y.sortBy)(this.props.explanations,function(t){return t.origInd}),(0,y.each)(d,function(t,e){return t.xmap=e});else if(\"sample order by key\"===v)d=this.props.explanations,m?(0,y.each)(d,function(e,n){return e.xmap=t.parseTime(t.props.ordering_keys[n])}):(0,y.each)(d,function(e,n){return e.xmap=t.props.ordering_keys[n]}),d=(0,y.sortBy)(d,function(t){return t.xmap});else{var _=(0,y.findKey)(this.props.featureNames,function(t){return t===v});(0,y.each)(this.props.explanations,function(t,e){return t.xmap=t.features[_].value});var b=(0,y.sortBy)(this.props.explanations,function(t){return t.xmap}),x=(0,y.map)(b,function(t){return t.xmap});if(\"string\"==typeof x[0])return void alert(\"Ordering by category names is not yet supported.\");var w=(0,y.min)(x),C=(0,y.max)(x),k=(C-w)/100;d=[];for(var E=void 0,M=void 0,T=0;T<b.length;++T){var S=b[T];if(E&&!M&&S.xmap-E.xmap<=k||M&&S.xmap-M.xmap<=k){M||(M=(0,y.cloneDeep)(E),M.count=1);var N=!0,A=!1,P=void 0;try{for(var O,I=this.usedFeatures[Symbol.iterator]();!(N=(O=I.next()).done);N=!0){var D=O.value;M.features[D].effect+=S.features[D].effect,M.features[D].value+=S.features[D].value}}catch(t){A=!0,P=t}finally{try{!N&&I.return&&I.return()}finally{if(A)throw P}}M.count+=1}else if(E)if(M){var R=!0,L=!1,U=void 0;try{for(var F,j=this.usedFeatures[Symbol.iterator]();!(R=(F=j.next()).done);R=!0){var B=F.value;M.features[B].effect/=M.count,M.features[B].value/=M.count}}catch(t){L=!0,U=t}finally{try{!R&&j.return&&j.return()}finally{if(L)throw U}}d.push(M),M=void 0}else d.push(E);E=S}E.xmap-d[d.length-1].xmap>k&&d.push(E)}this.currUsedFeatures=this.usedFeatures,this.currPosOrderedFeatures=this.posOrderedFeatures,this.currNegOrderedFeatures=this.negOrderedFeatures;var V=this.ylabel.node().value;if(\"model output value\"!==V){d=(0,y.cloneDeep)(d);for(var W=(0,y.findKey)(this.props.featureNames,function(t){return t===V}),z=0;z<d.length;++z){var H=d[z].features[W];d[z].features={},d[z].features[W]=H}this.currUsedFeatures=[W],this.currPosOrderedFeatures=[W],this.currNegOrderedFeatures=[W]}this.currExplanations=d,\"identity\"===this.props.link?this.invLinkFunction=function(e){return t.props.baseValue+e}:\"logit\"===this.props.link?this.invLinkFunction=function(e){return 1/(1+Math.exp(-(t.props.baseValue+e)))}:console.log(\"ERROR: Unrecognized link function: \",this.props.link),this.predValues=(0,y.map)(d,function(t){return(0,y.sum)((0,y.map)(t.features,function(t){return t.effect}))});var q=this.wrapper.node().offsetWidth;if(0==q)return setTimeout(function(){return t.draw(d)},500);this.svg.style(\"height\",this.height+\"px\"),this.svg.style(\"width\",q+\"px\");var Y=(0,y.map)(d,function(t){return t.xmap});this.xscale.domain([(0,y.min)(Y),(0,y.max)(Y)]).range([this.leftOffset,q]).clamp(!0),this.xaxisElement.attr(\"transform\",\"translate(0,\"+this.topOffset+\")\").call(this.xaxis);for(var K=0;K<this.currExplanations.length;++K)this.currExplanations[K].xmapScaled=this.xscale(this.currExplanations[K].xmap);for(var G=d.length,$=0,X=0;X<G;++X){var Q=d[X].features,Z=(0,y.sum)((0,y.map)((0,y.filter)(Q,function(t){return t.effect>0}),function(t){return t.effect}))||0,J=(0,y.sum)((0,y.map)((0,y.filter)(Q,function(t){return t.effect<0}),function(t){return-t.effect}))||0;$=Math.max($,2.2*Math.max(Z,J))}this.yscale.domain([-$/2,$/2]).range([this.height-10,this.topOffset]),this.yaxisElement.attr(\"transform\",\"translate(\"+this.leftOffset+\",0)\").call(this.yaxis);for(var tt=0;tt<G;++tt){var et=d[tt].features,nt=((0,y.sum)((0,y.map)(et,function(t){return Math.abs(t.effect)})),(0,y.sum)((0,y.map)((0,y.filter)(et,function(t){return t.effect<0}),function(t){return-t.effect}))||0),rt=-nt,it=void 0,ot=!0,at=!1,ut=void 0;try{for(var ct,st=this.currPosOrderedFeatures[Symbol.iterator]();!(ot=(ct=st.next()).done);ot=!0)it=ct.value,et[it].posyTop=this.yscale(rt),et[it].effect>0&&(rt+=et[it].effect),et[it].posyBottom=this.yscale(rt),et[it].ind=it}catch(t){at=!0,ut=t}finally{try{!ot&&st.return&&st.return()}finally{if(at)throw ut}}var lt=rt,ft=!0,pt=!1,ht=void 0;try{for(var dt,vt=this.currNegOrderedFeatures[Symbol.iterator]();!(ft=(dt=vt.next()).done);ft=!0)it=dt.value,et[it].negyTop=this.yscale(rt),et[it].effect<0&&(rt-=et[it].effect),et[it].negyBottom=this.yscale(rt)}catch(t){pt=!0,ht=t}finally{try{!ft&&vt.return&&vt.return()}finally{if(pt)throw ht}}d[tt].joinPoint=lt,d[tt].joinPointy=this.yscale(lt)}var gt=(0,g.line)().x(function(t){return t[0]}).y(function(t){return t[1]}),mt=this.mainGroup.selectAll(\".force-bar-array-area-pos\").data(this.currUsedFeatures);mt.enter().append(\"path\").attr(\"class\",\"force-bar-array-area-pos\").merge(mt).attr(\"d\",function(t){var e=(0,y.map)((0,y.range)(G),function(e){return[d[e].xmapScaled,d[e].features[t].posyTop]}),n=(0,y.map)((0,y.rangeRight)(G),function(e){return[d[e].xmapScaled,d[e].features[t].posyBottom]});return gt(e.concat(n))}).attr(\"fill\",this.colors[0]),mt.exit().remove();var yt=this.mainGroup.selectAll(\".force-bar-array-area-neg\").data(this.currUsedFeatures);yt.enter().append(\"path\").attr(\"class\",\"force-bar-array-area-neg\").merge(yt).attr(\"d\",function(t){var e=(0,y.map)((0,y.range)(G),function(e){return[d[e].xmapScaled,d[e].features[t].negyTop]}),n=(0,y.map)((0,y.rangeRight)(G),function(e){return[d[e].xmapScaled,d[e].features[t].negyBottom]});return gt(e.concat(n))}).attr(\"fill\",this.colors[1]),yt.exit().remove();var _t=this.mainGroup.selectAll(\".force-bar-array-divider-pos\").data(this.currUsedFeatures);_t.enter().append(\"path\").attr(\"class\",\"force-bar-array-divider-pos\").merge(_t).attr(\"d\",function(t){var e=(0,y.map)((0,y.range)(G),function(e){return[d[e].xmapScaled,d[e].features[t].posyBottom]});return gt(e)}).attr(\"fill\",\"none\").attr(\"stroke-width\",1).attr(\"stroke\",function(e){return t.colors[0].brighter(1.2)}),_t.exit().remove();var bt=this.mainGroup.selectAll(\".force-bar-array-divider-neg\").data(this.currUsedFeatures);bt.enter().append(\"path\").attr(\"class\",\"force-bar-array-divider-neg\").merge(bt).attr(\"d\",function(t){var e=(0,y.map)((0,y.range)(G),function(e){return[d[e].xmapScaled,d[e].features[t].negyTop]});return gt(e)}).attr(\"fill\",\"none\").attr(\"stroke-width\",1).attr(\"stroke\",function(e){return t.colors[1].brighter(1.5)}),bt.exit().remove();for(var xt=function(t,e,n,r,i){var o=void 0,a=void 0;\"pos\"===i?(o=t[n].features[e].posyBottom,a=t[n].features[e].posyTop):(o=t[n].features[e].negyBottom,a=t[n].features[e].negyTop);for(var u=void 0,c=void 0,s=n+1;s<=r;++s)\"pos\"===i?(u=t[s].features[e].posyBottom,c=t[s].features[e].posyTop):(u=t[s].features[e].negyBottom,c=t[s].features[e].negyTop),u>o&&(o=u),c<a&&(a=c);return{top:o,bottom:a}},wt=[],Ct=[\"pos\",\"neg\"],kt=0;kt<Ct.length;kt++){var Et=Ct[kt],Mt=!0,Tt=!1,St=void 0;try{for(var Nt,At=this.currUsedFeatures[Symbol.iterator]();!(Mt=(Nt=At.next()).done);Mt=!0)for(var Pt=Nt.value,Ot=0,It=0,Dt=0,Rt={top:0,bottom:0},Lt=void 0;It<G-1;){for(;Dt<100&&It<G-1;)++It,Dt=d[It].xmapScaled-d[Ot].xmapScaled;for(Rt=xt(d,Pt,Ot,It,Et);Rt.bottom-Rt.top<20&&Ot<It;)++Ot,Rt=xt(d,Pt,Ot,It,Et);if(Dt=d[It].xmapScaled-d[Ot].xmapScaled,Rt.bottom-Rt.top>=20&&Dt>=100){for(;It<G-1;){if(++It,Lt=xt(d,Pt,Ot,It,Et),!(Lt.bottom-Lt.top>20)){--It;break}Rt=Lt}Dt=d[It].xmapScaled-d[Ot].xmapScaled,wt.push([(d[It].xmapScaled+d[Ot].xmapScaled)/2,(Rt.top+Rt.bottom)/2,this.props.featureNames[Pt]]);var Ut=d[It].xmapScaled;for(Ot=It;Ut+100>d[Ot].xmapScaled&&Ot<G-1;)++Ot;It=Ot}}}catch(t){Tt=!0,St=t}finally{try{!Mt&&At.return&&At.return()}finally{if(Tt)throw St}}}var Ft=this.onTopGroup.selectAll(\".force-bar-array-flabels\").data(wt);Ft.enter().append(\"text\").attr(\"class\",\"force-bar-array-flabels\").merge(Ft).attr(\"x\",function(t){return t[0]}).attr(\"y\",function(t){return t[1]+4}).text(function(t){return t[2]}),Ft.exit().remove()}},{key:\"componentWillUnmount\",value:function(){window.removeEventListener(\"resize\",this.redraw)}},{key:\"render\",value:function(){var t=this;return l.default.createElement(\"div\",{ref:function(e){return t.wrapper=(0,f.select)(e)},style:{textAlign:\"center\"}},l.default.createElement(\"style\",{dangerouslySetInnerHTML:{__html:\"\\n          .force-bar-array-wrapper {\\n            text-align: center;\\n          }\\n          .force-bar-array-xaxis path {\\n            fill: none;\\n            opacity: 0.4;\\n          }\\n          .force-bar-array-xaxis .domain {\\n            opacity: 0;\\n          }\\n          .force-bar-array-xaxis paths {\\n            display: none;\\n          }\\n          .force-bar-array-yaxis path {\\n            fill: none;\\n            opacity: 0.4;\\n          }\\n          .force-bar-array-yaxis paths {\\n            display: none;\\n          }\\n          .tick line {\\n            stroke: #000;\\n            stroke-width: 1px;\\n            opacity: 0.4;\\n          }\\n          .tick text {\\n            fill: #000;\\n            opacity: 0.5;\\n            font-size: 12px;\\n            padding: 0px;\\n          }\\n          .force-bar-array-flabels {\\n            font-size: 12px;\\n            fill: #fff;\\n            text-anchor: middle;\\n          }\\n          .additive-force-array-xlabel {\\n            background: none;\\n            border: 1px solid #ccc;\\n            opacity: 0.5;\\n            margin-bottom: 0px;\\n            font-size: 12px;\\n            font-family: arial;\\n            margin-left: 80px;\\n            max-width: 300px;\\n          }\\n          .additive-force-array-xlabel:focus {\\n            outline: none;\\n          }\\n          .additive-force-array-ylabel {\\n            position: relative;\\n            top: 0px;\\n            left: 0px;\\n            transform: rotate(-90deg);\\n            background: none;\\n            border: 1px solid #ccc;\\n            opacity: 0.5;\\n            margin-bottom: 0px;\\n            font-size: 12px;\\n            font-family: arial;\\n            max-width: 150px;\\n          }\\n          .additive-force-array-ylabel:focus {\\n            outline: none;\\n          }\\n          .additive-force-array-hoverLine {\\n            stroke-width: 1px;\\n            stroke: #fff;\\n            opacity: 1;\\n          }\"}}),l.default.createElement(\"select\",{className:\"additive-force-array-xlabel\"}),l.default.createElement(\"div\",{style:{height:\"0px\",textAlign:\"left\"}},l.default.createElement(\"select\",{className:\"additive-force-array-ylabel\"})),l.default.createElement(\"svg\",{ref:function(e){return t.svg=(0,f.select)(e)},style:{userSelect:\"none\",display:\"block\",fontFamily:\"arial\",sansSerif:!0}}))}}]),e}(l.default.Component);x.defaultProps={plot_cmap:\"RdBu\",ordering_keys:null,ordering_keys_time_format:null},e.default=x},function(t,e,n){\"use strict\";function r(t){return t&&t.__esModule?t:{default:t}}function i(t,e){if(!(t instanceof e))throw new TypeError(\"Cannot call a class as a function\")}function o(t,e){if(!t)throw new ReferenceError(\"this hasn't been initialised - super() hasn't been called\");return!e||\"object\"!=typeof e&&\"function\"!=typeof e?t:e}function a(t,e){if(\"function\"!=typeof e&&null!==e)throw new TypeError(\"Super expression must either be null or a function, not \"+typeof e);t.prototype=Object.create(e&&e.prototype,{constructor:{value:t,enumerable:!1,writable:!0,configurable:!0}}),e&&(Object.setPrototypeOf?Object.setPrototypeOf(t,e):t.__proto__=e)}Object.defineProperty(e,\"__esModule\",{value:!0});var u=function(){function t(t,e){for(var n=0;n<e.length;n++){var r=e[n];r.enumerable=r.enumerable||!1,r.configurable=!0,\"value\"in r&&(r.writable=!0),Object.defineProperty(t,r.key,r)}}return function(e,n,r){return n&&t(e.prototype,n),r&&t(e,r),e}}(),c=n(41),s=r(c),l=n(129),f=n(66),p=(n(7),n(29)),h=n(112),d=n(136),v=n(10),g=n(38),m=n(58),y=r(m),b=function(t){function e(){i(this,e);var t=o(this,(e.__proto__||Object.getPrototypeOf(e)).call(this));return window.lastAdditiveForceVisualizer=t,t.effectFormat=(0,p.format)(\".2\"),t.redraw=(0,g.debounce)(function(){return t.draw()},200),t}return a(e,t),u(e,[{key:\"componentDidMount\",value:function(){var t=this;this.mainGroup=this.svg.append(\"g\"),this.axisElement=this.mainGroup.append(\"g\").attr(\"transform\",\"translate(0,35)\").attr(\"class\",\"force-bar-axis\"),this.onTopGroup=this.svg.append(\"g\"),this.baseValueTitle=this.svg.append(\"text\"),this.joinPointLine=this.svg.append(\"line\"),this.joinPointLabelOutline=this.svg.append(\"text\"),this.joinPointLabel=this.svg.append(\"text\"),this.joinPointTitleLeft=this.svg.append(\"text\"),this.joinPointTitleLeftArrow=this.svg.append(\"text\"),this.joinPointTitle=this.svg.append(\"text\"),this.joinPointTitleRightArrow=this.svg.append(\"text\"),this.joinPointTitleRight=this.svg.append(\"text\"),this.hoverLabelBacking=this.svg.append(\"text\").attr(\"x\",10).attr(\"y\",20).attr(\"text-anchor\",\"middle\").attr(\"font-size\",12).attr(\"stroke\",\"#fff\").attr(\"fill\",\"#fff\").attr(\"stroke-width\",\"4\").attr(\"stroke-linejoin\",\"round\").text(\"\").on(\"mouseover\",function(e){t.hoverLabel.attr(\"opacity\",1),t.hoverLabelBacking.attr(\"opacity\",1)}).on(\"mouseout\",function(e){t.hoverLabel.attr(\"opacity\",0),t.hoverLabelBacking.attr(\"opacity\",0)}),this.hoverLabel=this.svg.append(\"text\").attr(\"x\",10).attr(\"y\",20).attr(\"text-anchor\",\"middle\").attr(\"font-size\",12).attr(\"fill\",\"#0f0\").text(\"\").on(\"mouseover\",function(e){t.hoverLabel.attr(\"opacity\",1),t.hoverLabelBacking.attr(\"opacity\",1)}).on(\"mouseout\",function(e){t.hoverLabel.attr(\"opacity\",0),t.hoverLabelBacking.attr(\"opacity\",0)});var e=void 0;\"string\"==typeof this.props.plot_cmap?this.props.plot_cmap in y.default.colors?e=y.default.colors[this.props.plot_cmap]:(console.log(\"Invalid color map name, reverting to default.\"),e=y.default.colors.RdBu):Array.isArray(this.props.plot_cmap)&&(e=this.props.plot_cmap),this.colors=e.map(function(t){return(0,v.hsl)(t)}),this.brighterColors=[1.45,1.6].map(function(e,n){return t.colors[n].brighter(e)}),this.colors.map(function(e,n){var r=t.svg.append(\"linearGradient\").attr(\"id\",\"linear-grad-\"+n).attr(\"x1\",\"0%\").attr(\"y1\",\"0%\").attr(\"x2\",\"0%\").attr(\"y2\",\"100%\");r.append(\"stop\").attr(\"offset\",\"0%\").attr(\"stop-color\",e).attr(\"stop-opacity\",.6),r.append(\"stop\").attr(\"offset\",\"100%\").attr(\"stop-color\",e).attr(\"stop-opacity\",0);var i=t.svg.append(\"linearGradient\").attr(\"id\",\"linear-backgrad-\"+n).attr(\"x1\",\"0%\").attr(\"y1\",\"0%\").attr(\"x2\",\"0%\").attr(\"y2\",\"100%\");i.append(\"stop\").attr(\"offset\",\"0%\").attr(\"stop-color\",e).attr(\"stop-opacity\",.5),i.append(\"stop\").attr(\"offset\",\"100%\").attr(\"stop-color\",e).attr(\"stop-opacity\",0)}),this.tickFormat=(0,p.format)(\",.4\"),this.scaleCentered=(0,f.scaleLinear)(),this.axis=(0,h.axisBottom)().scale(this.scaleCentered).tickSizeInner(4).tickSizeOuter(0).tickFormat(function(e){return t.tickFormat(t.invLinkFunction(e))}).tickPadding(-18),window.addEventListener(\"resize\",this.redraw),window.setTimeout(this.redraw,50)}},{key:\"componentDidUpdate\",value:function(){this.draw()}},{key:\"draw\",value:function(){var t=this;(0,g.each)(this.props.featureNames,function(e,n){t.props.features[n]&&(t.props.features[n].name=e)}),\"identity\"===this.props.link?this.invLinkFunction=function(e){return t.props.baseValue+e}:\"logit\"===this.props.link?this.invLinkFunction=function(e){return 1/(1+Math.exp(-(t.props.baseValue+e)))}:console.log(\"ERROR: Unrecognized link function: \",this.props.link);var e=this.svg.node().parentNode.offsetWidth;if(0==e)return setTimeout(function(){return t.draw(t.props)},500);this.svg.style(\"height\",\"150px\"),this.svg.style(\"width\",e+\"px\");var n=(0,g.sortBy)(this.props.features,function(t){return-1/(t.effect+1e-10)}),r=(0,g.sum)((0,g.map)(n,function(t){return Math.abs(t.effect)})),i=(0,g.sum)((0,g.map)((0,g.filter)(n,function(t){return t.effect>0}),function(t){return t.effect}))||0,o=(0,g.sum)((0,g.map)((0,g.filter)(n,function(t){return t.effect<0}),function(t){return-t.effect}))||0;this.domainSize=3*Math.max(i,o);var a=(0,f.scaleLinear)().domain([0,this.domainSize]).range([0,e]),u=e/2-a(o);this.scaleCentered.domain([-this.domainSize/2,this.domainSize/2]).range([0,e]).clamp(!0),this.axisElement.attr(\"transform\",\"translate(0,50)\").call(this.axis);var c=0,s=void 0,l=void 0,h=void 0;for(s=0;s<n.length;++s)n[s].x=c,n[s].effect<0&&void 0===l&&(l=c,h=s),c+=Math.abs(n[s].effect);void 0===l&&(l=c,h=s);var v=(0,d.line)().x(function(t){return t[0]}).y(function(t){return t[1]}),m=function(e){return void 0!==e.value&&null!==e.value&&\"\"!==e.value?e.name+\" = \"+(isNaN(e.value)?e.value:t.tickFormat(e.value)):e.name};n=this.props.hideBars?[]:n;var y=this.mainGroup.selectAll(\".force-bar-blocks\").data(n);y.enter().append(\"path\").attr(\"class\",\"force-bar-blocks\").merge(y).attr(\"d\",function(t,e){var n=a(t.x)+u,r=a(Math.abs(t.effect)),i=t.effect<0?-4:4,o=i;return e===h&&(i=0),e===h-1&&(o=0),v([[n,56],[n+r,56],[n+r+o,64.5],[n+r,73],[n,73],[n+i,64.5]])}).attr(\"fill\",function(e){return e.effect>0?t.colors[0]:t.colors[1]}).on(\"mouseover\",function(e){if(a(Math.abs(e.effect))<a(r)/50||a(Math.abs(e.effect))<10){var n=a(e.x)+u,i=a(Math.abs(e.effect));t.hoverLabel.attr(\"opacity\",1).attr(\"x\",n+i/2).attr(\"y\",50.5).attr(\"fill\",e.effect>0?t.colors[0]:t.colors[1]).text(m(e)),t.hoverLabelBacking.attr(\"opacity\",1).attr(\"x\",n+i/2).attr(\"y\",50.5).text(m(e))}}).on(\"mouseout\",function(e){t.hoverLabel.attr(\"opacity\",0),t.hoverLabelBacking.attr(\"opacity\",0)}),y.exit().remove();var b=_.filter(n,function(t){return a(Math.abs(t.effect))>a(r)/50&&a(Math.abs(t.effect))>10}),x=this.onTopGroup.selectAll(\".force-bar-labels\").data(b);if(x.exit().remove(),x=x.enter().append(\"text\").attr(\"class\",\"force-bar-labels\").attr(\"font-size\",\"12px\").attr(\"y\",function(t){return 98}).merge(x).text(function(e){return void 0!==e.value&&null!==e.value&&\"\"!==e.value?e.name+\" = \"+(isNaN(e.value)?e.value:t.tickFormat(e.value)):e.name}).attr(\"fill\",function(e){return e.effect>0?t.colors[0]:t.colors[1]}).attr(\"stroke\",function(t,e){return t.textWidth=Math.max(this.getComputedTextLength(),a(Math.abs(t.effect))-10),t.innerTextWidth=this.getComputedTextLength(),\"none\"}),this.filteredData=b,n.length>0){c=l+a.invert(5);for(var w=h;w<n.length;++w)n[w].textx=c,c+=a.invert(n[w].textWidth+10);c=l-a.invert(5);for(var C=h-1;C>=0;--C)n[C].textx=c,c-=a.invert(n[C].textWidth+10)}x.attr(\"x\",function(t){return a(t.textx)+u+(t.effect>0?-t.textWidth/2:t.textWidth/2)}).attr(\"text-anchor\",\"middle\"),b=(0,g.filter)(b,function(n){return a(n.textx)+u>t.props.labelMargin&&a(n.textx)+u<e-t.props.labelMargin}),this.filteredData2=b;var k=b.slice(),E=(0,g.findIndex)(n,b[0])-1;E>=0&&k.unshift(n[E]);var M=this.mainGroup.selectAll(\".force-bar-labelBacking\").data(b);M.enter().append(\"path\").attr(\"class\",\"force-bar-labelBacking\").attr(\"stroke\",\"none\").attr(\"opacity\",.2).merge(M).attr(\"d\",function(t){return v([[a(t.x)+a(Math.abs(t.effect))+u,73],[(t.effect>0?a(t.textx):a(t.textx)+t.textWidth)+u+5,83],[(t.effect>0?a(t.textx):a(t.textx)+t.textWidth)+u+5,104],[(t.effect>0?a(t.textx)-t.textWidth:a(t.textx))+u-5,104],[(t.effect>0?a(t.textx)-t.textWidth:a(t.textx))+u-5,83],[a(t.x)+u,73]])}).attr(\"fill\",function(t){return\"url(#linear-backgrad-\"+(t.effect>0?0:1)+\")\"}),M.exit().remove();var T=this.mainGroup.selectAll(\".force-bar-labelDividers\").data(b.slice(0,-1));T.enter().append(\"rect\").attr(\"class\",\"force-bar-labelDividers\").attr(\"height\",\"21px\").attr(\"width\",\"1px\").attr(\"y\",83).merge(T).attr(\"x\",function(t){return(t.effect>0?a(t.textx):a(t.textx)+t.textWidth)+u+4.5}).attr(\"fill\",function(t){return\"url(#linear-grad-\"+(t.effect>0?0:1)+\")\"}),T.exit().remove();var S=this.mainGroup.selectAll(\".force-bar-labelLinks\").data(b.slice(0,-1));S.enter().append(\"line\").attr(\"class\",\"force-bar-labelLinks\").attr(\"y1\",73).attr(\"y2\",83).attr(\"stroke-opacity\",.5).attr(\"stroke-width\",1).merge(S).attr(\"x1\",function(t){return a(t.x)+a(Math.abs(t.effect))+u}).attr(\"x2\",function(t){return(t.effect>0?a(t.textx):a(t.textx)+t.textWidth)+u+5}).attr(\"stroke\",function(e){return e.effect>0?t.colors[0]:t.colors[1]}),S.exit().remove();var N=this.mainGroup.selectAll(\".force-bar-blockDividers\").data(n.slice(0,-1));N.enter().append(\"path\").attr(\"class\",\"force-bar-blockDividers\").attr(\"stroke-width\",2).attr(\"fill\",\"none\").merge(N).attr(\"d\",function(t){var e=a(t.x)+a(Math.abs(t.effect))+u;return v([[e,56],[e+(t.effect<0?-4:4),64.5],[e,73]])}).attr(\"stroke\",function(e,n){return h===n+1||Math.abs(e.effect)<1e-8?\"#rgba(0,0,0,0)\":e.effect>0?t.brighterColors[0]:t.brighterColors[1]}),N.exit().remove(),this.joinPointLine.attr(\"x1\",a(l)+u).attr(\"x2\",a(l)+u).attr(\"y1\",50).attr(\"y2\",56).attr(\"stroke\",\"#F2F2F2\").attr(\"stroke-width\",1).attr(\"opacity\",1),this.joinPointLabelOutline.attr(\"x\",a(l)+u).attr(\"y\",45).attr(\"color\",\"#fff\").attr(\"text-anchor\",\"middle\").attr(\"font-weight\",\"bold\").attr(\"stroke\",\"#fff\").attr(\"stroke-width\",6).text((0,p.format)(\",.2f\")(this.invLinkFunction(l-o))).attr(\"opacity\",1),console.log(\"joinPoint\",l,u,50,o),this.joinPointLabel.attr(\"x\",a(l)+u).attr(\"y\",45).attr(\"text-anchor\",\"middle\").attr(\"font-weight\",\"bold\").attr(\"fill\",\"#000\").text((0,p.format)(\",.2f\")(this.invLinkFunction(l-o))).attr(\"opacity\",1),this.joinPointTitle.attr(\"x\",a(l)+u).attr(\"y\",28).attr(\"text-anchor\",\"middle\").attr(\"font-size\",\"12\").attr(\"fill\",\"#000\").text(this.props.outNames[0]).attr(\"opacity\",.5),this.props.hideBars||(this.joinPointTitleLeft.attr(\"x\",a(l)+u-16).attr(\"y\",12).attr(\"text-anchor\",\"end\").attr(\"font-size\",\"13\").attr(\"fill\",this.colors[0]).text(\"higher\").attr(\"opacity\",1),this.joinPointTitleRight.attr(\"x\",a(l)+u+16).attr(\"y\",12).attr(\"text-anchor\",\"start\").attr(\"font-size\",\"13\").attr(\"fill\",this.colors[1]).text(\"lower\").attr(\"opacity\",1),this.joinPointTitleLeftArrow.attr(\"x\",a(l)+u+7).attr(\"y\",8).attr(\"text-anchor\",\"end\").attr(\"font-size\",\"13\").attr(\"fill\",this.colors[0]).text(\"→\").attr(\"opacity\",1),this.joinPointTitleRightArrow.attr(\"x\",a(l)+u-7).attr(\"y\",14).attr(\"text-anchor\",\"start\").attr(\"font-size\",\"13\").attr(\"fill\",this.colors[1]).text(\"←\").attr(\"opacity\",1)),this.props.hideBaseValueLabel||this.baseValueTitle.attr(\"x\",this.scaleCentered(0)).attr(\"y\",28).attr(\"text-anchor\",\"middle\").attr(\"font-size\",\"12\").attr(\"fill\",\"#000\").text(\"base value\").attr(\"opacity\",.5)}},{key:\"componentWillUnmount\",value:function(){window.removeEventListener(\"resize\",this.redraw)}},{key:\"render\",value:function(){var t=this;return s.default.createElement(\"svg\",{ref:function(e){return t.svg=(0,l.select)(e)},style:{userSelect:\"none\",display:\"block\",fontFamily:\"arial\",sansSerif:!0}},s.default.createElement(\"style\",{dangerouslySetInnerHTML:{__html:\"\\n          .force-bar-axis path {\\n            fill: none;\\n            opacity: 0.4;\\n          }\\n          .force-bar-axis paths {\\n            display: none;\\n          }\\n          .tick line {\\n            stroke: #000;\\n            stroke-width: 1px;\\n            opacity: 0.4;\\n          }\\n          .tick text {\\n            fill: #000;\\n            opacity: 0.5;\\n            font-size: 12px;\\n            padding: 0px;\\n          }\"}}))}}]),e}(s.default.Component);b.defaultProps={plot_cmap:\"RdBu\"},e.default=b},function(t,e,n){\"use strict\";function r(t){return t&&t.__esModule?t:{default:t}}function i(t,e){if(!(t instanceof e))throw new TypeError(\"Cannot call a class as a function\")}function o(t,e){if(!t)throw new ReferenceError(\"this hasn't been initialised - super() hasn't been called\");return!e||\"object\"!=typeof e&&\"function\"!=typeof e?t:e}function a(t,e){if(\"function\"!=typeof e&&null!==e)throw new TypeError(\"Super expression must either be null or a function, not \"+typeof e);t.prototype=Object.create(e&&e.prototype,{constructor:{value:t,enumerable:!1,writable:!0,configurable:!0}}),e&&(Object.setPrototypeOf?Object.setPrototypeOf(t,e):t.__proto__=e)}Object.defineProperty(e,\"__esModule\",{value:!0});var u=function(){function t(t,e){for(var n=0;n<e.length;n++){var r=e[n];r.enumerable=r.enumerable||!1,r.configurable=!0,\"value\"in r&&(r.writable=!0),Object.defineProperty(t,r.key,r)}}return function(e,n,r){return n&&t(e.prototype,n),r&&t(e,r),e}}(),c=n(41),s=r(c),l=n(66),f=(n(7),n(29)),p=n(38),h=n(58),d=r(h),v=function(t){function e(){i(this,e);var t=o(this,(e.__proto__||Object.getPrototypeOf(e)).call(this));return t.width=100,window.lastSimpleListInstance=t,t.effectFormat=(0,f.format)(\".2\"),t}return a(e,t),u(e,[{key:\"render\",value:function(){var t=this,e=void 0;\"string\"==typeof this.props.plot_cmap?this.props.plot_cmap in d.default.colors?e=d.default.colors[this.props.plot_cmap]:(console.log(\"Invalid color map name, reverting to default.\"),e=d.default.colors.RdBu):Array.isArray(this.props.plot_cmap)&&(e=this.props.plot_cmap),console.log(this.props.features,this.props.features),this.scale=(0,l.scaleLinear)().domain([0,(0,p.max)((0,p.map)(this.props.features,function(t){return Math.abs(t.effect)}))]).range([0,this.width]);var n=(0,p.reverse)((0,p.sortBy)(Object.keys(this.props.features),function(e){return Math.abs(t.props.features[e].effect)})),r=n.map(function(n){var r=t.props.features[n],i=t.props.featureNames[n],o={width:t.scale(Math.abs(r.effect)),height:\"20px\",background:r.effect<0?e[0]:e[1],display:\"inline-block\"},a=void 0,u=void 0,c={lineHeight:\"20px\",display:\"inline-block\",width:t.width+40,verticalAlign:\"top\",marginRight:\"5px\",textAlign:\"right\"},l={lineHeight:\"20px\",display:\"inline-block\",width:t.width+40,verticalAlign:\"top\",marginLeft:\"5px\"};return r.effect<0?(u=s.default.createElement(\"span\",{style:l},i),c.width=40+t.width-t.scale(Math.abs(r.effect)),c.textAlign=\"right\",c.color=\"#999\",c.fontSize=\"13px\",a=s.default.createElement(\"span\",{style:c},t.effectFormat(r.effect))):(c.textAlign=\"right\",a=s.default.createElement(\"span\",{style:c},i),l.width=40,l.textAlign=\"left\",l.color=\"#999\",l.fontSize=\"13px\",u=s.default.createElement(\"span\",{style:l},t.effectFormat(r.effect))),s.default.createElement(\"div\",{key:n,style:{marginTop:\"2px\"}},a,s.default.createElement(\"div\",{style:o}),u)});return s.default.createElement(\"span\",null,r)}}]),e}(s.default.Component);v.defaultProps={plot_cmap:\"RdBu\"},e.default=v},function(t,e,n){\"use strict\";t.exports=n(359)},function(t,e,n){var r=(n(0),n(411)),i=!1;t.exports=function(t){t=t||{};var e=t.shouldRejectClick||r;i=!0,n(22).injection.injectEventPluginsByName({TapEventPlugin:n(409)(e)})}},function(t,e,n){\"use strict\";function r(t){return t&&t.__esModule?t:{default:t}}var i=n(41),o=r(i),a=n(187),u=r(a),c=n(188),s=r(c),l=n(186),f=r(l),p=n(185),h=r(p),d=n(184),v=r(d);(0,s.default)(),window.SHAP={SimpleListVisualizer:f.default,AdditiveForceVisualizer:h.default,AdditiveForceArrayVisualizer:v.default,React:o.default,ReactDom:u.default}},,function(t,e,n){\"use strict\";function r(t){return t}function i(t,e,n){function i(t,e){var n=y.hasOwnProperty(e)?y[e]:null;C.hasOwnProperty(e)&&u(\"OVERRIDE_BASE\"===n,\"ReactClassInterface: You are attempting to override `%s` from your class specification. Ensure that your method names do not overlap with React methods.\",e),t&&u(\"DEFINE_MANY\"===n||\"DEFINE_MANY_MERGED\"===n,\"ReactClassInterface: You are attempting to define `%s` on your component more than once. This conflict may be due to a mixin.\",e)}function s(t,n){if(n){u(\"function\"!=typeof n,\"ReactClass: You're attempting to use a component class or function as a mixin. Instead, just use a regular object.\"),u(!e(n),\"ReactClass: You're attempting to use a component as a mixin. Instead, just use a regular object.\");var r=t.prototype,o=r.__reactAutoBindPairs;n.hasOwnProperty(c)&&b.mixins(t,n.mixins);for(var a in n)if(n.hasOwnProperty(a)&&a!==c){var s=n[a],l=r.hasOwnProperty(a);if(i(l,a),b.hasOwnProperty(a))b[a](t,s);else{var f=y.hasOwnProperty(a),d=\"function\"==typeof s,v=d&&!f&&!l&&!1!==n.autobind;if(v)o.push(a,s),r[a]=s;else if(l){var g=y[a];u(f&&(\"DEFINE_MANY_MERGED\"===g||\"DEFINE_MANY\"===g),\"ReactClass: Unexpected spec policy %s for key %s when mixing in component specs.\",g,a),\"DEFINE_MANY_MERGED\"===g?r[a]=p(r[a],s):\"DEFINE_MANY\"===g&&(r[a]=h(r[a],s))}else r[a]=s}}}else;}function l(t,e){if(e)for(var n in e){var r=e[n];if(e.hasOwnProperty(n)){var i=n in b;u(!i,'ReactClass: You are attempting to define a reserved property, `%s`, that shouldn\\'t be on the \"statics\" key. Define it as an instance property instead; it will still be accessible on the constructor.',n);var o=n in t;if(o){var a=_.hasOwnProperty(n)?_[n]:null;return u(\"DEFINE_MANY_MERGED\"===a,\"ReactClass: You are attempting to define `%s` on your component more than once. This conflict may be due to a mixin.\",n),void(t[n]=p(t[n],r))}t[n]=r}}}function f(t,e){u(t&&e&&\"object\"==typeof t&&\"object\"==typeof e,\"mergeIntoWithNoDuplicateKeys(): Cannot merge non-objects.\");for(var n in e)e.hasOwnProperty(n)&&(u(void 0===t[n],\"mergeIntoWithNoDuplicateKeys(): Tried to merge two objects with the same key: `%s`. This conflict may be due to a mixin; in particular, this may be caused by two getInitialState() or getDefaultProps() methods returning objects with clashing keys.\",n),t[n]=e[n]);return t}function p(t,e){return function(){var n=t.apply(this,arguments),r=e.apply(this,arguments);if(null==n)return r;if(null==r)return n;var i={};return f(i,n),f(i,r),i}}function h(t,e){return function(){t.apply(this,arguments),e.apply(this,arguments)}}function d(t,e){var n=e.bind(t);return n}function v(t){for(var e=t.__reactAutoBindPairs,n=0;n<e.length;n+=2){var r=e[n],i=e[n+1];t[r]=d(t,i)}}function g(t){var e=r(function(t,r,i){this.__reactAutoBindPairs.length&&v(this),this.props=t,this.context=r,this.refs=a,this.updater=i||n,this.state=null;var o=this.getInitialState?this.getInitialState():null;u(\"object\"==typeof o&&!Array.isArray(o),\"%s.getInitialState(): must return an object or null\",e.displayName||\"ReactCompositeComponent\"),this.state=o});e.prototype=new k,e.prototype.constructor=e,e.prototype.__reactAutoBindPairs=[],m.forEach(s.bind(null,e)),s(e,x),s(e,t),s(e,w),e.getDefaultProps&&(e.defaultProps=e.getDefaultProps()),u(e.prototype.render,\"createClass(...): Class specification must implement a `render` method.\");for(var i in y)e.prototype[i]||(e.prototype[i]=null);return e}var m=[],y={mixins:\"DEFINE_MANY\",statics:\"DEFINE_MANY\",propTypes:\"DEFINE_MANY\",contextTypes:\"DEFINE_MANY\",childContextTypes:\"DEFINE_MANY\",getDefaultProps:\"DEFINE_MANY_MERGED\",getInitialState:\"DEFINE_MANY_MERGED\",getChildContext:\"DEFINE_MANY_MERGED\",render:\"DEFINE_ONCE\",componentWillMount:\"DEFINE_MANY\",componentDidMount:\"DEFINE_MANY\",componentWillReceiveProps:\"DEFINE_MANY\",shouldComponentUpdate:\"DEFINE_ONCE\",componentWillUpdate:\"DEFINE_MANY\",componentDidUpdate:\"DEFINE_MANY\",componentWillUnmount:\"DEFINE_MANY\",UNSAFE_componentWillMount:\"DEFINE_MANY\",UNSAFE_componentWillReceiveProps:\"DEFINE_MANY\",UNSAFE_componentWillUpdate:\"DEFINE_MANY\",updateComponent:\"OVERRIDE_BASE\"},_={getDerivedStateFromProps:\"DEFINE_MANY_MERGED\"},b={displayName:function(t,e){t.displayName=e},mixins:function(t,e){if(e)for(var n=0;n<e.length;n++)s(t,e[n])},childContextTypes:function(t,e){t.childContextTypes=o({},t.childContextTypes,e)},contextTypes:function(t,e){t.contextTypes=o({},t.contextTypes,e)},getDefaultProps:function(t,e){t.getDefaultProps?t.getDefaultProps=p(t.getDefaultProps,e):t.getDefaultProps=e},propTypes:function(t,e){t.propTypes=o({},t.propTypes,e)},statics:function(t,e){l(t,e)},autobind:function(){}},x={componentDidMount:function(){this.__isMounted=!0}},w={componentWillUnmount:function(){this.__isMounted=!1}},C={replaceState:function(t,e){this.updater.enqueueReplaceState(this,t,e)},isMounted:function(){return!!this.__isMounted}},k=function(){};return o(k.prototype,t.prototype,C),g}var o=n(3),a=n(51),u=n(0),c=\"mixins\";t.exports=i},function(t,e,n){\"use strict\";e.a=function(t){return function(){return t}}},function(t,e,n){\"use strict\";var r=n(106);e.a=function(t,e,n){var i,o,a,u,c=t.length,s=e.length,l=new Array(c*s);for(null==n&&(n=r.b),i=a=0;i<c;++i)for(u=t[i],o=0;o<s;++o,++a)l[a]=n(u,e[o]);return l}},function(t,e,n){\"use strict\";e.a=function(t,e){return e<t?-1:e>t?1:e>=t?0:NaN}},function(t,e,n){\"use strict\";var r=n(100),i=n(101),o=n(192),a=n(104),u=n(196),c=n(107),s=n(109),l=n(108);e.a=function(){function t(t){var r,o,a=t.length,u=new Array(a);for(r=0;r<a;++r)u[r]=e(t[r],r,t);var l=f(u),h=l[0],d=l[1],v=p(u,h,d);Array.isArray(v)||(v=n.i(s.c)(h,d,v),v=n.i(c.a)(Math.ceil(h/v)*v,Math.floor(d/v)*v,v));for(var g=v.length;v[0]<=h;)v.shift(),--g;for(;v[g-1]>d;)v.pop(),--g;var m,y=new Array(g+1);for(r=0;r<=g;++r)m=y[r]=[],m.x0=r>0?v[r-1]:h,m.x1=r<g?v[r]:d;for(r=0;r<a;++r)o=u[r],h<=o&&o<=d&&y[n.i(i.a)(v,o,0,g)].push(t[r]);return y}var e=u.a,f=a.a,p=l.a;return t.value=function(r){return arguments.length?(e=\"function\"==typeof r?r:n.i(o.a)(r),t):e},t.domain=function(e){return arguments.length?(f=\"function\"==typeof e?e:n.i(o.a)([e[0],e[1]]),t):f},t.thresholds=function(e){return arguments.length?(p=\"function\"==typeof e?e:Array.isArray(e)?n.i(o.a)(r.b.call(e)):n.i(o.a)(e),t):p},t}},function(t,e,n){\"use strict\";e.a=function(t){return t}},function(t,e,n){\"use strict\";e.a=function(t,e){var n,r,i=t.length,o=-1;if(null==e){for(;++o<i;)if(null!=(n=t[o])&&n>=n)for(r=n;++o<i;)null!=(n=t[o])&&n>r&&(r=n)}else for(;++o<i;)if(null!=(n=e(t[o],o,t))&&n>=n)for(r=n;++o<i;)null!=(n=e(t[o],o,t))&&n>r&&(r=n);return r}},function(t,e,n){\"use strict\";var r=n(28);e.a=function(t,e){var i,o=t.length,a=o,u=-1,c=0;if(null==e)for(;++u<o;)isNaN(i=n.i(r.a)(t[u]))?--a:c+=i;else for(;++u<o;)isNaN(i=n.i(r.a)(e(t[u],u,t)))?--a:c+=i;if(a)return c/a}},function(t,e,n){\"use strict\";var r=n(19),i=n(28),o=n(59);e.a=function(t,e){var a,u=t.length,c=-1,s=[];if(null==e)for(;++c<u;)isNaN(a=n.i(i.a)(t[c]))||s.push(a);else for(;++c<u;)isNaN(a=n.i(i.a)(e(t[c],c,t)))||s.push(a);return n.i(o.a)(s.sort(r.a),.5)}},function(t,e,n){\"use strict\";e.a=function(t){for(var e,n,r,i=t.length,o=-1,a=0;++o<i;)a+=t[o].length;for(n=new Array(a);--i>=0;)for(r=t[i],e=r.length;--e>=0;)n[--a]=r[e];return n}},function(t,e,n){\"use strict\";e.a=function(t,e){for(var n=e.length,r=new Array(n);n--;)r[n]=t[e[n]];return r}},function(t,e,n){\"use strict\";var r=n(19);e.a=function(t,e){if(n=t.length){var n,i,o=0,a=0,u=t[a];for(null==e&&(e=r.a);++o<n;)(e(i=t[o],u)<0||0!==e(u,u))&&(u=i,a=o);return 0===e(u,u)?a:void 0}}},function(t,e,n){\"use strict\";e.a=function(t,e,n){for(var r,i,o=(null==n?t.length:n)-(e=null==e?0:+e);o;)i=Math.random()*o--|0,r=t[o+e],t[o+e]=t[i+e],t[i+e]=r;return t}},function(t,e,n){\"use strict\";e.a=function(t,e){var n,r=t.length,i=-1,o=0;if(null==e)for(;++i<r;)(n=+t[i])&&(o+=n);else for(;++i<r;)(n=+e(t[i],i,t))&&(o+=n);return o}},function(t,e,n){\"use strict\";var r=n(100),i=n(19),o=n(28),a=n(59);e.a=function(t,e,u){return t=r.a.call(t,o.a).sort(i.a),Math.ceil((u-e)/(2*(n.i(a.a)(t,.75)-n.i(a.a)(t,.25))*Math.pow(t.length,-1/3)))}},function(t,e,n){\"use strict\";var r=n(103);e.a=function(t,e,i){return Math.ceil((i-e)/(3.5*n.i(r.a)(t)*Math.pow(t.length,-1/3)))}},function(t,e,n){\"use strict\";var r=n(110);e.a=function(){return n.i(r.a)(arguments)}},function(t,e,n){\"use strict\";n.d(e,\"a\",function(){return r});var r=Array.prototype.slice},function(t,e,n){\"use strict\";function r(t){return\"translate(\"+(t+.5)+\",0)\"}function i(t){return\"translate(0,\"+(t+.5)+\")\"}function o(t){return function(e){return+t(e)}}function a(t){var e=Math.max(0,t.bandwidth()-1)/2;return t.round()&&(e=Math.round(e)),function(n){return+t(n)+e}}function u(){return!this.__axis}function c(t,e){function n(n){var r=null==s?e.ticks?e.ticks.apply(e,c):e.domain():s,i=null==l?e.tickFormat?e.tickFormat.apply(e,c):d.a:l,h=Math.max(f,0)+b,k=e.range(),E=+k[0]+.5,M=+k[k.length-1]+.5,T=(e.bandwidth?a:o)(e.copy()),S=n.selection?n.selection():n,N=S.selectAll(\".domain\").data([null]),A=S.selectAll(\".tick\").data(r,e).order(),P=A.exit(),O=A.enter().append(\"g\").attr(\"class\",\"tick\"),I=A.select(\"line\"),D=A.select(\"text\");N=N.merge(N.enter().insert(\"path\",\".tick\").attr(\"class\",\"domain\").attr(\"stroke\",\"#000\")),A=A.merge(O),I=I.merge(O.append(\"line\").attr(\"stroke\",\"#000\").attr(w+\"2\",x*f)),D=D.merge(O.append(\"text\").attr(\"fill\",\"#000\").attr(w,x*h).attr(\"dy\",t===v?\"0em\":t===m?\"0.71em\":\"0.32em\")),n!==S&&(N=N.transition(n),A=A.transition(n),I=I.transition(n),D=D.transition(n),P=P.transition(n).attr(\"opacity\",_).attr(\"transform\",function(t){return isFinite(t=T(t))?C(t):this.getAttribute(\"transform\")}),O.attr(\"opacity\",_).attr(\"transform\",function(t){var e=this.parentNode.__axis;return C(e&&isFinite(e=e(t))?e:T(t))})),P.remove(),N.attr(\"d\",t===y||t==g?\"M\"+x*p+\",\"+E+\"H0.5V\"+M+\"H\"+x*p:\"M\"+E+\",\"+x*p+\"V0.5H\"+M+\"V\"+x*p),A.attr(\"opacity\",1).attr(\"transform\",function(t){return C(T(t))}),I.attr(w+\"2\",x*f),D.attr(w,x*h).text(i),S.filter(u).attr(\"fill\",\"none\").attr(\"font-size\",10).attr(\"font-family\",\"sans-serif\").attr(\"text-anchor\",t===g?\"start\":t===y?\"end\":\"middle\"),S.each(function(){this.__axis=T})}var c=[],s=null,l=null,f=6,p=6,b=3,x=t===v||t===y?-1:1,w=t===y||t===g?\"x\":\"y\",C=t===v||t===m?r:i;return n.scale=function(t){return arguments.length?(e=t,n):e},n.ticks=function(){return c=h.a.call(arguments),n},n.tickArguments=function(t){return arguments.length?(c=null==t?[]:h.a.call(t),n):c.slice()},n.tickValues=function(t){return arguments.length?(s=null==t?null:h.a.call(t),n):s&&s.slice()},n.tickFormat=function(t){return arguments.length?(l=t,n):l},n.tickSize=function(t){return arguments.length?(f=p=+t,n):f},n.tickSizeInner=function(t){return arguments.length?(f=+t,n):f},n.tickSizeOuter=function(t){return arguments.length?(p=+t,n):p},n.tickPadding=function(t){return arguments.length?(b=+t,n):b},n}function s(t){return c(v,t)}function l(t){return c(g,t)}function f(t){return c(m,t)}function p(t){return c(y,t)}e.a=s,e.b=l,e.c=f,e.d=p;var h=n(208),d=n(210),v=1,g=2,m=3,y=4,_=1e-6},function(t,e,n){\"use strict\";e.a=function(t){return t}},function(t,e,n){\"use strict\";var r=(n(214),n(215),n(60));n.d(e,\"a\",function(){return r.a});n(213),n(216),n(212)},function(t,e,n){\"use strict\"},function(t,e,n){\"use strict\"},function(t,e,n){\"use strict\";n(60)},function(t,e,n){\"use strict\";function r(){}function i(t,e){var n=new r;if(t instanceof r)t.each(function(t){n.add(t)});else if(t){var i=-1,o=t.length;if(null==e)for(;++i<o;)n.add(t[i]);else for(;++i<o;)n.add(e(t[i],i,t))}return n}var o=n(60),a=o.a.prototype;r.prototype=i.prototype={constructor:r,has:a.has,add:function(t){return t+=\"\",this[o.b+t]=t,this},remove:a.remove,clear:a.clear,values:a.keys,size:a.size,empty:a.empty,each:a.each}},function(t,e,n){\"use strict\"},function(t,e,n){\"use strict\";function r(t){if(t instanceof o)return new o(t.h,t.s,t.l,t.opacity);t instanceof u.d||(t=n.i(u.e)(t));var e=t.r/255,r=t.g/255,i=t.b/255,a=(g*i+d*e-v*r)/(g+d-v),s=i-a,l=(h*(r-a)-f*s)/p,m=Math.sqrt(l*l+s*s)/(h*a*(1-a)),y=m?Math.atan2(l,s)*c.a-120:NaN;return new o(y<0?y+360:y,m,a,t.opacity)}function i(t,e,n,i){return 1===arguments.length?r(t):new o(t,e,n,null==i?1:i)}function o(t,e,n,r){this.h=+t,this.s=+e,this.l=+n,this.opacity=+r}e.a=i;var a=n(62),u=n(61),c=n(113),s=-.14861,l=1.78277,f=-.29227,p=-.90649,h=1.97294,d=h*p,v=h*l,g=l*f-p*s;n.i(a.a)(o,i,n.i(a.b)(u.f,{brighter:function(t){return t=null==t?u.g:Math.pow(u.g,t),new o(this.h,this.s,this.l*t,this.opacity)},darker:function(t){return t=null==t?u.h:Math.pow(u.h,t),new o(this.h,this.s,this.l*t,this.opacity)},rgb:function(){var t=isNaN(this.h)?0:(this.h+120)*c.b,e=+this.l,n=isNaN(this.s)?0:this.s*e*(1-e),r=Math.cos(t),i=Math.sin(t);return new u.d(255*(e+n*(s*r+l*i)),255*(e+n*(f*r+p*i)),255*(e+n*(h*r)),this.opacity)}}))},function(t,e,n){\"use strict\";function r(t){if(t instanceof o)return new o(t.l,t.a,t.b,t.opacity);if(t instanceof p){var e=t.h*v.b;return new o(t.l,Math.cos(e)*t.c,Math.sin(e)*t.c,t.opacity)}t instanceof d.d||(t=n.i(d.e)(t));var r=s(t.r),i=s(t.g),u=s(t.b),c=a((.4124564*r+.3575761*i+.1804375*u)/g),l=a((.2126729*r+.7151522*i+.072175*u)/m);return new o(116*l-16,500*(c-l),200*(l-a((.0193339*r+.119192*i+.9503041*u)/y)),t.opacity)}function i(t,e,n,i){return 1===arguments.length?r(t):new o(t,e,n,null==i?1:i)}function o(t,e,n,r){this.l=+t,this.a=+e,this.b=+n,this.opacity=+r}function a(t){return t>w?Math.pow(t,1/3):t/x+_}function u(t){return t>b?t*t*t:x*(t-_)}function c(t){return 255*(t<=.0031308?12.92*t:1.055*Math.pow(t,1/2.4)-.055)}function s(t){return(t/=255)<=.04045?t/12.92:Math.pow((t+.055)/1.055,2.4)}function l(t){if(t instanceof p)return new p(t.h,t.c,t.l,t.opacity);t instanceof o||(t=r(t));var e=Math.atan2(t.b,t.a)*v.a;return new p(e<0?e+360:e,Math.sqrt(t.a*t.a+t.b*t.b),t.l,t.opacity)}function f(t,e,n,r){return 1===arguments.length?l(t):new p(t,e,n,null==r?1:r)}function p(t,e,n,r){this.h=+t,this.c=+e,this.l=+n,this.opacity=+r}e.a=i,e.b=f;var h=n(62),d=n(61),v=n(113),g=.95047,m=1,y=1.08883,_=4/29,b=6/29,x=3*b*b,w=b*b*b;n.i(h.a)(o,i,n.i(h.b)(d.f,{brighter:function(t){return new o(this.l+18*(null==t?1:t),this.a,this.b,this.opacity)},darker:function(t){return new o(this.l-18*(null==t?1:t),this.a,this.b,this.opacity)},rgb:function(){var t=(this.l+16)/116,e=isNaN(this.a)?t:t+this.a/500,n=isNaN(this.b)?t:t-this.b/200;return t=m*u(t),e=g*u(e),n=y*u(n),new d.d(c(3.2404542*e-1.5371385*t-.4985314*n),c(-.969266*e+1.8760108*t+.041556*n),c(.0556434*e-.2040259*t+1.0572252*n),this.opacity)}})),n.i(h.a)(p,f,n.i(h.b)(d.f,{brighter:function(t){return new p(this.h,this.c,this.l+18*(null==t?1:t),this.opacity)},darker:function(t){return new p(this.h,this.c,this.l-18*(null==t?1:t),this.opacity)},rgb:function(){return r(this).rgb()}}))},function(t,e,n){\"use strict\";function r(t){return i=n.i(u.a)(t),o=i.format,a=i.formatPrefix,i}n.d(e,\"b\",function(){return o}),n.d(e,\"c\",function(){return a}),e.a=r;var i,o,a,u=n(117);r({decimal:\".\",thousands:\",\",grouping:[3],currency:[\"$\",\"\"]})},function(t,e,n){\"use strict\";e.a=function(t,e){t=t.toPrecision(e);t:for(var n,r=t.length,i=1,o=-1;i<r;++i)switch(t[i]){case\".\":o=n=i;break;case\"0\":0===o&&(o=i),n=i;break;case\"e\":break t;default:o>0&&(o=0)}return o>0?t.slice(0,o)+t.slice(n+1):t}},function(t,e,n){\"use strict\";e.a=function(t,e){return function(n,r){for(var i=n.length,o=[],a=0,u=t[0],c=0;i>0&&u>0&&(c+u+1>r&&(u=Math.max(1,r-c)),o.push(n.substring(i-=u,i+u)),!((c+=u+1)>r));)u=t[a=(a+1)%t.length];return o.reverse().join(e)}}},function(t,e,n){\"use strict\";e.a=function(t){return function(e){return e.replace(/[0-9]/g,function(e){return t[+e]})}}},function(t,e,n){\"use strict\";var r=n(63);e.a=function(t,e){var i=n.i(r.a)(t,e);if(!i)return t+\"\";var o=i[0],a=i[1];return a<0?\"0.\"+new Array(-a).join(\"0\")+o:o.length>a+1?o.slice(0,a+1)+\".\"+o.slice(a+1):o+new Array(a-o.length+2).join(\"0\")}},function(t,e,n){\"use strict\";e.a=function(t){return t}},function(t,e,n){\"use strict\";var r=n(42);e.a=function(t){return Math.max(0,-n.i(r.a)(Math.abs(t)))}},function(t,e,n){\"use strict\";var r=n(42);e.a=function(t,e){return Math.max(0,3*Math.max(-8,Math.min(8,Math.floor(n.i(r.a)(e)/3)))-n.i(r.a)(Math.abs(t)))}},function(t,e,n){\"use strict\";var r=n(42);e.a=function(t,e){return t=Math.abs(t),e=Math.abs(e)-t,Math.max(0,n.i(r.a)(e)-n.i(r.a)(t))+1}},function(t,e,n){\"use strict\";function r(t){return function e(r){function a(e,a){var u=t((e=n.i(i.cubehelix)(e)).h,(a=n.i(i.cubehelix)(a)).h),c=n.i(o.a)(e.s,a.s),s=n.i(o.a)(e.l,a.l),l=n.i(o.a)(e.opacity,a.opacity);return function(t){return e.h=u(t),e.s=c(t),e.l=s(Math.pow(t,r)),e.opacity=l(t),e+\"\"}}return r=+r,a.gamma=e,a}(1)}n.d(e,\"a\",function(){return a});var i=n(10),o=n(31),a=(r(o.b),r(o.a))},function(t,e,n){\"use strict\";function r(t){return function(e,r){var a=t((e=n.i(i.hcl)(e)).h,(r=n.i(i.hcl)(r)).h),u=n.i(o.a)(e.c,r.c),c=n.i(o.a)(e.l,r.l),s=n.i(o.a)(e.opacity,r.opacity);return function(t){return e.h=a(t),e.c=u(t),e.l=c(t),e.opacity=s(t),e+\"\"}}}var i=n(10),o=n(31);r(o.b),r(o.a)},function(t,e,n){\"use strict\";function r(t){return function(e,r){var a=t((e=n.i(i.hsl)(e)).h,(r=n.i(i.hsl)(r)).h),u=n.i(o.a)(e.s,r.s),c=n.i(o.a)(e.l,r.l),s=n.i(o.a)(e.opacity,r.opacity);return function(t){return e.h=a(t),e.s=u(t),e.l=c(t),e.opacity=s(t),e+\"\"}}}var i=n(10),o=n(31);r(o.b),r(o.a)},function(t,e,n){\"use strict\";n(10),n(31)},function(t,e,n){\"use strict\"},function(t,e,n){\"use strict\";e.a=function(t,e){return t=+t,e-=t,function(n){return Math.round(t+e*n)}}},function(t,e,n){\"use strict\";n.d(e,\"a\",function(){return i});var r=180/Math.PI,i={translateX:0,translateY:0,rotate:0,skewX:0,scaleX:1,scaleY:1};e.b=function(t,e,n,i,o,a){var u,c,s;return(u=Math.sqrt(t*t+e*e))&&(t/=u,e/=u),(s=t*n+e*i)&&(n-=t*s,i-=e*s),(c=Math.sqrt(n*n+i*i))&&(n/=c,i/=c,s/=c),t*i<e*n&&(t=-t,e=-e,s=-s,u=-u),{translateX:o,translateY:a,rotate:Math.atan2(e,t)*r,skewX:Math.atan(s)*r,scaleX:u,scaleY:c}}},function(t,e,n){\"use strict\";function r(t,e,r,o){function a(t){return t.length?t.pop()+\" \":\"\"}function u(t,o,a,u,c,s){if(t!==a||o!==u){var l=c.push(\"translate(\",null,e,null,r);s.push({i:l-4,x:n.i(i.a)(t,a)},{i:l-2,x:n.i(i.a)(o,u)})}else(a||u)&&c.push(\"translate(\"+a+e+u+r)}function c(t,e,r,u){t!==e?(t-e>180?e+=360:e-t>180&&(t+=360),u.push({i:r.push(a(r)+\"rotate(\",null,o)-2,x:n.i(i.a)(t,e)})):e&&r.push(a(r)+\"rotate(\"+e+o)}function s(t,e,r,u){t!==e?u.push({i:r.push(a(r)+\"skewX(\",null,o)-2,x:n.i(i.a)(t,e)}):e&&r.push(a(r)+\"skewX(\"+e+o)}function l(t,e,r,o,u,c){if(t!==r||e!==o){var s=u.push(a(u)+\"scale(\",null,\",\",null,\")\");c.push({i:s-4,x:n.i(i.a)(t,r)},{i:s-2,x:n.i(i.a)(e,o)})}else 1===r&&1===o||u.push(a(u)+\"scale(\"+r+\",\"+o+\")\")}return function(e,n){var r=[],i=[];return e=t(e),n=t(n),u(e.translateX,e.translateY,n.translateX,n.translateY,r,i),c(e.rotate,n.rotate,r,i),s(e.skewX,n.skewX,r,i),l(e.scaleX,e.scaleY,n.scaleX,n.scaleY,r,i),e=n=null,function(t){for(var e,n=-1,o=i.length;++n<o;)r[(e=i[n]).i]=e.x(t);return r.join(\"\")}}}var i=n(43),o=n(236);r(o.a,\"px, \",\"px)\",\"deg)\"),r(o.b,\", \",\")\",\")\")},function(t,e,n){\"use strict\";function r(t){return\"none\"===t?s.a:(o||(o=document.createElement(\"DIV\"),a=document.documentElement,u=document.defaultView),o.style.transform=t,t=u.getComputedStyle(a.appendChild(o),null).getPropertyValue(\"transform\"),a.removeChild(o),t=t.slice(7,-1).split(\",\"),n.i(s.b)(+t[0],+t[1],+t[2],+t[3],+t[4],+t[5]))}function i(t){return null==t?s.a:(c||(c=document.createElementNS(\"http://www.w3.org/2000/svg\",\"g\")),c.setAttribute(\"transform\",t),(t=c.transform.baseVal.consolidate())?(t=t.matrix,n.i(s.b)(t.a,t.b,t.c,t.d,t.e,t.f)):s.a)}e.a=r,e.b=i;var o,a,u,c,s=n(234)},function(t,e,n){\"use strict\";Math.SQRT2},function(t,e,n){\"use strict\";function r(){this._x0=this._y0=this._x1=this._y1=null,this._=\"\"}function i(){return new r}var o=Math.PI,a=2*o,u=a-1e-6;r.prototype=i.prototype={constructor:r,moveTo:function(t,e){this._+=\"M\"+(this._x0=this._x1=+t)+\",\"+(this._y0=this._y1=+e)},closePath:function(){null!==this._x1&&(this._x1=this._x0,this._y1=this._y0,this._+=\"Z\")},lineTo:function(t,e){this._+=\"L\"+(this._x1=+t)+\",\"+(this._y1=+e)},quadraticCurveTo:function(t,e,n,r){this._+=\"Q\"+ +t+\",\"+ +e+\",\"+(this._x1=+n)+\",\"+(this._y1=+r)},bezierCurveTo:function(t,e,n,r,i,o){this._+=\"C\"+ +t+\",\"+ +e+\",\"+ +n+\",\"+ +r+\",\"+(this._x1=+i)+\",\"+(this._y1=+o)},arcTo:function(t,e,n,r,i){t=+t,e=+e,n=+n,r=+r,i=+i;var a=this._x1,u=this._y1,c=n-t,s=r-e,l=a-t,f=u-e,p=l*l+f*f;if(i<0)throw new Error(\"negative radius: \"+i);if(null===this._x1)this._+=\"M\"+(this._x1=t)+\",\"+(this._y1=e);else if(p>1e-6)if(Math.abs(f*c-s*l)>1e-6&&i){var h=n-a,d=r-u,v=c*c+s*s,g=h*h+d*d,m=Math.sqrt(v),y=Math.sqrt(p),_=i*Math.tan((o-Math.acos((v+p-g)/(2*m*y)))/2),b=_/y,x=_/m;Math.abs(b-1)>1e-6&&(this._+=\"L\"+(t+b*l)+\",\"+(e+b*f)),this._+=\"A\"+i+\",\"+i+\",0,0,\"+ +(f*h>l*d)+\",\"+(this._x1=t+x*c)+\",\"+(this._y1=e+x*s)}else this._+=\"L\"+(this._x1=t)+\",\"+(this._y1=e);else;},arc:function(t,e,n,r,i,c){t=+t,e=+e,n=+n;var s=n*Math.cos(r),l=n*Math.sin(r),f=t+s,p=e+l,h=1^c,d=c?r-i:i-r;if(n<0)throw new Error(\"negative radius: \"+n);null===this._x1?this._+=\"M\"+f+\",\"+p:(Math.abs(this._x1-f)>1e-6||Math.abs(this._y1-p)>1e-6)&&(this._+=\"L\"+f+\",\"+p),n&&(d<0&&(d=d%a+a),d>u?this._+=\"A\"+n+\",\"+n+\",0,1,\"+h+\",\"+(t-s)+\",\"+(e-l)+\"A\"+n+\",\"+n+\",0,1,\"+h+\",\"+(this._x1=f)+\",\"+(this._y1=p):d>1e-6&&(this._+=\"A\"+n+\",\"+n+\",0,\"+ +(d>=o)+\",\"+h+\",\"+(this._x1=t+n*Math.cos(i))+\",\"+(this._y1=e+n*Math.sin(i))))},rect:function(t,e,n,r){this._+=\"M\"+(this._x0=this._x1=+t)+\",\"+(this._y0=this._y1=+e)+\"h\"+ +n+\"v\"+ +r+\"h\"+-n+\"Z\"},toString:function(){return this._}},e.a=i},function(t,e,n){\"use strict\";function r(){function t(){var t=c().length,r=l[1]<l[0],o=l[r-0],u=l[1-r];e=(u-o)/Math.max(1,t-p+2*h),f&&(e=Math.floor(e)),o+=(u-o-e*(t-p))*d,i=e*(1-p),f&&(o=Math.round(o),i=Math.round(i));var v=n.i(a.range)(t).map(function(t){return o+e*t});return s(r?v.reverse():v)}var e,i,o=n.i(u.a)().unknown(void 0),c=o.domain,s=o.range,l=[0,1],f=!1,p=0,h=0,d=.5;return delete o.unknown,o.domain=function(e){return arguments.length?(c(e),t()):c()},o.range=function(e){return arguments.length?(l=[+e[0],+e[1]],t()):l.slice()},o.rangeRound=function(e){return l=[+e[0],+e[1]],f=!0,t()},o.bandwidth=function(){return i},o.step=function(){return e},o.round=function(e){return arguments.length?(f=!!e,t()):f},o.padding=function(e){return arguments.length?(p=h=Math.max(0,Math.min(1,e)),t()):p},o.paddingInner=function(e){return arguments.length?(p=Math.max(0,Math.min(1,e)),t()):p},o.paddingOuter=function(e){return arguments.length?(h=Math.max(0,Math.min(1,e)),t()):h},o.align=function(e){return arguments.length?(d=Math.max(0,Math.min(1,e)),t()):d},o.copy=function(){return r().domain(c()).range(l).round(f).paddingInner(p).paddingOuter(h).align(d)},t()}function i(t){var e=t.copy;return t.padding=t.paddingOuter,delete t.paddingInner,delete t.paddingOuter,t.copy=function(){return i(e())},t}function o(){return i(r().paddingInner(1))}e.a=r,e.b=o;var a=n(7),u=n(127)},function(t,e,n){\"use strict\";var r=n(33);e.a=n.i(r.a)(\"1f77b4ff7f0e2ca02cd627289467bd8c564be377c27f7f7fbcbd2217becf\")},function(t,e,n){\"use strict\";var r=n(33);e.a=n.i(r.a)(\"1f77b4aec7e8ff7f0effbb782ca02c98df8ad62728ff98969467bdc5b0d58c564bc49c94e377c2f7b6d27f7f7fc7c7c7bcbd22dbdb8d17becf9edae5\")},function(t,e,n){\"use strict\";var r=n(33);e.a=n.i(r.a)(\"393b795254a36b6ecf9c9ede6379398ca252b5cf6bcedb9c8c6d31bd9e39e7ba52e7cb94843c39ad494ad6616be7969c7b4173a55194ce6dbdde9ed6\")},function(t,e,n){\"use strict\";var r=n(33);e.a=n.i(r.a)(\"3182bd6baed69ecae1c6dbefe6550dfd8d3cfdae6bfdd0a231a35474c476a1d99bc7e9c0756bb19e9ac8bcbddcdadaeb636363969696bdbdbdd9d9d9\")},function(t,e,n){\"use strict\";var r=n(10),i=n(30);e.a=n.i(i.d)(n.i(r.cubehelix)(300,.5,0),n.i(r.cubehelix)(-240,.5,1))},function(t,e,n){\"use strict\";function r(){function t(t){return+t}var e=[0,1];return t.invert=t,t.domain=t.range=function(n){return arguments.length?(e=i.a.call(n,a.a),t):e.slice()},t.copy=function(){return r().domain(e)},n.i(o.b)(t)}e.a=r;var i=n(16),o=n(34),a=n(126)},function(t,e,n){\"use strict\";function r(t,e){return(e=Math.log(e/t))?function(n){return Math.log(n/t)/e}:n.i(p.a)(e)}function i(t,e){return t<0?function(n){return-Math.pow(-e,n)*Math.pow(-t,1-n)}:function(n){return Math.pow(e,n)*Math.pow(t,1-n)}}function o(t){return isFinite(t)?+(\"1e\"+t):t<0?0:t}function a(t){return 10===t?o:t===Math.E?Math.exp:function(e){return Math.pow(t,e)}}function u(t){return t===Math.E?Math.log:10===t&&Math.log10||2===t&&Math.log2||(t=Math.log(t),function(e){return Math.log(e)/t})}function c(t){return function(e){return-t(-e)}}function s(){function t(){return v=u(p),g=a(p),o()[0]<0&&(v=c(v),g=c(g)),e}var e=n.i(d.a)(r,i).domain([1,10]),o=e.domain,p=10,v=u(10),g=a(10);return e.base=function(e){return arguments.length?(p=+e,t()):p},e.domain=function(e){return arguments.length?(o(e),t()):o()},e.ticks=function(t){var e,r=o(),i=r[0],a=r[r.length-1];(e=a<i)&&(f=i,i=a,a=f);var u,c,s,f=v(i),h=v(a),d=null==t?10:+t,m=[];if(!(p%1)&&h-f<d){if(f=Math.round(f)-1,h=Math.round(h)+1,i>0){for(;f<h;++f)for(c=1,u=g(f);c<p;++c)if(!((s=u*c)<i)){if(s>a)break;m.push(s)}}else for(;f<h;++f)for(c=p-1,u=g(f);c>=1;--c)if(!((s=u*c)<i)){if(s>a)break;m.push(s)}}else m=n.i(l.ticks)(f,h,Math.min(h-f,d)).map(g);return e?m.reverse():m},e.tickFormat=function(t,r){if(null==r&&(r=10===p?\".0e\":\",\"),\"function\"!=typeof r&&(r=n.i(f.format)(r)),t===1/0)return r;null==t&&(t=10);var i=Math.max(1,p*t/e.ticks().length);return function(t){var e=t/g(Math.round(v(t)));return e*p<p-.5&&(e*=p),e<=i?r(t):\"\"}},e.nice=function(){return o(n.i(h.a)(o(),{floor:function(t){return g(Math.floor(v(t)))},ceil:function(t){return g(Math.ceil(v(t)))}}))},e.copy=function(){return n.i(d.c)(e,s().base(p))},e}e.a=s;var l=n(7),f=n(29),p=n(67),h=n(125),d=n(44)},function(t,e,n){\"use strict\";function r(t,e){return t<0?-Math.pow(-t,e):Math.pow(t,e)}function i(){function t(t,e){return(e=r(e,o)-(t=r(t,o)))?function(n){return(r(n,o)-t)/e}:n.i(a.a)(e)}function e(t,e){return e=r(e,o)-(t=r(t,o)),function(n){return r(t+e*n,1/o)}}var o=1,s=n.i(c.a)(t,e),l=s.domain;return s.exponent=function(t){return arguments.length?(o=+t,l(l())):o},s.copy=function(){return n.i(c.c)(s,i().exponent(o))},n.i(u.b)(s)}function o(){return i().exponent(.5)}e.a=i,e.b=o;var a=n(67),u=n(34),c=n(44)},function(t,e,n){\"use strict\";function r(){function t(){var t=0,r=Math.max(1,u.length);for(c=new Array(r-1);++t<r;)c[t-1]=n.i(i.quantile)(a,t/r);return e}function e(t){if(!isNaN(t=+t))return u[n.i(i.bisect)(c,t)]}var a=[],u=[],c=[];return e.invertExtent=function(t){var e=u.indexOf(t);return e<0?[NaN,NaN]:[e>0?c[e-1]:a[0],e<c.length?c[e]:a[a.length-1]]},e.domain=function(e){if(!arguments.length)return a.slice();a=[];for(var n,r=0,o=e.length;r<o;++r)null==(n=e[r])||isNaN(n=+n)||a.push(n);return a.sort(i.ascending),t()},e.range=function(e){return arguments.length?(u=o.b.call(e),t()):u.slice()},e.quantiles=function(){return c.slice()},e.copy=function(){return r().domain(a).range(u)},e}e.a=r;var i=n(7),o=n(16)},function(t,e,n){\"use strict\";function r(){function t(t){if(t<=t)return f[n.i(i.bisect)(l,t,0,s)]}function e(){var e=-1;for(l=new Array(s);++e<s;)l[e]=((e+1)*c-(e-s)*u)/(s+1);return t}var u=0,c=1,s=1,l=[.5],f=[0,1];return t.domain=function(t){return arguments.length?(u=+t[0],c=+t[1],e()):[u,c]},t.range=function(t){return arguments.length?(s=(f=o.b.call(t)).length-1,e()):f.slice()},t.invertExtent=function(t){var e=f.indexOf(t);return e<0?[NaN,NaN]:e<1?[u,l[0]]:e>=s?[l[s-1],c]:[l[e-1],l[e]]},t.copy=function(){return r().domain([u,c]).range(f)},n.i(a.b)(t)}e.a=r;var i=n(7),o=n(16),a=n(34)},function(t,e,n){\"use strict\";n.d(e,\"b\",function(){return o}),n.d(e,\"c\",function(){return a});var r=n(10),i=n(30),o=n.i(i.d)(n.i(r.cubehelix)(-100,.75,.35),n.i(r.cubehelix)(80,1.5,.8)),a=n.i(i.d)(n.i(r.cubehelix)(260,.75,.35),n.i(r.cubehelix)(80,1.5,.8)),u=n.i(r.cubehelix)();e.a=function(t){(t<0||t>1)&&(t-=Math.floor(t));var e=Math.abs(t-.5);return u.h=360*t-100,u.s=1.5-1.5*e,u.l=.8-.9*e,u+\"\"}},function(t,e,n){\"use strict\";function r(t){function e(e){var n=(e-o)/(a-o);return t(u?Math.max(0,Math.min(1,n)):n)}var o=0,a=1,u=!1;return e.domain=function(t){return arguments.length?(o=+t[0],a=+t[1],e):[o,a]},e.clamp=function(t){return arguments.length?(u=!!t,e):u},e.interpolator=function(n){return arguments.length?(t=n,e):t},e.copy=function(){return r(t).domain([o,a]).clamp(u)},n.i(i.b)(e)}e.a=r;var i=n(34)},function(t,e,n){\"use strict\";function r(){function t(t){if(t<=t)return a[n.i(i.bisect)(e,t,0,u)]}var e=[.5],a=[0,1],u=1;return t.domain=function(n){return arguments.length?(e=o.b.call(n),u=Math.min(e.length,a.length-1),t):e.slice()},t.range=function(n){return arguments.length?(a=o.b.call(n),u=Math.min(e.length,a.length-1),t):a.slice()},t.invertExtent=function(t){var n=a.indexOf(t);return[e[n-1],e[n]]},t.copy=function(){return r().domain(e).range(a)},t}e.a=r;var i=n(7),o=n(16)},function(t,e,n){\"use strict\";var r=n(7),i=n(29);e.a=function(t,e,o){var a,u=t[0],c=t[t.length-1],s=n.i(r.tickStep)(u,c,null==e?10:e);switch(o=n.i(i.formatSpecifier)(null==o?\",f\":o),o.type){case\"s\":var l=Math.max(Math.abs(u),Math.abs(c));return null!=o.precision||isNaN(a=n.i(i.precisionPrefix)(s,l))||(o.precision=a),n.i(i.formatPrefix)(o,l);case\"\":case\"e\":case\"g\":case\"p\":case\"r\":null!=o.precision||isNaN(a=n.i(i.precisionRound)(s,Math.max(Math.abs(u),Math.abs(c))))||(o.precision=a-(\"e\"===o.type));break;case\"f\":case\"%\":null!=o.precision||isNaN(a=n.i(i.precisionFixed)(s))||(o.precision=a-2*(\"%\"===o.type))}return n.i(i.format)(o)}},function(t,e,n){\"use strict\";var r=n(128),i=n(78),o=n(80);e.a=function(){return n.i(r.b)(o.h,o.k,o.l,o.b,o.m,o.n,o.o,o.p,i.utcFormat).domain([Date.UTC(2e3,0,1),Date.UTC(2e3,0,2)])}},function(t,e,n){\"use strict\";function r(t){var e=t.length;return function(n){return t[Math.max(0,Math.min(e-1,Math.floor(n*e)))]}}n.d(e,\"b\",function(){return o}),n.d(e,\"c\",function(){return a}),n.d(e,\"d\",function(){return u});var i=n(33);e.a=r(n.i(i.a)(\"44015444025645045745055946075a46085c460a5d460b5e470d60470e6147106347116447136548146748166848176948186a481a6c481b6d481c6e481d6f481f70482071482173482374482475482576482677482878482979472a7a472c7a472d7b472e7c472f7d46307e46327e46337f463480453581453781453882443983443a83443b84433d84433e85423f854240864241864142874144874045884046883f47883f48893e49893e4a893e4c8a3d4d8a3d4e8a3c4f8a3c508b3b518b3b528b3a538b3a548c39558c39568c38588c38598c375a8c375b8d365c8d365d8d355e8d355f8d34608d34618d33628d33638d32648e32658e31668e31678e31688e30698e306a8e2f6b8e2f6c8e2e6d8e2e6e8e2e6f8e2d708e2d718e2c718e2c728e2c738e2b748e2b758e2a768e2a778e2a788e29798e297a8e297b8e287c8e287d8e277e8e277f8e27808e26818e26828e26828e25838e25848e25858e24868e24878e23888e23898e238a8d228b8d228c8d228d8d218e8d218f8d21908d21918c20928c20928c20938c1f948c1f958b1f968b1f978b1f988b1f998a1f9a8a1e9b8a1e9c891e9d891f9e891f9f881fa0881fa1881fa1871fa28720a38620a48621a58521a68522a78522a88423a98324aa8325ab8225ac8226ad8127ad8128ae8029af7f2ab07f2cb17e2db27d2eb37c2fb47c31b57b32b67a34b67935b77937b87838b9773aba763bbb753dbc743fbc7340bd7242be7144bf7046c06f48c16e4ac16d4cc26c4ec36b50c46a52c56954c56856c66758c7655ac8645cc8635ec96260ca6063cb5f65cb5e67cc5c69cd5b6ccd5a6ece5870cf5773d05675d05477d1537ad1517cd2507fd34e81d34d84d44b86d54989d5488bd6468ed64590d74393d74195d84098d83e9bd93c9dd93ba0da39a2da37a5db36a8db34aadc32addc30b0dd2fb2dd2db5de2bb8de29bade28bddf26c0df25c2df23c5e021c8e020cae11fcde11dd0e11cd2e21bd5e21ad8e219dae319dde318dfe318e2e418e5e419e7e419eae51aece51befe51cf1e51df4e61ef6e620f8e621fbe723fde725\"));var o=r(n.i(i.a)(\"00000401000501010601010802010902020b02020d03030f03031204041405041606051806051a07061c08071e0907200a08220b09240c09260d0a290e0b2b100b2d110c2f120d31130d34140e36150e38160f3b180f3d19103f1a10421c10441d11471e114920114b21114e22115024125325125527125829115a2a115c2c115f2d11612f116331116533106734106936106b38106c390f6e3b0f703d0f713f0f72400f74420f75440f764510774710784910784a10794c117a4e117b4f127b51127c52137c54137d56147d57157e59157e5a167e5c167f5d177f5f187f601880621980641a80651a80671b80681c816a1c816b1d816d1d816e1e81701f81721f817320817521817621817822817922827b23827c23827e24828025828125818326818426818627818827818928818b29818c29818e2a81902a81912b81932b80942c80962c80982d80992d809b2e7f9c2e7f9e2f7fa02f7fa1307ea3307ea5317ea6317da8327daa337dab337cad347cae347bb0357bb2357bb3367ab5367ab73779b83779ba3878bc3978bd3977bf3a77c03a76c23b75c43c75c53c74c73d73c83e73ca3e72cc3f71cd4071cf4070d0416fd2426fd3436ed5446dd6456cd8456cd9466bdb476adc4869de4968df4a68e04c67e24d66e34e65e44f64e55064e75263e85362e95462ea5661eb5760ec5860ed5a5fee5b5eef5d5ef05f5ef1605df2625df2645cf3655cf4675cf4695cf56b5cf66c5cf66e5cf7705cf7725cf8745cf8765cf9785df9795df97b5dfa7d5efa7f5efa815ffb835ffb8560fb8761fc8961fc8a62fc8c63fc8e64fc9065fd9266fd9467fd9668fd9869fd9a6afd9b6bfe9d6cfe9f6dfea16efea36ffea571fea772fea973feaa74feac76feae77feb078feb27afeb47bfeb67cfeb77efeb97ffebb81febd82febf84fec185fec287fec488fec68afec88cfeca8dfecc8ffecd90fecf92fed194fed395fed597fed799fed89afdda9cfddc9efddea0fde0a1fde2a3fde3a5fde5a7fde7a9fde9aafdebacfcecaefceeb0fcf0b2fcf2b4fcf4b6fcf6b8fcf7b9fcf9bbfcfbbdfcfdbf\")),a=r(n.i(i.a)(\"00000401000501010601010802010a02020c02020e03021004031204031405041706041907051b08051d09061f0a07220b07240c08260d08290e092b10092d110a30120a32140b34150b37160b39180c3c190c3e1b0c411c0c431e0c451f0c48210c4a230c4c240c4f260c51280b53290b552b0b572d0b592f0a5b310a5c320a5e340a5f3609613809623909633b09643d09653e0966400a67420a68440a68450a69470b6a490b6a4a0c6b4c0c6b4d0d6c4f0d6c510e6c520e6d540f6d550f6d57106e59106e5a116e5c126e5d126e5f136e61136e62146e64156e65156e67166e69166e6a176e6c186e6d186e6f196e71196e721a6e741a6e751b6e771c6d781c6d7a1d6d7c1d6d7d1e6d7f1e6c801f6c82206c84206b85216b87216b88226a8a226a8c23698d23698f24699025689225689326679526679727669827669a28659b29649d29649f2a63a02a63a22b62a32c61a52c60a62d60a82e5fa92e5eab2f5ead305dae305cb0315bb1325ab3325ab43359b63458b73557b93556ba3655bc3754bd3853bf3952c03a51c13a50c33b4fc43c4ec63d4dc73e4cc83f4bca404acb4149cc4248ce4347cf4446d04545d24644d34743d44842d54a41d74b3fd84c3ed94d3dda4e3cdb503bdd513ade5238df5337e05536e15635e25734e35933e45a31e55c30e65d2fe75e2ee8602de9612bea632aeb6429eb6628ec6726ed6925ee6a24ef6c23ef6e21f06f20f1711ff1731df2741cf3761bf37819f47918f57b17f57d15f67e14f68013f78212f78410f8850ff8870ef8890cf98b0bf98c0af98e09fa9008fa9207fa9407fb9606fb9706fb9906fb9b06fb9d07fc9f07fca108fca309fca50afca60cfca80dfcaa0ffcac11fcae12fcb014fcb216fcb418fbb61afbb81dfbba1ffbbc21fbbe23fac026fac228fac42afac62df9c72ff9c932f9cb35f8cd37f8cf3af7d13df7d340f6d543f6d746f5d949f5db4cf4dd4ff4df53f4e156f3e35af3e55df2e661f2e865f2ea69f1ec6df1ed71f1ef75f1f179f2f27df2f482f3f586f3f68af4f88ef5f992f6fa96f8fb9af9fc9dfafda1fcffa4\")),u=r(n.i(i.a)(\"0d088710078813078916078a19068c1b068d1d068e20068f2206902406912605912805922a05932c05942e05952f059631059733059735049837049938049a3a049a3c049b3e049c3f049c41049d43039e44039e46039f48039f4903a04b03a14c02a14e02a25002a25102a35302a35502a45601a45801a45901a55b01a55c01a65e01a66001a66100a76300a76400a76600a76700a86900a86a00a86c00a86e00a86f00a87100a87201a87401a87501a87701a87801a87a02a87b02a87d03a87e03a88004a88104a78305a78405a78606a68707a68808a68a09a58b0aa58d0ba58e0ca48f0da4910ea3920fa39410a29511a19613a19814a099159f9a169f9c179e9d189d9e199da01a9ca11b9ba21d9aa31e9aa51f99a62098a72197a82296aa2395ab2494ac2694ad2793ae2892b02991b12a90b22b8fb32c8eb42e8db52f8cb6308bb7318ab83289ba3388bb3488bc3587bd3786be3885bf3984c03a83c13b82c23c81c33d80c43e7fc5407ec6417dc7427cc8437bc9447aca457acb4679cc4778cc4977cd4a76ce4b75cf4c74d04d73d14e72d24f71d35171d45270d5536fd5546ed6556dd7566cd8576bd9586ada5a6ada5b69db5c68dc5d67dd5e66de5f65de6164df6263e06363e16462e26561e26660e3685fe4695ee56a5de56b5de66c5ce76e5be76f5ae87059e97158e97257ea7457eb7556eb7655ec7754ed7953ed7a52ee7b51ef7c51ef7e50f07f4ff0804ef1814df1834cf2844bf3854bf3874af48849f48948f58b47f58c46f68d45f68f44f79044f79143f79342f89441f89540f9973ff9983ef99a3efa9b3dfa9c3cfa9e3bfb9f3afba139fba238fca338fca537fca636fca835fca934fdab33fdac33fdae32fdaf31fdb130fdb22ffdb42ffdb52efeb72dfeb82cfeba2cfebb2bfebd2afebe2afec029fdc229fdc328fdc527fdc627fdc827fdca26fdcb26fccd25fcce25fcd025fcd225fbd324fbd524fbd724fad824fada24f9dc24f9dd25f8df25f8e125f7e225f7e425f6e626f6e826f5e926f5eb27f4ed27f3ee27f3f027f2f227f1f426f1f525f0f724f0f921\"))},function(t,e,n){\"use strict\";e.a=function(t){return function(){return t}}},function(t,e,n){\"use strict\";var r=n(45),i=n(131);e.a=function(t){return n.i(i.a)(n.i(r.a)(t).call(document.documentElement))}},function(t,e,n){\"use strict\";function r(){return new i}function i(){this._=\"@\"+(++o).toString(36)}e.a=r;var o=0;i.prototype=r.prototype={constructor:i,get:function(t){for(var e=this._;!(e in t);)if(!(t=t.parentNode))return;return t[e]},set:function(t,e){return t[this._]=e},remove:function(t){return this._ in t&&delete t[this._]},toString:function(){return this._}}},function(t,e,n){\"use strict\";var r=n(72),i=n(46);e.a=function(t){var e=n.i(r.a)();return e.changedTouches&&(e=e.changedTouches[0]),n.i(i.a)(t,e)}},function(t,e,n){\"use strict\";var r=n(8);e.a=function(t){return\"string\"==typeof t?new r.b([document.querySelectorAll(t)],[document.documentElement]):new r.b([null==t?[]:t],r.c)}},function(t,e,n){\"use strict\";var r=n(45);e.a=function(t){var e=\"function\"==typeof t?t:n.i(r.a)(t);return this.select(function(){return this.appendChild(e.apply(this,arguments))})}},function(t,e,n){\"use strict\";function r(t){return function(){this.removeAttribute(t)}}function i(t){return function(){this.removeAttributeNS(t.space,t.local)}}function o(t,e){return function(){this.setAttribute(t,e)}}function a(t,e){return function(){this.setAttributeNS(t.space,t.local,e)}}function u(t,e){return function(){var n=e.apply(this,arguments);null==n?this.removeAttribute(t):this.setAttribute(t,n)}}function c(t,e){return function(){var n=e.apply(this,arguments);null==n?this.removeAttributeNS(t.space,t.local):this.setAttributeNS(t.space,t.local,n)}}var s=n(68);e.a=function(t,e){var l=n.i(s.a)(t);if(arguments.length<2){var f=this.node();return l.local?f.getAttributeNS(l.space,l.local):f.getAttribute(l)}return this.each((null==e?l.local?i:r:\"function\"==typeof e?l.local?c:u:l.local?a:o)(l,e))}},function(t,e,n){\"use strict\";e.a=function(){var t=arguments[0];return arguments[0]=this,t.apply(null,arguments),this}},function(t,e,n){\"use strict\";function r(t){return t.trim().split(/^|\\s+/)}function i(t){return t.classList||new o(t)}function o(t){this._node=t,this._names=r(t.getAttribute(\"class\")||\"\")}function a(t,e){for(var n=i(t),r=-1,o=e.length;++r<o;)n.add(e[r])}function u(t,e){for(var n=i(t),r=-1,o=e.length;++r<o;)n.remove(e[r])}function c(t){return function(){a(this,t)}}function s(t){return function(){u(this,t)}}function l(t,e){return function(){(e.apply(this,arguments)?a:u)(this,t)}}o.prototype={add:function(t){this._names.indexOf(t)<0&&(this._names.push(t),this._node.setAttribute(\"class\",this._names.join(\" \")))},remove:function(t){var e=this._names.indexOf(t);e>=0&&(this._names.splice(e,1),this._node.setAttribute(\"class\",this._names.join(\" \")))},contains:function(t){return this._names.indexOf(t)>=0}},e.a=function(t,e){var n=r(t+\"\");if(arguments.length<2){for(var o=i(this.node()),a=-1,u=n.length;++a<u;)if(!o.contains(n[a]))return!1;return!0}return this.each((\"function\"==typeof e?l:e?c:s)(n,e))}},function(t,e,n){\"use strict\";function r(){return this.parentNode.insertBefore(this.cloneNode(!1),this.nextSibling)}function i(){return this.parentNode.insertBefore(this.cloneNode(!0),this.nextSibling)}e.a=function(t){return this.select(t?i:r)}},function(t,e,n){\"use strict\";function r(t,e,n,r,i,o){for(var u,c=0,s=e.length,l=o.length;c<l;++c)(u=e[c])?(u.__data__=o[c],r[c]=u):n[c]=new a.b(t,o[c]);for(;c<s;++c)(u=e[c])&&(i[c]=u)}function i(t,e,n,r,i,o,u){var s,l,f,p={},h=e.length,d=o.length,v=new Array(h);for(s=0;s<h;++s)(l=e[s])&&(v[s]=f=c+u.call(l,l.__data__,s,e),f in p?i[s]=l:p[f]=l);for(s=0;s<d;++s)f=c+u.call(t,o[s],s,o),(l=p[f])?(r[s]=l,l.__data__=o[s],p[f]=null):n[s]=new a.b(t,o[s]);for(s=0;s<h;++s)(l=e[s])&&p[v[s]]===l&&(i[s]=l)}var o=n(8),a=n(132),u=n(256),c=\"$\";e.a=function(t,e){if(!t)return y=new Array(this.size()),d=-1,this.each(function(t){y[++d]=t}),y;var a=e?i:r,c=this._parents,s=this._groups;\"function\"!=typeof t&&(t=n.i(u.a)(t));for(var l=s.length,f=new Array(l),p=new Array(l),h=new Array(l),d=0;d<l;++d){var v=c[d],g=s[d],m=g.length,y=t.call(v,v&&v.__data__,d,c),_=y.length,b=p[d]=new Array(_),x=f[d]=new Array(_);a(v,g,b,x,h[d]=new Array(m),y,e);for(var w,C,k=0,E=0;k<_;++k)if(w=b[k]){for(k>=E&&(E=k+1);!(C=x[E])&&++E<_;);w._next=C||null}}return f=new o.b(f,c),f._enter=p,f._exit=h,f}},function(t,e,n){\"use strict\";e.a=function(t){return arguments.length?this.property(\"__data__\",t):this.node().__data__}},function(t,e,n){\"use strict\";function r(t,e,r){var i=n.i(a.a)(t),o=i.CustomEvent;\"function\"==typeof o?o=new o(e,r):(o=i.document.createEvent(\"Event\"),r?(o.initEvent(e,r.bubbles,r.cancelable),o.detail=r.detail):o.initEvent(e,!1,!1)),t.dispatchEvent(o)}function i(t,e){return function(){return r(this,t,e)}}function o(t,e){return function(){return r(this,t,e.apply(this,arguments))}}var a=n(73);e.a=function(t,e){return this.each((\"function\"==typeof e?o:i)(t,e))}},function(t,e,n){\"use strict\";e.a=function(t){for(var e=this._groups,n=0,r=e.length;n<r;++n)for(var i,o=e[n],a=0,u=o.length;a<u;++a)(i=o[a])&&t.call(i,i.__data__,a,o);return this}},function(t,e,n){\"use strict\";e.a=function(){return!this.node()}},function(t,e,n){\"use strict\";var r=n(133),i=n(8);e.a=function(){return new i.b(this._exit||this._groups.map(r.a),this._parents)}},function(t,e,n){\"use strict\";var r=n(8),i=n(130);e.a=function(t){\"function\"!=typeof t&&(t=n.i(i.a)(t));for(var e=this._groups,o=e.length,a=new Array(o),u=0;u<o;++u)for(var c,s=e[u],l=s.length,f=a[u]=[],p=0;p<l;++p)(c=s[p])&&t.call(c,c.__data__,p,s)&&f.push(c);return new r.b(a,this._parents)}},function(t,e,n){\"use strict\";function r(){this.innerHTML=\"\"}function i(t){return function(){this.innerHTML=t}}function o(t){return function(){var e=t.apply(this,arguments);this.innerHTML=null==e?\"\":e}}e.a=function(t){return arguments.length?this.each(null==t?r:(\"function\"==typeof t?o:i)(t)):this.node().innerHTML}},function(t,e,n){\"use strict\";function r(){return null}var i=n(45),o=n(71);e.a=function(t,e){var a=\"function\"==typeof t?t:n.i(i.a)(t),u=null==e?r:\"function\"==typeof e?e:n.i(o.a)(e);return this.select(function(){return this.insertBefore(a.apply(this,arguments),u.apply(this,arguments)||null)})}},function(t,e,n){\"use strict\";function r(){this.previousSibling&&this.parentNode.insertBefore(this,this.parentNode.firstChild)}e.a=function(){return this.each(r)}},function(t,e,n){\"use strict\";var r=n(8);e.a=function(t){for(var e=this._groups,n=t._groups,i=e.length,o=n.length,a=Math.min(i,o),u=new Array(i),c=0;c<a;++c)for(var s,l=e[c],f=n[c],p=l.length,h=u[c]=new Array(p),d=0;d<p;++d)(s=l[d]||f[d])&&(h[d]=s);for(;c<i;++c)u[c]=e[c];return new r.b(u,this._parents)}},function(t,e,n){\"use strict\";e.a=function(){for(var t=this._groups,e=0,n=t.length;e<n;++e)for(var r=t[e],i=0,o=r.length;i<o;++i){var a=r[i];if(a)return a}return null}},function(t,e,n){\"use strict\";e.a=function(){var t=new Array(this.size()),e=-1;return this.each(function(){t[++e]=this}),t}},function(t,e,n){\"use strict\";e.a=function(){for(var t=this._groups,e=-1,n=t.length;++e<n;)for(var r,i=t[e],o=i.length-1,a=i[o];--o>=0;)(r=i[o])&&(a&&a!==r.nextSibling&&a.parentNode.insertBefore(r,a),a=r);return this}},function(t,e,n){\"use strict\";function r(t){return function(){delete this[t]}}function i(t,e){return function(){this[t]=e}}function o(t,e){return function(){var n=e.apply(this,arguments);null==n?delete this[t]:this[t]=n}}e.a=function(t,e){return arguments.length>1?this.each((null==e?r:\"function\"==typeof e?o:i)(t,e)):this.node()[t]}},function(t,e,n){\"use strict\";function r(){this.nextSibling&&this.parentNode.appendChild(this)}e.a=function(){return this.each(r)}},function(t,e,n){\"use strict\";function r(){var t=this.parentNode;t&&t.removeChild(this)}e.a=function(){return this.each(r)}},function(t,e,n){\"use strict\";var r=n(8),i=n(71);e.a=function(t){\"function\"!=typeof t&&(t=n.i(i.a)(t));for(var e=this._groups,o=e.length,a=new Array(o),u=0;u<o;++u)for(var c,s,l=e[u],f=l.length,p=a[u]=new Array(f),h=0;h<f;++h)(c=l[h])&&(s=t.call(c,c.__data__,h,l))&&(\"__data__\"in c&&(s.__data__=c.__data__),p[h]=s);return new r.b(a,this._parents)}},function(t,e,n){\"use strict\";var r=n(8),i=n(135);e.a=function(t){\"function\"!=typeof t&&(t=n.i(i.a)(t));for(var e=this._groups,o=e.length,a=[],u=[],c=0;c<o;++c)for(var s,l=e[c],f=l.length,p=0;p<f;++p)(s=l[p])&&(a.push(t.call(s,s.__data__,p,l)),u.push(s));return new r.b(a,u)}},function(t,e,n){\"use strict\";e.a=function(){var t=0;return this.each(function(){++t}),t}},function(t,e,n){\"use strict\";function r(t,e){return t<e?-1:t>e?1:t>=e?0:NaN}var i=n(8);e.a=function(t){function e(e,n){return e&&n?t(e.__data__,n.__data__):!e-!n}t||(t=r);for(var n=this._groups,o=n.length,a=new Array(o),u=0;u<o;++u){for(var c,s=n[u],l=s.length,f=a[u]=new Array(l),p=0;p<l;++p)(c=s[p])&&(f[p]=c);f.sort(e)}return new i.b(a,this._parents).order()}},function(t,e,n){\"use strict\";function r(){this.textContent=\"\"}function i(t){return function(){this.textContent=t}}function o(t){return function(){var e=t.apply(this,arguments);this.textContent=null==e?\"\":e}}e.a=function(t){return arguments.length?this.each(null==t?r:(\"function\"==typeof t?o:i)(t)):this.node().textContent}},function(t,e,n){\"use strict\";var r=n(72),i=n(46);e.a=function(t,e,o){arguments.length<3&&(o=e,e=n.i(r.a)().changedTouches);for(var a,u=0,c=e?e.length:0;u<c;++u)if((a=e[u]).identifier===o)return n.i(i.a)(t,a);return null}},function(t,e,n){\"use strict\";var r=n(72),i=n(46);e.a=function(t,e){null==e&&(e=n.i(r.a)().touches);for(var o=0,a=e?e.length:0,u=new Array(a);o<a;++o)u[o]=n.i(i.a)(t,e[o]);return u}},function(t,e,n){\"use strict\";function r(t){return t.innerRadius}function i(t){return t.outerRadius}function o(t){return t.startAngle}function a(t){return t.endAngle}function u(t){return t&&t.padAngle}function c(t,e,n,r,i,o,a,u){var c=n-t,s=r-e,l=a-i,f=u-o,p=(l*(e-o)-f*(t-i))/(f*c-l*s);return[t+p*c,e+p*s]}function s(t,e,r,i,o,a,u){var c=t-r,s=e-i,l=(u?a:-a)/n.i(p.d)(c*c+s*s),f=l*s,h=-l*c,d=t+f,v=e+h,g=r+f,m=i+h,y=(d+g)/2,_=(v+m)/2,b=g-d,x=m-v,w=b*b+x*x,C=o-a,k=d*m-g*v,E=(x<0?-1:1)*n.i(p.d)(n.i(p.e)(0,C*C*w-k*k)),M=(k*x-b*E)/w,T=(-k*b-x*E)/w,S=(k*x+b*E)/w,N=(-k*b+x*E)/w,A=M-y,P=T-_,O=S-y,I=N-_;return A*A+P*P>O*O+I*I&&(M=S,T=N),{cx:M,cy:T,x01:-f,y01:-h,x11:M*(o/C-1),y11:T*(o/C-1)}}var l=n(32),f=n(17),p=n(35);e.a=function(){function t(){var t,r,i=+e.apply(this,arguments),o=+h.apply(this,arguments),a=g.apply(this,arguments)-p.f,u=m.apply(this,arguments)-p.f,f=n.i(p.g)(u-a),b=u>a;if(_||(_=t=n.i(l.a)()),o<i&&(r=o,o=i,i=r),o>p.a)if(f>p.c-p.a)_.moveTo(o*n.i(p.h)(a),o*n.i(p.i)(a)),_.arc(0,0,o,a,u,!b),i>p.a&&(_.moveTo(i*n.i(p.h)(u),i*n.i(p.i)(u)),_.arc(0,0,i,u,a,b));else{var x,w,C=a,k=u,E=a,M=u,T=f,S=f,N=y.apply(this,arguments)/2,A=N>p.a&&(v?+v.apply(this,arguments):n.i(p.d)(i*i+o*o)),P=n.i(p.j)(n.i(p.g)(o-i)/2,+d.apply(this,arguments)),O=P,I=P;if(A>p.a){var D=n.i(p.k)(A/i*n.i(p.i)(N)),R=n.i(p.k)(A/o*n.i(p.i)(N));(T-=2*D)>p.a?(D*=b?1:-1,E+=D,M-=D):(T=0,E=M=(a+u)/2),(S-=2*R)>p.a?(R*=b?1:-1,C+=R,k-=R):(S=0,C=k=(a+u)/2)}var L=o*n.i(p.h)(C),U=o*n.i(p.i)(C),F=i*n.i(p.h)(M),j=i*n.i(p.i)(M);if(P>p.a){var B=o*n.i(p.h)(k),V=o*n.i(p.i)(k),W=i*n.i(p.h)(E),z=i*n.i(p.i)(E);if(f<p.b){var H=T>p.a?c(L,U,W,z,B,V,F,j):[F,j],q=L-H[0],Y=U-H[1],K=B-H[0],G=V-H[1],$=1/n.i(p.i)(n.i(p.l)((q*K+Y*G)/(n.i(p.d)(q*q+Y*Y)*n.i(p.d)(K*K+G*G)))/2),X=n.i(p.d)(H[0]*H[0]+H[1]*H[1]);O=n.i(p.j)(P,(i-X)/($-1)),I=n.i(p.j)(P,(o-X)/($+1))}}S>p.a?I>p.a?(x=s(W,z,L,U,o,I,b),w=s(B,V,F,j,o,I,b),_.moveTo(x.cx+x.x01,x.cy+x.y01),I<P?_.arc(x.cx,x.cy,I,n.i(p.m)(x.y01,x.x01),n.i(p.m)(w.y01,w.x01),!b):(_.arc(x.cx,x.cy,I,n.i(p.m)(x.y01,x.x01),n.i(p.m)(x.y11,x.x11),!b),_.arc(0,0,o,n.i(p.m)(x.cy+x.y11,x.cx+x.x11),n.i(p.m)(w.cy+w.y11,w.cx+w.x11),!b),_.arc(w.cx,w.cy,I,n.i(p.m)(w.y11,w.x11),n.i(p.m)(w.y01,w.x01),!b))):(_.moveTo(L,U),_.arc(0,0,o,C,k,!b)):_.moveTo(L,U),i>p.a&&T>p.a?O>p.a?(x=s(F,j,B,V,i,-O,b),w=s(L,U,W,z,i,-O,b),_.lineTo(x.cx+x.x01,x.cy+x.y01),O<P?_.arc(x.cx,x.cy,O,n.i(p.m)(x.y01,x.x01),n.i(p.m)(w.y01,w.x01),!b):(_.arc(x.cx,x.cy,O,n.i(p.m)(x.y01,x.x01),n.i(p.m)(x.y11,x.x11),!b),_.arc(0,0,i,n.i(p.m)(x.cy+x.y11,x.cx+x.x11),n.i(p.m)(w.cy+w.y11,w.cx+w.x11),b),_.arc(w.cx,w.cy,O,n.i(p.m)(w.y11,w.x11),n.i(p.m)(w.y01,w.x01),!b))):_.arc(0,0,i,M,E,b):_.lineTo(F,j)}else _.moveTo(0,0);if(_.closePath(),t)return _=null,t+\"\"||null}var e=r,h=i,d=n.i(f.a)(0),v=null,g=o,m=a,y=u,_=null;return t.centroid=function(){var t=(+e.apply(this,arguments)+ +h.apply(this,arguments))/2,r=(+g.apply(this,arguments)+ +m.apply(this,arguments))/2-p.b/2;return[n.i(p.h)(r)*t,n.i(p.i)(r)*t]},t.innerRadius=function(r){return arguments.length?(e=\"function\"==typeof r?r:n.i(f.a)(+r),t):e},t.outerRadius=function(e){return arguments.length?(h=\"function\"==typeof e?e:n.i(f.a)(+e),t):h},t.cornerRadius=function(e){return arguments.length?(d=\"function\"==typeof e?e:n.i(f.a)(+e),t):d},t.padRadius=function(e){return arguments.length?(v=null==e?null:\"function\"==typeof e?e:n.i(f.a)(+e),t):v},t.startAngle=function(e){return arguments.length?(g=\"function\"==typeof e?e:n.i(f.a)(+e),t):g},t.endAngle=function(e){return arguments.length?(m=\"function\"==typeof e?e:n.i(f.a)(+e),t):m},t.padAngle=function(e){return arguments.length?(y=\"function\"==typeof e?e:n.i(f.a)(+e),t):y},t.context=function(e){return arguments.length?(_=null==e?null:e,t):_},t}},function(t,e,n){\"use strict\";var r=n(141),i=n(137),o=n(142);e.a=function(){var t=n.i(i.a)().curve(r.b),e=t.curve,a=t.lineX0,u=t.lineX1,c=t.lineY0,s=t.lineY1;return t.angle=t.x,delete t.x,t.startAngle=t.x0,delete t.x0,t.endAngle=t.x1,delete t.x1,t.radius=t.y,delete t.y,t.innerRadius=t.y0,delete t.y0,t.outerRadius=t.y1,delete t.y1,t.lineStartAngle=function(){return n.i(o.b)(a())},delete t.lineX0,t.lineEndAngle=function(){return n.i(o.b)(u())},delete t.lineX1,t.lineInnerRadius=function(){return n.i(o.b)(c())},delete t.lineY0,t.lineOuterRadius=function(){return n.i(o.b)(s())},delete t.lineY1,t.curve=function(t){return arguments.length?e(n.i(r.a)(t)):e()._curve},t}},function(t,e,n){\"use strict\";function r(t){this._context=t}var i=n(50),o=n(47);r.prototype={areaStart:i.a,areaEnd:i.a,lineStart:function(){this._x0=this._x1=this._x2=this._x3=this._x4=this._y0=this._y1=this._y2=this._y3=this._y4=NaN,this._point=0},lineEnd:function(){switch(this._point){case 1:this._context.moveTo(this._x2,this._y2),this._context.closePath();break;case 2:this._context.moveTo((this._x2+2*this._x3)/3,(this._y2+2*this._y3)/3),this._context.lineTo((this._x3+2*this._x2)/3,(this._y3+2*this._y2)/3),this._context.closePath();break;case 3:this.point(this._x2,this._y2),this.point(this._x3,this._y3),this.point(this._x4,this._y4)}},point:function(t,e){switch(t=+t,e=+e,this._point){case 0:this._point=1,this._x2=t,this._y2=e;break;case 1:this._point=2,this._x3=t,this._y3=e;break;case 2:this._point=3,this._x4=t,this._y4=e,this._context.moveTo((this._x0+4*this._x1+t)/6,(this._y0+4*this._y1+e)/6);break;default:n.i(o.c)(this,t,e)}this._x0=this._x1,this._x1=t,this._y0=this._y1,this._y1=e}},e.a=function(t){return new r(t)}},function(t,e,n){\"use strict\";function r(t){this._context=t}var i=n(47);r.prototype={areaStart:function(){this._line=0},areaEnd:function(){this._line=NaN},lineStart:function(){this._x0=this._x1=this._y0=this._y1=NaN,this._point=0},lineEnd:function(){(this._line||0!==this._line&&3===this._point)&&this._context.closePath(),this._line=1-this._line},point:function(t,e){switch(t=+t,e=+e,this._point){case 0:this._point=1;break;case 1:this._point=2;break;case 2:this._point=3;var r=(this._x0+4*this._x1+t)/6,o=(this._y0+4*this._y1+e)/6;this._line?this._context.lineTo(r,o):this._context.moveTo(r,o);break;case 3:this._point=4;default:n.i(i.c)(this,t,e)}this._x0=this._x1,this._x1=t,this._y0=this._y1,this._y1=e}},e.a=function(t){return new r(t)}},function(t,e,n){\"use strict\";function r(t,e){this._basis=new i.b(t),this._beta=e}var i=n(47);r.prototype={lineStart:function(){this._x=[],this._y=[],this._basis.lineStart()},lineEnd:function(){var t=this._x,e=this._y,n=t.length-1;if(n>0)for(var r,i=t[0],o=e[0],a=t[n]-i,u=e[n]-o,c=-1;++c<=n;)r=c/n,this._basis.point(this._beta*t[c]+(1-this._beta)*(i+r*a),this._beta*e[c]+(1-this._beta)*(o+r*u));this._x=this._y=null,this._basis.lineEnd()},point:function(t,e){this._x.push(+t),this._y.push(+e)}},e.a=function t(e){function n(t){return 1===e?new i.b(t):new r(t,e)}return n.beta=function(e){return t(+e)},n}(.85)},function(t,e,n){\"use strict\";function r(t,e){this._context=t,this._alpha=e}var i=n(139),o=n(50),a=n(74);r.prototype={areaStart:o.a,areaEnd:o.a,lineStart:function(){this._x0=this._x1=this._x2=this._x3=this._x4=this._x5=this._y0=this._y1=this._y2=this._y3=this._y4=this._y5=NaN,this._l01_a=this._l12_a=this._l23_a=this._l01_2a=this._l12_2a=this._l23_2a=this._point=0},lineEnd:function(){switch(this._point){case 1:this._context.moveTo(this._x3,this._y3),this._context.closePath();break;case 2:this._context.lineTo(this._x3,this._y3),this._context.closePath();break;case 3:this.point(this._x3,this._y3),this.point(this._x4,this._y4),this.point(this._x5,this._y5)}},point:function(t,e){if(t=+t,e=+e,this._point){var r=this._x2-t,i=this._y2-e;this._l23_a=Math.sqrt(this._l23_2a=Math.pow(r*r+i*i,this._alpha))}switch(this._point){case 0:this._point=1,this._x3=t,this._y3=e;break;case 1:this._point=2,this._context.moveTo(this._x4=t,this._y4=e);break;case 2:this._point=3,this._x5=t,this._y5=e;break;default:n.i(a.b)(this,t,e)}this._l01_a=this._l12_a,this._l12_a=this._l23_a,this._l01_2a=this._l12_2a,this._l12_2a=this._l23_2a,this._x0=this._x1,this._x1=this._x2,this._x2=t,this._y0=this._y1,this._y1=this._y2,this._y2=e}},e.a=function t(e){function n(t){return e?new r(t,e):new i.b(t,0)}return n.alpha=function(e){return t(+e)},n}(.5)},function(t,e,n){\"use strict\";function r(t,e){this._context=t,this._alpha=e}var i=n(140),o=n(74);r.prototype={areaStart:function(){this._line=0},areaEnd:function(){this._line=NaN},lineStart:function(){this._x0=this._x1=this._x2=this._y0=this._y1=this._y2=NaN,this._l01_a=this._l12_a=this._l23_a=this._l01_2a=this._l12_2a=this._l23_2a=this._point=0},lineEnd:function(){(this._line||0!==this._line&&3===this._point)&&this._context.closePath(),this._line=1-this._line},point:function(t,e){if(t=+t,e=+e,this._point){var r=this._x2-t,i=this._y2-e;this._l23_a=Math.sqrt(this._l23_2a=Math.pow(r*r+i*i,this._alpha))}switch(this._point){case 0:this._point=1;break;case 1:this._point=2;break;case 2:this._point=3,this._line?this._context.lineTo(this._x2,this._y2):this._context.moveTo(this._x2,this._y2);break;case 3:this._point=4;default:n.i(o.b)(this,t,e)}this._l01_a=this._l12_a,this._l12_a=this._l23_a,this._l01_2a=this._l12_2a,this._l12_2a=this._l23_2a,this._x0=this._x1,this._x1=this._x2,this._x2=t,this._y0=this._y1,this._y1=this._y2,this._y2=e}},e.a=function t(e){function n(t){return e?new r(t,e):new i.b(t,0)}return n.alpha=function(e){return t(+e)},n}(.5)},function(t,e,n){\"use strict\";function r(t){this._context=t}var i=n(50);r.prototype={areaStart:i.a,areaEnd:i.a,lineStart:function(){this._point=0},lineEnd:function(){this._point&&this._context.closePath()},point:function(t,e){t=+t,e=+e,this._point?this._context.lineTo(t,e):(this._point=1,this._context.moveTo(t,e))}},e.a=function(t){return new r(t)}},function(t,e,n){\"use strict\";function r(t){return t<0?-1:1}function i(t,e,n){var i=t._x1-t._x0,o=e-t._x1,a=(t._y1-t._y0)/(i||o<0&&-0),u=(n-t._y1)/(o||i<0&&-0),c=(a*o+u*i)/(i+o);return(r(a)+r(u))*Math.min(Math.abs(a),Math.abs(u),.5*Math.abs(c))||0}function o(t,e){var n=t._x1-t._x0;return n?(3*(t._y1-t._y0)/n-e)/2:e}function a(t,e,n){var r=t._x0,i=t._y0,o=t._x1,a=t._y1,u=(o-r)/3;t._context.bezierCurveTo(r+u,i+u*e,o-u,a-u*n,o,a)}function u(t){this._context=t}function c(t){this._context=new s(t)}function s(t){this._context=t}function l(t){return new u(t)}function f(t){return new c(t)}e.a=l,e.b=f,u.prototype={areaStart:function(){this._line=0},areaEnd:function(){this._line=NaN},lineStart:function(){this._x0=this._x1=this._y0=this._y1=this._t0=NaN,this._point=0},lineEnd:function(){switch(this._point){case 2:this._context.lineTo(this._x1,this._y1);break;case 3:a(this,this._t0,o(this,this._t0))}(this._line||0!==this._line&&1===this._point)&&this._context.closePath(),this._line=1-this._line},point:function(t,e){var n=NaN;if(t=+t,e=+e,t!==this._x1||e!==this._y1){switch(this._point){case 0:this._point=1,this._line?this._context.lineTo(t,e):this._context.moveTo(t,e);break;case 1:this._point=2;break;case 2:this._point=3,a(this,o(this,n=i(this,t,e)),n);break;default:a(this,this._t0,n=i(this,t,e))}this._x0=this._x1,this._x1=t,this._y0=this._y1,this._y1=e,this._t0=n}}},(c.prototype=Object.create(u.prototype)).point=function(t,e){u.prototype.point.call(this,e,t)},s.prototype={moveTo:function(t,e){this._context.moveTo(e,t)},closePath:function(){this._context.closePath()},lineTo:function(t,e){this._context.lineTo(e,t)},bezierCurveTo:function(t,e,n,r,i,o){this._context.bezierCurveTo(e,t,r,n,o,i)}}},function(t,e,n){\"use strict\";function r(t){this._context=t}function i(t){var e,n,r=t.length-1,i=new Array(r),o=new Array(r),a=new Array(r);for(i[0]=0,o[0]=2,a[0]=t[0]+2*t[1],e=1;e<r-1;++e)i[e]=1,o[e]=4,a[e]=4*t[e]+2*t[e+1];for(i[r-1]=2,o[r-1]=7,a[r-1]=8*t[r-1]+t[r],e=1;e<r;++e)n=i[e]/o[e-1],o[e]-=n,a[e]-=n*a[e-1];for(i[r-1]=a[r-1]/o[r-1],e=r-2;e>=0;--e)i[e]=(a[e]-i[e+1])/o[e];for(o[r-1]=(t[r]+i[r-1])/2,e=0;e<r-1;++e)o[e]=2*t[e+1]-i[e+1];return[i,o]}r.prototype={areaStart:function(){this._line=0},areaEnd:function(){this._line=NaN},lineStart:function(){this._x=[],this._y=[]},lineEnd:function(){var t=this._x,e=this._y,n=t.length;if(n)if(this._line?this._context.lineTo(t[0],e[0]):this._context.moveTo(t[0],e[0]),2===n)this._context.lineTo(t[1],e[1]);else for(var r=i(t),o=i(e),a=0,u=1;u<n;++a,++u)this._context.bezierCurveTo(r[0][a],o[0][a],r[1][a],o[1][a],t[u],e[u]);(this._line||0!==this._line&&1===n)&&this._context.closePath(),this._line=1-this._line,this._x=this._y=null},point:function(t,e){this._x.push(+t),this._y.push(+e)}},e.a=function(t){return new r(t)}},function(t,e,n){\"use strict\";function r(t,e){this._context=t,this._t=e}function i(t){return new r(t,0)}function o(t){return new r(t,1)}e.c=i,e.b=o,r.prototype={areaStart:function(){this._line=0},areaEnd:function(){this._line=NaN},lineStart:function(){this._x=this._y=NaN,this._point=0},lineEnd:function(){0<this._t&&this._t<1&&2===this._point&&this._context.lineTo(this._x,this._y),(this._line||0!==this._line&&1===this._point)&&this._context.closePath(),this._line>=0&&(this._t=1-this._t,this._line=1-this._line)},point:function(t,e){switch(t=+t,e=+e,this._point){case 0:this._point=1,this._line?this._context.lineTo(t,e):this._context.moveTo(t,e);break;case 1:this._point=2;default:if(this._t<=0)this._context.lineTo(this._x,e),this._context.lineTo(t,e);else{var n=this._x*(1-this._t)+t*this._t;this._context.lineTo(n,this._y),this._context.lineTo(n,e)}}this._x=t,this._y=e}},e.a=function(t){return new r(t,.5)}},function(t,e,n){\"use strict\";e.a=function(t,e){return e<t?-1:e>t?1:e>=t?0:NaN}},function(t,e,n){\"use strict\";e.a=function(t){return t}},function(t,e,n){\"use strict\";function r(t){return t.source}function i(t){return t.target}function o(t){function e(){var e,r=h.a.call(arguments),i=o.apply(this,r),l=a.apply(this,r);if(s||(s=e=n.i(p.a)()),t(s,+u.apply(this,(r[0]=i,r)),+c.apply(this,r),+u.apply(this,(r[0]=l,r)),+c.apply(this,r)),e)return s=null,e+\"\"||null}var o=r,a=i,u=v.a,c=v.b,s=null;return e.source=function(t){return arguments.length?(o=t,e):o},e.target=function(t){return arguments.length?(a=t,e):a},e.x=function(t){return arguments.length?(u=\"function\"==typeof t?t:n.i(d.a)(+t),e):u},e.y=function(t){return arguments.length?(c=\"function\"==typeof t?t:n.i(d.a)(+t),e):c},e.context=function(t){return arguments.length?(s=null==t?null:t,e):s},e}function a(t,e,n,r,i){t.moveTo(e,n),t.bezierCurveTo(e=(e+r)/2,n,e,i,r,i)}function u(t,e,n,r,i){t.moveTo(e,n),t.bezierCurveTo(e,n=(n+i)/2,r,n,r,i)}function c(t,e,r,i,o){var a=n.i(g.a)(e,r),u=n.i(g.a)(e,r=(r+o)/2),c=n.i(g.a)(i,r),s=n.i(g.a)(i,o);t.moveTo(a[0],a[1]),t.bezierCurveTo(u[0],u[1],c[0],c[1],s[0],s[1])}function s(){return o(a)}function l(){return o(u)}function f(){var t=o(c);return t.angle=t.x,delete t.x,t.radius=t.y,delete t.y,t}e.a=s,e.b=l,e.c=f;var p=n(32),h=n(138),d=n(17),v=n(77),g=n(143)},function(t,e,n){\"use strict\";e.a=function(t,e){if((u=t.length)>1)for(var n,r,i,o,a,u,c=0,s=t[e[0]].length;c<s;++c)for(o=a=0,n=0;n<u;++n)(i=(r=t[e[n]][c])[1]-r[0])>=0?(r[0]=o,r[1]=o+=i):i<0?(r[1]=a,r[0]=a+=i):r[0]=o}},function(t,e,n){\"use strict\";var r=n(36);e.a=function(t,e){if((o=t.length)>0){for(var i,o,a,u=0,c=t[0].length;u<c;++u){for(a=i=0;i<o;++i)a+=t[i][u][1]||0;if(a)for(i=0;i<o;++i)t[i][u][1]/=a}n.i(r.a)(t,e)}}},function(t,e,n){\"use strict\";var r=n(36);e.a=function(t,e){if((i=t.length)>0){for(var i,o=0,a=t[e[0]],u=a.length;o<u;++o){for(var c=0,s=0;c<i;++c)s+=t[c][o][1]||0;a[o][1]+=a[o][0]=-s/2}n.i(r.a)(t,e)}}},function(t,e,n){\"use strict\";var r=n(36);e.a=function(t,e){if((a=t.length)>0&&(o=(i=t[e[0]]).length)>0){for(var i,o,a,u=0,c=1;c<o;++c){for(var s=0,l=0,f=0;s<a;++s){for(var p=t[e[s]],h=p[c][1]||0,d=p[c-1][1]||0,v=(h-d)/2,g=0;g<s;++g){var m=t[e[g]];v+=(m[c][1]||0)-(m[c-1][1]||0)}l+=h,f+=v*h}i[c-1][1]+=i[c-1][0]=u,l&&(u-=f/l)}i[c-1][1]+=i[c-1][0]=u,n.i(r.a)(t,e)}}},function(t,e,n){\"use strict\";var r=n(76);e.a=function(t){return n.i(r.a)(t).reverse()}},function(t,e,n){\"use strict\";var r=n(37),i=n(76);e.a=function(t){var e,o,a=t.length,u=t.map(i.b),c=n.i(r.a)(t).sort(function(t,e){return u[e]-u[t]}),s=0,l=0,f=[],p=[];for(e=0;e<a;++e)o=c[e],s<l?(s+=u[o],f.push(o)):(l+=u[o],p.push(o));return p.reverse().concat(f)}},function(t,e,n){\"use strict\";var r=n(37);e.a=function(t){return n.i(r.a)(t).reverse()}},function(t,e,n){\"use strict\";var r=n(17),i=n(301),o=n(302),a=n(35);e.a=function(){function t(t){var n,r,i,o,p,h=t.length,d=0,v=new Array(h),g=new Array(h),m=+s.apply(this,arguments),y=Math.min(a.c,Math.max(-a.c,l.apply(this,arguments)-m)),_=Math.min(Math.abs(y)/h,f.apply(this,arguments)),b=_*(y<0?-1:1);for(n=0;n<h;++n)(p=g[v[n]=n]=+e(t[n],n,t))>0&&(d+=p);for(null!=u?v.sort(function(t,e){return u(g[t],g[e])}):null!=c&&v.sort(function(e,n){return c(t[e],t[n])}),n=0,i=d?(y-h*b)/d:0;n<h;++n,m=o)r=v[n],p=g[r],o=m+(p>0?p*i:0)+b,g[r]={data:t[r],index:n,value:p,startAngle:m,endAngle:o,padAngle:_};return g}var e=o.a,u=i.a,c=null,s=n.i(r.a)(0),l=n.i(r.a)(a.c),f=n.i(r.a)(0);return t.value=function(i){return arguments.length?(e=\"function\"==typeof i?i:n.i(r.a)(+i),t):e},t.sortValues=function(e){return arguments.length?(u=e,c=null,t):u},t.sort=function(e){return arguments.length?(c=e,u=null,t):c},t.startAngle=function(e){return arguments.length?(s=\"function\"==typeof e?e:n.i(r.a)(+e),t):s},t.endAngle=function(e){return arguments.length?(l=\"function\"==typeof e?e:n.i(r.a)(+e),t):l},t.padAngle=function(e){return arguments.length?(f=\"function\"==typeof e?e:n.i(r.a)(+e),t):f},t}},function(t,e,n){\"use strict\";function r(t,e){return t[e]}var i=n(138),o=n(17),a=n(36),u=n(37);e.a=function(){function t(t){var n,r,i=e.apply(this,arguments),o=t.length,a=i.length,u=new Array(a);for(n=0;n<a;++n){for(var f,p=i[n],h=u[n]=new Array(o),d=0;d<o;++d)h[d]=f=[0,+l(t[d],p,d,t)],f.data=t[d];h.key=p}for(n=0,r=c(u);n<a;++n)u[r[n]].index=n;return s(u,r),u}var e=n.i(o.a)([]),c=u.a,s=a.a,l=r;return t.keys=function(r){return arguments.length?(e=\"function\"==typeof r?r:n.i(o.a)(i.a.call(r)),t):e},t.value=function(e){return arguments.length?(l=\"function\"==typeof e?e:n.i(o.a)(+e),t):l},t.order=function(e){return arguments.length?(c=null==e?u.a:\"function\"==typeof e?e:n.i(o.a)(i.a.call(e)),t):c},t.offset=function(e){return arguments.length?(s=null==e?a.a:e,t):s},t}},function(t,e,n){\"use strict\";n.d(e,\"b\",function(){return p});var r=n(32),i=n(144),o=n(145),a=n(146),u=n(148),c=n(147),s=n(149),l=n(150),f=n(17),p=[i.a,o.a,a.a,c.a,u.a,s.a,l.a];e.a=function(){function t(){var t;if(a||(a=t=n.i(r.a)()),e.apply(this,arguments).draw(a,+o.apply(this,arguments)),t)return a=null,t+\"\"||null}var e=n.i(f.a)(i.a),o=n.i(f.a)(64),a=null;return t.type=function(r){return arguments.length?(e=\"function\"==typeof r?r:n.i(f.a)(r),t):e},t.size=function(e){return arguments.length?(o=\"function\"==typeof e?e:n.i(f.a)(+e),t):o},t.context=function(e){return arguments.length?(a=null==e?null:e,t):a},t}},function(t,e,n){\"use strict\";function r(t){var e=new Date(t);return isNaN(e)?null:e}var i=n(151),o=n(79),a=+new Date(\"2000-01-01T00:00:00.000Z\")?r:n.i(o.e)(i.b);e.a=a},function(t,e,n){\"use strict\";var r=n(5),i=n(13),o=n.i(r.a)(function(t){t.setHours(0,0,0,0)},function(t,e){t.setDate(t.getDate()+e)},function(t,e){return(e-t-(e.getTimezoneOffset()-t.getTimezoneOffset())*i.d)/i.b},function(t){return t.getDate()-1});e.a=o;o.range},function(t,e,n){\"use strict\";var r=n(5),i=n(13),o=n.i(r.a)(function(t){var e=t.getTimezoneOffset()*i.d%i.c;e<0&&(e+=i.c),t.setTime(Math.floor((+t-e)/i.c)*i.c+e)},function(t,e){t.setTime(+t+e*i.c)},function(t,e){return(e-t)/i.c},function(t){return t.getHours()});e.a=o;o.range},function(t,e,n){\"use strict\";var r=n(5),i=n.i(r.a)(function(){},function(t,e){t.setTime(+t+e)},function(t,e){return e-t});i.every=function(t){return t=Math.floor(t),isFinite(t)&&t>0?t>1?n.i(r.a)(function(e){e.setTime(Math.floor(e/t)*t)},function(e,n){e.setTime(+e+n*t)},function(e,n){return(n-e)/t}):i:null},e.a=i;i.range},function(t,e,n){\"use strict\";var r=n(5),i=n(13),o=n.i(r.a)(function(t){t.setTime(Math.floor(t/i.d)*i.d)},function(t,e){t.setTime(+t+e*i.d)},function(t,e){return(e-t)/i.d},function(t){return t.getMinutes()});e.a=o;o.range},function(t,e,n){\"use strict\";var r=n(5),i=n.i(r.a)(function(t){t.setDate(1),t.setHours(0,0,0,0)},function(t,e){t.setMonth(t.getMonth()+e)},function(t,e){return e.getMonth()-t.getMonth()+12*(e.getFullYear()-t.getFullYear())},function(t){return t.getMonth()});e.a=i;i.range},function(t,e,n){\"use strict\";var r=n(5),i=n(13),o=n.i(r.a)(function(t){t.setTime(Math.floor(t/i.e)*i.e)},function(t,e){t.setTime(+t+e*i.e)},function(t,e){return(e-t)/i.e},function(t){return t.getUTCSeconds()});e.a=o;o.range},function(t,e,n){\"use strict\";var r=n(5),i=n(13),o=n.i(r.a)(function(t){t.setUTCHours(0,0,0,0)},function(t,e){t.setUTCDate(t.getUTCDate()+e)},function(t,e){return(e-t)/i.b},function(t){return t.getUTCDate()-1});e.a=o;o.range},function(t,e,n){\"use strict\";var r=n(5),i=n(13),o=n.i(r.a)(function(t){t.setUTCMinutes(0,0,0)},function(t,e){t.setTime(+t+e*i.c)},function(t,e){return(e-t)/i.c},function(t){return t.getUTCHours()});e.a=o;o.range},function(t,e,n){\"use strict\";var r=n(5),i=n(13),o=n.i(r.a)(function(t){t.setUTCSeconds(0,0)},function(t,e){t.setTime(+t+e*i.d)},function(t,e){return(e-t)/i.d},function(t){return t.getUTCMinutes()});e.a=o;o.range},function(t,e,n){\"use strict\";var r=n(5),i=n.i(r.a)(function(t){t.setUTCDate(1),t.setUTCHours(0,0,0,0)},function(t,e){t.setUTCMonth(t.getUTCMonth()+e)},function(t,e){return e.getUTCMonth()-t.getUTCMonth()+12*(e.getUTCFullYear()-t.getUTCFullYear())},function(t){return t.getUTCMonth()});e.a=i;i.range},function(t,e,n){\"use strict\";function r(t){return n.i(i.a)(function(e){e.setUTCDate(e.getUTCDate()-(e.getUTCDay()+7-t)%7),e.setUTCHours(0,0,0,0)},function(t,e){t.setUTCDate(t.getUTCDate()+7*e)},function(t,e){return(e-t)/o.a})}n.d(e,\"a\",function(){return a}),n.d(e,\"b\",function(){return u}),n.d(e,\"c\",function(){return l});var i=n(5),o=n(13),a=r(0),u=r(1),c=r(2),s=r(3),l=r(4),f=r(5),p=r(6);a.range,u.range,c.range,s.range,l.range,f.range,p.range},function(t,e,n){\"use strict\";var r=n(5),i=n.i(r.a)(function(t){t.setUTCMonth(0,1),t.setUTCHours(0,0,0,0)},function(t,e){t.setUTCFullYear(t.getUTCFullYear()+e)},function(t,e){return e.getUTCFullYear()-t.getUTCFullYear()},function(t){return t.getUTCFullYear()});i.every=function(t){return isFinite(t=Math.floor(t))&&t>0?n.i(r.a)(function(e){e.setUTCFullYear(Math.floor(e.getUTCFullYear()/t)*t),e.setUTCMonth(0,1),e.setUTCHours(0,0,0,0)},function(e,n){e.setUTCFullYear(e.getUTCFullYear()+n*t)}):null},e.a=i;i.range},function(t,e,n){\"use strict\";function r(t){return n.i(i.a)(function(e){e.setDate(e.getDate()-(e.getDay()+7-t)%7),e.setHours(0,0,0,0)},function(t,e){t.setDate(t.getDate()+7*e)},function(t,e){return(e-t-(e.getTimezoneOffset()-t.getTimezoneOffset())*o.d)/o.a})}n.d(e,\"a\",function(){return a}),n.d(e,\"b\",function(){return u}),n.d(e,\"c\",function(){return l});var i=n(5),o=n(13),a=r(0),u=r(1),c=r(2),s=r(3),l=r(4),f=r(5),p=r(6);a.range,u.range,c.range,s.range,l.range,f.range,p.range},function(t,e,n){\"use strict\";var r=n(5),i=n.i(r.a)(function(t){t.setMonth(0,1),t.setHours(0,0,0,0)},function(t,e){t.setFullYear(t.getFullYear()+e)},function(t,e){return e.getFullYear()-t.getFullYear()},function(t){return t.getFullYear()});i.every=function(t){return isFinite(t=Math.floor(t))&&t>0?n.i(r.a)(function(e){e.setFullYear(Math.floor(e.getFullYear()/t)*t),e.setMonth(0,1),e.setHours(0,0,0,0)},function(e,n){e.setFullYear(e.getFullYear()+n*t)}):null},e.a=i;i.range},function(t,e,n){\"use strict\";function r(t){return t.replace(i,function(t,e){return e.toUpperCase()})}var i=/-(.)/g;t.exports=r},function(t,e,n){\"use strict\";function r(t){return i(t.replace(o,\"ms-\"))}var i=n(329),o=/^-ms-/;t.exports=r},function(t,e,n){\"use strict\";function r(t,e){return!(!t||!e)&&(t===e||!i(t)&&(i(e)?r(t,e.parentNode):\"contains\"in t?t.contains(e):!!t.compareDocumentPosition&&!!(16&t.compareDocumentPosition(e))))}var i=n(339);t.exports=r},function(t,e,n){\"use strict\";function r(t){var e=t.length;if((Array.isArray(t)||\"object\"!=typeof t&&\"function\"!=typeof t)&&a(!1),\"number\"!=typeof e&&a(!1),0===e||e-1 in t||a(!1),\"function\"==typeof t.callee&&a(!1),t.hasOwnProperty)try{return Array.prototype.slice.call(t)}catch(t){}for(var n=Array(e),r=0;r<e;r++)n[r]=t[r];return n}function i(t){return!!t&&(\"object\"==typeof t||\"function\"==typeof t)&&\"length\"in t&&!(\"setInterval\"in t)&&\"number\"!=typeof t.nodeType&&(Array.isArray(t)||\"callee\"in t||\"item\"in t)}function o(t){return i(t)?Array.isArray(t)?t.slice():r(t):[t]}var a=n(0);t.exports=o},function(t,e,n){\"use strict\";function r(t){var e=t.match(l);return e&&e[1].toLowerCase()}function i(t,e){var n=s;s||c(!1);var i=r(t),o=i&&u(i);if(o){n.innerHTML=o[1]+t+o[2];for(var l=o[0];l--;)n=n.lastChild}else n.innerHTML=t;var f=n.getElementsByTagName(\"script\");f.length&&(e||c(!1),a(f).forEach(e));for(var p=Array.from(n.childNodes);n.lastChild;)n.removeChild(n.lastChild);return p}var o=n(6),a=n(332),u=n(334),c=n(0),s=o.canUseDOM?document.createElement(\"div\"):null,l=/^\\s*<(\\w+)/;t.exports=i},function(t,e,n){\"use strict\";function r(t){return a||o(!1),p.hasOwnProperty(t)||(t=\"*\"),u.hasOwnProperty(t)||(a.innerHTML=\"*\"===t?\"<link />\":\"<\"+t+\"></\"+t+\">\",u[t]=!a.firstChild),u[t]?p[t]:null}var i=n(6),o=n(0),a=i.canUseDOM?document.createElement(\"div\"):null,u={},c=[1,'<select multiple=\"true\">',\"</select>\"],s=[1,\"<table>\",\"</table>\"],l=[3,\"<table><tbody><tr>\",\"</tr></tbody></table>\"],f=[1,'<svg xmlns=\"http://www.w3.org/2000/svg\">',\"</svg>\"],p={\"*\":[1,\"?<div>\",\"</div>\"],area:[1,\"<map>\",\"</map>\"],col:[2,\"<table><tbody></tbody><colgroup>\",\"</colgroup></table>\"],legend:[1,\"<fieldset>\",\"</fieldset>\"],param:[1,\"<object>\",\"</object>\"],tr:[2,\"<table><tbody>\",\"</tbody></table>\"],optgroup:c,option:c,caption:s,colgroup:s,tbody:s,tfoot:s,thead:s,td:l,th:l};[\"circle\",\"clipPath\",\"defs\",\"ellipse\",\"g\",\"image\",\"line\",\"linearGradient\",\"mask\",\"path\",\"pattern\",\"polygon\",\"polyline\",\"radialGradient\",\"rect\",\"stop\",\"text\",\"tspan\"].forEach(function(t){p[t]=f,u[t]=!0}),t.exports=r},function(t,e,n){\"use strict\";function r(t){return t.Window&&t instanceof t.Window?{x:t.pageXOffset||t.document.documentElement.scrollLeft,y:t.pageYOffset||t.document.documentElement.scrollTop}:{x:t.scrollLeft,y:t.scrollTop}}t.exports=r},function(t,e,n){\"use strict\";function r(t){return t.replace(i,\"-$1\").toLowerCase()}var i=/([A-Z])/g;t.exports=r},function(t,e,n){\"use strict\";function r(t){return i(t).replace(o,\"-ms-\")}var i=n(336),o=/^ms-/;t.exports=r},function(t,e,n){\"use strict\";function r(t){var e=t?t.ownerDocument||t:document,n=e.defaultView||window;return!(!t||!(\"function\"==typeof n.Node?t instanceof n.Node:\"object\"==typeof t&&\"number\"==typeof t.nodeType&&\"string\"==typeof t.nodeName))}t.exports=r},function(t,e,n){\"use strict\";function r(t){return i(t)&&3==t.nodeType}var i=n(338);t.exports=r},function(t,e,n){\"use strict\";var r=function(t){var e;for(e in t)if(t.hasOwnProperty(e))return e;return null};t.exports=r},function(t,e,n){\"use strict\";function r(t){var e={};return function(n){return e.hasOwnProperty(n)||(e[n]=t.call(this,n)),e[n]}}t.exports=r},function(t,e,n){\"use strict\";function r(t,e,n,r,i){}t.exports=r},function(t,e,n){\"use strict\";function r(){return null}var i=n(3),o=n(344),a=n(342),u=function(){};t.exports=function(t,e){function n(t){var e=t&&(E&&t[E]||t[M]);if(\"function\"==typeof e)return e}function c(t,e){return t===e?0!==t||1/t==1/e:t!==t&&e!==e}function s(t){this.message=t,this.stack=\"\"}function l(t){function n(n,r,i,a,u,c,l){if(a=a||T,c=c||i,l!==o){if(e){var f=new Error(\"Calling PropTypes validators directly is not supported by the `prop-types` package. Use `PropTypes.checkPropTypes()` to call them. Read more at http://fb.me/use-check-prop-types\");throw f.name=\"Invariant Violation\",f}}return null==r[i]?n?new s(null===r[i]?\"The \"+u+\" `\"+c+\"` is marked as required in `\"+a+\"`, but its value is `null`.\":\"The \"+u+\" `\"+c+\"` is marked as required in `\"+a+\"`, but its value is `undefined`.\"):null:t(r,i,a,u,c)}var r=n.bind(null,!1);return r.isRequired=n.bind(null,!0),r}function f(t){function e(e,n,r,i,o,a){var u=e[n];if(x(u)!==t)return new s(\"Invalid \"+i+\" `\"+o+\"` of type `\"+w(u)+\"` supplied to `\"+r+\"`, expected `\"+t+\"`.\");return null}return l(e)}function p(t){function e(e,n,r,i,a){if(\"function\"!=typeof t)return new s(\"Property `\"+a+\"` of component `\"+r+\"` has invalid PropType notation inside arrayOf.\");var u=e[n];if(!Array.isArray(u)){return new s(\"Invalid \"+i+\" `\"+a+\"` of type `\"+x(u)+\"` supplied to `\"+r+\"`, expected an array.\")}for(var c=0;c<u.length;c++){var l=t(u,c,r,i,a+\"[\"+c+\"]\",o);if(l instanceof Error)return l}return null}return l(e)}function h(t){function e(e,n,r,i,o){if(!(e[n]instanceof t)){var a=t.name||T;return new s(\"Invalid \"+i+\" `\"+o+\"` of type `\"+k(e[n])+\"` supplied to `\"+r+\"`, expected instance of `\"+a+\"`.\")}return null}return l(e)}function d(t){function e(e,n,r,i,o){for(var a=e[n],u=0;u<t.length;u++)if(c(a,t[u]))return null;return new s(\"Invalid \"+i+\" `\"+o+\"` of value `\"+a+\"` supplied to `\"+r+\"`, expected one of \"+JSON.stringify(t)+\".\")}return Array.isArray(t)?l(e):r}function v(t){function e(e,n,r,i,a){if(\"function\"!=typeof t)return new s(\"Property `\"+a+\"` of component `\"+r+\"` has invalid PropType notation inside objectOf.\");var u=e[n],c=x(u);if(\"object\"!==c)return new s(\"Invalid \"+i+\" `\"+a+\"` of type `\"+c+\"` supplied to `\"+r+\"`, expected an object.\");for(var l in u)if(u.hasOwnProperty(l)){var f=t(u,l,r,i,a+\".\"+l,o);if(f instanceof Error)return f}return null}return l(e)}function g(t){function e(e,n,r,i,a){for(var u=0;u<t.length;u++){if(null==(0,t[u])(e,n,r,i,a,o))return null}return new s(\"Invalid \"+i+\" `\"+a+\"` supplied to `\"+r+\"`.\")}if(!Array.isArray(t))return r;for(var n=0;n<t.length;n++){var i=t[n];if(\"function\"!=typeof i)return u(\"Invalid argument supplied to oneOfType. Expected an array of check functions, but received \"+C(i)+\" at index \"+n+\".\"),r}return l(e)}function m(t){function e(e,n,r,i,a){var u=e[n],c=x(u);if(\"object\"!==c)return new s(\"Invalid \"+i+\" `\"+a+\"` of type `\"+c+\"` supplied to `\"+r+\"`, expected `object`.\");for(var l in t){var f=t[l];if(f){var p=f(u,l,r,i,a+\".\"+l,o);if(p)return p}}return null}return l(e)}function y(t){function e(e,n,r,a,u){var c=e[n],l=x(c);if(\"object\"!==l)return new s(\"Invalid \"+a+\" `\"+u+\"` of type `\"+l+\"` supplied to `\"+r+\"`, expected `object`.\");var f=i({},e[n],t);for(var p in f){var h=t[p];if(!h)return new s(\"Invalid \"+a+\" `\"+u+\"` key `\"+p+\"` supplied to `\"+r+\"`.\\nBad object: \"+JSON.stringify(e[n],null,\"  \")+\"\\nValid keys: \"+JSON.stringify(Object.keys(t),null,\"  \"));var d=h(c,p,r,a,u+\".\"+p,o);if(d)return d}return null}return l(e)}function _(e){switch(typeof e){case\"number\":case\"string\":case\"undefined\":return!0;case\"boolean\":return!e;case\"object\":if(Array.isArray(e))return e.every(_);if(null===e||t(e))return!0;var r=n(e);if(!r)return!1;var i,o=r.call(e);if(r!==e.entries){for(;!(i=o.next()).done;)if(!_(i.value))return!1}else for(;!(i=o.next()).done;){var a=i.value;if(a&&!_(a[1]))return!1}return!0;default:return!1}}function b(t,e){return\"symbol\"===t||(\"Symbol\"===e[\"@@toStringTag\"]||\"function\"==typeof Symbol&&e instanceof Symbol)}function x(t){var e=typeof t;return Array.isArray(t)?\"array\":t instanceof RegExp?\"object\":b(e,t)?\"symbol\":e}function w(t){if(void 0===t||null===t)return\"\"+t;var e=x(t);if(\"object\"===e){if(t instanceof Date)return\"date\";if(t instanceof RegExp)return\"regexp\"}return e}function C(t){var e=w(t);switch(e){case\"array\":case\"object\":return\"an \"+e;case\"boolean\":case\"date\":case\"regexp\":return\"a \"+e;default:return e}}function k(t){return t.constructor&&t.constructor.name?t.constructor.name:T}var E=\"function\"==typeof Symbol&&Symbol.iterator,M=\"@@iterator\",T=\"<<anonymous>>\",S={array:f(\"array\"),bool:f(\"boolean\"),func:f(\"function\"),number:f(\"number\"),object:f(\"object\"),string:f(\"string\"),symbol:f(\"symbol\"),any:function(){return l(r)}(),arrayOf:p,element:function(){function e(e,n,r,i,o){var a=e[n];if(!t(a)){return new s(\"Invalid \"+i+\" `\"+o+\"` of type `\"+x(a)+\"` supplied to `\"+r+\"`, expected a single ReactElement.\")}return null}return l(e)}(),instanceOf:h,node:function(){function t(t,e,n,r,i){return _(t[e])?null:new s(\"Invalid \"+r+\" `\"+i+\"` supplied to `\"+n+\"`, expected a ReactNode.\")}return l(t)}(),objectOf:v,oneOf:d,oneOfType:g,shape:m,exact:y};return s.prototype=Error.prototype,S.checkPropTypes=a,S.PropTypes=S,S}},function(t,e,n){\"use strict\";t.exports=\"SECRET_DO_NOT_PASS_THIS_OR_YOU_WILL_BE_FIRED\"},function(t,e,n){\"use strict\";var r={Properties:{\"aria-current\":0,\"aria-details\":0,\"aria-disabled\":0,\"aria-hidden\":0,\"aria-invalid\":0,\"aria-keyshortcuts\":0,\"aria-label\":0,\"aria-roledescription\":0,\"aria-autocomplete\":0,\"aria-checked\":0,\"aria-expanded\":0,\"aria-haspopup\":0,\"aria-level\":0,\"aria-modal\":0,\"aria-multiline\":0,\"aria-multiselectable\":0,\"aria-orientation\":0,\"aria-placeholder\":0,\"aria-pressed\":0,\"aria-readonly\":0,\"aria-required\":0,\"aria-selected\":0,\"aria-sort\":0,\"aria-valuemax\":0,\"aria-valuemin\":0,\"aria-valuenow\":0,\"aria-valuetext\":0,\"aria-atomic\":0,\"aria-busy\":0,\"aria-live\":0,\"aria-relevant\":0,\"aria-dropeffect\":0,\"aria-grabbed\":0,\"aria-activedescendant\":0,\"aria-colcount\":0,\"aria-colindex\":0,\"aria-colspan\":0,\"aria-controls\":0,\"aria-describedby\":0,\"aria-errormessage\":0,\"aria-flowto\":0,\"aria-labelledby\":0,\"aria-owns\":0,\"aria-posinset\":0,\"aria-rowcount\":0,\"aria-rowindex\":0,\"aria-rowspan\":0,\"aria-setsize\":0},DOMAttributeNames:{},DOMPropertyNames:{}};t.exports=r},function(t,e,n){\"use strict\";var r=n(4),i=n(154),o={focusDOMComponent:function(){i(r.getNodeFromInstance(this))}};t.exports=o},function(t,e,n){\"use strict\";function r(t){return(t.ctrlKey||t.altKey||t.metaKey)&&!(t.ctrlKey&&t.altKey)}function i(t){switch(t){case\"topCompositionStart\":return E.compositionStart;case\"topCompositionEnd\":return E.compositionEnd;case\"topCompositionUpdate\":return E.compositionUpdate}}function o(t,e){return\"topKeyDown\"===t&&e.keyCode===y}function a(t,e){switch(t){case\"topKeyUp\":return-1!==m.indexOf(e.keyCode);case\"topKeyDown\":return e.keyCode!==y;case\"topKeyPress\":case\"topMouseDown\":case\"topBlur\":return!0;default:return!1}}function u(t){var e=t.detail;return\"object\"==typeof e&&\"data\"in e?e.data:null}function c(t,e,n,r){var c,s;if(_?c=i(t):T?a(t,n)&&(c=E.compositionEnd):o(t,n)&&(c=E.compositionStart),!c)return null;w&&(T||c!==E.compositionStart?c===E.compositionEnd&&T&&(s=T.getData()):T=d.getPooled(r));var l=v.getPooled(c,e,n,r);if(s)l.data=s;else{var f=u(n);null!==f&&(l.data=f)}return p.accumulateTwoPhaseDispatches(l),l}function s(t,e){switch(t){case\"topCompositionEnd\":return u(e);case\"topKeyPress\":return e.which!==C?null:(M=!0,k);case\"topTextInput\":var n=e.data;return n===k&&M?null:n;default:return null}}function l(t,e){if(T){if(\"topCompositionEnd\"===t||!_&&a(t,e)){var n=T.getData();return d.release(T),T=null,n}return null}switch(t){case\"topPaste\":return null;case\"topKeyPress\":return e.which&&!r(e)?String.fromCharCode(e.which):null;case\"topCompositionEnd\":return w?null:e.data;default:return null}}function f(t,e,n,r){var i;if(!(i=x?s(t,n):l(t,n)))return null;var o=g.getPooled(E.beforeInput,e,n,r);return o.data=i,p.accumulateTwoPhaseDispatches(o),o}var p=n(23),h=n(6),d=n(354),v=n(391),g=n(394),m=[9,13,27,32],y=229,_=h.canUseDOM&&\"CompositionEvent\"in window,b=null;h.canUseDOM&&\"documentMode\"in document&&(b=document.documentMode);var x=h.canUseDOM&&\"TextEvent\"in window&&!b&&!function(){var t=window.opera;return\"object\"==typeof t&&\"function\"==typeof t.version&&parseInt(t.version(),10)<=12}(),w=h.canUseDOM&&(!_||b&&b>8&&b<=11),C=32,k=String.fromCharCode(C),E={beforeInput:{phasedRegistrationNames:{bubbled:\"onBeforeInput\",captured:\"onBeforeInputCapture\"},dependencies:[\"topCompositionEnd\",\"topKeyPress\",\"topTextInput\",\"topPaste\"]},compositionEnd:{phasedRegistrationNames:{bubbled:\"onCompositionEnd\",captured:\"onCompositionEndCapture\"},dependencies:[\"topBlur\",\"topCompositionEnd\",\"topKeyDown\",\"topKeyPress\",\"topKeyUp\",\"topMouseDown\"]},compositionStart:{phasedRegistrationNames:{bubbled:\"onCompositionStart\",captured:\"onCompositionStartCapture\"},dependencies:[\"topBlur\",\"topCompositionStart\",\"topKeyDown\",\"topKeyPress\",\"topKeyUp\",\"topMouseDown\"]},compositionUpdate:{phasedRegistrationNames:{bubbled:\"onCompositionUpdate\",captured:\"onCompositionUpdateCapture\"},dependencies:[\"topBlur\",\"topCompositionUpdate\",\"topKeyDown\",\"topKeyPress\",\"topKeyUp\",\"topMouseDown\"]}},M=!1,T=null,S={eventTypes:E,extractEvents:function(t,e,n,r){return[c(t,e,n,r),f(t,e,n,r)]}};t.exports=S},function(t,e,n){\"use strict\";var r=n(158),i=n(6),o=(n(9),n(330),n(400)),a=n(337),u=n(341),c=(n(2),u(function(t){return a(t)})),s=!1,l=\"cssFloat\";if(i.canUseDOM){var f=document.createElement(\"div\").style;try{f.font=\"\"}catch(t){s=!0}void 0===document.documentElement.style.cssFloat&&(l=\"styleFloat\")}var p={createMarkupForStyles:function(t,e){var n=\"\";for(var r in t)if(t.hasOwnProperty(r)){var i=0===r.indexOf(\"--\"),a=t[r];null!=a&&(n+=c(r)+\":\",n+=o(r,a,e,i)+\";\")}return n||null},setValueForStyles:function(t,e,n){var i=t.style;for(var a in e)if(e.hasOwnProperty(a)){var u=0===a.indexOf(\"--\"),c=o(a,e[a],n,u);if(\"float\"!==a&&\"cssFloat\"!==a||(a=l),u)i.setProperty(a,c);else if(c)i[a]=c;else{var f=s&&r.shorthandPropertyExpansions[a];if(f)for(var p in f)i[p]=\"\";else i[a]=\"\"}}}};t.exports=p},function(t,e,n){\"use strict\";function r(t,e,n){var r=M.getPooled(P.change,t,e,n);return r.type=\"change\",w.accumulateTwoPhaseDispatches(r),r}function i(t){var e=t.nodeName&&t.nodeName.toLowerCase();return\"select\"===e||\"input\"===e&&\"file\"===t.type}function o(t){var e=r(I,t,S(t));E.batchedUpdates(a,e)}function a(t){x.enqueueEvents(t),x.processEventQueue(!1)}function u(t,e){O=t,I=e,O.attachEvent(\"onchange\",o)}function c(){O&&(O.detachEvent(\"onchange\",o),O=null,I=null)}function s(t,e){var n=T.updateValueIfChanged(t),r=!0===e.simulated&&L._allowSimulatedPassThrough;if(n||r)return t}function l(t,e){if(\"topChange\"===t)return e}function f(t,e,n){\"topFocus\"===t?(c(),u(e,n)):\"topBlur\"===t&&c()}function p(t,e){O=t,I=e,O.attachEvent(\"onpropertychange\",d)}function h(){O&&(O.detachEvent(\"onpropertychange\",d),O=null,I=null)}function d(t){\"value\"===t.propertyName&&s(I,t)&&o(t)}function v(t,e,n){\"topFocus\"===t?(h(),p(e,n)):\"topBlur\"===t&&h()}function g(t,e,n){if(\"topSelectionChange\"===t||\"topKeyUp\"===t||\"topKeyDown\"===t)return s(I,n)}function m(t){var e=t.nodeName;return e&&\"input\"===e.toLowerCase()&&(\"checkbox\"===t.type||\"radio\"===t.type)}function y(t,e,n){if(\"topClick\"===t)return s(e,n)}function _(t,e,n){if(\"topInput\"===t||\"topChange\"===t)return s(e,n)}function b(t,e){if(null!=t){var n=t._wrapperState||e._wrapperState;if(n&&n.controlled&&\"number\"===e.type){var r=\"\"+e.value;e.getAttribute(\"value\")!==r&&e.setAttribute(\"value\",r)}}}var x=n(22),w=n(23),C=n(6),k=n(4),E=n(12),M=n(14),T=n(173),S=n(94),N=n(95),A=n(175),P={change:{phasedRegistrationNames:{bubbled:\"onChange\",captured:\"onChangeCapture\"},dependencies:[\"topBlur\",\"topChange\",\"topClick\",\"topFocus\",\"topInput\",\"topKeyDown\",\"topKeyUp\",\"topSelectionChange\"]}},O=null,I=null,D=!1;C.canUseDOM&&(D=N(\"change\")&&(!document.documentMode||document.documentMode>8));var R=!1;C.canUseDOM&&(R=N(\"input\")&&(!document.documentMode||document.documentMode>9));var L={eventTypes:P,_allowSimulatedPassThrough:!0,_isInputEventSupported:R,extractEvents:function(t,e,n,o){var a,u,c=e?k.getNodeFromInstance(e):window;if(i(c)?D?a=l:u=f:A(c)?R?a=_:(a=g,u=v):m(c)&&(a=y),a){var s=a(t,e,n);if(s){return r(s,n,o)}}u&&u(t,c,e),\"topBlur\"===t&&b(e,c)}};t.exports=L},function(t,e,n){\"use strict\";var r=n(1),i=n(20),o=n(6),a=n(333),u=n(11),c=(n(0),{dangerouslyReplaceNodeWithMarkup:function(t,e){if(o.canUseDOM||r(\"56\"),e||r(\"57\"),\"HTML\"===t.nodeName&&r(\"58\"),\"string\"==typeof e){var n=a(e,u)[0];t.parentNode.replaceChild(n,t)}else i.replaceChildWithTree(t,e)}});t.exports=c},function(t,e,n){\"use strict\";var r=[\"ResponderEventPlugin\",\"SimpleEventPlugin\",\"TapEventPlugin\",\"EnterLeaveEventPlugin\",\"ChangeEventPlugin\",\"SelectEventPlugin\",\"BeforeInputEventPlugin\"];t.exports=r},function(t,e,n){\"use strict\";var r=n(23),i=n(4),o=n(54),a={mouseEnter:{registrationName:\"onMouseEnter\",dependencies:[\"topMouseOut\",\"topMouseOver\"]},mouseLeave:{registrationName:\"onMouseLeave\",dependencies:[\"topMouseOut\",\"topMouseOver\"]}},u={eventTypes:a,extractEvents:function(t,e,n,u){if(\"topMouseOver\"===t&&(n.relatedTarget||n.fromElement))return null;if(\"topMouseOut\"!==t&&\"topMouseOver\"!==t)return null;var c;if(u.window===u)c=u;else{var s=u.ownerDocument;c=s?s.defaultView||s.parentWindow:window}var l,f;if(\"topMouseOut\"===t){l=e;var p=n.relatedTarget||n.toElement;f=p?i.getClosestInstanceFromNode(p):null}else l=null,f=e;if(l===f)return null;var h=null==l?c:i.getNodeFromInstance(l),d=null==f?c:i.getNodeFromInstance(f),v=o.getPooled(a.mouseLeave,l,n,u);v.type=\"mouseleave\",v.target=h,v.relatedTarget=d;var g=o.getPooled(a.mouseEnter,f,n,u);return g.type=\"mouseenter\",g.target=d,g.relatedTarget=h,r.accumulateEnterLeaveDispatches(v,g,l,f),[v,g]}};t.exports=u},function(t,e,n){\"use strict\";var r={topAbort:null,topAnimationEnd:null,topAnimationIteration:null,topAnimationStart:null,topBlur:null,topCanPlay:null,topCanPlayThrough:null,topChange:null,topClick:null,topCompositionEnd:null,topCompositionStart:null,topCompositionUpdate:null,topContextMenu:null,topCopy:null,topCut:null,topDoubleClick:null,topDrag:null,topDragEnd:null,topDragEnter:null,topDragExit:null,topDragLeave:null,topDragOver:null,topDragStart:null,topDrop:null,topDurationChange:null,topEmptied:null,topEncrypted:null,topEnded:null,topError:null,topFocus:null,topInput:null,topInvalid:null,topKeyDown:null,topKeyPress:null,topKeyUp:null,topLoad:null,topLoadedData:null,topLoadedMetadata:null,topLoadStart:null,topMouseDown:null,topMouseMove:null,topMouseOut:null,topMouseOver:null,topMouseUp:null,topPaste:null,topPause:null,topPlay:null,topPlaying:null,topProgress:null,topRateChange:null,topReset:null,topScroll:null,topSeeked:null,topSeeking:null,topSelectionChange:null,topStalled:null,topSubmit:null,topSuspend:null,topTextInput:null,topTimeUpdate:null,topTouchCancel:null,topTouchEnd:null,topTouchMove:null,topTouchStart:null,topTransitionEnd:null,topVolumeChange:null,topWaiting:null,topWheel:null},i={topLevelTypes:r};t.exports=i},function(t,e,n){\"use strict\";function r(t){this._root=t,this._startText=this.getText(),this._fallbackText=null}var i=n(3),o=n(18),a=n(172);i(r.prototype,{destructor:function(){this._root=null,this._startText=null,this._fallbackText=null},getText:function(){return\"value\"in this._root?this._root.value:this._root[a()]},getData:function(){if(this._fallbackText)return this._fallbackText;var t,e,n=this._startText,r=n.length,i=this.getText(),o=i.length;for(t=0;t<r&&n[t]===i[t];t++);var a=r-t;for(e=1;e<=a&&n[r-e]===i[o-e];e++);var u=e>1?1-e:void 0;return this._fallbackText=i.slice(t,u),this._fallbackText}}),o.addPoolingTo(r),t.exports=r},function(t,e,n){\"use strict\";var r=n(21),i=r.injection.MUST_USE_PROPERTY,o=r.injection.HAS_BOOLEAN_VALUE,a=r.injection.HAS_NUMERIC_VALUE,u=r.injection.HAS_POSITIVE_NUMERIC_VALUE,c=r.injection.HAS_OVERLOADED_BOOLEAN_VALUE,s={isCustomAttribute:RegExp.prototype.test.bind(new RegExp(\"^(data|aria)-[\"+r.ATTRIBUTE_NAME_CHAR+\"]*$\")),Properties:{accept:0,acceptCharset:0,accessKey:0,action:0,allowFullScreen:o,allowTransparency:0,alt:0,as:0,async:o,autoComplete:0,autoPlay:o,capture:o,cellPadding:0,cellSpacing:0,charSet:0,challenge:0,checked:i|o,cite:0,classID:0,className:0,cols:u,colSpan:0,content:0,contentEditable:0,contextMenu:0,controls:o,controlsList:0,coords:0,crossOrigin:0,data:0,dateTime:0,default:o,defer:o,dir:0,disabled:o,download:c,draggable:0,encType:0,form:0,formAction:0,formEncType:0,formMethod:0,formNoValidate:o,formTarget:0,frameBorder:0,headers:0,height:0,hidden:o,high:0,href:0,hrefLang:0,htmlFor:0,httpEquiv:0,icon:0,id:0,inputMode:0,integrity:0,is:0,keyParams:0,keyType:0,kind:0,label:0,lang:0,list:0,loop:o,low:0,manifest:0,marginHeight:0,marginWidth:0,max:0,maxLength:0,media:0,mediaGroup:0,method:0,min:0,minLength:0,multiple:i|o,muted:i|o,name:0,nonce:0,noValidate:o,open:o,optimum:0,pattern:0,placeholder:0,playsInline:o,poster:0,preload:0,profile:0,radioGroup:0,readOnly:o,referrerPolicy:0,rel:0,required:o,reversed:o,role:0,rows:u,rowSpan:a,sandbox:0,scope:0,scoped:o,scrolling:0,seamless:o,selected:i|o,shape:0,size:u,sizes:0,span:u,spellCheck:0,src:0,srcDoc:0,srcLang:0,srcSet:0,start:a,step:0,style:0,summary:0,tabIndex:0,target:0,title:0,type:0,useMap:0,value:0,width:0,wmode:0,wrap:0,about:0,datatype:0,inlist:0,prefix:0,property:0,resource:0,typeof:0,vocab:0,autoCapitalize:0,autoCorrect:0,autoSave:0,color:0,itemProp:0,itemScope:o,itemType:0,itemID:0,itemRef:0,results:0,security:0,unselectable:0},DOMAttributeNames:{acceptCharset:\"accept-charset\",className:\"class\",htmlFor:\"for\",httpEquiv:\"http-equiv\"},DOMPropertyNames:{},DOMMutationMethods:{value:function(t,e){if(null==e)return t.removeAttribute(\"value\");\"number\"!==t.type||!1===t.hasAttribute(\"value\")?t.setAttribute(\"value\",\"\"+e):t.validity&&!t.validity.badInput&&t.ownerDocument.activeElement!==t&&t.setAttribute(\"value\",\"\"+e)}}};t.exports=s},function(t,e,n){\"use strict\";(function(e){function r(t,e,n,r){var i=void 0===t[n];null!=e&&i&&(t[n]=o(e,!0))}var i=n(24),o=n(174),a=(n(85),n(96)),u=n(177);n(2);void 0!==e&&e.env;var c={instantiateChildren:function(t,e,n,i){if(null==t)return null;var o={};return u(t,r,o),o},updateChildren:function(t,e,n,r,u,c,s,l,f){if(e||t){var p,h;for(p in e)if(e.hasOwnProperty(p)){h=t&&t[p];var d=h&&h._currentElement,v=e[p];if(null!=h&&a(d,v))i.receiveComponent(h,v,u,l),e[p]=h;else{h&&(r[p]=i.getHostNode(h),i.unmountComponent(h,!1));var g=o(v,!0);e[p]=g;var m=i.mountComponent(g,u,c,s,l,f);n.push(m)}}for(p in t)!t.hasOwnProperty(p)||e&&e.hasOwnProperty(p)||(h=t[p],r[p]=i.getHostNode(h),i.unmountComponent(h,!1))}},unmountChildren:function(t,e){for(var n in t)if(t.hasOwnProperty(n)){var r=t[n];i.unmountComponent(r,e)}}};t.exports=c}).call(e,n(156))},function(t,e,n){\"use strict\";var r=n(82),i=n(364),o={processChildrenUpdates:i.dangerouslyProcessChildrenUpdates,replaceNodeWithMarkup:r.dangerouslyReplaceNodeWithMarkup};t.exports=o},function(t,e,n){\"use strict\";function r(t){}function i(t){return!(!t.prototype||!t.prototype.isReactComponent)}function o(t){return!(!t.prototype||!t.prototype.isPureReactComponent)}var a=n(1),u=n(3),c=n(26),s=n(87),l=n(15),f=n(88),p=n(39),h=(n(9),n(168)),d=n(24),v=n(51),g=(n(0),n(81)),m=n(96),y=(n(2),{ImpureClass:0,PureClass:1,StatelessFunctional:2});r.prototype.render=function(){var t=p.get(this)._currentElement.type,e=t(this.props,this.context,this.updater);return e};var _=1,b={construct:function(t){this._currentElement=t,this._rootNodeID=0,this._compositeType=null,this._instance=null,this._hostParent=null,this._hostContainerInfo=null,this._updateBatchNumber=null,this._pendingElement=null,this._pendingStateQueue=null,this._pendingReplaceState=!1,this._pendingForceUpdate=!1,this._renderedNodeType=null,this._renderedComponent=null,this._context=null,this._mountOrder=0,this._topLevelWrapper=null,this._pendingCallbacks=null,this._calledComponentWillUnmount=!1},mountComponent:function(t,e,n,u){this._context=u,this._mountOrder=_++,this._hostParent=e,this._hostContainerInfo=n;var s,l=this._currentElement.props,f=this._processContext(u),h=this._currentElement.type,d=t.getUpdateQueue(),g=i(h),m=this._constructComponent(g,l,f,d);g||null!=m&&null!=m.render?o(h)?this._compositeType=y.PureClass:this._compositeType=y.ImpureClass:(s=m,null===m||!1===m||c.isValidElement(m)||a(\"105\",h.displayName||h.name||\"Component\"),m=new r(h),this._compositeType=y.StatelessFunctional);m.props=l,m.context=f,m.refs=v,m.updater=d,this._instance=m,p.set(m,this);var b=m.state;void 0===b&&(m.state=b=null),(\"object\"!=typeof b||Array.isArray(b))&&a(\"106\",this.getName()||\"ReactCompositeComponent\"),this._pendingStateQueue=null,this._pendingReplaceState=!1,this._pendingForceUpdate=!1;var x;return x=m.unstable_handleError?this.performInitialMountWithErrorHandling(s,e,n,t,u):this.performInitialMount(s,e,n,t,u),m.componentDidMount&&t.getReactMountReady().enqueue(m.componentDidMount,m),x},_constructComponent:function(t,e,n,r){return this._constructComponentWithoutOwner(t,e,n,r)},_constructComponentWithoutOwner:function(t,e,n,r){var i=this._currentElement.type;return t?new i(e,n,r):i(e,n,r)},performInitialMountWithErrorHandling:function(t,e,n,r,i){var o,a=r.checkpoint();try{o=this.performInitialMount(t,e,n,r,i)}catch(u){r.rollback(a),this._instance.unstable_handleError(u),this._pendingStateQueue&&(this._instance.state=this._processPendingState(this._instance.props,this._instance.context)),a=r.checkpoint(),this._renderedComponent.unmountComponent(!0),r.rollback(a),o=this.performInitialMount(t,e,n,r,i)}return o},performInitialMount:function(t,e,n,r,i){var o=this._instance,a=0;o.componentWillMount&&(o.componentWillMount(),this._pendingStateQueue&&(o.state=this._processPendingState(o.props,o.context))),void 0===t&&(t=this._renderValidatedComponent());var u=h.getType(t);this._renderedNodeType=u;var c=this._instantiateReactComponent(t,u!==h.EMPTY);this._renderedComponent=c;var s=d.mountComponent(c,r,e,n,this._processChildContext(i),a);return s},getHostNode:function(){return d.getHostNode(this._renderedComponent)},unmountComponent:function(t){if(this._renderedComponent){var e=this._instance;if(e.componentWillUnmount&&!e._calledComponentWillUnmount)if(e._calledComponentWillUnmount=!0,t){var n=this.getName()+\".componentWillUnmount()\";f.invokeGuardedCallback(n,e.componentWillUnmount.bind(e))}else e.componentWillUnmount();this._renderedComponent&&(d.unmountComponent(this._renderedComponent,t),this._renderedNodeType=null,this._renderedComponent=null,this._instance=null),this._pendingStateQueue=null,this._pendingReplaceState=!1,this._pendingForceUpdate=!1,this._pendingCallbacks=null,this._pendingElement=null,this._context=null,this._rootNodeID=0,this._topLevelWrapper=null,p.remove(e)}},_maskContext:function(t){var e=this._currentElement.type,n=e.contextTypes;if(!n)return v;var r={};for(var i in n)r[i]=t[i];return r},_processContext:function(t){var e=this._maskContext(t);return e},_processChildContext:function(t){var e,n=this._currentElement.type,r=this._instance;if(r.getChildContext&&(e=r.getChildContext()),e){\"object\"!=typeof n.childContextTypes&&a(\"107\",this.getName()||\"ReactCompositeComponent\");for(var i in e)i in n.childContextTypes||a(\"108\",this.getName()||\"ReactCompositeComponent\",i);return u({},t,e)}return t},_checkContextTypes:function(t,e,n){},receiveComponent:function(t,e,n){var r=this._currentElement,i=this._context;this._pendingElement=null,this.updateComponent(e,r,t,i,n)},performUpdateIfNecessary:function(t){null!=this._pendingElement?d.receiveComponent(this,this._pendingElement,t,this._context):null!==this._pendingStateQueue||this._pendingForceUpdate?this.updateComponent(t,this._currentElement,this._currentElement,this._context,this._context):this._updateBatchNumber=null},updateComponent:function(t,e,n,r,i){var o=this._instance;null==o&&a(\"136\",this.getName()||\"ReactCompositeComponent\");var u,c=!1;this._context===i?u=o.context:(u=this._processContext(i),c=!0);var s=e.props,l=n.props;e!==n&&(c=!0),c&&o.componentWillReceiveProps&&o.componentWillReceiveProps(l,u);var f=this._processPendingState(l,u),p=!0;this._pendingForceUpdate||(o.shouldComponentUpdate?p=o.shouldComponentUpdate(l,f,u):this._compositeType===y.PureClass&&(p=!g(s,l)||!g(o.state,f))),this._updateBatchNumber=null,p?(this._pendingForceUpdate=!1,this._performComponentUpdate(n,l,f,u,t,i)):(this._currentElement=n,this._context=i,o.props=l,o.state=f,o.context=u)},_processPendingState:function(t,e){var n=this._instance,r=this._pendingStateQueue,i=this._pendingReplaceState;if(this._pendingReplaceState=!1,this._pendingStateQueue=null,!r)return n.state;if(i&&1===r.length)return r[0];for(var o=u({},i?r[0]:n.state),a=i?1:0;a<r.length;a++){var c=r[a];u(o,\"function\"==typeof c?c.call(n,o,t,e):c)}return o},_performComponentUpdate:function(t,e,n,r,i,o){var a,u,c,s=this._instance,l=Boolean(s.componentDidUpdate);l&&(a=s.props,u=s.state,c=s.context),s.componentWillUpdate&&s.componentWillUpdate(e,n,r),this._currentElement=t,this._context=o,s.props=e,s.state=n,s.context=r,this._updateRenderedComponent(i,o),l&&i.getReactMountReady().enqueue(s.componentDidUpdate.bind(s,a,u,c),s)},_updateRenderedComponent:function(t,e){var n=this._renderedComponent,r=n._currentElement,i=this._renderValidatedComponent(),o=0;if(m(r,i))d.receiveComponent(n,i,t,this._processChildContext(e));else{var a=d.getHostNode(n);d.unmountComponent(n,!1);var u=h.getType(i);this._renderedNodeType=u;var c=this._instantiateReactComponent(i,u!==h.EMPTY);this._renderedComponent=c;var s=d.mountComponent(c,t,this._hostParent,this._hostContainerInfo,this._processChildContext(e),o);this._replaceNodeWithMarkup(a,s,n)}},_replaceNodeWithMarkup:function(t,e,n){s.replaceNodeWithMarkup(t,e,n)},_renderValidatedComponentWithoutOwnerOrContext:function(){var t=this._instance;return t.render()},_renderValidatedComponent:function(){var t;if(this._compositeType!==y.StatelessFunctional){l.current=this;try{t=this._renderValidatedComponentWithoutOwnerOrContext()}finally{l.current=null}}else t=this._renderValidatedComponentWithoutOwnerOrContext();return null===t||!1===t||c.isValidElement(t)||a(\"109\",this.getName()||\"ReactCompositeComponent\"),t},attachRef:function(t,e){var n=this.getPublicInstance();null==n&&a(\"110\");var r=e.getPublicInstance();(n.refs===v?n.refs={}:n.refs)[t]=r},detachRef:function(t){delete this.getPublicInstance().refs[t]},getName:function(){var t=this._currentElement.type,e=this._instance&&this._instance.constructor;return t.displayName||e&&e.displayName||t.name||e&&e.name||null},getPublicInstance:function(){var t=this._instance;return this._compositeType===y.StatelessFunctional?null:t},_instantiateReactComponent:null};t.exports=b},function(t,e,n){\"use strict\";var r=n(4),i=n(372),o=n(167),a=n(24),u=n(12),c=n(385),s=n(401),l=n(171),f=n(408);n(2);i.inject();var p={findDOMNode:s,render:o.render,unmountComponentAtNode:o.unmountComponentAtNode,version:c,unstable_batchedUpdates:u.batchedUpdates,unstable_renderSubtreeIntoContainer:f};\"undefined\"!=typeof __REACT_DEVTOOLS_GLOBAL_HOOK__&&\"function\"==typeof __REACT_DEVTOOLS_GLOBAL_HOOK__.inject&&__REACT_DEVTOOLS_GLOBAL_HOOK__.inject({ComponentTree:{getClosestInstanceFromNode:r.getClosestInstanceFromNode,getNodeFromInstance:function(t){return t._renderedComponent&&(t=l(t)),t?r.getNodeFromInstance(t):null}},Mount:o,Reconciler:a});t.exports=p},function(t,e,n){\"use strict\";function r(t){if(t){var e=t._currentElement._owner||null;if(e){var n=e.getName();if(n)return\" This DOM node was rendered by `\"+n+\"`.\"}}return\"\"}function i(t,e){e&&($[t._tag]&&(null!=e.children||null!=e.dangerouslySetInnerHTML)&&g(\"137\",t._tag,t._currentElement._owner?\" Check the render method of \"+t._currentElement._owner.getName()+\".\":\"\"),null!=e.dangerouslySetInnerHTML&&(null!=e.children&&g(\"60\"),\"object\"==typeof e.dangerouslySetInnerHTML&&z in e.dangerouslySetInnerHTML||g(\"61\")),null!=e.style&&\"object\"!=typeof e.style&&g(\"62\",r(t)))}function o(t,e,n,r){if(!(r instanceof D)){var i=t._hostContainerInfo,o=i._node&&i._node.nodeType===q,u=o?i._node:i._ownerDocument;B(e,u),r.getReactMountReady().enqueue(a,{inst:t,registrationName:e,listener:n})}}function a(){var t=this;k.putListener(t.inst,t.registrationName,t.listener)}function u(){var t=this;N.postMountWrapper(t)}function c(){var t=this;O.postMountWrapper(t)}function s(){var t=this;A.postMountWrapper(t)}function l(){L.track(this)}function f(){var t=this;t._rootNodeID||g(\"63\");var e=j(t);switch(e||g(\"64\"),t._tag){case\"iframe\":case\"object\":t._wrapperState.listeners=[M.trapBubbledEvent(\"topLoad\",\"load\",e)];break;case\"video\":case\"audio\":t._wrapperState.listeners=[];for(var n in Y)Y.hasOwnProperty(n)&&t._wrapperState.listeners.push(M.trapBubbledEvent(n,Y[n],e));break;case\"source\":t._wrapperState.listeners=[M.trapBubbledEvent(\"topError\",\"error\",e)];break;case\"img\":t._wrapperState.listeners=[M.trapBubbledEvent(\"topError\",\"error\",e),M.trapBubbledEvent(\"topLoad\",\"load\",e)];break;case\"form\":t._wrapperState.listeners=[M.trapBubbledEvent(\"topReset\",\"reset\",e),M.trapBubbledEvent(\"topSubmit\",\"submit\",e)];break;case\"input\":case\"select\":case\"textarea\":t._wrapperState.listeners=[M.trapBubbledEvent(\"topInvalid\",\"invalid\",e)]}}function p(){P.postUpdateWrapper(this)}function h(t){Z.call(Q,t)||(X.test(t)||g(\"65\",t),Q[t]=!0)}function d(t,e){return t.indexOf(\"-\")>=0||null!=e.is}function v(t){var e=t.type;h(e),this._currentElement=t,this._tag=e.toLowerCase(),this._namespaceURI=null,this._renderedChildren=null,this._previousStyle=null,this._previousStyleCopy=null,this._hostNode=null,this._hostParent=null,this._rootNodeID=0,this._domID=0,this._hostContainerInfo=null,this._wrapperState=null,this._topLevelWrapper=null,this._flags=0}var g=n(1),m=n(3),y=n(346),_=n(348),b=n(20),x=n(83),w=n(21),C=n(160),k=n(22),E=n(84),M=n(53),T=n(161),S=n(4),N=n(365),A=n(366),P=n(162),O=n(369),I=(n(9),n(378)),D=n(383),R=(n(11),n(56)),L=(n(0),n(95),n(81),n(173)),U=(n(97),n(2),T),F=k.deleteListener,j=S.getNodeFromInstance,B=M.listenTo,V=E.registrationNameModules,W={string:!0,number:!0},z=\"__html\",H={children:null,dangerouslySetInnerHTML:null,suppressContentEditableWarning:null},q=11,Y={topAbort:\"abort\",topCanPlay:\"canplay\",topCanPlayThrough:\"canplaythrough\",topDurationChange:\"durationchange\",topEmptied:\"emptied\",topEncrypted:\"encrypted\",topEnded:\"ended\",topError:\"error\",topLoadedData:\"loadeddata\",topLoadedMetadata:\"loadedmetadata\",topLoadStart:\"loadstart\",topPause:\"pause\",topPlay:\"play\",topPlaying:\"playing\",topProgress:\"progress\",topRateChange:\"ratechange\",topSeeked:\"seeked\",topSeeking:\"seeking\",topStalled:\"stalled\",topSuspend:\"suspend\",topTimeUpdate:\"timeupdate\",topVolumeChange:\"volumechange\",topWaiting:\"waiting\"},K={area:!0,base:!0,br:!0,col:!0,embed:!0,hr:!0,img:!0,input:!0,keygen:!0,link:!0,meta:!0,param:!0,source:!0,track:!0,wbr:!0},G={listing:!0,pre:!0,textarea:!0},$=m({menuitem:!0},K),X=/^[a-zA-Z][a-zA-Z:_\\.\\-\\d]*$/,Q={},Z={}.hasOwnProperty,J=1;v.displayName=\"ReactDOMComponent\",v.Mixin={mountComponent:function(t,e,n,r){this._rootNodeID=J++,this._domID=n._idCounter++,this._hostParent=e,this._hostContainerInfo=n;var o=this._currentElement.props;switch(this._tag){case\"audio\":case\"form\":case\"iframe\":case\"img\":case\"link\":case\"object\":case\"source\":case\"video\":this._wrapperState={listeners:null},t.getReactMountReady().enqueue(f,this);break;case\"input\":N.mountWrapper(this,o,e),o=N.getHostProps(this,o),t.getReactMountReady().enqueue(l,this),t.getReactMountReady().enqueue(f,this);break;case\"option\":A.mountWrapper(this,o,e),o=A.getHostProps(this,o);break;case\"select\":P.mountWrapper(this,o,e),o=P.getHostProps(this,o),t.getReactMountReady().enqueue(f,this);break;case\"textarea\":O.mountWrapper(this,o,e),o=O.getHostProps(this,o),t.getReactMountReady().enqueue(l,this),t.getReactMountReady().enqueue(f,this)}i(this,o);var a,p;null!=e?(a=e._namespaceURI,p=e._tag):n._tag&&(a=n._namespaceURI,p=n._tag),(null==a||a===x.svg&&\"foreignobject\"===p)&&(a=x.html),a===x.html&&(\"svg\"===this._tag?a=x.svg:\"math\"===this._tag&&(a=x.mathml)),this._namespaceURI=a;var h;if(t.useCreateElement){var d,v=n._ownerDocument;if(a===x.html)if(\"script\"===this._tag){var g=v.createElement(\"div\"),m=this._currentElement.type;g.innerHTML=\"<\"+m+\"></\"+m+\">\",d=g.removeChild(g.firstChild)}else d=o.is?v.createElement(this._currentElement.type,o.is):v.createElement(this._currentElement.type);else d=v.createElementNS(a,this._currentElement.type);S.precacheNode(this,d),this._flags|=U.hasCachedChildNodes,this._hostParent||C.setAttributeForRoot(d),this._updateDOMProperties(null,o,t);var _=b(d);this._createInitialChildren(t,o,r,_),h=_}else{var w=this._createOpenTagMarkupAndPutListeners(t,o),k=this._createContentMarkup(t,o,r);h=!k&&K[this._tag]?w+\"/>\":w+\">\"+k+\"</\"+this._currentElement.type+\">\"}switch(this._tag){case\"input\":t.getReactMountReady().enqueue(u,this),o.autoFocus&&t.getReactMountReady().enqueue(y.focusDOMComponent,this);break;case\"textarea\":t.getReactMountReady().enqueue(c,this),o.autoFocus&&t.getReactMountReady().enqueue(y.focusDOMComponent,this);break;case\"select\":case\"button\":o.autoFocus&&t.getReactMountReady().enqueue(y.focusDOMComponent,this);break;case\"option\":t.getReactMountReady().enqueue(s,this)}return h},_createOpenTagMarkupAndPutListeners:function(t,e){var n=\"<\"+this._currentElement.type;for(var r in e)if(e.hasOwnProperty(r)){var i=e[r];if(null!=i)if(V.hasOwnProperty(r))i&&o(this,r,i,t);else{\"style\"===r&&(i&&(i=this._previousStyleCopy=m({},e.style)),i=_.createMarkupForStyles(i,this));var a=null;null!=this._tag&&d(this._tag,e)?H.hasOwnProperty(r)||(a=C.createMarkupForCustomAttribute(r,i)):a=C.createMarkupForProperty(r,i),a&&(n+=\" \"+a)}}return t.renderToStaticMarkup?n:(this._hostParent||(n+=\" \"+C.createMarkupForRoot()),n+=\" \"+C.createMarkupForID(this._domID))},_createContentMarkup:function(t,e,n){var r=\"\",i=e.dangerouslySetInnerHTML;if(null!=i)null!=i.__html&&(r=i.__html);else{var o=W[typeof e.children]?e.children:null,a=null!=o?null:e.children;if(null!=o)r=R(o);else if(null!=a){var u=this.mountChildren(a,t,n);r=u.join(\"\")}}return G[this._tag]&&\"\\n\"===r.charAt(0)?\"\\n\"+r:r},_createInitialChildren:function(t,e,n,r){var i=e.dangerouslySetInnerHTML;if(null!=i)null!=i.__html&&b.queueHTML(r,i.__html);else{var o=W[typeof e.children]?e.children:null,a=null!=o?null:e.children;if(null!=o)\"\"!==o&&b.queueText(r,o);else if(null!=a)for(var u=this.mountChildren(a,t,n),c=0;c<u.length;c++)b.queueChild(r,u[c])}},receiveComponent:function(t,e,n){var r=this._currentElement;this._currentElement=t,this.updateComponent(e,r,t,n)},updateComponent:function(t,e,n,r){var o=e.props,a=this._currentElement.props;switch(this._tag){case\"input\":o=N.getHostProps(this,o),a=N.getHostProps(this,a);break;case\"option\":o=A.getHostProps(this,o),a=A.getHostProps(this,a);break;case\"select\":o=P.getHostProps(this,o),a=P.getHostProps(this,a);break;case\"textarea\":o=O.getHostProps(this,o),a=O.getHostProps(this,a)}switch(i(this,a),this._updateDOMProperties(o,a,t),this._updateDOMChildren(o,a,t,r),this._tag){case\"input\":N.updateWrapper(this),L.updateValueIfChanged(this);break;case\"textarea\":O.updateWrapper(this);break;case\"select\":t.getReactMountReady().enqueue(p,this)}},_updateDOMProperties:function(t,e,n){var r,i,a;for(r in t)if(!e.hasOwnProperty(r)&&t.hasOwnProperty(r)&&null!=t[r])if(\"style\"===r){var u=this._previousStyleCopy;for(i in u)u.hasOwnProperty(i)&&(a=a||{},a[i]=\"\");this._previousStyleCopy=null}else V.hasOwnProperty(r)?t[r]&&F(this,r):d(this._tag,t)?H.hasOwnProperty(r)||C.deleteValueForAttribute(j(this),r):(w.properties[r]||w.isCustomAttribute(r))&&C.deleteValueForProperty(j(this),r);for(r in e){var c=e[r],s=\"style\"===r?this._previousStyleCopy:null!=t?t[r]:void 0;if(e.hasOwnProperty(r)&&c!==s&&(null!=c||null!=s))if(\"style\"===r)if(c?c=this._previousStyleCopy=m({},c):this._previousStyleCopy=null,s){for(i in s)!s.hasOwnProperty(i)||c&&c.hasOwnProperty(i)||(a=a||{},a[i]=\"\");for(i in c)c.hasOwnProperty(i)&&s[i]!==c[i]&&(a=a||{},a[i]=c[i])}else a=c;else if(V.hasOwnProperty(r))c?o(this,r,c,n):s&&F(this,r);else if(d(this._tag,e))H.hasOwnProperty(r)||C.setValueForAttribute(j(this),r,c);else if(w.properties[r]||w.isCustomAttribute(r)){var l=j(this);null!=c?C.setValueForProperty(l,r,c):C.deleteValueForProperty(l,r)}}a&&_.setValueForStyles(j(this),a,this)},_updateDOMChildren:function(t,e,n,r){var i=W[typeof t.children]?t.children:null,o=W[typeof e.children]?e.children:null,a=t.dangerouslySetInnerHTML&&t.dangerouslySetInnerHTML.__html,u=e.dangerouslySetInnerHTML&&e.dangerouslySetInnerHTML.__html,c=null!=i?null:t.children,s=null!=o?null:e.children,l=null!=i||null!=a,f=null!=o||null!=u;null!=c&&null==s?this.updateChildren(null,n,r):l&&!f&&this.updateTextContent(\"\"),null!=o?i!==o&&this.updateTextContent(\"\"+o):null!=u?a!==u&&this.updateMarkup(\"\"+u):null!=s&&this.updateChildren(s,n,r)},getHostNode:function(){return j(this)},unmountComponent:function(t){switch(this._tag){case\"audio\":case\"form\":case\"iframe\":case\"img\":case\"link\":case\"object\":case\"source\":case\"video\":var e=this._wrapperState.listeners;if(e)for(var n=0;n<e.length;n++)e[n].remove();break;case\"input\":case\"textarea\":L.stopTracking(this);break;case\"html\":case\"head\":case\"body\":g(\"66\",this._tag)}this.unmountChildren(t),S.uncacheNode(this),k.deleteAllListeners(this),this._rootNodeID=0,this._domID=0,this._wrapperState=null},getPublicInstance:function(){return j(this)}},m(v.prototype,v.Mixin,I.Mixin),t.exports=v},function(t,e,n){\"use strict\";function r(t,e){var n={_topLevelWrapper:t,_idCounter:1,_ownerDocument:e?e.nodeType===i?e:e.ownerDocument:null,_node:e,_tag:e?e.nodeName.toLowerCase():null,_namespaceURI:e?e.namespaceURI:null};return n}var i=(n(97),9);t.exports=r},function(t,e,n){\"use strict\";var r=n(3),i=n(20),o=n(4),a=function(t){this._currentElement=null,this._hostNode=null,this._hostParent=null,this._hostContainerInfo=null,this._domID=0};r(a.prototype,{mountComponent:function(t,e,n,r){var a=n._idCounter++;this._domID=a,this._hostParent=e,this._hostContainerInfo=n;var u=\" react-empty: \"+this._domID+\" \";if(t.useCreateElement){var c=n._ownerDocument,s=c.createComment(u);return o.precacheNode(this,s),i(s)}return t.renderToStaticMarkup?\"\":\"\\x3c!--\"+u+\"--\\x3e\"},receiveComponent:function(){},getHostNode:function(){return o.getNodeFromInstance(this)},unmountComponent:function(){o.uncacheNode(this)}}),t.exports=a},function(t,e,n){\"use strict\";var r={useCreateElement:!0,useFiber:!1};t.exports=r},function(t,e,n){\"use strict\";var r=n(82),i=n(4),o={dangerouslyProcessChildrenUpdates:function(t,e){var n=i.getNodeFromInstance(t);r.processUpdates(n,e)}};t.exports=o},function(t,e,n){\"use strict\";function r(){this._rootNodeID&&p.updateWrapper(this)}function i(t){return\"checkbox\"===t.type||\"radio\"===t.type?null!=t.checked:null!=t.value}function o(t){var e=this._currentElement.props,n=s.executeOnChange(e,t);f.asap(r,this);var i=e.name;if(\"radio\"===e.type&&null!=i){for(var o=l.getNodeFromInstance(this),u=o;u.parentNode;)u=u.parentNode;for(var c=u.querySelectorAll(\"input[name=\"+JSON.stringify(\"\"+i)+'][type=\"radio\"]'),p=0;p<c.length;p++){var h=c[p];if(h!==o&&h.form===o.form){var d=l.getInstanceFromNode(h);d||a(\"90\"),f.asap(r,d)}}}return n}var a=n(1),u=n(3),c=n(160),s=n(86),l=n(4),f=n(12),p=(n(0),n(2),{getHostProps:function(t,e){var n=s.getValue(e),r=s.getChecked(e);return u({type:void 0,step:void 0,min:void 0,max:void 0},e,{defaultChecked:void 0,defaultValue:void 0,value:null!=n?n:t._wrapperState.initialValue,checked:null!=r?r:t._wrapperState.initialChecked,onChange:t._wrapperState.onChange})},mountWrapper:function(t,e){var n=e.defaultValue;t._wrapperState={initialChecked:null!=e.checked?e.checked:e.defaultChecked,initialValue:null!=e.value?e.value:n,listeners:null,onChange:o.bind(t),controlled:i(e)}},updateWrapper:function(t){var e=t._currentElement.props,n=e.checked;null!=n&&c.setValueForProperty(l.getNodeFromInstance(t),\"checked\",n||!1);var r=l.getNodeFromInstance(t),i=s.getValue(e);if(null!=i)if(0===i&&\"\"===r.value)r.value=\"0\";else if(\"number\"===e.type){var o=parseFloat(r.value,10)||0;(i!=o||i==o&&r.value!=i)&&(r.value=\"\"+i)}else r.value!==\"\"+i&&(r.value=\"\"+i);else null==e.value&&null!=e.defaultValue&&r.defaultValue!==\"\"+e.defaultValue&&(r.defaultValue=\"\"+e.defaultValue),null==e.checked&&null!=e.defaultChecked&&(r.defaultChecked=!!e.defaultChecked)},postMountWrapper:function(t){var e=t._currentElement.props,n=l.getNodeFromInstance(t);switch(e.type){case\"submit\":case\"reset\":break;case\"color\":case\"date\":case\"datetime\":case\"datetime-local\":case\"month\":case\"time\":case\"week\":n.value=\"\",n.value=n.defaultValue;break;default:n.value=n.value}var r=n.name;\"\"!==r&&(n.name=\"\"),n.defaultChecked=!n.defaultChecked,n.defaultChecked=!n.defaultChecked,\"\"!==r&&(n.name=r)}});t.exports=p},function(t,e,n){\"use strict\";function r(t){var e=\"\";return o.Children.forEach(t,function(t){null!=t&&(\"string\"==typeof t||\"number\"==typeof t?e+=t:c||(c=!0))}),e}var i=n(3),o=n(26),a=n(4),u=n(162),c=(n(2),!1),s={mountWrapper:function(t,e,n){var i=null;if(null!=n){var o=n;\"optgroup\"===o._tag&&(o=o._hostParent),null!=o&&\"select\"===o._tag&&(i=u.getSelectValueContext(o))}var a=null;if(null!=i){var c;if(c=null!=e.value?e.value+\"\":r(e.children),a=!1,Array.isArray(i)){for(var s=0;s<i.length;s++)if(\"\"+i[s]===c){a=!0;break}}else a=\"\"+i===c}t._wrapperState={selected:a}},postMountWrapper:function(t){var e=t._currentElement.props;if(null!=e.value){a.getNodeFromInstance(t).setAttribute(\"value\",e.value)}},getHostProps:function(t,e){var n=i({selected:void 0,children:void 0},e);null!=t._wrapperState.selected&&(n.selected=t._wrapperState.selected);var o=r(e.children);return o&&(n.children=o),n}};t.exports=s},function(t,e,n){\"use strict\";function r(t,e,n,r){return t===n&&e===r}function i(t){var e=document.selection,n=e.createRange(),r=n.text.length,i=n.duplicate();i.moveToElementText(t),i.setEndPoint(\"EndToStart\",n);var o=i.text.length;return{start:o,end:o+r}}function o(t){var e=window.getSelection&&window.getSelection();if(!e||0===e.rangeCount)return null;var n=e.anchorNode,i=e.anchorOffset,o=e.focusNode,a=e.focusOffset,u=e.getRangeAt(0);try{u.startContainer.nodeType,u.endContainer.nodeType}catch(t){return null}var c=r(e.anchorNode,e.anchorOffset,e.focusNode,e.focusOffset),s=c?0:u.toString().length,l=u.cloneRange();l.selectNodeContents(t),l.setEnd(u.startContainer,u.startOffset);var f=r(l.startContainer,l.startOffset,l.endContainer,l.endOffset),p=f?0:l.toString().length,h=p+s,d=document.createRange();d.setStart(n,i),d.setEnd(o,a);var v=d.collapsed;return{start:v?h:p,end:v?p:h}}function a(t,e){var n,r,i=document.selection.createRange().duplicate();void 0===e.end?(n=e.start,r=n):e.start>e.end?(n=e.end,r=e.start):(n=e.start,r=e.end),i.moveToElementText(t),i.moveStart(\"character\",n),i.setEndPoint(\"EndToStart\",i),i.moveEnd(\"character\",r-n),i.select()}function u(t,e){if(window.getSelection){var n=window.getSelection(),r=t[l()].length,i=Math.min(e.start,r),o=void 0===e.end?i:Math.min(e.end,r);if(!n.extend&&i>o){var a=o;o=i,i=a}var u=s(t,i),c=s(t,o);if(u&&c){var f=document.createRange();f.setStart(u.node,u.offset),n.removeAllRanges(),i>o?(n.addRange(f),n.extend(c.node,c.offset)):(f.setEnd(c.node,c.offset),n.addRange(f))}}}var c=n(6),s=n(405),l=n(172),f=c.canUseDOM&&\"selection\"in document&&!(\"getSelection\"in window),p={getOffsets:f?i:o,setOffsets:f?a:u};t.exports=p},function(t,e,n){\"use strict\";var r=n(1),i=n(3),o=n(82),a=n(20),u=n(4),c=n(56),s=(n(0),n(97),function(t){this._currentElement=t,this._stringText=\"\"+t,this._hostNode=null,this._hostParent=null,this._domID=0,this._mountIndex=0,this._closingComment=null,this._commentNodes=null});i(s.prototype,{mountComponent:function(t,e,n,r){var i=n._idCounter++,o=\" react-text: \"+i+\" \";if(this._domID=i,this._hostParent=e,t.useCreateElement){var s=n._ownerDocument,l=s.createComment(o),f=s.createComment(\" /react-text \"),p=a(s.createDocumentFragment());return a.queueChild(p,a(l)),this._stringText&&a.queueChild(p,a(s.createTextNode(this._stringText))),a.queueChild(p,a(f)),u.precacheNode(this,l),this._closingComment=f,p}var h=c(this._stringText);return t.renderToStaticMarkup?h:\"\\x3c!--\"+o+\"--\\x3e\"+h+\"\\x3c!-- /react-text --\\x3e\"},receiveComponent:function(t,e){if(t!==this._currentElement){this._currentElement=t;var n=\"\"+t;if(n!==this._stringText){this._stringText=n;var r=this.getHostNode();o.replaceDelimitedText(r[0],r[1],n)}}},getHostNode:function(){var t=this._commentNodes;if(t)return t;if(!this._closingComment)for(var e=u.getNodeFromInstance(this),n=e.nextSibling;;){if(null==n&&r(\"67\",this._domID),8===n.nodeType&&\" /react-text \"===n.nodeValue){this._closingComment=n;break}n=n.nextSibling}return t=[this._hostNode,this._closingComment],this._commentNodes=t,t},unmountComponent:function(){this._closingComment=null,this._commentNodes=null,u.uncacheNode(this)}}),t.exports=s},function(t,e,n){\"use strict\";function r(){this._rootNodeID&&l.updateWrapper(this)}function i(t){var e=this._currentElement.props,n=u.executeOnChange(e,t);return s.asap(r,this),n}var o=n(1),a=n(3),u=n(86),c=n(4),s=n(12),l=(n(0),n(2),{getHostProps:function(t,e){return null!=e.dangerouslySetInnerHTML&&o(\"91\"),a({},e,{value:void 0,defaultValue:void 0,children:\"\"+t._wrapperState.initialValue,onChange:t._wrapperState.onChange})},mountWrapper:function(t,e){var n=u.getValue(e),r=n;if(null==n){var a=e.defaultValue,c=e.children;null!=c&&(null!=a&&o(\"92\"),Array.isArray(c)&&(c.length<=1||o(\"93\"),c=c[0]),a=\"\"+c),null==a&&(a=\"\"),r=a}t._wrapperState={initialValue:\"\"+r,listeners:null,onChange:i.bind(t)}},updateWrapper:function(t){var e=t._currentElement.props,n=c.getNodeFromInstance(t),r=u.getValue(e);if(null!=r){var i=\"\"+r;i!==n.value&&(n.value=i),null==e.defaultValue&&(n.defaultValue=i)}null!=e.defaultValue&&(n.defaultValue=e.defaultValue)},postMountWrapper:function(t){var e=c.getNodeFromInstance(t),n=e.textContent;n===t._wrapperState.initialValue&&(e.value=n)}});t.exports=l},function(t,e,n){\"use strict\";function r(t,e){\"_hostNode\"in t||c(\"33\"),\"_hostNode\"in e||c(\"33\");for(var n=0,r=t;r;r=r._hostParent)n++;for(var i=0,o=e;o;o=o._hostParent)i++;for(;n-i>0;)t=t._hostParent,n--;for(;i-n>0;)e=e._hostParent,i--;for(var a=n;a--;){if(t===e)return t;t=t._hostParent,e=e._hostParent}return null}function i(t,e){\"_hostNode\"in t||c(\"35\"),\"_hostNode\"in e||c(\"35\");for(;e;){if(e===t)return!0;e=e._hostParent}return!1}function o(t){return\"_hostNode\"in t||c(\"36\"),t._hostParent}function a(t,e,n){for(var r=[];t;)r.push(t),t=t._hostParent;var i;for(i=r.length;i-- >0;)e(r[i],\"captured\",n);for(i=0;i<r.length;i++)e(r[i],\"bubbled\",n)}function u(t,e,n,i,o){for(var a=t&&e?r(t,e):null,u=[];t&&t!==a;)u.push(t),t=t._hostParent;for(var c=[];e&&e!==a;)c.push(e),e=e._hostParent;var s;for(s=0;s<u.length;s++)n(u[s],\"bubbled\",i);for(s=c.length;s-- >0;)n(c[s],\"captured\",o)}var c=n(1);n(0);t.exports={isAncestor:i,getLowestCommonAncestor:r,getParentInstance:o,traverseTwoPhase:a,traverseEnterLeave:u}},function(t,e,n){\"use strict\";function r(){this.reinitializeTransaction()}var i=n(3),o=n(12),a=n(55),u=n(11),c={initialize:u,close:function(){p.isBatchingUpdates=!1}},s={initialize:u,close:o.flushBatchedUpdates.bind(o)},l=[s,c];i(r.prototype,a,{getTransactionWrappers:function(){return l}});var f=new r,p={isBatchingUpdates:!1,batchedUpdates:function(t,e,n,r,i,o){var a=p.isBatchingUpdates;return p.isBatchingUpdates=!0,a?t(e,n,r,i,o):f.perform(t,null,e,n,r,i,o)}};t.exports=p},function(t,e,n){\"use strict\";function r(){C||(C=!0,y.EventEmitter.injectReactEventListener(m),y.EventPluginHub.injectEventPluginOrder(u),y.EventPluginUtils.injectComponentTree(p),y.EventPluginUtils.injectTreeTraversal(d),y.EventPluginHub.injectEventPluginsByName({SimpleEventPlugin:w,EnterLeaveEventPlugin:c,ChangeEventPlugin:a,SelectEventPlugin:x,BeforeInputEventPlugin:o}),y.HostComponent.injectGenericComponentClass(f),y.HostComponent.injectTextComponentClass(v),y.DOMProperty.injectDOMPropertyConfig(i),y.DOMProperty.injectDOMPropertyConfig(s),y.DOMProperty.injectDOMPropertyConfig(b),y.EmptyComponent.injectEmptyComponentFactory(function(t){return new h(t)}),y.Updates.injectReconcileTransaction(_),y.Updates.injectBatchingStrategy(g),y.Component.injectEnvironment(l))}var i=n(345),o=n(347),a=n(349),u=n(351),c=n(352),s=n(355),l=n(357),f=n(360),p=n(4),h=n(362),d=n(370),v=n(368),g=n(371),m=n(375),y=n(376),_=n(381),b=n(386),x=n(387),w=n(388),C=!1;t.exports={inject:r}},function(t,e,n){\"use strict\";var r=\"function\"==typeof Symbol&&Symbol.for&&Symbol.for(\"react.element\")||60103;t.exports=r},function(t,e,n){\"use strict\";function r(t){i.enqueueEvents(t),i.processEventQueue(!1)}var i=n(22),o={handleTopLevel:function(t,e,n,o){r(i.extractEvents(t,e,n,o))}};t.exports=o},function(t,e,n){\"use strict\";function r(t){for(;t._hostParent;)t=t._hostParent;var e=f.getNodeFromInstance(t),n=e.parentNode;return f.getClosestInstanceFromNode(n)}function i(t,e){this.topLevelType=t,this.nativeEvent=e,this.ancestors=[]}function o(t){var e=h(t.nativeEvent),n=f.getClosestInstanceFromNode(e),i=n;do{t.ancestors.push(i),i=i&&r(i)}while(i);for(var o=0;o<t.ancestors.length;o++)n=t.ancestors[o],v._handleTopLevel(t.topLevelType,n,t.nativeEvent,h(t.nativeEvent))}function a(t){t(d(window))}var u=n(3),c=n(153),s=n(6),l=n(18),f=n(4),p=n(12),h=n(94),d=n(335);u(i.prototype,{destructor:function(){this.topLevelType=null,this.nativeEvent=null,this.ancestors.length=0}}),l.addPoolingTo(i,l.twoArgumentPooler);var v={_enabled:!0,_handleTopLevel:null,WINDOW_HANDLE:s.canUseDOM?window:null,setHandleTopLevel:function(t){v._handleTopLevel=t},setEnabled:function(t){v._enabled=!!t},isEnabled:function(){return v._enabled},trapBubbledEvent:function(t,e,n){return n?c.listen(n,e,v.dispatchEvent.bind(null,t)):null},trapCapturedEvent:function(t,e,n){return n?c.capture(n,e,v.dispatchEvent.bind(null,t)):null},monitorScrollValue:function(t){var e=a.bind(null,t);c.listen(window,\"scroll\",e)},dispatchEvent:function(t,e){if(v._enabled){var n=i.getPooled(t,e);try{p.batchedUpdates(o,n)}finally{i.release(n)}}}};t.exports=v},function(t,e,n){\"use strict\";var r=n(21),i=n(22),o=n(52),a=n(87),u=n(163),c=n(53),s=n(165),l=n(12),f={Component:a.injection,DOMProperty:r.injection,EmptyComponent:u.injection,EventPluginHub:i.injection,EventPluginUtils:o.injection,EventEmitter:c.injection,HostComponent:s.injection,Updates:l.injection};t.exports=f},function(t,e,n){\"use strict\";var r=n(399),i=/\\/?>/,o=/^<\\!\\-\\-/,a={CHECKSUM_ATTR_NAME:\"data-react-checksum\",addChecksumToMarkup:function(t){var e=r(t);return o.test(t)?t:t.replace(i,\" \"+a.CHECKSUM_ATTR_NAME+'=\"'+e+'\"$&')},canReuseMarkup:function(t,e){var n=e.getAttribute(a.CHECKSUM_ATTR_NAME);return n=n&&parseInt(n,10),r(t)===n}};t.exports=a},function(t,e,n){\"use strict\";function r(t,e,n){return{type:\"INSERT_MARKUP\",content:t,fromIndex:null,fromNode:null,toIndex:n,afterNode:e}}function i(t,e,n){return{type:\"MOVE_EXISTING\",content:null,fromIndex:t._mountIndex,fromNode:p.getHostNode(t),toIndex:n,afterNode:e}}function o(t,e){return{type:\"REMOVE_NODE\",content:null,fromIndex:t._mountIndex,fromNode:e,toIndex:null,afterNode:null}}function a(t){return{type:\"SET_MARKUP\",content:t,fromIndex:null,fromNode:null,toIndex:null,afterNode:null}}function u(t){return{type:\"TEXT_CONTENT\",content:t,fromIndex:null,fromNode:null,toIndex:null,afterNode:null}}function c(t,e){return e&&(t=t||[],t.push(e)),t}function s(t,e){f.processChildrenUpdates(t,e)}var l=n(1),f=n(87),p=(n(39),n(9),n(15),n(24)),h=n(356),d=(n(11),n(402)),v=(n(0),{Mixin:{_reconcilerInstantiateChildren:function(t,e,n){return h.instantiateChildren(t,e,n)},_reconcilerUpdateChildren:function(t,e,n,r,i,o){var a,u=0;return a=d(e,u),h.updateChildren(t,a,n,r,i,this,this._hostContainerInfo,o,u),a},mountChildren:function(t,e,n){var r=this._reconcilerInstantiateChildren(t,e,n);this._renderedChildren=r;var i=[],o=0;for(var a in r)if(r.hasOwnProperty(a)){var u=r[a],c=0,s=p.mountComponent(u,e,this,this._hostContainerInfo,n,c);u._mountIndex=o++,i.push(s)}return i},updateTextContent:function(t){var e=this._renderedChildren;h.unmountChildren(e,!1);for(var n in e)e.hasOwnProperty(n)&&l(\"118\");s(this,[u(t)])},updateMarkup:function(t){var e=this._renderedChildren;h.unmountChildren(e,!1);for(var n in e)e.hasOwnProperty(n)&&l(\"118\");s(this,[a(t)])},updateChildren:function(t,e,n){this._updateChildren(t,e,n)},_updateChildren:function(t,e,n){var r=this._renderedChildren,i={},o=[],a=this._reconcilerUpdateChildren(r,t,o,i,e,n);if(a||r){var u,l=null,f=0,h=0,d=0,v=null;for(u in a)if(a.hasOwnProperty(u)){var g=r&&r[u],m=a[u];g===m?(l=c(l,this.moveChild(g,v,f,h)),h=Math.max(g._mountIndex,h),g._mountIndex=f):(g&&(h=Math.max(g._mountIndex,h)),l=c(l,this._mountChildAtIndex(m,o[d],v,f,e,n)),d++),f++,v=p.getHostNode(m)}for(u in i)i.hasOwnProperty(u)&&(l=c(l,this._unmountChild(r[u],i[u])));l&&s(this,l),this._renderedChildren=a}},unmountChildren:function(t){var e=this._renderedChildren;h.unmountChildren(e,t),this._renderedChildren=null},moveChild:function(t,e,n,r){if(t._mountIndex<r)return i(t,e,n)},createChild:function(t,e,n){return r(n,e,t._mountIndex)},removeChild:function(t,e){return o(t,e)},_mountChildAtIndex:function(t,e,n,r,i,o){return t._mountIndex=r,this.createChild(t,n,e)},_unmountChild:function(t,e){var n=this.removeChild(t,e);return t._mountIndex=null,n}}});t.exports=v},function(t,e,n){\"use strict\";function r(t){return!(!t||\"function\"!=typeof t.attachRef||\"function\"!=typeof t.detachRef)}var i=n(1),o=(n(0),{addComponentAsRefTo:function(t,e,n){r(n)||i(\"119\"),n.attachRef(e,t)},removeComponentAsRefFrom:function(t,e,n){r(n)||i(\"120\");var o=n.getPublicInstance();o&&o.refs[e]===t.getPublicInstance()&&n.detachRef(e)}});t.exports=o},function(t,e,n){\"use strict\";t.exports=\"SECRET_DO_NOT_PASS_THIS_OR_YOU_WILL_BE_FIRED\"},function(t,e,n){\"use strict\";function r(t){this.reinitializeTransaction(),this.renderToStaticMarkup=!1,this.reactMountReady=o.getPooled(null),this.useCreateElement=t}var i=n(3),o=n(159),a=n(18),u=n(53),c=n(166),s=(n(9),n(55)),l=n(89),f={initialize:c.getSelectionInformation,close:c.restoreSelection},p={initialize:function(){var t=u.isEnabled();return u.setEnabled(!1),t},close:function(t){u.setEnabled(t)}},h={initialize:function(){this.reactMountReady.reset()},close:function(){this.reactMountReady.notifyAll()}},d=[f,p,h],v={getTransactionWrappers:function(){return d},getReactMountReady:function(){return this.reactMountReady},getUpdateQueue:function(){return l},checkpoint:function(){return this.reactMountReady.checkpoint()},rollback:function(t){this.reactMountReady.rollback(t)},destructor:function(){o.release(this.reactMountReady),this.reactMountReady=null}};i(r.prototype,s,v),a.addPoolingTo(r),t.exports=r},function(t,e,n){\"use strict\";function r(t,e,n){\"function\"==typeof t?t(e.getPublicInstance()):o.addComponentAsRefTo(e,t,n)}function i(t,e,n){\"function\"==typeof t?t(null):o.removeComponentAsRefFrom(e,t,n)}var o=n(379),a={};a.attachRefs=function(t,e){if(null!==e&&\"object\"==typeof e){var n=e.ref;null!=n&&r(n,t,e._owner)}},a.shouldUpdateRefs=function(t,e){var n=null,r=null;null!==t&&\"object\"==typeof t&&(n=t.ref,r=t._owner);var i=null,o=null;return null!==e&&\"object\"==typeof e&&(i=e.ref,o=e._owner),n!==i||\"string\"==typeof i&&o!==r},a.detachRefs=function(t,e){if(null!==e&&\"object\"==typeof e){var n=e.ref;null!=n&&i(n,t,e._owner)}},t.exports=a},function(t,e,n){\"use strict\";function r(t){this.reinitializeTransaction(),this.renderToStaticMarkup=t,this.useCreateElement=!1,this.updateQueue=new u(this)}var i=n(3),o=n(18),a=n(55),u=(n(9),n(384)),c=[],s={enqueue:function(){}},l={getTransactionWrappers:function(){return c},getReactMountReady:function(){return s},getUpdateQueue:function(){return this.updateQueue},destructor:function(){},checkpoint:function(){},rollback:function(){}};i(r.prototype,a,l),o.addPoolingTo(r),t.exports=r},function(t,e,n){\"use strict\";function r(t,e){if(!(t instanceof e))throw new TypeError(\"Cannot call a class as a function\")}var i=n(89),o=(n(2),function(){function t(e){r(this,t),this.transaction=e}return t.prototype.isMounted=function(t){return!1},t.prototype.enqueueCallback=function(t,e,n){this.transaction.isInTransaction()&&i.enqueueCallback(t,e,n)},t.prototype.enqueueForceUpdate=function(t){this.transaction.isInTransaction()&&i.enqueueForceUpdate(t)},t.prototype.enqueueReplaceState=function(t,e){this.transaction.isInTransaction()&&i.enqueueReplaceState(t,e)},t.prototype.enqueueSetState=function(t,e){this.transaction.isInTransaction()&&i.enqueueSetState(t,e)},t}());t.exports=o},function(t,e,n){\"use strict\";t.exports=\"15.6.2\"},function(t,e,n){\"use strict\";var r={xlink:\"http://www.w3.org/1999/xlink\",xml:\"http://www.w3.org/XML/1998/namespace\"},i={accentHeight:\"accent-height\",accumulate:0,additive:0,alignmentBaseline:\"alignment-baseline\",allowReorder:\"allowReorder\",alphabetic:0,amplitude:0,arabicForm:\"arabic-form\",ascent:0,attributeName:\"attributeName\",attributeType:\"attributeType\",autoReverse:\"autoReverse\",azimuth:0,baseFrequency:\"baseFrequency\",baseProfile:\"baseProfile\",baselineShift:\"baseline-shift\",bbox:0,begin:0,bias:0,by:0,calcMode:\"calcMode\",capHeight:\"cap-height\",clip:0,clipPath:\"clip-path\",clipRule:\"clip-rule\",clipPathUnits:\"clipPathUnits\",colorInterpolation:\"color-interpolation\",colorInterpolationFilters:\"color-interpolation-filters\",colorProfile:\"color-profile\",colorRendering:\"color-rendering\",contentScriptType:\"contentScriptType\",contentStyleType:\"contentStyleType\",cursor:0,cx:0,cy:0,d:0,decelerate:0,descent:0,diffuseConstant:\"diffuseConstant\",direction:0,display:0,divisor:0,dominantBaseline:\"dominant-baseline\",dur:0,dx:0,dy:0,edgeMode:\"edgeMode\",elevation:0,enableBackground:\"enable-background\",end:0,exponent:0,externalResourcesRequired:\"externalResourcesRequired\",fill:0,fillOpacity:\"fill-opacity\",fillRule:\"fill-rule\",filter:0,filterRes:\"filterRes\",filterUnits:\"filterUnits\",floodColor:\"flood-color\",floodOpacity:\"flood-opacity\",focusable:0,fontFamily:\"font-family\",fontSize:\"font-size\",fontSizeAdjust:\"font-size-adjust\",fontStretch:\"font-stretch\",fontStyle:\"font-style\",fontVariant:\"font-variant\",fontWeight:\"font-weight\",format:0,from:0,fx:0,fy:0,g1:0,g2:0,glyphName:\"glyph-name\",glyphOrientationHorizontal:\"glyph-orientation-horizontal\",glyphOrientationVertical:\"glyph-orientation-vertical\",glyphRef:\"glyphRef\",gradientTransform:\"gradientTransform\",gradientUnits:\"gradientUnits\",hanging:0,horizAdvX:\"horiz-adv-x\",horizOriginX:\"horiz-origin-x\",ideographic:0,imageRendering:\"image-rendering\",in:0,in2:0,intercept:0,k:0,k1:0,k2:0,k3:0,k4:0,kernelMatrix:\"kernelMatrix\",kernelUnitLength:\"kernelUnitLength\",kerning:0,keyPoints:\"keyPoints\",keySplines:\"keySplines\",keyTimes:\"keyTimes\",lengthAdjust:\"lengthAdjust\",letterSpacing:\"letter-spacing\",lightingColor:\"lighting-color\",limitingConeAngle:\"limitingConeAngle\",local:0,markerEnd:\"marker-end\",markerMid:\"marker-mid\",markerStart:\"marker-start\",markerHeight:\"markerHeight\",markerUnits:\"markerUnits\",markerWidth:\"markerWidth\",mask:0,maskContentUnits:\"maskContentUnits\",maskUnits:\"maskUnits\",mathematical:0,mode:0,numOctaves:\"numOctaves\",offset:0,opacity:0,operator:0,order:0,orient:0,orientation:0,origin:0,overflow:0,overlinePosition:\"overline-position\",overlineThickness:\"overline-thickness\",paintOrder:\"paint-order\",panose1:\"panose-1\",pathLength:\"pathLength\",patternContentUnits:\"patternContentUnits\",patternTransform:\"patternTransform\",patternUnits:\"patternUnits\",pointerEvents:\"pointer-events\",points:0,pointsAtX:\"pointsAtX\",pointsAtY:\"pointsAtY\",pointsAtZ:\"pointsAtZ\",preserveAlpha:\"preserveAlpha\",preserveAspectRatio:\"preserveAspectRatio\",primitiveUnits:\"primitiveUnits\",r:0,radius:0,refX:\"refX\",refY:\"refY\",renderingIntent:\"rendering-intent\",repeatCount:\"repeatCount\",repeatDur:\"repeatDur\",requiredExtensions:\"requiredExtensions\",requiredFeatures:\"requiredFeatures\",restart:0,result:0,rotate:0,rx:0,ry:0,scale:0,seed:0,shapeRendering:\"shape-rendering\",slope:0,spacing:0,specularConstant:\"specularConstant\",specularExponent:\"specularExponent\",speed:0,spreadMethod:\"spreadMethod\",startOffset:\"startOffset\",stdDeviation:\"stdDeviation\",stemh:0,stemv:0,stitchTiles:\"stitchTiles\",stopColor:\"stop-color\",stopOpacity:\"stop-opacity\",strikethroughPosition:\"strikethrough-position\",strikethroughThickness:\"strikethrough-thickness\",string:0,stroke:0,strokeDasharray:\"stroke-dasharray\",strokeDashoffset:\"stroke-dashoffset\",strokeLinecap:\"stroke-linecap\",strokeLinejoin:\"stroke-linejoin\",strokeMiterlimit:\"stroke-miterlimit\",strokeOpacity:\"stroke-opacity\",strokeWidth:\"stroke-width\",surfaceScale:\"surfaceScale\",systemLanguage:\"systemLanguage\",tableValues:\"tableValues\",targetX:\"targetX\",targetY:\"targetY\",textAnchor:\"text-anchor\",textDecoration:\"text-decoration\",textRendering:\"text-rendering\",textLength:\"textLength\",to:0,transform:0,u1:0,u2:0,underlinePosition:\"underline-position\",underlineThickness:\"underline-thickness\",unicode:0,unicodeBidi:\"unicode-bidi\",unicodeRange:\"unicode-range\",unitsPerEm:\"units-per-em\",vAlphabetic:\"v-alphabetic\",vHanging:\"v-hanging\",vIdeographic:\"v-ideographic\",vMathematical:\"v-mathematical\",values:0,vectorEffect:\"vector-effect\",version:0,vertAdvY:\"vert-adv-y\",vertOriginX:\"vert-origin-x\",vertOriginY:\"vert-origin-y\",viewBox:\"viewBox\",viewTarget:\"viewTarget\",visibility:0,widths:0,wordSpacing:\"word-spacing\",writingMode:\"writing-mode\",x:0,xHeight:\"x-height\",x1:0,x2:0,xChannelSelector:\"xChannelSelector\",xlinkActuate:\"xlink:actuate\",xlinkArcrole:\"xlink:arcrole\",xlinkHref:\"xlink:href\",xlinkRole:\"xlink:role\",xlinkShow:\"xlink:show\",xlinkTitle:\"xlink:title\",xlinkType:\"xlink:type\",xmlBase:\"xml:base\",xmlns:0,xmlnsXlink:\"xmlns:xlink\",xmlLang:\"xml:lang\",xmlSpace:\"xml:space\",y:0,y1:0,y2:0,yChannelSelector:\"yChannelSelector\",z:0,zoomAndPan:\"zoomAndPan\"},o={Properties:{},DOMAttributeNamespaces:{xlinkActuate:r.xlink,xlinkArcrole:r.xlink,xlinkHref:r.xlink,xlinkRole:r.xlink,xlinkShow:r.xlink,xlinkTitle:r.xlink,xlinkType:r.xlink,xmlBase:r.xml,xmlLang:r.xml,xmlSpace:r.xml},DOMAttributeNames:{}};Object.keys(i).forEach(function(t){o.Properties[t]=0,i[t]&&(o.DOMAttributeNames[t]=i[t])}),t.exports=o},function(t,e,n){\"use strict\";function r(t){if(\"selectionStart\"in t&&c.hasSelectionCapabilities(t))return{start:t.selectionStart,end:t.selectionEnd};if(window.getSelection){var e=window.getSelection();return{anchorNode:e.anchorNode,anchorOffset:e.anchorOffset,focusNode:e.focusNode,focusOffset:e.focusOffset}}if(document.selection){var n=document.selection.createRange();return{parentElement:n.parentElement(),text:n.text,top:n.boundingTop,left:n.boundingLeft}}}function i(t,e){if(y||null==v||v!==l())return null;var n=r(v);if(!m||!p(m,n)){m=n;var i=s.getPooled(d.select,g,t,e);return i.type=\"select\",i.target=v,o.accumulateTwoPhaseDispatches(i),i}return null}var o=n(23),a=n(6),u=n(4),c=n(166),s=n(14),l=n(155),f=n(175),p=n(81),h=a.canUseDOM&&\"documentMode\"in document&&document.documentMode<=11,d={select:{phasedRegistrationNames:{bubbled:\"onSelect\",captured:\"onSelectCapture\"},dependencies:[\"topBlur\",\"topContextMenu\",\"topFocus\",\"topKeyDown\",\"topKeyUp\",\"topMouseDown\",\"topMouseUp\",\"topSelectionChange\"]}},v=null,g=null,m=null,y=!1,_=!1,b={eventTypes:d,extractEvents:function(t,e,n,r){if(!_)return null;var o=e?u.getNodeFromInstance(e):window;switch(t){case\"topFocus\":(f(o)||\"true\"===o.contentEditable)&&(v=o,g=e,m=null);break;case\"topBlur\":v=null,g=null,m=null;break;case\"topMouseDown\":y=!0;break;case\"topContextMenu\":case\"topMouseUp\":return y=!1,i(n,r);case\"topSelectionChange\":if(h)break;case\"topKeyDown\":case\"topKeyUp\":return i(n,r)}return null},didPutListener:function(t,e,n){\"onSelect\"===e&&(_=!0)}};t.exports=b},function(t,e,n){\"use strict\";function r(t){return\".\"+t._rootNodeID}function i(t){return\"button\"===t||\"input\"===t||\"select\"===t||\"textarea\"===t}var o=n(1),a=n(153),u=n(23),c=n(4),s=n(389),l=n(390),f=n(14),p=n(393),h=n(395),d=n(54),v=n(392),g=n(396),m=n(397),y=n(25),_=n(398),b=n(11),x=n(92),w=(n(0),{}),C={};[\"abort\",\"animationEnd\",\"animationIteration\",\"animationStart\",\"blur\",\"canPlay\",\"canPlayThrough\",\"click\",\"contextMenu\",\"copy\",\"cut\",\"doubleClick\",\"drag\",\"dragEnd\",\"dragEnter\",\"dragExit\",\"dragLeave\",\"dragOver\",\"dragStart\",\"drop\",\"durationChange\",\"emptied\",\"encrypted\",\"ended\",\"error\",\"focus\",\"input\",\"invalid\",\"keyDown\",\"keyPress\",\"keyUp\",\"load\",\"loadedData\",\"loadedMetadata\",\"loadStart\",\"mouseDown\",\"mouseMove\",\"mouseOut\",\"mouseOver\",\"mouseUp\",\"paste\",\"pause\",\"play\",\"playing\",\"progress\",\"rateChange\",\"reset\",\"scroll\",\"seeked\",\"seeking\",\"stalled\",\"submit\",\"suspend\",\"timeUpdate\",\"touchCancel\",\"touchEnd\",\"touchMove\",\"touchStart\",\"transitionEnd\",\"volumeChange\",\"waiting\",\"wheel\"].forEach(function(t){var e=t[0].toUpperCase()+t.slice(1),n=\"on\"+e,r=\"top\"+e,i={phasedRegistrationNames:{bubbled:n,captured:n+\"Capture\"},dependencies:[r]};w[t]=i,C[r]=i});var k={},E={eventTypes:w,extractEvents:function(t,e,n,r){var i=C[t];if(!i)return null;var a;switch(t){case\"topAbort\":case\"topCanPlay\":case\"topCanPlayThrough\":case\"topDurationChange\":case\"topEmptied\":case\"topEncrypted\":case\"topEnded\":case\"topError\":case\"topInput\":case\"topInvalid\":case\"topLoad\":case\"topLoadedData\":case\"topLoadedMetadata\":case\"topLoadStart\":case\"topPause\":case\"topPlay\":case\"topPlaying\":case\"topProgress\":case\"topRateChange\":case\"topReset\":case\"topSeeked\":case\"topSeeking\":case\"topStalled\":case\"topSubmit\":case\"topSuspend\":case\"topTimeUpdate\":case\"topVolumeChange\":case\"topWaiting\":a=f;break;case\"topKeyPress\":if(0===x(n))return null;case\"topKeyDown\":case\"topKeyUp\":a=h;break;case\"topBlur\":case\"topFocus\":a=p;break;case\"topClick\":if(2===n.button)return null;case\"topDoubleClick\":case\"topMouseDown\":case\"topMouseMove\":case\"topMouseUp\":case\"topMouseOut\":case\"topMouseOver\":case\"topContextMenu\":a=d;break;case\"topDrag\":case\"topDragEnd\":case\"topDragEnter\":case\"topDragExit\":case\"topDragLeave\":case\"topDragOver\":case\"topDragStart\":case\"topDrop\":a=v;break;case\"topTouchCancel\":case\"topTouchEnd\":case\"topTouchMove\":case\"topTouchStart\":a=g;break;case\"topAnimationEnd\":case\"topAnimationIteration\":case\"topAnimationStart\":a=s;break;case\"topTransitionEnd\":a=m;break;case\"topScroll\":a=y;break;case\"topWheel\":a=_;break;case\"topCopy\":case\"topCut\":case\"topPaste\":a=l}a||o(\"86\",t);var c=a.getPooled(i,e,n,r);return u.accumulateTwoPhaseDispatches(c),c},didPutListener:function(t,e,n){if(\"onClick\"===e&&!i(t._tag)){var o=r(t),u=c.getNodeFromInstance(t);k[o]||(k[o]=a.listen(u,\"click\",b))}},willDeleteListener:function(t,e){if(\"onClick\"===e&&!i(t._tag)){var n=r(t);k[n].remove(),delete k[n]}}};t.exports=E},function(t,e,n){\"use strict\";function r(t,e,n,r){return i.call(this,t,e,n,r)}var i=n(14),o={animationName:null,elapsedTime:null,pseudoElement:null};i.augmentClass(r,o),t.exports=r},function(t,e,n){\"use strict\";function r(t,e,n,r){return i.call(this,t,e,n,r)}var i=n(14),o={clipboardData:function(t){return\"clipboardData\"in t?t.clipboardData:window.clipboardData}};i.augmentClass(r,o),t.exports=r},function(t,e,n){\"use strict\";function r(t,e,n,r){return i.call(this,t,e,n,r)}var i=n(14),o={data:null};i.augmentClass(r,o),t.exports=r},function(t,e,n){\"use strict\";function r(t,e,n,r){return i.call(this,t,e,n,r)}var i=n(54),o={dataTransfer:null};i.augmentClass(r,o),t.exports=r},function(t,e,n){\"use strict\";function r(t,e,n,r){return i.call(this,t,e,n,r)}var i=n(25),o={relatedTarget:null};i.augmentClass(r,o),t.exports=r},function(t,e,n){\"use strict\";function r(t,e,n,r){return i.call(this,t,e,n,r)}var i=n(14),o={data:null};i.augmentClass(r,o),t.exports=r},function(t,e,n){\"use strict\";function r(t,e,n,r){return i.call(this,t,e,n,r)}var i=n(25),o=n(92),a=n(403),u=n(93),c={key:a,location:null,ctrlKey:null,shiftKey:null,altKey:null,metaKey:null,repeat:null,locale:null,getModifierState:u,charCode:function(t){return\"keypress\"===t.type?o(t):0},keyCode:function(t){return\"keydown\"===t.type||\"keyup\"===t.type?t.keyCode:0},which:function(t){return\"keypress\"===t.type?o(t):\"keydown\"===t.type||\"keyup\"===t.type?t.keyCode:0}};i.augmentClass(r,c),t.exports=r},function(t,e,n){\"use strict\";function r(t,e,n,r){return i.call(this,t,e,n,r)}var i=n(25),o=n(93),a={touches:null,targetTouches:null,changedTouches:null,altKey:null,metaKey:null,ctrlKey:null,shiftKey:null,getModifierState:o};i.augmentClass(r,a),t.exports=r},function(t,e,n){\"use strict\";function r(t,e,n,r){return i.call(this,t,e,n,r)}var i=n(14),o={propertyName:null,elapsedTime:null,pseudoElement:null};i.augmentClass(r,o),t.exports=r},function(t,e,n){\"use strict\";function r(t,e,n,r){return i.call(this,t,e,n,r)}var i=n(54),o={deltaX:function(t){return\"deltaX\"in t?t.deltaX:\"wheelDeltaX\"in t?-t.wheelDeltaX:0},deltaY:function(t){return\"deltaY\"in t?t.deltaY:\"wheelDeltaY\"in t?-t.wheelDeltaY:\"wheelDelta\"in t?-t.wheelDelta:0},deltaZ:null,deltaMode:null};i.augmentClass(r,o),t.exports=r},function(t,e,n){\"use strict\";function r(t){for(var e=1,n=0,r=0,o=t.length,a=-4&o;r<a;){for(var u=Math.min(r+4096,a);r<u;r+=4)n+=(e+=t.charCodeAt(r))+(e+=t.charCodeAt(r+1))+(e+=t.charCodeAt(r+2))+(e+=t.charCodeAt(r+3));e%=i,n%=i}for(;r<o;r++)n+=e+=t.charCodeAt(r);return e%=i,n%=i,e|n<<16}var i=65521;t.exports=r},function(t,e,n){\"use strict\";function r(t,e,n,r){if(null==e||\"boolean\"==typeof e||\"\"===e)return\"\";var i=isNaN(e);if(r||i||0===e||o.hasOwnProperty(t)&&o[t])return\"\"+e;if(\"string\"==typeof e){e=e.trim()}return e+\"px\"}var i=n(158),o=(n(2),i.isUnitlessNumber);t.exports=r},function(t,e,n){\"use strict\";function r(t){if(null==t)return null;if(1===t.nodeType)return t;var e=a.get(t);if(e)return e=u(e),e?o.getNodeFromInstance(e):null;\"function\"==typeof t.render?i(\"44\"):i(\"45\",Object.keys(t))}var i=n(1),o=(n(15),n(4)),a=n(39),u=n(171);n(0),n(2);t.exports=r},function(t,e,n){\"use strict\";(function(e){function r(t,e,n,r){if(t&&\"object\"==typeof t){var i=t,o=void 0===i[n];o&&null!=e&&(i[n]=e)}}function i(t,e){if(null==t)return t;var n={};return o(t,r,n),n}var o=(n(85),n(177));n(2);void 0!==e&&e.env,t.exports=i}).call(e,n(156))},function(t,e,n){\"use strict\";function r(t){if(t.key){var e=o[t.key]||t.key;if(\"Unidentified\"!==e)return e}if(\"keypress\"===t.type){var n=i(t);return 13===n?\"Enter\":String.fromCharCode(n)}return\"keydown\"===t.type||\"keyup\"===t.type?a[t.keyCode]||\"Unidentified\":\"\"}var i=n(92),o={Esc:\"Escape\",Spacebar:\" \",Left:\"ArrowLeft\",Up:\"ArrowUp\",Right:\"ArrowRight\",Down:\"ArrowDown\",Del:\"Delete\",Win:\"OS\",Menu:\"ContextMenu\",Apps:\"ContextMenu\",Scroll:\"ScrollLock\",MozPrintableKey:\"Unidentified\"},a={8:\"Backspace\",9:\"Tab\",12:\"Clear\",13:\"Enter\",16:\"Shift\",17:\"Control\",18:\"Alt\",19:\"Pause\",20:\"CapsLock\",27:\"Escape\",32:\" \",33:\"PageUp\",34:\"PageDown\",35:\"End\",36:\"Home\",37:\"ArrowLeft\",38:\"ArrowUp\",39:\"ArrowRight\",40:\"ArrowDown\",45:\"Insert\",46:\"Delete\",112:\"F1\",113:\"F2\",114:\"F3\",115:\"F4\",116:\"F5\",117:\"F6\",118:\"F7\",119:\"F8\",120:\"F9\",121:\"F10\",122:\"F11\",123:\"F12\",144:\"NumLock\",145:\"ScrollLock\",224:\"Meta\"};t.exports=r},function(t,e,n){\"use strict\";function r(t){var e=t&&(i&&t[i]||t[o]);if(\"function\"==typeof e)return e}var i=\"function\"==typeof Symbol&&Symbol.iterator,o=\"@@iterator\";t.exports=r},function(t,e,n){\"use strict\";function r(t){for(;t&&t.firstChild;)t=t.firstChild;return t}function i(t){for(;t;){if(t.nextSibling)return t.nextSibling;t=t.parentNode}}function o(t,e){for(var n=r(t),o=0,a=0;n;){if(3===n.nodeType){if(a=o+n.textContent.length,o<=e&&a>=e)return{node:n,offset:e-o};o=a}n=r(i(n))}}t.exports=o},function(t,e,n){\"use strict\";function r(t,e){var n={};return n[t.toLowerCase()]=e.toLowerCase(),n[\"Webkit\"+t]=\"webkit\"+e,n[\"Moz\"+t]=\"moz\"+e,n[\"ms\"+t]=\"MS\"+e,n[\"O\"+t]=\"o\"+e.toLowerCase(),n}function i(t){if(u[t])return u[t];if(!a[t])return t;var e=a[t];for(var n in e)if(e.hasOwnProperty(n)&&n in c)return u[t]=e[n];return\"\"}var o=n(6),a={animationend:r(\"Animation\",\"AnimationEnd\"),animationiteration:r(\"Animation\",\"AnimationIteration\"),animationstart:r(\"Animation\",\"AnimationStart\"),transitionend:r(\"Transition\",\"TransitionEnd\")},u={},c={};o.canUseDOM&&(c=document.createElement(\"div\").style,\"AnimationEvent\"in window||(delete a.animationend.animation,delete a.animationiteration.animation,delete a.animationstart.animation),\"TransitionEvent\"in window||delete a.transitionend.transition),t.exports=i},function(t,e,n){\"use strict\";function r(t){return'\"'+i(t)+'\"'}var i=n(56);t.exports=r},function(t,e,n){\"use strict\";var r=n(167);t.exports=r.renderSubtreeIntoContainer},function(t,e,n){\"use strict\";function r(t,e){var n=l.extractSingleTouch(e);return n?n[t.page]:t.page in e?e[t.page]:e[t.client]+f[t.envScroll]}function i(t,e){var n=r(b.x,e),i=r(b.y,e);return Math.pow(Math.pow(n-t.x,2)+Math.pow(i-t.y,2),.5)}function o(t){return{tapMoveThreshold:g,ignoreMouseThreshold:m,eventTypes:C,extractEvents:function(e,n,o,a){if(!h(e)&&!d(e))return null;if(v(e))_=k();else if(t(_,k()))return null;var u=null,l=i(y,o);return d(e)&&l<g&&(u=s.getPooled(C.touchTap,n,o,a)),h(e)?(y.x=r(b.x,o),y.y=r(b.y,o)):d(e)&&(y.x=0,y.y=0),c.accumulateTwoPhaseDispatches(u),u}}}var a=n(353),u=n(52),c=n(23),s=n(25),l=n(410),f=n(90),p=n(340),h=(a.topLevelTypes,u.isStartish),d=u.isEndish,v=function(t){return[\"topTouchCancel\",\"topTouchEnd\",\"topTouchStart\",\"topTouchMove\"].indexOf(t)>=0},g=10,m=750,y={x:null,y:null},_=null,b={x:{page:\"pageX\",client:\"clientX\",envScroll:\"currentPageScrollLeft\"},y:{page:\"pageY\",client:\"clientY\",envScroll:\"currentPageScrollTop\"}},x=[\"topTouchStart\",\"topTouchCancel\",\"topTouchEnd\",\"topTouchMove\"],w=[\"topMouseDown\",\"topMouseMove\",\"topMouseUp\"].concat(x),C={touchTap:{phasedRegistrationNames:{bubbled:p({onTouchTap:null}),captured:p({onTouchTapCapture:null})},dependencies:w}},k=function(){return Date.now?Date.now:function(){return+new Date}}();t.exports=o},function(t,e){var n={extractSingleTouch:function(t){var e=t.touches,n=t.changedTouches,r=e&&e.length>0,i=n&&n.length>0;return!r&&i?n[0]:r?e[0]:t}};t.exports=n},function(t,e){t.exports=function(t,e){if(t&&e-t<750)return!0}},function(t,e,n){\"use strict\";function r(t){var e={\"=\":\"=0\",\":\":\"=2\"};return\"$\"+(\"\"+t).replace(/[=:]/g,function(t){return e[t]})}function i(t){var e=/(=0|=2)/g,n={\"=0\":\"=\",\"=2\":\":\"};return(\"\"+(\".\"===t[0]&&\"$\"===t[1]?t.substring(2):t.substring(1))).replace(e,function(t){return n[t]})}var o={escape:r,unescape:i};t.exports=o},function(t,e,n){\"use strict\";var r=n(40),i=(n(0),function(t){var e=this;if(e.instancePool.length){var n=e.instancePool.pop();return e.call(n,t),n}return new e(t)}),o=function(t,e){var n=this;if(n.instancePool.length){var r=n.instancePool.pop();return n.call(r,t,e),r}return new n(t,e)},a=function(t,e,n){var r=this;if(r.instancePool.length){var i=r.instancePool.pop();return r.call(i,t,e,n),i}return new r(t,e,n)},u=function(t,e,n,r){var i=this;if(i.instancePool.length){var o=i.instancePool.pop();return i.call(o,t,e,n,r),o}return new i(t,e,n,r)},c=function(t){var e=this;t instanceof e||r(\"25\"),t.destructor(),e.instancePool.length<e.poolSize&&e.instancePool.push(t)},s=i,l=function(t,e){var n=t;return n.instancePool=[],n.getPooled=e||s,n.poolSize||(n.poolSize=10),n.release=c,n},f={addPoolingTo:l,oneArgumentPooler:i,twoArgumentPooler:o,threeArgumentPooler:a,fourArgumentPooler:u};t.exports=f},function(t,e,n){\"use strict\";function r(t){return(\"\"+t).replace(b,\"$&/\")}function i(t,e){this.func=t,this.context=e,this.count=0}function o(t,e,n){var r=t.func,i=t.context;r.call(i,e,t.count++)}function a(t,e,n){if(null==t)return t;var r=i.getPooled(e,n);m(t,o,r),i.release(r)}function u(t,e,n,r){this.result=t,this.keyPrefix=e,this.func=n,this.context=r,this.count=0}function c(t,e,n){var i=t.result,o=t.keyPrefix,a=t.func,u=t.context,c=a.call(u,e,t.count++);Array.isArray(c)?s(c,i,n,g.thatReturnsArgument):null!=c&&(v.isValidElement(c)&&(c=v.cloneAndReplaceKey(c,o+(!c.key||e&&e.key===c.key?\"\":r(c.key)+\"/\")+n)),i.push(c))}function s(t,e,n,i,o){var a=\"\";null!=n&&(a=r(n)+\"/\");var s=u.getPooled(e,a,i,o);m(t,c,s),u.release(s)}function l(t,e,n){if(null==t)return t;var r=[];return s(t,r,null,e,n),r}function f(t,e,n){return null}function p(t,e){return m(t,f,null)}function h(t){var e=[];return s(t,e,null,g.thatReturnsArgument),e}var d=n(413),v=n(27),g=n(11),m=n(423),y=d.twoArgumentPooler,_=d.fourArgumentPooler,b=/\\/+/g;i.prototype.destructor=function(){this.func=null,this.context=null,this.count=0},d.addPoolingTo(i,y),u.prototype.destructor=function(){this.result=null,this.keyPrefix=null,this.func=null,this.context=null,this.count=0},d.addPoolingTo(u,_);var x={forEach:a,map:l,mapIntoWithKeyPrefixInternal:s,count:p,toArray:h};t.exports=x},function(t,e,n){\"use strict\";var r=n(27),i=r.createFactory,o={a:i(\"a\"),abbr:i(\"abbr\"),address:i(\"address\"),area:i(\"area\"),article:i(\"article\"),aside:i(\"aside\"),audio:i(\"audio\"),b:i(\"b\"),base:i(\"base\"),bdi:i(\"bdi\"),bdo:i(\"bdo\"),big:i(\"big\"),blockquote:i(\"blockquote\"),body:i(\"body\"),br:i(\"br\"),button:i(\"button\"),canvas:i(\"canvas\"),caption:i(\"caption\"),cite:i(\"cite\"),code:i(\"code\"),col:i(\"col\"),colgroup:i(\"colgroup\"),data:i(\"data\"),datalist:i(\"datalist\"),dd:i(\"dd\"),del:i(\"del\"),details:i(\"details\"),dfn:i(\"dfn\"),dialog:i(\"dialog\"),div:i(\"div\"),dl:i(\"dl\"),dt:i(\"dt\"),em:i(\"em\"),embed:i(\"embed\"),fieldset:i(\"fieldset\"),figcaption:i(\"figcaption\"),figure:i(\"figure\"),footer:i(\"footer\"),form:i(\"form\"),h1:i(\"h1\"),h2:i(\"h2\"),h3:i(\"h3\"),h4:i(\"h4\"),h5:i(\"h5\"),h6:i(\"h6\"),head:i(\"head\"),header:i(\"header\"),hgroup:i(\"hgroup\"),hr:i(\"hr\"),html:i(\"html\"),i:i(\"i\"),iframe:i(\"iframe\"),img:i(\"img\"),input:i(\"input\"),ins:i(\"ins\"),kbd:i(\"kbd\"),keygen:i(\"keygen\"),label:i(\"label\"),legend:i(\"legend\"),li:i(\"li\"),link:i(\"link\"),main:i(\"main\"),map:i(\"map\"),mark:i(\"mark\"),menu:i(\"menu\"),menuitem:i(\"menuitem\"),meta:i(\"meta\"),meter:i(\"meter\"),nav:i(\"nav\"),noscript:i(\"noscript\"),object:i(\"object\"),ol:i(\"ol\"),optgroup:i(\"optgroup\"),option:i(\"option\"),output:i(\"output\"),p:i(\"p\"),param:i(\"param\"),picture:i(\"picture\"),pre:i(\"pre\"),progress:i(\"progress\"),q:i(\"q\"),rp:i(\"rp\"),rt:i(\"rt\"),ruby:i(\"ruby\"),s:i(\"s\"),samp:i(\"samp\"),script:i(\"script\"),section:i(\"section\"),select:i(\"select\"),small:i(\"small\"),source:i(\"source\"),span:i(\"span\"),strong:i(\"strong\"),style:i(\"style\"),sub:i(\"sub\"),summary:i(\"summary\"),sup:i(\"sup\"),table:i(\"table\"),tbody:i(\"tbody\"),td:i(\"td\"),textarea:i(\"textarea\"),tfoot:i(\"tfoot\"),th:i(\"th\"),thead:i(\"thead\"),time:i(\"time\"),title:i(\"title\"),tr:i(\"tr\"),track:i(\"track\"),u:i(\"u\"),ul:i(\"ul\"),var:i(\"var\"),video:i(\"video\"),wbr:i(\"wbr\"),circle:i(\"circle\"),clipPath:i(\"clipPath\"),defs:i(\"defs\"),ellipse:i(\"ellipse\"),g:i(\"g\"),image:i(\"image\"),line:i(\"line\"),linearGradient:i(\"linearGradient\"),mask:i(\"mask\"),path:i(\"path\"),pattern:i(\"pattern\"),polygon:i(\"polygon\"),polyline:i(\"polyline\"),radialGradient:i(\"radialGradient\"),rect:i(\"rect\"),stop:i(\"stop\"),svg:i(\"svg\"),text:i(\"text\"),tspan:i(\"tspan\")};t.exports=o},function(t,e,n){\"use strict\";var r=n(27),i=r.isValidElement,o=n(157);t.exports=o(i)},function(t,e,n){\"use strict\";t.exports=\"15.6.2\"},function(t,e,n){\"use strict\";var r=n(178),i=r.Component,o=n(27),a=o.isValidElement,u=n(181),c=n(191);t.exports=c(i,a,u)},function(t,e,n){\"use strict\";function r(t){var e=t&&(i&&t[i]||t[o]);if(\"function\"==typeof e)return e}var i=\"function\"==typeof Symbol&&Symbol.iterator,o=\"@@iterator\";t.exports=r},function(t,e,n){\"use strict\";function r(){return i++}var i=1;t.exports=r},function(t,e,n){\"use strict\";var r=function(){};t.exports=r},function(t,e,n){\"use strict\";function r(t){return o.isValidElement(t)||i(\"143\"),t}var i=n(40),o=n(27);n(0);t.exports=r},function(t,e,n){\"use strict\";function r(t,e){return t&&\"object\"==typeof t&&null!=t.key?s.escape(t.key):e.toString(36)}function i(t,e,n,o){var p=typeof t;if(\"undefined\"!==p&&\"boolean\"!==p||(t=null),null===t||\"string\"===p||\"number\"===p||\"object\"===p&&t.$$typeof===u)return n(o,t,\"\"===e?l+r(t,0):e),1;var h,d,v=0,g=\"\"===e?l:e+f;if(Array.isArray(t))for(var m=0;m<t.length;m++)h=t[m],d=g+r(h,m),v+=i(h,d,n,o);else{var y=c(t);if(y){var _,b=y.call(t);if(y!==t.entries)for(var x=0;!(_=b.next()).done;)h=_.value,d=g+r(h,x++),v+=i(h,d,n,o);else for(;!(_=b.next()).done;){var w=_.value;w&&(h=w[1],d=g+s.escape(w[0])+f+r(h,0),v+=i(h,d,n,o))}}else if(\"object\"===p){var C=\"\",k=String(t);a(\"31\",\"[object Object]\"===k?\"object with keys {\"+Object.keys(t).join(\", \")+\"}\":k,C)}}return v}function o(t,e,n){return null==t?0:i(t,\"\",e,n)}var a=n(40),u=(n(15),n(180)),c=n(419),s=(n(0),n(412)),l=(n(2),\".\"),f=\":\";t.exports=o}]);</script>"
      ],
      "text/plain": [
       "<IPython.core.display.HTML object>"
      ]
     },
     "metadata": {},
     "output_type": "display_data"
    }
   ],
   "source": [
    "shap.initjs()"
   ]
  },
  {
   "cell_type": "code",
   "execution_count": 119,
   "metadata": {},
   "outputs": [
    {
     "data": {
      "image/png": "[encoded data removed]",
      "text/plain": [
       "<Figure size 576x252 with 2 Axes>"
      ]
     },
     "metadata": {
      "needs_background": "light"
     },
     "output_type": "display_data"
    }
   ],
   "source": [
    "shap.summary_plot(sv_ds[cols_indexes].values, ds.loc[test_ids, cols_indexes].head(1000), title='Policy impact (confirmed cases per day)',)\n",
    "plt.show()"
   ]
  },
  {
   "cell_type": "code",
   "execution_count": null,
   "metadata": {},
   "outputs": [],
   "source": []
  },
  {
   "cell_type": "code",
   "execution_count": null,
   "metadata": {},
   "outputs": [],
   "source": []
  },
  {
   "cell_type": "code",
   "execution_count": null,
   "metadata": {},
   "outputs": [],
   "source": []
  },
  {
   "cell_type": "code",
   "execution_count": 141,
   "metadata": {},
   "outputs": [],
   "source": [
    "if os.path.abspath('../../FCA_BB_interpret') not in sys.path:\n",
    "    sys.path.append(os.path.abspath('../../FCA_BB_interpret'))"
   ]
  },
  {
   "cell_type": "code",
   "execution_count": 143,
   "metadata": {},
   "outputs": [],
   "source": [
    "from lib import fca_interp as fcai"
   ]
  },
  {
   "cell_type": "code",
   "execution_count": 386,
   "metadata": {},
   "outputs": [
    {
     "data": {
      "text/plain": [
       "((137, 77), (25756, 77))"
      ]
     },
     "execution_count": 386,
     "metadata": {},
     "output_type": "execute_result"
    }
   ],
   "source": [
    "ds_us = ds[ds['Country']=='US']\n",
    "#ds_us.index = ds_us.index.astype(str)\n",
    "ds_us.shape, ds.shape"
   ]
  },
  {
   "cell_type": "raw",
   "metadata": {},
   "source": [
    "policy_ds = ds[[x for x in cols_policy if x.startswith('C')]].fillna(0)\n",
    "policy_ds.shape, policy_ds.drop_duplicates().shape"
   ]
  },
  {
   "cell_type": "code",
   "execution_count": 486,
   "metadata": {},
   "outputs": [
    {
     "data": {
      "text/plain": [
       "((137, 8), (12, 8))"
      ]
     },
     "execution_count": 486,
     "metadata": {},
     "output_type": "execute_result"
    }
   ],
   "source": [
    "policy_ds = ds_us[[f for f in cols_policy if f.startswith('C')]].fillna(0)\n",
    "policy_ds.shape, policy_ds.drop_duplicates().shape"
   ]
  },
  {
   "cell_type": "code",
   "execution_count": 489,
   "metadata": {},
   "outputs": [],
   "source": [
    "mvcntx_train = fcai.MultiValuedContext(policy_ds.loc[train_ids], cat_attrs=[])\n",
    "mvcntx_nodup_train = fcai.MultiValuedContext(policy_ds.loc[train_ids].drop_duplicates(), cat_attrs=[])"
   ]
  },
  {
   "cell_type": "code",
   "execution_count": 490,
   "metadata": {},
   "outputs": [],
   "source": [
    "mvcntx_test = fcai.MultiValuedContext(policy_ds.loc[test_ids], cat_attrs=[])\n",
    "mvcntx_nodup_test = fcai.MultiValuedContext(policy_ds.loc[test_ids].drop_duplicates(), cat_attrs=[])"
   ]
  },
  {
   "cell_type": "code",
   "execution_count": null,
   "metadata": {},
   "outputs": [],
   "source": []
  },
  {
   "cell_type": "raw",
   "metadata": {},
   "source": [
    "mvcntx_train = fcai.MultiValuedContext(ds_us.loc[train_ids, cols_train].fillna(0), cat_attrs=[])\n",
    "mvcntx_nodup_train = fcai.MultiValuedContext(ds_us.loc[train_ids, cols_train].fillna(0).drop_duplicates().head(20), cat_attrs=[])"
   ]
  },
  {
   "cell_type": "raw",
   "metadata": {},
   "source": [
    "mvcntx_test = fcai.MultiValuedContext(ds_us.loc[test_ids, cols_train].fillna(0), cat_attrs=[])\n",
    "mvcntx_nodup_test = fcai.MultiValuedContext(ds_us.loc[test_ids, cols_train].fillna(0).drop_duplicates(), cat_attrs=[])"
   ]
  },
  {
   "cell_type": "code",
   "execution_count": 491,
   "metadata": {},
   "outputs": [],
   "source": [
    "fm = fcai.FormalManager(mvcntx_nodup_train)"
   ]
  },
  {
   "cell_type": "code",
   "execution_count": 492,
   "metadata": {},
   "outputs": [
    {
     "data": {
      "application/vnd.jupyter.widget-view+json": {
       "model_id": "89edceb5aa6146068b059ea828e429a0",
       "version_major": 2,
       "version_minor": 0
      },
      "text/plain": [
       "HBox(children=(FloatProgress(value=0.0, description='Postprocessing', max=78.0, style=ProgressStyle(descriptio…"
      ]
     },
     "metadata": {},
     "output_type": "display_data"
    },
    {
     "name": "stdout",
     "output_type": "stream",
     "text": [
      "\n"
     ]
    }
   ],
   "source": [
    "fm.construct_concepts()"
   ]
  },
  {
   "cell_type": "raw",
   "metadata": {},
   "source": [
    "fm.set_concepts(list(fm.get_concepts())+[fm.get_bottom_concept()])"
   ]
  },
  {
   "cell_type": "code",
   "execution_count": 493,
   "metadata": {},
   "outputs": [],
   "source": [
    "fm._concepts = list(fm.get_concepts())+[fm.get_bottom_concept()]"
   ]
  },
  {
   "cell_type": "code",
   "execution_count": 494,
   "metadata": {},
   "outputs": [],
   "source": [
    "for idx, c in enumerate(fm.sort_concepts()):\n",
    "    c._idx = idx"
   ]
  },
  {
   "cell_type": "code",
   "execution_count": 495,
   "metadata": {},
   "outputs": [],
   "source": [
    "for c in fm.get_concepts():\n",
    "    int_ = c.get_intent()\n",
    "    ext_ = mvcntx_train.get_extent(int_)\n",
    "    c._extent = ext_"
   ]
  },
  {
   "cell_type": "code",
   "execution_count": 496,
   "metadata": {},
   "outputs": [],
   "source": [
    "for c in fm.get_concepts():\n",
    "    ext_ = [int(x) for x in c.get_extent()]\n",
    "    for f in cols_target:\n",
    "        c._metrics[f+'_diff_mean'] = ds.loc[ext_, f+'_diff'].mean()\n",
    "        c._metrics[f+'_diff_std'] = ds.loc[ext_, f+'_diff'].std()"
   ]
  },
  {
   "cell_type": "code",
   "execution_count": null,
   "metadata": {},
   "outputs": [],
   "source": []
  },
  {
   "cell_type": "code",
   "execution_count": 497,
   "metadata": {},
   "outputs": [
    {
     "data": {
      "application/vnd.jupyter.widget-view+json": {
       "model_id": "25df088b41a540a39e689e5f4520052f",
       "version_major": 2,
       "version_minor": 0
      },
      "text/plain": [
       "HBox(children=(FloatProgress(value=0.0, description='construct lattice connections', max=79.0, style=ProgressS…"
      ]
     },
     "metadata": {},
     "output_type": "display_data"
    },
    {
     "name": "stdout",
     "output_type": "stream",
     "text": [
      "\n"
     ]
    }
   ],
   "source": [
    "fm.construct_lattice(use_tqdm=True)"
   ]
  },
  {
   "cell_type": "code",
   "execution_count": 498,
   "metadata": {},
   "outputs": [
    {
     "data": {
      "application/vnd.jupyter.widget-view+json": {
       "model_id": "e1c0bc4e850043bd9e032b0868319953",
       "version_major": 2,
       "version_minor": 0
      },
      "text/plain": [
       "HBox(children=(FloatProgress(value=0.0, max=79.0), HTML(value='')))"
      ]
     },
     "metadata": {},
     "output_type": "display_data"
    },
    {
     "name": "stdout",
     "output_type": "stream",
     "text": [
      "\n"
     ]
    }
   ],
   "source": [
    "fm.calc_stability_approx(use_tqdm=True)"
   ]
  },
  {
   "cell_type": "code",
   "execution_count": 499,
   "metadata": {},
   "outputs": [],
   "source": [
    "fig = fm.get_plotly_fig(color_by='Confirmed_diff_std')"
   ]
  },
  {
   "cell_type": "code",
   "execution_count": 500,
   "metadata": {},
   "outputs": [
    {
     "data": {
      "application/vnd.plotly.v1+json": {
       "config": {
        "plotlyServerURL": "https://plot.ly"
       },
       "data": [
        {
         "hoverinfo": "none",
         "line": {
          "color": "#888",
          "width": 0.5
         },
         "mode": "lines",
         "type": "scatter",
         "x": [
          -5.5,
          0,
          null,
          -5.5,
          -1,
          null,
          -5.5,
          0,
          null,
          -2,
          -2.5,
          null,
          -2,
          -1.5,
          null,
          -2,
          -1.5,
          null,
          -4.5,
          4,
          null,
          -4.5,
          5,
          null,
          -4.5,
          -1,
          null,
          -4.5,
          2,
          null,
          -4.5,
          0,
          null,
          -4.5,
          -5,
          null,
          -4.5,
          -1,
          null,
          -3.5,
          0,
          null,
          -3.5,
          -5,
          null,
          -3.5,
          5,
          null,
          -2.5,
          -1,
          null,
          -2.5,
          -2,
          null,
          -2.5,
          0,
          null,
          -2.5,
          0,
          null,
          -2.5,
          4,
          null,
          -2.5,
          5,
          null,
          -1.5,
          0,
          null,
          -1.5,
          3,
          null,
          -1.5,
          4,
          null,
          -3.5,
          4,
          null,
          -3.5,
          3,
          null,
          -3.5,
          -1,
          null,
          -5,
          2.5,
          null,
          -5,
          3.5,
          null,
          -0.5,
          0,
          null,
          -0.5,
          3,
          null,
          0.5,
          0,
          null,
          0.5,
          -4,
          null,
          -4,
          2.5,
          null,
          -4,
          4.5,
          null,
          -1,
          1.5,
          null,
          -1,
          0.5,
          null,
          -1,
          0.5,
          null,
          1.5,
          0,
          null,
          1.5,
          -2,
          null,
          1.5,
          0,
          null,
          -4,
          -1.5,
          null,
          -4,
          -0.5,
          null,
          -4,
          0.5,
          null,
          -4,
          3.5,
          null,
          -1,
          -1.5,
          null,
          -1,
          1.5,
          null,
          -1,
          0.5,
          null,
          -2.5,
          -2,
          null,
          -2.5,
          0,
          null,
          -2.5,
          -3,
          null,
          -2.5,
          1,
          null,
          -1.5,
          -3,
          null,
          -1.5,
          -2,
          null,
          -1.5,
          1,
          null,
          -3,
          4.5,
          null,
          -3,
          5.5,
          null,
          -3,
          -0.5,
          null,
          -3,
          1.5,
          null,
          -3,
          -0.5,
          null,
          -3,
          1.5,
          null,
          -0.5,
          1,
          null,
          -0.5,
          -2,
          null,
          -2,
          5.5,
          null,
          -1,
          1.5,
          null,
          -1,
          2.5,
          null,
          0,
          -0.5,
          null,
          0,
          -1.5,
          null,
          0,
          1.5,
          null,
          0.5,
          2,
          null,
          0.5,
          1,
          null,
          0.5,
          -2,
          null,
          0.5,
          0,
          null,
          0,
          -0.5,
          null,
          0,
          1.5,
          null,
          0,
          -0.5,
          null,
          0,
          0.5,
          null,
          0,
          1.5,
          null,
          -3.5,
          2,
          null,
          -3.5,
          -1,
          null,
          -3.5,
          1,
          null,
          -2.5,
          4,
          null,
          -2.5,
          3,
          null,
          -2.5,
          0,
          null,
          -2.5,
          2,
          null,
          1,
          -0.5,
          null,
          1,
          2.5,
          null,
          1,
          -0.5,
          null,
          1,
          1.5,
          null,
          -0.5,
          1,
          null,
          -0.5,
          0,
          null,
          -1.5,
          3,
          null,
          -1.5,
          2,
          null,
          -1.5,
          1,
          null,
          -1.5,
          2,
          null,
          1.5,
          4,
          null,
          2,
          2.5,
          null,
          2,
          1.5,
          null,
          2,
          -0.5,
          null,
          2,
          0.5,
          null,
          2.5,
          3,
          null,
          2.5,
          4,
          null,
          3.5,
          5,
          null,
          3.5,
          2,
          null,
          3.5,
          3,
          null,
          -2,
          0.5,
          null,
          -2,
          2.5,
          null,
          0,
          4.5,
          null,
          0,
          2.5,
          null,
          1,
          3.5,
          null,
          1,
          4.5,
          null,
          2,
          2.5,
          null,
          2,
          3.5,
          null,
          2,
          4.5,
          null,
          -1.5,
          3,
          null,
          -1.5,
          -1,
          null,
          1,
          -0.5,
          null,
          1,
          3.5,
          null,
          2.5,
          0,
          null,
          -3,
          1.5,
          null,
          -3,
          -0.5,
          null,
          -3,
          -0.5,
          null,
          -3,
          2.5,
          null,
          3.5,
          0,
          null,
          -0.5,
          -2,
          null,
          -0.5,
          -2,
          null,
          4,
          1.5,
          null,
          4.5,
          0,
          null,
          1,
          -0.5,
          null,
          1,
          0.5,
          null,
          -2,
          3.5,
          null,
          0,
          0.5,
          null,
          -1,
          0.5,
          null,
          -1,
          3.5,
          null,
          0.5,
          3,
          null,
          5.5,
          0,
          null,
          0,
          1.5,
          null,
          0,
          1.5,
          null,
          0,
          2.5,
          null,
          1,
          0.5,
          null,
          2,
          0.5,
          null,
          2,
          1.5,
          null,
          2.5,
          3,
          null
         ],
         "y": [
          2,
          1,
          null,
          2,
          3,
          null,
          2,
          3,
          null,
          9,
          8,
          null,
          9,
          8,
          null,
          9,
          10,
          null,
          4,
          3,
          null,
          4,
          3,
          null,
          4,
          5,
          null,
          4,
          5,
          null,
          2,
          1,
          null,
          2,
          3,
          null,
          2,
          3,
          null,
          2,
          1,
          null,
          2,
          3,
          null,
          2,
          3,
          null,
          8,
          7,
          null,
          8,
          7,
          null,
          8,
          9,
          null,
          2,
          1,
          null,
          2,
          3,
          null,
          2,
          3,
          null,
          2,
          1,
          null,
          2,
          3,
          null,
          2,
          3,
          null,
          4,
          3,
          null,
          4,
          3,
          null,
          4,
          5,
          null,
          3,
          4,
          null,
          3,
          4,
          null,
          2,
          1,
          null,
          2,
          3,
          null,
          2,
          1,
          null,
          2,
          3,
          null,
          3,
          2,
          null,
          3,
          4,
          null,
          9,
          8,
          null,
          9,
          8,
          null,
          9,
          10,
          null,
          2,
          1,
          null,
          2,
          3,
          null,
          2,
          3,
          null,
          5,
          4,
          null,
          5,
          4,
          null,
          5,
          6,
          null,
          5,
          6,
          null,
          11,
          10,
          null,
          11,
          10,
          null,
          11,
          12,
          null,
          4,
          3,
          null,
          4,
          3,
          null,
          4,
          5,
          null,
          4,
          5,
          null,
          4,
          3,
          null,
          4,
          3,
          null,
          4,
          5,
          null,
          3,
          2,
          null,
          3,
          2,
          null,
          3,
          4,
          null,
          5,
          4,
          null,
          5,
          6,
          null,
          5,
          6,
          null,
          4,
          3,
          null,
          4,
          5,
          null,
          3,
          2,
          null,
          3,
          4,
          null,
          3,
          4,
          null,
          9,
          8,
          null,
          9,
          10,
          null,
          9,
          10,
          null,
          4,
          3,
          null,
          4,
          3,
          null,
          4,
          5,
          null,
          4,
          5,
          null,
          11,
          10,
          null,
          11,
          10,
          null,
          11,
          12,
          null,
          11,
          12,
          null,
          3,
          4,
          null,
          6,
          5,
          null,
          6,
          5,
          null,
          6,
          7,
          null,
          6,
          5,
          null,
          6,
          5,
          null,
          6,
          7,
          null,
          6,
          7,
          null,
          9,
          8,
          null,
          9,
          8,
          null,
          9,
          10,
          null,
          9,
          10,
          null,
          12,
          11,
          null,
          12,
          13,
          null,
          6,
          5,
          null,
          6,
          5,
          null,
          6,
          7,
          null,
          6,
          7,
          null,
          4,
          5,
          null,
          9,
          8,
          null,
          9,
          8,
          null,
          9,
          10,
          null,
          9,
          10,
          null,
          4,
          5,
          null,
          4,
          5,
          null,
          4,
          3,
          null,
          4,
          5,
          null,
          4,
          5,
          null,
          5,
          6,
          null,
          5,
          6,
          null,
          5,
          4,
          null,
          5,
          6,
          null,
          3,
          2,
          null,
          3,
          2,
          null,
          3,
          2,
          null,
          3,
          2,
          null,
          3,
          4,
          null,
          8,
          7,
          null,
          8,
          7,
          null,
          5,
          6,
          null,
          5,
          6,
          null,
          2,
          1,
          null,
          7,
          6,
          null,
          7,
          6,
          null,
          7,
          8,
          null,
          7,
          8,
          null,
          2,
          1,
          null,
          8,
          7,
          null,
          6,
          7,
          null,
          5,
          6,
          null,
          2,
          1,
          null,
          11,
          10,
          null,
          11,
          10,
          null,
          7,
          6,
          null,
          13,
          12,
          null,
          7,
          6,
          null,
          7,
          6,
          null,
          6,
          7,
          null,
          2,
          1,
          null,
          7,
          6,
          null,
          7,
          8,
          null,
          7,
          8,
          null,
          7,
          8,
          null,
          7,
          8,
          null,
          7,
          8,
          null,
          6,
          7,
          null
         ]
        },
        {
         "hoverinfo": "text",
         "hovertext": [
          "PatternStructure 72<br><br>extent (len: 2): 23888, 23889<br>intent (len: 8): C6_Stay at home requirements = 0....<br>new extent (len: 2): 23888, 23889<br>new_intent (len: 0): ∅<br>metric Confirmed_diff_mean = 448.0<br>metric Confirmed_diff_std = 93.33809511662427<br>metric Deaths_diff_mean = 7.0<br>metric Deaths_diff_std = 1.4142135623730951<br>metric Recovered_diff_mean = 2.0<br>metric Recovered_diff_std = 2.8284271247461903<br>metric stab_min_bound = 0.75<br>metric stab_max_bound = 0.75<br>metric log_stab_min_bound = 2.0<br>metric log_stab_max_bound = 2.0<br>metric lstab_min_bound = -6.0<br>",
          "PatternStructure 10<br><br>extent (len: 52): 23840, 23846, 23858, 23866, 2383...<br>intent (len: 8): C7_Restrictions on internal movem...<br>new extent (len: 0): ∅<br>new_intent (len: 1): C6_Stay at home requirements<br>metric Confirmed_diff_mean = 52.46153846153846<br>metric Confirmed_diff_std = 129.76864202298137<br>metric Deaths_diff_mean = 1.1538461538461537<br>metric Deaths_diff_std = 2.4445587065940795<br>metric Recovered_diff_mean = 0.23076923076923078<br>metric Recovered_diff_std = 0.7570682517832988<br>metric stab_min_bound = 0.4990234375<br>metric stab_max_bound = 0.5<br>metric log_stab_min_bound = 0.997184984392946<br>metric log_stab_max_bound = 1.0<br>metric lstab_min_bound = -7.0<br>",
          "PatternStructure 53<br><br>extent (len: 6): 23891, 23894, 23893, 23892, 23895...<br>intent (len: 8): C6_Stay at home requirements = 2....<br>new extent (len: 0): ∅<br>new_intent (len: 0): ∅<br>metric Confirmed_diff_mean = 2757.5<br>metric Confirmed_diff_std = 2340.7824973713386<br>metric Deaths_diff_mean = 48.333333333333336<br>metric Deaths_diff_std = 34.89794645343285<br>metric Recovered_diff_mean = 22.5<br>metric Recovered_diff_std = 33.655608745051694<br>metric stab_min_bound = 0.5<br>metric stab_max_bound = 0.75<br>metric log_stab_min_bound = 1.0<br>metric log_stab_max_bound = 2.0<br>metric lstab_min_bound = -6.0<br>",
          "PatternStructure 73<br><br>extent (len: 1): 23890<br>intent (len: 8): C6_Stay at home requirements = 0....<br>new extent (len: 1): 23890<br>new_intent (len: 0): ∅<br>metric Confirmed_diff_mean = 548.0<br>metric Confirmed_diff_std = nan<br>metric Deaths_diff_mean = 10.0<br>metric Deaths_diff_std = nan<br>metric Recovered_diff_mean = 0.0<br>metric Recovered_diff_std = nan<br>metric stab_min_bound = 0.5<br>metric stab_max_bound = 0.5<br>metric log_stab_min_bound = 1.0<br>metric log_stab_max_bound = 1.0<br>metric lstab_min_bound = -7.0<br>",
          "PatternStructure 74<br><br>extent (len: 2): 23891, 23892<br>intent (len: 8): C6_Stay at home requirements = 2....<br>new extent (len: 2): 23891, 23892<br>new_intent (len: 0): ∅<br>metric Confirmed_diff_mean = 966.0<br>metric Confirmed_diff_std = 224.8599564173221<br>metric Deaths_diff_mean = 20.0<br>metric Deaths_diff_std = 8.48528137423857<br>metric Recovered_diff_mean = 2.5<br>metric Recovered_diff_std = 3.5355339059327378<br>metric stab_min_bound = 0.75<br>metric stab_max_bound = 0.75<br>metric log_stab_min_bound = 2.0<br>metric log_stab_max_bound = 2.0<br>metric lstab_min_bound = -6.0<br>",
          "PatternStructure 16<br><br>extent (len: 42): 23858, 23866, 23870, 23865, 2385...<br>intent (len: 8): C7_Restrictions on internal movem...<br>new extent (len: 0): ∅<br>new_intent (len: 0): ∅<br>metric Confirmed_diff_mean = 64.78571428571429<br>metric Confirmed_diff_std = 141.90799762853666<br>metric Deaths_diff_mean = 1.4285714285714286<br>metric Deaths_diff_std = 2.6516709609258498<br>metric Recovered_diff_mean = 0.2857142857142857<br>metric Recovered_diff_std = 0.8347838711296818<br>metric stab_min_bound = 0.4999999962747097<br>metric stab_max_bound = 0.5<br>metric log_stab_min_bound = 0.9999999892510844<br>metric log_stab_max_bound = 1.0<br>metric lstab_min_bound = -7.0<br>",
          "PatternStructure 75<br><br>extent (len: 2): 23894, 23893<br>intent (len: 8): C6_Stay at home requirements = 2....<br>new extent (len: 2): 23894, 23893<br>new_intent (len: 0): ∅<br>metric Confirmed_diff_mean = 1560.0<br>metric Confirmed_diff_std = 305.47012947258855<br>metric Deaths_diff_mean = 32.5<br>metric Deaths_diff_std = 2.1213203435596424<br>metric Recovered_diff_mean = 44.0<br>metric Recovered_diff_std = 62.22539674441618<br>metric stab_min_bound = 0.75<br>metric stab_max_bound = 0.75<br>metric log_stab_min_bound = 2.0<br>metric log_stab_max_bound = 2.0<br>metric lstab_min_bound = -6.0<br>",
          "PatternStructure 76<br><br>extent (len: 2): 23895, 23896<br>intent (len: 8): C2_Workplace closing = 3.0, C6_St...<br>new extent (len: 2): 23895, 23896<br>new_intent (len: 0): ∅<br>metric Confirmed_diff_mean = 5746.5<br>metric Confirmed_diff_std = 311.8340905032675<br>metric Deaths_diff_mean = 92.5<br>metric Deaths_diff_std = 2.1213203435596424<br>metric Recovered_diff_mean = 21.0<br>metric Recovered_diff_std = 7.0710678118654755<br>metric stab_min_bound = 0.75<br>metric stab_max_bound = 0.75<br>metric log_stab_min_bound = 2.0<br>metric log_stab_max_bound = 2.0<br>metric lstab_min_bound = -6.0<br>",
          "PatternStructure 54<br><br>extent (len: 52): 23922, 23930, 23923, 23912, 2393...<br>intent (len: 8): C6_Stay at home requirements = 2....<br>new extent (len: 0): ∅<br>new_intent (len: 1): C5_Close public transport<br>metric Confirmed_diff_mean = 24083.884615384617<br>metric Confirmed_diff_std = 9087.191543226549<br>metric Deaths_diff_mean = 1453.1153846153845<br>metric Deaths_diff_std = 821.3962205484158<br>metric Recovered_diff_mean = 3750.3653846153848<br>metric Recovered_diff_std = 5462.695380914136<br>metric stab_min_bound = 0.7499999999999964<br>metric stab_max_bound = 0.75<br>metric log_stab_min_bound = 1.9999999999999796<br>metric log_stab_max_bound = 2.0<br>metric lstab_min_bound = -6.0<br>",
          "PatternStructure 62<br><br>extent (len: 3): 23890, 23892, 23891<br>intent (len: 8): C6_Stay at home requirements in [...<br>new extent (len: 0): ∅<br>new_intent (len: 0): ∅<br>metric Confirmed_diff_mean = 826.6666666666666<br>metric Confirmed_diff_std = 289.00230679586855<br>metric Deaths_diff_mean = 16.666666666666668<br>metric Deaths_diff_std = 8.32666399786453<br>metric Recovered_diff_mean = 1.6666666666666667<br>metric Recovered_diff_std = 2.8867513459481287<br>metric stab_min_bound = 0.25<br>metric stab_max_bound = 0.5<br>metric log_stab_min_bound = 0.4150374992788438<br>metric log_stab_max_bound = 1.0<br>metric lstab_min_bound = -7.0<br>",
          "PatternStructure 77<br><br>extent (len: 48): 23922, 23930, 23923, 23912, 2393...<br>intent (len: 8): C2_Workplace closing = 3.0, C6_St...<br>new extent (len: 48): 23922, 23930, 23923, 23912, ...<br>new_intent (len: 1): C4_Restrictions on gatherings<br>metric Confirmed_diff_mean = 25786.4375<br>metric Confirmed_diff_std = 7123.428465450721<br>metric Deaths_diff_mean = 1569.0<br>metric Deaths_diff_std = 744.1376845833178<br>metric Recovered_diff_mean = 4060.1875<br>metric Recovered_diff_std = 5577.292547068435<br>metric stab_min_bound = 0.9999999999999964<br>metric stab_max_bound = 0.9999999999999964<br>metric log_stab_min_bound = 48.0<br>metric log_stab_max_bound = 48.0<br>metric lstab_min_bound = 40.0<br>",
          "PatternStructure 66<br><br>extent (len: 10): 23841, 23842, 23847, 23840, 2384...<br>intent (len: 8): C8_International travel controls ...<br>new extent (len: 10): 23841, 23842, 23847, 23840, ...<br>new_intent (len: 1): C8_International travel contr...<br>metric Confirmed_diff_mean = 0.7<br>metric Confirmed_diff_std = 1.0593499054713802<br>metric Deaths_diff_mean = 0.0<br>metric Deaths_diff_std = 0.0<br>metric Recovered_diff_mean = 0.0<br>metric Recovered_diff_std = 0.0<br>metric stab_min_bound = 0.9990234375<br>metric stab_max_bound = 0.9990234375<br>metric log_stab_min_bound = 10.0<br>metric log_stab_max_bound = 10.0<br>metric lstab_min_bound = 2.0<br>",
          "PatternStructure 55<br><br>extent (len: 38): 23840, 23846, 23858, 23866, 2383...<br>intent (len: 8): C8_International travel controls ...<br>new extent (len: 0): ∅<br>new_intent (len: 1): C3_Cancel public events<br>metric Confirmed_diff_mean = 1.763157894736842<br>metric Confirmed_diff_std = 5.956755014159955<br>metric Deaths_diff_mean = 0.02631578947368421<br>metric Deaths_diff_std = 0.16222142113076254<br>metric Recovered_diff_mean = 0.18421052631578946<br>metric Recovered_diff_std = 0.6087320964854797<br>metric stab_min_bound = 0.9990234337747097<br>metric stab_max_bound = 0.9990234375<br>metric log_stab_min_bound = 9.99999449656567<br>metric log_stab_max_bound = 10.0<br>metric lstab_min_bound = 2.0<br>",
          "PatternStructure 14<br><br>extent (len: 64): 23922, 23930, 23923, 23912, 2393...<br>intent (len: 8): C6_Stay at home requirements in [...<br>new extent (len: 0): ∅<br>new_intent (len: 1): C1_School closing<br>metric Confirmed_diff_mean = 19638.65625<br>metric Confirmed_diff_std = 12403.7695540429<br>metric Deaths_diff_mean = 1182.046875<br>metric Deaths_diff_std = 932.5486400300123<br>metric Recovered_diff_mean = 3047.328125<br>metric Recovered_diff_std = 5131.552372115855<br>metric stab_min_bound = 0.9843749999999964<br>metric stab_max_bound = 0.984375<br>metric log_stab_min_bound = 5.999999999999672<br>metric log_stab_max_bound = 6.0<br>metric lstab_min_bound = -2.0<br>",
          "PatternStructure 71<br><br>extent (len: 1): 23887<br>intent (len: 8): C4_Restrictions on gatherings = 1...<br>new extent (len: 1): 23887<br>new_intent (len: 1): C4_Restrictions on gatherings<br>metric Confirmed_diff_mean = 323.0<br>metric Confirmed_diff_std = nan<br>metric Deaths_diff_mean = 8.0<br>metric Deaths_diff_std = nan<br>metric Recovered_diff_mean = 0.0<br>metric Recovered_diff_std = nan<br>metric stab_min_bound = 0.5<br>metric stab_max_bound = 0.5<br>metric log_stab_min_bound = 1.0<br>metric log_stab_max_bound = 1.0<br>metric lstab_min_bound = -7.0<br>",
          "PatternStructure 38<br><br>extent (len: 11): 23878, 23879, 23881, 23880, 2388...<br>intent (len: 8): C6_Stay at home requirements = 0....<br>new extent (len: 0): ∅<br>new_intent (len: 1): C3_Cancel public events<br>metric Confirmed_diff_mean = 110.63636363636364<br>metric Confirmed_diff_std = 124.67980809038225<br>metric Deaths_diff_mean = 3.1818181818181817<br>metric Deaths_diff_std = 2.4826671874490875<br>metric Recovered_diff_mean = 0.09090909090909091<br>metric Recovered_diff_std = 0.30151134457776363<br>metric stab_min_bound = 0.0<br>metric stab_max_bound = 0.5<br>metric log_stab_min_bound = -0.0<br>metric log_stab_max_bound = 1.0<br>metric lstab_min_bound = -7.0<br>",
          "PatternStructure 3<br><br>extent (len: 56): 23840, 23846, 23858, 23866, 2383...<br>intent (len: 8): C7_Restrictions on internal movem...<br>new extent (len: 0): ∅<br>new_intent (len: 2): C7_Restrictions on internal m...<br>metric Confirmed_diff_mean = 138.92857142857142<br>metric Confirmed_diff_std = 351.5801140897713<br>metric Deaths_diff_mean = 2.9464285714285716<br>metric Deaths_diff_std = 7.23230038308482<br>metric Recovered_diff_mean = 1.875<br>metric Recovered_diff_std = 11.758265951313492<br>metric stab_min_bound = 0.7490234375<br>metric stab_max_bound = 0.75<br>metric log_stab_min_bound = 1.994375450806122<br>metric log_stab_max_bound = 2.0<br>metric lstab_min_bound = -6.0<br>",
          "PatternStructure 49<br><br>extent (len: 9): 23888, 23881, 23889, 23882, 23885...<br>intent (len: 8): C6_Stay at home requirements = 0....<br>new extent (len: 0): ∅<br>new_intent (len: 0): ∅<br>metric Confirmed_diff_mean = 225.77777777777777<br>metric Confirmed_diff_std = 173.01067725560884<br>metric Deaths_diff_mean = 4.333333333333333<br>metric Deaths_diff_std = 2.7838821814150108<br>metric Recovered_diff_mean = 0.5555555555555556<br>metric Recovered_diff_std = 1.3333333333333335<br>metric stab_min_bound = 0.734375<br>metric stab_max_bound = 0.75<br>metric log_stab_min_bound = 1.9125371587496607<br>metric log_stab_max_bound = 2.0<br>metric lstab_min_bound = -6.0<br>",
          "PatternStructure 48<br><br>extent (len: 10): 23878, 23879, 23881, 23882, 2388...<br>intent (len: 8): C6_Stay at home requirements = 0....<br>new extent (len: 0): ∅<br>new_intent (len: 0): ∅<br>metric Confirmed_diff_mean = 121.1<br>metric Confirmed_diff_std = 126.23034500467786<br>metric Deaths_diff_mean = 3.5<br>metric Deaths_diff_std = 2.3687784005919825<br>metric Recovered_diff_mean = 0.1<br>metric Recovered_diff_std = 0.31622776601683794<br>metric stab_min_bound = 0.375<br>metric stab_max_bound = 0.5<br>metric log_stab_min_bound = 0.6780719051126376<br>metric log_stab_max_bound = 1.0<br>metric lstab_min_bound = -7.0<br>",
          "PatternStructure 58<br><br>extent (len: 9): 23878, 23879, 23881, 23882, 23880...<br>intent (len: 8): C6_Stay at home requirements = 0....<br>new extent (len: 0): ∅<br>new_intent (len: 0): ∅<br>metric Confirmed_diff_mean = 98.66666666666667<br>metric Confirmed_diff_std = 110.74407433357327<br>metric Deaths_diff_mean = 3.0<br>metric Deaths_diff_std = 1.8708286933869707<br>metric Recovered_diff_mean = 0.1111111111111111<br>metric Recovered_diff_std = 0.3333333333333333<br>metric stab_min_bound = 0.859375<br>metric stab_max_bound = 0.875<br>metric log_stab_min_bound = 2.830074998557688<br>metric log_stab_max_bound = 3.0<br>metric lstab_min_bound = -5.0<br>",
          "PatternStructure 40<br><br>extent (len: 10): 23888, 23881, 23889, 23882, 2388...<br>intent (len: 8): C7_Restrictions on internal movem...<br>new extent (len: 0): ∅<br>new_intent (len: 0): ∅<br>metric Confirmed_diff_mean = 258.0<br>metric Confirmed_diff_std = 192.32668965995217<br>metric Deaths_diff_mean = 4.9<br>metric Deaths_diff_std = 3.178049716414141<br>metric Recovered_diff_mean = 0.5<br>metric Recovered_diff_std = 1.2692955176439846<br>metric stab_min_bound = 0.484375<br>metric stab_max_bound = 0.5<br>metric log_stab_min_bound = 0.9556058806415466<br>metric log_stab_max_bound = 1.0<br>metric lstab_min_bound = -7.0<br>",
          "PatternStructure 47<br><br>extent (len: 10): 23878, 23879, 23881, 23880, 2388...<br>intent (len: 8): C6_Stay at home requirements = 0....<br>new extent (len: 0): ∅<br>new_intent (len: 0): ∅<br>metric Confirmed_diff_mean = 89.4<br>metric Confirmed_diff_std = 108.44476320536032<br>metric Deaths_diff_mean = 2.7<br>metric Deaths_diff_std = 2.0027758514399734<br>metric Recovered_diff_mean = 0.1<br>metric Recovered_diff_std = 0.31622776601683794<br>metric stab_min_bound = 0.484375<br>metric stab_max_bound = 0.5<br>metric log_stab_min_bound = 0.9556058806415466<br>metric log_stab_max_bound = 1.0<br>metric lstab_min_bound = -7.0<br>",
          "PatternStructure 59<br><br>extent (len: 7): 23881, 23882, 23885, 23884, 23887...<br>intent (len: 8): C6_Stay at home requirements = 0....<br>new extent (len: 0): ∅<br>new_intent (len: 0): ∅<br>metric Confirmed_diff_mean = 162.28571428571428<br>metric Confirmed_diff_std = 131.50755908022205<br>metric Deaths_diff_mean = 3.5714285714285716<br>metric Deaths_diff_std = 2.63673679998231<br>metric Recovered_diff_mean = 0.14285714285714285<br>metric Recovered_diff_std = 0.37796447300922725<br>metric stab_min_bound = 0.484375<br>metric stab_max_bound = 0.5<br>metric log_stab_min_bound = 0.9556058806415466<br>metric log_stab_max_bound = 1.0<br>metric lstab_min_bound = -7.0<br>",
          "PatternStructure 61<br><br>extent (len: 3): 23888, 23889, 23890<br>intent (len: 8): C6_Stay at home requirements = 0....<br>new extent (len: 0): ∅<br>new_intent (len: 0): ∅<br>metric Confirmed_diff_mean = 481.3333333333333<br>metric Confirmed_diff_std = 87.68884383622203<br>metric Deaths_diff_mean = 8.0<br>metric Deaths_diff_std = 2.0<br>metric Recovered_diff_mean = 1.3333333333333333<br>metric Recovered_diff_std = 2.3094010767585034<br>metric stab_min_bound = 0.25<br>metric stab_max_bound = 0.5<br>metric log_stab_min_bound = 0.4150374992788438<br>metric log_stab_max_bound = 1.0<br>metric lstab_min_bound = -7.0<br>",
          "PatternStructure 11<br><br>extent (len: 44): 23858, 23866, 23870, 23865, 2385...<br>intent (len: 8): C7_Restrictions on internal movem...<br>new extent (len: 0): ∅<br>new_intent (len: 0): ∅<br>metric Confirmed_diff_mean = 105.75<br>metric Confirmed_diff_std = 237.56292923946953<br>metric Deaths_diff_mean = 2.272727272727273<br>metric Deaths_diff_std = 4.867374232981276<br>metric Recovered_diff_mean = 0.38636363636363635<br>metric Recovered_diff_std = 1.082974136797604<br>metric stab_min_bound = 0.7499999962747097<br>metric stab_max_bound = 0.75<br>metric log_stab_min_bound = 1.9999999785021687<br>metric log_stab_max_bound = 2.0<br>metric lstab_min_bound = -6.0<br>",
          "PatternStructure 46<br><br>extent (len: 32): 23858, 23866, 23870, 23865, 2385...<br>intent (len: 8): C3_Cancel public events in [0.0, ...<br>new extent (len: 0): ∅<br>new_intent (len: 0): ∅<br>metric Confirmed_diff_mean = 4.40625<br>metric Confirmed_diff_std = 9.448875594482129<br>metric Deaths_diff_mean = 0.34375<br>metric Deaths_diff_std = 1.1247759633553411<br>metric Recovered_diff_mean = 0.21875<br>metric Recovered_diff_std = 0.6591477880199651<br>metric stab_min_bound = 0.8749999962747097<br>metric stab_max_bound = 0.875<br>metric log_stab_min_bound = 2.999999957004338<br>metric log_stab_max_bound = 3.0<br>metric lstab_min_bound = -5.0<br>",
          "PatternStructure 4<br><br>extent (len: 48): 23858, 23866, 23870, 23865, 2385...<br>intent (len: 8): C3_Cancel public events in [0.0, ...<br>new extent (len: 0): ∅<br>new_intent (len: 0): ∅<br>metric Confirmed_diff_mean = 401.375<br>metric Confirmed_diff_std = 1187.5972099069295<br>metric Deaths_diff_mean = 7.291666666666667<br>metric Deaths_diff_std = 19.53061789757285<br>metric Recovered_diff_mean = 3.0625<br>metric Recovered_diff_std = 13.275166785825682<br>metric stab_min_bound = 0.7499999962747097<br>metric stab_max_bound = 0.75<br>metric log_stab_min_bound = 1.9999999785021687<br>metric log_stab_max_bound = 2.0<br>metric lstab_min_bound = -6.0<br>",
          "PatternStructure 60<br><br>extent (len: 3): 23888, 23889, 23887<br>intent (len: 8): C4_Restrictions on gatherings in ...<br>new extent (len: 0): ∅<br>new_intent (len: 0): ∅<br>metric Confirmed_diff_mean = 406.3333333333333<br>metric Confirmed_diff_std = 97.79740964531389<br>metric Deaths_diff_mean = 7.333333333333333<br>metric Deaths_diff_std = 1.1547005383792517<br>metric Recovered_diff_mean = 1.3333333333333333<br>metric Recovered_diff_std = 2.3094010767585034<br>metric stab_min_bound = 0.25<br>metric stab_max_bound = 0.5<br>metric log_stab_min_bound = 0.4150374992788438<br>metric log_stab_max_bound = 1.0<br>metric lstab_min_bound = -7.0<br>",
          "PatternStructure 35<br><br>extent (len: 55): 23922, 23930, 23923, 23912, 2393...<br>intent (len: 8): C6_Stay at home requirements in [...<br>new extent (len: 0): ∅<br>new_intent (len: 1): C7_Restrictions on internal m...<br>metric Confirmed_diff_mean = 22815.30909090909<br>metric Confirmed_diff_std = 10315.199635189068<br>metric Deaths_diff_mean = 1374.7636363636364<br>metric Deaths_diff_std = 863.4762636647621<br>metric Recovered_diff_mean = 3545.890909090909<br>metric Recovered_diff_std = 5377.855460892303<br>metric stab_min_bound = 0.49999999999999645<br>metric stab_max_bound = 0.5<br>metric log_stab_min_bound = 0.9999999999999898<br>metric log_stab_max_bound = 1.0<br>metric lstab_min_bound = -7.0<br>",
          "PatternStructure 33<br><br>extent (len: 8): 23888, 23889, 23891, 23894, 23892...<br>intent (len: 8): C4_Restrictions on gatherings in ...<br>new extent (len: 0): ∅<br>new_intent (len: 0): ∅<br>metric Confirmed_diff_mean = 852.375<br>metric Confirmed_diff_std = 518.2103647582294<br>metric Deaths_diff_mean = 17.125<br>metric Deaths_diff_std = 11.382160226801036<br>metric Recovered_diff_mean = 12.125<br>metric Recovered_diff_std = 30.72661712587313<br>metric stab_min_bound = 0.25<br>metric stab_max_bound = 0.5<br>metric log_stab_min_bound = 0.4150374992788438<br>metric log_stab_max_bound = 1.0<br>metric lstab_min_bound = -7.0<br>",
          "PatternStructure 12<br><br>extent (len: 18): 23878, 23879, 23888, 23881, 2388...<br>intent (len: 8): C7_Restrictions on internal movem...<br>new extent (len: 0): ∅<br>new_intent (len: 0): ∅<br>metric Confirmed_diff_mean = 428.5<br>metric Confirmed_diff_std = 518.6455493710063<br>metric Deaths_diff_mean = 9.11111111111111<br>metric Deaths_diff_std = 10.48185484758073<br>metric Recovered_diff_mean = 5.444444444444445<br>metric Recovered_diff_std = 20.654645460161436<br>metric stab_min_bound = 0.25<br>metric stab_max_bound = 0.5<br>metric log_stab_min_bound = 0.4150374992788438<br>metric log_stab_max_bound = 1.0<br>metric lstab_min_bound = -7.0<br>",
          "PatternStructure 2<br><br>extent (len: 96): 23930, 23934, 23866, 23870, 2391...<br>intent (len: 8): C3_Cancel public events in [0.0, ...<br>new extent (len: 0): ∅<br>new_intent (len: 1): C8_International travel contr...<br>metric Confirmed_diff_mean = 13093.90625<br>metric Confirmed_diff_std = 13733.115453705419<br>metric Deaths_diff_mean = 788.1458333333334<br>metric Deaths_diff_std = 943.5550911778914<br>metric Recovered_diff_mean = 2031.625<br>metric Recovered_diff_std = 4421.294919269455<br>metric stab_min_bound = 0.9999999962747061<br>metric stab_max_bound = 0.9999999962747097<br>metric log_stab_min_bound = 27.999998624139447<br>metric log_stab_max_bound = 28.0<br>metric lstab_min_bound = 20.0<br>",
          "PatternStructure 34<br><br>extent (len: 9): 23888, 23889, 23891, 23894, 23892...<br>intent (len: 8): C6_Stay at home requirements in [...<br>new extent (len: 0): ∅<br>new_intent (len: 1): C4_Restrictions on gatherings<br>metric Confirmed_diff_mean = 1998.7777777777778<br>metric Confirmed_diff_std = 2172.946201461151<br>metric Deaths_diff_mean = 34.888888888888886<br>metric Deaths_diff_std = 34.188610839153895<br>metric Recovered_diff_mean = 15.444444444444445<br>metric Recovered_diff_std = 28.65794440949626<br>metric stab_min_bound = 0.5<br>metric stab_max_bound = 0.75<br>metric log_stab_min_bound = 1.0<br>metric log_stab_max_bound = 2.0<br>metric lstab_min_bound = -6.0<br>",
          "PatternStructure 6<br><br>extent (len: 54): 23840, 23846, 23858, 23866, 2383...<br>intent (len: 8): C7_Restrictions on internal movem...<br>new extent (len: 0): ∅<br>new_intent (len: 1): C5_Close public transport<br>metric Confirmed_diff_mean = 86.29629629629629<br>metric Confirmed_diff_std = 217.9095908796685<br>metric Deaths_diff_mean = 1.8518518518518519<br>metric Deaths_diff_std = 4.473854475106502<br>metric Recovered_diff_mean = 0.3148148148148148<br>metric Recovered_diff_std = 0.9871643030852636<br>metric stab_min_bound = 0.7490234375<br>metric stab_max_bound = 0.75<br>metric log_stab_min_bound = 1.994375450806122<br>metric log_stab_max_bound = 2.0<br>metric lstab_min_bound = -6.0<br>",
          "PatternStructure 50<br><br>extent (len: 4): 23888, 23889, 23887, 23890<br>intent (len: 8): C4_Restrictions on gatherings in ...<br>new extent (len: 0): ∅<br>new_intent (len: 0): ∅<br>metric Confirmed_diff_mean = 441.75<br>metric Confirmed_diff_std = 106.74072949597699<br>metric Deaths_diff_mean = 8.0<br>metric Deaths_diff_std = 1.632993161855452<br>metric Recovered_diff_mean = 1.0<br>metric Recovered_diff_std = 2.0<br>metric stab_min_bound = 0.0<br>metric stab_max_bound = 0.5<br>metric log_stab_min_bound = -0.0<br>metric log_stab_max_bound = 1.0<br>metric lstab_min_bound = -7.0<br>",
          "PatternStructure 13<br><br>extent (len: 19): 23886, 23878, 23879, 23889, 2388...<br>intent (len: 8): C6_Stay at home requirements in [...<br>new extent (len: 0): ∅<br>new_intent (len: 0): ∅<br>metric Confirmed_diff_mean = 1010.5263157894736<br>metric Confirmed_diff_std = 1741.9262762949481<br>metric Deaths_diff_mean = 18.36842105263158<br>metric Deaths_diff_std = 27.9567334888828<br>metric Recovered_diff_mean = 7.368421052631579<br>metric Recovered_diff_std = 20.66454431660339<br>metric stab_min_bound = 0.625<br>metric stab_max_bound = 0.75<br>metric log_stab_min_bound = 1.415037499278844<br>metric log_stab_max_bound = 2.0<br>metric lstab_min_bound = -6.0<br>",
          "PatternStructure 51<br><br>extent (len: 5): 23888, 23889, 23891, 23892, 23890<br>intent (len: 8): C6_Stay at home requirements in [...<br>new extent (len: 0): ∅<br>new_intent (len: 0): ∅<br>metric Confirmed_diff_mean = 675.2<br>metric Confirmed_diff_std = 294.88251898001687<br>metric Deaths_diff_mean = 12.8<br>metric Deaths_diff_std = 7.9498427657407165<br>metric Recovered_diff_mean = 1.8<br>metric Recovered_diff_std = 2.489979919597747<br>metric stab_min_bound = 0.5<br>metric stab_max_bound = 0.75<br>metric log_stab_min_bound = 1.0<br>metric log_stab_max_bound = 2.0<br>metric lstab_min_bound = -6.0<br>",
          "PatternStructure 52<br><br>extent (len: 5): 23891, 23894, 23892, 23893, 23890<br>intent (len: 8): C6_Stay at home requirements in [...<br>new extent (len: 0): ∅<br>new_intent (len: 1): C7_Restrictions on internal m...<br>metric Confirmed_diff_mean = 1120.0<br>metric Confirmed_diff_std = 475.8387331859398<br>metric Deaths_diff_mean = 23.0<br>metric Deaths_diff_std = 10.535653752852738<br>metric Recovered_diff_mean = 18.6<br>metric Recovered_diff_std = 38.85614494516923<br>metric stab_min_bound = 0.25<br>metric stab_max_bound = 0.5<br>metric log_stab_min_bound = 0.4150374992788438<br>metric log_stab_max_bound = 1.0<br>metric lstab_min_bound = -7.0<br>",
          "PatternStructure 37<br><br>extent (len: 38): 23858, 23866, 23870, 23865, 2385...<br>intent (len: 8): C3_Cancel public events in [0.0, ...<br>new extent (len: 0): ∅<br>new_intent (len: 0): ∅<br>metric Confirmed_diff_mean = 25.105263157894736<br>metric Confirmed_diff_std = 66.42036055212907<br>metric Deaths_diff_mean = 0.7368421052631579<br>metric Deaths_diff_std = 1.5541437292452087<br>metric Recovered_diff_mean = 0.21052631578947367<br>metric Recovered_diff_std = 0.6220234955518095<br>metric stab_min_bound = 0.9843749962747097<br>metric stab_max_bound = 0.984375<br>metric log_stab_min_bound = 5.999999656034739<br>metric log_stab_max_bound = 6.0<br>metric lstab_min_bound = -2.0<br>",
          "PatternStructure 44<br><br>extent (len: 54): 23922, 23930, 23923, 23912, 2393...<br>intent (len: 8): C6_Stay at home requirements = 2....<br>new extent (len: 0): ∅<br>new_intent (len: 1): C6_Stay at home requirements<br>metric Confirmed_diff_mean = 23227.666666666668<br>metric Confirmed_diff_std = 9943.961286905318<br>metric Deaths_diff_mean = 1400.037037037037<br>metric Deaths_diff_std = 850.8026834404942<br>metric Recovered_diff_mean = 3611.5555555555557<br>metric Recovered_diff_std = 5406.051122782541<br>metric stab_min_bound = 0.7499999999999964<br>metric stab_max_bound = 0.75<br>metric log_stab_min_bound = 1.9999999999999796<br>metric log_stab_max_bound = 2.0<br>metric lstab_min_bound = -6.0<br>",
          "PatternStructure 36<br><br>extent (len: 42): 23840, 23846, 23858, 23866, 2383...<br>intent (len: 8): C3_Cancel public events in [0.0, ...<br>new extent (len: 0): ∅<br>new_intent (len: 1): C1_School closing<br>metric Confirmed_diff_mean = 3.5238095238095237<br>metric Confirmed_diff_std = 8.384765788541<br>metric Deaths_diff_mean = 0.2619047619047619<br>metric Deaths_diff_std = 0.9891983403555311<br>metric Recovered_diff_mean = 0.16666666666666666<br>metric Recovered_diff_std = 0.580860029597269<br>metric stab_min_bound = 0.8740234375<br>metric stab_max_bound = 0.875<br>metric log_stab_min_bound = 2.988772744576746<br>metric log_stab_max_bound = 3.0<br>metric lstab_min_bound = -5.0<br>",
          "PatternStructure 57<br><br>extent (len: 4): 23878, 23880, 23879, 23877<br>intent (len: 8): C6_Stay at home requirements = 0....<br>new extent (len: 0): ∅<br>new_intent (len: 0): ∅<br>metric Confirmed_diff_mean = 20.25<br>metric Confirmed_diff_std = 10.53169818531972<br>metric Deaths_diff_mean = 2.5<br>metric Deaths_diff_std = 2.3804761428476167<br>metric Recovered_diff_mean = 0.0<br>metric Recovered_diff_std = 0.0<br>metric stab_min_bound = 0.375<br>metric stab_max_bound = 0.5<br>metric log_stab_min_bound = 0.6780719051126376<br>metric log_stab_max_bound = 1.0<br>metric lstab_min_bound = -7.0<br>",
          "PatternStructure 56<br><br>extent (len: 29): 23858, 23866, 23870, 23865, 2385...<br>intent (len: 8): C3_Cancel public events in [0.0, ...<br>new extent (len: 0): ∅<br>new_intent (len: 1): C8_International travel contr...<br>metric Confirmed_diff_mean = 2.2758620689655173<br>metric Confirmed_diff_std = 6.818549027281277<br>metric Deaths_diff_mean = 0.034482758620689655<br>metric Deaths_diff_std = 0.1856953381770519<br>metric Recovered_diff_mean = 0.2413793103448276<br>metric Recovered_diff_std = 0.6894704186026248<br>metric stab_min_bound = 0.4999999962747097<br>metric stab_max_bound = 0.5<br>metric log_stab_min_bound = 0.9999999892510844<br>metric log_stab_max_bound = 1.0<br>metric lstab_min_bound = -7.0<br>",
          "PatternStructure 15<br><br>extent (len: 51): 23840, 23846, 23858, 23866, 2383...<br>intent (len: 8): C3_Cancel public events in [0.0, ...<br>new extent (len: 0): ∅<br>new_intent (len: 1): C7_Restrictions on internal m...<br>metric Confirmed_diff_mean = 42.745098039215684<br>metric Confirmed_diff_std = 110.31424987502837<br>metric Deaths_diff_mean = 0.9803921568627451<br>metric Deaths_diff_std = 2.1212279092868016<br>metric Recovered_diff_mean = 0.23529411764705882<br>metric Recovered_diff_std = 0.7638909685057851<br>metric stab_min_bound = 0.7490234375<br>metric stab_max_bound = 0.75<br>metric log_stab_min_bound = 1.994375450806122<br>metric log_stab_max_bound = 2.0<br>metric lstab_min_bound = -6.0<br>",
          "PatternStructure 45<br><br>extent (len: 39): 23840, 23846, 23858, 23866, 2383...<br>intent (len: 8): C3_Cancel public events in [0.0, ...<br>new extent (len: 0): ∅<br>new_intent (len: 1): C8_International travel contr...<br>metric Confirmed_diff_mean = 1.8717948717948718<br>metric Confirmed_diff_std = 5.916878120568078<br>metric Deaths_diff_mean = 0.02564102564102564<br>metric Deaths_diff_std = 0.16012815380508713<br>metric Recovered_diff_mean = 0.1794871794871795<br>metric Recovered_diff_std = 0.6013928951234733<br>metric stab_min_bound = 0.4990234375<br>metric stab_max_bound = 0.5<br>metric log_stab_min_bound = 0.997184984392946<br>metric log_stab_max_bound = 1.0<br>metric lstab_min_bound = -7.0<br>",
          "PatternStructure 39<br><br>extent (len: 12): 23878, 23879, 23888, 23881, 2388...<br>intent (len: 8): C6_Stay at home requirements = 0....<br>new extent (len: 0): ∅<br>new_intent (len: 0): ∅<br>metric Confirmed_diff_mean = 175.58333333333334<br>metric Confirmed_diff_std = 173.26409602019964<br>metric Deaths_diff_mean = 4.083333333333333<br>metric Deaths_diff_std = 2.5746432527221863<br>metric Recovered_diff_mean = 0.4166666666666667<br>metric Recovered_diff_std = 1.164500152881315<br>metric stab_min_bound = 0.625<br>metric stab_max_bound = 0.75<br>metric log_stab_min_bound = 1.415037499278844<br>metric log_stab_max_bound = 2.0<br>metric lstab_min_bound = -6.0<br>",
          "PatternStructure 67<br><br>extent (len: 28): 23858, 23866, 23870, 23865, 2385...<br>intent (len: 8): C6_Stay at home requirements = 0....<br>new extent (len: 28): 23858, 23866, 23870, 23865, ...<br>new_intent (len: 0): ∅<br>metric Confirmed_diff_mean = 2.142857142857143<br>metric Confirmed_diff_std = 6.905254498028271<br>metric Deaths_diff_mean = 0.03571428571428571<br>metric Deaths_diff_std = 0.18898223650461363<br>metric Recovered_diff_mean = 0.25<br>metric Recovered_diff_std = 0.700528900717694<br>metric stab_min_bound = 0.9999999962747097<br>metric stab_max_bound = 0.9999999962747097<br>metric log_stab_min_bound = 28.0<br>metric log_stab_max_bound = 28.0<br>metric lstab_min_bound = 20.0<br>",
          "PatternStructure 24<br><br>extent (len: 15): 23878, 23879, 23888, 23881, 2388...<br>intent (len: 8): C7_Restrictions on internal movem...<br>new extent (len: 0): ∅<br>new_intent (len: 0): ∅<br>metric Confirmed_diff_mean = 305.8<br>metric Confirmed_diff_std = 328.92165806291496<br>metric Deaths_diff_mean = 6.6<br>metric Deaths_diff_std = 6.500549427328651<br>metric Recovered_diff_mean = 0.6666666666666666<br>metric Recovered_diff_std = 1.5886502207249786<br>metric stab_min_bound = 0.625<br>metric stab_max_bound = 0.75<br>metric log_stab_min_bound = 1.415037499278844<br>metric log_stab_max_bound = 2.0<br>metric lstab_min_bound = -6.0<br>",
          "PatternStructure 43<br><br>extent (len: 7): 23891, 23894, 23892, 23893, 23890...<br>intent (len: 8): C6_Stay at home requirements in [...<br>new extent (len: 0): ∅<br>new_intent (len: 0): ∅<br>metric Confirmed_diff_mean = 2441.8571428571427<br>metric Confirmed_diff_std = 2294.2243009037156<br>metric Deaths_diff_mean = 42.857142857142854<br>metric Deaths_diff_std = 34.99727880578037<br>metric Recovered_diff_mean = 19.285714285714285<br>metric Recovered_diff_std = 31.878489538215188<br>metric stab_min_bound = 0.25<br>metric stab_max_bound = 0.5<br>metric log_stab_min_bound = 0.4150374992788438<br>metric log_stab_max_bound = 1.0<br>metric lstab_min_bound = -7.0<br>",
          "PatternStructure 42<br><br>extent (len: 7): 23888, 23889, 23891, 23894, 23892...<br>intent (len: 8): C6_Stay at home requirements in [...<br>new extent (len: 0): ∅<br>new_intent (len: 0): ∅<br>metric Confirmed_diff_mean = 928.0<br>metric Confirmed_diff_std = 509.82382578037027<br>metric Deaths_diff_mean = 18.428571428571427<br>metric Deaths_diff_std = 11.631238725334216<br>metric Recovered_diff_mean = 13.857142857142858<br>metric Recovered_diff_std = 32.76394650337762<br>metric stab_min_bound = 0.5<br>metric stab_max_bound = 0.75<br>metric log_stab_min_bound = 1.0<br>metric log_stab_max_bound = 2.0<br>metric lstab_min_bound = -6.0<br>",
          "PatternStructure 68<br><br>extent (len: 1): 23877<br>intent (len: 8): C6_Stay at home requirements = 0....<br>new extent (len: 1): 23877<br>new_intent (len: 0): ∅<br>metric Confirmed_diff_mean = 6.0<br>metric Confirmed_diff_std = nan<br>metric Deaths_diff_mean = 0.0<br>metric Deaths_diff_std = nan<br>metric Recovered_diff_mean = 0.0<br>metric Recovered_diff_std = nan<br>metric stab_min_bound = 0.5<br>metric stab_max_bound = 0.5<br>metric log_stab_min_bound = 1.0<br>metric log_stab_max_bound = 1.0<br>metric lstab_min_bound = -7.0<br>",
          "PatternStructure 17<br><br>extent (len: 16): 23878, 23879, 23888, 23881, 2388...<br>intent (len: 8): C7_Restrictions on internal movem...<br>new extent (len: 0): ∅<br>new_intent (len: 0): ∅<br>metric Confirmed_diff_mean = 287.0625<br>metric Confirmed_diff_std = 326.4878698614493<br>metric Deaths_diff_mean = 6.1875<br>metric Deaths_diff_std = 6.493265742290238<br>metric Recovered_diff_mean = 0.625<br>metric Recovered_diff_std = 1.5438048235879214<br>metric stab_min_bound = 0.25<br>metric stab_max_bound = 0.5<br>metric log_stab_min_bound = 0.4150374992788438<br>metric log_stab_max_bound = 1.0<br>metric lstab_min_bound = -7.0<br>",
          "PatternStructure 31<br><br>extent (len: 13): 23878, 23879, 23888, 23881, 2388...<br>intent (len: 8): C7_Restrictions on internal movem...<br>new extent (len: 0): ∅<br>new_intent (len: 0): ∅<br>metric Confirmed_diff_mean = 204.23076923076923<br>metric Confirmed_diff_std = 195.41628806480188<br>metric Deaths_diff_mean = 4.538461538461538<br>metric Deaths_diff_std = 2.9612887007569473<br>metric Recovered_diff_mean = 0.38461538461538464<br>metric Recovered_diff_std = 1.12089707663561<br>metric stab_min_bound = 0.375<br>metric stab_max_bound = 0.5<br>metric log_stab_min_bound = 0.6780719051126376<br>metric log_stab_max_bound = 1.0<br>metric lstab_min_bound = -7.0<br>",
          "PatternStructure 65<br><br>extent (len: 50): 23922, 23930, 23923, 23912, 2393...<br>intent (len: 8): C2_Workplace closing = 3.0, C6_St...<br>new extent (len: 0): ∅<br>new_intent (len: 2): C7_Restrictions on internal m...<br>metric Confirmed_diff_mean = 24984.84<br>metric Confirmed_diff_std = 8025.596117118158<br>metric Deaths_diff_mean = 1509.94<br>metric Deaths_diff_std = 785.2144750555319<br>metric Recovered_diff_mean = 3898.62<br>metric Recovered_diff_std = 5520.492343061072<br>metric stab_min_bound = 0.7499999999999964<br>metric stab_max_bound = 0.75<br>metric log_stab_min_bound = 1.9999999999999796<br>metric log_stab_max_bound = 2.0<br>metric lstab_min_bound = -6.0<br>",
          "PatternStructure 41<br><br>extent (len: 6): 23888, 23889, 23891, 23892, 23890...<br>intent (len: 8): C4_Restrictions on gatherings in ...<br>new extent (len: 0): ∅<br>new_intent (len: 0): ∅<br>metric Confirmed_diff_mean = 616.5<br>metric Confirmed_diff_std = 300.3975698969617<br>metric Deaths_diff_mean = 12.0<br>metric Deaths_diff_std = 7.37563556583431<br>metric Recovered_diff_mean = 1.5<br>metric Recovered_diff_std = 2.345207879911715<br>metric stab_min_bound = 0.25<br>metric stab_max_bound = 0.5<br>metric log_stab_min_bound = 0.4150374992788438<br>metric log_stab_max_bound = 1.0<br>metric lstab_min_bound = -7.0<br>",
          "PatternStructure 69<br><br>extent (len: 3): 23878, 23880, 23879<br>intent (len: 8): C6_Stay at home requirements = 0....<br>new extent (len: 3): 23878, 23880, 23879<br>new_intent (len: 0): ∅<br>metric Confirmed_diff_mean = 25.0<br>metric Confirmed_diff_std = 5.5677643628300215<br>metric Deaths_diff_mean = 3.3333333333333335<br>metric Deaths_diff_std = 2.081665999466133<br>metric Recovered_diff_mean = 0.0<br>metric Recovered_diff_std = 0.0<br>metric stab_min_bound = 0.875<br>metric stab_max_bound = 0.875<br>metric log_stab_min_bound = 3.0<br>metric log_stab_max_bound = 3.0<br>metric lstab_min_bound = -5.0<br>",
          "PatternStructure 5<br><br>extent (len: 68): 23922, 23930, 23923, 23912, 2393...<br>intent (len: 8): C6_Stay at home requirements in [...<br>new extent (len: 0): ∅<br>new_intent (len: 1): C3_Cancel public events<br>metric Confirmed_diff_mean = 18484.632352941175<br>metric Confirmed_diff_std = 12895.526122159417<br>metric Deaths_diff_mean = 1112.6617647058824<br>metric Deaths_diff_std = 946.5233100281737<br>metric Recovered_diff_mean = 2868.073529411765<br>metric Recovered_diff_std = 5028.171559654534<br>metric stab_min_bound = 0.49999999999999645<br>metric stab_max_bound = 0.5<br>metric log_stab_min_bound = 0.9999999999999898<br>metric log_stab_max_bound = 1.0<br>metric lstab_min_bound = -7.0<br>",
          "PatternStructure 64<br><br>extent (len: 4): 23894, 23895, 23893, 23896<br>intent (len: 8): C6_Stay at home requirements = 2....<br>new extent (len: 0): ∅<br>new_intent (len: 0): ∅<br>metric Confirmed_diff_mean = 3653.25<br>metric Confirmed_diff_std = 2430.180703157689<br>metric Deaths_diff_mean = 62.5<br>metric Deaths_diff_std = 34.68429039204925<br>metric Recovered_diff_mean = 32.5<br>metric Recovered_diff_std = 38.518393874442204<br>metric stab_min_bound = 0.5<br>metric stab_max_bound = 0.75<br>metric log_stab_min_bound = 1.0<br>metric log_stab_max_bound = 2.0<br>metric lstab_min_bound = -6.0<br>",
          "PatternStructure 8<br><br>extent (len: 20): 23886, 23878, 23879, 23889, 2388...<br>intent (len: 8): C6_Stay at home requirements in [...<br>new extent (len: 0): ∅<br>new_intent (len: 0): ∅<br>metric Confirmed_diff_mean = 960.3<br>metric Confirmed_diff_std = 1710.2808048910995<br>metric Deaths_diff_mean = 17.45<br>metric Deaths_diff_std = 27.51932335459462<br>metric Recovered_diff_mean = 7.0<br>metric Recovered_diff_std = 20.180762074181857<br>metric stab_min_bound = 0.25<br>metric stab_max_bound = 0.5<br>metric log_stab_min_bound = 0.4150374992788438<br>metric log_stab_max_bound = 1.0<br>metric lstab_min_bound = -7.0<br>",
          "PatternStructure 23<br><br>extent (len: 14): 23878, 23879, 23888, 23881, 2388...<br>intent (len: 8): C7_Restrictions on internal movem...<br>new extent (len: 0): ∅<br>new_intent (len: 0): ∅<br>metric Confirmed_diff_mean = 190.07142857142858<br>metric Confirmed_diff_std = 195.08162563229953<br>metric Deaths_diff_mean = 4.214285714285714<br>metric Deaths_diff_std = 3.092884424923451<br>metric Recovered_diff_mean = 0.35714285714285715<br>metric Recovered_diff_std = 1.0818177620697813<br>metric stab_min_bound = 0.0<br>metric stab_max_bound = 0.5<br>metric log_stab_min_bound = -0.0<br>metric log_stab_max_bound = 1.0<br>metric lstab_min_bound = -7.0<br>",
          "PatternStructure 0<br><br>extent (len: 106): 23930, 23934, 23866, 23870, 239...<br>intent (len: 8): C3_Cancel public events in [0.0, ...<br>new extent (len: 0): ∅<br>new_intent (len: 8): C7_Restrictions on internal m...<br>metric Confirmed_diff_mean = 11858.698113207547<br>metric Confirmed_diff_std = 13617.022213580298<br>metric Deaths_diff_mean = 713.7924528301887<br>metric Deaths_diff_std = 926.8680772927734<br>metric Recovered_diff_mean = 1839.9622641509434<br>metric Recovered_diff_std = 4247.606346491271<br>metric stab_min_bound = 0.9990234374999964<br>metric stab_max_bound = 0.9990234375<br>metric log_stab_min_bound = 9.99999999999475<br>metric log_stab_max_bound = 10.0<br>metric lstab_min_bound = 2.0<br>",
          "PatternStructure 22<br><br>extent (len: 41): 23858, 23866, 23870, 23865, 2385...<br>intent (len: 8): C3_Cancel public events in [0.0, ...<br>new extent (len: 0): ∅<br>new_intent (len: 0): ∅<br>metric Confirmed_diff_mean = 53.0<br>metric Confirmed_diff_std = 121.08488757892125<br>metric Deaths_diff_mean = 1.2195121951219512<br>metric Deaths_diff_std = 2.3077282673871204<br>metric Recovered_diff_mean = 0.2926829268292683<br>metric Recovered_diff_std = 0.8439165373135065<br>metric stab_min_bound = 0.7499999962747097<br>metric stab_max_bound = 0.75<br>metric log_stab_min_bound = 1.9999999785021687<br>metric log_stab_max_bound = 2.0<br>metric lstab_min_bound = -6.0<br>",
          "PatternStructure 63<br><br>extent (len: 4): 23891, 23894, 23893, 23892<br>intent (len: 8): C6_Stay at home requirements = 2....<br>new extent (len: 0): ∅<br>new_intent (len: 0): ∅<br>metric Confirmed_diff_mean = 1263.0<br>metric Confirmed_diff_std = 406.9029368289199<br>metric Deaths_diff_mean = 26.25<br>metric Deaths_diff_std = 8.80814017448254<br>metric Recovered_diff_mean = 23.25<br>metric Recovered_diff_std = 43.23096883793685<br>metric stab_min_bound = 0.5<br>metric stab_max_bound = 0.75<br>metric log_stab_min_bound = 1.0<br>metric log_stab_max_bound = 2.0<br>metric lstab_min_bound = -6.0<br>",
          "PatternStructure 1<br><br>extent (len: 58): 23840, 23846, 23858, 23866, 2383...<br>intent (len: 8): C3_Cancel public events in [0.0, ...<br>new extent (len: 0): ∅<br>new_intent (len: 1): C4_Restrictions on gatherings<br>metric Confirmed_diff_mean = 332.2931034482759<br>metric Confirmed_diff_std = 1089.155604184747<br>metric Deaths_diff_mean = 6.0344827586206895<br>metric Deaths_diff_std = 17.95116720755875<br>metric Recovered_diff_mean = 2.5344827586206895<br>metric Recovered_diff_std = 12.110913618515166<br>metric stab_min_bound = 0.7490234375<br>metric stab_max_bound = 0.75<br>metric log_stab_min_bound = 1.994375450806122<br>metric log_stab_max_bound = 2.0<br>metric lstab_min_bound = -6.0<br>",
          "PatternStructure 29<br><br>extent (len: 39): 23858, 23866, 23870, 23865, 2385...<br>intent (len: 8): C3_Cancel public events in [0.0, ...<br>new extent (len: 0): ∅<br>new_intent (len: 0): ∅<br>metric Confirmed_diff_mean = 32.743589743589745<br>metric Confirmed_diff_std = 81.06161332712101<br>metric Deaths_diff_mean = 0.9230769230769231<br>metric Deaths_diff_std = 1.9246956749822937<br>metric Recovered_diff_mean = 0.20512820512820512<br>metric Recovered_diff_std = 0.6147094812094568<br>metric stab_min_bound = 0.4999999962747097<br>metric stab_max_bound = 0.5<br>metric log_stab_min_bound = 0.9999999892510844<br>metric log_stab_max_bound = 1.0<br>metric lstab_min_bound = -7.0<br>",
          "PatternStructure 70<br><br>extent (len: 6): 23881, 23882, 23885, 23884, 23883...<br>intent (len: 8): C6_Stay at home requirements = 0....<br>new extent (len: 6): 23881, 23882, 23885, 23884, 2...<br>new_intent (len: 0): ∅<br>metric Confirmed_diff_mean = 135.5<br>metric Confirmed_diff_std = 121.35196743357727<br>metric Deaths_diff_mean = 2.8333333333333335<br>metric Deaths_diff_std = 1.9407902170679516<br>metric Recovered_diff_mean = 0.16666666666666666<br>metric Recovered_diff_std = 0.408248290463863<br>metric stab_min_bound = 0.984375<br>metric stab_max_bound = 0.984375<br>metric log_stab_min_bound = 6.0<br>metric log_stab_max_bound = 6.0<br>metric lstab_min_bound = -2.0<br>",
          "PatternStructure 9<br><br>extent (len: 67): 23922, 23930, 23923, 23912, 2393...<br>intent (len: 8): C6_Stay at home requirements in [...<br>new extent (len: 0): ∅<br>new_intent (len: 1): C8_International travel contr...<br>metric Confirmed_diff_mean = 18760.432835820895<br>metric Confirmed_diff_std = 12789.189046273797<br>metric Deaths_diff_mean = 1129.2686567164178<br>metric Deaths_diff_std = 943.6328347031945<br>metric Recovered_diff_mean = 2910.8805970149256<br>metric Recovered_diff_std = 5053.620812730239<br>metric stab_min_bound = 0.8749999999999964<br>metric stab_max_bound = 0.875<br>metric log_stab_min_bound = 2.999999999999959<br>metric log_stab_max_bound = 3.0<br>metric lstab_min_bound = -5.0<br>",
          "PatternStructure 25<br><br>extent (len: 14): 23888, 23881, 23889, 23882, 2389...<br>intent (len: 8): C7_Restrictions on internal movem...<br>new extent (len: 0): ∅<br>new_intent (len: 0): ∅<br>metric Confirmed_diff_mean = 545.1428571428571<br>metric Confirmed_diff_std = 534.602779517776<br>metric Deaths_diff_mean = 11.0<br>metric Deaths_diff_std = 11.183779462995641<br>metric Recovered_diff_mean = 7.0<br>metric Recovered_diff_std = 23.36993466302048<br>metric stab_min_bound = 0.734375<br>metric stab_max_bound = 0.75<br>metric log_stab_min_bound = 1.9125371587496607<br>metric log_stab_max_bound = 2.0<br>metric lstab_min_bound = -6.0<br>",
          "PatternStructure 27<br><br>extent (len: 57): 23922, 23930, 23923, 23912, 2393...<br>intent (len: 8): C6_Stay at home requirements in [...<br>new extent (len: 0): ∅<br>new_intent (len: 2): C4_Restrictions on gatherings...<br>metric Confirmed_diff_mean = 22030.491228070176<br>metric Confirmed_diff_std = 10947.336406507435<br>metric Deaths_diff_mean = 1326.7719298245613<br>metric Deaths_diff_std = 885.1170426548091<br>metric Recovered_diff_mean = 3421.5438596491226<br>metric Recovered_diff_std = 5321.769264976558<br>metric stab_min_bound = 0.7499999999999964<br>metric stab_max_bound = 0.75<br>metric log_stab_min_bound = 1.9999999999999796<br>metric log_stab_max_bound = 2.0<br>metric lstab_min_bound = -6.0<br>",
          "PatternStructure 26<br><br>extent (len: 10): 23888, 23889, 23891, 23894, 2389...<br>intent (len: 8): C4_Restrictions on gatherings in ...<br>new extent (len: 0): ∅<br>new_intent (len: 1): C4_Restrictions on gatherings<br>metric Confirmed_diff_mean = 1831.2<br>metric Confirmed_diff_std = 2116.1014888495097<br>metric Deaths_diff_mean = 32.2<br>metric Deaths_diff_std = 33.335999893341864<br>metric Recovered_diff_mean = 13.9<br>metric Recovered_diff_std = 27.45683480989347<br>metric stab_min_bound = 0.25<br>metric stab_max_bound = 0.5<br>metric log_stab_min_bound = 0.4150374992788438<br>metric log_stab_max_bound = 1.0<br>metric lstab_min_bound = -7.0<br>",
          "PatternStructure 20<br><br>extent (len: 58): 23922, 23930, 23923, 23912, 2393...<br>intent (len: 8): C6_Stay at home requirements in [...<br>new extent (len: 0): ∅<br>new_intent (len: 1): C4_Restrictions on gatherings<br>metric Confirmed_diff_mean = 21656.224137931036<br>metric Confirmed_diff_std = 11219.003725732675<br>metric Deaths_diff_mean = 1304.0344827586207<br>metric Deaths_diff_std = 894.2445202225024<br>metric Recovered_diff_mean = 3362.551724137931<br>metric Recovered_diff_std = 5293.9785263664<br>metric stab_min_bound = 0.49999999999999645<br>metric stab_max_bound = 0.5<br>metric log_stab_min_bound = 0.9999999999999898<br>metric log_stab_max_bound = 1.0<br>metric lstab_min_bound = -7.0<br>",
          "PatternStructure 32<br><br>extent (len: 12): 23888, 23881, 23889, 23882, 2389...<br>intent (len: 8): C7_Restrictions on internal movem...<br>new extent (len: 0): ∅<br>new_intent (len: 0): ∅<br>metric Confirmed_diff_mean = 376.0<br>metric Confirmed_diff_std = 332.8810871494777<br>metric Deaths_diff_mean = 7.416666666666667<br>metric Deaths_diff_std = 7.025386865223908<br>metric Recovered_diff_mean = 0.8333333333333334<br>metric Recovered_diff_std = 1.7494587907710375<br>metric stab_min_bound = 0.734375<br>metric stab_max_bound = 0.75<br>metric log_stab_min_bound = 1.9125371587496607<br>metric log_stab_max_bound = 2.0<br>metric lstab_min_bound = -6.0<br>",
          "PatternStructure 28<br><br>extent (len: 48): 23840, 23846, 23858, 23866, 2383...<br>intent (len: 8): C3_Cancel public events in [0.0, ...<br>new extent (len: 0): ∅<br>new_intent (len: 1): C4_Restrictions on gatherings<br>metric Confirmed_diff_mean = 20.020833333333332<br>metric Confirmed_diff_std = 59.77919996308876<br>metric Deaths_diff_mean = 0.5833333333333334<br>metric Deaths_diff_std = 1.4117038646325368<br>metric Recovered_diff_mean = 0.16666666666666666<br>metric Recovered_diff_std = 0.5586203877309286<br>metric stab_min_bound = 0.9833984375<br>metric stab_max_bound = 0.984375<br>metric log_stab_min_bound = 5.912537158749661<br>metric log_stab_max_bound = 6.0<br>metric lstab_min_bound = -2.0<br>",
          "PatternStructure 19<br><br>extent (len: 16): 23888, 23881, 23889, 23882, 2389...<br>intent (len: 8): C6_Stay at home requirements in [...<br>new extent (len: 0): ∅<br>new_intent (len: 0): ∅<br>metric Confirmed_diff_mean = 1195.3125<br>metric Confirmed_diff_std = 1846.7511190827347<br>metric Deaths_diff_mean = 21.1875<br>metric Deaths_diff_std = 29.725900603121627<br>metric Recovered_diff_mean = 8.75<br>metric Recovered_diff_std = 22.350242355136405<br>metric stab_min_bound = 0.734375<br>metric stab_max_bound = 0.75<br>metric log_stab_min_bound = 1.9125371587496607<br>metric log_stab_max_bound = 2.0<br>metric lstab_min_bound = -6.0<br>",
          "PatternStructure 7<br><br>extent (len: 46): 23858, 23866, 23870, 23865, 2385...<br>intent (len: 8): C7_Restrictions on internal movem...<br>new extent (len: 0): ∅<br>new_intent (len: 0): ∅<br>metric Confirmed_diff_mean = 168.97826086956522<br>metric Confirmed_diff_std = 381.97885276720837<br>metric Deaths_diff_mean = 3.5869565217391304<br>metric Deaths_diff_std = 7.847366400282955<br>metric Recovered_diff_mean = 2.282608695652174<br>metric Recovered_diff_std = 12.962618122857505<br>metric stab_min_bound = 0.7499999962747097<br>metric stab_max_bound = 0.75<br>metric log_stab_min_bound = 1.9999999785021687<br>metric log_stab_max_bound = 2.0<br>metric lstab_min_bound = -6.0<br>",
          "PatternStructure 18<br><br>extent (len: 17): 23878, 23879, 23888, 23881, 2388...<br>intent (len: 8): C7_Restrictions on internal movem...<br>new extent (len: 0): ∅<br>new_intent (len: 0): ∅<br>metric Confirmed_diff_mean = 453.3529411764706<br>metric Confirmed_diff_std = 523.4428026509285<br>metric Deaths_diff_mean = 9.647058823529411<br>metric Deaths_diff_std = 10.547162986264293<br>metric Recovered_diff_mean = 5.764705882352941<br>metric Recovered_diff_std = 21.244203361636988<br>metric stab_min_bound = 0.625<br>metric stab_max_bound = 0.75<br>metric log_stab_min_bound = 1.415037499278844<br>metric log_stab_max_bound = 2.0<br>metric lstab_min_bound = -6.0<br>",
          "PatternStructure 21<br><br>extent (len: 49): 23840, 23846, 23858, 23866, 2383...<br>intent (len: 8): C3_Cancel public events in [0.0, ...<br>new extent (len: 0): ∅<br>new_intent (len: 2): C4_Restrictions on gatherings...<br>metric Confirmed_diff_mean = 26.20408163265306<br>metric Confirmed_diff_std = 73.2973338509653<br>metric Deaths_diff_mean = 0.7346938775510204<br>metric Deaths_diff_std = 1.7532768155190825<br>metric Recovered_diff_mean = 0.16326530612244897<br>metric Recovered_diff_std = 0.5532833351724877<br>metric stab_min_bound = 0.4990234375<br>metric stab_max_bound = 0.5<br>metric log_stab_min_bound = 0.997184984392946<br>metric log_stab_max_bound = 1.0<br>metric lstab_min_bound = -7.0<br>",
          "PatternStructure 30<br><br>extent (len: 13): 23878, 23879, 23888, 23881, 2388...<br>intent (len: 8): C6_Stay at home requirements = 0....<br>new extent (len: 0): ∅<br>new_intent (len: 0): ∅<br>metric Confirmed_diff_mean = 162.53846153846155<br>metric Confirmed_diff_std = 172.4266101778838<br>metric Deaths_diff_mean = 3.769230769230769<br>metric Deaths_diff_std = 2.7127429585153027<br>metric Recovered_diff_mean = 0.38461538461538464<br>metric Recovered_diff_std = 1.12089707663561<br>metric stab_min_bound = 0.25<br>metric stab_max_bound = 0.5<br>metric log_stab_min_bound = 0.4150374992788438<br>metric log_stab_max_bound = 1.0<br>metric lstab_min_bound = -7.0<br>",
          "PatternStructure 78<br><br>extent (len: 0): ∅<br>intent (len: 0): ∅<br>new extent (len: 0): ∅<br>new_intent (len: 0): ∅<br>metric Confirmed_diff_mean = nan<br>metric Confirmed_diff_std = nan<br>metric Deaths_diff_mean = nan<br>metric Deaths_diff_std = nan<br>metric Recovered_diff_mean = nan<br>metric Recovered_diff_std = nan<br>metric stab_min_bound = None<br>metric stab_max_bound = None<br>metric log_stab_min_bound = None<br>metric log_stab_max_bound = None<br>metric lstab_min_bound = None<br>"
         ],
         "marker": {
          "color": [
           93.33809511662427,
           129.76864202298137,
           2340.7824973713386,
           null,
           224.8599564173221,
           141.90799762853666,
           305.47012947258855,
           311.8340905032675,
           9087.191543226549,
           289.00230679586855,
           7123.428465450721,
           1.0593499054713802,
           5.956755014159955,
           12403.7695540429,
           null,
           124.67980809038225,
           351.5801140897713,
           173.01067725560884,
           126.23034500467786,
           110.74407433357327,
           192.32668965995217,
           108.44476320536032,
           131.50755908022205,
           87.68884383622203,
           237.56292923946953,
           9.448875594482129,
           1187.5972099069295,
           97.79740964531389,
           10315.199635189068,
           518.2103647582294,
           518.6455493710063,
           13733.115453705419,
           2172.946201461151,
           217.9095908796685,
           106.74072949597699,
           1741.9262762949481,
           294.88251898001687,
           475.8387331859398,
           66.42036055212907,
           9943.961286905318,
           8.384765788541,
           10.53169818531972,
           6.818549027281277,
           110.31424987502837,
           5.916878120568078,
           173.26409602019964,
           6.905254498028271,
           328.92165806291496,
           2294.2243009037156,
           509.82382578037027,
           null,
           326.4878698614493,
           195.41628806480188,
           8025.596117118158,
           300.3975698969617,
           5.5677643628300215,
           12895.526122159417,
           2430.180703157689,
           1710.2808048910995,
           195.08162563229953,
           13617.022213580298,
           121.08488757892125,
           406.9029368289199,
           1089.155604184747,
           81.06161332712101,
           121.35196743357727,
           12789.189046273797,
           534.602779517776,
           10947.336406507435,
           2116.1014888495097,
           11219.003725732675,
           332.8810871494777,
           59.77919996308876,
           1846.7511190827347,
           381.97885276720837,
           523.4428026509285,
           73.2973338509653,
           172.4266101778838,
           null
          ],
          "colorbar": {
           "thickness": 15,
           "title": {
            "side": "right",
            "text": "y_mean"
           },
           "xanchor": "left"
          },
          "colorscale": [
           [
            0,
            "rgb(103,0,31)"
           ],
           [
            0.1,
            "rgb(178,24,43)"
           ],
           [
            0.2,
            "rgb(214,96,77)"
           ],
           [
            0.3,
            "rgb(244,165,130)"
           ],
           [
            0.4,
            "rgb(253,219,199)"
           ],
           [
            0.5,
            "rgb(247,247,247)"
           ],
           [
            0.6,
            "rgb(209,229,240)"
           ],
           [
            0.7,
            "rgb(146,197,222)"
           ],
           [
            0.8,
            "rgb(67,147,195)"
           ],
           [
            0.9,
            "rgb(33,102,172)"
           ],
           [
            1,
            "rgb(5,48,97)"
           ]
          ],
          "line": {
           "width": 2
          },
          "reversescale": true,
          "showscale": true,
          "size": 10
         },
         "mode": "markers+text",
         "text": [
          "<br>23888,23889",
          "C6_Stay at home requirements<br>",
          "<br>",
          "<br>23890",
          "<br>23891,23892",
          "<br>",
          "<br>23894,23893",
          "<br>23895,23896",
          "C5_Close public transport<br>",
          "<br>",
          "C4_Restrictions on gatherings<br>n: 48",
          "C8_International travel controls<br>n: 10",
          "C3_Cancel public events<br>",
          "C1_School closing<br>",
          "C4_Restrictions on gatherings<br>23887",
          "C3_Cancel public events<br>",
          "C7_Restrictions on internal movement,C2_Workplace closing<br>",
          "<br>",
          "<br>",
          "<br>",
          "<br>",
          "<br>",
          "<br>",
          "<br>",
          "<br>",
          "<br>",
          "<br>",
          "<br>",
          "C7_Restrictions on internal movement<br>",
          "<br>",
          "<br>",
          "C8_International travel controls<br>",
          "C4_Restrictions on gatherings<br>",
          "C5_Close public transport<br>",
          "<br>",
          "<br>",
          "<br>",
          "C7_Restrictions on internal movement<br>",
          "<br>",
          "C6_Stay at home requirements<br>",
          "C1_School closing<br>",
          "<br>",
          "C8_International travel controls<br>",
          "C7_Restrictions on internal movement<br>",
          "C8_International travel controls<br>",
          "<br>",
          "<br>n: 28",
          "<br>",
          "<br>",
          "<br>",
          "<br>23877",
          "<br>",
          "<br>",
          "C7_Restrictions on internal movement,C2_Workplace closing<br>",
          "<br>",
          "<br>23878,23880,23879",
          "C3_Cancel public events<br>",
          "<br>",
          "<br>",
          "<br>",
          "n: 8<br>",
          "<br>",
          "<br>",
          "C4_Restrictions on gatherings<br>",
          "<br>",
          "<br>n: 6",
          "C8_International travel controls<br>",
          "<br>",
          "C4_Restrictions on gatherings,C3_Cancel public events<br>",
          "C4_Restrictions on gatherings<br>",
          "C4_Restrictions on gatherings<br>",
          "<br>",
          "C4_Restrictions on gatherings<br>",
          "<br>",
          "<br>",
          "<br>",
          "C4_Restrictions on gatherings,C3_Cancel public events<br>",
          "<br>",
          "<br>"
         ],
         "textposition": "middle right",
         "type": "scatter",
         "x": [
          -5.5,
          -2,
          -4.5,
          -4.5,
          -3.5,
          -2.5,
          -2.5,
          -1.5,
          -3.5,
          -5,
          -0.5,
          0.5,
          -4,
          -1,
          1.5,
          -4,
          -1,
          -2.5,
          -1.5,
          -3,
          -3,
          -0.5,
          -2,
          -1,
          0,
          0.5,
          0,
          0,
          -3.5,
          -2.5,
          1,
          -0.5,
          -1.5,
          -1.5,
          1.5,
          2,
          2.5,
          3.5,
          -2,
          -1,
          0,
          1,
          2,
          -1.5,
          4.5,
          1,
          2.5,
          -3,
          2,
          3,
          3.5,
          -0.5,
          -0.5,
          3,
          4,
          4.5,
          1,
          4,
          -0.5,
          -2,
          0,
          -1,
          5,
          0.5,
          0.5,
          5.5,
          0.5,
          0,
          1,
          2,
          0.5,
          1.5,
          2.5,
          1.5,
          1.5,
          2.5,
          3,
          3.5,
          0
         ],
         "y": [
          2,
          9,
          4,
          2,
          2,
          8,
          2,
          2,
          4,
          3,
          2,
          2,
          3,
          9,
          2,
          5,
          11,
          4,
          4,
          3,
          5,
          4,
          3,
          3,
          9,
          4,
          11,
          3,
          6,
          6,
          9,
          12,
          6,
          10,
          4,
          9,
          4,
          4,
          5,
          5,
          5,
          3,
          3,
          8,
          4,
          5,
          2,
          7,
          5,
          5,
          2,
          8,
          6,
          3,
          5,
          2,
          11,
          3,
          10,
          7,
          13,
          7,
          3,
          12,
          6,
          2,
          10,
          7,
          7,
          7,
          8,
          6,
          6,
          8,
          10,
          8,
          7,
          6,
          1
         ]
        }
       ],
       "layout": {
        "height": 500,
        "hovermode": "closest",
        "margin": {
         "b": 20,
         "l": 5,
         "r": 5,
         "t": 40
        },
        "showlegend": false,
        "template": {
         "data": {
          "bar": [
           {
            "error_x": {
             "color": "#2a3f5f"
            },
            "error_y": {
             "color": "#2a3f5f"
            },
            "marker": {
             "line": {
              "color": "#E5ECF6",
              "width": 0.5
             }
            },
            "type": "bar"
           }
          ],
          "barpolar": [
           {
            "marker": {
             "line": {
              "color": "#E5ECF6",
              "width": 0.5
             }
            },
            "type": "barpolar"
           }
          ],
          "carpet": [
           {
            "aaxis": {
             "endlinecolor": "#2a3f5f",
             "gridcolor": "white",
             "linecolor": "white",
             "minorgridcolor": "white",
             "startlinecolor": "#2a3f5f"
            },
            "baxis": {
             "endlinecolor": "#2a3f5f",
             "gridcolor": "white",
             "linecolor": "white",
             "minorgridcolor": "white",
             "startlinecolor": "#2a3f5f"
            },
            "type": "carpet"
           }
          ],
          "choropleth": [
           {
            "colorbar": {
             "outlinewidth": 0,
             "ticks": ""
            },
            "type": "choropleth"
           }
          ],
          "contour": [
           {
            "colorbar": {
             "outlinewidth": 0,
             "ticks": ""
            },
            "colorscale": [
             [
              0,
              "#0d0887"
             ],
             [
              0.1111111111111111,
              "#46039f"
             ],
             [
              0.2222222222222222,
              "#7201a8"
             ],
             [
              0.3333333333333333,
              "#9c179e"
             ],
             [
              0.4444444444444444,
              "#bd3786"
             ],
             [
              0.5555555555555556,
              "#d8576b"
             ],
             [
              0.6666666666666666,
              "#ed7953"
             ],
             [
              0.7777777777777778,
              "#fb9f3a"
             ],
             [
              0.8888888888888888,
              "#fdca26"
             ],
             [
              1,
              "#f0f921"
             ]
            ],
            "type": "contour"
           }
          ],
          "contourcarpet": [
           {
            "colorbar": {
             "outlinewidth": 0,
             "ticks": ""
            },
            "type": "contourcarpet"
           }
          ],
          "heatmap": [
           {
            "colorbar": {
             "outlinewidth": 0,
             "ticks": ""
            },
            "colorscale": [
             [
              0,
              "#0d0887"
             ],
             [
              0.1111111111111111,
              "#46039f"
             ],
             [
              0.2222222222222222,
              "#7201a8"
             ],
             [
              0.3333333333333333,
              "#9c179e"
             ],
             [
              0.4444444444444444,
              "#bd3786"
             ],
             [
              0.5555555555555556,
              "#d8576b"
             ],
             [
              0.6666666666666666,
              "#ed7953"
             ],
             [
              0.7777777777777778,
              "#fb9f3a"
             ],
             [
              0.8888888888888888,
              "#fdca26"
             ],
             [
              1,
              "#f0f921"
             ]
            ],
            "type": "heatmap"
           }
          ],
          "heatmapgl": [
           {
            "colorbar": {
             "outlinewidth": 0,
             "ticks": ""
            },
            "colorscale": [
             [
              0,
              "#0d0887"
             ],
             [
              0.1111111111111111,
              "#46039f"
             ],
             [
              0.2222222222222222,
              "#7201a8"
             ],
             [
              0.3333333333333333,
              "#9c179e"
             ],
             [
              0.4444444444444444,
              "#bd3786"
             ],
             [
              0.5555555555555556,
              "#d8576b"
             ],
             [
              0.6666666666666666,
              "#ed7953"
             ],
             [
              0.7777777777777778,
              "#fb9f3a"
             ],
             [
              0.8888888888888888,
              "#fdca26"
             ],
             [
              1,
              "#f0f921"
             ]
            ],
            "type": "heatmapgl"
           }
          ],
          "histogram": [
           {
            "marker": {
             "colorbar": {
              "outlinewidth": 0,
              "ticks": ""
             }
            },
            "type": "histogram"
           }
          ],
          "histogram2d": [
           {
            "colorbar": {
             "outlinewidth": 0,
             "ticks": ""
            },
            "colorscale": [
             [
              0,
              "#0d0887"
             ],
             [
              0.1111111111111111,
              "#46039f"
             ],
             [
              0.2222222222222222,
              "#7201a8"
             ],
             [
              0.3333333333333333,
              "#9c179e"
             ],
             [
              0.4444444444444444,
              "#bd3786"
             ],
             [
              0.5555555555555556,
              "#d8576b"
             ],
             [
              0.6666666666666666,
              "#ed7953"
             ],
             [
              0.7777777777777778,
              "#fb9f3a"
             ],
             [
              0.8888888888888888,
              "#fdca26"
             ],
             [
              1,
              "#f0f921"
             ]
            ],
            "type": "histogram2d"
           }
          ],
          "histogram2dcontour": [
           {
            "colorbar": {
             "outlinewidth": 0,
             "ticks": ""
            },
            "colorscale": [
             [
              0,
              "#0d0887"
             ],
             [
              0.1111111111111111,
              "#46039f"
             ],
             [
              0.2222222222222222,
              "#7201a8"
             ],
             [
              0.3333333333333333,
              "#9c179e"
             ],
             [
              0.4444444444444444,
              "#bd3786"
             ],
             [
              0.5555555555555556,
              "#d8576b"
             ],
             [
              0.6666666666666666,
              "#ed7953"
             ],
             [
              0.7777777777777778,
              "#fb9f3a"
             ],
             [
              0.8888888888888888,
              "#fdca26"
             ],
             [
              1,
              "#f0f921"
             ]
            ],
            "type": "histogram2dcontour"
           }
          ],
          "mesh3d": [
           {
            "colorbar": {
             "outlinewidth": 0,
             "ticks": ""
            },
            "type": "mesh3d"
           }
          ],
          "parcoords": [
           {
            "line": {
             "colorbar": {
              "outlinewidth": 0,
              "ticks": ""
             }
            },
            "type": "parcoords"
           }
          ],
          "pie": [
           {
            "automargin": true,
            "type": "pie"
           }
          ],
          "scatter": [
           {
            "marker": {
             "colorbar": {
              "outlinewidth": 0,
              "ticks": ""
             }
            },
            "type": "scatter"
           }
          ],
          "scatter3d": [
           {
            "line": {
             "colorbar": {
              "outlinewidth": 0,
              "ticks": ""
             }
            },
            "marker": {
             "colorbar": {
              "outlinewidth": 0,
              "ticks": ""
             }
            },
            "type": "scatter3d"
           }
          ],
          "scattercarpet": [
           {
            "marker": {
             "colorbar": {
              "outlinewidth": 0,
              "ticks": ""
             }
            },
            "type": "scattercarpet"
           }
          ],
          "scattergeo": [
           {
            "marker": {
             "colorbar": {
              "outlinewidth": 0,
              "ticks": ""
             }
            },
            "type": "scattergeo"
           }
          ],
          "scattergl": [
           {
            "marker": {
             "colorbar": {
              "outlinewidth": 0,
              "ticks": ""
             }
            },
            "type": "scattergl"
           }
          ],
          "scattermapbox": [
           {
            "marker": {
             "colorbar": {
              "outlinewidth": 0,
              "ticks": ""
             }
            },
            "type": "scattermapbox"
           }
          ],
          "scatterpolar": [
           {
            "marker": {
             "colorbar": {
              "outlinewidth": 0,
              "ticks": ""
             }
            },
            "type": "scatterpolar"
           }
          ],
          "scatterpolargl": [
           {
            "marker": {
             "colorbar": {
              "outlinewidth": 0,
              "ticks": ""
             }
            },
            "type": "scatterpolargl"
           }
          ],
          "scatterternary": [
           {
            "marker": {
             "colorbar": {
              "outlinewidth": 0,
              "ticks": ""
             }
            },
            "type": "scatterternary"
           }
          ],
          "surface": [
           {
            "colorbar": {
             "outlinewidth": 0,
             "ticks": ""
            },
            "colorscale": [
             [
              0,
              "#0d0887"
             ],
             [
              0.1111111111111111,
              "#46039f"
             ],
             [
              0.2222222222222222,
              "#7201a8"
             ],
             [
              0.3333333333333333,
              "#9c179e"
             ],
             [
              0.4444444444444444,
              "#bd3786"
             ],
             [
              0.5555555555555556,
              "#d8576b"
             ],
             [
              0.6666666666666666,
              "#ed7953"
             ],
             [
              0.7777777777777778,
              "#fb9f3a"
             ],
             [
              0.8888888888888888,
              "#fdca26"
             ],
             [
              1,
              "#f0f921"
             ]
            ],
            "type": "surface"
           }
          ],
          "table": [
           {
            "cells": {
             "fill": {
              "color": "#EBF0F8"
             },
             "line": {
              "color": "white"
             }
            },
            "header": {
             "fill": {
              "color": "#C8D4E3"
             },
             "line": {
              "color": "white"
             }
            },
            "type": "table"
           }
          ]
         },
         "layout": {
          "annotationdefaults": {
           "arrowcolor": "#2a3f5f",
           "arrowhead": 0,
           "arrowwidth": 1
          },
          "coloraxis": {
           "colorbar": {
            "outlinewidth": 0,
            "ticks": ""
           }
          },
          "colorscale": {
           "diverging": [
            [
             0,
             "#8e0152"
            ],
            [
             0.1,
             "#c51b7d"
            ],
            [
             0.2,
             "#de77ae"
            ],
            [
             0.3,
             "#f1b6da"
            ],
            [
             0.4,
             "#fde0ef"
            ],
            [
             0.5,
             "#f7f7f7"
            ],
            [
             0.6,
             "#e6f5d0"
            ],
            [
             0.7,
             "#b8e186"
            ],
            [
             0.8,
             "#7fbc41"
            ],
            [
             0.9,
             "#4d9221"
            ],
            [
             1,
             "#276419"
            ]
           ],
           "sequential": [
            [
             0,
             "#0d0887"
            ],
            [
             0.1111111111111111,
             "#46039f"
            ],
            [
             0.2222222222222222,
             "#7201a8"
            ],
            [
             0.3333333333333333,
             "#9c179e"
            ],
            [
             0.4444444444444444,
             "#bd3786"
            ],
            [
             0.5555555555555556,
             "#d8576b"
            ],
            [
             0.6666666666666666,
             "#ed7953"
            ],
            [
             0.7777777777777778,
             "#fb9f3a"
            ],
            [
             0.8888888888888888,
             "#fdca26"
            ],
            [
             1,
             "#f0f921"
            ]
           ],
           "sequentialminus": [
            [
             0,
             "#0d0887"
            ],
            [
             0.1111111111111111,
             "#46039f"
            ],
            [
             0.2222222222222222,
             "#7201a8"
            ],
            [
             0.3333333333333333,
             "#9c179e"
            ],
            [
             0.4444444444444444,
             "#bd3786"
            ],
            [
             0.5555555555555556,
             "#d8576b"
            ],
            [
             0.6666666666666666,
             "#ed7953"
            ],
            [
             0.7777777777777778,
             "#fb9f3a"
            ],
            [
             0.8888888888888888,
             "#fdca26"
            ],
            [
             1,
             "#f0f921"
            ]
           ]
          },
          "colorway": [
           "#636efa",
           "#EF553B",
           "#00cc96",
           "#ab63fa",
           "#FFA15A",
           "#19d3f3",
           "#FF6692",
           "#B6E880",
           "#FF97FF",
           "#FECB52"
          ],
          "font": {
           "color": "#2a3f5f"
          },
          "geo": {
           "bgcolor": "white",
           "lakecolor": "white",
           "landcolor": "#E5ECF6",
           "showlakes": true,
           "showland": true,
           "subunitcolor": "white"
          },
          "hoverlabel": {
           "align": "left"
          },
          "hovermode": "closest",
          "mapbox": {
           "style": "light"
          },
          "paper_bgcolor": "white",
          "plot_bgcolor": "#E5ECF6",
          "polar": {
           "angularaxis": {
            "gridcolor": "white",
            "linecolor": "white",
            "ticks": ""
           },
           "bgcolor": "#E5ECF6",
           "radialaxis": {
            "gridcolor": "white",
            "linecolor": "white",
            "ticks": ""
           }
          },
          "scene": {
           "xaxis": {
            "backgroundcolor": "#E5ECF6",
            "gridcolor": "white",
            "gridwidth": 2,
            "linecolor": "white",
            "showbackground": true,
            "ticks": "",
            "zerolinecolor": "white"
           },
           "yaxis": {
            "backgroundcolor": "#E5ECF6",
            "gridcolor": "white",
            "gridwidth": 2,
            "linecolor": "white",
            "showbackground": true,
            "ticks": "",
            "zerolinecolor": "white"
           },
           "zaxis": {
            "backgroundcolor": "#E5ECF6",
            "gridcolor": "white",
            "gridwidth": 2,
            "linecolor": "white",
            "showbackground": true,
            "ticks": "",
            "zerolinecolor": "white"
           }
          },
          "shapedefaults": {
           "line": {
            "color": "#2a3f5f"
           }
          },
          "ternary": {
           "aaxis": {
            "gridcolor": "white",
            "linecolor": "white",
            "ticks": ""
           },
           "baxis": {
            "gridcolor": "white",
            "linecolor": "white",
            "ticks": ""
           },
           "bgcolor": "#E5ECF6",
           "caxis": {
            "gridcolor": "white",
            "linecolor": "white",
            "ticks": ""
           }
          },
          "title": {
           "x": 0.05
          },
          "xaxis": {
           "automargin": true,
           "gridcolor": "white",
           "linecolor": "white",
           "ticks": "",
           "title": {
            "standoff": 15
           },
           "zerolinecolor": "white",
           "zerolinewidth": 2
          },
          "yaxis": {
           "automargin": true,
           "gridcolor": "white",
           "linecolor": "white",
           "ticks": "",
           "title": {
            "standoff": 15
           },
           "zerolinecolor": "white",
           "zerolinewidth": 2
          }
         }
        },
        "title": {
         "font": {
          "size": 16
         },
         "text": "Concept Lattice"
        },
        "width": 1000,
        "xaxis": {
         "showgrid": false,
         "showticklabels": false,
         "zeroline": false
        },
        "yaxis": {
         "showgrid": false,
         "showticklabels": false,
         "zeroline": false
        }
       }
      },
      "text/html": [
       "<div>\n",
       "        \n",
       "        \n",
       "            <div id=\"f12450e7-8db6-440a-803d-5c622bd609b1\" class=\"plotly-graph-div\" style=\"height:500px; width:1000px;\"></div>\n",
       "            <script type=\"text/javascript\">\n",
       "                require([\"plotly\"], function(Plotly) {\n",
       "                    window.PLOTLYENV=window.PLOTLYENV || {};\n",
       "                    \n",
       "                if (document.getElementById(\"f12450e7-8db6-440a-803d-5c622bd609b1\")) {\n",
       "                    Plotly.newPlot(\n",
       "                        'f12450e7-8db6-440a-803d-5c622bd609b1',\n",
       "                        [{\"hoverinfo\": \"none\", \"line\": {\"color\": \"#888\", \"width\": 0.5}, \"mode\": \"lines\", \"type\": \"scatter\", \"x\": [-5.5, 0.0, null, -5.5, -1.0, null, -5.5, 0.0, null, -2.0, -2.5, null, -2.0, -1.5, null, -2.0, -1.5, null, -4.5, 4.0, null, -4.5, 5.0, null, -4.5, -1.0, null, -4.5, 2.0, null, -4.5, 0.0, null, -4.5, -5.0, null, -4.5, -1.0, null, -3.5, 0.0, null, -3.5, -5.0, null, -3.5, 5.0, null, -2.5, -1.0, null, -2.5, -2.0, null, -2.5, 0.0, null, -2.5, 0.0, null, -2.5, 4.0, null, -2.5, 5.0, null, -1.5, 0.0, null, -1.5, 3.0, null, -1.5, 4.0, null, -3.5, 4.0, null, -3.5, 3.0, null, -3.5, -1.0, null, -5.0, 2.5, null, -5.0, 3.5, null, -0.5, 0.0, null, -0.5, 3.0, null, 0.5, 0.0, null, 0.5, -4.0, null, -4.0, 2.5, null, -4.0, 4.5, null, -1.0, 1.5, null, -1.0, 0.5, null, -1.0, 0.5, null, 1.5, 0.0, null, 1.5, -2.0, null, 1.5, 0.0, null, -4.0, -1.5, null, -4.0, -0.5, null, -4.0, 0.5, null, -4.0, 3.5, null, -1.0, -1.5, null, -1.0, 1.5, null, -1.0, 0.5, null, -2.5, -2.0, null, -2.5, 0.0, null, -2.5, -3.0, null, -2.5, 1.0, null, -1.5, -3.0, null, -1.5, -2.0, null, -1.5, 1.0, null, -3.0, 4.5, null, -3.0, 5.5, null, -3.0, -0.5, null, -3.0, 1.5, null, -3.0, -0.5, null, -3.0, 1.5, null, -0.5, 1.0, null, -0.5, -2.0, null, -2.0, 5.5, null, -1.0, 1.5, null, -1.0, 2.5, null, 0.0, -0.5, null, 0.0, -1.5, null, 0.0, 1.5, null, 0.5, 2.0, null, 0.5, 1.0, null, 0.5, -2.0, null, 0.5, 0.0, null, 0.0, -0.5, null, 0.0, 1.5, null, 0.0, -0.5, null, 0.0, 0.5, null, 0.0, 1.5, null, -3.5, 2.0, null, -3.5, -1.0, null, -3.5, 1.0, null, -2.5, 4.0, null, -2.5, 3.0, null, -2.5, 0.0, null, -2.5, 2.0, null, 1.0, -0.5, null, 1.0, 2.5, null, 1.0, -0.5, null, 1.0, 1.5, null, -0.5, 1.0, null, -0.5, 0.0, null, -1.5, 3.0, null, -1.5, 2.0, null, -1.5, 1.0, null, -1.5, 2.0, null, 1.5, 4.0, null, 2.0, 2.5, null, 2.0, 1.5, null, 2.0, -0.5, null, 2.0, 0.5, null, 2.5, 3.0, null, 2.5, 4.0, null, 3.5, 5.0, null, 3.5, 2.0, null, 3.5, 3.0, null, -2.0, 0.5, null, -2.0, 2.5, null, 0.0, 4.5, null, 0.0, 2.5, null, 1.0, 3.5, null, 1.0, 4.5, null, 2.0, 2.5, null, 2.0, 3.5, null, 2.0, 4.5, null, -1.5, 3.0, null, -1.5, -1.0, null, 1.0, -0.5, null, 1.0, 3.5, null, 2.5, 0.0, null, -3.0, 1.5, null, -3.0, -0.5, null, -3.0, -0.5, null, -3.0, 2.5, null, 3.5, 0.0, null, -0.5, -2.0, null, -0.5, -2.0, null, 4.0, 1.5, null, 4.5, 0.0, null, 1.0, -0.5, null, 1.0, 0.5, null, -2.0, 3.5, null, 0.0, 0.5, null, -1.0, 0.5, null, -1.0, 3.5, null, 0.5, 3.0, null, 5.5, 0.0, null, 0.0, 1.5, null, 0.0, 1.5, null, 0.0, 2.5, null, 1.0, 0.5, null, 2.0, 0.5, null, 2.0, 1.5, null, 2.5, 3.0, null], \"y\": [2, 1, null, 2, 3, null, 2, 3, null, 9, 8, null, 9, 8, null, 9, 10, null, 4, 3, null, 4, 3, null, 4, 5, null, 4, 5, null, 2, 1, null, 2, 3, null, 2, 3, null, 2, 1, null, 2, 3, null, 2, 3, null, 8, 7, null, 8, 7, null, 8, 9, null, 2, 1, null, 2, 3, null, 2, 3, null, 2, 1, null, 2, 3, null, 2, 3, null, 4, 3, null, 4, 3, null, 4, 5, null, 3, 4, null, 3, 4, null, 2, 1, null, 2, 3, null, 2, 1, null, 2, 3, null, 3, 2, null, 3, 4, null, 9, 8, null, 9, 8, null, 9, 10, null, 2, 1, null, 2, 3, null, 2, 3, null, 5, 4, null, 5, 4, null, 5, 6, null, 5, 6, null, 11, 10, null, 11, 10, null, 11, 12, null, 4, 3, null, 4, 3, null, 4, 5, null, 4, 5, null, 4, 3, null, 4, 3, null, 4, 5, null, 3, 2, null, 3, 2, null, 3, 4, null, 5, 4, null, 5, 6, null, 5, 6, null, 4, 3, null, 4, 5, null, 3, 2, null, 3, 4, null, 3, 4, null, 9, 8, null, 9, 10, null, 9, 10, null, 4, 3, null, 4, 3, null, 4, 5, null, 4, 5, null, 11, 10, null, 11, 10, null, 11, 12, null, 11, 12, null, 3, 4, null, 6, 5, null, 6, 5, null, 6, 7, null, 6, 5, null, 6, 5, null, 6, 7, null, 6, 7, null, 9, 8, null, 9, 8, null, 9, 10, null, 9, 10, null, 12, 11, null, 12, 13, null, 6, 5, null, 6, 5, null, 6, 7, null, 6, 7, null, 4, 5, null, 9, 8, null, 9, 8, null, 9, 10, null, 9, 10, null, 4, 5, null, 4, 5, null, 4, 3, null, 4, 5, null, 4, 5, null, 5, 6, null, 5, 6, null, 5, 4, null, 5, 6, null, 3, 2, null, 3, 2, null, 3, 2, null, 3, 2, null, 3, 4, null, 8, 7, null, 8, 7, null, 5, 6, null, 5, 6, null, 2, 1, null, 7, 6, null, 7, 6, null, 7, 8, null, 7, 8, null, 2, 1, null, 8, 7, null, 6, 7, null, 5, 6, null, 2, 1, null, 11, 10, null, 11, 10, null, 7, 6, null, 13, 12, null, 7, 6, null, 7, 6, null, 6, 7, null, 2, 1, null, 7, 6, null, 7, 8, null, 7, 8, null, 7, 8, null, 7, 8, null, 7, 8, null, 6, 7, null]}, {\"hoverinfo\": \"text\", \"hovertext\": [\"PatternStructure 72<br><br>extent (len: 2): 23888, 23889<br>intent (len: 8): C6_Stay at home requirements = 0....<br>new extent (len: 2): 23888, 23889<br>new_intent (len: 0): \\u2205<br>metric Confirmed_diff_mean = 448.0<br>metric Confirmed_diff_std = 93.33809511662427<br>metric Deaths_diff_mean = 7.0<br>metric Deaths_diff_std = 1.4142135623730951<br>metric Recovered_diff_mean = 2.0<br>metric Recovered_diff_std = 2.8284271247461903<br>metric stab_min_bound = 0.75<br>metric stab_max_bound = 0.75<br>metric log_stab_min_bound = 2.0<br>metric log_stab_max_bound = 2.0<br>metric lstab_min_bound = -6.0<br>\", \"PatternStructure 10<br><br>extent (len: 52): 23840, 23846, 23858, 23866, 2383...<br>intent (len: 8): C7_Restrictions on internal movem...<br>new extent (len: 0): \\u2205<br>new_intent (len: 1): C6_Stay at home requirements<br>metric Confirmed_diff_mean = 52.46153846153846<br>metric Confirmed_diff_std = 129.76864202298137<br>metric Deaths_diff_mean = 1.1538461538461537<br>metric Deaths_diff_std = 2.4445587065940795<br>metric Recovered_diff_mean = 0.23076923076923078<br>metric Recovered_diff_std = 0.7570682517832988<br>metric stab_min_bound = 0.4990234375<br>metric stab_max_bound = 0.5<br>metric log_stab_min_bound = 0.997184984392946<br>metric log_stab_max_bound = 1.0<br>metric lstab_min_bound = -7.0<br>\", \"PatternStructure 53<br><br>extent (len: 6): 23891, 23894, 23893, 23892, 23895...<br>intent (len: 8): C6_Stay at home requirements = 2....<br>new extent (len: 0): \\u2205<br>new_intent (len: 0): \\u2205<br>metric Confirmed_diff_mean = 2757.5<br>metric Confirmed_diff_std = 2340.7824973713386<br>metric Deaths_diff_mean = 48.333333333333336<br>metric Deaths_diff_std = 34.89794645343285<br>metric Recovered_diff_mean = 22.5<br>metric Recovered_diff_std = 33.655608745051694<br>metric stab_min_bound = 0.5<br>metric stab_max_bound = 0.75<br>metric log_stab_min_bound = 1.0<br>metric log_stab_max_bound = 2.0<br>metric lstab_min_bound = -6.0<br>\", \"PatternStructure 73<br><br>extent (len: 1): 23890<br>intent (len: 8): C6_Stay at home requirements = 0....<br>new extent (len: 1): 23890<br>new_intent (len: 0): \\u2205<br>metric Confirmed_diff_mean = 548.0<br>metric Confirmed_diff_std = nan<br>metric Deaths_diff_mean = 10.0<br>metric Deaths_diff_std = nan<br>metric Recovered_diff_mean = 0.0<br>metric Recovered_diff_std = nan<br>metric stab_min_bound = 0.5<br>metric stab_max_bound = 0.5<br>metric log_stab_min_bound = 1.0<br>metric log_stab_max_bound = 1.0<br>metric lstab_min_bound = -7.0<br>\", \"PatternStructure 74<br><br>extent (len: 2): 23891, 23892<br>intent (len: 8): C6_Stay at home requirements = 2....<br>new extent (len: 2): 23891, 23892<br>new_intent (len: 0): \\u2205<br>metric Confirmed_diff_mean = 966.0<br>metric Confirmed_diff_std = 224.8599564173221<br>metric Deaths_diff_mean = 20.0<br>metric Deaths_diff_std = 8.48528137423857<br>metric Recovered_diff_mean = 2.5<br>metric Recovered_diff_std = 3.5355339059327378<br>metric stab_min_bound = 0.75<br>metric stab_max_bound = 0.75<br>metric log_stab_min_bound = 2.0<br>metric log_stab_max_bound = 2.0<br>metric lstab_min_bound = -6.0<br>\", \"PatternStructure 16<br><br>extent (len: 42): 23858, 23866, 23870, 23865, 2385...<br>intent (len: 8): C7_Restrictions on internal movem...<br>new extent (len: 0): \\u2205<br>new_intent (len: 0): \\u2205<br>metric Confirmed_diff_mean = 64.78571428571429<br>metric Confirmed_diff_std = 141.90799762853666<br>metric Deaths_diff_mean = 1.4285714285714286<br>metric Deaths_diff_std = 2.6516709609258498<br>metric Recovered_diff_mean = 0.2857142857142857<br>metric Recovered_diff_std = 0.8347838711296818<br>metric stab_min_bound = 0.4999999962747097<br>metric stab_max_bound = 0.5<br>metric log_stab_min_bound = 0.9999999892510844<br>metric log_stab_max_bound = 1.0<br>metric lstab_min_bound = -7.0<br>\", \"PatternStructure 75<br><br>extent (len: 2): 23894, 23893<br>intent (len: 8): C6_Stay at home requirements = 2....<br>new extent (len: 2): 23894, 23893<br>new_intent (len: 0): \\u2205<br>metric Confirmed_diff_mean = 1560.0<br>metric Confirmed_diff_std = 305.47012947258855<br>metric Deaths_diff_mean = 32.5<br>metric Deaths_diff_std = 2.1213203435596424<br>metric Recovered_diff_mean = 44.0<br>metric Recovered_diff_std = 62.22539674441618<br>metric stab_min_bound = 0.75<br>metric stab_max_bound = 0.75<br>metric log_stab_min_bound = 2.0<br>metric log_stab_max_bound = 2.0<br>metric lstab_min_bound = -6.0<br>\", \"PatternStructure 76<br><br>extent (len: 2): 23895, 23896<br>intent (len: 8): C2_Workplace closing = 3.0, C6_St...<br>new extent (len: 2): 23895, 23896<br>new_intent (len: 0): \\u2205<br>metric Confirmed_diff_mean = 5746.5<br>metric Confirmed_diff_std = 311.8340905032675<br>metric Deaths_diff_mean = 92.5<br>metric Deaths_diff_std = 2.1213203435596424<br>metric Recovered_diff_mean = 21.0<br>metric Recovered_diff_std = 7.0710678118654755<br>metric stab_min_bound = 0.75<br>metric stab_max_bound = 0.75<br>metric log_stab_min_bound = 2.0<br>metric log_stab_max_bound = 2.0<br>metric lstab_min_bound = -6.0<br>\", \"PatternStructure 54<br><br>extent (len: 52): 23922, 23930, 23923, 23912, 2393...<br>intent (len: 8): C6_Stay at home requirements = 2....<br>new extent (len: 0): \\u2205<br>new_intent (len: 1): C5_Close public transport<br>metric Confirmed_diff_mean = 24083.884615384617<br>metric Confirmed_diff_std = 9087.191543226549<br>metric Deaths_diff_mean = 1453.1153846153845<br>metric Deaths_diff_std = 821.3962205484158<br>metric Recovered_diff_mean = 3750.3653846153848<br>metric Recovered_diff_std = 5462.695380914136<br>metric stab_min_bound = 0.7499999999999964<br>metric stab_max_bound = 0.75<br>metric log_stab_min_bound = 1.9999999999999796<br>metric log_stab_max_bound = 2.0<br>metric lstab_min_bound = -6.0<br>\", \"PatternStructure 62<br><br>extent (len: 3): 23890, 23892, 23891<br>intent (len: 8): C6_Stay at home requirements in [...<br>new extent (len: 0): \\u2205<br>new_intent (len: 0): \\u2205<br>metric Confirmed_diff_mean = 826.6666666666666<br>metric Confirmed_diff_std = 289.00230679586855<br>metric Deaths_diff_mean = 16.666666666666668<br>metric Deaths_diff_std = 8.32666399786453<br>metric Recovered_diff_mean = 1.6666666666666667<br>metric Recovered_diff_std = 2.8867513459481287<br>metric stab_min_bound = 0.25<br>metric stab_max_bound = 0.5<br>metric log_stab_min_bound = 0.4150374992788438<br>metric log_stab_max_bound = 1.0<br>metric lstab_min_bound = -7.0<br>\", \"PatternStructure 77<br><br>extent (len: 48): 23922, 23930, 23923, 23912, 2393...<br>intent (len: 8): C2_Workplace closing = 3.0, C6_St...<br>new extent (len: 48): 23922, 23930, 23923, 23912, ...<br>new_intent (len: 1): C4_Restrictions on gatherings<br>metric Confirmed_diff_mean = 25786.4375<br>metric Confirmed_diff_std = 7123.428465450721<br>metric Deaths_diff_mean = 1569.0<br>metric Deaths_diff_std = 744.1376845833178<br>metric Recovered_diff_mean = 4060.1875<br>metric Recovered_diff_std = 5577.292547068435<br>metric stab_min_bound = 0.9999999999999964<br>metric stab_max_bound = 0.9999999999999964<br>metric log_stab_min_bound = 48.0<br>metric log_stab_max_bound = 48.0<br>metric lstab_min_bound = 40.0<br>\", \"PatternStructure 66<br><br>extent (len: 10): 23841, 23842, 23847, 23840, 2384...<br>intent (len: 8): C8_International travel controls ...<br>new extent (len: 10): 23841, 23842, 23847, 23840, ...<br>new_intent (len: 1): C8_International travel contr...<br>metric Confirmed_diff_mean = 0.7<br>metric Confirmed_diff_std = 1.0593499054713802<br>metric Deaths_diff_mean = 0.0<br>metric Deaths_diff_std = 0.0<br>metric Recovered_diff_mean = 0.0<br>metric Recovered_diff_std = 0.0<br>metric stab_min_bound = 0.9990234375<br>metric stab_max_bound = 0.9990234375<br>metric log_stab_min_bound = 10.0<br>metric log_stab_max_bound = 10.0<br>metric lstab_min_bound = 2.0<br>\", \"PatternStructure 55<br><br>extent (len: 38): 23840, 23846, 23858, 23866, 2383...<br>intent (len: 8): C8_International travel controls ...<br>new extent (len: 0): \\u2205<br>new_intent (len: 1): C3_Cancel public events<br>metric Confirmed_diff_mean = 1.763157894736842<br>metric Confirmed_diff_std = 5.956755014159955<br>metric Deaths_diff_mean = 0.02631578947368421<br>metric Deaths_diff_std = 0.16222142113076254<br>metric Recovered_diff_mean = 0.18421052631578946<br>metric Recovered_diff_std = 0.6087320964854797<br>metric stab_min_bound = 0.9990234337747097<br>metric stab_max_bound = 0.9990234375<br>metric log_stab_min_bound = 9.99999449656567<br>metric log_stab_max_bound = 10.0<br>metric lstab_min_bound = 2.0<br>\", \"PatternStructure 14<br><br>extent (len: 64): 23922, 23930, 23923, 23912, 2393...<br>intent (len: 8): C6_Stay at home requirements in [...<br>new extent (len: 0): \\u2205<br>new_intent (len: 1): C1_School closing<br>metric Confirmed_diff_mean = 19638.65625<br>metric Confirmed_diff_std = 12403.7695540429<br>metric Deaths_diff_mean = 1182.046875<br>metric Deaths_diff_std = 932.5486400300123<br>metric Recovered_diff_mean = 3047.328125<br>metric Recovered_diff_std = 5131.552372115855<br>metric stab_min_bound = 0.9843749999999964<br>metric stab_max_bound = 0.984375<br>metric log_stab_min_bound = 5.999999999999672<br>metric log_stab_max_bound = 6.0<br>metric lstab_min_bound = -2.0<br>\", \"PatternStructure 71<br><br>extent (len: 1): 23887<br>intent (len: 8): C4_Restrictions on gatherings = 1...<br>new extent (len: 1): 23887<br>new_intent (len: 1): C4_Restrictions on gatherings<br>metric Confirmed_diff_mean = 323.0<br>metric Confirmed_diff_std = nan<br>metric Deaths_diff_mean = 8.0<br>metric Deaths_diff_std = nan<br>metric Recovered_diff_mean = 0.0<br>metric Recovered_diff_std = nan<br>metric stab_min_bound = 0.5<br>metric stab_max_bound = 0.5<br>metric log_stab_min_bound = 1.0<br>metric log_stab_max_bound = 1.0<br>metric lstab_min_bound = -7.0<br>\", \"PatternStructure 38<br><br>extent (len: 11): 23878, 23879, 23881, 23880, 2388...<br>intent (len: 8): C6_Stay at home requirements = 0....<br>new extent (len: 0): \\u2205<br>new_intent (len: 1): C3_Cancel public events<br>metric Confirmed_diff_mean = 110.63636363636364<br>metric Confirmed_diff_std = 124.67980809038225<br>metric Deaths_diff_mean = 3.1818181818181817<br>metric Deaths_diff_std = 2.4826671874490875<br>metric Recovered_diff_mean = 0.09090909090909091<br>metric Recovered_diff_std = 0.30151134457776363<br>metric stab_min_bound = 0.0<br>metric stab_max_bound = 0.5<br>metric log_stab_min_bound = -0.0<br>metric log_stab_max_bound = 1.0<br>metric lstab_min_bound = -7.0<br>\", \"PatternStructure 3<br><br>extent (len: 56): 23840, 23846, 23858, 23866, 2383...<br>intent (len: 8): C7_Restrictions on internal movem...<br>new extent (len: 0): \\u2205<br>new_intent (len: 2): C7_Restrictions on internal m...<br>metric Confirmed_diff_mean = 138.92857142857142<br>metric Confirmed_diff_std = 351.5801140897713<br>metric Deaths_diff_mean = 2.9464285714285716<br>metric Deaths_diff_std = 7.23230038308482<br>metric Recovered_diff_mean = 1.875<br>metric Recovered_diff_std = 11.758265951313492<br>metric stab_min_bound = 0.7490234375<br>metric stab_max_bound = 0.75<br>metric log_stab_min_bound = 1.994375450806122<br>metric log_stab_max_bound = 2.0<br>metric lstab_min_bound = -6.0<br>\", \"PatternStructure 49<br><br>extent (len: 9): 23888, 23881, 23889, 23882, 23885...<br>intent (len: 8): C6_Stay at home requirements = 0....<br>new extent (len: 0): \\u2205<br>new_intent (len: 0): \\u2205<br>metric Confirmed_diff_mean = 225.77777777777777<br>metric Confirmed_diff_std = 173.01067725560884<br>metric Deaths_diff_mean = 4.333333333333333<br>metric Deaths_diff_std = 2.7838821814150108<br>metric Recovered_diff_mean = 0.5555555555555556<br>metric Recovered_diff_std = 1.3333333333333335<br>metric stab_min_bound = 0.734375<br>metric stab_max_bound = 0.75<br>metric log_stab_min_bound = 1.9125371587496607<br>metric log_stab_max_bound = 2.0<br>metric lstab_min_bound = -6.0<br>\", \"PatternStructure 48<br><br>extent (len: 10): 23878, 23879, 23881, 23882, 2388...<br>intent (len: 8): C6_Stay at home requirements = 0....<br>new extent (len: 0): \\u2205<br>new_intent (len: 0): \\u2205<br>metric Confirmed_diff_mean = 121.1<br>metric Confirmed_diff_std = 126.23034500467786<br>metric Deaths_diff_mean = 3.5<br>metric Deaths_diff_std = 2.3687784005919825<br>metric Recovered_diff_mean = 0.1<br>metric Recovered_diff_std = 0.31622776601683794<br>metric stab_min_bound = 0.375<br>metric stab_max_bound = 0.5<br>metric log_stab_min_bound = 0.6780719051126376<br>metric log_stab_max_bound = 1.0<br>metric lstab_min_bound = -7.0<br>\", \"PatternStructure 58<br><br>extent (len: 9): 23878, 23879, 23881, 23882, 23880...<br>intent (len: 8): C6_Stay at home requirements = 0....<br>new extent (len: 0): \\u2205<br>new_intent (len: 0): \\u2205<br>metric Confirmed_diff_mean = 98.66666666666667<br>metric Confirmed_diff_std = 110.74407433357327<br>metric Deaths_diff_mean = 3.0<br>metric Deaths_diff_std = 1.8708286933869707<br>metric Recovered_diff_mean = 0.1111111111111111<br>metric Recovered_diff_std = 0.3333333333333333<br>metric stab_min_bound = 0.859375<br>metric stab_max_bound = 0.875<br>metric log_stab_min_bound = 2.830074998557688<br>metric log_stab_max_bound = 3.0<br>metric lstab_min_bound = -5.0<br>\", \"PatternStructure 40<br><br>extent (len: 10): 23888, 23881, 23889, 23882, 2388...<br>intent (len: 8): C7_Restrictions on internal movem...<br>new extent (len: 0): \\u2205<br>new_intent (len: 0): \\u2205<br>metric Confirmed_diff_mean = 258.0<br>metric Confirmed_diff_std = 192.32668965995217<br>metric Deaths_diff_mean = 4.9<br>metric Deaths_diff_std = 3.178049716414141<br>metric Recovered_diff_mean = 0.5<br>metric Recovered_diff_std = 1.2692955176439846<br>metric stab_min_bound = 0.484375<br>metric stab_max_bound = 0.5<br>metric log_stab_min_bound = 0.9556058806415466<br>metric log_stab_max_bound = 1.0<br>metric lstab_min_bound = -7.0<br>\", \"PatternStructure 47<br><br>extent (len: 10): 23878, 23879, 23881, 23880, 2388...<br>intent (len: 8): C6_Stay at home requirements = 0....<br>new extent (len: 0): \\u2205<br>new_intent (len: 0): \\u2205<br>metric Confirmed_diff_mean = 89.4<br>metric Confirmed_diff_std = 108.44476320536032<br>metric Deaths_diff_mean = 2.7<br>metric Deaths_diff_std = 2.0027758514399734<br>metric Recovered_diff_mean = 0.1<br>metric Recovered_diff_std = 0.31622776601683794<br>metric stab_min_bound = 0.484375<br>metric stab_max_bound = 0.5<br>metric log_stab_min_bound = 0.9556058806415466<br>metric log_stab_max_bound = 1.0<br>metric lstab_min_bound = -7.0<br>\", \"PatternStructure 59<br><br>extent (len: 7): 23881, 23882, 23885, 23884, 23887...<br>intent (len: 8): C6_Stay at home requirements = 0....<br>new extent (len: 0): \\u2205<br>new_intent (len: 0): \\u2205<br>metric Confirmed_diff_mean = 162.28571428571428<br>metric Confirmed_diff_std = 131.50755908022205<br>metric Deaths_diff_mean = 3.5714285714285716<br>metric Deaths_diff_std = 2.63673679998231<br>metric Recovered_diff_mean = 0.14285714285714285<br>metric Recovered_diff_std = 0.37796447300922725<br>metric stab_min_bound = 0.484375<br>metric stab_max_bound = 0.5<br>metric log_stab_min_bound = 0.9556058806415466<br>metric log_stab_max_bound = 1.0<br>metric lstab_min_bound = -7.0<br>\", \"PatternStructure 61<br><br>extent (len: 3): 23888, 23889, 23890<br>intent (len: 8): C6_Stay at home requirements = 0....<br>new extent (len: 0): \\u2205<br>new_intent (len: 0): \\u2205<br>metric Confirmed_diff_mean = 481.3333333333333<br>metric Confirmed_diff_std = 87.68884383622203<br>metric Deaths_diff_mean = 8.0<br>metric Deaths_diff_std = 2.0<br>metric Recovered_diff_mean = 1.3333333333333333<br>metric Recovered_diff_std = 2.3094010767585034<br>metric stab_min_bound = 0.25<br>metric stab_max_bound = 0.5<br>metric log_stab_min_bound = 0.4150374992788438<br>metric log_stab_max_bound = 1.0<br>metric lstab_min_bound = -7.0<br>\", \"PatternStructure 11<br><br>extent (len: 44): 23858, 23866, 23870, 23865, 2385...<br>intent (len: 8): C7_Restrictions on internal movem...<br>new extent (len: 0): \\u2205<br>new_intent (len: 0): \\u2205<br>metric Confirmed_diff_mean = 105.75<br>metric Confirmed_diff_std = 237.56292923946953<br>metric Deaths_diff_mean = 2.272727272727273<br>metric Deaths_diff_std = 4.867374232981276<br>metric Recovered_diff_mean = 0.38636363636363635<br>metric Recovered_diff_std = 1.082974136797604<br>metric stab_min_bound = 0.7499999962747097<br>metric stab_max_bound = 0.75<br>metric log_stab_min_bound = 1.9999999785021687<br>metric log_stab_max_bound = 2.0<br>metric lstab_min_bound = -6.0<br>\", \"PatternStructure 46<br><br>extent (len: 32): 23858, 23866, 23870, 23865, 2385...<br>intent (len: 8): C3_Cancel public events in [0.0, ...<br>new extent (len: 0): \\u2205<br>new_intent (len: 0): \\u2205<br>metric Confirmed_diff_mean = 4.40625<br>metric Confirmed_diff_std = 9.448875594482129<br>metric Deaths_diff_mean = 0.34375<br>metric Deaths_diff_std = 1.1247759633553411<br>metric Recovered_diff_mean = 0.21875<br>metric Recovered_diff_std = 0.6591477880199651<br>metric stab_min_bound = 0.8749999962747097<br>metric stab_max_bound = 0.875<br>metric log_stab_min_bound = 2.999999957004338<br>metric log_stab_max_bound = 3.0<br>metric lstab_min_bound = -5.0<br>\", \"PatternStructure 4<br><br>extent (len: 48): 23858, 23866, 23870, 23865, 2385...<br>intent (len: 8): C3_Cancel public events in [0.0, ...<br>new extent (len: 0): \\u2205<br>new_intent (len: 0): \\u2205<br>metric Confirmed_diff_mean = 401.375<br>metric Confirmed_diff_std = 1187.5972099069295<br>metric Deaths_diff_mean = 7.291666666666667<br>metric Deaths_diff_std = 19.53061789757285<br>metric Recovered_diff_mean = 3.0625<br>metric Recovered_diff_std = 13.275166785825682<br>metric stab_min_bound = 0.7499999962747097<br>metric stab_max_bound = 0.75<br>metric log_stab_min_bound = 1.9999999785021687<br>metric log_stab_max_bound = 2.0<br>metric lstab_min_bound = -6.0<br>\", \"PatternStructure 60<br><br>extent (len: 3): 23888, 23889, 23887<br>intent (len: 8): C4_Restrictions on gatherings in ...<br>new extent (len: 0): \\u2205<br>new_intent (len: 0): \\u2205<br>metric Confirmed_diff_mean = 406.3333333333333<br>metric Confirmed_diff_std = 97.79740964531389<br>metric Deaths_diff_mean = 7.333333333333333<br>metric Deaths_diff_std = 1.1547005383792517<br>metric Recovered_diff_mean = 1.3333333333333333<br>metric Recovered_diff_std = 2.3094010767585034<br>metric stab_min_bound = 0.25<br>metric stab_max_bound = 0.5<br>metric log_stab_min_bound = 0.4150374992788438<br>metric log_stab_max_bound = 1.0<br>metric lstab_min_bound = -7.0<br>\", \"PatternStructure 35<br><br>extent (len: 55): 23922, 23930, 23923, 23912, 2393...<br>intent (len: 8): C6_Stay at home requirements in [...<br>new extent (len: 0): \\u2205<br>new_intent (len: 1): C7_Restrictions on internal m...<br>metric Confirmed_diff_mean = 22815.30909090909<br>metric Confirmed_diff_std = 10315.199635189068<br>metric Deaths_diff_mean = 1374.7636363636364<br>metric Deaths_diff_std = 863.4762636647621<br>metric Recovered_diff_mean = 3545.890909090909<br>metric Recovered_diff_std = 5377.855460892303<br>metric stab_min_bound = 0.49999999999999645<br>metric stab_max_bound = 0.5<br>metric log_stab_min_bound = 0.9999999999999898<br>metric log_stab_max_bound = 1.0<br>metric lstab_min_bound = -7.0<br>\", \"PatternStructure 33<br><br>extent (len: 8): 23888, 23889, 23891, 23894, 23892...<br>intent (len: 8): C4_Restrictions on gatherings in ...<br>new extent (len: 0): \\u2205<br>new_intent (len: 0): \\u2205<br>metric Confirmed_diff_mean = 852.375<br>metric Confirmed_diff_std = 518.2103647582294<br>metric Deaths_diff_mean = 17.125<br>metric Deaths_diff_std = 11.382160226801036<br>metric Recovered_diff_mean = 12.125<br>metric Recovered_diff_std = 30.72661712587313<br>metric stab_min_bound = 0.25<br>metric stab_max_bound = 0.5<br>metric log_stab_min_bound = 0.4150374992788438<br>metric log_stab_max_bound = 1.0<br>metric lstab_min_bound = -7.0<br>\", \"PatternStructure 12<br><br>extent (len: 18): 23878, 23879, 23888, 23881, 2388...<br>intent (len: 8): C7_Restrictions on internal movem...<br>new extent (len: 0): \\u2205<br>new_intent (len: 0): \\u2205<br>metric Confirmed_diff_mean = 428.5<br>metric Confirmed_diff_std = 518.6455493710063<br>metric Deaths_diff_mean = 9.11111111111111<br>metric Deaths_diff_std = 10.48185484758073<br>metric Recovered_diff_mean = 5.444444444444445<br>metric Recovered_diff_std = 20.654645460161436<br>metric stab_min_bound = 0.25<br>metric stab_max_bound = 0.5<br>metric log_stab_min_bound = 0.4150374992788438<br>metric log_stab_max_bound = 1.0<br>metric lstab_min_bound = -7.0<br>\", \"PatternStructure 2<br><br>extent (len: 96): 23930, 23934, 23866, 23870, 2391...<br>intent (len: 8): C3_Cancel public events in [0.0, ...<br>new extent (len: 0): \\u2205<br>new_intent (len: 1): C8_International travel contr...<br>metric Confirmed_diff_mean = 13093.90625<br>metric Confirmed_diff_std = 13733.115453705419<br>metric Deaths_diff_mean = 788.1458333333334<br>metric Deaths_diff_std = 943.5550911778914<br>metric Recovered_diff_mean = 2031.625<br>metric Recovered_diff_std = 4421.294919269455<br>metric stab_min_bound = 0.9999999962747061<br>metric stab_max_bound = 0.9999999962747097<br>metric log_stab_min_bound = 27.999998624139447<br>metric log_stab_max_bound = 28.0<br>metric lstab_min_bound = 20.0<br>\", \"PatternStructure 34<br><br>extent (len: 9): 23888, 23889, 23891, 23894, 23892...<br>intent (len: 8): C6_Stay at home requirements in [...<br>new extent (len: 0): \\u2205<br>new_intent (len: 1): C4_Restrictions on gatherings<br>metric Confirmed_diff_mean = 1998.7777777777778<br>metric Confirmed_diff_std = 2172.946201461151<br>metric Deaths_diff_mean = 34.888888888888886<br>metric Deaths_diff_std = 34.188610839153895<br>metric Recovered_diff_mean = 15.444444444444445<br>metric Recovered_diff_std = 28.65794440949626<br>metric stab_min_bound = 0.5<br>metric stab_max_bound = 0.75<br>metric log_stab_min_bound = 1.0<br>metric log_stab_max_bound = 2.0<br>metric lstab_min_bound = -6.0<br>\", \"PatternStructure 6<br><br>extent (len: 54): 23840, 23846, 23858, 23866, 2383...<br>intent (len: 8): C7_Restrictions on internal movem...<br>new extent (len: 0): \\u2205<br>new_intent (len: 1): C5_Close public transport<br>metric Confirmed_diff_mean = 86.29629629629629<br>metric Confirmed_diff_std = 217.9095908796685<br>metric Deaths_diff_mean = 1.8518518518518519<br>metric Deaths_diff_std = 4.473854475106502<br>metric Recovered_diff_mean = 0.3148148148148148<br>metric Recovered_diff_std = 0.9871643030852636<br>metric stab_min_bound = 0.7490234375<br>metric stab_max_bound = 0.75<br>metric log_stab_min_bound = 1.994375450806122<br>metric log_stab_max_bound = 2.0<br>metric lstab_min_bound = -6.0<br>\", \"PatternStructure 50<br><br>extent (len: 4): 23888, 23889, 23887, 23890<br>intent (len: 8): C4_Restrictions on gatherings in ...<br>new extent (len: 0): \\u2205<br>new_intent (len: 0): \\u2205<br>metric Confirmed_diff_mean = 441.75<br>metric Confirmed_diff_std = 106.74072949597699<br>metric Deaths_diff_mean = 8.0<br>metric Deaths_diff_std = 1.632993161855452<br>metric Recovered_diff_mean = 1.0<br>metric Recovered_diff_std = 2.0<br>metric stab_min_bound = 0.0<br>metric stab_max_bound = 0.5<br>metric log_stab_min_bound = -0.0<br>metric log_stab_max_bound = 1.0<br>metric lstab_min_bound = -7.0<br>\", \"PatternStructure 13<br><br>extent (len: 19): 23886, 23878, 23879, 23889, 2388...<br>intent (len: 8): C6_Stay at home requirements in [...<br>new extent (len: 0): \\u2205<br>new_intent (len: 0): \\u2205<br>metric Confirmed_diff_mean = 1010.5263157894736<br>metric Confirmed_diff_std = 1741.9262762949481<br>metric Deaths_diff_mean = 18.36842105263158<br>metric Deaths_diff_std = 27.9567334888828<br>metric Recovered_diff_mean = 7.368421052631579<br>metric Recovered_diff_std = 20.66454431660339<br>metric stab_min_bound = 0.625<br>metric stab_max_bound = 0.75<br>metric log_stab_min_bound = 1.415037499278844<br>metric log_stab_max_bound = 2.0<br>metric lstab_min_bound = -6.0<br>\", \"PatternStructure 51<br><br>extent (len: 5): 23888, 23889, 23891, 23892, 23890<br>intent (len: 8): C6_Stay at home requirements in [...<br>new extent (len: 0): \\u2205<br>new_intent (len: 0): \\u2205<br>metric Confirmed_diff_mean = 675.2<br>metric Confirmed_diff_std = 294.88251898001687<br>metric Deaths_diff_mean = 12.8<br>metric Deaths_diff_std = 7.9498427657407165<br>metric Recovered_diff_mean = 1.8<br>metric Recovered_diff_std = 2.489979919597747<br>metric stab_min_bound = 0.5<br>metric stab_max_bound = 0.75<br>metric log_stab_min_bound = 1.0<br>metric log_stab_max_bound = 2.0<br>metric lstab_min_bound = -6.0<br>\", \"PatternStructure 52<br><br>extent (len: 5): 23891, 23894, 23892, 23893, 23890<br>intent (len: 8): C6_Stay at home requirements in [...<br>new extent (len: 0): \\u2205<br>new_intent (len: 1): C7_Restrictions on internal m...<br>metric Confirmed_diff_mean = 1120.0<br>metric Confirmed_diff_std = 475.8387331859398<br>metric Deaths_diff_mean = 23.0<br>metric Deaths_diff_std = 10.535653752852738<br>metric Recovered_diff_mean = 18.6<br>metric Recovered_diff_std = 38.85614494516923<br>metric stab_min_bound = 0.25<br>metric stab_max_bound = 0.5<br>metric log_stab_min_bound = 0.4150374992788438<br>metric log_stab_max_bound = 1.0<br>metric lstab_min_bound = -7.0<br>\", \"PatternStructure 37<br><br>extent (len: 38): 23858, 23866, 23870, 23865, 2385...<br>intent (len: 8): C3_Cancel public events in [0.0, ...<br>new extent (len: 0): \\u2205<br>new_intent (len: 0): \\u2205<br>metric Confirmed_diff_mean = 25.105263157894736<br>metric Confirmed_diff_std = 66.42036055212907<br>metric Deaths_diff_mean = 0.7368421052631579<br>metric Deaths_diff_std = 1.5541437292452087<br>metric Recovered_diff_mean = 0.21052631578947367<br>metric Recovered_diff_std = 0.6220234955518095<br>metric stab_min_bound = 0.9843749962747097<br>metric stab_max_bound = 0.984375<br>metric log_stab_min_bound = 5.999999656034739<br>metric log_stab_max_bound = 6.0<br>metric lstab_min_bound = -2.0<br>\", \"PatternStructure 44<br><br>extent (len: 54): 23922, 23930, 23923, 23912, 2393...<br>intent (len: 8): C6_Stay at home requirements = 2....<br>new extent (len: 0): \\u2205<br>new_intent (len: 1): C6_Stay at home requirements<br>metric Confirmed_diff_mean = 23227.666666666668<br>metric Confirmed_diff_std = 9943.961286905318<br>metric Deaths_diff_mean = 1400.037037037037<br>metric Deaths_diff_std = 850.8026834404942<br>metric Recovered_diff_mean = 3611.5555555555557<br>metric Recovered_diff_std = 5406.051122782541<br>metric stab_min_bound = 0.7499999999999964<br>metric stab_max_bound = 0.75<br>metric log_stab_min_bound = 1.9999999999999796<br>metric log_stab_max_bound = 2.0<br>metric lstab_min_bound = -6.0<br>\", \"PatternStructure 36<br><br>extent (len: 42): 23840, 23846, 23858, 23866, 2383...<br>intent (len: 8): C3_Cancel public events in [0.0, ...<br>new extent (len: 0): \\u2205<br>new_intent (len: 1): C1_School closing<br>metric Confirmed_diff_mean = 3.5238095238095237<br>metric Confirmed_diff_std = 8.384765788541<br>metric Deaths_diff_mean = 0.2619047619047619<br>metric Deaths_diff_std = 0.9891983403555311<br>metric Recovered_diff_mean = 0.16666666666666666<br>metric Recovered_diff_std = 0.580860029597269<br>metric stab_min_bound = 0.8740234375<br>metric stab_max_bound = 0.875<br>metric log_stab_min_bound = 2.988772744576746<br>metric log_stab_max_bound = 3.0<br>metric lstab_min_bound = -5.0<br>\", \"PatternStructure 57<br><br>extent (len: 4): 23878, 23880, 23879, 23877<br>intent (len: 8): C6_Stay at home requirements = 0....<br>new extent (len: 0): \\u2205<br>new_intent (len: 0): \\u2205<br>metric Confirmed_diff_mean = 20.25<br>metric Confirmed_diff_std = 10.53169818531972<br>metric Deaths_diff_mean = 2.5<br>metric Deaths_diff_std = 2.3804761428476167<br>metric Recovered_diff_mean = 0.0<br>metric Recovered_diff_std = 0.0<br>metric stab_min_bound = 0.375<br>metric stab_max_bound = 0.5<br>metric log_stab_min_bound = 0.6780719051126376<br>metric log_stab_max_bound = 1.0<br>metric lstab_min_bound = -7.0<br>\", \"PatternStructure 56<br><br>extent (len: 29): 23858, 23866, 23870, 23865, 2385...<br>intent (len: 8): C3_Cancel public events in [0.0, ...<br>new extent (len: 0): \\u2205<br>new_intent (len: 1): C8_International travel contr...<br>metric Confirmed_diff_mean = 2.2758620689655173<br>metric Confirmed_diff_std = 6.818549027281277<br>metric Deaths_diff_mean = 0.034482758620689655<br>metric Deaths_diff_std = 0.1856953381770519<br>metric Recovered_diff_mean = 0.2413793103448276<br>metric Recovered_diff_std = 0.6894704186026248<br>metric stab_min_bound = 0.4999999962747097<br>metric stab_max_bound = 0.5<br>metric log_stab_min_bound = 0.9999999892510844<br>metric log_stab_max_bound = 1.0<br>metric lstab_min_bound = -7.0<br>\", \"PatternStructure 15<br><br>extent (len: 51): 23840, 23846, 23858, 23866, 2383...<br>intent (len: 8): C3_Cancel public events in [0.0, ...<br>new extent (len: 0): \\u2205<br>new_intent (len: 1): C7_Restrictions on internal m...<br>metric Confirmed_diff_mean = 42.745098039215684<br>metric Confirmed_diff_std = 110.31424987502837<br>metric Deaths_diff_mean = 0.9803921568627451<br>metric Deaths_diff_std = 2.1212279092868016<br>metric Recovered_diff_mean = 0.23529411764705882<br>metric Recovered_diff_std = 0.7638909685057851<br>metric stab_min_bound = 0.7490234375<br>metric stab_max_bound = 0.75<br>metric log_stab_min_bound = 1.994375450806122<br>metric log_stab_max_bound = 2.0<br>metric lstab_min_bound = -6.0<br>\", \"PatternStructure 45<br><br>extent (len: 39): 23840, 23846, 23858, 23866, 2383...<br>intent (len: 8): C3_Cancel public events in [0.0, ...<br>new extent (len: 0): \\u2205<br>new_intent (len: 1): C8_International travel contr...<br>metric Confirmed_diff_mean = 1.8717948717948718<br>metric Confirmed_diff_std = 5.916878120568078<br>metric Deaths_diff_mean = 0.02564102564102564<br>metric Deaths_diff_std = 0.16012815380508713<br>metric Recovered_diff_mean = 0.1794871794871795<br>metric Recovered_diff_std = 0.6013928951234733<br>metric stab_min_bound = 0.4990234375<br>metric stab_max_bound = 0.5<br>metric log_stab_min_bound = 0.997184984392946<br>metric log_stab_max_bound = 1.0<br>metric lstab_min_bound = -7.0<br>\", \"PatternStructure 39<br><br>extent (len: 12): 23878, 23879, 23888, 23881, 2388...<br>intent (len: 8): C6_Stay at home requirements = 0....<br>new extent (len: 0): \\u2205<br>new_intent (len: 0): \\u2205<br>metric Confirmed_diff_mean = 175.58333333333334<br>metric Confirmed_diff_std = 173.26409602019964<br>metric Deaths_diff_mean = 4.083333333333333<br>metric Deaths_diff_std = 2.5746432527221863<br>metric Recovered_diff_mean = 0.4166666666666667<br>metric Recovered_diff_std = 1.164500152881315<br>metric stab_min_bound = 0.625<br>metric stab_max_bound = 0.75<br>metric log_stab_min_bound = 1.415037499278844<br>metric log_stab_max_bound = 2.0<br>metric lstab_min_bound = -6.0<br>\", \"PatternStructure 67<br><br>extent (len: 28): 23858, 23866, 23870, 23865, 2385...<br>intent (len: 8): C6_Stay at home requirements = 0....<br>new extent (len: 28): 23858, 23866, 23870, 23865, ...<br>new_intent (len: 0): \\u2205<br>metric Confirmed_diff_mean = 2.142857142857143<br>metric Confirmed_diff_std = 6.905254498028271<br>metric Deaths_diff_mean = 0.03571428571428571<br>metric Deaths_diff_std = 0.18898223650461363<br>metric Recovered_diff_mean = 0.25<br>metric Recovered_diff_std = 0.700528900717694<br>metric stab_min_bound = 0.9999999962747097<br>metric stab_max_bound = 0.9999999962747097<br>metric log_stab_min_bound = 28.0<br>metric log_stab_max_bound = 28.0<br>metric lstab_min_bound = 20.0<br>\", \"PatternStructure 24<br><br>extent (len: 15): 23878, 23879, 23888, 23881, 2388...<br>intent (len: 8): C7_Restrictions on internal movem...<br>new extent (len: 0): \\u2205<br>new_intent (len: 0): \\u2205<br>metric Confirmed_diff_mean = 305.8<br>metric Confirmed_diff_std = 328.92165806291496<br>metric Deaths_diff_mean = 6.6<br>metric Deaths_diff_std = 6.500549427328651<br>metric Recovered_diff_mean = 0.6666666666666666<br>metric Recovered_diff_std = 1.5886502207249786<br>metric stab_min_bound = 0.625<br>metric stab_max_bound = 0.75<br>metric log_stab_min_bound = 1.415037499278844<br>metric log_stab_max_bound = 2.0<br>metric lstab_min_bound = -6.0<br>\", \"PatternStructure 43<br><br>extent (len: 7): 23891, 23894, 23892, 23893, 23890...<br>intent (len: 8): C6_Stay at home requirements in [...<br>new extent (len: 0): \\u2205<br>new_intent (len: 0): \\u2205<br>metric Confirmed_diff_mean = 2441.8571428571427<br>metric Confirmed_diff_std = 2294.2243009037156<br>metric Deaths_diff_mean = 42.857142857142854<br>metric Deaths_diff_std = 34.99727880578037<br>metric Recovered_diff_mean = 19.285714285714285<br>metric Recovered_diff_std = 31.878489538215188<br>metric stab_min_bound = 0.25<br>metric stab_max_bound = 0.5<br>metric log_stab_min_bound = 0.4150374992788438<br>metric log_stab_max_bound = 1.0<br>metric lstab_min_bound = -7.0<br>\", \"PatternStructure 42<br><br>extent (len: 7): 23888, 23889, 23891, 23894, 23892...<br>intent (len: 8): C6_Stay at home requirements in [...<br>new extent (len: 0): \\u2205<br>new_intent (len: 0): \\u2205<br>metric Confirmed_diff_mean = 928.0<br>metric Confirmed_diff_std = 509.82382578037027<br>metric Deaths_diff_mean = 18.428571428571427<br>metric Deaths_diff_std = 11.631238725334216<br>metric Recovered_diff_mean = 13.857142857142858<br>metric Recovered_diff_std = 32.76394650337762<br>metric stab_min_bound = 0.5<br>metric stab_max_bound = 0.75<br>metric log_stab_min_bound = 1.0<br>metric log_stab_max_bound = 2.0<br>metric lstab_min_bound = -6.0<br>\", \"PatternStructure 68<br><br>extent (len: 1): 23877<br>intent (len: 8): C6_Stay at home requirements = 0....<br>new extent (len: 1): 23877<br>new_intent (len: 0): \\u2205<br>metric Confirmed_diff_mean = 6.0<br>metric Confirmed_diff_std = nan<br>metric Deaths_diff_mean = 0.0<br>metric Deaths_diff_std = nan<br>metric Recovered_diff_mean = 0.0<br>metric Recovered_diff_std = nan<br>metric stab_min_bound = 0.5<br>metric stab_max_bound = 0.5<br>metric log_stab_min_bound = 1.0<br>metric log_stab_max_bound = 1.0<br>metric lstab_min_bound = -7.0<br>\", \"PatternStructure 17<br><br>extent (len: 16): 23878, 23879, 23888, 23881, 2388...<br>intent (len: 8): C7_Restrictions on internal movem...<br>new extent (len: 0): \\u2205<br>new_intent (len: 0): \\u2205<br>metric Confirmed_diff_mean = 287.0625<br>metric Confirmed_diff_std = 326.4878698614493<br>metric Deaths_diff_mean = 6.1875<br>metric Deaths_diff_std = 6.493265742290238<br>metric Recovered_diff_mean = 0.625<br>metric Recovered_diff_std = 1.5438048235879214<br>metric stab_min_bound = 0.25<br>metric stab_max_bound = 0.5<br>metric log_stab_min_bound = 0.4150374992788438<br>metric log_stab_max_bound = 1.0<br>metric lstab_min_bound = -7.0<br>\", \"PatternStructure 31<br><br>extent (len: 13): 23878, 23879, 23888, 23881, 2388...<br>intent (len: 8): C7_Restrictions on internal movem...<br>new extent (len: 0): \\u2205<br>new_intent (len: 0): \\u2205<br>metric Confirmed_diff_mean = 204.23076923076923<br>metric Confirmed_diff_std = 195.41628806480188<br>metric Deaths_diff_mean = 4.538461538461538<br>metric Deaths_diff_std = 2.9612887007569473<br>metric Recovered_diff_mean = 0.38461538461538464<br>metric Recovered_diff_std = 1.12089707663561<br>metric stab_min_bound = 0.375<br>metric stab_max_bound = 0.5<br>metric log_stab_min_bound = 0.6780719051126376<br>metric log_stab_max_bound = 1.0<br>metric lstab_min_bound = -7.0<br>\", \"PatternStructure 65<br><br>extent (len: 50): 23922, 23930, 23923, 23912, 2393...<br>intent (len: 8): C2_Workplace closing = 3.0, C6_St...<br>new extent (len: 0): \\u2205<br>new_intent (len: 2): C7_Restrictions on internal m...<br>metric Confirmed_diff_mean = 24984.84<br>metric Confirmed_diff_std = 8025.596117118158<br>metric Deaths_diff_mean = 1509.94<br>metric Deaths_diff_std = 785.2144750555319<br>metric Recovered_diff_mean = 3898.62<br>metric Recovered_diff_std = 5520.492343061072<br>metric stab_min_bound = 0.7499999999999964<br>metric stab_max_bound = 0.75<br>metric log_stab_min_bound = 1.9999999999999796<br>metric log_stab_max_bound = 2.0<br>metric lstab_min_bound = -6.0<br>\", \"PatternStructure 41<br><br>extent (len: 6): 23888, 23889, 23891, 23892, 23890...<br>intent (len: 8): C4_Restrictions on gatherings in ...<br>new extent (len: 0): \\u2205<br>new_intent (len: 0): \\u2205<br>metric Confirmed_diff_mean = 616.5<br>metric Confirmed_diff_std = 300.3975698969617<br>metric Deaths_diff_mean = 12.0<br>metric Deaths_diff_std = 7.37563556583431<br>metric Recovered_diff_mean = 1.5<br>metric Recovered_diff_std = 2.345207879911715<br>metric stab_min_bound = 0.25<br>metric stab_max_bound = 0.5<br>metric log_stab_min_bound = 0.4150374992788438<br>metric log_stab_max_bound = 1.0<br>metric lstab_min_bound = -7.0<br>\", \"PatternStructure 69<br><br>extent (len: 3): 23878, 23880, 23879<br>intent (len: 8): C6_Stay at home requirements = 0....<br>new extent (len: 3): 23878, 23880, 23879<br>new_intent (len: 0): \\u2205<br>metric Confirmed_diff_mean = 25.0<br>metric Confirmed_diff_std = 5.5677643628300215<br>metric Deaths_diff_mean = 3.3333333333333335<br>metric Deaths_diff_std = 2.081665999466133<br>metric Recovered_diff_mean = 0.0<br>metric Recovered_diff_std = 0.0<br>metric stab_min_bound = 0.875<br>metric stab_max_bound = 0.875<br>metric log_stab_min_bound = 3.0<br>metric log_stab_max_bound = 3.0<br>metric lstab_min_bound = -5.0<br>\", \"PatternStructure 5<br><br>extent (len: 68): 23922, 23930, 23923, 23912, 2393...<br>intent (len: 8): C6_Stay at home requirements in [...<br>new extent (len: 0): \\u2205<br>new_intent (len: 1): C3_Cancel public events<br>metric Confirmed_diff_mean = 18484.632352941175<br>metric Confirmed_diff_std = 12895.526122159417<br>metric Deaths_diff_mean = 1112.6617647058824<br>metric Deaths_diff_std = 946.5233100281737<br>metric Recovered_diff_mean = 2868.073529411765<br>metric Recovered_diff_std = 5028.171559654534<br>metric stab_min_bound = 0.49999999999999645<br>metric stab_max_bound = 0.5<br>metric log_stab_min_bound = 0.9999999999999898<br>metric log_stab_max_bound = 1.0<br>metric lstab_min_bound = -7.0<br>\", \"PatternStructure 64<br><br>extent (len: 4): 23894, 23895, 23893, 23896<br>intent (len: 8): C6_Stay at home requirements = 2....<br>new extent (len: 0): \\u2205<br>new_intent (len: 0): \\u2205<br>metric Confirmed_diff_mean = 3653.25<br>metric Confirmed_diff_std = 2430.180703157689<br>metric Deaths_diff_mean = 62.5<br>metric Deaths_diff_std = 34.68429039204925<br>metric Recovered_diff_mean = 32.5<br>metric Recovered_diff_std = 38.518393874442204<br>metric stab_min_bound = 0.5<br>metric stab_max_bound = 0.75<br>metric log_stab_min_bound = 1.0<br>metric log_stab_max_bound = 2.0<br>metric lstab_min_bound = -6.0<br>\", \"PatternStructure 8<br><br>extent (len: 20): 23886, 23878, 23879, 23889, 2388...<br>intent (len: 8): C6_Stay at home requirements in [...<br>new extent (len: 0): \\u2205<br>new_intent (len: 0): \\u2205<br>metric Confirmed_diff_mean = 960.3<br>metric Confirmed_diff_std = 1710.2808048910995<br>metric Deaths_diff_mean = 17.45<br>metric Deaths_diff_std = 27.51932335459462<br>metric Recovered_diff_mean = 7.0<br>metric Recovered_diff_std = 20.180762074181857<br>metric stab_min_bound = 0.25<br>metric stab_max_bound = 0.5<br>metric log_stab_min_bound = 0.4150374992788438<br>metric log_stab_max_bound = 1.0<br>metric lstab_min_bound = -7.0<br>\", \"PatternStructure 23<br><br>extent (len: 14): 23878, 23879, 23888, 23881, 2388...<br>intent (len: 8): C7_Restrictions on internal movem...<br>new extent (len: 0): \\u2205<br>new_intent (len: 0): \\u2205<br>metric Confirmed_diff_mean = 190.07142857142858<br>metric Confirmed_diff_std = 195.08162563229953<br>metric Deaths_diff_mean = 4.214285714285714<br>metric Deaths_diff_std = 3.092884424923451<br>metric Recovered_diff_mean = 0.35714285714285715<br>metric Recovered_diff_std = 1.0818177620697813<br>metric stab_min_bound = 0.0<br>metric stab_max_bound = 0.5<br>metric log_stab_min_bound = -0.0<br>metric log_stab_max_bound = 1.0<br>metric lstab_min_bound = -7.0<br>\", \"PatternStructure 0<br><br>extent (len: 106): 23930, 23934, 23866, 23870, 239...<br>intent (len: 8): C3_Cancel public events in [0.0, ...<br>new extent (len: 0): \\u2205<br>new_intent (len: 8): C7_Restrictions on internal m...<br>metric Confirmed_diff_mean = 11858.698113207547<br>metric Confirmed_diff_std = 13617.022213580298<br>metric Deaths_diff_mean = 713.7924528301887<br>metric Deaths_diff_std = 926.8680772927734<br>metric Recovered_diff_mean = 1839.9622641509434<br>metric Recovered_diff_std = 4247.606346491271<br>metric stab_min_bound = 0.9990234374999964<br>metric stab_max_bound = 0.9990234375<br>metric log_stab_min_bound = 9.99999999999475<br>metric log_stab_max_bound = 10.0<br>metric lstab_min_bound = 2.0<br>\", \"PatternStructure 22<br><br>extent (len: 41): 23858, 23866, 23870, 23865, 2385...<br>intent (len: 8): C3_Cancel public events in [0.0, ...<br>new extent (len: 0): \\u2205<br>new_intent (len: 0): \\u2205<br>metric Confirmed_diff_mean = 53.0<br>metric Confirmed_diff_std = 121.08488757892125<br>metric Deaths_diff_mean = 1.2195121951219512<br>metric Deaths_diff_std = 2.3077282673871204<br>metric Recovered_diff_mean = 0.2926829268292683<br>metric Recovered_diff_std = 0.8439165373135065<br>metric stab_min_bound = 0.7499999962747097<br>metric stab_max_bound = 0.75<br>metric log_stab_min_bound = 1.9999999785021687<br>metric log_stab_max_bound = 2.0<br>metric lstab_min_bound = -6.0<br>\", \"PatternStructure 63<br><br>extent (len: 4): 23891, 23894, 23893, 23892<br>intent (len: 8): C6_Stay at home requirements = 2....<br>new extent (len: 0): \\u2205<br>new_intent (len: 0): \\u2205<br>metric Confirmed_diff_mean = 1263.0<br>metric Confirmed_diff_std = 406.9029368289199<br>metric Deaths_diff_mean = 26.25<br>metric Deaths_diff_std = 8.80814017448254<br>metric Recovered_diff_mean = 23.25<br>metric Recovered_diff_std = 43.23096883793685<br>metric stab_min_bound = 0.5<br>metric stab_max_bound = 0.75<br>metric log_stab_min_bound = 1.0<br>metric log_stab_max_bound = 2.0<br>metric lstab_min_bound = -6.0<br>\", \"PatternStructure 1<br><br>extent (len: 58): 23840, 23846, 23858, 23866, 2383...<br>intent (len: 8): C3_Cancel public events in [0.0, ...<br>new extent (len: 0): \\u2205<br>new_intent (len: 1): C4_Restrictions on gatherings<br>metric Confirmed_diff_mean = 332.2931034482759<br>metric Confirmed_diff_std = 1089.155604184747<br>metric Deaths_diff_mean = 6.0344827586206895<br>metric Deaths_diff_std = 17.95116720755875<br>metric Recovered_diff_mean = 2.5344827586206895<br>metric Recovered_diff_std = 12.110913618515166<br>metric stab_min_bound = 0.7490234375<br>metric stab_max_bound = 0.75<br>metric log_stab_min_bound = 1.994375450806122<br>metric log_stab_max_bound = 2.0<br>metric lstab_min_bound = -6.0<br>\", \"PatternStructure 29<br><br>extent (len: 39): 23858, 23866, 23870, 23865, 2385...<br>intent (len: 8): C3_Cancel public events in [0.0, ...<br>new extent (len: 0): \\u2205<br>new_intent (len: 0): \\u2205<br>metric Confirmed_diff_mean = 32.743589743589745<br>metric Confirmed_diff_std = 81.06161332712101<br>metric Deaths_diff_mean = 0.9230769230769231<br>metric Deaths_diff_std = 1.9246956749822937<br>metric Recovered_diff_mean = 0.20512820512820512<br>metric Recovered_diff_std = 0.6147094812094568<br>metric stab_min_bound = 0.4999999962747097<br>metric stab_max_bound = 0.5<br>metric log_stab_min_bound = 0.9999999892510844<br>metric log_stab_max_bound = 1.0<br>metric lstab_min_bound = -7.0<br>\", \"PatternStructure 70<br><br>extent (len: 6): 23881, 23882, 23885, 23884, 23883...<br>intent (len: 8): C6_Stay at home requirements = 0....<br>new extent (len: 6): 23881, 23882, 23885, 23884, 2...<br>new_intent (len: 0): \\u2205<br>metric Confirmed_diff_mean = 135.5<br>metric Confirmed_diff_std = 121.35196743357727<br>metric Deaths_diff_mean = 2.8333333333333335<br>metric Deaths_diff_std = 1.9407902170679516<br>metric Recovered_diff_mean = 0.16666666666666666<br>metric Recovered_diff_std = 0.408248290463863<br>metric stab_min_bound = 0.984375<br>metric stab_max_bound = 0.984375<br>metric log_stab_min_bound = 6.0<br>metric log_stab_max_bound = 6.0<br>metric lstab_min_bound = -2.0<br>\", \"PatternStructure 9<br><br>extent (len: 67): 23922, 23930, 23923, 23912, 2393...<br>intent (len: 8): C6_Stay at home requirements in [...<br>new extent (len: 0): \\u2205<br>new_intent (len: 1): C8_International travel contr...<br>metric Confirmed_diff_mean = 18760.432835820895<br>metric Confirmed_diff_std = 12789.189046273797<br>metric Deaths_diff_mean = 1129.2686567164178<br>metric Deaths_diff_std = 943.6328347031945<br>metric Recovered_diff_mean = 2910.8805970149256<br>metric Recovered_diff_std = 5053.620812730239<br>metric stab_min_bound = 0.8749999999999964<br>metric stab_max_bound = 0.875<br>metric log_stab_min_bound = 2.999999999999959<br>metric log_stab_max_bound = 3.0<br>metric lstab_min_bound = -5.0<br>\", \"PatternStructure 25<br><br>extent (len: 14): 23888, 23881, 23889, 23882, 2389...<br>intent (len: 8): C7_Restrictions on internal movem...<br>new extent (len: 0): \\u2205<br>new_intent (len: 0): \\u2205<br>metric Confirmed_diff_mean = 545.1428571428571<br>metric Confirmed_diff_std = 534.602779517776<br>metric Deaths_diff_mean = 11.0<br>metric Deaths_diff_std = 11.183779462995641<br>metric Recovered_diff_mean = 7.0<br>metric Recovered_diff_std = 23.36993466302048<br>metric stab_min_bound = 0.734375<br>metric stab_max_bound = 0.75<br>metric log_stab_min_bound = 1.9125371587496607<br>metric log_stab_max_bound = 2.0<br>metric lstab_min_bound = -6.0<br>\", \"PatternStructure 27<br><br>extent (len: 57): 23922, 23930, 23923, 23912, 2393...<br>intent (len: 8): C6_Stay at home requirements in [...<br>new extent (len: 0): \\u2205<br>new_intent (len: 2): C4_Restrictions on gatherings...<br>metric Confirmed_diff_mean = 22030.491228070176<br>metric Confirmed_diff_std = 10947.336406507435<br>metric Deaths_diff_mean = 1326.7719298245613<br>metric Deaths_diff_std = 885.1170426548091<br>metric Recovered_diff_mean = 3421.5438596491226<br>metric Recovered_diff_std = 5321.769264976558<br>metric stab_min_bound = 0.7499999999999964<br>metric stab_max_bound = 0.75<br>metric log_stab_min_bound = 1.9999999999999796<br>metric log_stab_max_bound = 2.0<br>metric lstab_min_bound = -6.0<br>\", \"PatternStructure 26<br><br>extent (len: 10): 23888, 23889, 23891, 23894, 2389...<br>intent (len: 8): C4_Restrictions on gatherings in ...<br>new extent (len: 0): \\u2205<br>new_intent (len: 1): C4_Restrictions on gatherings<br>metric Confirmed_diff_mean = 1831.2<br>metric Confirmed_diff_std = 2116.1014888495097<br>metric Deaths_diff_mean = 32.2<br>metric Deaths_diff_std = 33.335999893341864<br>metric Recovered_diff_mean = 13.9<br>metric Recovered_diff_std = 27.45683480989347<br>metric stab_min_bound = 0.25<br>metric stab_max_bound = 0.5<br>metric log_stab_min_bound = 0.4150374992788438<br>metric log_stab_max_bound = 1.0<br>metric lstab_min_bound = -7.0<br>\", \"PatternStructure 20<br><br>extent (len: 58): 23922, 23930, 23923, 23912, 2393...<br>intent (len: 8): C6_Stay at home requirements in [...<br>new extent (len: 0): \\u2205<br>new_intent (len: 1): C4_Restrictions on gatherings<br>metric Confirmed_diff_mean = 21656.224137931036<br>metric Confirmed_diff_std = 11219.003725732675<br>metric Deaths_diff_mean = 1304.0344827586207<br>metric Deaths_diff_std = 894.2445202225024<br>metric Recovered_diff_mean = 3362.551724137931<br>metric Recovered_diff_std = 5293.9785263664<br>metric stab_min_bound = 0.49999999999999645<br>metric stab_max_bound = 0.5<br>metric log_stab_min_bound = 0.9999999999999898<br>metric log_stab_max_bound = 1.0<br>metric lstab_min_bound = -7.0<br>\", \"PatternStructure 32<br><br>extent (len: 12): 23888, 23881, 23889, 23882, 2389...<br>intent (len: 8): C7_Restrictions on internal movem...<br>new extent (len: 0): \\u2205<br>new_intent (len: 0): \\u2205<br>metric Confirmed_diff_mean = 376.0<br>metric Confirmed_diff_std = 332.8810871494777<br>metric Deaths_diff_mean = 7.416666666666667<br>metric Deaths_diff_std = 7.025386865223908<br>metric Recovered_diff_mean = 0.8333333333333334<br>metric Recovered_diff_std = 1.7494587907710375<br>metric stab_min_bound = 0.734375<br>metric stab_max_bound = 0.75<br>metric log_stab_min_bound = 1.9125371587496607<br>metric log_stab_max_bound = 2.0<br>metric lstab_min_bound = -6.0<br>\", \"PatternStructure 28<br><br>extent (len: 48): 23840, 23846, 23858, 23866, 2383...<br>intent (len: 8): C3_Cancel public events in [0.0, ...<br>new extent (len: 0): \\u2205<br>new_intent (len: 1): C4_Restrictions on gatherings<br>metric Confirmed_diff_mean = 20.020833333333332<br>metric Confirmed_diff_std = 59.77919996308876<br>metric Deaths_diff_mean = 0.5833333333333334<br>metric Deaths_diff_std = 1.4117038646325368<br>metric Recovered_diff_mean = 0.16666666666666666<br>metric Recovered_diff_std = 0.5586203877309286<br>metric stab_min_bound = 0.9833984375<br>metric stab_max_bound = 0.984375<br>metric log_stab_min_bound = 5.912537158749661<br>metric log_stab_max_bound = 6.0<br>metric lstab_min_bound = -2.0<br>\", \"PatternStructure 19<br><br>extent (len: 16): 23888, 23881, 23889, 23882, 2389...<br>intent (len: 8): C6_Stay at home requirements in [...<br>new extent (len: 0): \\u2205<br>new_intent (len: 0): \\u2205<br>metric Confirmed_diff_mean = 1195.3125<br>metric Confirmed_diff_std = 1846.7511190827347<br>metric Deaths_diff_mean = 21.1875<br>metric Deaths_diff_std = 29.725900603121627<br>metric Recovered_diff_mean = 8.75<br>metric Recovered_diff_std = 22.350242355136405<br>metric stab_min_bound = 0.734375<br>metric stab_max_bound = 0.75<br>metric log_stab_min_bound = 1.9125371587496607<br>metric log_stab_max_bound = 2.0<br>metric lstab_min_bound = -6.0<br>\", \"PatternStructure 7<br><br>extent (len: 46): 23858, 23866, 23870, 23865, 2385...<br>intent (len: 8): C7_Restrictions on internal movem...<br>new extent (len: 0): \\u2205<br>new_intent (len: 0): \\u2205<br>metric Confirmed_diff_mean = 168.97826086956522<br>metric Confirmed_diff_std = 381.97885276720837<br>metric Deaths_diff_mean = 3.5869565217391304<br>metric Deaths_diff_std = 7.847366400282955<br>metric Recovered_diff_mean = 2.282608695652174<br>metric Recovered_diff_std = 12.962618122857505<br>metric stab_min_bound = 0.7499999962747097<br>metric stab_max_bound = 0.75<br>metric log_stab_min_bound = 1.9999999785021687<br>metric log_stab_max_bound = 2.0<br>metric lstab_min_bound = -6.0<br>\", \"PatternStructure 18<br><br>extent (len: 17): 23878, 23879, 23888, 23881, 2388...<br>intent (len: 8): C7_Restrictions on internal movem...<br>new extent (len: 0): \\u2205<br>new_intent (len: 0): \\u2205<br>metric Confirmed_diff_mean = 453.3529411764706<br>metric Confirmed_diff_std = 523.4428026509285<br>metric Deaths_diff_mean = 9.647058823529411<br>metric Deaths_diff_std = 10.547162986264293<br>metric Recovered_diff_mean = 5.764705882352941<br>metric Recovered_diff_std = 21.244203361636988<br>metric stab_min_bound = 0.625<br>metric stab_max_bound = 0.75<br>metric log_stab_min_bound = 1.415037499278844<br>metric log_stab_max_bound = 2.0<br>metric lstab_min_bound = -6.0<br>\", \"PatternStructure 21<br><br>extent (len: 49): 23840, 23846, 23858, 23866, 2383...<br>intent (len: 8): C3_Cancel public events in [0.0, ...<br>new extent (len: 0): \\u2205<br>new_intent (len: 2): C4_Restrictions on gatherings...<br>metric Confirmed_diff_mean = 26.20408163265306<br>metric Confirmed_diff_std = 73.2973338509653<br>metric Deaths_diff_mean = 0.7346938775510204<br>metric Deaths_diff_std = 1.7532768155190825<br>metric Recovered_diff_mean = 0.16326530612244897<br>metric Recovered_diff_std = 0.5532833351724877<br>metric stab_min_bound = 0.4990234375<br>metric stab_max_bound = 0.5<br>metric log_stab_min_bound = 0.997184984392946<br>metric log_stab_max_bound = 1.0<br>metric lstab_min_bound = -7.0<br>\", \"PatternStructure 30<br><br>extent (len: 13): 23878, 23879, 23888, 23881, 2388...<br>intent (len: 8): C6_Stay at home requirements = 0....<br>new extent (len: 0): \\u2205<br>new_intent (len: 0): \\u2205<br>metric Confirmed_diff_mean = 162.53846153846155<br>metric Confirmed_diff_std = 172.4266101778838<br>metric Deaths_diff_mean = 3.769230769230769<br>metric Deaths_diff_std = 2.7127429585153027<br>metric Recovered_diff_mean = 0.38461538461538464<br>metric Recovered_diff_std = 1.12089707663561<br>metric stab_min_bound = 0.25<br>metric stab_max_bound = 0.5<br>metric log_stab_min_bound = 0.4150374992788438<br>metric log_stab_max_bound = 1.0<br>metric lstab_min_bound = -7.0<br>\", \"PatternStructure 78<br><br>extent (len: 0): \\u2205<br>intent (len: 0): \\u2205<br>new extent (len: 0): \\u2205<br>new_intent (len: 0): \\u2205<br>metric Confirmed_diff_mean = nan<br>metric Confirmed_diff_std = nan<br>metric Deaths_diff_mean = nan<br>metric Deaths_diff_std = nan<br>metric Recovered_diff_mean = nan<br>metric Recovered_diff_std = nan<br>metric stab_min_bound = None<br>metric stab_max_bound = None<br>metric log_stab_min_bound = None<br>metric log_stab_max_bound = None<br>metric lstab_min_bound = None<br>\"], \"marker\": {\"color\": [93.33809511662427, 129.76864202298137, 2340.7824973713386, null, 224.8599564173221, 141.90799762853666, 305.47012947258855, 311.8340905032675, 9087.191543226549, 289.00230679586855, 7123.428465450721, 1.0593499054713802, 5.956755014159955, 12403.7695540429, null, 124.67980809038225, 351.5801140897713, 173.01067725560884, 126.23034500467786, 110.74407433357327, 192.32668965995217, 108.44476320536032, 131.50755908022205, 87.68884383622203, 237.56292923946953, 9.448875594482129, 1187.5972099069295, 97.79740964531389, 10315.199635189068, 518.2103647582294, 518.6455493710063, 13733.115453705419, 2172.946201461151, 217.9095908796685, 106.74072949597699, 1741.9262762949481, 294.88251898001687, 475.8387331859398, 66.42036055212907, 9943.961286905318, 8.384765788541, 10.53169818531972, 6.818549027281277, 110.31424987502837, 5.916878120568078, 173.26409602019964, 6.905254498028271, 328.92165806291496, 2294.2243009037156, 509.82382578037027, null, 326.4878698614493, 195.41628806480188, 8025.596117118158, 300.3975698969617, 5.5677643628300215, 12895.526122159417, 2430.180703157689, 1710.2808048910995, 195.08162563229953, 13617.022213580298, 121.08488757892125, 406.9029368289199, 1089.155604184747, 81.06161332712101, 121.35196743357727, 12789.189046273797, 534.602779517776, 10947.336406507435, 2116.1014888495097, 11219.003725732675, 332.8810871494777, 59.77919996308876, 1846.7511190827347, 381.97885276720837, 523.4428026509285, 73.2973338509653, 172.4266101778838, null], \"colorbar\": {\"thickness\": 15, \"title\": {\"side\": \"right\", \"text\": \"y_mean\"}, \"xanchor\": \"left\"}, \"colorscale\": [[0.0, \"rgb(103,0,31)\"], [0.1, \"rgb(178,24,43)\"], [0.2, \"rgb(214,96,77)\"], [0.3, \"rgb(244,165,130)\"], [0.4, \"rgb(253,219,199)\"], [0.5, \"rgb(247,247,247)\"], [0.6, \"rgb(209,229,240)\"], [0.7, \"rgb(146,197,222)\"], [0.8, \"rgb(67,147,195)\"], [0.9, \"rgb(33,102,172)\"], [1.0, \"rgb(5,48,97)\"]], \"line\": {\"width\": 2}, \"reversescale\": true, \"showscale\": true, \"size\": 10}, \"mode\": \"markers+text\", \"text\": [\"<br>23888,23889\", \"C6_Stay at home requirements<br>\", \"<br>\", \"<br>23890\", \"<br>23891,23892\", \"<br>\", \"<br>23894,23893\", \"<br>23895,23896\", \"C5_Close public transport<br>\", \"<br>\", \"C4_Restrictions on gatherings<br>n: 48\", \"C8_International travel controls<br>n: 10\", \"C3_Cancel public events<br>\", \"C1_School closing<br>\", \"C4_Restrictions on gatherings<br>23887\", \"C3_Cancel public events<br>\", \"C7_Restrictions on internal movement,C2_Workplace closing<br>\", \"<br>\", \"<br>\", \"<br>\", \"<br>\", \"<br>\", \"<br>\", \"<br>\", \"<br>\", \"<br>\", \"<br>\", \"<br>\", \"C7_Restrictions on internal movement<br>\", \"<br>\", \"<br>\", \"C8_International travel controls<br>\", \"C4_Restrictions on gatherings<br>\", \"C5_Close public transport<br>\", \"<br>\", \"<br>\", \"<br>\", \"C7_Restrictions on internal movement<br>\", \"<br>\", \"C6_Stay at home requirements<br>\", \"C1_School closing<br>\", \"<br>\", \"C8_International travel controls<br>\", \"C7_Restrictions on internal movement<br>\", \"C8_International travel controls<br>\", \"<br>\", \"<br>n: 28\", \"<br>\", \"<br>\", \"<br>\", \"<br>23877\", \"<br>\", \"<br>\", \"C7_Restrictions on internal movement,C2_Workplace closing<br>\", \"<br>\", \"<br>23878,23880,23879\", \"C3_Cancel public events<br>\", \"<br>\", \"<br>\", \"<br>\", \"n: 8<br>\", \"<br>\", \"<br>\", \"C4_Restrictions on gatherings<br>\", \"<br>\", \"<br>n: 6\", \"C8_International travel controls<br>\", \"<br>\", \"C4_Restrictions on gatherings,C3_Cancel public events<br>\", \"C4_Restrictions on gatherings<br>\", \"C4_Restrictions on gatherings<br>\", \"<br>\", \"C4_Restrictions on gatherings<br>\", \"<br>\", \"<br>\", \"<br>\", \"C4_Restrictions on gatherings,C3_Cancel public events<br>\", \"<br>\", \"<br>\"], \"textposition\": \"middle right\", \"type\": \"scatter\", \"x\": [-5.5, -2.0, -4.5, -4.5, -3.5, -2.5, -2.5, -1.5, -3.5, -5.0, -0.5, 0.5, -4.0, -1.0, 1.5, -4.0, -1.0, -2.5, -1.5, -3.0, -3.0, -0.5, -2.0, -1.0, 0.0, 0.5, 0.0, 0.0, -3.5, -2.5, 1.0, -0.5, -1.5, -1.5, 1.5, 2.0, 2.5, 3.5, -2.0, -1.0, 0.0, 1.0, 2.0, -1.5, 4.5, 1.0, 2.5, -3.0, 2.0, 3.0, 3.5, -0.5, -0.5, 3.0, 4.0, 4.5, 1.0, 4.0, -0.5, -2.0, 0.0, -1.0, 5.0, 0.5, 0.5, 5.5, 0.5, 0.0, 1.0, 2.0, 0.5, 1.5, 2.5, 1.5, 1.5, 2.5, 3.0, 3.5, 0.0], \"y\": [2, 9, 4, 2, 2, 8, 2, 2, 4, 3, 2, 2, 3, 9, 2, 5, 11, 4, 4, 3, 5, 4, 3, 3, 9, 4, 11, 3, 6, 6, 9, 12, 6, 10, 4, 9, 4, 4, 5, 5, 5, 3, 3, 8, 4, 5, 2, 7, 5, 5, 2, 8, 6, 3, 5, 2, 11, 3, 10, 7, 13, 7, 3, 12, 6, 2, 10, 7, 7, 7, 8, 6, 6, 8, 10, 8, 7, 6, 1]}],\n",
       "                        {\"height\": 500, \"hovermode\": \"closest\", \"margin\": {\"b\": 20, \"l\": 5, \"r\": 5, \"t\": 40}, \"showlegend\": false, \"template\": {\"data\": {\"bar\": [{\"error_x\": {\"color\": \"#2a3f5f\"}, \"error_y\": {\"color\": \"#2a3f5f\"}, \"marker\": {\"line\": {\"color\": \"#E5ECF6\", \"width\": 0.5}}, \"type\": \"bar\"}], \"barpolar\": [{\"marker\": {\"line\": {\"color\": \"#E5ECF6\", \"width\": 0.5}}, \"type\": \"barpolar\"}], \"carpet\": [{\"aaxis\": {\"endlinecolor\": \"#2a3f5f\", \"gridcolor\": \"white\", \"linecolor\": \"white\", \"minorgridcolor\": \"white\", \"startlinecolor\": \"#2a3f5f\"}, \"baxis\": {\"endlinecolor\": \"#2a3f5f\", \"gridcolor\": \"white\", \"linecolor\": \"white\", \"minorgridcolor\": \"white\", \"startlinecolor\": \"#2a3f5f\"}, \"type\": \"carpet\"}], \"choropleth\": [{\"colorbar\": {\"outlinewidth\": 0, \"ticks\": \"\"}, \"type\": \"choropleth\"}], \"contour\": [{\"colorbar\": {\"outlinewidth\": 0, \"ticks\": \"\"}, \"colorscale\": [[0.0, \"#0d0887\"], [0.1111111111111111, \"#46039f\"], [0.2222222222222222, \"#7201a8\"], [0.3333333333333333, \"#9c179e\"], [0.4444444444444444, \"#bd3786\"], [0.5555555555555556, \"#d8576b\"], [0.6666666666666666, \"#ed7953\"], [0.7777777777777778, \"#fb9f3a\"], [0.8888888888888888, \"#fdca26\"], [1.0, \"#f0f921\"]], \"type\": \"contour\"}], \"contourcarpet\": [{\"colorbar\": {\"outlinewidth\": 0, \"ticks\": \"\"}, \"type\": \"contourcarpet\"}], \"heatmap\": [{\"colorbar\": {\"outlinewidth\": 0, \"ticks\": \"\"}, \"colorscale\": [[0.0, \"#0d0887\"], [0.1111111111111111, \"#46039f\"], [0.2222222222222222, \"#7201a8\"], [0.3333333333333333, \"#9c179e\"], [0.4444444444444444, \"#bd3786\"], [0.5555555555555556, \"#d8576b\"], [0.6666666666666666, \"#ed7953\"], [0.7777777777777778, \"#fb9f3a\"], [0.8888888888888888, \"#fdca26\"], [1.0, \"#f0f921\"]], \"type\": \"heatmap\"}], \"heatmapgl\": [{\"colorbar\": {\"outlinewidth\": 0, \"ticks\": \"\"}, \"colorscale\": [[0.0, \"#0d0887\"], [0.1111111111111111, \"#46039f\"], [0.2222222222222222, \"#7201a8\"], [0.3333333333333333, \"#9c179e\"], [0.4444444444444444, \"#bd3786\"], [0.5555555555555556, \"#d8576b\"], [0.6666666666666666, \"#ed7953\"], [0.7777777777777778, \"#fb9f3a\"], [0.8888888888888888, \"#fdca26\"], [1.0, \"#f0f921\"]], \"type\": \"heatmapgl\"}], \"histogram\": [{\"marker\": {\"colorbar\": {\"outlinewidth\": 0, \"ticks\": \"\"}}, \"type\": \"histogram\"}], \"histogram2d\": [{\"colorbar\": {\"outlinewidth\": 0, \"ticks\": \"\"}, \"colorscale\": [[0.0, \"#0d0887\"], [0.1111111111111111, \"#46039f\"], [0.2222222222222222, \"#7201a8\"], [0.3333333333333333, \"#9c179e\"], [0.4444444444444444, \"#bd3786\"], [0.5555555555555556, \"#d8576b\"], [0.6666666666666666, \"#ed7953\"], [0.7777777777777778, \"#fb9f3a\"], [0.8888888888888888, \"#fdca26\"], [1.0, \"#f0f921\"]], \"type\": \"histogram2d\"}], \"histogram2dcontour\": [{\"colorbar\": {\"outlinewidth\": 0, \"ticks\": \"\"}, \"colorscale\": [[0.0, \"#0d0887\"], [0.1111111111111111, \"#46039f\"], [0.2222222222222222, \"#7201a8\"], [0.3333333333333333, \"#9c179e\"], [0.4444444444444444, \"#bd3786\"], [0.5555555555555556, \"#d8576b\"], [0.6666666666666666, \"#ed7953\"], [0.7777777777777778, \"#fb9f3a\"], [0.8888888888888888, \"#fdca26\"], [1.0, \"#f0f921\"]], \"type\": \"histogram2dcontour\"}], \"mesh3d\": [{\"colorbar\": {\"outlinewidth\": 0, \"ticks\": \"\"}, \"type\": \"mesh3d\"}], \"parcoords\": [{\"line\": {\"colorbar\": {\"outlinewidth\": 0, \"ticks\": \"\"}}, \"type\": \"parcoords\"}], \"pie\": [{\"automargin\": true, \"type\": \"pie\"}], \"scatter\": [{\"marker\": {\"colorbar\": {\"outlinewidth\": 0, \"ticks\": \"\"}}, \"type\": \"scatter\"}], \"scatter3d\": [{\"line\": {\"colorbar\": {\"outlinewidth\": 0, \"ticks\": \"\"}}, \"marker\": {\"colorbar\": {\"outlinewidth\": 0, \"ticks\": \"\"}}, \"type\": \"scatter3d\"}], \"scattercarpet\": [{\"marker\": {\"colorbar\": {\"outlinewidth\": 0, \"ticks\": \"\"}}, \"type\": \"scattercarpet\"}], \"scattergeo\": [{\"marker\": {\"colorbar\": {\"outlinewidth\": 0, \"ticks\": \"\"}}, \"type\": \"scattergeo\"}], \"scattergl\": [{\"marker\": {\"colorbar\": {\"outlinewidth\": 0, \"ticks\": \"\"}}, \"type\": \"scattergl\"}], \"scattermapbox\": [{\"marker\": {\"colorbar\": {\"outlinewidth\": 0, \"ticks\": \"\"}}, \"type\": \"scattermapbox\"}], \"scatterpolar\": [{\"marker\": {\"colorbar\": {\"outlinewidth\": 0, \"ticks\": \"\"}}, \"type\": \"scatterpolar\"}], \"scatterpolargl\": [{\"marker\": {\"colorbar\": {\"outlinewidth\": 0, \"ticks\": \"\"}}, \"type\": \"scatterpolargl\"}], \"scatterternary\": [{\"marker\": {\"colorbar\": {\"outlinewidth\": 0, \"ticks\": \"\"}}, \"type\": \"scatterternary\"}], \"surface\": [{\"colorbar\": {\"outlinewidth\": 0, \"ticks\": \"\"}, \"colorscale\": [[0.0, \"#0d0887\"], [0.1111111111111111, \"#46039f\"], [0.2222222222222222, \"#7201a8\"], [0.3333333333333333, \"#9c179e\"], [0.4444444444444444, \"#bd3786\"], [0.5555555555555556, \"#d8576b\"], [0.6666666666666666, \"#ed7953\"], [0.7777777777777778, \"#fb9f3a\"], [0.8888888888888888, \"#fdca26\"], [1.0, \"#f0f921\"]], \"type\": \"surface\"}], \"table\": [{\"cells\": {\"fill\": {\"color\": \"#EBF0F8\"}, \"line\": {\"color\": \"white\"}}, \"header\": {\"fill\": {\"color\": \"#C8D4E3\"}, \"line\": {\"color\": \"white\"}}, \"type\": \"table\"}]}, \"layout\": {\"annotationdefaults\": {\"arrowcolor\": \"#2a3f5f\", \"arrowhead\": 0, \"arrowwidth\": 1}, \"coloraxis\": {\"colorbar\": {\"outlinewidth\": 0, \"ticks\": \"\"}}, \"colorscale\": {\"diverging\": [[0, \"#8e0152\"], [0.1, \"#c51b7d\"], [0.2, \"#de77ae\"], [0.3, \"#f1b6da\"], [0.4, \"#fde0ef\"], [0.5, \"#f7f7f7\"], [0.6, \"#e6f5d0\"], [0.7, \"#b8e186\"], [0.8, \"#7fbc41\"], [0.9, \"#4d9221\"], [1, \"#276419\"]], \"sequential\": [[0.0, \"#0d0887\"], [0.1111111111111111, \"#46039f\"], [0.2222222222222222, \"#7201a8\"], [0.3333333333333333, \"#9c179e\"], [0.4444444444444444, \"#bd3786\"], [0.5555555555555556, \"#d8576b\"], [0.6666666666666666, \"#ed7953\"], [0.7777777777777778, \"#fb9f3a\"], [0.8888888888888888, \"#fdca26\"], [1.0, \"#f0f921\"]], \"sequentialminus\": [[0.0, \"#0d0887\"], [0.1111111111111111, \"#46039f\"], [0.2222222222222222, \"#7201a8\"], [0.3333333333333333, \"#9c179e\"], [0.4444444444444444, \"#bd3786\"], [0.5555555555555556, \"#d8576b\"], [0.6666666666666666, \"#ed7953\"], [0.7777777777777778, \"#fb9f3a\"], [0.8888888888888888, \"#fdca26\"], [1.0, \"#f0f921\"]]}, \"colorway\": [\"#636efa\", \"#EF553B\", \"#00cc96\", \"#ab63fa\", \"#FFA15A\", \"#19d3f3\", \"#FF6692\", \"#B6E880\", \"#FF97FF\", \"#FECB52\"], \"font\": {\"color\": \"#2a3f5f\"}, \"geo\": {\"bgcolor\": \"white\", \"lakecolor\": \"white\", \"landcolor\": \"#E5ECF6\", \"showlakes\": true, \"showland\": true, \"subunitcolor\": \"white\"}, \"hoverlabel\": {\"align\": \"left\"}, \"hovermode\": \"closest\", \"mapbox\": {\"style\": \"light\"}, \"paper_bgcolor\": \"white\", \"plot_bgcolor\": \"#E5ECF6\", \"polar\": {\"angularaxis\": {\"gridcolor\": \"white\", \"linecolor\": \"white\", \"ticks\": \"\"}, \"bgcolor\": \"#E5ECF6\", \"radialaxis\": {\"gridcolor\": \"white\", \"linecolor\": \"white\", \"ticks\": \"\"}}, \"scene\": {\"xaxis\": {\"backgroundcolor\": \"#E5ECF6\", \"gridcolor\": \"white\", \"gridwidth\": 2, \"linecolor\": \"white\", \"showbackground\": true, \"ticks\": \"\", \"zerolinecolor\": \"white\"}, \"yaxis\": {\"backgroundcolor\": \"#E5ECF6\", \"gridcolor\": \"white\", \"gridwidth\": 2, \"linecolor\": \"white\", \"showbackground\": true, \"ticks\": \"\", \"zerolinecolor\": \"white\"}, \"zaxis\": {\"backgroundcolor\": \"#E5ECF6\", \"gridcolor\": \"white\", \"gridwidth\": 2, \"linecolor\": \"white\", \"showbackground\": true, \"ticks\": \"\", \"zerolinecolor\": \"white\"}}, \"shapedefaults\": {\"line\": {\"color\": \"#2a3f5f\"}}, \"ternary\": {\"aaxis\": {\"gridcolor\": \"white\", \"linecolor\": \"white\", \"ticks\": \"\"}, \"baxis\": {\"gridcolor\": \"white\", \"linecolor\": \"white\", \"ticks\": \"\"}, \"bgcolor\": \"#E5ECF6\", \"caxis\": {\"gridcolor\": \"white\", \"linecolor\": \"white\", \"ticks\": \"\"}}, \"title\": {\"x\": 0.05}, \"xaxis\": {\"automargin\": true, \"gridcolor\": \"white\", \"linecolor\": \"white\", \"ticks\": \"\", \"title\": {\"standoff\": 15}, \"zerolinecolor\": \"white\", \"zerolinewidth\": 2}, \"yaxis\": {\"automargin\": true, \"gridcolor\": \"white\", \"linecolor\": \"white\", \"ticks\": \"\", \"title\": {\"standoff\": 15}, \"zerolinecolor\": \"white\", \"zerolinewidth\": 2}}}, \"title\": {\"font\": {\"size\": 16}, \"text\": \"Concept Lattice\"}, \"width\": 1000, \"xaxis\": {\"showgrid\": false, \"showticklabels\": false, \"zeroline\": false}, \"yaxis\": {\"showgrid\": false, \"showticklabels\": false, \"zeroline\": false}},\n",
       "                        {\"responsive\": true}\n",
       "                    ).then(function(){\n",
       "                            \n",
       "var gd = document.getElementById('f12450e7-8db6-440a-803d-5c622bd609b1');\n",
       "var x = new MutationObserver(function (mutations, observer) {{\n",
       "        var display = window.getComputedStyle(gd).display;\n",
       "        if (!display || display === 'none') {{\n",
       "            console.log([gd, 'removed!']);\n",
       "            Plotly.purge(gd);\n",
       "            observer.disconnect();\n",
       "        }}\n",
       "}});\n",
       "\n",
       "// Listen for the removal of the full notebook cells\n",
       "var notebookContainer = gd.closest('#notebook-container');\n",
       "if (notebookContainer) {{\n",
       "    x.observe(notebookContainer, {childList: true});\n",
       "}}\n",
       "\n",
       "// Listen for the clearing of the current output cell\n",
       "var outputEl = gd.closest('.output');\n",
       "if (outputEl) {{\n",
       "    x.observe(outputEl, {childList: true});\n",
       "}}\n",
       "\n",
       "                        })\n",
       "                };\n",
       "                });\n",
       "            </script>\n",
       "        </div>"
      ]
     },
     "metadata": {},
     "output_type": "display_data"
    }
   ],
   "source": [
    "fig"
   ]
  },
  {
   "cell_type": "code",
   "execution_count": 504,
   "metadata": {},
   "outputs": [
    {
     "data": {
      "text/plain": [
       "49"
      ]
     },
     "execution_count": 504,
     "metadata": {},
     "output_type": "execute_result"
    }
   ],
   "source": [
    "stab_concepts = [c for c in fm.get_concepts() if c._metrics['stab_min_bound'] is None or c._metrics['stab_min_bound']>=0.5]\n",
    "len(stab_concepts)"
   ]
  },
  {
   "cell_type": "code",
   "execution_count": 505,
   "metadata": {},
   "outputs": [],
   "source": [
    "from copy import copy"
   ]
  },
  {
   "cell_type": "code",
   "execution_count": 506,
   "metadata": {},
   "outputs": [
    {
     "data": {
      "application/vnd.jupyter.widget-view+json": {
       "model_id": "be8f63bdecac405087bf5a8341108a8b",
       "version_major": 2,
       "version_minor": 0
      },
      "text/plain": [
       "HBox(children=(FloatProgress(value=0.0, description='construct lattice connections', max=49.0, style=ProgressS…"
      ]
     },
     "metadata": {},
     "output_type": "display_data"
    },
    {
     "name": "stdout",
     "output_type": "stream",
     "text": [
      "\n"
     ]
    },
    {
     "data": {
      "application/vnd.jupyter.widget-view+json": {
       "model_id": "f6d88674ed7e4d41a1223f6f6580e0e4",
       "version_major": 2,
       "version_minor": 0
      },
      "text/plain": [
       "HBox(children=(FloatProgress(value=0.0, max=49.0), HTML(value='')))"
      ]
     },
     "metadata": {},
     "output_type": "display_data"
    },
    {
     "name": "stdout",
     "output_type": "stream",
     "text": [
      "\n"
     ]
    }
   ],
   "source": [
    "fm_stab = fcai.FormalManager(mvcntx_train)\n",
    "fm_stab._concepts = [copy(c) for c in stab_concepts]\n",
    "for idx, c in enumerate(fm_stab.sort_concepts()):\n",
    "    c._idx = idx\n",
    "fm_stab.construct_lattice(use_tqdm=True)\n",
    "fm_stab.calc_stability_approx(use_tqdm=True)"
   ]
  },
  {
   "cell_type": "code",
   "execution_count": 507,
   "metadata": {},
   "outputs": [],
   "source": [
    "fig_stab = fm_stab.get_plotly_fig(color_by='Confirmed_diff_mean')"
   ]
  },
  {
   "cell_type": "code",
   "execution_count": 508,
   "metadata": {},
   "outputs": [
    {
     "data": {
      "application/vnd.plotly.v1+json": {
       "config": {
        "plotlyServerURL": "https://plot.ly"
       },
       "data": [
        {
         "hoverinfo": "none",
         "line": {
          "color": "#888",
          "width": 0.5
         },
         "mode": "lines",
         "type": "scatter",
         "x": [
          -5.5,
          0,
          null,
          -5.5,
          -2.5,
          null,
          -5.5,
          0.5,
          null,
          -3,
          3.5,
          null,
          -3,
          2.5,
          null,
          -3,
          -2.5,
          null,
          -3,
          -1.5,
          null,
          -4.5,
          0,
          null,
          -4.5,
          0.5,
          null,
          -3.5,
          0,
          null,
          -3.5,
          0.5,
          null,
          -3.5,
          3.5,
          null,
          -2.5,
          0,
          null,
          -2.5,
          2.5,
          null,
          -2.5,
          3.5,
          null,
          -1.5,
          0,
          null,
          -1.5,
          1.5,
          null,
          -1.5,
          2.5,
          null,
          -2,
          1.5,
          null,
          -2,
          2.5,
          null,
          -2,
          -1.5,
          null,
          -0.5,
          0,
          null,
          -0.5,
          1.5,
          null,
          0.5,
          0,
          null,
          0.5,
          -3.5,
          null,
          -3.5,
          2.5,
          null,
          -3.5,
          0,
          null,
          -1.5,
          1,
          null,
          -1.5,
          0,
          null,
          -1.5,
          1,
          null,
          1.5,
          0,
          null,
          1.5,
          -2.5,
          null,
          -1,
          1.5,
          null,
          -1,
          -0.5,
          null,
          -1,
          0.5,
          null,
          -2.5,
          5.5,
          null,
          -2.5,
          1,
          null,
          -2.5,
          3,
          null,
          -1.5,
          4.5,
          null,
          -1.5,
          5.5,
          null,
          -1.5,
          -1,
          null,
          -1.5,
          1,
          null,
          -2,
          0.5,
          null,
          -2,
          -0.5,
          null,
          -2,
          -0.5,
          null,
          -2,
          1.5,
          null,
          -0.5,
          4.5,
          null,
          -0.5,
          3.5,
          null,
          -0.5,
          2.5,
          null,
          -0.5,
          -1,
          null,
          -0.5,
          0,
          null,
          0,
          0.5,
          null,
          0,
          1.5,
          null,
          0,
          -0.5,
          null,
          0,
          0.5,
          null,
          -0.5,
          1,
          null,
          -0.5,
          0,
          null,
          -2.5,
          2,
          null,
          -2.5,
          0,
          null,
          -2.5,
          1,
          null,
          -0.5,
          -1,
          null,
          0.5,
          2,
          null,
          0.5,
          1,
          null,
          0.5,
          1,
          null,
          0.5,
          2,
          null,
          0.5,
          3,
          null,
          -1,
          0.5,
          null,
          -1,
          2.5,
          null,
          -1.5,
          0,
          null,
          0,
          2.5,
          null,
          -1,
          0.5,
          null,
          -1,
          2.5,
          null,
          1,
          -0.5,
          null,
          1,
          0.5,
          null,
          2.5,
          0,
          null,
          -0.5,
          3,
          null,
          -0.5,
          2,
          null,
          2,
          3.5,
          null,
          2,
          1.5,
          null,
          3.5,
          0,
          null,
          4.5,
          0,
          null,
          0,
          0.5,
          null,
          5.5,
          0,
          null,
          1.5,
          3,
          null,
          1.5,
          1,
          null,
          1.5,
          2,
          null,
          1.5,
          2,
          null
         ],
         "y": [
          2,
          1,
          null,
          2,
          3,
          null,
          2,
          3,
          null,
          4,
          3,
          null,
          4,
          3,
          null,
          4,
          5,
          null,
          4,
          5,
          null,
          2,
          1,
          null,
          2,
          3,
          null,
          2,
          1,
          null,
          2,
          3,
          null,
          2,
          3,
          null,
          2,
          1,
          null,
          2,
          3,
          null,
          2,
          3,
          null,
          2,
          1,
          null,
          2,
          3,
          null,
          2,
          3,
          null,
          4,
          3,
          null,
          4,
          3,
          null,
          4,
          5,
          null,
          2,
          1,
          null,
          2,
          3,
          null,
          2,
          1,
          null,
          2,
          3,
          null,
          3,
          2,
          null,
          3,
          4,
          null,
          7,
          6,
          null,
          7,
          6,
          null,
          7,
          8,
          null,
          2,
          1,
          null,
          2,
          3,
          null,
          8,
          7,
          null,
          8,
          7,
          null,
          8,
          9,
          null,
          3,
          2,
          null,
          3,
          4,
          null,
          3,
          4,
          null,
          3,
          2,
          null,
          3,
          2,
          null,
          3,
          4,
          null,
          3,
          4,
          null,
          6,
          5,
          null,
          6,
          5,
          null,
          6,
          7,
          null,
          6,
          7,
          null,
          3,
          2,
          null,
          3,
          2,
          null,
          3,
          2,
          null,
          3,
          4,
          null,
          3,
          4,
          null,
          8,
          7,
          null,
          8,
          7,
          null,
          8,
          9,
          null,
          8,
          9,
          null,
          9,
          8,
          null,
          9,
          10,
          null,
          5,
          4,
          null,
          5,
          6,
          null,
          5,
          6,
          null,
          7,
          6,
          null,
          7,
          6,
          null,
          7,
          6,
          null,
          7,
          8,
          null,
          3,
          4,
          null,
          3,
          4,
          null,
          4,
          5,
          null,
          4,
          5,
          null,
          5,
          6,
          null,
          4,
          5,
          null,
          6,
          5,
          null,
          6,
          5,
          null,
          4,
          5,
          null,
          4,
          5,
          null,
          2,
          1,
          null,
          5,
          4,
          null,
          5,
          6,
          null,
          4,
          3,
          null,
          4,
          5,
          null,
          2,
          1,
          null,
          2,
          1,
          null,
          10,
          9,
          null,
          2,
          1,
          null,
          5,
          4,
          null,
          5,
          6,
          null,
          5,
          6,
          null,
          7,
          6,
          null
         ]
        },
        {
         "hoverinfo": "text",
         "hovertext": [
          "PatternStructure 41<br><br>extent (len: 2): 23888, 23889<br>intent (len: 8): C6_Stay at home requirements = 0....<br>new extent (len: 2): 23888, 23889<br>new_intent (len: 0): ∅<br>metric Confirmed_diff_mean = 448.0<br>metric Confirmed_diff_std = 93.33809511662427<br>metric Deaths_diff_mean = 7.0<br>metric Deaths_diff_std = 1.4142135623730951<br>metric Recovered_diff_mean = 2.0<br>metric Recovered_diff_std = 2.8284271247461903<br>metric stab_min_bound = 0.75<br>metric stab_max_bound = 0.75<br>metric log_stab_min_bound = 2.0<br>metric log_stab_max_bound = 2.0<br>metric lstab_min_bound = -6.0<br>",
          "PatternStructure 36<br><br>extent (len: 6): 23891, 23894, 23893, 23892, 23895...<br>intent (len: 8): C6_Stay at home requirements = 2....<br>new extent (len: 0): ∅<br>new_intent (len: 0): ∅<br>metric Confirmed_diff_mean = 2757.5<br>metric Confirmed_diff_std = 2340.7824973713386<br>metric Deaths_diff_mean = 48.333333333333336<br>metric Deaths_diff_std = 34.89794645343285<br>metric Recovered_diff_mean = 22.5<br>metric Recovered_diff_std = 33.655608745051694<br>metric stab_min_bound = 0.5<br>metric stab_max_bound = 0.75<br>metric log_stab_min_bound = 1.0<br>metric log_stab_max_bound = 2.0<br>metric lstab_min_bound = -6.0<br>",
          "PatternStructure 47<br><br>extent (len: 1): 23890<br>intent (len: 8): C6_Stay at home requirements = 0....<br>new extent (len: 1): 23890<br>new_intent (len: 2): C7_Restrictions on internal m...<br>metric Confirmed_diff_mean = 548.0<br>metric Confirmed_diff_std = nan<br>metric Deaths_diff_mean = 10.0<br>metric Deaths_diff_std = nan<br>metric Recovered_diff_mean = 0.0<br>metric Recovered_diff_std = nan<br>metric stab_min_bound = 0.5<br>metric stab_max_bound = 0.5<br>metric log_stab_min_bound = 1.0<br>metric log_stab_max_bound = 1.0<br>metric lstab_min_bound = -7.0<br>",
          "PatternStructure 42<br><br>extent (len: 2): 23891, 23892<br>intent (len: 8): C6_Stay at home requirements = 2....<br>new extent (len: 2): 23891, 23892<br>new_intent (len: 0): ∅<br>metric Confirmed_diff_mean = 966.0<br>metric Confirmed_diff_std = 224.8599564173221<br>metric Deaths_diff_mean = 20.0<br>metric Deaths_diff_std = 8.48528137423857<br>metric Recovered_diff_mean = 2.5<br>metric Recovered_diff_std = 3.5355339059327378<br>metric stab_min_bound = 0.75<br>metric stab_max_bound = 0.75<br>metric log_stab_min_bound = 2.0<br>metric log_stab_max_bound = 2.0<br>metric lstab_min_bound = -6.0<br>",
          "PatternStructure 43<br><br>extent (len: 2): 23894, 23893<br>intent (len: 8): C6_Stay at home requirements = 2....<br>new extent (len: 2): 23894, 23893<br>new_intent (len: 0): ∅<br>metric Confirmed_diff_mean = 1560.0<br>metric Confirmed_diff_std = 305.47012947258855<br>metric Deaths_diff_mean = 32.5<br>metric Deaths_diff_std = 2.1213203435596424<br>metric Recovered_diff_mean = 44.0<br>metric Recovered_diff_std = 62.22539674441618<br>metric stab_min_bound = 0.75<br>metric stab_max_bound = 0.75<br>metric log_stab_min_bound = 2.0<br>metric log_stab_max_bound = 2.0<br>metric lstab_min_bound = -6.0<br>",
          "PatternStructure 44<br><br>extent (len: 2): 23895, 23896<br>intent (len: 8): C2_Workplace closing = 3.0, C6_St...<br>new extent (len: 2): 23895, 23896<br>new_intent (len: 0): ∅<br>metric Confirmed_diff_mean = 5746.5<br>metric Confirmed_diff_std = 311.8340905032675<br>metric Deaths_diff_mean = 92.5<br>metric Deaths_diff_std = 2.1213203435596424<br>metric Recovered_diff_mean = 21.0<br>metric Recovered_diff_std = 7.0710678118654755<br>metric stab_min_bound = 0.75<br>metric stab_max_bound = 0.75<br>metric log_stab_min_bound = 2.0<br>metric log_stab_max_bound = 2.0<br>metric lstab_min_bound = -6.0<br>",
          "PatternStructure 9<br><br>extent (len: 52): 23922, 23930, 23923, 23912, 2393...<br>intent (len: 8): C6_Stay at home requirements = 2....<br>new extent (len: 0): ∅<br>new_intent (len: 1): C5_Close public transport<br>metric Confirmed_diff_mean = 24083.884615384617<br>metric Confirmed_diff_std = 9087.191543226549<br>metric Deaths_diff_mean = 1453.1153846153845<br>metric Deaths_diff_std = 821.3962205484158<br>metric Recovered_diff_mean = 3750.3653846153848<br>metric Recovered_diff_std = 5462.695380914136<br>metric stab_min_bound = 0.7499999999999964<br>metric stab_max_bound = 0.75<br>metric log_stab_min_bound = 1.9999999999999796<br>metric log_stab_max_bound = 2.0<br>metric lstab_min_bound = -6.0<br>",
          "PatternStructure 14<br><br>extent (len: 48): 23922, 23930, 23923, 23912, 2393...<br>intent (len: 8): C2_Workplace closing = 3.0, C6_St...<br>new extent (len: 48): 23922, 23930, 23923, 23912, ...<br>new_intent (len: 1): C4_Restrictions on gatherings<br>metric Confirmed_diff_mean = 25786.4375<br>metric Confirmed_diff_std = 7123.428465450721<br>metric Deaths_diff_mean = 1569.0<br>metric Deaths_diff_std = 744.1376845833178<br>metric Recovered_diff_mean = 4060.1875<br>metric Recovered_diff_std = 5577.292547068435<br>metric stab_min_bound = 0.9999999999999964<br>metric stab_max_bound = 0.9999999999999964<br>metric log_stab_min_bound = 48.0<br>metric log_stab_max_bound = 48.0<br>metric lstab_min_bound = 40.0<br>",
          "PatternStructure 30<br><br>extent (len: 10): 23841, 23842, 23847, 23840, 2384...<br>intent (len: 8): C8_International travel controls ...<br>new extent (len: 10): 23841, 23842, 23847, 23840, ...<br>new_intent (len: 1): C8_International travel contr...<br>metric Confirmed_diff_mean = 0.7<br>metric Confirmed_diff_std = 1.0593499054713802<br>metric Deaths_diff_mean = 0.0<br>metric Deaths_diff_std = 0.0<br>metric Recovered_diff_mean = 0.0<br>metric Recovered_diff_std = 0.0<br>metric stab_min_bound = 0.9990234375<br>metric stab_max_bound = 0.9990234375<br>metric log_stab_min_bound = 10.0<br>metric log_stab_max_bound = 10.0<br>metric lstab_min_bound = 2.0<br>",
          "PatternStructure 19<br><br>extent (len: 38): 23840, 23846, 23858, 23866, 2383...<br>intent (len: 8): C8_International travel controls ...<br>new extent (len: 0): ∅<br>new_intent (len: 2): C8_International travel contr...<br>metric Confirmed_diff_mean = 1.763157894736842<br>metric Confirmed_diff_std = 5.956755014159955<br>metric Deaths_diff_mean = 0.02631578947368421<br>metric Deaths_diff_std = 0.16222142113076254<br>metric Recovered_diff_mean = 0.18421052631578946<br>metric Recovered_diff_std = 0.6087320964854797<br>metric stab_min_bound = 0.9990234337747097<br>metric stab_max_bound = 0.9990234375<br>metric log_stab_min_bound = 9.99999449656567<br>metric log_stab_max_bound = 10.0<br>metric lstab_min_bound = 2.0<br>",
          "PatternStructure 3<br><br>extent (len: 64): 23922, 23930, 23923, 23912, 2393...<br>intent (len: 8): C6_Stay at home requirements in [...<br>new extent (len: 0): ∅<br>new_intent (len: 1): C1_School closing<br>metric Confirmed_diff_mean = 19638.65625<br>metric Confirmed_diff_std = 12403.7695540429<br>metric Deaths_diff_mean = 1182.046875<br>metric Deaths_diff_std = 932.5486400300123<br>metric Recovered_diff_mean = 3047.328125<br>metric Recovered_diff_std = 5131.552372115855<br>metric stab_min_bound = 0.9921874999999964<br>metric stab_max_bound = 0.9921875<br>metric log_stab_min_bound = 6.999999999999344<br>metric log_stab_max_bound = 7.0<br>metric lstab_min_bound = -1.0<br>",
          "PatternStructure 46<br><br>extent (len: 1): 23887<br>intent (len: 8): C4_Restrictions on gatherings = 1...<br>new extent (len: 1): 23887<br>new_intent (len: 2): C4_Restrictions on gatherings...<br>metric Confirmed_diff_mean = 323.0<br>metric Confirmed_diff_std = nan<br>metric Deaths_diff_mean = 8.0<br>metric Deaths_diff_std = nan<br>metric Recovered_diff_mean = 0.0<br>metric Recovered_diff_std = nan<br>metric stab_min_bound = 0.5<br>metric stab_max_bound = 0.5<br>metric log_stab_min_bound = 1.0<br>metric log_stab_max_bound = 1.0<br>metric lstab_min_bound = -7.0<br>",
          "PatternStructure 6<br><br>extent (len: 56): 23840, 23846, 23858, 23866, 2383...<br>intent (len: 8): C7_Restrictions on internal movem...<br>new extent (len: 0): ∅<br>new_intent (len: 2): C7_Restrictions on internal m...<br>metric Confirmed_diff_mean = 138.92857142857142<br>metric Confirmed_diff_std = 351.5801140897713<br>metric Deaths_diff_mean = 2.9464285714285716<br>metric Deaths_diff_std = 7.23230038308482<br>metric Recovered_diff_mean = 1.875<br>metric Recovered_diff_std = 11.758265951313492<br>metric stab_min_bound = 0.7490234375<br>metric stab_max_bound = 0.75<br>metric log_stab_min_bound = 1.994375450806122<br>metric log_stab_max_bound = 2.0<br>metric lstab_min_bound = -6.0<br>",
          "PatternStructure 32<br><br>extent (len: 9): 23888, 23881, 23889, 23882, 23885...<br>intent (len: 8): C6_Stay at home requirements = 0....<br>new extent (len: 0): ∅<br>new_intent (len: 0): ∅<br>metric Confirmed_diff_mean = 225.77777777777777<br>metric Confirmed_diff_std = 173.01067725560884<br>metric Deaths_diff_mean = 4.333333333333333<br>metric Deaths_diff_std = 2.7838821814150108<br>metric Recovered_diff_mean = 0.5555555555555556<br>metric Recovered_diff_std = 1.3333333333333335<br>metric stab_min_bound = 0.86328125<br>metric stab_max_bound = 0.875<br>metric log_stab_min_bound = 2.8707169830550336<br>metric log_stab_max_bound = 3.0<br>metric lstab_min_bound = -5.0<br>",
          "PatternStructure 31<br><br>extent (len: 9): 23878, 23879, 23881, 23882, 23880...<br>intent (len: 8): C6_Stay at home requirements = 0....<br>new extent (len: 0): ∅<br>new_intent (len: 1): C3_Cancel public events<br>metric Confirmed_diff_mean = 98.66666666666667<br>metric Confirmed_diff_std = 110.74407433357327<br>metric Deaths_diff_mean = 3.0<br>metric Deaths_diff_std = 1.8708286933869707<br>metric Recovered_diff_mean = 0.1111111111111111<br>metric Recovered_diff_std = 0.3333333333333333<br>metric stab_min_bound = 0.859375<br>metric stab_max_bound = 0.875<br>metric log_stab_min_bound = 2.830074998557688<br>metric log_stab_max_bound = 3.0<br>metric lstab_min_bound = -5.0<br>",
          "PatternStructure 16<br><br>extent (len: 44): 23858, 23866, 23870, 23865, 2385...<br>intent (len: 8): C7_Restrictions on internal movem...<br>new extent (len: 0): ∅<br>new_intent (len: 0): ∅<br>metric Confirmed_diff_mean = 105.75<br>metric Confirmed_diff_std = 237.56292923946953<br>metric Deaths_diff_mean = 2.272727272727273<br>metric Deaths_diff_std = 4.867374232981276<br>metric Recovered_diff_mean = 0.38636363636363635<br>metric Recovered_diff_std = 1.082974136797604<br>metric stab_min_bound = 0.8749999981373549<br>metric stab_max_bound = 0.875<br>metric log_stab_min_bound = 2.999999978502169<br>metric log_stab_max_bound = 3.0<br>metric lstab_min_bound = -5.0<br>",
          "PatternStructure 21<br><br>extent (len: 32): 23858, 23866, 23870, 23865, 2385...<br>intent (len: 8): C3_Cancel public events in [0.0, ...<br>new extent (len: 0): ∅<br>new_intent (len: 0): ∅<br>metric Confirmed_diff_mean = 4.40625<br>metric Confirmed_diff_std = 9.448875594482129<br>metric Deaths_diff_mean = 0.34375<br>metric Deaths_diff_std = 1.1247759633553411<br>metric Recovered_diff_mean = 0.21875<br>metric Recovered_diff_std = 0.6591477880199651<br>metric stab_min_bound = 0.9374999976716936<br>metric stab_max_bound = 0.9375<br>metric log_stab_min_bound = 3.9999999462554228<br>metric log_stab_max_bound = 4.0<br>metric lstab_min_bound = -4.0<br>",
          "PatternStructure 13<br><br>extent (len: 48): 23858, 23866, 23870, 23865, 2385...<br>intent (len: 8): C3_Cancel public events in [0.0, ...<br>new extent (len: 0): ∅<br>new_intent (len: 0): ∅<br>metric Confirmed_diff_mean = 401.375<br>metric Confirmed_diff_std = 1187.5972099069295<br>metric Deaths_diff_mean = 7.291666666666667<br>metric Deaths_diff_std = 19.53061789757285<br>metric Recovered_diff_mean = 3.0625<br>metric Recovered_diff_std = 13.275166785825682<br>metric stab_min_bound = 0.7499999981373549<br>metric stab_max_bound = 0.75<br>metric log_stab_min_bound = 1.9999999892510845<br>metric log_stab_max_bound = 2.0<br>metric lstab_min_bound = -6.0<br>",
          "PatternStructure 1<br><br>extent (len: 96): 23930, 23934, 23866, 23870, 2391...<br>intent (len: 8): C3_Cancel public events in [0.0, ...<br>new extent (len: 0): ∅<br>new_intent (len: 1): C8_International travel contr...<br>metric Confirmed_diff_mean = 13093.90625<br>metric Confirmed_diff_std = 13733.115453705419<br>metric Deaths_diff_mean = 788.1458333333334<br>metric Deaths_diff_std = 943.5550911778914<br>metric Recovered_diff_mean = 2031.625<br>metric Recovered_diff_std = 4421.294919269455<br>metric stab_min_bound = 0.9999999981373513<br>metric stab_max_bound = 0.9999999981373549<br>metric log_stab_min_bound = 28.99999724828021<br>metric log_stab_max_bound = 29.0<br>metric lstab_min_bound = 21.0<br>",
          "PatternStructure 33<br><br>extent (len: 9): 23888, 23889, 23891, 23894, 23892...<br>intent (len: 8): C6_Stay at home requirements in [...<br>new extent (len: 0): ∅<br>new_intent (len: 1): C4_Restrictions on gatherings<br>metric Confirmed_diff_mean = 1998.7777777777778<br>metric Confirmed_diff_std = 2172.946201461151<br>metric Deaths_diff_mean = 34.888888888888886<br>metric Deaths_diff_std = 34.188610839153895<br>metric Recovered_diff_mean = 15.444444444444445<br>metric Recovered_diff_std = 28.65794440949626<br>metric stab_min_bound = 0.625<br>metric stab_max_bound = 0.75<br>metric log_stab_min_bound = 1.415037499278844<br>metric log_stab_max_bound = 2.0<br>metric lstab_min_bound = -6.0<br>",
          "PatternStructure 7<br><br>extent (len: 54): 23840, 23846, 23858, 23866, 2383...<br>intent (len: 8): C7_Restrictions on internal movem...<br>new extent (len: 0): ∅<br>new_intent (len: 1): C5_Close public transport<br>metric Confirmed_diff_mean = 86.29629629629629<br>metric Confirmed_diff_std = 217.9095908796685<br>metric Deaths_diff_mean = 1.8518518518518519<br>metric Deaths_diff_std = 4.473854475106502<br>metric Recovered_diff_mean = 0.3148148148148148<br>metric Recovered_diff_std = 0.9871643030852636<br>metric stab_min_bound = 0.8740234375<br>metric stab_max_bound = 0.875<br>metric log_stab_min_bound = 2.988772744576746<br>metric log_stab_max_bound = 3.0<br>metric lstab_min_bound = -5.0<br>",
          "PatternStructure 23<br><br>extent (len: 19): 23886, 23878, 23879, 23889, 2388...<br>intent (len: 8): C6_Stay at home requirements in [...<br>new extent (len: 0): ∅<br>new_intent (len: 0): ∅<br>metric Confirmed_diff_mean = 1010.5263157894736<br>metric Confirmed_diff_std = 1741.9262762949481<br>metric Deaths_diff_mean = 18.36842105263158<br>metric Deaths_diff_std = 27.9567334888828<br>metric Recovered_diff_mean = 7.368421052631579<br>metric Recovered_diff_std = 20.66454431660339<br>metric stab_min_bound = 0.625<br>metric stab_max_bound = 0.75<br>metric log_stab_min_bound = 1.415037499278844<br>metric log_stab_max_bound = 2.0<br>metric lstab_min_bound = -6.0<br>",
          "PatternStructure 37<br><br>extent (len: 5): 23888, 23889, 23891, 23892, 23890<br>intent (len: 8): C6_Stay at home requirements in [...<br>new extent (len: 0): ∅<br>new_intent (len: 0): ∅<br>metric Confirmed_diff_mean = 675.2<br>metric Confirmed_diff_std = 294.88251898001687<br>metric Deaths_diff_mean = 12.8<br>metric Deaths_diff_std = 7.9498427657407165<br>metric Recovered_diff_mean = 1.8<br>metric Recovered_diff_std = 2.489979919597747<br>metric stab_min_bound = 0.6875<br>metric stab_max_bound = 0.875<br>metric log_stab_min_bound = 1.6780719051126376<br>metric log_stab_max_bound = 3.0<br>metric lstab_min_bound = -5.0<br>",
          "PatternStructure 20<br><br>extent (len: 38): 23858, 23866, 23870, 23865, 2385...<br>intent (len: 8): C3_Cancel public events in [0.0, ...<br>new extent (len: 0): ∅<br>new_intent (len: 0): ∅<br>metric Confirmed_diff_mean = 25.105263157894736<br>metric Confirmed_diff_std = 66.42036055212907<br>metric Deaths_diff_mean = 0.7368421052631579<br>metric Deaths_diff_std = 1.5541437292452087<br>metric Recovered_diff_mean = 0.21052631578947367<br>metric Recovered_diff_std = 0.6220234955518095<br>metric stab_min_bound = 0.9843749981373549<br>metric stab_max_bound = 0.984375<br>metric log_stab_min_bound = 5.999999828017359<br>metric log_stab_max_bound = 6.0<br>metric lstab_min_bound = -2.0<br>",
          "PatternStructure 8<br><br>extent (len: 54): 23922, 23930, 23923, 23912, 2393...<br>intent (len: 8): C6_Stay at home requirements = 2....<br>new extent (len: 0): ∅<br>new_intent (len: 2): C7_Restrictions on internal m...<br>metric Confirmed_diff_mean = 23227.666666666668<br>metric Confirmed_diff_std = 9943.961286905318<br>metric Deaths_diff_mean = 1400.037037037037<br>metric Deaths_diff_std = 850.8026834404942<br>metric Recovered_diff_mean = 3611.5555555555557<br>metric Recovered_diff_std = 5406.051122782541<br>metric stab_min_bound = 0.7499999999999964<br>metric stab_max_bound = 0.75<br>metric log_stab_min_bound = 1.9999999999999796<br>metric log_stab_max_bound = 2.0<br>metric lstab_min_bound = -6.0<br>",
          "PatternStructure 17<br><br>extent (len: 42): 23840, 23846, 23858, 23866, 2383...<br>intent (len: 8): C3_Cancel public events in [0.0, ...<br>new extent (len: 0): ∅<br>new_intent (len: 1): C1_School closing<br>metric Confirmed_diff_mean = 3.5238095238095237<br>metric Confirmed_diff_std = 8.384765788541<br>metric Deaths_diff_mean = 0.2619047619047619<br>metric Deaths_diff_std = 0.9891983403555311<br>metric Recovered_diff_mean = 0.16666666666666666<br>metric Recovered_diff_std = 0.580860029597269<br>metric stab_min_bound = 0.9365234375<br>metric stab_max_bound = 0.9375<br>metric log_stab_min_bound = 3.9776321869715456<br>metric log_stab_max_bound = 4.0<br>metric lstab_min_bound = -4.0<br>",
          "PatternStructure 10<br><br>extent (len: 51): 23840, 23846, 23858, 23866, 2383...<br>intent (len: 8): C3_Cancel public events in [0.0, ...<br>new extent (len: 0): ∅<br>new_intent (len: 2): C7_Restrictions on internal m...<br>metric Confirmed_diff_mean = 42.745098039215684<br>metric Confirmed_diff_std = 110.31424987502837<br>metric Deaths_diff_mean = 0.9803921568627451<br>metric Deaths_diff_std = 2.1212279092868016<br>metric Recovered_diff_mean = 0.23529411764705882<br>metric Recovered_diff_std = 0.7638909685057851<br>metric stab_min_bound = 0.8740234375<br>metric stab_max_bound = 0.875<br>metric log_stab_min_bound = 2.988772744576746<br>metric log_stab_max_bound = 3.0<br>metric lstab_min_bound = -5.0<br>",
          "PatternStructure 28<br><br>extent (len: 12): 23878, 23879, 23888, 23881, 2388...<br>intent (len: 8): C6_Stay at home requirements = 0....<br>new extent (len: 0): ∅<br>new_intent (len: 0): ∅<br>metric Confirmed_diff_mean = 175.58333333333334<br>metric Confirmed_diff_std = 173.26409602019964<br>metric Deaths_diff_mean = 4.083333333333333<br>metric Deaths_diff_std = 2.5746432527221863<br>metric Recovered_diff_mean = 0.4166666666666667<br>metric Recovered_diff_std = 1.164500152881315<br>metric stab_min_bound = 0.75<br>metric stab_max_bound = 0.875<br>metric log_stab_min_bound = 2.0<br>metric log_stab_max_bound = 3.0<br>metric lstab_min_bound = -5.0<br>",
          "PatternStructure 22<br><br>extent (len: 28): 23858, 23866, 23870, 23865, 2385...<br>intent (len: 8): C6_Stay at home requirements = 0....<br>new extent (len: 28): 23858, 23866, 23870, 23865, ...<br>new_intent (len: 1): C8_International travel contr...<br>metric Confirmed_diff_mean = 2.142857142857143<br>metric Confirmed_diff_std = 6.905254498028271<br>metric Deaths_diff_mean = 0.03571428571428571<br>metric Deaths_diff_std = 0.18898223650461363<br>metric Recovered_diff_mean = 0.25<br>metric Recovered_diff_std = 0.700528900717694<br>metric stab_min_bound = 0.9999999962747097<br>metric stab_max_bound = 0.9999999962747097<br>metric log_stab_min_bound = 28.0<br>metric log_stab_max_bound = 28.0<br>metric lstab_min_bound = 20.0<br>",
          "PatternStructure 26<br><br>extent (len: 15): 23878, 23879, 23888, 23881, 2388...<br>intent (len: 8): C7_Restrictions on internal movem...<br>new extent (len: 0): ∅<br>new_intent (len: 0): ∅<br>metric Confirmed_diff_mean = 305.8<br>metric Confirmed_diff_std = 328.92165806291496<br>metric Deaths_diff_mean = 6.6<br>metric Deaths_diff_std = 6.500549427328651<br>metric Recovered_diff_mean = 0.6666666666666666<br>metric Recovered_diff_std = 1.5886502207249786<br>metric stab_min_bound = 0.75<br>metric stab_max_bound = 0.875<br>metric log_stab_min_bound = 2.0<br>metric log_stab_max_bound = 3.0<br>metric lstab_min_bound = -5.0<br>",
          "PatternStructure 34<br><br>extent (len: 7): 23888, 23889, 23891, 23894, 23892...<br>intent (len: 8): C6_Stay at home requirements in [...<br>new extent (len: 0): ∅<br>new_intent (len: 0): ∅<br>metric Confirmed_diff_mean = 928.0<br>metric Confirmed_diff_std = 509.82382578037027<br>metric Deaths_diff_mean = 18.428571428571427<br>metric Deaths_diff_std = 11.631238725334216<br>metric Recovered_diff_mean = 13.857142857142858<br>metric Recovered_diff_std = 32.76394650337762<br>metric stab_min_bound = 0.625<br>metric stab_max_bound = 0.75<br>metric log_stab_min_bound = 1.415037499278844<br>metric log_stab_max_bound = 2.0<br>metric lstab_min_bound = -6.0<br>",
          "PatternStructure 45<br><br>extent (len: 1): 23877<br>intent (len: 8): C6_Stay at home requirements = 0....<br>new extent (len: 1): 23877<br>new_intent (len: 2): C8_International travel contr...<br>metric Confirmed_diff_mean = 6.0<br>metric Confirmed_diff_std = nan<br>metric Deaths_diff_mean = 0.0<br>metric Deaths_diff_std = nan<br>metric Recovered_diff_mean = 0.0<br>metric Recovered_diff_std = nan<br>metric stab_min_bound = 0.5<br>metric stab_max_bound = 0.5<br>metric log_stab_min_bound = 1.0<br>metric log_stab_max_bound = 1.0<br>metric lstab_min_bound = -7.0<br>",
          "PatternStructure 11<br><br>extent (len: 50): 23922, 23930, 23923, 23912, 2393...<br>intent (len: 8): C2_Workplace closing = 3.0, C6_St...<br>new extent (len: 0): ∅<br>new_intent (len: 2): C7_Restrictions on internal m...<br>metric Confirmed_diff_mean = 24984.84<br>metric Confirmed_diff_std = 8025.596117118158<br>metric Deaths_diff_mean = 1509.94<br>metric Deaths_diff_std = 785.2144750555319<br>metric Recovered_diff_mean = 3898.62<br>metric Recovered_diff_std = 5520.492343061072<br>metric stab_min_bound = 0.7499999999999964<br>metric stab_max_bound = 0.75<br>metric log_stab_min_bound = 1.9999999999999796<br>metric log_stab_max_bound = 2.0<br>metric lstab_min_bound = -6.0<br>",
          "PatternStructure 40<br><br>extent (len: 3): 23878, 23880, 23879<br>intent (len: 8): C6_Stay at home requirements = 0....<br>new extent (len: 3): 23878, 23880, 23879<br>new_intent (len: 0): ∅<br>metric Confirmed_diff_mean = 25.0<br>metric Confirmed_diff_std = 5.5677643628300215<br>metric Deaths_diff_mean = 3.3333333333333335<br>metric Deaths_diff_std = 2.081665999466133<br>metric Recovered_diff_mean = 0.0<br>metric Recovered_diff_std = 0.0<br>metric stab_min_bound = 0.875<br>metric stab_max_bound = 0.875<br>metric log_stab_min_bound = 3.0<br>metric log_stab_max_bound = 3.0<br>metric lstab_min_bound = -5.0<br>",
          "PatternStructure 39<br><br>extent (len: 4): 23894, 23895, 23893, 23896<br>intent (len: 8): C6_Stay at home requirements = 2....<br>new extent (len: 0): ∅<br>new_intent (len: 0): ∅<br>metric Confirmed_diff_mean = 3653.25<br>metric Confirmed_diff_std = 2430.180703157689<br>metric Deaths_diff_mean = 62.5<br>metric Deaths_diff_std = 34.68429039204925<br>metric Recovered_diff_mean = 32.5<br>metric Recovered_diff_std = 38.518393874442204<br>metric stab_min_bound = 0.5<br>metric stab_max_bound = 0.75<br>metric log_stab_min_bound = 1.0<br>metric log_stab_max_bound = 2.0<br>metric lstab_min_bound = -6.0<br>",
          "PatternStructure 0<br><br>extent (len: 106): 23930, 23934, 23866, 23870, 239...<br>intent (len: 8): C3_Cancel public events in [0.0, ...<br>new extent (len: 0): ∅<br>new_intent (len: 8): C7_Restrictions on internal m...<br>metric Confirmed_diff_mean = 11858.698113207547<br>metric Confirmed_diff_std = 13617.022213580298<br>metric Deaths_diff_mean = 713.7924528301887<br>metric Deaths_diff_std = 926.8680772927734<br>metric Recovered_diff_mean = 1839.9622641509434<br>metric Recovered_diff_std = 4247.606346491271<br>metric stab_min_bound = 0.9990234374999964<br>metric stab_max_bound = 0.9990234375<br>metric log_stab_min_bound = 9.99999999999475<br>metric log_stab_max_bound = 10.0<br>metric lstab_min_bound = 2.0<br>",
          "PatternStructure 18<br><br>extent (len: 41): 23858, 23866, 23870, 23865, 2385...<br>intent (len: 8): C3_Cancel public events in [0.0, ...<br>new extent (len: 0): ∅<br>new_intent (len: 0): ∅<br>metric Confirmed_diff_mean = 53.0<br>metric Confirmed_diff_std = 121.08488757892125<br>metric Deaths_diff_mean = 1.2195121951219512<br>metric Deaths_diff_std = 2.3077282673871204<br>metric Recovered_diff_mean = 0.2926829268292683<br>metric Recovered_diff_std = 0.8439165373135065<br>metric stab_min_bound = 0.8749999981373549<br>metric stab_max_bound = 0.875<br>metric log_stab_min_bound = 2.999999978502169<br>metric log_stab_max_bound = 3.0<br>metric lstab_min_bound = -5.0<br>",
          "PatternStructure 38<br><br>extent (len: 4): 23891, 23894, 23893, 23892<br>intent (len: 8): C6_Stay at home requirements = 2....<br>new extent (len: 0): ∅<br>new_intent (len: 1): C7_Restrictions on internal m...<br>metric Confirmed_diff_mean = 1263.0<br>metric Confirmed_diff_std = 406.9029368289199<br>metric Deaths_diff_mean = 26.25<br>metric Deaths_diff_std = 8.80814017448254<br>metric Recovered_diff_mean = 23.25<br>metric Recovered_diff_std = 43.23096883793685<br>metric stab_min_bound = 0.5<br>metric stab_max_bound = 0.75<br>metric log_stab_min_bound = 1.0<br>metric log_stab_max_bound = 2.0<br>metric lstab_min_bound = -6.0<br>",
          "PatternStructure 4<br><br>extent (len: 58): 23840, 23846, 23858, 23866, 2383...<br>intent (len: 8): C3_Cancel public events in [0.0, ...<br>new extent (len: 0): ∅<br>new_intent (len: 1): C4_Restrictions on gatherings<br>metric Confirmed_diff_mean = 332.2931034482759<br>metric Confirmed_diff_std = 1089.155604184747<br>metric Deaths_diff_mean = 6.0344827586206895<br>metric Deaths_diff_std = 17.95116720755875<br>metric Recovered_diff_mean = 2.5344827586206895<br>metric Recovered_diff_std = 12.110913618515166<br>metric stab_min_bound = 0.7490234375<br>metric stab_max_bound = 0.75<br>metric log_stab_min_bound = 1.994375450806122<br>metric log_stab_max_bound = 2.0<br>metric lstab_min_bound = -6.0<br>",
          "PatternStructure 35<br><br>extent (len: 6): 23881, 23882, 23885, 23884, 23883...<br>intent (len: 8): C6_Stay at home requirements = 0....<br>new extent (len: 6): 23881, 23882, 23885, 23884, 2...<br>new_intent (len: 0): ∅<br>metric Confirmed_diff_mean = 135.5<br>metric Confirmed_diff_std = 121.35196743357727<br>metric Deaths_diff_mean = 2.8333333333333335<br>metric Deaths_diff_std = 1.9407902170679516<br>metric Recovered_diff_mean = 0.16666666666666666<br>metric Recovered_diff_std = 0.408248290463863<br>metric stab_min_bound = 0.984375<br>metric stab_max_bound = 0.984375<br>metric log_stab_min_bound = 6.0<br>metric log_stab_max_bound = 6.0<br>metric lstab_min_bound = -2.0<br>",
          "PatternStructure 2<br><br>extent (len: 67): 23922, 23930, 23923, 23912, 2393...<br>intent (len: 8): C6_Stay at home requirements in [...<br>new extent (len: 0): ∅<br>new_intent (len: 2): C8_International travel contr...<br>metric Confirmed_diff_mean = 18760.432835820895<br>metric Confirmed_diff_std = 12789.189046273797<br>metric Deaths_diff_mean = 1129.2686567164178<br>metric Deaths_diff_std = 943.6328347031945<br>metric Recovered_diff_mean = 2910.8805970149256<br>metric Recovered_diff_std = 5053.620812730239<br>metric stab_min_bound = 0.8749999999999964<br>metric stab_max_bound = 0.875<br>metric log_stab_min_bound = 2.999999999999959<br>metric log_stab_max_bound = 3.0<br>metric lstab_min_bound = -5.0<br>",
          "PatternStructure 27<br><br>extent (len: 14): 23888, 23881, 23889, 23882, 2389...<br>intent (len: 8): C7_Restrictions on internal movem...<br>new extent (len: 0): ∅<br>new_intent (len: 0): ∅<br>metric Confirmed_diff_mean = 545.1428571428571<br>metric Confirmed_diff_std = 534.602779517776<br>metric Deaths_diff_mean = 11.0<br>metric Deaths_diff_std = 11.183779462995641<br>metric Recovered_diff_mean = 7.0<br>metric Recovered_diff_std = 23.36993466302048<br>metric stab_min_bound = 0.7421875<br>metric stab_max_bound = 0.75<br>metric log_stab_min_bound = 1.9556058806415466<br>metric log_stab_max_bound = 2.0<br>metric lstab_min_bound = -6.0<br>",
          "PatternStructure 5<br><br>extent (len: 57): 23922, 23930, 23923, 23912, 2393...<br>intent (len: 8): C6_Stay at home requirements in [...<br>new extent (len: 0): ∅<br>new_intent (len: 2): C4_Restrictions on gatherings...<br>metric Confirmed_diff_mean = 22030.491228070176<br>metric Confirmed_diff_std = 10947.336406507435<br>metric Deaths_diff_mean = 1326.7719298245613<br>metric Deaths_diff_std = 885.1170426548091<br>metric Recovered_diff_mean = 3421.5438596491226<br>metric Recovered_diff_std = 5321.769264976558<br>metric stab_min_bound = 0.8749999999999964<br>metric stab_max_bound = 0.875<br>metric log_stab_min_bound = 2.999999999999959<br>metric log_stab_max_bound = 3.0<br>metric lstab_min_bound = -5.0<br>",
          "PatternStructure 29<br><br>extent (len: 12): 23888, 23881, 23889, 23882, 2389...<br>intent (len: 8): C7_Restrictions on internal movem...<br>new extent (len: 0): ∅<br>new_intent (len: 0): ∅<br>metric Confirmed_diff_mean = 376.0<br>metric Confirmed_diff_std = 332.8810871494777<br>metric Deaths_diff_mean = 7.416666666666667<br>metric Deaths_diff_std = 7.025386865223908<br>metric Recovered_diff_mean = 0.8333333333333334<br>metric Recovered_diff_std = 1.7494587907710375<br>metric stab_min_bound = 0.8671875<br>metric stab_max_bound = 0.875<br>metric log_stab_min_bound = 2.9125371587496605<br>metric log_stab_max_bound = 3.0<br>metric lstab_min_bound = -5.0<br>",
          "PatternStructure 12<br><br>extent (len: 48): 23840, 23846, 23858, 23866, 2383...<br>intent (len: 8): C3_Cancel public events in [0.0, ...<br>new extent (len: 0): ∅<br>new_intent (len: 2): C4_Restrictions on gatherings...<br>metric Confirmed_diff_mean = 20.020833333333332<br>metric Confirmed_diff_std = 59.77919996308876<br>metric Deaths_diff_mean = 0.5833333333333334<br>metric Deaths_diff_std = 1.4117038646325368<br>metric Recovered_diff_mean = 0.16666666666666666<br>metric Recovered_diff_std = 0.5586203877309286<br>metric stab_min_bound = 0.9833984375<br>metric stab_max_bound = 0.984375<br>metric log_stab_min_bound = 5.912537158749661<br>metric log_stab_max_bound = 6.0<br>metric lstab_min_bound = -2.0<br>",
          "PatternStructure 25<br><br>extent (len: 16): 23888, 23881, 23889, 23882, 2389...<br>intent (len: 8): C6_Stay at home requirements in [...<br>new extent (len: 0): ∅<br>new_intent (len: 0): ∅<br>metric Confirmed_diff_mean = 1195.3125<br>metric Confirmed_diff_std = 1846.7511190827347<br>metric Deaths_diff_mean = 21.1875<br>metric Deaths_diff_std = 29.725900603121627<br>metric Recovered_diff_mean = 8.75<br>metric Recovered_diff_std = 22.350242355136405<br>metric stab_min_bound = 0.7421875<br>metric stab_max_bound = 0.75<br>metric log_stab_min_bound = 1.9556058806415466<br>metric log_stab_max_bound = 2.0<br>metric lstab_min_bound = -6.0<br>",
          "PatternStructure 15<br><br>extent (len: 46): 23858, 23866, 23870, 23865, 2385...<br>intent (len: 8): C7_Restrictions on internal movem...<br>new extent (len: 0): ∅<br>new_intent (len: 0): ∅<br>metric Confirmed_diff_mean = 168.97826086956522<br>metric Confirmed_diff_std = 381.97885276720837<br>metric Deaths_diff_mean = 3.5869565217391304<br>metric Deaths_diff_std = 7.847366400282955<br>metric Recovered_diff_mean = 2.282608695652174<br>metric Recovered_diff_std = 12.962618122857505<br>metric stab_min_bound = 0.7499999981373549<br>metric stab_max_bound = 0.75<br>metric log_stab_min_bound = 1.9999999892510845<br>metric log_stab_max_bound = 2.0<br>metric lstab_min_bound = -6.0<br>",
          "PatternStructure 24<br><br>extent (len: 17): 23878, 23879, 23888, 23881, 2388...<br>intent (len: 8): C7_Restrictions on internal movem...<br>new extent (len: 0): ∅<br>new_intent (len: 0): ∅<br>metric Confirmed_diff_mean = 453.3529411764706<br>metric Confirmed_diff_std = 523.4428026509285<br>metric Deaths_diff_mean = 9.647058823529411<br>metric Deaths_diff_std = 10.547162986264293<br>metric Recovered_diff_mean = 5.764705882352941<br>metric Recovered_diff_std = 21.244203361636988<br>metric stab_min_bound = 0.625<br>metric stab_max_bound = 0.75<br>metric log_stab_min_bound = 1.415037499278844<br>metric log_stab_max_bound = 2.0<br>metric lstab_min_bound = -6.0<br>",
          "PatternStructure 48<br><br>extent (len: 0): ∅<br>intent (len: 0): ∅<br>new extent (len: 0): ∅<br>new_intent (len: 0): ∅<br>metric Confirmed_diff_mean = nan<br>metric Confirmed_diff_std = nan<br>metric Deaths_diff_mean = nan<br>metric Deaths_diff_std = nan<br>metric Recovered_diff_mean = nan<br>metric Recovered_diff_std = nan<br>metric stab_min_bound = None<br>metric stab_max_bound = None<br>metric log_stab_min_bound = None<br>metric log_stab_max_bound = None<br>metric lstab_min_bound = None<br>"
         ],
         "marker": {
          "color": [
           448,
           2757.5,
           548,
           966,
           1560,
           5746.5,
           24083.884615384617,
           25786.4375,
           0.7,
           1.763157894736842,
           19638.65625,
           323,
           138.92857142857142,
           225.77777777777777,
           98.66666666666667,
           105.75,
           4.40625,
           401.375,
           13093.90625,
           1998.7777777777778,
           86.29629629629629,
           1010.5263157894736,
           675.2,
           25.105263157894736,
           23227.666666666668,
           3.5238095238095237,
           42.745098039215684,
           175.58333333333334,
           2.142857142857143,
           305.8,
           928,
           6,
           24984.84,
           25,
           3653.25,
           11858.698113207547,
           53,
           1263,
           332.2931034482759,
           135.5,
           18760.432835820895,
           545.1428571428571,
           22030.491228070176,
           376,
           20.020833333333332,
           1195.3125,
           168.97826086956522,
           453.3529411764706,
           null
          ],
          "colorbar": {
           "thickness": 15,
           "title": {
            "side": "right",
            "text": "y_mean"
           },
           "xanchor": "left"
          },
          "colorscale": [
           [
            0,
            "rgb(103,0,31)"
           ],
           [
            0.1,
            "rgb(178,24,43)"
           ],
           [
            0.2,
            "rgb(214,96,77)"
           ],
           [
            0.3,
            "rgb(244,165,130)"
           ],
           [
            0.4,
            "rgb(253,219,199)"
           ],
           [
            0.5,
            "rgb(247,247,247)"
           ],
           [
            0.6,
            "rgb(209,229,240)"
           ],
           [
            0.7,
            "rgb(146,197,222)"
           ],
           [
            0.8,
            "rgb(67,147,195)"
           ],
           [
            0.9,
            "rgb(33,102,172)"
           ],
           [
            1,
            "rgb(5,48,97)"
           ]
          ],
          "line": {
           "width": 2
          },
          "reversescale": true,
          "showscale": true,
          "size": 10
         },
         "mode": "markers+text",
         "text": [
          "<br>23888,23889",
          "<br>",
          "C7_Restrictions on internal movement,C6_Stay at home requirements<br>23890",
          "<br>23891,23892",
          "<br>23894,23893",
          "<br>23895,23896",
          "C5_Close public transport<br>",
          "C4_Restrictions on gatherings<br>n: 48",
          "C8_International travel controls<br>n: 10",
          "C8_International travel controls,C3_Cancel public events<br>",
          "C1_School closing<br>",
          "C4_Restrictions on gatherings,C3_Cancel public events<br>23887",
          "C7_Restrictions on internal movement,C2_Workplace closing<br>",
          "<br>",
          "C3_Cancel public events<br>",
          "<br>",
          "<br>",
          "<br>",
          "C8_International travel controls<br>",
          "C4_Restrictions on gatherings<br>",
          "C5_Close public transport<br>",
          "<br>",
          "<br>",
          "<br>",
          "C7_Restrictions on internal movement,C6_Stay at home requirements<br>",
          "C1_School closing<br>",
          "C7_Restrictions on internal movement,C6_Stay at home requirements<br>",
          "<br>",
          "C8_International travel controls<br>n: 28",
          "<br>",
          "<br>",
          "C8_International travel controls,C3_Cancel public events<br>23877",
          "C7_Restrictions on internal movement,C2_Workplace closing<br>",
          "<br>23878,23880,23879",
          "<br>",
          "n: 8<br>",
          "<br>",
          "C7_Restrictions on internal movement<br>",
          "C4_Restrictions on gatherings<br>",
          "<br>n: 6",
          "C8_International travel controls,C3_Cancel public events<br>",
          "<br>",
          "C4_Restrictions on gatherings,C3_Cancel public events<br>",
          "<br>",
          "C4_Restrictions on gatherings,C3_Cancel public events<br>",
          "<br>",
          "<br>",
          "<br>",
          "<br>"
         ],
         "textposition": "middle right",
         "type": "scatter",
         "x": [
          -5.5,
          -3,
          -4.5,
          -3.5,
          -2.5,
          -1.5,
          -2,
          -0.5,
          0.5,
          -3.5,
          -1.5,
          1.5,
          -1,
          -2.5,
          -1.5,
          -2,
          -0.5,
          0,
          -0.5,
          -2.5,
          -0.5,
          0.5,
          0.5,
          -1,
          -1.5,
          0,
          -1,
          1,
          2.5,
          -0.5,
          2,
          3.5,
          1.5,
          4.5,
          2.5,
          0,
          0.5,
          3.5,
          0.5,
          5.5,
          1,
          1.5,
          0,
          3,
          2.5,
          1,
          1.5,
          2,
          0
         ],
         "y": [
          2,
          4,
          2,
          2,
          2,
          2,
          4,
          2,
          2,
          3,
          7,
          2,
          8,
          3,
          3,
          6,
          3,
          8,
          9,
          5,
          7,
          7,
          3,
          4,
          5,
          4,
          6,
          4,
          2,
          5,
          4,
          2,
          3,
          2,
          3,
          10,
          5,
          3,
          9,
          2,
          8,
          5,
          6,
          4,
          5,
          6,
          7,
          6,
          1
         ]
        }
       ],
       "layout": {
        "height": 500,
        "hovermode": "closest",
        "margin": {
         "b": 20,
         "l": 5,
         "r": 5,
         "t": 40
        },
        "showlegend": false,
        "template": {
         "data": {
          "bar": [
           {
            "error_x": {
             "color": "#2a3f5f"
            },
            "error_y": {
             "color": "#2a3f5f"
            },
            "marker": {
             "line": {
              "color": "#E5ECF6",
              "width": 0.5
             }
            },
            "type": "bar"
           }
          ],
          "barpolar": [
           {
            "marker": {
             "line": {
              "color": "#E5ECF6",
              "width": 0.5
             }
            },
            "type": "barpolar"
           }
          ],
          "carpet": [
           {
            "aaxis": {
             "endlinecolor": "#2a3f5f",
             "gridcolor": "white",
             "linecolor": "white",
             "minorgridcolor": "white",
             "startlinecolor": "#2a3f5f"
            },
            "baxis": {
             "endlinecolor": "#2a3f5f",
             "gridcolor": "white",
             "linecolor": "white",
             "minorgridcolor": "white",
             "startlinecolor": "#2a3f5f"
            },
            "type": "carpet"
           }
          ],
          "choropleth": [
           {
            "colorbar": {
             "outlinewidth": 0,
             "ticks": ""
            },
            "type": "choropleth"
           }
          ],
          "contour": [
           {
            "colorbar": {
             "outlinewidth": 0,
             "ticks": ""
            },
            "colorscale": [
             [
              0,
              "#0d0887"
             ],
             [
              0.1111111111111111,
              "#46039f"
             ],
             [
              0.2222222222222222,
              "#7201a8"
             ],
             [
              0.3333333333333333,
              "#9c179e"
             ],
             [
              0.4444444444444444,
              "#bd3786"
             ],
             [
              0.5555555555555556,
              "#d8576b"
             ],
             [
              0.6666666666666666,
              "#ed7953"
             ],
             [
              0.7777777777777778,
              "#fb9f3a"
             ],
             [
              0.8888888888888888,
              "#fdca26"
             ],
             [
              1,
              "#f0f921"
             ]
            ],
            "type": "contour"
           }
          ],
          "contourcarpet": [
           {
            "colorbar": {
             "outlinewidth": 0,
             "ticks": ""
            },
            "type": "contourcarpet"
           }
          ],
          "heatmap": [
           {
            "colorbar": {
             "outlinewidth": 0,
             "ticks": ""
            },
            "colorscale": [
             [
              0,
              "#0d0887"
             ],
             [
              0.1111111111111111,
              "#46039f"
             ],
             [
              0.2222222222222222,
              "#7201a8"
             ],
             [
              0.3333333333333333,
              "#9c179e"
             ],
             [
              0.4444444444444444,
              "#bd3786"
             ],
             [
              0.5555555555555556,
              "#d8576b"
             ],
             [
              0.6666666666666666,
              "#ed7953"
             ],
             [
              0.7777777777777778,
              "#fb9f3a"
             ],
             [
              0.8888888888888888,
              "#fdca26"
             ],
             [
              1,
              "#f0f921"
             ]
            ],
            "type": "heatmap"
           }
          ],
          "heatmapgl": [
           {
            "colorbar": {
             "outlinewidth": 0,
             "ticks": ""
            },
            "colorscale": [
             [
              0,
              "#0d0887"
             ],
             [
              0.1111111111111111,
              "#46039f"
             ],
             [
              0.2222222222222222,
              "#7201a8"
             ],
             [
              0.3333333333333333,
              "#9c179e"
             ],
             [
              0.4444444444444444,
              "#bd3786"
             ],
             [
              0.5555555555555556,
              "#d8576b"
             ],
             [
              0.6666666666666666,
              "#ed7953"
             ],
             [
              0.7777777777777778,
              "#fb9f3a"
             ],
             [
              0.8888888888888888,
              "#fdca26"
             ],
             [
              1,
              "#f0f921"
             ]
            ],
            "type": "heatmapgl"
           }
          ],
          "histogram": [
           {
            "marker": {
             "colorbar": {
              "outlinewidth": 0,
              "ticks": ""
             }
            },
            "type": "histogram"
           }
          ],
          "histogram2d": [
           {
            "colorbar": {
             "outlinewidth": 0,
             "ticks": ""
            },
            "colorscale": [
             [
              0,
              "#0d0887"
             ],
             [
              0.1111111111111111,
              "#46039f"
             ],
             [
              0.2222222222222222,
              "#7201a8"
             ],
             [
              0.3333333333333333,
              "#9c179e"
             ],
             [
              0.4444444444444444,
              "#bd3786"
             ],
             [
              0.5555555555555556,
              "#d8576b"
             ],
             [
              0.6666666666666666,
              "#ed7953"
             ],
             [
              0.7777777777777778,
              "#fb9f3a"
             ],
             [
              0.8888888888888888,
              "#fdca26"
             ],
             [
              1,
              "#f0f921"
             ]
            ],
            "type": "histogram2d"
           }
          ],
          "histogram2dcontour": [
           {
            "colorbar": {
             "outlinewidth": 0,
             "ticks": ""
            },
            "colorscale": [
             [
              0,
              "#0d0887"
             ],
             [
              0.1111111111111111,
              "#46039f"
             ],
             [
              0.2222222222222222,
              "#7201a8"
             ],
             [
              0.3333333333333333,
              "#9c179e"
             ],
             [
              0.4444444444444444,
              "#bd3786"
             ],
             [
              0.5555555555555556,
              "#d8576b"
             ],
             [
              0.6666666666666666,
              "#ed7953"
             ],
             [
              0.7777777777777778,
              "#fb9f3a"
             ],
             [
              0.8888888888888888,
              "#fdca26"
             ],
             [
              1,
              "#f0f921"
             ]
            ],
            "type": "histogram2dcontour"
           }
          ],
          "mesh3d": [
           {
            "colorbar": {
             "outlinewidth": 0,
             "ticks": ""
            },
            "type": "mesh3d"
           }
          ],
          "parcoords": [
           {
            "line": {
             "colorbar": {
              "outlinewidth": 0,
              "ticks": ""
             }
            },
            "type": "parcoords"
           }
          ],
          "pie": [
           {
            "automargin": true,
            "type": "pie"
           }
          ],
          "scatter": [
           {
            "marker": {
             "colorbar": {
              "outlinewidth": 0,
              "ticks": ""
             }
            },
            "type": "scatter"
           }
          ],
          "scatter3d": [
           {
            "line": {
             "colorbar": {
              "outlinewidth": 0,
              "ticks": ""
             }
            },
            "marker": {
             "colorbar": {
              "outlinewidth": 0,
              "ticks": ""
             }
            },
            "type": "scatter3d"
           }
          ],
          "scattercarpet": [
           {
            "marker": {
             "colorbar": {
              "outlinewidth": 0,
              "ticks": ""
             }
            },
            "type": "scattercarpet"
           }
          ],
          "scattergeo": [
           {
            "marker": {
             "colorbar": {
              "outlinewidth": 0,
              "ticks": ""
             }
            },
            "type": "scattergeo"
           }
          ],
          "scattergl": [
           {
            "marker": {
             "colorbar": {
              "outlinewidth": 0,
              "ticks": ""
             }
            },
            "type": "scattergl"
           }
          ],
          "scattermapbox": [
           {
            "marker": {
             "colorbar": {
              "outlinewidth": 0,
              "ticks": ""
             }
            },
            "type": "scattermapbox"
           }
          ],
          "scatterpolar": [
           {
            "marker": {
             "colorbar": {
              "outlinewidth": 0,
              "ticks": ""
             }
            },
            "type": "scatterpolar"
           }
          ],
          "scatterpolargl": [
           {
            "marker": {
             "colorbar": {
              "outlinewidth": 0,
              "ticks": ""
             }
            },
            "type": "scatterpolargl"
           }
          ],
          "scatterternary": [
           {
            "marker": {
             "colorbar": {
              "outlinewidth": 0,
              "ticks": ""
             }
            },
            "type": "scatterternary"
           }
          ],
          "surface": [
           {
            "colorbar": {
             "outlinewidth": 0,
             "ticks": ""
            },
            "colorscale": [
             [
              0,
              "#0d0887"
             ],
             [
              0.1111111111111111,
              "#46039f"
             ],
             [
              0.2222222222222222,
              "#7201a8"
             ],
             [
              0.3333333333333333,
              "#9c179e"
             ],
             [
              0.4444444444444444,
              "#bd3786"
             ],
             [
              0.5555555555555556,
              "#d8576b"
             ],
             [
              0.6666666666666666,
              "#ed7953"
             ],
             [
              0.7777777777777778,
              "#fb9f3a"
             ],
             [
              0.8888888888888888,
              "#fdca26"
             ],
             [
              1,
              "#f0f921"
             ]
            ],
            "type": "surface"
           }
          ],
          "table": [
           {
            "cells": {
             "fill": {
              "color": "#EBF0F8"
             },
             "line": {
              "color": "white"
             }
            },
            "header": {
             "fill": {
              "color": "#C8D4E3"
             },
             "line": {
              "color": "white"
             }
            },
            "type": "table"
           }
          ]
         },
         "layout": {
          "annotationdefaults": {
           "arrowcolor": "#2a3f5f",
           "arrowhead": 0,
           "arrowwidth": 1
          },
          "coloraxis": {
           "colorbar": {
            "outlinewidth": 0,
            "ticks": ""
           }
          },
          "colorscale": {
           "diverging": [
            [
             0,
             "#8e0152"
            ],
            [
             0.1,
             "#c51b7d"
            ],
            [
             0.2,
             "#de77ae"
            ],
            [
             0.3,
             "#f1b6da"
            ],
            [
             0.4,
             "#fde0ef"
            ],
            [
             0.5,
             "#f7f7f7"
            ],
            [
             0.6,
             "#e6f5d0"
            ],
            [
             0.7,
             "#b8e186"
            ],
            [
             0.8,
             "#7fbc41"
            ],
            [
             0.9,
             "#4d9221"
            ],
            [
             1,
             "#276419"
            ]
           ],
           "sequential": [
            [
             0,
             "#0d0887"
            ],
            [
             0.1111111111111111,
             "#46039f"
            ],
            [
             0.2222222222222222,
             "#7201a8"
            ],
            [
             0.3333333333333333,
             "#9c179e"
            ],
            [
             0.4444444444444444,
             "#bd3786"
            ],
            [
             0.5555555555555556,
             "#d8576b"
            ],
            [
             0.6666666666666666,
             "#ed7953"
            ],
            [
             0.7777777777777778,
             "#fb9f3a"
            ],
            [
             0.8888888888888888,
             "#fdca26"
            ],
            [
             1,
             "#f0f921"
            ]
           ],
           "sequentialminus": [
            [
             0,
             "#0d0887"
            ],
            [
             0.1111111111111111,
             "#46039f"
            ],
            [
             0.2222222222222222,
             "#7201a8"
            ],
            [
             0.3333333333333333,
             "#9c179e"
            ],
            [
             0.4444444444444444,
             "#bd3786"
            ],
            [
             0.5555555555555556,
             "#d8576b"
            ],
            [
             0.6666666666666666,
             "#ed7953"
            ],
            [
             0.7777777777777778,
             "#fb9f3a"
            ],
            [
             0.8888888888888888,
             "#fdca26"
            ],
            [
             1,
             "#f0f921"
            ]
           ]
          },
          "colorway": [
           "#636efa",
           "#EF553B",
           "#00cc96",
           "#ab63fa",
           "#FFA15A",
           "#19d3f3",
           "#FF6692",
           "#B6E880",
           "#FF97FF",
           "#FECB52"
          ],
          "font": {
           "color": "#2a3f5f"
          },
          "geo": {
           "bgcolor": "white",
           "lakecolor": "white",
           "landcolor": "#E5ECF6",
           "showlakes": true,
           "showland": true,
           "subunitcolor": "white"
          },
          "hoverlabel": {
           "align": "left"
          },
          "hovermode": "closest",
          "mapbox": {
           "style": "light"
          },
          "paper_bgcolor": "white",
          "plot_bgcolor": "#E5ECF6",
          "polar": {
           "angularaxis": {
            "gridcolor": "white",
            "linecolor": "white",
            "ticks": ""
           },
           "bgcolor": "#E5ECF6",
           "radialaxis": {
            "gridcolor": "white",
            "linecolor": "white",
            "ticks": ""
           }
          },
          "scene": {
           "xaxis": {
            "backgroundcolor": "#E5ECF6",
            "gridcolor": "white",
            "gridwidth": 2,
            "linecolor": "white",
            "showbackground": true,
            "ticks": "",
            "zerolinecolor": "white"
           },
           "yaxis": {
            "backgroundcolor": "#E5ECF6",
            "gridcolor": "white",
            "gridwidth": 2,
            "linecolor": "white",
            "showbackground": true,
            "ticks": "",
            "zerolinecolor": "white"
           },
           "zaxis": {
            "backgroundcolor": "#E5ECF6",
            "gridcolor": "white",
            "gridwidth": 2,
            "linecolor": "white",
            "showbackground": true,
            "ticks": "",
            "zerolinecolor": "white"
           }
          },
          "shapedefaults": {
           "line": {
            "color": "#2a3f5f"
           }
          },
          "ternary": {
           "aaxis": {
            "gridcolor": "white",
            "linecolor": "white",
            "ticks": ""
           },
           "baxis": {
            "gridcolor": "white",
            "linecolor": "white",
            "ticks": ""
           },
           "bgcolor": "#E5ECF6",
           "caxis": {
            "gridcolor": "white",
            "linecolor": "white",
            "ticks": ""
           }
          },
          "title": {
           "x": 0.05
          },
          "xaxis": {
           "automargin": true,
           "gridcolor": "white",
           "linecolor": "white",
           "ticks": "",
           "title": {
            "standoff": 15
           },
           "zerolinecolor": "white",
           "zerolinewidth": 2
          },
          "yaxis": {
           "automargin": true,
           "gridcolor": "white",
           "linecolor": "white",
           "ticks": "",
           "title": {
            "standoff": 15
           },
           "zerolinecolor": "white",
           "zerolinewidth": 2
          }
         }
        },
        "title": {
         "font": {
          "size": 16
         },
         "text": "Concept Lattice"
        },
        "width": 1000,
        "xaxis": {
         "showgrid": false,
         "showticklabels": false,
         "zeroline": false
        },
        "yaxis": {
         "showgrid": false,
         "showticklabels": false,
         "zeroline": false
        }
       }
      },
      "text/html": [
       "<div>\n",
       "        \n",
       "        \n",
       "            <div id=\"3d7fb94b-487b-484f-a114-4f70fbe2a857\" class=\"plotly-graph-div\" style=\"height:500px; width:1000px;\"></div>\n",
       "            <script type=\"text/javascript\">\n",
       "                require([\"plotly\"], function(Plotly) {\n",
       "                    window.PLOTLYENV=window.PLOTLYENV || {};\n",
       "                    \n",
       "                if (document.getElementById(\"3d7fb94b-487b-484f-a114-4f70fbe2a857\")) {\n",
       "                    Plotly.newPlot(\n",
       "                        '3d7fb94b-487b-484f-a114-4f70fbe2a857',\n",
       "                        [{\"hoverinfo\": \"none\", \"line\": {\"color\": \"#888\", \"width\": 0.5}, \"mode\": \"lines\", \"type\": \"scatter\", \"x\": [-5.5, 0.0, null, -5.5, -2.5, null, -5.5, 0.5, null, -3.0, 3.5, null, -3.0, 2.5, null, -3.0, -2.5, null, -3.0, -1.5, null, -4.5, 0.0, null, -4.5, 0.5, null, -3.5, 0.0, null, -3.5, 0.5, null, -3.5, 3.5, null, -2.5, 0.0, null, -2.5, 2.5, null, -2.5, 3.5, null, -1.5, 0.0, null, -1.5, 1.5, null, -1.5, 2.5, null, -2.0, 1.5, null, -2.0, 2.5, null, -2.0, -1.5, null, -0.5, 0.0, null, -0.5, 1.5, null, 0.5, 0.0, null, 0.5, -3.5, null, -3.5, 2.5, null, -3.5, 0.0, null, -1.5, 1.0, null, -1.5, 0.0, null, -1.5, 1.0, null, 1.5, 0.0, null, 1.5, -2.5, null, -1.0, 1.5, null, -1.0, -0.5, null, -1.0, 0.5, null, -2.5, 5.5, null, -2.5, 1.0, null, -2.5, 3.0, null, -1.5, 4.5, null, -1.5, 5.5, null, -1.5, -1.0, null, -1.5, 1.0, null, -2.0, 0.5, null, -2.0, -0.5, null, -2.0, -0.5, null, -2.0, 1.5, null, -0.5, 4.5, null, -0.5, 3.5, null, -0.5, 2.5, null, -0.5, -1.0, null, -0.5, 0.0, null, 0.0, 0.5, null, 0.0, 1.5, null, 0.0, -0.5, null, 0.0, 0.5, null, -0.5, 1.0, null, -0.5, 0.0, null, -2.5, 2.0, null, -2.5, 0.0, null, -2.5, 1.0, null, -0.5, -1.0, null, 0.5, 2.0, null, 0.5, 1.0, null, 0.5, 1.0, null, 0.5, 2.0, null, 0.5, 3.0, null, -1.0, 0.5, null, -1.0, 2.5, null, -1.5, 0.0, null, 0.0, 2.5, null, -1.0, 0.5, null, -1.0, 2.5, null, 1.0, -0.5, null, 1.0, 0.5, null, 2.5, 0.0, null, -0.5, 3.0, null, -0.5, 2.0, null, 2.0, 3.5, null, 2.0, 1.5, null, 3.5, 0.0, null, 4.5, 0.0, null, 0.0, 0.5, null, 5.5, 0.0, null, 1.5, 3.0, null, 1.5, 1.0, null, 1.5, 2.0, null, 1.5, 2.0, null], \"y\": [2, 1, null, 2, 3, null, 2, 3, null, 4, 3, null, 4, 3, null, 4, 5, null, 4, 5, null, 2, 1, null, 2, 3, null, 2, 1, null, 2, 3, null, 2, 3, null, 2, 1, null, 2, 3, null, 2, 3, null, 2, 1, null, 2, 3, null, 2, 3, null, 4, 3, null, 4, 3, null, 4, 5, null, 2, 1, null, 2, 3, null, 2, 1, null, 2, 3, null, 3, 2, null, 3, 4, null, 7, 6, null, 7, 6, null, 7, 8, null, 2, 1, null, 2, 3, null, 8, 7, null, 8, 7, null, 8, 9, null, 3, 2, null, 3, 4, null, 3, 4, null, 3, 2, null, 3, 2, null, 3, 4, null, 3, 4, null, 6, 5, null, 6, 5, null, 6, 7, null, 6, 7, null, 3, 2, null, 3, 2, null, 3, 2, null, 3, 4, null, 3, 4, null, 8, 7, null, 8, 7, null, 8, 9, null, 8, 9, null, 9, 8, null, 9, 10, null, 5, 4, null, 5, 6, null, 5, 6, null, 7, 6, null, 7, 6, null, 7, 6, null, 7, 8, null, 3, 4, null, 3, 4, null, 4, 5, null, 4, 5, null, 5, 6, null, 4, 5, null, 6, 5, null, 6, 5, null, 4, 5, null, 4, 5, null, 2, 1, null, 5, 4, null, 5, 6, null, 4, 3, null, 4, 5, null, 2, 1, null, 2, 1, null, 10, 9, null, 2, 1, null, 5, 4, null, 5, 6, null, 5, 6, null, 7, 6, null]}, {\"hoverinfo\": \"text\", \"hovertext\": [\"PatternStructure 41<br><br>extent (len: 2): 23888, 23889<br>intent (len: 8): C6_Stay at home requirements = 0....<br>new extent (len: 2): 23888, 23889<br>new_intent (len: 0): \\u2205<br>metric Confirmed_diff_mean = 448.0<br>metric Confirmed_diff_std = 93.33809511662427<br>metric Deaths_diff_mean = 7.0<br>metric Deaths_diff_std = 1.4142135623730951<br>metric Recovered_diff_mean = 2.0<br>metric Recovered_diff_std = 2.8284271247461903<br>metric stab_min_bound = 0.75<br>metric stab_max_bound = 0.75<br>metric log_stab_min_bound = 2.0<br>metric log_stab_max_bound = 2.0<br>metric lstab_min_bound = -6.0<br>\", \"PatternStructure 36<br><br>extent (len: 6): 23891, 23894, 23893, 23892, 23895...<br>intent (len: 8): C6_Stay at home requirements = 2....<br>new extent (len: 0): \\u2205<br>new_intent (len: 0): \\u2205<br>metric Confirmed_diff_mean = 2757.5<br>metric Confirmed_diff_std = 2340.7824973713386<br>metric Deaths_diff_mean = 48.333333333333336<br>metric Deaths_diff_std = 34.89794645343285<br>metric Recovered_diff_mean = 22.5<br>metric Recovered_diff_std = 33.655608745051694<br>metric stab_min_bound = 0.5<br>metric stab_max_bound = 0.75<br>metric log_stab_min_bound = 1.0<br>metric log_stab_max_bound = 2.0<br>metric lstab_min_bound = -6.0<br>\", \"PatternStructure 47<br><br>extent (len: 1): 23890<br>intent (len: 8): C6_Stay at home requirements = 0....<br>new extent (len: 1): 23890<br>new_intent (len: 2): C7_Restrictions on internal m...<br>metric Confirmed_diff_mean = 548.0<br>metric Confirmed_diff_std = nan<br>metric Deaths_diff_mean = 10.0<br>metric Deaths_diff_std = nan<br>metric Recovered_diff_mean = 0.0<br>metric Recovered_diff_std = nan<br>metric stab_min_bound = 0.5<br>metric stab_max_bound = 0.5<br>metric log_stab_min_bound = 1.0<br>metric log_stab_max_bound = 1.0<br>metric lstab_min_bound = -7.0<br>\", \"PatternStructure 42<br><br>extent (len: 2): 23891, 23892<br>intent (len: 8): C6_Stay at home requirements = 2....<br>new extent (len: 2): 23891, 23892<br>new_intent (len: 0): \\u2205<br>metric Confirmed_diff_mean = 966.0<br>metric Confirmed_diff_std = 224.8599564173221<br>metric Deaths_diff_mean = 20.0<br>metric Deaths_diff_std = 8.48528137423857<br>metric Recovered_diff_mean = 2.5<br>metric Recovered_diff_std = 3.5355339059327378<br>metric stab_min_bound = 0.75<br>metric stab_max_bound = 0.75<br>metric log_stab_min_bound = 2.0<br>metric log_stab_max_bound = 2.0<br>metric lstab_min_bound = -6.0<br>\", \"PatternStructure 43<br><br>extent (len: 2): 23894, 23893<br>intent (len: 8): C6_Stay at home requirements = 2....<br>new extent (len: 2): 23894, 23893<br>new_intent (len: 0): \\u2205<br>metric Confirmed_diff_mean = 1560.0<br>metric Confirmed_diff_std = 305.47012947258855<br>metric Deaths_diff_mean = 32.5<br>metric Deaths_diff_std = 2.1213203435596424<br>metric Recovered_diff_mean = 44.0<br>metric Recovered_diff_std = 62.22539674441618<br>metric stab_min_bound = 0.75<br>metric stab_max_bound = 0.75<br>metric log_stab_min_bound = 2.0<br>metric log_stab_max_bound = 2.0<br>metric lstab_min_bound = -6.0<br>\", \"PatternStructure 44<br><br>extent (len: 2): 23895, 23896<br>intent (len: 8): C2_Workplace closing = 3.0, C6_St...<br>new extent (len: 2): 23895, 23896<br>new_intent (len: 0): \\u2205<br>metric Confirmed_diff_mean = 5746.5<br>metric Confirmed_diff_std = 311.8340905032675<br>metric Deaths_diff_mean = 92.5<br>metric Deaths_diff_std = 2.1213203435596424<br>metric Recovered_diff_mean = 21.0<br>metric Recovered_diff_std = 7.0710678118654755<br>metric stab_min_bound = 0.75<br>metric stab_max_bound = 0.75<br>metric log_stab_min_bound = 2.0<br>metric log_stab_max_bound = 2.0<br>metric lstab_min_bound = -6.0<br>\", \"PatternStructure 9<br><br>extent (len: 52): 23922, 23930, 23923, 23912, 2393...<br>intent (len: 8): C6_Stay at home requirements = 2....<br>new extent (len: 0): \\u2205<br>new_intent (len: 1): C5_Close public transport<br>metric Confirmed_diff_mean = 24083.884615384617<br>metric Confirmed_diff_std = 9087.191543226549<br>metric Deaths_diff_mean = 1453.1153846153845<br>metric Deaths_diff_std = 821.3962205484158<br>metric Recovered_diff_mean = 3750.3653846153848<br>metric Recovered_diff_std = 5462.695380914136<br>metric stab_min_bound = 0.7499999999999964<br>metric stab_max_bound = 0.75<br>metric log_stab_min_bound = 1.9999999999999796<br>metric log_stab_max_bound = 2.0<br>metric lstab_min_bound = -6.0<br>\", \"PatternStructure 14<br><br>extent (len: 48): 23922, 23930, 23923, 23912, 2393...<br>intent (len: 8): C2_Workplace closing = 3.0, C6_St...<br>new extent (len: 48): 23922, 23930, 23923, 23912, ...<br>new_intent (len: 1): C4_Restrictions on gatherings<br>metric Confirmed_diff_mean = 25786.4375<br>metric Confirmed_diff_std = 7123.428465450721<br>metric Deaths_diff_mean = 1569.0<br>metric Deaths_diff_std = 744.1376845833178<br>metric Recovered_diff_mean = 4060.1875<br>metric Recovered_diff_std = 5577.292547068435<br>metric stab_min_bound = 0.9999999999999964<br>metric stab_max_bound = 0.9999999999999964<br>metric log_stab_min_bound = 48.0<br>metric log_stab_max_bound = 48.0<br>metric lstab_min_bound = 40.0<br>\", \"PatternStructure 30<br><br>extent (len: 10): 23841, 23842, 23847, 23840, 2384...<br>intent (len: 8): C8_International travel controls ...<br>new extent (len: 10): 23841, 23842, 23847, 23840, ...<br>new_intent (len: 1): C8_International travel contr...<br>metric Confirmed_diff_mean = 0.7<br>metric Confirmed_diff_std = 1.0593499054713802<br>metric Deaths_diff_mean = 0.0<br>metric Deaths_diff_std = 0.0<br>metric Recovered_diff_mean = 0.0<br>metric Recovered_diff_std = 0.0<br>metric stab_min_bound = 0.9990234375<br>metric stab_max_bound = 0.9990234375<br>metric log_stab_min_bound = 10.0<br>metric log_stab_max_bound = 10.0<br>metric lstab_min_bound = 2.0<br>\", \"PatternStructure 19<br><br>extent (len: 38): 23840, 23846, 23858, 23866, 2383...<br>intent (len: 8): C8_International travel controls ...<br>new extent (len: 0): \\u2205<br>new_intent (len: 2): C8_International travel contr...<br>metric Confirmed_diff_mean = 1.763157894736842<br>metric Confirmed_diff_std = 5.956755014159955<br>metric Deaths_diff_mean = 0.02631578947368421<br>metric Deaths_diff_std = 0.16222142113076254<br>metric Recovered_diff_mean = 0.18421052631578946<br>metric Recovered_diff_std = 0.6087320964854797<br>metric stab_min_bound = 0.9990234337747097<br>metric stab_max_bound = 0.9990234375<br>metric log_stab_min_bound = 9.99999449656567<br>metric log_stab_max_bound = 10.0<br>metric lstab_min_bound = 2.0<br>\", \"PatternStructure 3<br><br>extent (len: 64): 23922, 23930, 23923, 23912, 2393...<br>intent (len: 8): C6_Stay at home requirements in [...<br>new extent (len: 0): \\u2205<br>new_intent (len: 1): C1_School closing<br>metric Confirmed_diff_mean = 19638.65625<br>metric Confirmed_diff_std = 12403.7695540429<br>metric Deaths_diff_mean = 1182.046875<br>metric Deaths_diff_std = 932.5486400300123<br>metric Recovered_diff_mean = 3047.328125<br>metric Recovered_diff_std = 5131.552372115855<br>metric stab_min_bound = 0.9921874999999964<br>metric stab_max_bound = 0.9921875<br>metric log_stab_min_bound = 6.999999999999344<br>metric log_stab_max_bound = 7.0<br>metric lstab_min_bound = -1.0<br>\", \"PatternStructure 46<br><br>extent (len: 1): 23887<br>intent (len: 8): C4_Restrictions on gatherings = 1...<br>new extent (len: 1): 23887<br>new_intent (len: 2): C4_Restrictions on gatherings...<br>metric Confirmed_diff_mean = 323.0<br>metric Confirmed_diff_std = nan<br>metric Deaths_diff_mean = 8.0<br>metric Deaths_diff_std = nan<br>metric Recovered_diff_mean = 0.0<br>metric Recovered_diff_std = nan<br>metric stab_min_bound = 0.5<br>metric stab_max_bound = 0.5<br>metric log_stab_min_bound = 1.0<br>metric log_stab_max_bound = 1.0<br>metric lstab_min_bound = -7.0<br>\", \"PatternStructure 6<br><br>extent (len: 56): 23840, 23846, 23858, 23866, 2383...<br>intent (len: 8): C7_Restrictions on internal movem...<br>new extent (len: 0): \\u2205<br>new_intent (len: 2): C7_Restrictions on internal m...<br>metric Confirmed_diff_mean = 138.92857142857142<br>metric Confirmed_diff_std = 351.5801140897713<br>metric Deaths_diff_mean = 2.9464285714285716<br>metric Deaths_diff_std = 7.23230038308482<br>metric Recovered_diff_mean = 1.875<br>metric Recovered_diff_std = 11.758265951313492<br>metric stab_min_bound = 0.7490234375<br>metric stab_max_bound = 0.75<br>metric log_stab_min_bound = 1.994375450806122<br>metric log_stab_max_bound = 2.0<br>metric lstab_min_bound = -6.0<br>\", \"PatternStructure 32<br><br>extent (len: 9): 23888, 23881, 23889, 23882, 23885...<br>intent (len: 8): C6_Stay at home requirements = 0....<br>new extent (len: 0): \\u2205<br>new_intent (len: 0): \\u2205<br>metric Confirmed_diff_mean = 225.77777777777777<br>metric Confirmed_diff_std = 173.01067725560884<br>metric Deaths_diff_mean = 4.333333333333333<br>metric Deaths_diff_std = 2.7838821814150108<br>metric Recovered_diff_mean = 0.5555555555555556<br>metric Recovered_diff_std = 1.3333333333333335<br>metric stab_min_bound = 0.86328125<br>metric stab_max_bound = 0.875<br>metric log_stab_min_bound = 2.8707169830550336<br>metric log_stab_max_bound = 3.0<br>metric lstab_min_bound = -5.0<br>\", \"PatternStructure 31<br><br>extent (len: 9): 23878, 23879, 23881, 23882, 23880...<br>intent (len: 8): C6_Stay at home requirements = 0....<br>new extent (len: 0): \\u2205<br>new_intent (len: 1): C3_Cancel public events<br>metric Confirmed_diff_mean = 98.66666666666667<br>metric Confirmed_diff_std = 110.74407433357327<br>metric Deaths_diff_mean = 3.0<br>metric Deaths_diff_std = 1.8708286933869707<br>metric Recovered_diff_mean = 0.1111111111111111<br>metric Recovered_diff_std = 0.3333333333333333<br>metric stab_min_bound = 0.859375<br>metric stab_max_bound = 0.875<br>metric log_stab_min_bound = 2.830074998557688<br>metric log_stab_max_bound = 3.0<br>metric lstab_min_bound = -5.0<br>\", \"PatternStructure 16<br><br>extent (len: 44): 23858, 23866, 23870, 23865, 2385...<br>intent (len: 8): C7_Restrictions on internal movem...<br>new extent (len: 0): \\u2205<br>new_intent (len: 0): \\u2205<br>metric Confirmed_diff_mean = 105.75<br>metric Confirmed_diff_std = 237.56292923946953<br>metric Deaths_diff_mean = 2.272727272727273<br>metric Deaths_diff_std = 4.867374232981276<br>metric Recovered_diff_mean = 0.38636363636363635<br>metric Recovered_diff_std = 1.082974136797604<br>metric stab_min_bound = 0.8749999981373549<br>metric stab_max_bound = 0.875<br>metric log_stab_min_bound = 2.999999978502169<br>metric log_stab_max_bound = 3.0<br>metric lstab_min_bound = -5.0<br>\", \"PatternStructure 21<br><br>extent (len: 32): 23858, 23866, 23870, 23865, 2385...<br>intent (len: 8): C3_Cancel public events in [0.0, ...<br>new extent (len: 0): \\u2205<br>new_intent (len: 0): \\u2205<br>metric Confirmed_diff_mean = 4.40625<br>metric Confirmed_diff_std = 9.448875594482129<br>metric Deaths_diff_mean = 0.34375<br>metric Deaths_diff_std = 1.1247759633553411<br>metric Recovered_diff_mean = 0.21875<br>metric Recovered_diff_std = 0.6591477880199651<br>metric stab_min_bound = 0.9374999976716936<br>metric stab_max_bound = 0.9375<br>metric log_stab_min_bound = 3.9999999462554228<br>metric log_stab_max_bound = 4.0<br>metric lstab_min_bound = -4.0<br>\", \"PatternStructure 13<br><br>extent (len: 48): 23858, 23866, 23870, 23865, 2385...<br>intent (len: 8): C3_Cancel public events in [0.0, ...<br>new extent (len: 0): \\u2205<br>new_intent (len: 0): \\u2205<br>metric Confirmed_diff_mean = 401.375<br>metric Confirmed_diff_std = 1187.5972099069295<br>metric Deaths_diff_mean = 7.291666666666667<br>metric Deaths_diff_std = 19.53061789757285<br>metric Recovered_diff_mean = 3.0625<br>metric Recovered_diff_std = 13.275166785825682<br>metric stab_min_bound = 0.7499999981373549<br>metric stab_max_bound = 0.75<br>metric log_stab_min_bound = 1.9999999892510845<br>metric log_stab_max_bound = 2.0<br>metric lstab_min_bound = -6.0<br>\", \"PatternStructure 1<br><br>extent (len: 96): 23930, 23934, 23866, 23870, 2391...<br>intent (len: 8): C3_Cancel public events in [0.0, ...<br>new extent (len: 0): \\u2205<br>new_intent (len: 1): C8_International travel contr...<br>metric Confirmed_diff_mean = 13093.90625<br>metric Confirmed_diff_std = 13733.115453705419<br>metric Deaths_diff_mean = 788.1458333333334<br>metric Deaths_diff_std = 943.5550911778914<br>metric Recovered_diff_mean = 2031.625<br>metric Recovered_diff_std = 4421.294919269455<br>metric stab_min_bound = 0.9999999981373513<br>metric stab_max_bound = 0.9999999981373549<br>metric log_stab_min_bound = 28.99999724828021<br>metric log_stab_max_bound = 29.0<br>metric lstab_min_bound = 21.0<br>\", \"PatternStructure 33<br><br>extent (len: 9): 23888, 23889, 23891, 23894, 23892...<br>intent (len: 8): C6_Stay at home requirements in [...<br>new extent (len: 0): \\u2205<br>new_intent (len: 1): C4_Restrictions on gatherings<br>metric Confirmed_diff_mean = 1998.7777777777778<br>metric Confirmed_diff_std = 2172.946201461151<br>metric Deaths_diff_mean = 34.888888888888886<br>metric Deaths_diff_std = 34.188610839153895<br>metric Recovered_diff_mean = 15.444444444444445<br>metric Recovered_diff_std = 28.65794440949626<br>metric stab_min_bound = 0.625<br>metric stab_max_bound = 0.75<br>metric log_stab_min_bound = 1.415037499278844<br>metric log_stab_max_bound = 2.0<br>metric lstab_min_bound = -6.0<br>\", \"PatternStructure 7<br><br>extent (len: 54): 23840, 23846, 23858, 23866, 2383...<br>intent (len: 8): C7_Restrictions on internal movem...<br>new extent (len: 0): \\u2205<br>new_intent (len: 1): C5_Close public transport<br>metric Confirmed_diff_mean = 86.29629629629629<br>metric Confirmed_diff_std = 217.9095908796685<br>metric Deaths_diff_mean = 1.8518518518518519<br>metric Deaths_diff_std = 4.473854475106502<br>metric Recovered_diff_mean = 0.3148148148148148<br>metric Recovered_diff_std = 0.9871643030852636<br>metric stab_min_bound = 0.8740234375<br>metric stab_max_bound = 0.875<br>metric log_stab_min_bound = 2.988772744576746<br>metric log_stab_max_bound = 3.0<br>metric lstab_min_bound = -5.0<br>\", \"PatternStructure 23<br><br>extent (len: 19): 23886, 23878, 23879, 23889, 2388...<br>intent (len: 8): C6_Stay at home requirements in [...<br>new extent (len: 0): \\u2205<br>new_intent (len: 0): \\u2205<br>metric Confirmed_diff_mean = 1010.5263157894736<br>metric Confirmed_diff_std = 1741.9262762949481<br>metric Deaths_diff_mean = 18.36842105263158<br>metric Deaths_diff_std = 27.9567334888828<br>metric Recovered_diff_mean = 7.368421052631579<br>metric Recovered_diff_std = 20.66454431660339<br>metric stab_min_bound = 0.625<br>metric stab_max_bound = 0.75<br>metric log_stab_min_bound = 1.415037499278844<br>metric log_stab_max_bound = 2.0<br>metric lstab_min_bound = -6.0<br>\", \"PatternStructure 37<br><br>extent (len: 5): 23888, 23889, 23891, 23892, 23890<br>intent (len: 8): C6_Stay at home requirements in [...<br>new extent (len: 0): \\u2205<br>new_intent (len: 0): \\u2205<br>metric Confirmed_diff_mean = 675.2<br>metric Confirmed_diff_std = 294.88251898001687<br>metric Deaths_diff_mean = 12.8<br>metric Deaths_diff_std = 7.9498427657407165<br>metric Recovered_diff_mean = 1.8<br>metric Recovered_diff_std = 2.489979919597747<br>metric stab_min_bound = 0.6875<br>metric stab_max_bound = 0.875<br>metric log_stab_min_bound = 1.6780719051126376<br>metric log_stab_max_bound = 3.0<br>metric lstab_min_bound = -5.0<br>\", \"PatternStructure 20<br><br>extent (len: 38): 23858, 23866, 23870, 23865, 2385...<br>intent (len: 8): C3_Cancel public events in [0.0, ...<br>new extent (len: 0): \\u2205<br>new_intent (len: 0): \\u2205<br>metric Confirmed_diff_mean = 25.105263157894736<br>metric Confirmed_diff_std = 66.42036055212907<br>metric Deaths_diff_mean = 0.7368421052631579<br>metric Deaths_diff_std = 1.5541437292452087<br>metric Recovered_diff_mean = 0.21052631578947367<br>metric Recovered_diff_std = 0.6220234955518095<br>metric stab_min_bound = 0.9843749981373549<br>metric stab_max_bound = 0.984375<br>metric log_stab_min_bound = 5.999999828017359<br>metric log_stab_max_bound = 6.0<br>metric lstab_min_bound = -2.0<br>\", \"PatternStructure 8<br><br>extent (len: 54): 23922, 23930, 23923, 23912, 2393...<br>intent (len: 8): C6_Stay at home requirements = 2....<br>new extent (len: 0): \\u2205<br>new_intent (len: 2): C7_Restrictions on internal m...<br>metric Confirmed_diff_mean = 23227.666666666668<br>metric Confirmed_diff_std = 9943.961286905318<br>metric Deaths_diff_mean = 1400.037037037037<br>metric Deaths_diff_std = 850.8026834404942<br>metric Recovered_diff_mean = 3611.5555555555557<br>metric Recovered_diff_std = 5406.051122782541<br>metric stab_min_bound = 0.7499999999999964<br>metric stab_max_bound = 0.75<br>metric log_stab_min_bound = 1.9999999999999796<br>metric log_stab_max_bound = 2.0<br>metric lstab_min_bound = -6.0<br>\", \"PatternStructure 17<br><br>extent (len: 42): 23840, 23846, 23858, 23866, 2383...<br>intent (len: 8): C3_Cancel public events in [0.0, ...<br>new extent (len: 0): \\u2205<br>new_intent (len: 1): C1_School closing<br>metric Confirmed_diff_mean = 3.5238095238095237<br>metric Confirmed_diff_std = 8.384765788541<br>metric Deaths_diff_mean = 0.2619047619047619<br>metric Deaths_diff_std = 0.9891983403555311<br>metric Recovered_diff_mean = 0.16666666666666666<br>metric Recovered_diff_std = 0.580860029597269<br>metric stab_min_bound = 0.9365234375<br>metric stab_max_bound = 0.9375<br>metric log_stab_min_bound = 3.9776321869715456<br>metric log_stab_max_bound = 4.0<br>metric lstab_min_bound = -4.0<br>\", \"PatternStructure 10<br><br>extent (len: 51): 23840, 23846, 23858, 23866, 2383...<br>intent (len: 8): C3_Cancel public events in [0.0, ...<br>new extent (len: 0): \\u2205<br>new_intent (len: 2): C7_Restrictions on internal m...<br>metric Confirmed_diff_mean = 42.745098039215684<br>metric Confirmed_diff_std = 110.31424987502837<br>metric Deaths_diff_mean = 0.9803921568627451<br>metric Deaths_diff_std = 2.1212279092868016<br>metric Recovered_diff_mean = 0.23529411764705882<br>metric Recovered_diff_std = 0.7638909685057851<br>metric stab_min_bound = 0.8740234375<br>metric stab_max_bound = 0.875<br>metric log_stab_min_bound = 2.988772744576746<br>metric log_stab_max_bound = 3.0<br>metric lstab_min_bound = -5.0<br>\", \"PatternStructure 28<br><br>extent (len: 12): 23878, 23879, 23888, 23881, 2388...<br>intent (len: 8): C6_Stay at home requirements = 0....<br>new extent (len: 0): \\u2205<br>new_intent (len: 0): \\u2205<br>metric Confirmed_diff_mean = 175.58333333333334<br>metric Confirmed_diff_std = 173.26409602019964<br>metric Deaths_diff_mean = 4.083333333333333<br>metric Deaths_diff_std = 2.5746432527221863<br>metric Recovered_diff_mean = 0.4166666666666667<br>metric Recovered_diff_std = 1.164500152881315<br>metric stab_min_bound = 0.75<br>metric stab_max_bound = 0.875<br>metric log_stab_min_bound = 2.0<br>metric log_stab_max_bound = 3.0<br>metric lstab_min_bound = -5.0<br>\", \"PatternStructure 22<br><br>extent (len: 28): 23858, 23866, 23870, 23865, 2385...<br>intent (len: 8): C6_Stay at home requirements = 0....<br>new extent (len: 28): 23858, 23866, 23870, 23865, ...<br>new_intent (len: 1): C8_International travel contr...<br>metric Confirmed_diff_mean = 2.142857142857143<br>metric Confirmed_diff_std = 6.905254498028271<br>metric Deaths_diff_mean = 0.03571428571428571<br>metric Deaths_diff_std = 0.18898223650461363<br>metric Recovered_diff_mean = 0.25<br>metric Recovered_diff_std = 0.700528900717694<br>metric stab_min_bound = 0.9999999962747097<br>metric stab_max_bound = 0.9999999962747097<br>metric log_stab_min_bound = 28.0<br>metric log_stab_max_bound = 28.0<br>metric lstab_min_bound = 20.0<br>\", \"PatternStructure 26<br><br>extent (len: 15): 23878, 23879, 23888, 23881, 2388...<br>intent (len: 8): C7_Restrictions on internal movem...<br>new extent (len: 0): \\u2205<br>new_intent (len: 0): \\u2205<br>metric Confirmed_diff_mean = 305.8<br>metric Confirmed_diff_std = 328.92165806291496<br>metric Deaths_diff_mean = 6.6<br>metric Deaths_diff_std = 6.500549427328651<br>metric Recovered_diff_mean = 0.6666666666666666<br>metric Recovered_diff_std = 1.5886502207249786<br>metric stab_min_bound = 0.75<br>metric stab_max_bound = 0.875<br>metric log_stab_min_bound = 2.0<br>metric log_stab_max_bound = 3.0<br>metric lstab_min_bound = -5.0<br>\", \"PatternStructure 34<br><br>extent (len: 7): 23888, 23889, 23891, 23894, 23892...<br>intent (len: 8): C6_Stay at home requirements in [...<br>new extent (len: 0): \\u2205<br>new_intent (len: 0): \\u2205<br>metric Confirmed_diff_mean = 928.0<br>metric Confirmed_diff_std = 509.82382578037027<br>metric Deaths_diff_mean = 18.428571428571427<br>metric Deaths_diff_std = 11.631238725334216<br>metric Recovered_diff_mean = 13.857142857142858<br>metric Recovered_diff_std = 32.76394650337762<br>metric stab_min_bound = 0.625<br>metric stab_max_bound = 0.75<br>metric log_stab_min_bound = 1.415037499278844<br>metric log_stab_max_bound = 2.0<br>metric lstab_min_bound = -6.0<br>\", \"PatternStructure 45<br><br>extent (len: 1): 23877<br>intent (len: 8): C6_Stay at home requirements = 0....<br>new extent (len: 1): 23877<br>new_intent (len: 2): C8_International travel contr...<br>metric Confirmed_diff_mean = 6.0<br>metric Confirmed_diff_std = nan<br>metric Deaths_diff_mean = 0.0<br>metric Deaths_diff_std = nan<br>metric Recovered_diff_mean = 0.0<br>metric Recovered_diff_std = nan<br>metric stab_min_bound = 0.5<br>metric stab_max_bound = 0.5<br>metric log_stab_min_bound = 1.0<br>metric log_stab_max_bound = 1.0<br>metric lstab_min_bound = -7.0<br>\", \"PatternStructure 11<br><br>extent (len: 50): 23922, 23930, 23923, 23912, 2393...<br>intent (len: 8): C2_Workplace closing = 3.0, C6_St...<br>new extent (len: 0): \\u2205<br>new_intent (len: 2): C7_Restrictions on internal m...<br>metric Confirmed_diff_mean = 24984.84<br>metric Confirmed_diff_std = 8025.596117118158<br>metric Deaths_diff_mean = 1509.94<br>metric Deaths_diff_std = 785.2144750555319<br>metric Recovered_diff_mean = 3898.62<br>metric Recovered_diff_std = 5520.492343061072<br>metric stab_min_bound = 0.7499999999999964<br>metric stab_max_bound = 0.75<br>metric log_stab_min_bound = 1.9999999999999796<br>metric log_stab_max_bound = 2.0<br>metric lstab_min_bound = -6.0<br>\", \"PatternStructure 40<br><br>extent (len: 3): 23878, 23880, 23879<br>intent (len: 8): C6_Stay at home requirements = 0....<br>new extent (len: 3): 23878, 23880, 23879<br>new_intent (len: 0): \\u2205<br>metric Confirmed_diff_mean = 25.0<br>metric Confirmed_diff_std = 5.5677643628300215<br>metric Deaths_diff_mean = 3.3333333333333335<br>metric Deaths_diff_std = 2.081665999466133<br>metric Recovered_diff_mean = 0.0<br>metric Recovered_diff_std = 0.0<br>metric stab_min_bound = 0.875<br>metric stab_max_bound = 0.875<br>metric log_stab_min_bound = 3.0<br>metric log_stab_max_bound = 3.0<br>metric lstab_min_bound = -5.0<br>\", \"PatternStructure 39<br><br>extent (len: 4): 23894, 23895, 23893, 23896<br>intent (len: 8): C6_Stay at home requirements = 2....<br>new extent (len: 0): \\u2205<br>new_intent (len: 0): \\u2205<br>metric Confirmed_diff_mean = 3653.25<br>metric Confirmed_diff_std = 2430.180703157689<br>metric Deaths_diff_mean = 62.5<br>metric Deaths_diff_std = 34.68429039204925<br>metric Recovered_diff_mean = 32.5<br>metric Recovered_diff_std = 38.518393874442204<br>metric stab_min_bound = 0.5<br>metric stab_max_bound = 0.75<br>metric log_stab_min_bound = 1.0<br>metric log_stab_max_bound = 2.0<br>metric lstab_min_bound = -6.0<br>\", \"PatternStructure 0<br><br>extent (len: 106): 23930, 23934, 23866, 23870, 239...<br>intent (len: 8): C3_Cancel public events in [0.0, ...<br>new extent (len: 0): \\u2205<br>new_intent (len: 8): C7_Restrictions on internal m...<br>metric Confirmed_diff_mean = 11858.698113207547<br>metric Confirmed_diff_std = 13617.022213580298<br>metric Deaths_diff_mean = 713.7924528301887<br>metric Deaths_diff_std = 926.8680772927734<br>metric Recovered_diff_mean = 1839.9622641509434<br>metric Recovered_diff_std = 4247.606346491271<br>metric stab_min_bound = 0.9990234374999964<br>metric stab_max_bound = 0.9990234375<br>metric log_stab_min_bound = 9.99999999999475<br>metric log_stab_max_bound = 10.0<br>metric lstab_min_bound = 2.0<br>\", \"PatternStructure 18<br><br>extent (len: 41): 23858, 23866, 23870, 23865, 2385...<br>intent (len: 8): C3_Cancel public events in [0.0, ...<br>new extent (len: 0): \\u2205<br>new_intent (len: 0): \\u2205<br>metric Confirmed_diff_mean = 53.0<br>metric Confirmed_diff_std = 121.08488757892125<br>metric Deaths_diff_mean = 1.2195121951219512<br>metric Deaths_diff_std = 2.3077282673871204<br>metric Recovered_diff_mean = 0.2926829268292683<br>metric Recovered_diff_std = 0.8439165373135065<br>metric stab_min_bound = 0.8749999981373549<br>metric stab_max_bound = 0.875<br>metric log_stab_min_bound = 2.999999978502169<br>metric log_stab_max_bound = 3.0<br>metric lstab_min_bound = -5.0<br>\", \"PatternStructure 38<br><br>extent (len: 4): 23891, 23894, 23893, 23892<br>intent (len: 8): C6_Stay at home requirements = 2....<br>new extent (len: 0): \\u2205<br>new_intent (len: 1): C7_Restrictions on internal m...<br>metric Confirmed_diff_mean = 1263.0<br>metric Confirmed_diff_std = 406.9029368289199<br>metric Deaths_diff_mean = 26.25<br>metric Deaths_diff_std = 8.80814017448254<br>metric Recovered_diff_mean = 23.25<br>metric Recovered_diff_std = 43.23096883793685<br>metric stab_min_bound = 0.5<br>metric stab_max_bound = 0.75<br>metric log_stab_min_bound = 1.0<br>metric log_stab_max_bound = 2.0<br>metric lstab_min_bound = -6.0<br>\", \"PatternStructure 4<br><br>extent (len: 58): 23840, 23846, 23858, 23866, 2383...<br>intent (len: 8): C3_Cancel public events in [0.0, ...<br>new extent (len: 0): \\u2205<br>new_intent (len: 1): C4_Restrictions on gatherings<br>metric Confirmed_diff_mean = 332.2931034482759<br>metric Confirmed_diff_std = 1089.155604184747<br>metric Deaths_diff_mean = 6.0344827586206895<br>metric Deaths_diff_std = 17.95116720755875<br>metric Recovered_diff_mean = 2.5344827586206895<br>metric Recovered_diff_std = 12.110913618515166<br>metric stab_min_bound = 0.7490234375<br>metric stab_max_bound = 0.75<br>metric log_stab_min_bound = 1.994375450806122<br>metric log_stab_max_bound = 2.0<br>metric lstab_min_bound = -6.0<br>\", \"PatternStructure 35<br><br>extent (len: 6): 23881, 23882, 23885, 23884, 23883...<br>intent (len: 8): C6_Stay at home requirements = 0....<br>new extent (len: 6): 23881, 23882, 23885, 23884, 2...<br>new_intent (len: 0): \\u2205<br>metric Confirmed_diff_mean = 135.5<br>metric Confirmed_diff_std = 121.35196743357727<br>metric Deaths_diff_mean = 2.8333333333333335<br>metric Deaths_diff_std = 1.9407902170679516<br>metric Recovered_diff_mean = 0.16666666666666666<br>metric Recovered_diff_std = 0.408248290463863<br>metric stab_min_bound = 0.984375<br>metric stab_max_bound = 0.984375<br>metric log_stab_min_bound = 6.0<br>metric log_stab_max_bound = 6.0<br>metric lstab_min_bound = -2.0<br>\", \"PatternStructure 2<br><br>extent (len: 67): 23922, 23930, 23923, 23912, 2393...<br>intent (len: 8): C6_Stay at home requirements in [...<br>new extent (len: 0): \\u2205<br>new_intent (len: 2): C8_International travel contr...<br>metric Confirmed_diff_mean = 18760.432835820895<br>metric Confirmed_diff_std = 12789.189046273797<br>metric Deaths_diff_mean = 1129.2686567164178<br>metric Deaths_diff_std = 943.6328347031945<br>metric Recovered_diff_mean = 2910.8805970149256<br>metric Recovered_diff_std = 5053.620812730239<br>metric stab_min_bound = 0.8749999999999964<br>metric stab_max_bound = 0.875<br>metric log_stab_min_bound = 2.999999999999959<br>metric log_stab_max_bound = 3.0<br>metric lstab_min_bound = -5.0<br>\", \"PatternStructure 27<br><br>extent (len: 14): 23888, 23881, 23889, 23882, 2389...<br>intent (len: 8): C7_Restrictions on internal movem...<br>new extent (len: 0): \\u2205<br>new_intent (len: 0): \\u2205<br>metric Confirmed_diff_mean = 545.1428571428571<br>metric Confirmed_diff_std = 534.602779517776<br>metric Deaths_diff_mean = 11.0<br>metric Deaths_diff_std = 11.183779462995641<br>metric Recovered_diff_mean = 7.0<br>metric Recovered_diff_std = 23.36993466302048<br>metric stab_min_bound = 0.7421875<br>metric stab_max_bound = 0.75<br>metric log_stab_min_bound = 1.9556058806415466<br>metric log_stab_max_bound = 2.0<br>metric lstab_min_bound = -6.0<br>\", \"PatternStructure 5<br><br>extent (len: 57): 23922, 23930, 23923, 23912, 2393...<br>intent (len: 8): C6_Stay at home requirements in [...<br>new extent (len: 0): \\u2205<br>new_intent (len: 2): C4_Restrictions on gatherings...<br>metric Confirmed_diff_mean = 22030.491228070176<br>metric Confirmed_diff_std = 10947.336406507435<br>metric Deaths_diff_mean = 1326.7719298245613<br>metric Deaths_diff_std = 885.1170426548091<br>metric Recovered_diff_mean = 3421.5438596491226<br>metric Recovered_diff_std = 5321.769264976558<br>metric stab_min_bound = 0.8749999999999964<br>metric stab_max_bound = 0.875<br>metric log_stab_min_bound = 2.999999999999959<br>metric log_stab_max_bound = 3.0<br>metric lstab_min_bound = -5.0<br>\", \"PatternStructure 29<br><br>extent (len: 12): 23888, 23881, 23889, 23882, 2389...<br>intent (len: 8): C7_Restrictions on internal movem...<br>new extent (len: 0): \\u2205<br>new_intent (len: 0): \\u2205<br>metric Confirmed_diff_mean = 376.0<br>metric Confirmed_diff_std = 332.8810871494777<br>metric Deaths_diff_mean = 7.416666666666667<br>metric Deaths_diff_std = 7.025386865223908<br>metric Recovered_diff_mean = 0.8333333333333334<br>metric Recovered_diff_std = 1.7494587907710375<br>metric stab_min_bound = 0.8671875<br>metric stab_max_bound = 0.875<br>metric log_stab_min_bound = 2.9125371587496605<br>metric log_stab_max_bound = 3.0<br>metric lstab_min_bound = -5.0<br>\", \"PatternStructure 12<br><br>extent (len: 48): 23840, 23846, 23858, 23866, 2383...<br>intent (len: 8): C3_Cancel public events in [0.0, ...<br>new extent (len: 0): \\u2205<br>new_intent (len: 2): C4_Restrictions on gatherings...<br>metric Confirmed_diff_mean = 20.020833333333332<br>metric Confirmed_diff_std = 59.77919996308876<br>metric Deaths_diff_mean = 0.5833333333333334<br>metric Deaths_diff_std = 1.4117038646325368<br>metric Recovered_diff_mean = 0.16666666666666666<br>metric Recovered_diff_std = 0.5586203877309286<br>metric stab_min_bound = 0.9833984375<br>metric stab_max_bound = 0.984375<br>metric log_stab_min_bound = 5.912537158749661<br>metric log_stab_max_bound = 6.0<br>metric lstab_min_bound = -2.0<br>\", \"PatternStructure 25<br><br>extent (len: 16): 23888, 23881, 23889, 23882, 2389...<br>intent (len: 8): C6_Stay at home requirements in [...<br>new extent (len: 0): \\u2205<br>new_intent (len: 0): \\u2205<br>metric Confirmed_diff_mean = 1195.3125<br>metric Confirmed_diff_std = 1846.7511190827347<br>metric Deaths_diff_mean = 21.1875<br>metric Deaths_diff_std = 29.725900603121627<br>metric Recovered_diff_mean = 8.75<br>metric Recovered_diff_std = 22.350242355136405<br>metric stab_min_bound = 0.7421875<br>metric stab_max_bound = 0.75<br>metric log_stab_min_bound = 1.9556058806415466<br>metric log_stab_max_bound = 2.0<br>metric lstab_min_bound = -6.0<br>\", \"PatternStructure 15<br><br>extent (len: 46): 23858, 23866, 23870, 23865, 2385...<br>intent (len: 8): C7_Restrictions on internal movem...<br>new extent (len: 0): \\u2205<br>new_intent (len: 0): \\u2205<br>metric Confirmed_diff_mean = 168.97826086956522<br>metric Confirmed_diff_std = 381.97885276720837<br>metric Deaths_diff_mean = 3.5869565217391304<br>metric Deaths_diff_std = 7.847366400282955<br>metric Recovered_diff_mean = 2.282608695652174<br>metric Recovered_diff_std = 12.962618122857505<br>metric stab_min_bound = 0.7499999981373549<br>metric stab_max_bound = 0.75<br>metric log_stab_min_bound = 1.9999999892510845<br>metric log_stab_max_bound = 2.0<br>metric lstab_min_bound = -6.0<br>\", \"PatternStructure 24<br><br>extent (len: 17): 23878, 23879, 23888, 23881, 2388...<br>intent (len: 8): C7_Restrictions on internal movem...<br>new extent (len: 0): \\u2205<br>new_intent (len: 0): \\u2205<br>metric Confirmed_diff_mean = 453.3529411764706<br>metric Confirmed_diff_std = 523.4428026509285<br>metric Deaths_diff_mean = 9.647058823529411<br>metric Deaths_diff_std = 10.547162986264293<br>metric Recovered_diff_mean = 5.764705882352941<br>metric Recovered_diff_std = 21.244203361636988<br>metric stab_min_bound = 0.625<br>metric stab_max_bound = 0.75<br>metric log_stab_min_bound = 1.415037499278844<br>metric log_stab_max_bound = 2.0<br>metric lstab_min_bound = -6.0<br>\", \"PatternStructure 48<br><br>extent (len: 0): \\u2205<br>intent (len: 0): \\u2205<br>new extent (len: 0): \\u2205<br>new_intent (len: 0): \\u2205<br>metric Confirmed_diff_mean = nan<br>metric Confirmed_diff_std = nan<br>metric Deaths_diff_mean = nan<br>metric Deaths_diff_std = nan<br>metric Recovered_diff_mean = nan<br>metric Recovered_diff_std = nan<br>metric stab_min_bound = None<br>metric stab_max_bound = None<br>metric log_stab_min_bound = None<br>metric log_stab_max_bound = None<br>metric lstab_min_bound = None<br>\"], \"marker\": {\"color\": [448.0, 2757.5, 548.0, 966.0, 1560.0, 5746.5, 24083.884615384617, 25786.4375, 0.7, 1.763157894736842, 19638.65625, 323.0, 138.92857142857142, 225.77777777777777, 98.66666666666667, 105.75, 4.40625, 401.375, 13093.90625, 1998.7777777777778, 86.29629629629629, 1010.5263157894736, 675.2, 25.105263157894736, 23227.666666666668, 3.5238095238095237, 42.745098039215684, 175.58333333333334, 2.142857142857143, 305.8, 928.0, 6.0, 24984.84, 25.0, 3653.25, 11858.698113207547, 53.0, 1263.0, 332.2931034482759, 135.5, 18760.432835820895, 545.1428571428571, 22030.491228070176, 376.0, 20.020833333333332, 1195.3125, 168.97826086956522, 453.3529411764706, null], \"colorbar\": {\"thickness\": 15, \"title\": {\"side\": \"right\", \"text\": \"y_mean\"}, \"xanchor\": \"left\"}, \"colorscale\": [[0.0, \"rgb(103,0,31)\"], [0.1, \"rgb(178,24,43)\"], [0.2, \"rgb(214,96,77)\"], [0.3, \"rgb(244,165,130)\"], [0.4, \"rgb(253,219,199)\"], [0.5, \"rgb(247,247,247)\"], [0.6, \"rgb(209,229,240)\"], [0.7, \"rgb(146,197,222)\"], [0.8, \"rgb(67,147,195)\"], [0.9, \"rgb(33,102,172)\"], [1.0, \"rgb(5,48,97)\"]], \"line\": {\"width\": 2}, \"reversescale\": true, \"showscale\": true, \"size\": 10}, \"mode\": \"markers+text\", \"text\": [\"<br>23888,23889\", \"<br>\", \"C7_Restrictions on internal movement,C6_Stay at home requirements<br>23890\", \"<br>23891,23892\", \"<br>23894,23893\", \"<br>23895,23896\", \"C5_Close public transport<br>\", \"C4_Restrictions on gatherings<br>n: 48\", \"C8_International travel controls<br>n: 10\", \"C8_International travel controls,C3_Cancel public events<br>\", \"C1_School closing<br>\", \"C4_Restrictions on gatherings,C3_Cancel public events<br>23887\", \"C7_Restrictions on internal movement,C2_Workplace closing<br>\", \"<br>\", \"C3_Cancel public events<br>\", \"<br>\", \"<br>\", \"<br>\", \"C8_International travel controls<br>\", \"C4_Restrictions on gatherings<br>\", \"C5_Close public transport<br>\", \"<br>\", \"<br>\", \"<br>\", \"C7_Restrictions on internal movement,C6_Stay at home requirements<br>\", \"C1_School closing<br>\", \"C7_Restrictions on internal movement,C6_Stay at home requirements<br>\", \"<br>\", \"C8_International travel controls<br>n: 28\", \"<br>\", \"<br>\", \"C8_International travel controls,C3_Cancel public events<br>23877\", \"C7_Restrictions on internal movement,C2_Workplace closing<br>\", \"<br>23878,23880,23879\", \"<br>\", \"n: 8<br>\", \"<br>\", \"C7_Restrictions on internal movement<br>\", \"C4_Restrictions on gatherings<br>\", \"<br>n: 6\", \"C8_International travel controls,C3_Cancel public events<br>\", \"<br>\", \"C4_Restrictions on gatherings,C3_Cancel public events<br>\", \"<br>\", \"C4_Restrictions on gatherings,C3_Cancel public events<br>\", \"<br>\", \"<br>\", \"<br>\", \"<br>\"], \"textposition\": \"middle right\", \"type\": \"scatter\", \"x\": [-5.5, -3.0, -4.5, -3.5, -2.5, -1.5, -2.0, -0.5, 0.5, -3.5, -1.5, 1.5, -1.0, -2.5, -1.5, -2.0, -0.5, 0.0, -0.5, -2.5, -0.5, 0.5, 0.5, -1.0, -1.5, 0.0, -1.0, 1.0, 2.5, -0.5, 2.0, 3.5, 1.5, 4.5, 2.5, 0.0, 0.5, 3.5, 0.5, 5.5, 1.0, 1.5, 0.0, 3.0, 2.5, 1.0, 1.5, 2.0, 0.0], \"y\": [2, 4, 2, 2, 2, 2, 4, 2, 2, 3, 7, 2, 8, 3, 3, 6, 3, 8, 9, 5, 7, 7, 3, 4, 5, 4, 6, 4, 2, 5, 4, 2, 3, 2, 3, 10, 5, 3, 9, 2, 8, 5, 6, 4, 5, 6, 7, 6, 1]}],\n",
       "                        {\"height\": 500, \"hovermode\": \"closest\", \"margin\": {\"b\": 20, \"l\": 5, \"r\": 5, \"t\": 40}, \"showlegend\": false, \"template\": {\"data\": {\"bar\": [{\"error_x\": {\"color\": \"#2a3f5f\"}, \"error_y\": {\"color\": \"#2a3f5f\"}, \"marker\": {\"line\": {\"color\": \"#E5ECF6\", \"width\": 0.5}}, \"type\": \"bar\"}], \"barpolar\": [{\"marker\": {\"line\": {\"color\": \"#E5ECF6\", \"width\": 0.5}}, \"type\": \"barpolar\"}], \"carpet\": [{\"aaxis\": {\"endlinecolor\": \"#2a3f5f\", \"gridcolor\": \"white\", \"linecolor\": \"white\", \"minorgridcolor\": \"white\", \"startlinecolor\": \"#2a3f5f\"}, \"baxis\": {\"endlinecolor\": \"#2a3f5f\", \"gridcolor\": \"white\", \"linecolor\": \"white\", \"minorgridcolor\": \"white\", \"startlinecolor\": \"#2a3f5f\"}, \"type\": \"carpet\"}], \"choropleth\": [{\"colorbar\": {\"outlinewidth\": 0, \"ticks\": \"\"}, \"type\": \"choropleth\"}], \"contour\": [{\"colorbar\": {\"outlinewidth\": 0, \"ticks\": \"\"}, \"colorscale\": [[0.0, \"#0d0887\"], [0.1111111111111111, \"#46039f\"], [0.2222222222222222, \"#7201a8\"], [0.3333333333333333, \"#9c179e\"], [0.4444444444444444, \"#bd3786\"], [0.5555555555555556, \"#d8576b\"], [0.6666666666666666, \"#ed7953\"], [0.7777777777777778, \"#fb9f3a\"], [0.8888888888888888, \"#fdca26\"], [1.0, \"#f0f921\"]], \"type\": \"contour\"}], \"contourcarpet\": [{\"colorbar\": {\"outlinewidth\": 0, \"ticks\": \"\"}, \"type\": \"contourcarpet\"}], \"heatmap\": [{\"colorbar\": {\"outlinewidth\": 0, \"ticks\": \"\"}, \"colorscale\": [[0.0, \"#0d0887\"], [0.1111111111111111, \"#46039f\"], [0.2222222222222222, \"#7201a8\"], [0.3333333333333333, \"#9c179e\"], [0.4444444444444444, \"#bd3786\"], [0.5555555555555556, \"#d8576b\"], [0.6666666666666666, \"#ed7953\"], [0.7777777777777778, \"#fb9f3a\"], [0.8888888888888888, \"#fdca26\"], [1.0, \"#f0f921\"]], \"type\": \"heatmap\"}], \"heatmapgl\": [{\"colorbar\": {\"outlinewidth\": 0, \"ticks\": \"\"}, \"colorscale\": [[0.0, \"#0d0887\"], [0.1111111111111111, \"#46039f\"], [0.2222222222222222, \"#7201a8\"], [0.3333333333333333, \"#9c179e\"], [0.4444444444444444, \"#bd3786\"], [0.5555555555555556, \"#d8576b\"], [0.6666666666666666, \"#ed7953\"], [0.7777777777777778, \"#fb9f3a\"], [0.8888888888888888, \"#fdca26\"], [1.0, \"#f0f921\"]], \"type\": \"heatmapgl\"}], \"histogram\": [{\"marker\": {\"colorbar\": {\"outlinewidth\": 0, \"ticks\": \"\"}}, \"type\": \"histogram\"}], \"histogram2d\": [{\"colorbar\": {\"outlinewidth\": 0, \"ticks\": \"\"}, \"colorscale\": [[0.0, \"#0d0887\"], [0.1111111111111111, \"#46039f\"], [0.2222222222222222, \"#7201a8\"], [0.3333333333333333, \"#9c179e\"], [0.4444444444444444, \"#bd3786\"], [0.5555555555555556, \"#d8576b\"], [0.6666666666666666, \"#ed7953\"], [0.7777777777777778, \"#fb9f3a\"], [0.8888888888888888, \"#fdca26\"], [1.0, \"#f0f921\"]], \"type\": \"histogram2d\"}], \"histogram2dcontour\": [{\"colorbar\": {\"outlinewidth\": 0, \"ticks\": \"\"}, \"colorscale\": [[0.0, \"#0d0887\"], [0.1111111111111111, \"#46039f\"], [0.2222222222222222, \"#7201a8\"], [0.3333333333333333, \"#9c179e\"], [0.4444444444444444, \"#bd3786\"], [0.5555555555555556, \"#d8576b\"], [0.6666666666666666, \"#ed7953\"], [0.7777777777777778, \"#fb9f3a\"], [0.8888888888888888, \"#fdca26\"], [1.0, \"#f0f921\"]], \"type\": \"histogram2dcontour\"}], \"mesh3d\": [{\"colorbar\": {\"outlinewidth\": 0, \"ticks\": \"\"}, \"type\": \"mesh3d\"}], \"parcoords\": [{\"line\": {\"colorbar\": {\"outlinewidth\": 0, \"ticks\": \"\"}}, \"type\": \"parcoords\"}], \"pie\": [{\"automargin\": true, \"type\": \"pie\"}], \"scatter\": [{\"marker\": {\"colorbar\": {\"outlinewidth\": 0, \"ticks\": \"\"}}, \"type\": \"scatter\"}], \"scatter3d\": [{\"line\": {\"colorbar\": {\"outlinewidth\": 0, \"ticks\": \"\"}}, \"marker\": {\"colorbar\": {\"outlinewidth\": 0, \"ticks\": \"\"}}, \"type\": \"scatter3d\"}], \"scattercarpet\": [{\"marker\": {\"colorbar\": {\"outlinewidth\": 0, \"ticks\": \"\"}}, \"type\": \"scattercarpet\"}], \"scattergeo\": [{\"marker\": {\"colorbar\": {\"outlinewidth\": 0, \"ticks\": \"\"}}, \"type\": \"scattergeo\"}], \"scattergl\": [{\"marker\": {\"colorbar\": {\"outlinewidth\": 0, \"ticks\": \"\"}}, \"type\": \"scattergl\"}], \"scattermapbox\": [{\"marker\": {\"colorbar\": {\"outlinewidth\": 0, \"ticks\": \"\"}}, \"type\": \"scattermapbox\"}], \"scatterpolar\": [{\"marker\": {\"colorbar\": {\"outlinewidth\": 0, \"ticks\": \"\"}}, \"type\": \"scatterpolar\"}], \"scatterpolargl\": [{\"marker\": {\"colorbar\": {\"outlinewidth\": 0, \"ticks\": \"\"}}, \"type\": \"scatterpolargl\"}], \"scatterternary\": [{\"marker\": {\"colorbar\": {\"outlinewidth\": 0, \"ticks\": \"\"}}, \"type\": \"scatterternary\"}], \"surface\": [{\"colorbar\": {\"outlinewidth\": 0, \"ticks\": \"\"}, \"colorscale\": [[0.0, \"#0d0887\"], [0.1111111111111111, \"#46039f\"], [0.2222222222222222, \"#7201a8\"], [0.3333333333333333, \"#9c179e\"], [0.4444444444444444, \"#bd3786\"], [0.5555555555555556, \"#d8576b\"], [0.6666666666666666, \"#ed7953\"], [0.7777777777777778, \"#fb9f3a\"], [0.8888888888888888, \"#fdca26\"], [1.0, \"#f0f921\"]], \"type\": \"surface\"}], \"table\": [{\"cells\": {\"fill\": {\"color\": \"#EBF0F8\"}, \"line\": {\"color\": \"white\"}}, \"header\": {\"fill\": {\"color\": \"#C8D4E3\"}, \"line\": {\"color\": \"white\"}}, \"type\": \"table\"}]}, \"layout\": {\"annotationdefaults\": {\"arrowcolor\": \"#2a3f5f\", \"arrowhead\": 0, \"arrowwidth\": 1}, \"coloraxis\": {\"colorbar\": {\"outlinewidth\": 0, \"ticks\": \"\"}}, \"colorscale\": {\"diverging\": [[0, \"#8e0152\"], [0.1, \"#c51b7d\"], [0.2, \"#de77ae\"], [0.3, \"#f1b6da\"], [0.4, \"#fde0ef\"], [0.5, \"#f7f7f7\"], [0.6, \"#e6f5d0\"], [0.7, \"#b8e186\"], [0.8, \"#7fbc41\"], [0.9, \"#4d9221\"], [1, \"#276419\"]], \"sequential\": [[0.0, \"#0d0887\"], [0.1111111111111111, \"#46039f\"], [0.2222222222222222, \"#7201a8\"], [0.3333333333333333, \"#9c179e\"], [0.4444444444444444, \"#bd3786\"], [0.5555555555555556, \"#d8576b\"], [0.6666666666666666, \"#ed7953\"], [0.7777777777777778, \"#fb9f3a\"], [0.8888888888888888, \"#fdca26\"], [1.0, \"#f0f921\"]], \"sequentialminus\": [[0.0, \"#0d0887\"], [0.1111111111111111, \"#46039f\"], [0.2222222222222222, \"#7201a8\"], [0.3333333333333333, \"#9c179e\"], [0.4444444444444444, \"#bd3786\"], [0.5555555555555556, \"#d8576b\"], [0.6666666666666666, \"#ed7953\"], [0.7777777777777778, \"#fb9f3a\"], [0.8888888888888888, \"#fdca26\"], [1.0, \"#f0f921\"]]}, \"colorway\": [\"#636efa\", \"#EF553B\", \"#00cc96\", \"#ab63fa\", \"#FFA15A\", \"#19d3f3\", \"#FF6692\", \"#B6E880\", \"#FF97FF\", \"#FECB52\"], \"font\": {\"color\": \"#2a3f5f\"}, \"geo\": {\"bgcolor\": \"white\", \"lakecolor\": \"white\", \"landcolor\": \"#E5ECF6\", \"showlakes\": true, \"showland\": true, \"subunitcolor\": \"white\"}, \"hoverlabel\": {\"align\": \"left\"}, \"hovermode\": \"closest\", \"mapbox\": {\"style\": \"light\"}, \"paper_bgcolor\": \"white\", \"plot_bgcolor\": \"#E5ECF6\", \"polar\": {\"angularaxis\": {\"gridcolor\": \"white\", \"linecolor\": \"white\", \"ticks\": \"\"}, \"bgcolor\": \"#E5ECF6\", \"radialaxis\": {\"gridcolor\": \"white\", \"linecolor\": \"white\", \"ticks\": \"\"}}, \"scene\": {\"xaxis\": {\"backgroundcolor\": \"#E5ECF6\", \"gridcolor\": \"white\", \"gridwidth\": 2, \"linecolor\": \"white\", \"showbackground\": true, \"ticks\": \"\", \"zerolinecolor\": \"white\"}, \"yaxis\": {\"backgroundcolor\": \"#E5ECF6\", \"gridcolor\": \"white\", \"gridwidth\": 2, \"linecolor\": \"white\", \"showbackground\": true, \"ticks\": \"\", \"zerolinecolor\": \"white\"}, \"zaxis\": {\"backgroundcolor\": \"#E5ECF6\", \"gridcolor\": \"white\", \"gridwidth\": 2, \"linecolor\": \"white\", \"showbackground\": true, \"ticks\": \"\", \"zerolinecolor\": \"white\"}}, \"shapedefaults\": {\"line\": {\"color\": \"#2a3f5f\"}}, \"ternary\": {\"aaxis\": {\"gridcolor\": \"white\", \"linecolor\": \"white\", \"ticks\": \"\"}, \"baxis\": {\"gridcolor\": \"white\", \"linecolor\": \"white\", \"ticks\": \"\"}, \"bgcolor\": \"#E5ECF6\", \"caxis\": {\"gridcolor\": \"white\", \"linecolor\": \"white\", \"ticks\": \"\"}}, \"title\": {\"x\": 0.05}, \"xaxis\": {\"automargin\": true, \"gridcolor\": \"white\", \"linecolor\": \"white\", \"ticks\": \"\", \"title\": {\"standoff\": 15}, \"zerolinecolor\": \"white\", \"zerolinewidth\": 2}, \"yaxis\": {\"automargin\": true, \"gridcolor\": \"white\", \"linecolor\": \"white\", \"ticks\": \"\", \"title\": {\"standoff\": 15}, \"zerolinecolor\": \"white\", \"zerolinewidth\": 2}}}, \"title\": {\"font\": {\"size\": 16}, \"text\": \"Concept Lattice\"}, \"width\": 1000, \"xaxis\": {\"showgrid\": false, \"showticklabels\": false, \"zeroline\": false}, \"yaxis\": {\"showgrid\": false, \"showticklabels\": false, \"zeroline\": false}},\n",
       "                        {\"responsive\": true}\n",
       "                    ).then(function(){\n",
       "                            \n",
       "var gd = document.getElementById('3d7fb94b-487b-484f-a114-4f70fbe2a857');\n",
       "var x = new MutationObserver(function (mutations, observer) {{\n",
       "        var display = window.getComputedStyle(gd).display;\n",
       "        if (!display || display === 'none') {{\n",
       "            console.log([gd, 'removed!']);\n",
       "            Plotly.purge(gd);\n",
       "            observer.disconnect();\n",
       "        }}\n",
       "}});\n",
       "\n",
       "// Listen for the removal of the full notebook cells\n",
       "var notebookContainer = gd.closest('#notebook-container');\n",
       "if (notebookContainer) {{\n",
       "    x.observe(notebookContainer, {childList: true});\n",
       "}}\n",
       "\n",
       "// Listen for the clearing of the current output cell\n",
       "var outputEl = gd.closest('.output');\n",
       "if (outputEl) {{\n",
       "    x.observe(outputEl, {childList: true});\n",
       "}}\n",
       "\n",
       "                        })\n",
       "                };\n",
       "                });\n",
       "            </script>\n",
       "        </div>"
      ]
     },
     "metadata": {},
     "output_type": "display_data"
    }
   ],
   "source": [
    "fig_stab"
   ]
  },
  {
   "cell_type": "code",
   "execution_count": 510,
   "metadata": {},
   "outputs": [
    {
     "data": {
      "text/plain": [
       "{'Confirmed_diff_mean': 52.46153846153846,\n",
       " 'Confirmed_diff_std': 129.76864202298137,\n",
       " 'Deaths_diff_mean': 1.1538461538461537,\n",
       " 'Deaths_diff_std': 2.4445587065940795,\n",
       " 'Recovered_diff_mean': 0.23076923076923078,\n",
       " 'Recovered_diff_std': 0.7570682517832988,\n",
       " 'stab_min_bound': 0.4990234375,\n",
       " 'stab_max_bound': 0.5,\n",
       " 'log_stab_min_bound': 0.997184984392946,\n",
       " 'log_stab_max_bound': 1.0,\n",
       " 'lstab_min_bound': -7.0}"
      ]
     },
     "execution_count": 510,
     "metadata": {},
     "output_type": "execute_result"
    }
   ],
   "source": [
    "fm.get_concept_by_id(10)._metrics"
   ]
  },
  {
   "cell_type": "code",
   "execution_count": 511,
   "metadata": {},
   "outputs": [
    {
     "data": {
      "text/html": [
       "[array([25786.4375,  1569.    ,  4060.1875])]"
      ],
      "text/plain": [
       "[array([25786.4375,  1569.    ,  4060.1875])]"
      ]
     },
     "execution_count": 511,
     "metadata": {},
     "output_type": "execute_result"
    }
   ],
   "source": [
    "fm.predict_context(mvcntx_nodup_test, metric=[f+'_diff_mean' for f in cols_target])"
   ]
  },
  {
   "cell_type": "code",
   "execution_count": null,
   "metadata": {},
   "outputs": [],
   "source": []
  },
  {
   "cell_type": "code",
   "execution_count": null,
   "metadata": {},
   "outputs": [],
   "source": []
  },
  {
   "cell_type": "code",
   "execution_count": 516,
   "metadata": {},
   "outputs": [
    {
     "data": {
      "text/plain": [
       "PatternStructure 5\n",
       "level: 2\n",
       "extent (len: 68): 23877, 23878, 23879, 23880, 23881, 23882, 23883, 23884, 23885, 23886, 23887, 23888, 23889, 23890, 23891, 23892, 23893, 23894, 23895, 23896, 23897, 23898, 23899, 23900, 23901, 23902, 23903, 23904, 23905, 23906, 23907, 23908, 23909, 23910, 23911, 23912, 23913, 23914, 23915, 23916, 23917, 23918, 23919, 23920, 23921, 23922, 23923, 23924, 23925, 23926, 23927, 23928, 23929, 23930, 23931, 23932, 23933, 23934, 23935, 23936, 23937, 23938, 23939, 23940, 23941, 23942, 23943, 23944\n",
       "intent (len: 8): C1_School closing in [0.0, 3.0], C2_Workplace closing in [0.0, 3.0], C3_Cancel public events in [1.0, 2.0], C4_Restrictions on gatherings in [0.0, 4.0], C5_Close public transport in [0.0, 1.0], C6_Stay at home requirements in [0.0, 2.0], C7_Restrictions on internal movement in [0.0, 2.0], C8_International travel controls in [2.0, 3.0]\n",
       "new extent (len: 0): ∅\n",
       "new_intent (len: 1): C3_Cancel public events\n",
       "lower neighbours (len: 2): 8, 9\n",
       "upper neighbours (len: 1): 2\n",
       "metric Confirmed_diff_mean = 18484.632352941175\n",
       "metric Confirmed_diff_std = 12895.526122159417\n",
       "metric Deaths_diff_mean = 1112.6617647058824\n",
       "metric Deaths_diff_std = 946.5233100281737\n",
       "metric Recovered_diff_mean = 2868.073529411765\n",
       "metric Recovered_diff_std = 5028.171559654534\n",
       "metric stab_min_bound = 0.49999999999999645\n",
       "metric stab_max_bound = 0.5\n",
       "metric log_stab_min_bound = 0.9999999999999898\n",
       "metric log_stab_max_bound = 1.0\n",
       "metric lstab_min_bound = -7.0"
      ]
     },
     "execution_count": 516,
     "metadata": {},
     "output_type": "execute_result"
    }
   ],
   "source": [
    "c = fm.get_concept_by_id(5)\n",
    "c"
   ]
  },
  {
   "cell_type": "code",
   "execution_count": 518,
   "metadata": {},
   "outputs": [
    {
     "data": {
      "text/plain": [
       "PatternStructure 2\n",
       "level: 1\n",
       "extent (len: 96): 23849, 23850, 23851, 23852, 23853, 23854, 23855, 23856, 23857, 23858, 23859, 23860, 23861, 23862, 23863, 23864, 23865, 23866, 23867, 23868, 23869, 23870, 23871, 23872, 23873, 23874, 23875, 23876, 23877, 23878, 23879, 23880, 23881, 23882, 23883, 23884, 23885, 23886, 23887, 23888, 23889, 23890, 23891, 23892, 23893, 23894, 23895, 23896, 23897, 23898, 23899, 23900, 23901, 23902, 23903, 23904, 23905, 23906, 23907, 23908, 23909, 23910, 23911, 23912, 23913, 23914, 23915, 23916, 23917, 23918, 23919, 23920, 23921, 23922, 23923, 23924, 23925, 23926, 23927, 23928, 23929, 23930, 23931, 23932, 23933, 23934, 23935, 23936, 23937, 23938, 23939, 23940, 23941, 23942, 23943, 23944\n",
       "intent (len: 8): C1_School closing in [0.0, 3.0], C2_Workplace closing in [0.0, 3.0], C3_Cancel public events in [0.0, 2.0], C4_Restrictions on gatherings in [0.0, 4.0], C5_Close public transport in [0.0, 1.0], C6_Stay at home requirements in [0.0, 2.0], C7_Restrictions on internal movement in [0.0, 2.0], C8_International travel controls in [2.0, 3.0]\n",
       "new extent (len: 0): ∅\n",
       "new_intent (len: 1): C8_International travel controls\n",
       "lower neighbours (len: 2): 4, 5\n",
       "upper neighbours (len: 1): 0\n",
       "metric Confirmed_diff_mean = 13093.90625\n",
       "metric Confirmed_diff_std = 13733.115453705419\n",
       "metric Deaths_diff_mean = 788.1458333333334\n",
       "metric Deaths_diff_std = 943.5550911778914\n",
       "metric Recovered_diff_mean = 2031.625\n",
       "metric Recovered_diff_std = 4421.294919269455\n",
       "metric stab_min_bound = 0.9999999981373513\n",
       "metric stab_max_bound = 0.9999999981373549\n",
       "metric log_stab_min_bound = 28.99999724828021\n",
       "metric log_stab_max_bound = 29.0\n",
       "metric lstab_min_bound = 21.0"
      ]
     },
     "execution_count": 518,
     "metadata": {},
     "output_type": "execute_result"
    }
   ],
   "source": [
    "up = fm.get_concept_by_id(2)\n",
    "up"
   ]
  }
 ],
 "metadata": {
  "kernelspec": {
   "display_name": "Python 3",
   "language": "python",
   "name": "python3"
  },
  "language_info": {
   "codemirror_mode": {
    "name": "ipython",
    "version": 3
   },
   "file_extension": ".py",
   "mimetype": "text/x-python",
   "name": "python",
   "nbconvert_exporter": "python",
   "pygments_lexer": "ipython3",
   "version": "3.7.1"
  }
 },
 "nbformat": 4,
 "nbformat_minor": 2
}
