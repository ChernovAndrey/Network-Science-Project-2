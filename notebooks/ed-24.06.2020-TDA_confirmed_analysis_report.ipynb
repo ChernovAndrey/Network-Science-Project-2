{
 "cells": [
  {
   "cell_type": "markdown",
   "metadata": {},
   "source": [
    "TDA [https://en.wikipedia.org/wiki/Topological_data_analysis] - is an approach to the analysis of datasets using techniques from topology. Which can be applied to time series analysis (https://www.fujitsu.com/global/documents/about/resources/publications/fstj/archives/vol55-2/paper15.pdf).\n",
    "\n",
    "The idea is it \"looks\" on the shapes of each country's Confirmed cases lines. It clusterize them to different clusters of countries with the same \"shape\" of the line."
   ]
  },
  {
   "cell_type": "markdown",
   "metadata": {},
   "source": [
    "Further we will use TDA to analyze curves of Confirmed cases per thousands of people."
   ]
  },
  {
   "cell_type": "markdown",
   "metadata": {},
   "source": [
    "# The first try (a.k.a. the first layer)"
   ]
  },
  {
   "cell_type": "markdown",
   "metadata": {},
   "source": [
    "On the very first step 2 \"countries\" were selected. There are \"Diamond Princess\" (https://en.wikipedia.org/wiki/Diamond_Princess_(ship)) and \"MS Zaandam\" (https://en.wikipedia.org/wiki/MS_Zaandam) - 2 famous Covided ships."
   ]
  },
  {
   "cell_type": "markdown",
   "metadata": {},
   "source": [
    "![TDA_first_layer](../imgs/TDA_first_layer.png)"
   ]
  },
  {
   "cell_type": "markdown",
   "metadata": {},
   "source": [
    "# The second layer"
   ]
  },
  {
   "cell_type": "markdown",
   "metadata": {},
   "source": [
    "If we drop these 2 ships we will get the following plots. "
   ]
  },
  {
   "cell_type": "markdown",
   "metadata": {},
   "source": [
    "![TDA_second_layer_big_cities](../imgs/TDA_second_layer_big_clusters.png)"
   ]
  },
  {
   "cell_type": "markdown",
   "metadata": {},
   "source": [
    "Cluster 1 is the cluster with the centers of epidemic."
   ]
  },
  {
   "cell_type": "markdown",
   "metadata": {},
   "source": [
    "![TDA_second_layer_outliers](../imgs/TDA_second_layer_outliers.png)"
   ]
  },
  {
   "cell_type": "markdown",
   "metadata": {},
   "source": [
    "There are also outliers which are mostly small countries which were infected at the start of March."
   ]
  },
  {
   "cell_type": "markdown",
   "metadata": {},
   "source": [
    "# The third layer"
   ]
  },
  {
   "cell_type": "markdown",
   "metadata": {},
   "source": [
    "![TDA_third_layer_big_clusters](../imgs/TDA_third_layer_big_clusters.png)"
   ]
  },
  {
   "cell_type": "markdown",
   "metadata": {},
   "source": [
    "![TDA_third_layer_outliers](../imgs/TDA_third_layer_outliers.png)"
   ]
  },
  {
   "cell_type": "markdown",
   "metadata": {},
   "source": [
    "# The fourth layer"
   ]
  },
  {
   "cell_type": "markdown",
   "metadata": {},
   "source": [
    "![TDA_fourth_layer_big_clusters](../imgs/TDA_fourth_layer_big_clusters.png)"
   ]
  },
  {
   "cell_type": "markdown",
   "metadata": {},
   "source": [
    "![TDA_fourth_layer_outliers](../imgs/TDA_fourth_layer_outliers.png)"
   ]
  },
  {
   "cell_type": "markdown",
   "metadata": {},
   "source": [
    "# Final conclusion"
   ]
  },
  {
   "cell_type": "markdown",
   "metadata": {},
   "source": [
    "![TDA_final](../imgs/TDA_final.png)"
   ]
  },
  {
   "cell_type": "code",
   "execution_count": 1,
   "metadata": {},
   "outputs": [
    {
     "data": {
      "text/html": [
       "<div>\n",
       "<style scoped>\n",
       "    .dataframe tbody tr th:only-of-type {\n",
       "        vertical-align: middle;\n",
       "    }\n",
       "\n",
       "    .dataframe tbody tr th {\n",
       "        vertical-align: top;\n",
       "    }\n",
       "\n",
       "    .dataframe thead th {\n",
       "        text-align: right;\n",
       "    }\n",
       "</style>\n",
       "<table border=\"1\" class=\"dataframe\">\n",
       "  <thead>\n",
       "    <tr style=\"text-align: right;\">\n",
       "      <th></th>\n",
       "      <th>TDA_anomaly_dict_1</th>\n",
       "      <th>TDA_anomaly_dict_2</th>\n",
       "      <th>TDA_anomaly_dict_3</th>\n",
       "      <th>TDA_anomaly_dict_4</th>\n",
       "      <th>TDA_final</th>\n",
       "      <th>TDA_final_code</th>\n",
       "      <th>TDA_final_short</th>\n",
       "      <th>TDA_final_short_code</th>\n",
       "    </tr>\n",
       "    <tr>\n",
       "      <th>Country</th>\n",
       "      <th></th>\n",
       "      <th></th>\n",
       "      <th></th>\n",
       "      <th></th>\n",
       "      <th></th>\n",
       "      <th></th>\n",
       "      <th></th>\n",
       "      <th></th>\n",
       "    </tr>\n",
       "  </thead>\n",
       "  <tbody>\n",
       "    <tr>\n",
       "      <th>Afghanistan</th>\n",
       "      <td>1.0</td>\n",
       "      <td>1.0</td>\n",
       "      <td>1.0</td>\n",
       "      <td>9.0</td>\n",
       "      <td>Rare infected, speed up in May</td>\n",
       "      <td>9</td>\n",
       "      <td>Outliers</td>\n",
       "      <td>6</td>\n",
       "    </tr>\n",
       "    <tr>\n",
       "      <th>Albania</th>\n",
       "      <td>3.0</td>\n",
       "      <td>1.0</td>\n",
       "      <td>2.0</td>\n",
       "      <td>16.0</td>\n",
       "      <td>Small infection in the end of March</td>\n",
       "      <td>10</td>\n",
       "      <td>Small infection in the end of March</td>\n",
       "      <td>4</td>\n",
       "    </tr>\n",
       "    <tr>\n",
       "      <th>Algeria</th>\n",
       "      <td>1.0</td>\n",
       "      <td>1.0</td>\n",
       "      <td>1.0</td>\n",
       "      <td>6.0</td>\n",
       "      <td>Rare infected, speed3</td>\n",
       "      <td>7</td>\n",
       "      <td>Rare infected, high speed</td>\n",
       "      <td>3</td>\n",
       "    </tr>\n",
       "    <tr>\n",
       "      <th>Andorra</th>\n",
       "      <td>3.0</td>\n",
       "      <td>8.0</td>\n",
       "      <td>16.0</td>\n",
       "      <td>16.0</td>\n",
       "      <td>Small Countries, infected early March</td>\n",
       "      <td>14</td>\n",
       "      <td>Outliers</td>\n",
       "      <td>6</td>\n",
       "    </tr>\n",
       "    <tr>\n",
       "      <th>Angola</th>\n",
       "      <td>1.0</td>\n",
       "      <td>1.0</td>\n",
       "      <td>1.0</td>\n",
       "      <td>2.0</td>\n",
       "      <td>Never Infected</td>\n",
       "      <td>2</td>\n",
       "      <td>Never Infected</td>\n",
       "      <td>1</td>\n",
       "    </tr>\n",
       "  </tbody>\n",
       "</table>\n",
       "</div>"
      ],
      "text/plain": [
       "             TDA_anomaly_dict_1  TDA_anomaly_dict_2  TDA_anomaly_dict_3  \\\n",
       "Country                                                                   \n",
       "Afghanistan                 1.0                 1.0                 1.0   \n",
       "Albania                     3.0                 1.0                 2.0   \n",
       "Algeria                     1.0                 1.0                 1.0   \n",
       "Andorra                     3.0                 8.0                16.0   \n",
       "Angola                      1.0                 1.0                 1.0   \n",
       "\n",
       "             TDA_anomaly_dict_4                              TDA_final  \\\n",
       "Country                                                                  \n",
       "Afghanistan                 9.0         Rare infected, speed up in May   \n",
       "Albania                    16.0    Small infection in the end of March   \n",
       "Algeria                     6.0                  Rare infected, speed3   \n",
       "Andorra                    16.0  Small Countries, infected early March   \n",
       "Angola                      2.0                         Never Infected   \n",
       "\n",
       "             TDA_final_code                      TDA_final_short  \\\n",
       "Country                                                            \n",
       "Afghanistan               9                             Outliers   \n",
       "Albania                  10  Small infection in the end of March   \n",
       "Algeria                   7            Rare infected, high speed   \n",
       "Andorra                  14                             Outliers   \n",
       "Angola                    2                       Never Infected   \n",
       "\n",
       "             TDA_final_short_code  \n",
       "Country                            \n",
       "Afghanistan                     6  \n",
       "Albania                         4  \n",
       "Algeria                         3  \n",
       "Andorra                         6  \n",
       "Angola                          1  "
      ]
     },
     "execution_count": 1,
     "metadata": {},
     "output_type": "execute_result"
    }
   ],
   "source": [
    "import pandas as pd\n",
    "tda_ds = pd.read_csv('../TDA_confirmed_anomalies.csv', index_col=0)\n",
    "tda_ds.head()"
   ]
  },
  {
   "cell_type": "markdown",
   "metadata": {},
   "source": [
    "Final labels which can be used in further analysis and model constructions can be found in these columns:"
   ]
  },
  {
   "cell_type": "code",
   "execution_count": 2,
   "metadata": {},
   "outputs": [
    {
     "data": {
      "text/html": [
       "<div>\n",
       "<style scoped>\n",
       "    .dataframe tbody tr th:only-of-type {\n",
       "        vertical-align: middle;\n",
       "    }\n",
       "\n",
       "    .dataframe tbody tr th {\n",
       "        vertical-align: top;\n",
       "    }\n",
       "\n",
       "    .dataframe thead th {\n",
       "        text-align: right;\n",
       "    }\n",
       "</style>\n",
       "<table border=\"1\" class=\"dataframe\">\n",
       "  <thead>\n",
       "    <tr style=\"text-align: right;\">\n",
       "      <th></th>\n",
       "      <th>TDA_final_code</th>\n",
       "      <th>TDA_final</th>\n",
       "      <th>TDA_final_short_code</th>\n",
       "      <th>TDA_final_short</th>\n",
       "    </tr>\n",
       "    <tr>\n",
       "      <th>Country</th>\n",
       "      <th></th>\n",
       "      <th></th>\n",
       "      <th></th>\n",
       "      <th></th>\n",
       "    </tr>\n",
       "  </thead>\n",
       "  <tbody>\n",
       "    <tr>\n",
       "      <th>Afghanistan</th>\n",
       "      <td>9</td>\n",
       "      <td>Rare infected, speed up in May</td>\n",
       "      <td>6</td>\n",
       "      <td>Outliers</td>\n",
       "    </tr>\n",
       "    <tr>\n",
       "      <th>Albania</th>\n",
       "      <td>10</td>\n",
       "      <td>Small infection in the end of March</td>\n",
       "      <td>4</td>\n",
       "      <td>Small infection in the end of March</td>\n",
       "    </tr>\n",
       "    <tr>\n",
       "      <th>Algeria</th>\n",
       "      <td>7</td>\n",
       "      <td>Rare infected, speed3</td>\n",
       "      <td>3</td>\n",
       "      <td>Rare infected, high speed</td>\n",
       "    </tr>\n",
       "    <tr>\n",
       "      <th>Andorra</th>\n",
       "      <td>14</td>\n",
       "      <td>Small Countries, infected early March</td>\n",
       "      <td>6</td>\n",
       "      <td>Outliers</td>\n",
       "    </tr>\n",
       "    <tr>\n",
       "      <th>Angola</th>\n",
       "      <td>2</td>\n",
       "      <td>Never Infected</td>\n",
       "      <td>1</td>\n",
       "      <td>Never Infected</td>\n",
       "    </tr>\n",
       "  </tbody>\n",
       "</table>\n",
       "</div>"
      ],
      "text/plain": [
       "             TDA_final_code                              TDA_final  \\\n",
       "Country                                                              \n",
       "Afghanistan               9         Rare infected, speed up in May   \n",
       "Albania                  10    Small infection in the end of March   \n",
       "Algeria                   7                  Rare infected, speed3   \n",
       "Andorra                  14  Small Countries, infected early March   \n",
       "Angola                    2                         Never Infected   \n",
       "\n",
       "             TDA_final_short_code                      TDA_final_short  \n",
       "Country                                                                 \n",
       "Afghanistan                     6                             Outliers  \n",
       "Albania                         4  Small infection in the end of March  \n",
       "Algeria                         3            Rare infected, high speed  \n",
       "Andorra                         6                             Outliers  \n",
       "Angola                          1                       Never Infected  "
      ]
     },
     "execution_count": 2,
     "metadata": {},
     "output_type": "execute_result"
    }
   ],
   "source": [
    "tda_ds[['TDA_final_code','TDA_final','TDA_final_short_code','TDA_final_short']].head()"
   ]
  },
  {
   "cell_type": "markdown",
   "metadata": {},
   "source": [
    "Column \"TDA_final\" has 15 unique categories. In \"TDA_final_short\" they've been reduced to main 8 categories."
   ]
  },
  {
   "cell_type": "code",
   "execution_count": 4,
   "metadata": {},
   "outputs": [
    {
     "data": {
      "text/html": [
       "<div>\n",
       "<style scoped>\n",
       "    .dataframe tbody tr th:only-of-type {\n",
       "        vertical-align: middle;\n",
       "    }\n",
       "\n",
       "    .dataframe tbody tr th {\n",
       "        vertical-align: top;\n",
       "    }\n",
       "\n",
       "    .dataframe thead th {\n",
       "        text-align: right;\n",
       "    }\n",
       "</style>\n",
       "<table border=\"1\" class=\"dataframe\">\n",
       "  <thead>\n",
       "    <tr style=\"text-align: right;\">\n",
       "      <th></th>\n",
       "      <th>TDA_final_code</th>\n",
       "      <th>TDA_final</th>\n",
       "      <th>TDA_final_short_code</th>\n",
       "      <th>TDA_final_short</th>\n",
       "    </tr>\n",
       "    <tr>\n",
       "      <th>Country</th>\n",
       "      <th></th>\n",
       "      <th></th>\n",
       "      <th></th>\n",
       "      <th></th>\n",
       "    </tr>\n",
       "  </thead>\n",
       "  <tbody>\n",
       "    <tr>\n",
       "      <th>United States</th>\n",
       "      <td>12</td>\n",
       "      <td>The most infected</td>\n",
       "      <td>7</td>\n",
       "      <td>The most infected</td>\n",
       "    </tr>\n",
       "    <tr>\n",
       "      <th>Russia</th>\n",
       "      <td>11</td>\n",
       "      <td>Medium infection</td>\n",
       "      <td>5</td>\n",
       "      <td>Medium infection</td>\n",
       "    </tr>\n",
       "    <tr>\n",
       "      <th>Kazakhstan</th>\n",
       "      <td>10</td>\n",
       "      <td>Small infection in the end of March</td>\n",
       "      <td>4</td>\n",
       "      <td>Small infection in the end of March</td>\n",
       "    </tr>\n",
       "    <tr>\n",
       "      <th>China</th>\n",
       "      <td>6</td>\n",
       "      <td>Rare infected, speed4</td>\n",
       "      <td>3</td>\n",
       "      <td>Rare infected, high speed</td>\n",
       "    </tr>\n",
       "    <tr>\n",
       "      <th>Ukraine</th>\n",
       "      <td>10</td>\n",
       "      <td>Small infection in the end of March</td>\n",
       "      <td>4</td>\n",
       "      <td>Small infection in the end of March</td>\n",
       "    </tr>\n",
       "    <tr>\n",
       "      <th>Sweden</th>\n",
       "      <td>11</td>\n",
       "      <td>Medium infection</td>\n",
       "      <td>5</td>\n",
       "      <td>Medium infection</td>\n",
       "    </tr>\n",
       "  </tbody>\n",
       "</table>\n",
       "</div>"
      ],
      "text/plain": [
       "               TDA_final_code                            TDA_final  \\\n",
       "Country                                                              \n",
       "United States              12                    The most infected   \n",
       "Russia                     11                     Medium infection   \n",
       "Kazakhstan                 10  Small infection in the end of March   \n",
       "China                       6                Rare infected, speed4   \n",
       "Ukraine                    10  Small infection in the end of March   \n",
       "Sweden                     11                     Medium infection   \n",
       "\n",
       "               TDA_final_short_code                      TDA_final_short  \n",
       "Country                                                                   \n",
       "United States                     7                    The most infected  \n",
       "Russia                            5                     Medium infection  \n",
       "Kazakhstan                        4  Small infection in the end of March  \n",
       "China                             3            Rare infected, high speed  \n",
       "Ukraine                           4  Small infection in the end of March  \n",
       "Sweden                            5                     Medium infection  "
      ]
     },
     "execution_count": 4,
     "metadata": {},
     "output_type": "execute_result"
    }
   ],
   "source": [
    "tda_ds[['TDA_final_code','TDA_final','TDA_final_short_code','TDA_final_short']].loc[\n",
    "    ['United States','Russia', 'Kazakhstan','China','Ukraine','Sweden']]"
   ]
  }
 ],
 "metadata": {
  "kernelspec": {
   "display_name": "Python 3",
   "language": "python",
   "name": "python3"
  },
  "language_info": {
   "codemirror_mode": {
    "name": "ipython",
    "version": 3
   },
   "file_extension": ".py",
   "mimetype": "text/x-python",
   "name": "python",
   "nbconvert_exporter": "python",
   "pygments_lexer": "ipython3",
   "version": "3.7.1"
  }
 },
 "nbformat": 4,
 "nbformat_minor": 2
}
