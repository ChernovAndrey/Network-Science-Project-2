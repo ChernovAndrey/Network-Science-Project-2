{
 "cells": [
  {
   "cell_type": "code",
   "execution_count": 1,
   "metadata": {},
   "outputs": [
    {
     "name": "stderr",
     "output_type": "stream",
     "text": [
      "Using TensorFlow backend.\n",
      "/Users/chernovandrey/anaconda3/envs/tf_keras/lib/python3.6/site-packages/tensorflow/python/framework/dtypes.py:516: FutureWarning: Passing (type, 1) or '1type' as a synonym of type is deprecated; in a future version of numpy, it will be understood as (type, (1,)) / '(1,)type'.\n",
      "  _np_qint8 = np.dtype([(\"qint8\", np.int8, 1)])\n",
      "/Users/chernovandrey/anaconda3/envs/tf_keras/lib/python3.6/site-packages/tensorflow/python/framework/dtypes.py:517: FutureWarning: Passing (type, 1) or '1type' as a synonym of type is deprecated; in a future version of numpy, it will be understood as (type, (1,)) / '(1,)type'.\n",
      "  _np_quint8 = np.dtype([(\"quint8\", np.uint8, 1)])\n",
      "/Users/chernovandrey/anaconda3/envs/tf_keras/lib/python3.6/site-packages/tensorflow/python/framework/dtypes.py:518: FutureWarning: Passing (type, 1) or '1type' as a synonym of type is deprecated; in a future version of numpy, it will be understood as (type, (1,)) / '(1,)type'.\n",
      "  _np_qint16 = np.dtype([(\"qint16\", np.int16, 1)])\n",
      "/Users/chernovandrey/anaconda3/envs/tf_keras/lib/python3.6/site-packages/tensorflow/python/framework/dtypes.py:519: FutureWarning: Passing (type, 1) or '1type' as a synonym of type is deprecated; in a future version of numpy, it will be understood as (type, (1,)) / '(1,)type'.\n",
      "  _np_quint16 = np.dtype([(\"quint16\", np.uint16, 1)])\n",
      "/Users/chernovandrey/anaconda3/envs/tf_keras/lib/python3.6/site-packages/tensorflow/python/framework/dtypes.py:520: FutureWarning: Passing (type, 1) or '1type' as a synonym of type is deprecated; in a future version of numpy, it will be understood as (type, (1,)) / '(1,)type'.\n",
      "  _np_qint32 = np.dtype([(\"qint32\", np.int32, 1)])\n",
      "/Users/chernovandrey/anaconda3/envs/tf_keras/lib/python3.6/site-packages/tensorflow/python/framework/dtypes.py:525: FutureWarning: Passing (type, 1) or '1type' as a synonym of type is deprecated; in a future version of numpy, it will be understood as (type, (1,)) / '(1,)type'.\n",
      "  np_resource = np.dtype([(\"resource\", np.ubyte, 1)])\n",
      "/Users/chernovandrey/anaconda3/envs/tf_keras/lib/python3.6/site-packages/tensorboard/compat/tensorflow_stub/dtypes.py:541: FutureWarning: Passing (type, 1) or '1type' as a synonym of type is deprecated; in a future version of numpy, it will be understood as (type, (1,)) / '(1,)type'.\n",
      "  _np_qint8 = np.dtype([(\"qint8\", np.int8, 1)])\n",
      "/Users/chernovandrey/anaconda3/envs/tf_keras/lib/python3.6/site-packages/tensorboard/compat/tensorflow_stub/dtypes.py:542: FutureWarning: Passing (type, 1) or '1type' as a synonym of type is deprecated; in a future version of numpy, it will be understood as (type, (1,)) / '(1,)type'.\n",
      "  _np_quint8 = np.dtype([(\"quint8\", np.uint8, 1)])\n",
      "/Users/chernovandrey/anaconda3/envs/tf_keras/lib/python3.6/site-packages/tensorboard/compat/tensorflow_stub/dtypes.py:543: FutureWarning: Passing (type, 1) or '1type' as a synonym of type is deprecated; in a future version of numpy, it will be understood as (type, (1,)) / '(1,)type'.\n",
      "  _np_qint16 = np.dtype([(\"qint16\", np.int16, 1)])\n",
      "/Users/chernovandrey/anaconda3/envs/tf_keras/lib/python3.6/site-packages/tensorboard/compat/tensorflow_stub/dtypes.py:544: FutureWarning: Passing (type, 1) or '1type' as a synonym of type is deprecated; in a future version of numpy, it will be understood as (type, (1,)) / '(1,)type'.\n",
      "  _np_quint16 = np.dtype([(\"quint16\", np.uint16, 1)])\n",
      "/Users/chernovandrey/anaconda3/envs/tf_keras/lib/python3.6/site-packages/tensorboard/compat/tensorflow_stub/dtypes.py:545: FutureWarning: Passing (type, 1) or '1type' as a synonym of type is deprecated; in a future version of numpy, it will be understood as (type, (1,)) / '(1,)type'.\n",
      "  _np_qint32 = np.dtype([(\"qint32\", np.int32, 1)])\n",
      "/Users/chernovandrey/anaconda3/envs/tf_keras/lib/python3.6/site-packages/tensorboard/compat/tensorflow_stub/dtypes.py:550: FutureWarning: Passing (type, 1) or '1type' as a synonym of type is deprecated; in a future version of numpy, it will be understood as (type, (1,)) / '(1,)type'.\n",
      "  np_resource = np.dtype([(\"resource\", np.ubyte, 1)])\n"
     ]
    }
   ],
   "source": [
    "# import tensorflow.keras as keras\n",
    "# import tensorflow as tf\n",
    "# import numpy as np\n",
    "# import pandas as pd\n",
    "# from tensorflow.keras.models import Sequential\n",
    "# from tensorflow.keras.layers import LSTM\n",
    "# from tensorflow.keras.layers import Dense\n",
    "# from RNN.preproseccing import get_confirmed_ru\n",
    "\n",
    "\n",
    "# import tensorflow as tf\n",
    "import keras as keras\n",
    "# import tensorflow as tf\n",
    "import numpy as np\n",
    "import pandas as pd\n",
    "from keras.models import Sequential\n",
    "from keras.layers import LSTM\n",
    "from keras.layers import Dense\n",
    "from matplotlib import pyplot as plt"
   ]
  },
  {
   "cell_type": "code",
   "execution_count": 2,
   "metadata": {},
   "outputs": [],
   "source": [
    "# tf.__version__"
   ]
  },
  {
   "cell_type": "code",
   "execution_count": 3,
   "metadata": {},
   "outputs": [
    {
     "data": {
      "text/plain": [
       "'2.2.5'"
      ]
     },
     "execution_count": 3,
     "metadata": {},
     "output_type": "execute_result"
    }
   ],
   "source": [
    "keras.__version__"
   ]
  },
  {
   "cell_type": "code",
   "execution_count": 4,
   "metadata": {},
   "outputs": [],
   "source": [
    "n_output = 1\n",
    "data_scale = False"
   ]
  },
  {
   "cell_type": "code",
   "execution_count": 5,
   "metadata": {},
   "outputs": [],
   "source": [
    "TDA = pd.read_csv('TDA_confirmed_anomalies.csv')\n",
    "TDA['TDA_final_short'].value_counts()\n",
    "TDA = TDA.replace('United States', 'US')"
   ]
  },
  {
   "cell_type": "code",
   "execution_count": 6,
   "metadata": {},
   "outputs": [
    {
     "data": {
      "text/plain": [
       "Medium infection                       46\n",
       "Rare infected, slow speed              37\n",
       "Rare infected, high speed              31\n",
       "Never Infected                         25\n",
       "Outliers                               18\n",
       "Small infection in the end of March    17\n",
       "The most infected                      11\n",
       "Quasi countries                         3\n",
       "Name: TDA_final_short, dtype: int64"
      ]
     },
     "execution_count": 6,
     "metadata": {},
     "output_type": "execute_result"
    }
   ],
   "source": [
    "TDA['TDA_final_short'].value_counts()"
   ]
  },
  {
   "cell_type": "code",
   "execution_count": 7,
   "metadata": {},
   "outputs": [
    {
     "data": {
      "text/plain": [
       "array(['Afghanistan', 'Albania', 'Algeria', 'Andorra', 'Angola',\n",
       "       'Antigua and Barbuda', 'Argentina', 'Armenia', 'Australia',\n",
       "       'Austria', 'Azerbaijan', 'Bahamas', 'Bahrain', 'Bangladesh',\n",
       "       'Barbados', 'Belarus', 'Belgium', 'Belize', 'Benin', 'Bhutan',\n",
       "       'Bolivia', 'Bosnia and Herzegovina', 'Botswana', 'Brazil',\n",
       "       'Brunei', 'Bulgaria', 'Burkina Faso', 'Burma', 'Burundi',\n",
       "       'Cabo Verde', 'Cambodia', 'Cameroon', 'Canada',\n",
       "       'Central African Republic', 'Chad', 'Chile', 'China', 'Colombia',\n",
       "       'Comoros', 'Costa Rica', \"Cote d'Ivoire\", 'Croatia', 'Cuba',\n",
       "       'Cyprus', 'Czechia', 'Democratic Republic of the Congo', 'Denmark',\n",
       "       'Diamond Princess', 'Djibouti', 'Dominica', 'Dominican Republic',\n",
       "       'Ecuador', 'Egypt', 'El Salvador', 'Equatorial Guinea', 'Eritrea',\n",
       "       'Estonia', 'Eswatini', 'Ethiopia', 'Fiji', 'Finland', 'France',\n",
       "       'Gabon', 'Gambia', 'Georgia', 'Germany', 'Ghana', 'Greece',\n",
       "       'Grenada', 'Guatemala', 'Guinea', 'Guinea-Bissau', 'Guyana',\n",
       "       'Haiti', 'Holy See', 'Honduras', 'Hungary', 'Iceland', 'India',\n",
       "       'Indonesia', 'Iran', 'Iraq', 'Ireland', 'Israel', 'Italy',\n",
       "       'Jamaica', 'Japan', 'Jordan', 'Kazakhstan', 'Kenya', 'Kosovo',\n",
       "       'Kuwait', 'Kyrgyzstan', 'Laos', 'Latvia', 'Lebanon', 'Lesotho',\n",
       "       'Liberia', 'Libya', 'Liechtenstein', 'Lithuania', 'Luxembourg',\n",
       "       'MS Zaandam', 'Madagascar', 'Malawi', 'Malaysia', 'Maldives',\n",
       "       'Mali', 'Malta', 'Mauritania', 'Mauritius', 'Mexico', 'Moldova',\n",
       "       'Monaco', 'Mongolia', 'Montenegro', 'Morocco', 'Mozambique',\n",
       "       'Namibia', 'Nepal', 'Netherlands', 'New Zealand', 'Nicaragua',\n",
       "       'Niger', 'Nigeria', 'North Macedonia', 'Norway', 'Oman',\n",
       "       'Pakistan', 'Panama', 'Papua New Guinea', 'Paraguay', 'Peru',\n",
       "       'Philippines', 'Poland', 'Portugal', 'Qatar',\n",
       "       'Republic of the Congo', 'Romania', 'Russia', 'Rwanda',\n",
       "       'Saint Kitts and Nevis', 'Saint Lucia',\n",
       "       'Saint Vincent and the Grenadines', 'San Marino',\n",
       "       'Sao Tome and Principe', 'Saudi Arabia', 'Senegal', 'Serbia',\n",
       "       'Seychelles', 'Sierra Leone', 'Singapore', 'Slovakia', 'Slovenia',\n",
       "       'Somalia', 'South Africa', 'South Korea', 'South Sudan', 'Spain',\n",
       "       'Sri Lanka', 'Sudan', 'Suriname', 'Sweden', 'Switzerland', 'Syria',\n",
       "       'Taiwan', 'Tajikistan', 'Tanzania', 'Thailand', 'Timor-Leste',\n",
       "       'Togo', 'Trinidad and Tobago', 'Tunisia', 'Turkey', 'Uganda',\n",
       "       'Ukraine', 'United Arab Emirates', 'United Kingdom', 'US',\n",
       "       'Uruguay', 'Uzbekistan', 'Venezuela', 'Vietnam',\n",
       "       'West Bank and Gaza', 'Western Sahara', 'Yemen', 'Zambia',\n",
       "       'Zimbabwe'], dtype=object)"
      ]
     },
     "execution_count": 7,
     "metadata": {},
     "output_type": "execute_result"
    }
   ],
   "source": [
    "TDA['Country'].values"
   ]
  },
  {
   "cell_type": "code",
   "execution_count": 8,
   "metadata": {},
   "outputs": [],
   "source": [
    "# include_country = ['Germany']\n",
    "# include_country = list(TDA.loc[TDA['TDA_final_short'] == 'Medium infection', 'Country'].values)"
   ]
  },
  {
   "cell_type": "code",
   "execution_count": 9,
   "metadata": {},
   "outputs": [],
   "source": [
    "from keras import backend as K"
   ]
  },
  {
   "cell_type": "code",
   "execution_count": 10,
   "metadata": {},
   "outputs": [],
   "source": [
    "from preproseccing import get_data, create_ts_train_test_data, get_data_diff, get_data_division\n",
    "from calculate_metrics import get_metrics, construct_ts, get_metrics_from_df\n",
    "from models import get_model_fc"
   ]
  },
  {
   "cell_type": "code",
   "execution_count": 11,
   "metadata": {},
   "outputs": [],
   "source": [
    "log_scale = False\n",
    "n_steps=5"
   ]
  },
  {
   "cell_type": "code",
   "execution_count": 12,
   "metadata": {},
   "outputs": [],
   "source": [
    "only_labels =False"
   ]
  },
  {
   "cell_type": "code",
   "execution_count": 13,
   "metadata": {},
   "outputs": [],
   "source": [
    "drop_country =  ['Afghanistan', 'Luxembourg', 'Liechtenstein', 'Iceland',\n",
    "       'Trinidad and Tobago', 'Peru', 'Guatemala', 'Qatar',\n",
    "       'Saint Kitts and Nevis', 'Chile', 'Costa Rica', 'San Marino',\n",
    "       'Barbados', 'Australia', 'Argentina', 'Andorra', 'Saint Lucia',\n",
    "       'Mauritius','MS Zaandam', 'Diamond Princess', 'Holy See']"
   ]
  },
  {
   "cell_type": "code",
   "execution_count": 14,
   "metadata": {},
   "outputs": [],
   "source": [
    "target = ['Confirmed', 'Deaths', 'Recovered']\n",
    "# target  = ['Confirmed']\n",
    "md_features = ['Country', 'Date']\n",
    "# X_features= ['Population', 'GrowthRate', 'Area', 'Density', 'Airports', 'GDP']\n",
    "X_features= ['C1_School closing', 'C2_Workplace closing', 'C3_Cancel public events',\n",
    "       'C4_Restrictions on gatherings', 'C5_Close public transport',\n",
    "       'C6_Stay at home requirements', #'C7_Restrictions on internal movement',\n",
    "        'C8_International travel controls', 'E1_Income support',\n",
    "        'E2_Debt/contract relief', #'E3_Fiscal measures',\n",
    "#        'E4_International support', 'H1_Public information campaigns',\n",
    "#        'H2_Testing policy', 'H3_Contact tracing',\n",
    "#        'H4_Emergency investment in healthcare', 'H5_Investment in vaccines',#, 'Population']\n",
    "#           'GrowthRate', 'Area', 'Density', 'Airports', 'GDP', \n",
    "#              'embeddingval1', 'embeddingval2', 'embeddingval3',\n",
    "#        'embeddingval4', 'embeddingval5', 'embeddingval6', 'embeddingval7',\n",
    "#        'embeddingval8', 'embeddingval9', 'embeddingval10', 'embeddingval11',\n",
    "#        'embeddingval12', 'embeddingval13', 'embeddingval14', 'embeddingval15',\n",
    "#        'embeddingval16', 'embeddingval17', 'embeddingval18', 'embeddingval19',\n",
    "#        'embeddingval20',\n",
    "           'Population' ] \n",
    "# X_features = ['C2_Workplace closing', 'Population']\n",
    "# embed_features = [ 'embeddingval1', 'embeddingval2', 'embeddingval3',\n",
    "#        'embeddingval4', 'embeddingval5', 'embeddingval6', 'embeddingval7',\n",
    "#        'embeddingval8', 'embeddingval9', 'embeddingval10', 'embeddingval11',\n",
    "#        'embeddingval12', 'embeddingval13', 'embeddingval14', 'embeddingval15',\n",
    "#        'embeddingval16', 'embeddingval17', 'embeddingval18', 'embeddingval19',\n",
    "#        'embeddingval20']"
   ]
  },
  {
   "cell_type": "code",
   "execution_count": 15,
   "metadata": {},
   "outputs": [
    {
     "name": "stderr",
     "output_type": "stream",
     "text": [
      "/Users/chernovandrey/anaconda3/envs/tf_keras/lib/python3.6/site-packages/IPython/core/interactiveshell.py:3263: DtypeWarning: Columns (7,8) have mixed types.Specify dtype option on import or set low_memory=False.\n",
      "  if (await self.run_code(code, result,  async_=asy)):\n"
     ]
    }
   ],
   "source": [
    "data = get_data(return_only_labels=only_labels)"
   ]
  },
  {
   "cell_type": "code",
   "execution_count": 16,
   "metadata": {},
   "outputs": [
    {
     "data": {
      "text/html": [
       "<div>\n",
       "<style scoped>\n",
       "    .dataframe tbody tr th:only-of-type {\n",
       "        vertical-align: middle;\n",
       "    }\n",
       "\n",
       "    .dataframe tbody tr th {\n",
       "        vertical-align: top;\n",
       "    }\n",
       "\n",
       "    .dataframe thead th {\n",
       "        text-align: right;\n",
       "    }\n",
       "</style>\n",
       "<table border=\"1\" class=\"dataframe\">\n",
       "  <thead>\n",
       "    <tr style=\"text-align: right;\">\n",
       "      <th></th>\n",
       "      <th>Country</th>\n",
       "      <th>Lat</th>\n",
       "      <th>Long</th>\n",
       "      <th>Date</th>\n",
       "      <th>Confirmed</th>\n",
       "      <th>Deaths</th>\n",
       "      <th>Recovered</th>\n",
       "      <th>RegionName</th>\n",
       "      <th>RegionCode</th>\n",
       "      <th>C1_School closing</th>\n",
       "      <th>...</th>\n",
       "      <th>male_smokers</th>\n",
       "      <th>handwashing_facilities</th>\n",
       "      <th>hospital_beds_per_thousand</th>\n",
       "      <th>life_expectancy</th>\n",
       "      <th>Population</th>\n",
       "      <th>GrowthRate</th>\n",
       "      <th>Area</th>\n",
       "      <th>Density</th>\n",
       "      <th>Airports</th>\n",
       "      <th>GDP</th>\n",
       "    </tr>\n",
       "  </thead>\n",
       "  <tbody>\n",
       "    <tr>\n",
       "      <th>0</th>\n",
       "      <td>Afghanistan</td>\n",
       "      <td>33.939110</td>\n",
       "      <td>67.709953</td>\n",
       "      <td>03/22/2020</td>\n",
       "      <td>40</td>\n",
       "      <td>1</td>\n",
       "      <td>1</td>\n",
       "      <td>NaN</td>\n",
       "      <td>NaN</td>\n",
       "      <td>3.0</td>\n",
       "      <td>...</td>\n",
       "      <td>NaN</td>\n",
       "      <td>37.746</td>\n",
       "      <td>0.5</td>\n",
       "      <td>64.83</td>\n",
       "      <td>38041.754</td>\n",
       "      <td>1.0233</td>\n",
       "      <td>652230.0</td>\n",
       "      <td>58.3257</td>\n",
       "      <td>22.0</td>\n",
       "      <td>74792.0</td>\n",
       "    </tr>\n",
       "    <tr>\n",
       "      <th>1</th>\n",
       "      <td>Afghanistan</td>\n",
       "      <td>33.939110</td>\n",
       "      <td>67.709953</td>\n",
       "      <td>03/23/2020</td>\n",
       "      <td>40</td>\n",
       "      <td>1</td>\n",
       "      <td>1</td>\n",
       "      <td>NaN</td>\n",
       "      <td>NaN</td>\n",
       "      <td>3.0</td>\n",
       "      <td>...</td>\n",
       "      <td>NaN</td>\n",
       "      <td>37.746</td>\n",
       "      <td>0.5</td>\n",
       "      <td>64.83</td>\n",
       "      <td>38041.754</td>\n",
       "      <td>1.0233</td>\n",
       "      <td>652230.0</td>\n",
       "      <td>58.3257</td>\n",
       "      <td>22.0</td>\n",
       "      <td>74792.0</td>\n",
       "    </tr>\n",
       "    <tr>\n",
       "      <th>2</th>\n",
       "      <td>Afghanistan</td>\n",
       "      <td>33.939110</td>\n",
       "      <td>67.709953</td>\n",
       "      <td>03/24/2020</td>\n",
       "      <td>74</td>\n",
       "      <td>1</td>\n",
       "      <td>1</td>\n",
       "      <td>NaN</td>\n",
       "      <td>NaN</td>\n",
       "      <td>3.0</td>\n",
       "      <td>...</td>\n",
       "      <td>NaN</td>\n",
       "      <td>37.746</td>\n",
       "      <td>0.5</td>\n",
       "      <td>64.83</td>\n",
       "      <td>38041.754</td>\n",
       "      <td>1.0233</td>\n",
       "      <td>652230.0</td>\n",
       "      <td>58.3257</td>\n",
       "      <td>22.0</td>\n",
       "      <td>74792.0</td>\n",
       "    </tr>\n",
       "    <tr>\n",
       "      <th>3</th>\n",
       "      <td>Afghanistan</td>\n",
       "      <td>33.939110</td>\n",
       "      <td>67.709953</td>\n",
       "      <td>03/25/2020</td>\n",
       "      <td>84</td>\n",
       "      <td>2</td>\n",
       "      <td>2</td>\n",
       "      <td>NaN</td>\n",
       "      <td>NaN</td>\n",
       "      <td>3.0</td>\n",
       "      <td>...</td>\n",
       "      <td>NaN</td>\n",
       "      <td>37.746</td>\n",
       "      <td>0.5</td>\n",
       "      <td>64.83</td>\n",
       "      <td>38041.754</td>\n",
       "      <td>1.0233</td>\n",
       "      <td>652230.0</td>\n",
       "      <td>58.3257</td>\n",
       "      <td>22.0</td>\n",
       "      <td>74792.0</td>\n",
       "    </tr>\n",
       "    <tr>\n",
       "      <th>4</th>\n",
       "      <td>Afghanistan</td>\n",
       "      <td>33.939110</td>\n",
       "      <td>67.709953</td>\n",
       "      <td>03/26/2020</td>\n",
       "      <td>94</td>\n",
       "      <td>4</td>\n",
       "      <td>2</td>\n",
       "      <td>NaN</td>\n",
       "      <td>NaN</td>\n",
       "      <td>3.0</td>\n",
       "      <td>...</td>\n",
       "      <td>NaN</td>\n",
       "      <td>37.746</td>\n",
       "      <td>0.5</td>\n",
       "      <td>64.83</td>\n",
       "      <td>38041.754</td>\n",
       "      <td>1.0233</td>\n",
       "      <td>652230.0</td>\n",
       "      <td>58.3257</td>\n",
       "      <td>22.0</td>\n",
       "      <td>74792.0</td>\n",
       "    </tr>\n",
       "    <tr>\n",
       "      <th>...</th>\n",
       "      <td>...</td>\n",
       "      <td>...</td>\n",
       "      <td>...</td>\n",
       "      <td>...</td>\n",
       "      <td>...</td>\n",
       "      <td>...</td>\n",
       "      <td>...</td>\n",
       "      <td>...</td>\n",
       "      <td>...</td>\n",
       "      <td>...</td>\n",
       "      <td>...</td>\n",
       "      <td>...</td>\n",
       "      <td>...</td>\n",
       "      <td>...</td>\n",
       "      <td>...</td>\n",
       "      <td>...</td>\n",
       "      <td>...</td>\n",
       "      <td>...</td>\n",
       "      <td>...</td>\n",
       "      <td>...</td>\n",
       "      <td>...</td>\n",
       "    </tr>\n",
       "    <tr>\n",
       "      <th>38788</th>\n",
       "      <td>Zimbabwe</td>\n",
       "      <td>-19.015438</td>\n",
       "      <td>29.154857</td>\n",
       "      <td>08/28/2020</td>\n",
       "      <td>6388</td>\n",
       "      <td>195</td>\n",
       "      <td>5043</td>\n",
       "      <td>NaN</td>\n",
       "      <td>NaN</td>\n",
       "      <td>NaN</td>\n",
       "      <td>...</td>\n",
       "      <td>30.7</td>\n",
       "      <td>36.791</td>\n",
       "      <td>1.7</td>\n",
       "      <td>61.49</td>\n",
       "      <td>14645.468</td>\n",
       "      <td>1.0148</td>\n",
       "      <td>390757.0</td>\n",
       "      <td>37.4797</td>\n",
       "      <td>16.0</td>\n",
       "      <td>37039.0</td>\n",
       "    </tr>\n",
       "    <tr>\n",
       "      <th>38789</th>\n",
       "      <td>Zimbabwe</td>\n",
       "      <td>-19.015438</td>\n",
       "      <td>29.154857</td>\n",
       "      <td>08/29/2020</td>\n",
       "      <td>6406</td>\n",
       "      <td>196</td>\n",
       "      <td>5056</td>\n",
       "      <td>NaN</td>\n",
       "      <td>NaN</td>\n",
       "      <td>NaN</td>\n",
       "      <td>...</td>\n",
       "      <td>30.7</td>\n",
       "      <td>36.791</td>\n",
       "      <td>1.7</td>\n",
       "      <td>61.49</td>\n",
       "      <td>14645.468</td>\n",
       "      <td>1.0148</td>\n",
       "      <td>390757.0</td>\n",
       "      <td>37.4797</td>\n",
       "      <td>16.0</td>\n",
       "      <td>37039.0</td>\n",
       "    </tr>\n",
       "    <tr>\n",
       "      <th>38790</th>\n",
       "      <td>Zimbabwe</td>\n",
       "      <td>-19.015438</td>\n",
       "      <td>29.154857</td>\n",
       "      <td>08/30/2020</td>\n",
       "      <td>6412</td>\n",
       "      <td>196</td>\n",
       "      <td>5061</td>\n",
       "      <td>NaN</td>\n",
       "      <td>NaN</td>\n",
       "      <td>NaN</td>\n",
       "      <td>...</td>\n",
       "      <td>30.7</td>\n",
       "      <td>36.791</td>\n",
       "      <td>1.7</td>\n",
       "      <td>61.49</td>\n",
       "      <td>14645.468</td>\n",
       "      <td>1.0148</td>\n",
       "      <td>390757.0</td>\n",
       "      <td>37.4797</td>\n",
       "      <td>16.0</td>\n",
       "      <td>37039.0</td>\n",
       "    </tr>\n",
       "    <tr>\n",
       "      <th>38791</th>\n",
       "      <td>Zimbabwe</td>\n",
       "      <td>-19.015438</td>\n",
       "      <td>29.154857</td>\n",
       "      <td>08/31/2020</td>\n",
       "      <td>6497</td>\n",
       "      <td>202</td>\n",
       "      <td>5221</td>\n",
       "      <td>NaN</td>\n",
       "      <td>NaN</td>\n",
       "      <td>NaN</td>\n",
       "      <td>...</td>\n",
       "      <td>30.7</td>\n",
       "      <td>36.791</td>\n",
       "      <td>1.7</td>\n",
       "      <td>61.49</td>\n",
       "      <td>14645.468</td>\n",
       "      <td>1.0148</td>\n",
       "      <td>390757.0</td>\n",
       "      <td>37.4797</td>\n",
       "      <td>16.0</td>\n",
       "      <td>37039.0</td>\n",
       "    </tr>\n",
       "    <tr>\n",
       "      <th>38792</th>\n",
       "      <td>Zimbabwe</td>\n",
       "      <td>-19.015438</td>\n",
       "      <td>29.154857</td>\n",
       "      <td>09/01/2020</td>\n",
       "      <td>6559</td>\n",
       "      <td>203</td>\n",
       "      <td>5241</td>\n",
       "      <td>NaN</td>\n",
       "      <td>NaN</td>\n",
       "      <td>NaN</td>\n",
       "      <td>...</td>\n",
       "      <td>30.7</td>\n",
       "      <td>36.791</td>\n",
       "      <td>1.7</td>\n",
       "      <td>61.49</td>\n",
       "      <td>14645.468</td>\n",
       "      <td>1.0148</td>\n",
       "      <td>390757.0</td>\n",
       "      <td>37.4797</td>\n",
       "      <td>16.0</td>\n",
       "      <td>37039.0</td>\n",
       "    </tr>\n",
       "  </tbody>\n",
       "</table>\n",
       "<p>38793 rows × 68 columns</p>\n",
       "</div>"
      ],
      "text/plain": [
       "           Country        Lat       Long        Date  Confirmed  Deaths  \\\n",
       "0      Afghanistan  33.939110  67.709953  03/22/2020         40       1   \n",
       "1      Afghanistan  33.939110  67.709953  03/23/2020         40       1   \n",
       "2      Afghanistan  33.939110  67.709953  03/24/2020         74       1   \n",
       "3      Afghanistan  33.939110  67.709953  03/25/2020         84       2   \n",
       "4      Afghanistan  33.939110  67.709953  03/26/2020         94       4   \n",
       "...            ...        ...        ...         ...        ...     ...   \n",
       "38788     Zimbabwe -19.015438  29.154857  08/28/2020       6388     195   \n",
       "38789     Zimbabwe -19.015438  29.154857  08/29/2020       6406     196   \n",
       "38790     Zimbabwe -19.015438  29.154857  08/30/2020       6412     196   \n",
       "38791     Zimbabwe -19.015438  29.154857  08/31/2020       6497     202   \n",
       "38792     Zimbabwe -19.015438  29.154857  09/01/2020       6559     203   \n",
       "\n",
       "       Recovered RegionName RegionCode  C1_School closing  ...  male_smokers  \\\n",
       "0              1        NaN        NaN                3.0  ...           NaN   \n",
       "1              1        NaN        NaN                3.0  ...           NaN   \n",
       "2              1        NaN        NaN                3.0  ...           NaN   \n",
       "3              2        NaN        NaN                3.0  ...           NaN   \n",
       "4              2        NaN        NaN                3.0  ...           NaN   \n",
       "...          ...        ...        ...                ...  ...           ...   \n",
       "38788       5043        NaN        NaN                NaN  ...          30.7   \n",
       "38789       5056        NaN        NaN                NaN  ...          30.7   \n",
       "38790       5061        NaN        NaN                NaN  ...          30.7   \n",
       "38791       5221        NaN        NaN                NaN  ...          30.7   \n",
       "38792       5241        NaN        NaN                NaN  ...          30.7   \n",
       "\n",
       "       handwashing_facilities  hospital_beds_per_thousand  life_expectancy  \\\n",
       "0                      37.746                         0.5            64.83   \n",
       "1                      37.746                         0.5            64.83   \n",
       "2                      37.746                         0.5            64.83   \n",
       "3                      37.746                         0.5            64.83   \n",
       "4                      37.746                         0.5            64.83   \n",
       "...                       ...                         ...              ...   \n",
       "38788                  36.791                         1.7            61.49   \n",
       "38789                  36.791                         1.7            61.49   \n",
       "38790                  36.791                         1.7            61.49   \n",
       "38791                  36.791                         1.7            61.49   \n",
       "38792                  36.791                         1.7            61.49   \n",
       "\n",
       "       Population  GrowthRate      Area  Density  Airports      GDP  \n",
       "0       38041.754      1.0233  652230.0  58.3257      22.0  74792.0  \n",
       "1       38041.754      1.0233  652230.0  58.3257      22.0  74792.0  \n",
       "2       38041.754      1.0233  652230.0  58.3257      22.0  74792.0  \n",
       "3       38041.754      1.0233  652230.0  58.3257      22.0  74792.0  \n",
       "4       38041.754      1.0233  652230.0  58.3257      22.0  74792.0  \n",
       "...           ...         ...       ...      ...       ...      ...  \n",
       "38788   14645.468      1.0148  390757.0  37.4797      16.0  37039.0  \n",
       "38789   14645.468      1.0148  390757.0  37.4797      16.0  37039.0  \n",
       "38790   14645.468      1.0148  390757.0  37.4797      16.0  37039.0  \n",
       "38791   14645.468      1.0148  390757.0  37.4797      16.0  37039.0  \n",
       "38792   14645.468      1.0148  390757.0  37.4797      16.0  37039.0  \n",
       "\n",
       "[38793 rows x 68 columns]"
      ]
     },
     "execution_count": 16,
     "metadata": {},
     "output_type": "execute_result"
    }
   ],
   "source": [
    "data"
   ]
  },
  {
   "cell_type": "code",
   "execution_count": 17,
   "metadata": {},
   "outputs": [],
   "source": [
    "for f in X_features[:-1]:\n",
    "    data.loc[data[f] > 0.0, f] = 1.0"
   ]
  },
  {
   "cell_type": "code",
   "execution_count": 18,
   "metadata": {},
   "outputs": [
    {
     "data": {
      "text/html": [
       "<div>\n",
       "<style scoped>\n",
       "    .dataframe tbody tr th:only-of-type {\n",
       "        vertical-align: middle;\n",
       "    }\n",
       "\n",
       "    .dataframe tbody tr th {\n",
       "        vertical-align: top;\n",
       "    }\n",
       "\n",
       "    .dataframe thead th {\n",
       "        text-align: right;\n",
       "    }\n",
       "</style>\n",
       "<table border=\"1\" class=\"dataframe\">\n",
       "  <thead>\n",
       "    <tr style=\"text-align: right;\">\n",
       "      <th></th>\n",
       "      <th>C1_School closing</th>\n",
       "      <th>C2_Workplace closing</th>\n",
       "      <th>C3_Cancel public events</th>\n",
       "      <th>C4_Restrictions on gatherings</th>\n",
       "      <th>C5_Close public transport</th>\n",
       "      <th>C6_Stay at home requirements</th>\n",
       "      <th>C8_International travel controls</th>\n",
       "      <th>E1_Income support</th>\n",
       "      <th>E2_Debt/contract relief</th>\n",
       "      <th>Population</th>\n",
       "    </tr>\n",
       "  </thead>\n",
       "  <tbody>\n",
       "    <tr>\n",
       "      <th>0</th>\n",
       "      <td>1.0</td>\n",
       "      <td>0.0</td>\n",
       "      <td>1.0</td>\n",
       "      <td>0.0</td>\n",
       "      <td>0.0</td>\n",
       "      <td>0.0</td>\n",
       "      <td>1.0</td>\n",
       "      <td>0.0</td>\n",
       "      <td>0.0</td>\n",
       "      <td>38041.754</td>\n",
       "    </tr>\n",
       "    <tr>\n",
       "      <th>1</th>\n",
       "      <td>1.0</td>\n",
       "      <td>0.0</td>\n",
       "      <td>1.0</td>\n",
       "      <td>0.0</td>\n",
       "      <td>0.0</td>\n",
       "      <td>0.0</td>\n",
       "      <td>1.0</td>\n",
       "      <td>0.0</td>\n",
       "      <td>0.0</td>\n",
       "      <td>38041.754</td>\n",
       "    </tr>\n",
       "    <tr>\n",
       "      <th>2</th>\n",
       "      <td>1.0</td>\n",
       "      <td>1.0</td>\n",
       "      <td>1.0</td>\n",
       "      <td>0.0</td>\n",
       "      <td>0.0</td>\n",
       "      <td>0.0</td>\n",
       "      <td>1.0</td>\n",
       "      <td>0.0</td>\n",
       "      <td>0.0</td>\n",
       "      <td>38041.754</td>\n",
       "    </tr>\n",
       "    <tr>\n",
       "      <th>3</th>\n",
       "      <td>1.0</td>\n",
       "      <td>1.0</td>\n",
       "      <td>1.0</td>\n",
       "      <td>0.0</td>\n",
       "      <td>0.0</td>\n",
       "      <td>1.0</td>\n",
       "      <td>1.0</td>\n",
       "      <td>0.0</td>\n",
       "      <td>0.0</td>\n",
       "      <td>38041.754</td>\n",
       "    </tr>\n",
       "    <tr>\n",
       "      <th>4</th>\n",
       "      <td>1.0</td>\n",
       "      <td>1.0</td>\n",
       "      <td>1.0</td>\n",
       "      <td>0.0</td>\n",
       "      <td>0.0</td>\n",
       "      <td>1.0</td>\n",
       "      <td>1.0</td>\n",
       "      <td>0.0</td>\n",
       "      <td>0.0</td>\n",
       "      <td>38041.754</td>\n",
       "    </tr>\n",
       "    <tr>\n",
       "      <th>...</th>\n",
       "      <td>...</td>\n",
       "      <td>...</td>\n",
       "      <td>...</td>\n",
       "      <td>...</td>\n",
       "      <td>...</td>\n",
       "      <td>...</td>\n",
       "      <td>...</td>\n",
       "      <td>...</td>\n",
       "      <td>...</td>\n",
       "      <td>...</td>\n",
       "    </tr>\n",
       "    <tr>\n",
       "      <th>38788</th>\n",
       "      <td>NaN</td>\n",
       "      <td>NaN</td>\n",
       "      <td>NaN</td>\n",
       "      <td>NaN</td>\n",
       "      <td>NaN</td>\n",
       "      <td>NaN</td>\n",
       "      <td>NaN</td>\n",
       "      <td>NaN</td>\n",
       "      <td>NaN</td>\n",
       "      <td>14645.468</td>\n",
       "    </tr>\n",
       "    <tr>\n",
       "      <th>38789</th>\n",
       "      <td>NaN</td>\n",
       "      <td>NaN</td>\n",
       "      <td>NaN</td>\n",
       "      <td>NaN</td>\n",
       "      <td>NaN</td>\n",
       "      <td>NaN</td>\n",
       "      <td>NaN</td>\n",
       "      <td>NaN</td>\n",
       "      <td>NaN</td>\n",
       "      <td>14645.468</td>\n",
       "    </tr>\n",
       "    <tr>\n",
       "      <th>38790</th>\n",
       "      <td>NaN</td>\n",
       "      <td>NaN</td>\n",
       "      <td>NaN</td>\n",
       "      <td>NaN</td>\n",
       "      <td>NaN</td>\n",
       "      <td>NaN</td>\n",
       "      <td>NaN</td>\n",
       "      <td>NaN</td>\n",
       "      <td>NaN</td>\n",
       "      <td>14645.468</td>\n",
       "    </tr>\n",
       "    <tr>\n",
       "      <th>38791</th>\n",
       "      <td>NaN</td>\n",
       "      <td>NaN</td>\n",
       "      <td>NaN</td>\n",
       "      <td>NaN</td>\n",
       "      <td>NaN</td>\n",
       "      <td>NaN</td>\n",
       "      <td>NaN</td>\n",
       "      <td>NaN</td>\n",
       "      <td>NaN</td>\n",
       "      <td>14645.468</td>\n",
       "    </tr>\n",
       "    <tr>\n",
       "      <th>38792</th>\n",
       "      <td>NaN</td>\n",
       "      <td>NaN</td>\n",
       "      <td>NaN</td>\n",
       "      <td>NaN</td>\n",
       "      <td>NaN</td>\n",
       "      <td>NaN</td>\n",
       "      <td>NaN</td>\n",
       "      <td>NaN</td>\n",
       "      <td>NaN</td>\n",
       "      <td>14645.468</td>\n",
       "    </tr>\n",
       "  </tbody>\n",
       "</table>\n",
       "<p>38793 rows × 10 columns</p>\n",
       "</div>"
      ],
      "text/plain": [
       "       C1_School closing  C2_Workplace closing  C3_Cancel public events  \\\n",
       "0                    1.0                   0.0                      1.0   \n",
       "1                    1.0                   0.0                      1.0   \n",
       "2                    1.0                   1.0                      1.0   \n",
       "3                    1.0                   1.0                      1.0   \n",
       "4                    1.0                   1.0                      1.0   \n",
       "...                  ...                   ...                      ...   \n",
       "38788                NaN                   NaN                      NaN   \n",
       "38789                NaN                   NaN                      NaN   \n",
       "38790                NaN                   NaN                      NaN   \n",
       "38791                NaN                   NaN                      NaN   \n",
       "38792                NaN                   NaN                      NaN   \n",
       "\n",
       "       C4_Restrictions on gatherings  C5_Close public transport  \\\n",
       "0                                0.0                        0.0   \n",
       "1                                0.0                        0.0   \n",
       "2                                0.0                        0.0   \n",
       "3                                0.0                        0.0   \n",
       "4                                0.0                        0.0   \n",
       "...                              ...                        ...   \n",
       "38788                            NaN                        NaN   \n",
       "38789                            NaN                        NaN   \n",
       "38790                            NaN                        NaN   \n",
       "38791                            NaN                        NaN   \n",
       "38792                            NaN                        NaN   \n",
       "\n",
       "       C6_Stay at home requirements  C8_International travel controls  \\\n",
       "0                               0.0                               1.0   \n",
       "1                               0.0                               1.0   \n",
       "2                               0.0                               1.0   \n",
       "3                               1.0                               1.0   \n",
       "4                               1.0                               1.0   \n",
       "...                             ...                               ...   \n",
       "38788                           NaN                               NaN   \n",
       "38789                           NaN                               NaN   \n",
       "38790                           NaN                               NaN   \n",
       "38791                           NaN                               NaN   \n",
       "38792                           NaN                               NaN   \n",
       "\n",
       "       E1_Income support  E2_Debt/contract relief  Population  \n",
       "0                    0.0                      0.0   38041.754  \n",
       "1                    0.0                      0.0   38041.754  \n",
       "2                    0.0                      0.0   38041.754  \n",
       "3                    0.0                      0.0   38041.754  \n",
       "4                    0.0                      0.0   38041.754  \n",
       "...                  ...                      ...         ...  \n",
       "38788                NaN                      NaN   14645.468  \n",
       "38789                NaN                      NaN   14645.468  \n",
       "38790                NaN                      NaN   14645.468  \n",
       "38791                NaN                      NaN   14645.468  \n",
       "38792                NaN                      NaN   14645.468  \n",
       "\n",
       "[38793 rows x 10 columns]"
      ]
     },
     "execution_count": 18,
     "metadata": {},
     "output_type": "execute_result"
    }
   ],
   "source": [
    "data[X_features]"
   ]
  },
  {
   "cell_type": "code",
   "execution_count": 19,
   "metadata": {},
   "outputs": [
    {
     "data": {
      "text/html": [
       "<div>\n",
       "<style scoped>\n",
       "    .dataframe tbody tr th:only-of-type {\n",
       "        vertical-align: middle;\n",
       "    }\n",
       "\n",
       "    .dataframe tbody tr th {\n",
       "        vertical-align: top;\n",
       "    }\n",
       "\n",
       "    .dataframe thead th {\n",
       "        text-align: right;\n",
       "    }\n",
       "</style>\n",
       "<table border=\"1\" class=\"dataframe\">\n",
       "  <thead>\n",
       "    <tr style=\"text-align: right;\">\n",
       "      <th></th>\n",
       "      <th>C1_School closing</th>\n",
       "      <th>C2_Workplace closing</th>\n",
       "      <th>C3_Cancel public events</th>\n",
       "      <th>C4_Restrictions on gatherings</th>\n",
       "      <th>C5_Close public transport</th>\n",
       "      <th>C6_Stay at home requirements</th>\n",
       "      <th>C8_International travel controls</th>\n",
       "      <th>E1_Income support</th>\n",
       "      <th>E2_Debt/contract relief</th>\n",
       "      <th>Population</th>\n",
       "    </tr>\n",
       "  </thead>\n",
       "  <tbody>\n",
       "    <tr>\n",
       "      <th>C1_School closing</th>\n",
       "      <td>1.000000</td>\n",
       "      <td>0.525865</td>\n",
       "      <td>0.553130</td>\n",
       "      <td>0.371548</td>\n",
       "      <td>0.269252</td>\n",
       "      <td>0.440196</td>\n",
       "      <td>0.166072</td>\n",
       "      <td>0.204548</td>\n",
       "      <td>0.232091</td>\n",
       "      <td>0.081776</td>\n",
       "    </tr>\n",
       "    <tr>\n",
       "      <th>C2_Workplace closing</th>\n",
       "      <td>0.525865</td>\n",
       "      <td>1.000000</td>\n",
       "      <td>0.560344</td>\n",
       "      <td>0.418070</td>\n",
       "      <td>0.329397</td>\n",
       "      <td>0.486790</td>\n",
       "      <td>0.112502</td>\n",
       "      <td>0.288204</td>\n",
       "      <td>0.253025</td>\n",
       "      <td>0.136624</td>\n",
       "    </tr>\n",
       "    <tr>\n",
       "      <th>C3_Cancel public events</th>\n",
       "      <td>0.553130</td>\n",
       "      <td>0.560344</td>\n",
       "      <td>1.000000</td>\n",
       "      <td>0.493787</td>\n",
       "      <td>0.286814</td>\n",
       "      <td>0.485556</td>\n",
       "      <td>0.094418</td>\n",
       "      <td>0.213007</td>\n",
       "      <td>0.210945</td>\n",
       "      <td>0.075992</td>\n",
       "    </tr>\n",
       "    <tr>\n",
       "      <th>C4_Restrictions on gatherings</th>\n",
       "      <td>0.371548</td>\n",
       "      <td>0.418070</td>\n",
       "      <td>0.493787</td>\n",
       "      <td>1.000000</td>\n",
       "      <td>0.286059</td>\n",
       "      <td>0.337285</td>\n",
       "      <td>0.124156</td>\n",
       "      <td>0.206652</td>\n",
       "      <td>0.209872</td>\n",
       "      <td>-0.057939</td>\n",
       "    </tr>\n",
       "    <tr>\n",
       "      <th>C5_Close public transport</th>\n",
       "      <td>0.269252</td>\n",
       "      <td>0.329397</td>\n",
       "      <td>0.286814</td>\n",
       "      <td>0.286059</td>\n",
       "      <td>1.000000</td>\n",
       "      <td>0.427767</td>\n",
       "      <td>0.030489</td>\n",
       "      <td>0.119208</td>\n",
       "      <td>0.140850</td>\n",
       "      <td>0.007046</td>\n",
       "    </tr>\n",
       "    <tr>\n",
       "      <th>C6_Stay at home requirements</th>\n",
       "      <td>0.440196</td>\n",
       "      <td>0.486790</td>\n",
       "      <td>0.485556</td>\n",
       "      <td>0.337285</td>\n",
       "      <td>0.427767</td>\n",
       "      <td>1.000000</td>\n",
       "      <td>0.079893</td>\n",
       "      <td>0.246101</td>\n",
       "      <td>0.255510</td>\n",
       "      <td>0.163051</td>\n",
       "    </tr>\n",
       "    <tr>\n",
       "      <th>C8_International travel controls</th>\n",
       "      <td>0.166072</td>\n",
       "      <td>0.112502</td>\n",
       "      <td>0.094418</td>\n",
       "      <td>0.124156</td>\n",
       "      <td>0.030489</td>\n",
       "      <td>0.079893</td>\n",
       "      <td>1.000000</td>\n",
       "      <td>0.028909</td>\n",
       "      <td>0.056511</td>\n",
       "      <td>0.016364</td>\n",
       "    </tr>\n",
       "    <tr>\n",
       "      <th>E1_Income support</th>\n",
       "      <td>0.204548</td>\n",
       "      <td>0.288204</td>\n",
       "      <td>0.213007</td>\n",
       "      <td>0.206652</td>\n",
       "      <td>0.119208</td>\n",
       "      <td>0.246101</td>\n",
       "      <td>0.028909</td>\n",
       "      <td>1.000000</td>\n",
       "      <td>0.496641</td>\n",
       "      <td>0.078227</td>\n",
       "    </tr>\n",
       "    <tr>\n",
       "      <th>E2_Debt/contract relief</th>\n",
       "      <td>0.232091</td>\n",
       "      <td>0.253025</td>\n",
       "      <td>0.210945</td>\n",
       "      <td>0.209872</td>\n",
       "      <td>0.140850</td>\n",
       "      <td>0.255510</td>\n",
       "      <td>0.056511</td>\n",
       "      <td>0.496641</td>\n",
       "      <td>1.000000</td>\n",
       "      <td>0.073568</td>\n",
       "    </tr>\n",
       "    <tr>\n",
       "      <th>Population</th>\n",
       "      <td>0.081776</td>\n",
       "      <td>0.136624</td>\n",
       "      <td>0.075992</td>\n",
       "      <td>-0.057939</td>\n",
       "      <td>0.007046</td>\n",
       "      <td>0.163051</td>\n",
       "      <td>0.016364</td>\n",
       "      <td>0.078227</td>\n",
       "      <td>0.073568</td>\n",
       "      <td>1.000000</td>\n",
       "    </tr>\n",
       "  </tbody>\n",
       "</table>\n",
       "</div>"
      ],
      "text/plain": [
       "                                  C1_School closing  C2_Workplace closing  \\\n",
       "C1_School closing                          1.000000              0.525865   \n",
       "C2_Workplace closing                       0.525865              1.000000   \n",
       "C3_Cancel public events                    0.553130              0.560344   \n",
       "C4_Restrictions on gatherings              0.371548              0.418070   \n",
       "C5_Close public transport                  0.269252              0.329397   \n",
       "C6_Stay at home requirements               0.440196              0.486790   \n",
       "C8_International travel controls           0.166072              0.112502   \n",
       "E1_Income support                          0.204548              0.288204   \n",
       "E2_Debt/contract relief                    0.232091              0.253025   \n",
       "Population                                 0.081776              0.136624   \n",
       "\n",
       "                                  C3_Cancel public events  \\\n",
       "C1_School closing                                0.553130   \n",
       "C2_Workplace closing                             0.560344   \n",
       "C3_Cancel public events                          1.000000   \n",
       "C4_Restrictions on gatherings                    0.493787   \n",
       "C5_Close public transport                        0.286814   \n",
       "C6_Stay at home requirements                     0.485556   \n",
       "C8_International travel controls                 0.094418   \n",
       "E1_Income support                                0.213007   \n",
       "E2_Debt/contract relief                          0.210945   \n",
       "Population                                       0.075992   \n",
       "\n",
       "                                  C4_Restrictions on gatherings  \\\n",
       "C1_School closing                                      0.371548   \n",
       "C2_Workplace closing                                   0.418070   \n",
       "C3_Cancel public events                                0.493787   \n",
       "C4_Restrictions on gatherings                          1.000000   \n",
       "C5_Close public transport                              0.286059   \n",
       "C6_Stay at home requirements                           0.337285   \n",
       "C8_International travel controls                       0.124156   \n",
       "E1_Income support                                      0.206652   \n",
       "E2_Debt/contract relief                                0.209872   \n",
       "Population                                            -0.057939   \n",
       "\n",
       "                                  C5_Close public transport  \\\n",
       "C1_School closing                                  0.269252   \n",
       "C2_Workplace closing                               0.329397   \n",
       "C3_Cancel public events                            0.286814   \n",
       "C4_Restrictions on gatherings                      0.286059   \n",
       "C5_Close public transport                          1.000000   \n",
       "C6_Stay at home requirements                       0.427767   \n",
       "C8_International travel controls                   0.030489   \n",
       "E1_Income support                                  0.119208   \n",
       "E2_Debt/contract relief                            0.140850   \n",
       "Population                                         0.007046   \n",
       "\n",
       "                                  C6_Stay at home requirements  \\\n",
       "C1_School closing                                     0.440196   \n",
       "C2_Workplace closing                                  0.486790   \n",
       "C3_Cancel public events                               0.485556   \n",
       "C4_Restrictions on gatherings                         0.337285   \n",
       "C5_Close public transport                             0.427767   \n",
       "C6_Stay at home requirements                          1.000000   \n",
       "C8_International travel controls                      0.079893   \n",
       "E1_Income support                                     0.246101   \n",
       "E2_Debt/contract relief                               0.255510   \n",
       "Population                                            0.163051   \n",
       "\n",
       "                                  C8_International travel controls  \\\n",
       "C1_School closing                                         0.166072   \n",
       "C2_Workplace closing                                      0.112502   \n",
       "C3_Cancel public events                                   0.094418   \n",
       "C4_Restrictions on gatherings                             0.124156   \n",
       "C5_Close public transport                                 0.030489   \n",
       "C6_Stay at home requirements                              0.079893   \n",
       "C8_International travel controls                          1.000000   \n",
       "E1_Income support                                         0.028909   \n",
       "E2_Debt/contract relief                                   0.056511   \n",
       "Population                                                0.016364   \n",
       "\n",
       "                                  E1_Income support  E2_Debt/contract relief  \\\n",
       "C1_School closing                          0.204548                 0.232091   \n",
       "C2_Workplace closing                       0.288204                 0.253025   \n",
       "C3_Cancel public events                    0.213007                 0.210945   \n",
       "C4_Restrictions on gatherings              0.206652                 0.209872   \n",
       "C5_Close public transport                  0.119208                 0.140850   \n",
       "C6_Stay at home requirements               0.246101                 0.255510   \n",
       "C8_International travel controls           0.028909                 0.056511   \n",
       "E1_Income support                          1.000000                 0.496641   \n",
       "E2_Debt/contract relief                    0.496641                 1.000000   \n",
       "Population                                 0.078227                 0.073568   \n",
       "\n",
       "                                  Population  \n",
       "C1_School closing                   0.081776  \n",
       "C2_Workplace closing                0.136624  \n",
       "C3_Cancel public events             0.075992  \n",
       "C4_Restrictions on gatherings      -0.057939  \n",
       "C5_Close public transport           0.007046  \n",
       "C6_Stay at home requirements        0.163051  \n",
       "C8_International travel controls    0.016364  \n",
       "E1_Income support                   0.078227  \n",
       "E2_Debt/contract relief             0.073568  \n",
       "Population                          1.000000  "
      ]
     },
     "execution_count": 19,
     "metadata": {},
     "output_type": "execute_result"
    }
   ],
   "source": [
    "data[X_features].corr(method= 'kendall')"
   ]
  },
  {
   "cell_type": "code",
   "execution_count": null,
   "metadata": {},
   "outputs": [],
   "source": []
  },
  {
   "cell_type": "code",
   "execution_count": 20,
   "metadata": {},
   "outputs": [
    {
     "data": {
      "text/plain": [
       "(38793, 68)"
      ]
     },
     "execution_count": 20,
     "metadata": {},
     "output_type": "execute_result"
    }
   ],
   "source": [
    "data.shape"
   ]
  },
  {
   "cell_type": "code",
   "execution_count": 21,
   "metadata": {},
   "outputs": [],
   "source": [
    "include_country = ['Brazil']\n",
    "data = data.loc[~data['Country'].isin(drop_country)]"
   ]
  },
  {
   "cell_type": "code",
   "execution_count": 22,
   "metadata": {},
   "outputs": [
    {
     "data": {
      "text/plain": [
       "Index(['Country', 'Lat', 'Long', 'Date', 'Confirmed', 'Deaths', 'Recovered',\n",
       "       'RegionName', 'RegionCode', 'C1_School closing', 'C2_Workplace closing',\n",
       "       'C3_Cancel public events', 'C4_Restrictions on gatherings',\n",
       "       'C5_Close public transport', 'C6_Stay at home requirements',\n",
       "       'C7_Restrictions on internal movement',\n",
       "       'C8_International travel controls', 'E1_Income support',\n",
       "       'E2_Debt/contract relief', 'E3_Fiscal measures',\n",
       "       'E4_International support', 'H1_Public information campaigns',\n",
       "       'H2_Testing policy', 'H3_Contact tracing',\n",
       "       'H4_Emergency investment in healthcare', 'H5_Investment in vaccines',\n",
       "       'M1_Wildcard', 'StringencyIndex', 'StringencyLegacyIndex',\n",
       "       'GovernmentResponseIndex', 'ContainmentHealthIndex',\n",
       "       'EconomicSupportIndex', 'census_fips_code',\n",
       "       'retail_and_recreation_percent_change_from_baseline',\n",
       "       'grocery_and_pharmacy_percent_change_from_baseline',\n",
       "       'parks_percent_change_from_baseline',\n",
       "       'transit_stations_percent_change_from_baseline',\n",
       "       'workplaces_percent_change_from_baseline',\n",
       "       'residential_percent_change_from_baseline', 'new_cases_smoothed',\n",
       "       'new_deaths_smoothed', 'new_cases_smoothed_per_million',\n",
       "       'new_deaths_smoothed_per_million', 'new_tests', 'total_tests',\n",
       "       'total_tests_per_thousand', 'new_tests_per_thousand',\n",
       "       'new_tests_smoothed', 'new_tests_smoothed_per_thousand',\n",
       "       'tests_per_case', 'positive_rate', 'median_age', 'aged_65_older',\n",
       "       'aged_70_older', 'extreme_poverty', 'cardiovasc_death_rate',\n",
       "       'diabetes_prevalence', 'female_smokers', 'male_smokers',\n",
       "       'handwashing_facilities', 'hospital_beds_per_thousand',\n",
       "       'life_expectancy', 'Population', 'GrowthRate', 'Area', 'Density',\n",
       "       'Airports', 'GDP'],\n",
       "      dtype='object')"
      ]
     },
     "execution_count": 22,
     "metadata": {},
     "output_type": "execute_result"
    }
   ],
   "source": [
    "data.columns"
   ]
  },
  {
   "cell_type": "code",
   "execution_count": 23,
   "metadata": {},
   "outputs": [],
   "source": [
    "data = data[md_features + target + X_features]\n",
    "data = data.loc[data['Country'].isin(include_country)]"
   ]
  },
  {
   "cell_type": "code",
   "execution_count": 24,
   "metadata": {},
   "outputs": [
    {
     "data": {
      "text/html": [
       "<div>\n",
       "<style scoped>\n",
       "    .dataframe tbody tr th:only-of-type {\n",
       "        vertical-align: middle;\n",
       "    }\n",
       "\n",
       "    .dataframe tbody tr th {\n",
       "        vertical-align: top;\n",
       "    }\n",
       "\n",
       "    .dataframe thead th {\n",
       "        text-align: right;\n",
       "    }\n",
       "</style>\n",
       "<table border=\"1\" class=\"dataframe\">\n",
       "  <thead>\n",
       "    <tr style=\"text-align: right;\">\n",
       "      <th></th>\n",
       "      <th>C1_School closing</th>\n",
       "      <th>C2_Workplace closing</th>\n",
       "      <th>C3_Cancel public events</th>\n",
       "      <th>C4_Restrictions on gatherings</th>\n",
       "      <th>C5_Close public transport</th>\n",
       "      <th>C6_Stay at home requirements</th>\n",
       "      <th>C8_International travel controls</th>\n",
       "      <th>E1_Income support</th>\n",
       "      <th>E2_Debt/contract relief</th>\n",
       "      <th>Population</th>\n",
       "    </tr>\n",
       "  </thead>\n",
       "  <tbody>\n",
       "    <tr>\n",
       "      <th>C1_School closing</th>\n",
       "      <td>1.000000</td>\n",
       "      <td>0.863397</td>\n",
       "      <td>1.000000</td>\n",
       "      <td>0.769888</td>\n",
       "      <td>0.535978</td>\n",
       "      <td>0.863397</td>\n",
       "      <td>0.863397</td>\n",
       "      <td>0.330289</td>\n",
       "      <td>0.603023</td>\n",
       "      <td>NaN</td>\n",
       "    </tr>\n",
       "    <tr>\n",
       "      <th>C2_Workplace closing</th>\n",
       "      <td>0.863397</td>\n",
       "      <td>1.000000</td>\n",
       "      <td>0.863397</td>\n",
       "      <td>0.891696</td>\n",
       "      <td>0.620778</td>\n",
       "      <td>1.000000</td>\n",
       "      <td>1.000000</td>\n",
       "      <td>0.382546</td>\n",
       "      <td>0.698430</td>\n",
       "      <td>NaN</td>\n",
       "    </tr>\n",
       "    <tr>\n",
       "      <th>C3_Cancel public events</th>\n",
       "      <td>1.000000</td>\n",
       "      <td>0.863397</td>\n",
       "      <td>1.000000</td>\n",
       "      <td>0.769888</td>\n",
       "      <td>0.535978</td>\n",
       "      <td>0.863397</td>\n",
       "      <td>0.863397</td>\n",
       "      <td>0.330289</td>\n",
       "      <td>0.603023</td>\n",
       "      <td>NaN</td>\n",
       "    </tr>\n",
       "    <tr>\n",
       "      <th>C4_Restrictions on gatherings</th>\n",
       "      <td>0.769888</td>\n",
       "      <td>0.891696</td>\n",
       "      <td>0.769888</td>\n",
       "      <td>1.000000</td>\n",
       "      <td>0.696177</td>\n",
       "      <td>0.891696</td>\n",
       "      <td>0.891696</td>\n",
       "      <td>0.429009</td>\n",
       "      <td>0.783260</td>\n",
       "      <td>NaN</td>\n",
       "    </tr>\n",
       "    <tr>\n",
       "      <th>C5_Close public transport</th>\n",
       "      <td>0.535978</td>\n",
       "      <td>0.620778</td>\n",
       "      <td>0.535978</td>\n",
       "      <td>0.696177</td>\n",
       "      <td>1.000000</td>\n",
       "      <td>0.620778</td>\n",
       "      <td>0.620778</td>\n",
       "      <td>0.616236</td>\n",
       "      <td>0.888819</td>\n",
       "      <td>NaN</td>\n",
       "    </tr>\n",
       "    <tr>\n",
       "      <th>C6_Stay at home requirements</th>\n",
       "      <td>0.863397</td>\n",
       "      <td>1.000000</td>\n",
       "      <td>0.863397</td>\n",
       "      <td>0.891696</td>\n",
       "      <td>0.620778</td>\n",
       "      <td>1.000000</td>\n",
       "      <td>1.000000</td>\n",
       "      <td>0.382546</td>\n",
       "      <td>0.698430</td>\n",
       "      <td>NaN</td>\n",
       "    </tr>\n",
       "    <tr>\n",
       "      <th>C8_International travel controls</th>\n",
       "      <td>0.863397</td>\n",
       "      <td>1.000000</td>\n",
       "      <td>0.863397</td>\n",
       "      <td>0.891696</td>\n",
       "      <td>0.620778</td>\n",
       "      <td>1.000000</td>\n",
       "      <td>1.000000</td>\n",
       "      <td>0.382546</td>\n",
       "      <td>0.698430</td>\n",
       "      <td>NaN</td>\n",
       "    </tr>\n",
       "    <tr>\n",
       "      <th>E1_Income support</th>\n",
       "      <td>0.330289</td>\n",
       "      <td>0.382546</td>\n",
       "      <td>0.330289</td>\n",
       "      <td>0.429009</td>\n",
       "      <td>0.616236</td>\n",
       "      <td>0.382546</td>\n",
       "      <td>0.382546</td>\n",
       "      <td>1.000000</td>\n",
       "      <td>0.547723</td>\n",
       "      <td>NaN</td>\n",
       "    </tr>\n",
       "    <tr>\n",
       "      <th>E2_Debt/contract relief</th>\n",
       "      <td>0.603023</td>\n",
       "      <td>0.698430</td>\n",
       "      <td>0.603023</td>\n",
       "      <td>0.783260</td>\n",
       "      <td>0.888819</td>\n",
       "      <td>0.698430</td>\n",
       "      <td>0.698430</td>\n",
       "      <td>0.547723</td>\n",
       "      <td>1.000000</td>\n",
       "      <td>NaN</td>\n",
       "    </tr>\n",
       "    <tr>\n",
       "      <th>Population</th>\n",
       "      <td>NaN</td>\n",
       "      <td>NaN</td>\n",
       "      <td>NaN</td>\n",
       "      <td>NaN</td>\n",
       "      <td>NaN</td>\n",
       "      <td>NaN</td>\n",
       "      <td>NaN</td>\n",
       "      <td>NaN</td>\n",
       "      <td>NaN</td>\n",
       "      <td>1.0</td>\n",
       "    </tr>\n",
       "  </tbody>\n",
       "</table>\n",
       "</div>"
      ],
      "text/plain": [
       "                                  C1_School closing  C2_Workplace closing  \\\n",
       "C1_School closing                          1.000000              0.863397   \n",
       "C2_Workplace closing                       0.863397              1.000000   \n",
       "C3_Cancel public events                    1.000000              0.863397   \n",
       "C4_Restrictions on gatherings              0.769888              0.891696   \n",
       "C5_Close public transport                  0.535978              0.620778   \n",
       "C6_Stay at home requirements               0.863397              1.000000   \n",
       "C8_International travel controls           0.863397              1.000000   \n",
       "E1_Income support                          0.330289              0.382546   \n",
       "E2_Debt/contract relief                    0.603023              0.698430   \n",
       "Population                                      NaN                   NaN   \n",
       "\n",
       "                                  C3_Cancel public events  \\\n",
       "C1_School closing                                1.000000   \n",
       "C2_Workplace closing                             0.863397   \n",
       "C3_Cancel public events                          1.000000   \n",
       "C4_Restrictions on gatherings                    0.769888   \n",
       "C5_Close public transport                        0.535978   \n",
       "C6_Stay at home requirements                     0.863397   \n",
       "C8_International travel controls                 0.863397   \n",
       "E1_Income support                                0.330289   \n",
       "E2_Debt/contract relief                          0.603023   \n",
       "Population                                            NaN   \n",
       "\n",
       "                                  C4_Restrictions on gatherings  \\\n",
       "C1_School closing                                      0.769888   \n",
       "C2_Workplace closing                                   0.891696   \n",
       "C3_Cancel public events                                0.769888   \n",
       "C4_Restrictions on gatherings                          1.000000   \n",
       "C5_Close public transport                              0.696177   \n",
       "C6_Stay at home requirements                           0.891696   \n",
       "C8_International travel controls                       0.891696   \n",
       "E1_Income support                                      0.429009   \n",
       "E2_Debt/contract relief                                0.783260   \n",
       "Population                                                  NaN   \n",
       "\n",
       "                                  C5_Close public transport  \\\n",
       "C1_School closing                                  0.535978   \n",
       "C2_Workplace closing                               0.620778   \n",
       "C3_Cancel public events                            0.535978   \n",
       "C4_Restrictions on gatherings                      0.696177   \n",
       "C5_Close public transport                          1.000000   \n",
       "C6_Stay at home requirements                       0.620778   \n",
       "C8_International travel controls                   0.620778   \n",
       "E1_Income support                                  0.616236   \n",
       "E2_Debt/contract relief                            0.888819   \n",
       "Population                                              NaN   \n",
       "\n",
       "                                  C6_Stay at home requirements  \\\n",
       "C1_School closing                                     0.863397   \n",
       "C2_Workplace closing                                  1.000000   \n",
       "C3_Cancel public events                               0.863397   \n",
       "C4_Restrictions on gatherings                         0.891696   \n",
       "C5_Close public transport                             0.620778   \n",
       "C6_Stay at home requirements                          1.000000   \n",
       "C8_International travel controls                      1.000000   \n",
       "E1_Income support                                     0.382546   \n",
       "E2_Debt/contract relief                               0.698430   \n",
       "Population                                                 NaN   \n",
       "\n",
       "                                  C8_International travel controls  \\\n",
       "C1_School closing                                         0.863397   \n",
       "C2_Workplace closing                                      1.000000   \n",
       "C3_Cancel public events                                   0.863397   \n",
       "C4_Restrictions on gatherings                             0.891696   \n",
       "C5_Close public transport                                 0.620778   \n",
       "C6_Stay at home requirements                              1.000000   \n",
       "C8_International travel controls                          1.000000   \n",
       "E1_Income support                                         0.382546   \n",
       "E2_Debt/contract relief                                   0.698430   \n",
       "Population                                                     NaN   \n",
       "\n",
       "                                  E1_Income support  E2_Debt/contract relief  \\\n",
       "C1_School closing                          0.330289                 0.603023   \n",
       "C2_Workplace closing                       0.382546                 0.698430   \n",
       "C3_Cancel public events                    0.330289                 0.603023   \n",
       "C4_Restrictions on gatherings              0.429009                 0.783260   \n",
       "C5_Close public transport                  0.616236                 0.888819   \n",
       "C6_Stay at home requirements               0.382546                 0.698430   \n",
       "C8_International travel controls           0.382546                 0.698430   \n",
       "E1_Income support                          1.000000                 0.547723   \n",
       "E2_Debt/contract relief                    0.547723                 1.000000   \n",
       "Population                                      NaN                      NaN   \n",
       "\n",
       "                                  Population  \n",
       "C1_School closing                        NaN  \n",
       "C2_Workplace closing                     NaN  \n",
       "C3_Cancel public events                  NaN  \n",
       "C4_Restrictions on gatherings            NaN  \n",
       "C5_Close public transport                NaN  \n",
       "C6_Stay at home requirements             NaN  \n",
       "C8_International travel controls         NaN  \n",
       "E1_Income support                        NaN  \n",
       "E2_Debt/contract relief                  NaN  \n",
       "Population                               1.0  "
      ]
     },
     "execution_count": 24,
     "metadata": {},
     "output_type": "execute_result"
    }
   ],
   "source": [
    "data[data.columns[5:]].corr(method= 'kendall')"
   ]
  },
  {
   "cell_type": "code",
   "execution_count": 25,
   "metadata": {},
   "outputs": [
    {
     "name": "stdout",
     "output_type": "stream",
     "text": [
      "1.0    165\n",
      "0.0      3\n",
      "Name: C1_School closing, dtype: int64\n",
      "1.0    164\n",
      "0.0      4\n",
      "Name: C2_Workplace closing, dtype: int64\n",
      "1.0    165\n",
      "0.0      3\n",
      "Name: C3_Cancel public events, dtype: int64\n",
      "1.0    163\n",
      "0.0      5\n",
      "Name: C4_Restrictions on gatherings, dtype: int64\n",
      "1.0    158\n",
      "0.0     10\n",
      "Name: C5_Close public transport, dtype: int64\n",
      "1.0    164\n",
      "0.0      4\n",
      "Name: C6_Stay at home requirements, dtype: int64\n",
      "1.0    164\n",
      "0.0      4\n",
      "Name: C8_International travel controls, dtype: int64\n",
      "1.0    144\n",
      "0.0     24\n",
      "Name: E1_Income support, dtype: int64\n",
      "1.0    160\n",
      "0.0      8\n",
      "Name: E2_Debt/contract relief, dtype: int64\n"
     ]
    }
   ],
   "source": [
    "for features in X_features[:-1]:\n",
    "    \n",
    "    print(data[features].value_counts())\n",
    "    if (data[features].value_counts().values < 10).any():\n",
    "        X_features.remove(features)\n",
    "        data = data.drop(features, axis=1)"
   ]
  },
  {
   "cell_type": "code",
   "execution_count": 26,
   "metadata": {},
   "outputs": [
    {
     "data": {
      "text/plain": [
       "['C5_Close public transport', 'E1_Income support', 'Population']"
      ]
     },
     "execution_count": 26,
     "metadata": {},
     "output_type": "execute_result"
    }
   ],
   "source": [
    "X_features"
   ]
  },
  {
   "cell_type": "code",
   "execution_count": 27,
   "metadata": {},
   "outputs": [
    {
     "data": {
      "text/plain": [
       "['C5_Close public transport', 'E1_Income support', 'Population']"
      ]
     },
     "execution_count": 27,
     "metadata": {},
     "output_type": "execute_result"
    }
   ],
   "source": [
    "X_features"
   ]
  },
  {
   "cell_type": "code",
   "execution_count": 28,
   "metadata": {},
   "outputs": [
    {
     "data": {
      "text/plain": [
       "Country                      0\n",
       "Date                         0\n",
       "Confirmed                    0\n",
       "Deaths                       0\n",
       "Recovered                    0\n",
       "C5_Close public transport    9\n",
       "E1_Income support            9\n",
       "Population                   0\n",
       "dtype: int64"
      ]
     },
     "execution_count": 28,
     "metadata": {},
     "output_type": "execute_result"
    }
   ],
   "source": [
    "data.isnull().sum(axis = 0) \n",
    "# data = data.fillna(method='ffill')"
   ]
  },
  {
   "cell_type": "code",
   "execution_count": 29,
   "metadata": {},
   "outputs": [],
   "source": [
    "# data.loc['Date' == '07/18/2020', 'C2_Workplace closing']"
   ]
  },
  {
   "cell_type": "code",
   "execution_count": 30,
   "metadata": {},
   "outputs": [
    {
     "data": {
      "text/plain": [
       "Country                      0\n",
       "Date                         0\n",
       "Confirmed                    0\n",
       "Deaths                       0\n",
       "Recovered                    0\n",
       "C5_Close public transport    0\n",
       "E1_Income support            0\n",
       "Population                   0\n",
       "dtype: int64"
      ]
     },
     "execution_count": 30,
     "metadata": {},
     "output_type": "execute_result"
    }
   ],
   "source": [
    "data = data.dropna()\n",
    "data.isnull().sum(axis = 0) "
   ]
  },
  {
   "cell_type": "code",
   "execution_count": 31,
   "metadata": {},
   "outputs": [],
   "source": [
    "data = data.dropna()"
   ]
  },
  {
   "cell_type": "code",
   "execution_count": 32,
   "metadata": {},
   "outputs": [
    {
     "data": {
      "text/plain": [
       "(168, 8)"
      ]
     },
     "execution_count": 32,
     "metadata": {},
     "output_type": "execute_result"
    }
   ],
   "source": [
    "data.shape"
   ]
  },
  {
   "cell_type": "code",
   "execution_count": 33,
   "metadata": {},
   "outputs": [],
   "source": [
    "# data['C2_Workplace closing']"
   ]
  },
  {
   "cell_type": "code",
   "execution_count": 34,
   "metadata": {},
   "outputs": [],
   "source": [
    "# data = data.loc[data['C2_Workplace closing'].isin([2.0,3.0])]\n",
    "# data['C2_Workplace closing']  = data['C2_Workplace closing'] - 2.0"
   ]
  },
  {
   "cell_type": "code",
   "execution_count": 35,
   "metadata": {},
   "outputs": [],
   "source": [
    "# data['C2_Workplace closing'].value_counts()"
   ]
  },
  {
   "cell_type": "code",
   "execution_count": 36,
   "metadata": {},
   "outputs": [],
   "source": [
    "for i in target:\n",
    "#     data[i] = data[i]/population\n",
    "    data[i] = data[i]/data['Population']"
   ]
  },
  {
   "cell_type": "code",
   "execution_count": 37,
   "metadata": {},
   "outputs": [
    {
     "data": {
      "text/html": [
       "<div>\n",
       "<style scoped>\n",
       "    .dataframe tbody tr th:only-of-type {\n",
       "        vertical-align: middle;\n",
       "    }\n",
       "\n",
       "    .dataframe tbody tr th {\n",
       "        vertical-align: top;\n",
       "    }\n",
       "\n",
       "    .dataframe thead th {\n",
       "        text-align: right;\n",
       "    }\n",
       "</style>\n",
       "<table border=\"1\" class=\"dataframe\">\n",
       "  <thead>\n",
       "    <tr style=\"text-align: right;\">\n",
       "      <th></th>\n",
       "      <th>Country</th>\n",
       "      <th>Date</th>\n",
       "      <th>Confirmed</th>\n",
       "      <th>Deaths</th>\n",
       "      <th>Recovered</th>\n",
       "      <th>C5_Close public transport</th>\n",
       "      <th>E1_Income support</th>\n",
       "      <th>Population</th>\n",
       "    </tr>\n",
       "  </thead>\n",
       "  <tbody>\n",
       "    <tr>\n",
       "      <th>3525</th>\n",
       "      <td>Brazil</td>\n",
       "      <td>03/09/2020</td>\n",
       "      <td>0.000118</td>\n",
       "      <td>0.0</td>\n",
       "      <td>0.0</td>\n",
       "      <td>0.0</td>\n",
       "      <td>0.0</td>\n",
       "      <td>211049.527</td>\n",
       "    </tr>\n",
       "    <tr>\n",
       "      <th>3526</th>\n",
       "      <td>Brazil</td>\n",
       "      <td>03/10/2020</td>\n",
       "      <td>0.000147</td>\n",
       "      <td>0.0</td>\n",
       "      <td>0.0</td>\n",
       "      <td>0.0</td>\n",
       "      <td>0.0</td>\n",
       "      <td>211049.527</td>\n",
       "    </tr>\n",
       "    <tr>\n",
       "      <th>3527</th>\n",
       "      <td>Brazil</td>\n",
       "      <td>03/11/2020</td>\n",
       "      <td>0.000180</td>\n",
       "      <td>0.0</td>\n",
       "      <td>0.0</td>\n",
       "      <td>0.0</td>\n",
       "      <td>0.0</td>\n",
       "      <td>211049.527</td>\n",
       "    </tr>\n",
       "    <tr>\n",
       "      <th>3528</th>\n",
       "      <td>Brazil</td>\n",
       "      <td>03/12/2020</td>\n",
       "      <td>0.000246</td>\n",
       "      <td>0.0</td>\n",
       "      <td>0.0</td>\n",
       "      <td>0.0</td>\n",
       "      <td>0.0</td>\n",
       "      <td>211049.527</td>\n",
       "    </tr>\n",
       "    <tr>\n",
       "      <th>3529</th>\n",
       "      <td>Brazil</td>\n",
       "      <td>03/13/2020</td>\n",
       "      <td>0.000715</td>\n",
       "      <td>0.0</td>\n",
       "      <td>0.0</td>\n",
       "      <td>0.0</td>\n",
       "      <td>0.0</td>\n",
       "      <td>211049.527</td>\n",
       "    </tr>\n",
       "  </tbody>\n",
       "</table>\n",
       "</div>"
      ],
      "text/plain": [
       "     Country        Date  Confirmed  Deaths  Recovered  \\\n",
       "3525  Brazil  03/09/2020   0.000118     0.0        0.0   \n",
       "3526  Brazil  03/10/2020   0.000147     0.0        0.0   \n",
       "3527  Brazil  03/11/2020   0.000180     0.0        0.0   \n",
       "3528  Brazil  03/12/2020   0.000246     0.0        0.0   \n",
       "3529  Brazil  03/13/2020   0.000715     0.0        0.0   \n",
       "\n",
       "      C5_Close public transport  E1_Income support  Population  \n",
       "3525                        0.0                0.0  211049.527  \n",
       "3526                        0.0                0.0  211049.527  \n",
       "3527                        0.0                0.0  211049.527  \n",
       "3528                        0.0                0.0  211049.527  \n",
       "3529                        0.0                0.0  211049.527  "
      ]
     },
     "execution_count": 37,
     "metadata": {},
     "output_type": "execute_result"
    }
   ],
   "source": [
    "data.head()"
   ]
  },
  {
   "cell_type": "code",
   "execution_count": 38,
   "metadata": {},
   "outputs": [],
   "source": [
    "data = data[md_features + target + X_features ]"
   ]
  },
  {
   "cell_type": "code",
   "execution_count": 39,
   "metadata": {},
   "outputs": [
    {
     "data": {
      "text/plain": [
       "Country                      0\n",
       "Date                         0\n",
       "Confirmed                    0\n",
       "Deaths                       0\n",
       "Recovered                    0\n",
       "C5_Close public transport    0\n",
       "E1_Income support            0\n",
       "Population                   0\n",
       "dtype: int64"
      ]
     },
     "execution_count": 39,
     "metadata": {},
     "output_type": "execute_result"
    }
   ],
   "source": [
    "data.isnull().sum(axis = 0) "
   ]
  },
  {
   "cell_type": "code",
   "execution_count": 40,
   "metadata": {},
   "outputs": [
    {
     "data": {
      "text/plain": [
       "Confirmed                         4.866379\n",
       "Deaths                            0.188843\n",
       "Recovered                         3.371906\n",
       "C5_Close public transport         0.940476\n",
       "E1_Income support                 0.857143\n",
       "Population                   211049.527000\n",
       "dtype: float64"
      ]
     },
     "execution_count": 40,
     "metadata": {},
     "output_type": "execute_result"
    }
   ],
   "source": [
    "data.mean()"
   ]
  },
  {
   "cell_type": "code",
   "execution_count": 41,
   "metadata": {},
   "outputs": [
    {
     "data": {
      "text/plain": [
       "Brazil    168\n",
       "Name: Country, dtype: int64"
      ]
     },
     "execution_count": 41,
     "metadata": {},
     "output_type": "execute_result"
    }
   ],
   "source": [
    "data['Country'].value_counts()"
   ]
  },
  {
   "cell_type": "code",
   "execution_count": 42,
   "metadata": {},
   "outputs": [],
   "source": [
    "def get_data_diff(data, features=None, flag_percent=False):\n",
    "    if features is None:\n",
    "        features = ['Confirmed', 'Deaths', 'Recovered']\n",
    "    countries = np.unique(data['Country'])\n",
    "    data_diff = []\n",
    "    for c in countries:\n",
    "        data_c = data.loc[data['Country'] == c].sort_values(['Date'])\n",
    "        data_d = data_c.copy()\n",
    "        data_d[features] = data_c[features].diff()\n",
    "        data_d = data_d.iloc[1:]\n",
    "        if flag_percent:\n",
    "            data_d[features] = data_d[features] / data_c[features].iloc[:-1].values\n",
    "#         print(data_d)\n",
    "        data_diff.append(data_d)\n",
    "#         print(data_diff)\n",
    "    return pd.concat(data_diff, axis=0, ignore_index=True)  # .drop(['index', 'level_0'], axis=1)\n"
   ]
  },
  {
   "cell_type": "code",
   "execution_count": 43,
   "metadata": {},
   "outputs": [],
   "source": [
    "data_diff = get_data_diff(data, features = ['Confirmed'])"
   ]
  },
  {
   "cell_type": "code",
   "execution_count": 44,
   "metadata": {},
   "outputs": [
    {
     "data": {
      "text/html": [
       "<div>\n",
       "<style scoped>\n",
       "    .dataframe tbody tr th:only-of-type {\n",
       "        vertical-align: middle;\n",
       "    }\n",
       "\n",
       "    .dataframe tbody tr th {\n",
       "        vertical-align: top;\n",
       "    }\n",
       "\n",
       "    .dataframe thead th {\n",
       "        text-align: right;\n",
       "    }\n",
       "</style>\n",
       "<table border=\"1\" class=\"dataframe\">\n",
       "  <thead>\n",
       "    <tr style=\"text-align: right;\">\n",
       "      <th></th>\n",
       "      <th>Country</th>\n",
       "      <th>Date</th>\n",
       "      <th>Confirmed</th>\n",
       "      <th>Deaths</th>\n",
       "      <th>Recovered</th>\n",
       "      <th>C5_Close public transport</th>\n",
       "      <th>E1_Income support</th>\n",
       "      <th>Population</th>\n",
       "    </tr>\n",
       "  </thead>\n",
       "  <tbody>\n",
       "    <tr>\n",
       "      <th>0</th>\n",
       "      <td>Brazil</td>\n",
       "      <td>03/10/2020</td>\n",
       "      <td>0.000028</td>\n",
       "      <td>0.000000</td>\n",
       "      <td>0.000000</td>\n",
       "      <td>0.0</td>\n",
       "      <td>0.0</td>\n",
       "      <td>211049.527</td>\n",
       "    </tr>\n",
       "    <tr>\n",
       "      <th>1</th>\n",
       "      <td>Brazil</td>\n",
       "      <td>03/11/2020</td>\n",
       "      <td>0.000033</td>\n",
       "      <td>0.000000</td>\n",
       "      <td>0.000000</td>\n",
       "      <td>0.0</td>\n",
       "      <td>0.0</td>\n",
       "      <td>211049.527</td>\n",
       "    </tr>\n",
       "    <tr>\n",
       "      <th>2</th>\n",
       "      <td>Brazil</td>\n",
       "      <td>03/12/2020</td>\n",
       "      <td>0.000066</td>\n",
       "      <td>0.000000</td>\n",
       "      <td>0.000000</td>\n",
       "      <td>0.0</td>\n",
       "      <td>0.0</td>\n",
       "      <td>211049.527</td>\n",
       "    </tr>\n",
       "    <tr>\n",
       "      <th>3</th>\n",
       "      <td>Brazil</td>\n",
       "      <td>03/13/2020</td>\n",
       "      <td>0.000469</td>\n",
       "      <td>0.000000</td>\n",
       "      <td>0.000000</td>\n",
       "      <td>0.0</td>\n",
       "      <td>0.0</td>\n",
       "      <td>211049.527</td>\n",
       "    </tr>\n",
       "    <tr>\n",
       "      <th>4</th>\n",
       "      <td>Brazil</td>\n",
       "      <td>03/14/2020</td>\n",
       "      <td>0.000000</td>\n",
       "      <td>0.000000</td>\n",
       "      <td>0.000000</td>\n",
       "      <td>0.0</td>\n",
       "      <td>0.0</td>\n",
       "      <td>211049.527</td>\n",
       "    </tr>\n",
       "    <tr>\n",
       "      <th>...</th>\n",
       "      <td>...</td>\n",
       "      <td>...</td>\n",
       "      <td>...</td>\n",
       "      <td>...</td>\n",
       "      <td>...</td>\n",
       "      <td>...</td>\n",
       "      <td>...</td>\n",
       "      <td>...</td>\n",
       "    </tr>\n",
       "    <tr>\n",
       "      <th>162</th>\n",
       "      <td>Brazil</td>\n",
       "      <td>08/19/2020</td>\n",
       "      <td>0.233585</td>\n",
       "      <td>0.526417</td>\n",
       "      <td>13.276178</td>\n",
       "      <td>1.0</td>\n",
       "      <td>1.0</td>\n",
       "      <td>211049.527</td>\n",
       "    </tr>\n",
       "    <tr>\n",
       "      <th>163</th>\n",
       "      <td>Brazil</td>\n",
       "      <td>08/20/2020</td>\n",
       "      <td>0.214751</td>\n",
       "      <td>0.532122</td>\n",
       "      <td>13.477017</td>\n",
       "      <td>1.0</td>\n",
       "      <td>1.0</td>\n",
       "      <td>211049.527</td>\n",
       "    </tr>\n",
       "    <tr>\n",
       "      <th>164</th>\n",
       "      <td>Brazil</td>\n",
       "      <td>08/21/2020</td>\n",
       "      <td>0.143829</td>\n",
       "      <td>0.537116</td>\n",
       "      <td>13.530274</td>\n",
       "      <td>1.0</td>\n",
       "      <td>1.0</td>\n",
       "      <td>211049.527</td>\n",
       "    </tr>\n",
       "    <tr>\n",
       "      <th>165</th>\n",
       "      <td>Brazil</td>\n",
       "      <td>08/22/2020</td>\n",
       "      <td>0.237063</td>\n",
       "      <td>0.541342</td>\n",
       "      <td>13.807025</td>\n",
       "      <td>1.0</td>\n",
       "      <td>1.0</td>\n",
       "      <td>211049.527</td>\n",
       "    </tr>\n",
       "    <tr>\n",
       "      <th>166</th>\n",
       "      <td>Brazil</td>\n",
       "      <td>08/23/2020</td>\n",
       "      <td>0.110974</td>\n",
       "      <td>0.543683</td>\n",
       "      <td>13.967262</td>\n",
       "      <td>1.0</td>\n",
       "      <td>1.0</td>\n",
       "      <td>211049.527</td>\n",
       "    </tr>\n",
       "  </tbody>\n",
       "</table>\n",
       "<p>167 rows × 8 columns</p>\n",
       "</div>"
      ],
      "text/plain": [
       "    Country        Date  Confirmed    Deaths  Recovered  \\\n",
       "0    Brazil  03/10/2020   0.000028  0.000000   0.000000   \n",
       "1    Brazil  03/11/2020   0.000033  0.000000   0.000000   \n",
       "2    Brazil  03/12/2020   0.000066  0.000000   0.000000   \n",
       "3    Brazil  03/13/2020   0.000469  0.000000   0.000000   \n",
       "4    Brazil  03/14/2020   0.000000  0.000000   0.000000   \n",
       "..      ...         ...        ...       ...        ...   \n",
       "162  Brazil  08/19/2020   0.233585  0.526417  13.276178   \n",
       "163  Brazil  08/20/2020   0.214751  0.532122  13.477017   \n",
       "164  Brazil  08/21/2020   0.143829  0.537116  13.530274   \n",
       "165  Brazil  08/22/2020   0.237063  0.541342  13.807025   \n",
       "166  Brazil  08/23/2020   0.110974  0.543683  13.967262   \n",
       "\n",
       "     C5_Close public transport  E1_Income support  Population  \n",
       "0                          0.0                0.0  211049.527  \n",
       "1                          0.0                0.0  211049.527  \n",
       "2                          0.0                0.0  211049.527  \n",
       "3                          0.0                0.0  211049.527  \n",
       "4                          0.0                0.0  211049.527  \n",
       "..                         ...                ...         ...  \n",
       "162                        1.0                1.0  211049.527  \n",
       "163                        1.0                1.0  211049.527  \n",
       "164                        1.0                1.0  211049.527  \n",
       "165                        1.0                1.0  211049.527  \n",
       "166                        1.0                1.0  211049.527  \n",
       "\n",
       "[167 rows x 8 columns]"
      ]
     },
     "execution_count": 44,
     "metadata": {},
     "output_type": "execute_result"
    }
   ],
   "source": [
    "data_diff"
   ]
  },
  {
   "cell_type": "code",
   "execution_count": 45,
   "metadata": {},
   "outputs": [],
   "source": [
    "data_diff = data_diff.dropna(axis='columns')"
   ]
  },
  {
   "cell_type": "code",
   "execution_count": 46,
   "metadata": {},
   "outputs": [
    {
     "data": {
      "text/plain": [
       "Index(['Country', 'Date', 'Confirmed', 'Deaths', 'Recovered',\n",
       "       'C5_Close public transport', 'E1_Income support', 'Population'],\n",
       "      dtype='object')"
      ]
     },
     "execution_count": 46,
     "metadata": {},
     "output_type": "execute_result"
    }
   ],
   "source": [
    "data_diff.columns"
   ]
  },
  {
   "cell_type": "code",
   "execution_count": 47,
   "metadata": {},
   "outputs": [
    {
     "data": {
      "text/plain": [
       "Confirmed                         0.102305\n",
       "Deaths                            0.189974\n",
       "Recovered                         3.392097\n",
       "C5_Close public transport         0.946108\n",
       "E1_Income support                 0.862275\n",
       "Population                   211049.527000\n",
       "dtype: float64"
      ]
     },
     "execution_count": 47,
     "metadata": {},
     "output_type": "execute_result"
    }
   ],
   "source": [
    "data_diff.mean()"
   ]
  },
  {
   "cell_type": "code",
   "execution_count": 48,
   "metadata": {},
   "outputs": [],
   "source": [
    "X_features = list(data_diff.columns[5:])"
   ]
  },
  {
   "cell_type": "code",
   "execution_count": 49,
   "metadata": {},
   "outputs": [
    {
     "data": {
      "text/html": [
       "<div>\n",
       "<style scoped>\n",
       "    .dataframe tbody tr th:only-of-type {\n",
       "        vertical-align: middle;\n",
       "    }\n",
       "\n",
       "    .dataframe tbody tr th {\n",
       "        vertical-align: top;\n",
       "    }\n",
       "\n",
       "    .dataframe thead th {\n",
       "        text-align: right;\n",
       "    }\n",
       "</style>\n",
       "<table border=\"1\" class=\"dataframe\">\n",
       "  <thead>\n",
       "    <tr style=\"text-align: right;\">\n",
       "      <th></th>\n",
       "      <th>Country</th>\n",
       "      <th>Date</th>\n",
       "      <th>Confirmed</th>\n",
       "      <th>Deaths</th>\n",
       "      <th>Recovered</th>\n",
       "      <th>C5_Close public transport</th>\n",
       "      <th>E1_Income support</th>\n",
       "      <th>Population</th>\n",
       "    </tr>\n",
       "  </thead>\n",
       "  <tbody>\n",
       "    <tr>\n",
       "      <th>0</th>\n",
       "      <td>Brazil</td>\n",
       "      <td>03/10/2020</td>\n",
       "      <td>0.000028</td>\n",
       "      <td>0.000000</td>\n",
       "      <td>0.000000</td>\n",
       "      <td>0.0</td>\n",
       "      <td>0.0</td>\n",
       "      <td>211049.527</td>\n",
       "    </tr>\n",
       "    <tr>\n",
       "      <th>1</th>\n",
       "      <td>Brazil</td>\n",
       "      <td>03/11/2020</td>\n",
       "      <td>0.000033</td>\n",
       "      <td>0.000000</td>\n",
       "      <td>0.000000</td>\n",
       "      <td>0.0</td>\n",
       "      <td>0.0</td>\n",
       "      <td>211049.527</td>\n",
       "    </tr>\n",
       "    <tr>\n",
       "      <th>2</th>\n",
       "      <td>Brazil</td>\n",
       "      <td>03/12/2020</td>\n",
       "      <td>0.000066</td>\n",
       "      <td>0.000000</td>\n",
       "      <td>0.000000</td>\n",
       "      <td>0.0</td>\n",
       "      <td>0.0</td>\n",
       "      <td>211049.527</td>\n",
       "    </tr>\n",
       "    <tr>\n",
       "      <th>3</th>\n",
       "      <td>Brazil</td>\n",
       "      <td>03/13/2020</td>\n",
       "      <td>0.000469</td>\n",
       "      <td>0.000000</td>\n",
       "      <td>0.000000</td>\n",
       "      <td>0.0</td>\n",
       "      <td>0.0</td>\n",
       "      <td>211049.527</td>\n",
       "    </tr>\n",
       "    <tr>\n",
       "      <th>4</th>\n",
       "      <td>Brazil</td>\n",
       "      <td>03/14/2020</td>\n",
       "      <td>0.000000</td>\n",
       "      <td>0.000000</td>\n",
       "      <td>0.000000</td>\n",
       "      <td>0.0</td>\n",
       "      <td>0.0</td>\n",
       "      <td>211049.527</td>\n",
       "    </tr>\n",
       "    <tr>\n",
       "      <th>...</th>\n",
       "      <td>...</td>\n",
       "      <td>...</td>\n",
       "      <td>...</td>\n",
       "      <td>...</td>\n",
       "      <td>...</td>\n",
       "      <td>...</td>\n",
       "      <td>...</td>\n",
       "      <td>...</td>\n",
       "    </tr>\n",
       "    <tr>\n",
       "      <th>162</th>\n",
       "      <td>Brazil</td>\n",
       "      <td>08/19/2020</td>\n",
       "      <td>0.233585</td>\n",
       "      <td>0.526417</td>\n",
       "      <td>13.276178</td>\n",
       "      <td>1.0</td>\n",
       "      <td>1.0</td>\n",
       "      <td>211049.527</td>\n",
       "    </tr>\n",
       "    <tr>\n",
       "      <th>163</th>\n",
       "      <td>Brazil</td>\n",
       "      <td>08/20/2020</td>\n",
       "      <td>0.214751</td>\n",
       "      <td>0.532122</td>\n",
       "      <td>13.477017</td>\n",
       "      <td>1.0</td>\n",
       "      <td>1.0</td>\n",
       "      <td>211049.527</td>\n",
       "    </tr>\n",
       "    <tr>\n",
       "      <th>164</th>\n",
       "      <td>Brazil</td>\n",
       "      <td>08/21/2020</td>\n",
       "      <td>0.143829</td>\n",
       "      <td>0.537116</td>\n",
       "      <td>13.530274</td>\n",
       "      <td>1.0</td>\n",
       "      <td>1.0</td>\n",
       "      <td>211049.527</td>\n",
       "    </tr>\n",
       "    <tr>\n",
       "      <th>165</th>\n",
       "      <td>Brazil</td>\n",
       "      <td>08/22/2020</td>\n",
       "      <td>0.237063</td>\n",
       "      <td>0.541342</td>\n",
       "      <td>13.807025</td>\n",
       "      <td>1.0</td>\n",
       "      <td>1.0</td>\n",
       "      <td>211049.527</td>\n",
       "    </tr>\n",
       "    <tr>\n",
       "      <th>166</th>\n",
       "      <td>Brazil</td>\n",
       "      <td>08/23/2020</td>\n",
       "      <td>0.110974</td>\n",
       "      <td>0.543683</td>\n",
       "      <td>13.967262</td>\n",
       "      <td>1.0</td>\n",
       "      <td>1.0</td>\n",
       "      <td>211049.527</td>\n",
       "    </tr>\n",
       "  </tbody>\n",
       "</table>\n",
       "<p>167 rows × 8 columns</p>\n",
       "</div>"
      ],
      "text/plain": [
       "    Country        Date  Confirmed    Deaths  Recovered  \\\n",
       "0    Brazil  03/10/2020   0.000028  0.000000   0.000000   \n",
       "1    Brazil  03/11/2020   0.000033  0.000000   0.000000   \n",
       "2    Brazil  03/12/2020   0.000066  0.000000   0.000000   \n",
       "3    Brazil  03/13/2020   0.000469  0.000000   0.000000   \n",
       "4    Brazil  03/14/2020   0.000000  0.000000   0.000000   \n",
       "..      ...         ...        ...       ...        ...   \n",
       "162  Brazil  08/19/2020   0.233585  0.526417  13.276178   \n",
       "163  Brazil  08/20/2020   0.214751  0.532122  13.477017   \n",
       "164  Brazil  08/21/2020   0.143829  0.537116  13.530274   \n",
       "165  Brazil  08/22/2020   0.237063  0.541342  13.807025   \n",
       "166  Brazil  08/23/2020   0.110974  0.543683  13.967262   \n",
       "\n",
       "     C5_Close public transport  E1_Income support  Population  \n",
       "0                          0.0                0.0  211049.527  \n",
       "1                          0.0                0.0  211049.527  \n",
       "2                          0.0                0.0  211049.527  \n",
       "3                          0.0                0.0  211049.527  \n",
       "4                          0.0                0.0  211049.527  \n",
       "..                         ...                ...         ...  \n",
       "162                        1.0                1.0  211049.527  \n",
       "163                        1.0                1.0  211049.527  \n",
       "164                        1.0                1.0  211049.527  \n",
       "165                        1.0                1.0  211049.527  \n",
       "166                        1.0                1.0  211049.527  \n",
       "\n",
       "[167 rows x 8 columns]"
      ]
     },
     "execution_count": 49,
     "metadata": {},
     "output_type": "execute_result"
    }
   ],
   "source": [
    "data_diff"
   ]
  },
  {
   "cell_type": "code",
   "execution_count": 50,
   "metadata": {},
   "outputs": [],
   "source": [
    "only_labels = True\n",
    "embed = False\n",
    "if only_labels:\n",
    "    if embed == True:\n",
    "        data_mean = data_diff[target+ embed_features].mean()\n",
    "    else:\n",
    "        data_mean = data_diff[target].mean()\n",
    "else:\n",
    "    data_mean = data_diff[target + X_features].mean()"
   ]
  },
  {
   "cell_type": "code",
   "execution_count": 51,
   "metadata": {},
   "outputs": [],
   "source": [
    "if only_labels:\n",
    "    if embed == True:\n",
    "        data_std = data_diff[target+ embed_features].std()\n",
    "    else:\n",
    "        data_std = data_diff[target].std()\n",
    "else:\n",
    "    data_std = data_diff[target + X_features].std()"
   ]
  },
  {
   "cell_type": "code",
   "execution_count": null,
   "metadata": {},
   "outputs": [],
   "source": []
  },
  {
   "cell_type": "code",
   "execution_count": 52,
   "metadata": {},
   "outputs": [],
   "source": [
    "# data_mean = pd.Series(0.0, index= [target[:n_output] + X_features])\n",
    "# data_std = pd.Series(1.0, index= [target[:n_output] + X_features])"
   ]
  },
  {
   "cell_type": "code",
   "execution_count": 53,
   "metadata": {},
   "outputs": [],
   "source": [
    "# if data_scale:\n",
    "#     if only_labels:\n",
    "#         if embed == True:\n",
    "#             data_diff[target[:n_output]+embed_features] = (data_diff[target[:n_output]+embed_features] -\n",
    "#                                                 data_mean[target[:n_output]+embed_features])\\\n",
    "#                 /data_std[target[:n_output]+embed_features] \n",
    "#         else:\n",
    "#             data_diff[target[:n_output] = (data_diff[target[:n_output]] - data_mean[target[:n_output]])\\\n",
    "#                 /data_std[target[:n_output]\n",
    "#     else:\n",
    "#         data_diff[target[:n_output + X_features] = (data_diff[target[:n_output] + X_features] - \n",
    "#                                           data_mean[target[:n_output] + X_features].values)\\\n",
    "#                                     /data_std[target[:n_output] + X_features].values"
   ]
  },
  {
   "cell_type": "code",
   "execution_count": 54,
   "metadata": {},
   "outputs": [],
   "source": [
    "only_labels = False"
   ]
  },
  {
   "cell_type": "code",
   "execution_count": 55,
   "metadata": {},
   "outputs": [
    {
     "data": {
      "text/html": [
       "<div>\n",
       "<style scoped>\n",
       "    .dataframe tbody tr th:only-of-type {\n",
       "        vertical-align: middle;\n",
       "    }\n",
       "\n",
       "    .dataframe tbody tr th {\n",
       "        vertical-align: top;\n",
       "    }\n",
       "\n",
       "    .dataframe thead th {\n",
       "        text-align: right;\n",
       "    }\n",
       "</style>\n",
       "<table border=\"1\" class=\"dataframe\">\n",
       "  <thead>\n",
       "    <tr style=\"text-align: right;\">\n",
       "      <th></th>\n",
       "      <th>Country</th>\n",
       "      <th>Date</th>\n",
       "      <th>Confirmed</th>\n",
       "      <th>Deaths</th>\n",
       "      <th>Recovered</th>\n",
       "      <th>C5_Close public transport</th>\n",
       "      <th>E1_Income support</th>\n",
       "      <th>Population</th>\n",
       "    </tr>\n",
       "  </thead>\n",
       "  <tbody>\n",
       "    <tr>\n",
       "      <th>0</th>\n",
       "      <td>Brazil</td>\n",
       "      <td>03/10/2020</td>\n",
       "      <td>0.000028</td>\n",
       "      <td>0.0</td>\n",
       "      <td>0.0</td>\n",
       "      <td>0.0</td>\n",
       "      <td>0.0</td>\n",
       "      <td>211049.527</td>\n",
       "    </tr>\n",
       "    <tr>\n",
       "      <th>1</th>\n",
       "      <td>Brazil</td>\n",
       "      <td>03/11/2020</td>\n",
       "      <td>0.000033</td>\n",
       "      <td>0.0</td>\n",
       "      <td>0.0</td>\n",
       "      <td>0.0</td>\n",
       "      <td>0.0</td>\n",
       "      <td>211049.527</td>\n",
       "    </tr>\n",
       "    <tr>\n",
       "      <th>2</th>\n",
       "      <td>Brazil</td>\n",
       "      <td>03/12/2020</td>\n",
       "      <td>0.000066</td>\n",
       "      <td>0.0</td>\n",
       "      <td>0.0</td>\n",
       "      <td>0.0</td>\n",
       "      <td>0.0</td>\n",
       "      <td>211049.527</td>\n",
       "    </tr>\n",
       "    <tr>\n",
       "      <th>3</th>\n",
       "      <td>Brazil</td>\n",
       "      <td>03/13/2020</td>\n",
       "      <td>0.000469</td>\n",
       "      <td>0.0</td>\n",
       "      <td>0.0</td>\n",
       "      <td>0.0</td>\n",
       "      <td>0.0</td>\n",
       "      <td>211049.527</td>\n",
       "    </tr>\n",
       "    <tr>\n",
       "      <th>4</th>\n",
       "      <td>Brazil</td>\n",
       "      <td>03/14/2020</td>\n",
       "      <td>0.000000</td>\n",
       "      <td>0.0</td>\n",
       "      <td>0.0</td>\n",
       "      <td>0.0</td>\n",
       "      <td>0.0</td>\n",
       "      <td>211049.527</td>\n",
       "    </tr>\n",
       "  </tbody>\n",
       "</table>\n",
       "</div>"
      ],
      "text/plain": [
       "  Country        Date  Confirmed  Deaths  Recovered  \\\n",
       "0  Brazil  03/10/2020   0.000028     0.0        0.0   \n",
       "1  Brazil  03/11/2020   0.000033     0.0        0.0   \n",
       "2  Brazil  03/12/2020   0.000066     0.0        0.0   \n",
       "3  Brazil  03/13/2020   0.000469     0.0        0.0   \n",
       "4  Brazil  03/14/2020   0.000000     0.0        0.0   \n",
       "\n",
       "   C5_Close public transport  E1_Income support  Population  \n",
       "0                        0.0                0.0  211049.527  \n",
       "1                        0.0                0.0  211049.527  \n",
       "2                        0.0                0.0  211049.527  \n",
       "3                        0.0                0.0  211049.527  \n",
       "4                        0.0                0.0  211049.527  "
      ]
     },
     "execution_count": 55,
     "metadata": {},
     "output_type": "execute_result"
    }
   ],
   "source": [
    "data_diff.head()"
   ]
  },
  {
   "cell_type": "code",
   "execution_count": 56,
   "metadata": {},
   "outputs": [
    {
     "data": {
      "text/plain": [
       "(167, 8)"
      ]
     },
     "execution_count": 56,
     "metadata": {},
     "output_type": "execute_result"
    }
   ],
   "source": [
    "data_diff.shape"
   ]
  },
  {
   "cell_type": "code",
   "execution_count": 57,
   "metadata": {},
   "outputs": [
    {
     "data": {
      "text/plain": [
       "(168, 8)"
      ]
     },
     "execution_count": 57,
     "metadata": {},
     "output_type": "execute_result"
    }
   ],
   "source": [
    "data.shape"
   ]
  },
  {
   "cell_type": "code",
   "execution_count": 58,
   "metadata": {},
   "outputs": [
    {
     "data": {
      "text/plain": [
       "Confirmed                         0.102305\n",
       "Deaths                            0.189974\n",
       "Recovered                         3.392097\n",
       "C5_Close public transport         0.946108\n",
       "E1_Income support                 0.862275\n",
       "Population                   211049.527000\n",
       "dtype: float64"
      ]
     },
     "execution_count": 58,
     "metadata": {},
     "output_type": "execute_result"
    }
   ],
   "source": [
    "data_diff.mean()"
   ]
  },
  {
   "cell_type": "code",
   "execution_count": 59,
   "metadata": {},
   "outputs": [],
   "source": [
    "# plt.plot(data.loc[data['Country'] == 'US', 'C1_School closing'])"
   ]
  },
  {
   "cell_type": "code",
   "execution_count": 60,
   "metadata": {},
   "outputs": [],
   "source": [
    "X_train, X_test, y_train, y_test, md_train, md_test = create_ts_train_test_data(data_diff, n_steps=n_steps)"
   ]
  },
  {
   "cell_type": "code",
   "execution_count": 61,
   "metadata": {},
   "outputs": [
    {
     "data": {
      "text/plain": [
       "(131, 5, 6)"
      ]
     },
     "execution_count": 61,
     "metadata": {},
     "output_type": "execute_result"
    }
   ],
   "source": [
    "X_train.shape"
   ]
  },
  {
   "cell_type": "code",
   "execution_count": 62,
   "metadata": {},
   "outputs": [
    {
     "data": {
      "text/plain": [
       "0.0"
      ]
     },
     "execution_count": 62,
     "metadata": {},
     "output_type": "execute_result"
    }
   ],
   "source": [
    "np.min(np.abs(X_train))"
   ]
  },
  {
   "cell_type": "code",
   "execution_count": 63,
   "metadata": {},
   "outputs": [
    {
     "data": {
      "text/plain": [
       "35177.1040624214"
      ]
     },
     "execution_count": 63,
     "metadata": {},
     "output_type": "execute_result"
    }
   ],
   "source": [
    "np.mean(X_test)"
   ]
  },
  {
   "cell_type": "code",
   "execution_count": 64,
   "metadata": {},
   "outputs": [],
   "source": [
    "# X_train"
   ]
  },
  {
   "cell_type": "code",
   "execution_count": 65,
   "metadata": {},
   "outputs": [
    {
     "data": {
      "text/html": [
       "<div>\n",
       "<style scoped>\n",
       "    .dataframe tbody tr th:only-of-type {\n",
       "        vertical-align: middle;\n",
       "    }\n",
       "\n",
       "    .dataframe tbody tr th {\n",
       "        vertical-align: top;\n",
       "    }\n",
       "\n",
       "    .dataframe thead th {\n",
       "        text-align: right;\n",
       "    }\n",
       "</style>\n",
       "<table border=\"1\" class=\"dataframe\">\n",
       "  <thead>\n",
       "    <tr style=\"text-align: right;\">\n",
       "      <th></th>\n",
       "      <th>Country</th>\n",
       "      <th>Date</th>\n",
       "    </tr>\n",
       "  </thead>\n",
       "  <tbody>\n",
       "    <tr>\n",
       "      <th>5</th>\n",
       "      <td>Brazil</td>\n",
       "      <td>03/15/2020</td>\n",
       "    </tr>\n",
       "    <tr>\n",
       "      <th>6</th>\n",
       "      <td>Brazil</td>\n",
       "      <td>03/16/2020</td>\n",
       "    </tr>\n",
       "    <tr>\n",
       "      <th>7</th>\n",
       "      <td>Brazil</td>\n",
       "      <td>03/17/2020</td>\n",
       "    </tr>\n",
       "    <tr>\n",
       "      <th>8</th>\n",
       "      <td>Brazil</td>\n",
       "      <td>03/18/2020</td>\n",
       "    </tr>\n",
       "    <tr>\n",
       "      <th>9</th>\n",
       "      <td>Brazil</td>\n",
       "      <td>03/19/2020</td>\n",
       "    </tr>\n",
       "    <tr>\n",
       "      <th>...</th>\n",
       "      <td>...</td>\n",
       "      <td>...</td>\n",
       "    </tr>\n",
       "    <tr>\n",
       "      <th>131</th>\n",
       "      <td>Brazil</td>\n",
       "      <td>07/19/2020</td>\n",
       "    </tr>\n",
       "    <tr>\n",
       "      <th>132</th>\n",
       "      <td>Brazil</td>\n",
       "      <td>07/20/2020</td>\n",
       "    </tr>\n",
       "    <tr>\n",
       "      <th>133</th>\n",
       "      <td>Brazil</td>\n",
       "      <td>07/21/2020</td>\n",
       "    </tr>\n",
       "    <tr>\n",
       "      <th>134</th>\n",
       "      <td>Brazil</td>\n",
       "      <td>07/22/2020</td>\n",
       "    </tr>\n",
       "    <tr>\n",
       "      <th>135</th>\n",
       "      <td>Brazil</td>\n",
       "      <td>07/23/2020</td>\n",
       "    </tr>\n",
       "  </tbody>\n",
       "</table>\n",
       "<p>131 rows × 2 columns</p>\n",
       "</div>"
      ],
      "text/plain": [
       "    Country        Date\n",
       "5    Brazil  03/15/2020\n",
       "6    Brazil  03/16/2020\n",
       "7    Brazil  03/17/2020\n",
       "8    Brazil  03/18/2020\n",
       "9    Brazil  03/19/2020\n",
       "..      ...         ...\n",
       "131  Brazil  07/19/2020\n",
       "132  Brazil  07/20/2020\n",
       "133  Brazil  07/21/2020\n",
       "134  Brazil  07/22/2020\n",
       "135  Brazil  07/23/2020\n",
       "\n",
       "[131 rows x 2 columns]"
      ]
     },
     "execution_count": 65,
     "metadata": {},
     "output_type": "execute_result"
    }
   ],
   "source": [
    "md_train"
   ]
  },
  {
   "cell_type": "code",
   "execution_count": 66,
   "metadata": {},
   "outputs": [
    {
     "data": {
      "text/html": [
       "<div>\n",
       "<style scoped>\n",
       "    .dataframe tbody tr th:only-of-type {\n",
       "        vertical-align: middle;\n",
       "    }\n",
       "\n",
       "    .dataframe tbody tr th {\n",
       "        vertical-align: top;\n",
       "    }\n",
       "\n",
       "    .dataframe thead tr th {\n",
       "        text-align: left;\n",
       "    }\n",
       "\n",
       "    .dataframe thead tr:last-of-type th {\n",
       "        text-align: right;\n",
       "    }\n",
       "</style>\n",
       "<table border=\"1\" class=\"dataframe\">\n",
       "  <thead>\n",
       "    <tr>\n",
       "      <th></th>\n",
       "      <th>Date</th>\n",
       "    </tr>\n",
       "    <tr>\n",
       "      <th></th>\n",
       "      <th>min</th>\n",
       "    </tr>\n",
       "    <tr>\n",
       "      <th>Country</th>\n",
       "      <th></th>\n",
       "    </tr>\n",
       "  </thead>\n",
       "  <tbody>\n",
       "    <tr>\n",
       "      <th>Brazil</th>\n",
       "      <td>07/24/2020</td>\n",
       "    </tr>\n",
       "  </tbody>\n",
       "</table>\n",
       "</div>"
      ],
      "text/plain": [
       "               Date\n",
       "                min\n",
       "Country            \n",
       "Brazil   07/24/2020"
      ]
     },
     "execution_count": 66,
     "metadata": {},
     "output_type": "execute_result"
    }
   ],
   "source": [
    "md_test.groupby(['Country']).agg({'Date':['min']})"
   ]
  },
  {
   "cell_type": "code",
   "execution_count": 67,
   "metadata": {},
   "outputs": [
    {
     "data": {
      "text/html": [
       "<div>\n",
       "<style scoped>\n",
       "    .dataframe tbody tr th:only-of-type {\n",
       "        vertical-align: middle;\n",
       "    }\n",
       "\n",
       "    .dataframe tbody tr th {\n",
       "        vertical-align: top;\n",
       "    }\n",
       "\n",
       "    .dataframe thead th {\n",
       "        text-align: right;\n",
       "    }\n",
       "</style>\n",
       "<table border=\"1\" class=\"dataframe\">\n",
       "  <thead>\n",
       "    <tr style=\"text-align: right;\">\n",
       "      <th></th>\n",
       "      <th>Country</th>\n",
       "      <th>Date</th>\n",
       "      <th>Confirmed</th>\n",
       "      <th>Deaths</th>\n",
       "      <th>Recovered</th>\n",
       "      <th>C5_Close public transport</th>\n",
       "      <th>E1_Income support</th>\n",
       "      <th>Population</th>\n",
       "    </tr>\n",
       "  </thead>\n",
       "  <tbody>\n",
       "    <tr>\n",
       "      <th>0</th>\n",
       "      <td>Brazil</td>\n",
       "      <td>03/10/2020</td>\n",
       "      <td>0.000028</td>\n",
       "      <td>0.0</td>\n",
       "      <td>0.0</td>\n",
       "      <td>0.0</td>\n",
       "      <td>0.0</td>\n",
       "      <td>211049.527</td>\n",
       "    </tr>\n",
       "    <tr>\n",
       "      <th>1</th>\n",
       "      <td>Brazil</td>\n",
       "      <td>03/11/2020</td>\n",
       "      <td>0.000033</td>\n",
       "      <td>0.0</td>\n",
       "      <td>0.0</td>\n",
       "      <td>0.0</td>\n",
       "      <td>0.0</td>\n",
       "      <td>211049.527</td>\n",
       "    </tr>\n",
       "    <tr>\n",
       "      <th>2</th>\n",
       "      <td>Brazil</td>\n",
       "      <td>03/12/2020</td>\n",
       "      <td>0.000066</td>\n",
       "      <td>0.0</td>\n",
       "      <td>0.0</td>\n",
       "      <td>0.0</td>\n",
       "      <td>0.0</td>\n",
       "      <td>211049.527</td>\n",
       "    </tr>\n",
       "    <tr>\n",
       "      <th>3</th>\n",
       "      <td>Brazil</td>\n",
       "      <td>03/13/2020</td>\n",
       "      <td>0.000469</td>\n",
       "      <td>0.0</td>\n",
       "      <td>0.0</td>\n",
       "      <td>0.0</td>\n",
       "      <td>0.0</td>\n",
       "      <td>211049.527</td>\n",
       "    </tr>\n",
       "    <tr>\n",
       "      <th>4</th>\n",
       "      <td>Brazil</td>\n",
       "      <td>03/14/2020</td>\n",
       "      <td>0.000000</td>\n",
       "      <td>0.0</td>\n",
       "      <td>0.0</td>\n",
       "      <td>0.0</td>\n",
       "      <td>0.0</td>\n",
       "      <td>211049.527</td>\n",
       "    </tr>\n",
       "  </tbody>\n",
       "</table>\n",
       "</div>"
      ],
      "text/plain": [
       "  Country        Date  Confirmed  Deaths  Recovered  \\\n",
       "0  Brazil  03/10/2020   0.000028     0.0        0.0   \n",
       "1  Brazil  03/11/2020   0.000033     0.0        0.0   \n",
       "2  Brazil  03/12/2020   0.000066     0.0        0.0   \n",
       "3  Brazil  03/13/2020   0.000469     0.0        0.0   \n",
       "4  Brazil  03/14/2020   0.000000     0.0        0.0   \n",
       "\n",
       "   C5_Close public transport  E1_Income support  Population  \n",
       "0                        0.0                0.0  211049.527  \n",
       "1                        0.0                0.0  211049.527  \n",
       "2                        0.0                0.0  211049.527  \n",
       "3                        0.0                0.0  211049.527  \n",
       "4                        0.0                0.0  211049.527  "
      ]
     },
     "execution_count": 67,
     "metadata": {},
     "output_type": "execute_result"
    }
   ],
   "source": [
    "data_diff.head()"
   ]
  },
  {
   "cell_type": "code",
   "execution_count": 68,
   "metadata": {},
   "outputs": [
    {
     "data": {
      "text/plain": [
       "<matplotlib.axes._subplots.AxesSubplot at 0x7f7ee7fbceb8>"
      ]
     },
     "execution_count": 68,
     "metadata": {},
     "output_type": "execute_result"
    },
    {
     "data": {
      "image/png": "[encoded data removed]",
      "text/plain": [
       "<Figure size 432x288 with 1 Axes>"
      ]
     },
     "metadata": {
      "needs_background": "light"
     },
     "output_type": "display_data"
    }
   ],
   "source": [
    "data_diff.boxplot(column=target)"
   ]
  },
  {
   "cell_type": "markdown",
   "metadata": {},
   "source": [
    "# Scaler"
   ]
  },
  {
   "cell_type": "markdown",
   "metadata": {},
   "source": [
    "# Multi Target log and fill na"
   ]
  },
  {
   "cell_type": "code",
   "execution_count": 69,
   "metadata": {},
   "outputs": [
    {
     "name": "stdout",
     "output_type": "stream",
     "text": [
      "(131, 5, 6)\n",
      "(31, 5, 6)\n"
     ]
    }
   ],
   "source": [
    "print(X_train.shape)\n",
    "print(X_test.shape)"
   ]
  },
  {
   "cell_type": "code",
   "execution_count": 70,
   "metadata": {},
   "outputs": [
    {
     "data": {
      "text/plain": [
       "(131, 6)"
      ]
     },
     "execution_count": 70,
     "metadata": {},
     "output_type": "execute_result"
    }
   ],
   "source": [
    "y_train.shape"
   ]
  },
  {
   "cell_type": "code",
   "execution_count": 71,
   "metadata": {},
   "outputs": [
    {
     "name": "stdout",
     "output_type": "stream",
     "text": [
      "6\n"
     ]
    }
   ],
   "source": [
    "count_features = X_train.shape[2]\n",
    "# count_samples = X.shape[1]\n",
    "print(count_features)"
   ]
  },
  {
   "cell_type": "code",
   "execution_count": 72,
   "metadata": {},
   "outputs": [],
   "source": [
    "\n",
    "y_train = y_train[:,:n_output]\n",
    "y_test = y_test[:,:n_output]"
   ]
  },
  {
   "cell_type": "code",
   "execution_count": 73,
   "metadata": {},
   "outputs": [],
   "source": [
    "# from tensorflow.keras.optimizers import Adam, RMSprop\n",
    "# from tensorflow.keras.layers import Input, concatenate, Dropout\n",
    "# from tensorflow.keras.layers import PReLU\n",
    "# from tensorflow.keras import Model\n",
    "# from tensorflow.keras.layers import BatchNormalization\n",
    "\n",
    "from keras.optimizers import Adam, RMSprop\n",
    "from keras.layers import Input, concatenate, Dropout\n",
    "from keras.layers import PReLU\n",
    "from keras import Model\n",
    "from keras.layers import BatchNormalization\n",
    "def get_model_fc(n_steps, n_features, n_output=3, lr=0.001):\n",
    "#     model = Sequential()\n",
    "    #     model.add(keras.Input(shape=(15,)))\n",
    "#     model.add(Dense(3, activation='relu', input_shape=(n_steps * n_features,)))\n",
    "    input1 = Input((n_steps * n_features,))\n",
    "    hidden = Dense(32, activation=PReLU())(input1)\n",
    "    outputs =  Dense(3, activation='linear')(hidden) \n",
    "\n",
    "        \n",
    "#     if n_output == 3:\n",
    "#         output1 = Dense(1, activation='linear')(hidden) \n",
    "#         output2 = Dense(1, activation='linear')(hidden) \n",
    "#         output3 = Dense(1, activation='linear')(hidden) \n",
    "#         outputs = concatenate([output1, output2, output3])\n",
    "#     elif n_output == 1:\n",
    "#         outputs =  Dense(1, activation='linear')(hidden) \n",
    "#     else:\n",
    "#         assert False\n",
    "    model = keras.Model(inputs=input1, outputs=outputs)\n",
    "    opt = Adam(lr=lr)\n",
    "    model.compile(optimizer=opt, loss='mse')\n",
    "    return model"
   ]
  },
  {
   "cell_type": "code",
   "execution_count": 74,
   "metadata": {},
   "outputs": [],
   "source": [
    "def get_model_rnn(n_steps, n_features, n_output=3, lr=0.001):\n",
    "    model = Sequential()\n",
    "    model.add(LSTM(16, activation='relu', return_sequences=False, input_shape=(n_steps, n_features)))\n",
    "#     model.add(LSTM(16, activation='relu', return_sequences=False, ))\n",
    "#     model.add(Dropout(0.2))\n",
    "    model.add(Dense(16, activation='relu'))\n",
    "    model.add(Dense(n_output))\n",
    "    opt = Adam(lr=lr)\n",
    "    model.compile(optimizer=opt, loss='mse')\n",
    "    return model"
   ]
  },
  {
   "cell_type": "code",
   "execution_count": 75,
   "metadata": {},
   "outputs": [],
   "source": [
    "def get_model_rnn_2(n_steps, n_features, n_output=3, lr=0.001):\n",
    "    hidden_size = 16\n",
    "\n",
    "#     model = Sequential()\n",
    "    input1 = Input((n_steps,n_output))\n",
    "    input2 = Input((n_features - 3,))\n",
    "\n",
    "    hidden1 = LSTM(hidden_size, activation='relu', return_sequences=False, input_shape=(n_steps, 3))(input1)\n",
    "#     hidden2_0 = Dense(hidden_size//2, activation='relu')(input2)\n",
    "#     hidden2_1 = Dense(hidden_size, activation='relu')(hidden2_0)\n",
    "#     hidden2_2= Dropout(0.05)(hidden2_1)\n",
    "#     con = concatenate([hidden1, hidden2_2])\n",
    "    con = concatenate([hidden1, input2])\n",
    "#     do1 = Dropout(0.15)(con)\n",
    "#     d1 = Dense(hidden_size, activation='relu')(con)\n",
    "\n",
    "    output = Dense(n_output)(con)\n",
    "    opt = Adam(lr=lr)\n",
    "    model = keras.Model(inputs=[input1, input2], outputs=output)\n",
    "    model.compile(optimizer=opt, loss='mse')\n",
    "    return model"
   ]
  },
  {
   "cell_type": "markdown",
   "metadata": {},
   "source": [
    "# Fit predict"
   ]
  },
  {
   "cell_type": "code",
   "execution_count": 76,
   "metadata": {},
   "outputs": [],
   "source": [
    "n_output = 1"
   ]
  },
  {
   "cell_type": "code",
   "execution_count": 77,
   "metadata": {},
   "outputs": [
    {
     "data": {
      "text/plain": [
       "6"
      ]
     },
     "execution_count": 77,
     "metadata": {},
     "output_type": "execute_result"
    }
   ],
   "source": [
    "count_features"
   ]
  },
  {
   "cell_type": "code",
   "execution_count": 78,
   "metadata": {},
   "outputs": [
    {
     "name": "stdout",
     "output_type": "stream",
     "text": [
      "WARNING:tensorflow:From /Users/chernovandrey/anaconda3/envs/tf_keras/lib/python3.6/site-packages/keras/backend/tensorflow_backend.py:66: The name tf.get_default_graph is deprecated. Please use tf.compat.v1.get_default_graph instead.\n",
      "\n",
      "WARNING:tensorflow:From /Users/chernovandrey/anaconda3/envs/tf_keras/lib/python3.6/site-packages/keras/backend/tensorflow_backend.py:541: The name tf.placeholder is deprecated. Please use tf.compat.v1.placeholder instead.\n",
      "\n",
      "WARNING:tensorflow:From /Users/chernovandrey/anaconda3/envs/tf_keras/lib/python3.6/site-packages/keras/backend/tensorflow_backend.py:4432: The name tf.random_uniform is deprecated. Please use tf.random.uniform instead.\n",
      "\n",
      "WARNING:tensorflow:From /Users/chernovandrey/anaconda3/envs/tf_keras/lib/python3.6/site-packages/keras/optimizers.py:793: The name tf.train.Optimizer is deprecated. Please use tf.compat.v1.train.Optimizer instead.\n",
      "\n"
     ]
    }
   ],
   "source": [
    "# model = get_model_fc(n_steps, count_features, lr = 0.005)\n",
    "# model = get_model_fc(n_steps, count_features, lr = 0.005, n_output=n_output)\n",
    "# model = get_model_rnn(n_steps, count_features, lr = 0.005, n_output=1)\n",
    "model = get_model_rnn_2(n_steps, count_features - 1, lr = 0.005, n_output=n_output)"
   ]
  },
  {
   "cell_type": "code",
   "execution_count": 79,
   "metadata": {},
   "outputs": [
    {
     "data": {
      "text/plain": [
       "(31, 1)"
      ]
     },
     "execution_count": 79,
     "metadata": {},
     "output_type": "execute_result"
    }
   ],
   "source": [
    "y_test.shape"
   ]
  },
  {
   "cell_type": "code",
   "execution_count": 80,
   "metadata": {},
   "outputs": [
    {
     "data": {
      "text/plain": [
       "(131, 2)"
      ]
     },
     "execution_count": 80,
     "metadata": {},
     "output_type": "execute_result"
    }
   ],
   "source": [
    "md_train.shape"
   ]
  },
  {
   "cell_type": "code",
   "execution_count": 81,
   "metadata": {},
   "outputs": [
    {
     "data": {
      "text/plain": [
       "(131, 5, 6)"
      ]
     },
     "execution_count": 81,
     "metadata": {},
     "output_type": "execute_result"
    }
   ],
   "source": [
    "X_train.shape"
   ]
  },
  {
   "cell_type": "code",
   "execution_count": 82,
   "metadata": {},
   "outputs": [
    {
     "data": {
      "text/plain": [
       "(131, 5, 6)"
      ]
     },
     "execution_count": 82,
     "metadata": {},
     "output_type": "execute_result"
    }
   ],
   "source": [
    "X_train.shape"
   ]
  },
  {
   "cell_type": "code",
   "execution_count": 83,
   "metadata": {},
   "outputs": [
    {
     "data": {
      "text/plain": [
       "(131, 1)"
      ]
     },
     "execution_count": 83,
     "metadata": {},
     "output_type": "execute_result"
    }
   ],
   "source": [
    "y_train.shape"
   ]
  },
  {
   "cell_type": "code",
   "execution_count": 84,
   "metadata": {},
   "outputs": [
    {
     "data": {
      "text/plain": [
       "35175.50889966425"
      ]
     },
     "execution_count": 84,
     "metadata": {},
     "output_type": "execute_result"
    }
   ],
   "source": [
    "np.mean(X_train)"
   ]
  },
  {
   "cell_type": "code",
   "execution_count": 85,
   "metadata": {},
   "outputs": [
    {
     "data": {
      "text/plain": [
       "(131, 3)"
      ]
     },
     "execution_count": 85,
     "metadata": {},
     "output_type": "execute_result"
    }
   ],
   "source": [
    "X_train[:,n_steps-1,3:].shape"
   ]
  },
  {
   "cell_type": "code",
   "execution_count": 86,
   "metadata": {},
   "outputs": [
    {
     "data": {
      "text/plain": [
       "(31, 3)"
      ]
     },
     "execution_count": 86,
     "metadata": {},
     "output_type": "execute_result"
    }
   ],
   "source": [
    "X_test[:,n_steps-1,3:].shape"
   ]
  },
  {
   "cell_type": "code",
   "execution_count": 87,
   "metadata": {},
   "outputs": [],
   "source": [
    "count_train = X_train.shape[0]\n",
    "count_test = X_test.shape[0]"
   ]
  },
  {
   "cell_type": "code",
   "execution_count": 88,
   "metadata": {},
   "outputs": [
    {
     "data": {
      "text/plain": [
       "35175.50889966425"
      ]
     },
     "execution_count": 88,
     "metadata": {},
     "output_type": "execute_result"
    }
   ],
   "source": [
    "np.mean(X_train)"
   ]
  },
  {
   "cell_type": "code",
   "execution_count": 89,
   "metadata": {},
   "outputs": [
    {
     "data": {
      "text/plain": [
       "35177.1040624214"
      ]
     },
     "execution_count": 89,
     "metadata": {},
     "output_type": "execute_result"
    }
   ],
   "source": [
    "np.mean(X_test)"
   ]
  },
  {
   "cell_type": "code",
   "execution_count": 90,
   "metadata": {},
   "outputs": [
    {
     "data": {
      "text/plain": [
       "0.08273171135616106"
      ]
     },
     "execution_count": 90,
     "metadata": {},
     "output_type": "execute_result"
    }
   ],
   "source": [
    "np.mean(y_train)"
   ]
  },
  {
   "cell_type": "code",
   "execution_count": 91,
   "metadata": {},
   "outputs": [
    {
     "data": {
      "text/plain": [
       "0.20149803281070153"
      ]
     },
     "execution_count": 91,
     "metadata": {},
     "output_type": "execute_result"
    }
   ],
   "source": [
    "np.mean(y_test)"
   ]
  },
  {
   "cell_type": "code",
   "execution_count": 92,
   "metadata": {},
   "outputs": [
    {
     "name": "stdout",
     "output_type": "stream",
     "text": [
      "WARNING:tensorflow:From /Users/chernovandrey/anaconda3/envs/tf_keras/lib/python3.6/site-packages/keras/backend/tensorflow_backend.py:190: The name tf.get_default_session is deprecated. Please use tf.compat.v1.get_default_session instead.\n",
      "\n",
      "WARNING:tensorflow:From /Users/chernovandrey/anaconda3/envs/tf_keras/lib/python3.6/site-packages/keras/backend/tensorflow_backend.py:197: The name tf.ConfigProto is deprecated. Please use tf.compat.v1.ConfigProto instead.\n",
      "\n"
     ]
    },
    {
     "data": {
      "text/plain": [
       "0.001"
      ]
     },
     "execution_count": 92,
     "metadata": {},
     "output_type": "execute_result"
    }
   ],
   "source": [
    "keras.backend.set_value(model.optimizer.lr, 0.001)\n",
    "keras.backend.get_value(model.optimizer.lr)"
   ]
  },
  {
   "cell_type": "code",
   "execution_count": 93,
   "metadata": {},
   "outputs": [],
   "source": [
    "keras.backend.set_floatx('float64')"
   ]
  },
  {
   "cell_type": "code",
   "execution_count": 94,
   "metadata": {},
   "outputs": [
    {
     "data": {
      "text/plain": [
       "(131, 5, 6)"
      ]
     },
     "execution_count": 94,
     "metadata": {},
     "output_type": "execute_result"
    }
   ],
   "source": [
    "X_train.shape"
   ]
  },
  {
   "cell_type": "code",
   "execution_count": 95,
   "metadata": {},
   "outputs": [
    {
     "data": {
      "text/plain": [
       "dtype('float64')"
      ]
     },
     "execution_count": 95,
     "metadata": {},
     "output_type": "execute_result"
    }
   ],
   "source": [
    "X_train[:,:,:3].dtype"
   ]
  },
  {
   "cell_type": "code",
   "execution_count": 96,
   "metadata": {},
   "outputs": [],
   "source": [
    "# X_train = np.float64(X_train)\n",
    "# y_train = np.float64(y_train)\n",
    "# X_test = np.float64(X_test)\n",
    "# y_test = np.float64(y_test)"
   ]
  },
  {
   "cell_type": "code",
   "execution_count": 97,
   "metadata": {},
   "outputs": [
    {
     "data": {
      "text/plain": [
       "(131, 5, 6)"
      ]
     },
     "execution_count": 97,
     "metadata": {},
     "output_type": "execute_result"
    }
   ],
   "source": [
    "X_train.shape"
   ]
  },
  {
   "cell_type": "code",
   "execution_count": 98,
   "metadata": {},
   "outputs": [
    {
     "name": "stdout",
     "output_type": "stream",
     "text": [
      "WARNING:tensorflow:From /Users/chernovandrey/anaconda3/envs/tf_keras/lib/python3.6/site-packages/tensorflow/python/ops/math_grad.py:1250: add_dispatch_support.<locals>.wrapper (from tensorflow.python.ops.array_ops) is deprecated and will be removed in a future version.\n",
      "Instructions for updating:\n",
      "Use tf.where in 2.0, which has the same broadcast rule as np.where\n",
      "Train on 131 samples, validate on 31 samples\n",
      "Epoch 1/20\n",
      "131/131 [==============================] - 1s 4ms/step - loss: 0.0245 - val_loss: 0.0371\n",
      "Epoch 2/20\n",
      "131/131 [==============================] - 0s 208us/step - loss: 0.0219 - val_loss: 0.0292\n",
      "Epoch 3/20\n",
      "131/131 [==============================] - 0s 177us/step - loss: 0.0207 - val_loss: 0.0237\n",
      "Epoch 4/20\n",
      "131/131 [==============================] - 0s 181us/step - loss: 0.0199 - val_loss: 0.0204\n",
      "Epoch 5/20\n",
      "131/131 [==============================] - 0s 163us/step - loss: 0.0194 - val_loss: 0.0179\n",
      "Epoch 6/20\n",
      "131/131 [==============================] - 0s 155us/step - loss: 0.0191 - val_loss: 0.0167\n",
      "Epoch 7/20\n",
      "131/131 [==============================] - 0s 164us/step - loss: 0.0187 - val_loss: 0.0170\n",
      "Epoch 8/20\n",
      "131/131 [==============================] - 0s 161us/step - loss: 0.0182 - val_loss: 0.0169\n",
      "Epoch 9/20\n",
      "131/131 [==============================] - 0s 161us/step - loss: 0.0178 - val_loss: 0.0167\n",
      "Epoch 10/20\n",
      "131/131 [==============================] - 0s 162us/step - loss: 0.0175 - val_loss: 0.0168\n",
      "Epoch 11/20\n",
      "131/131 [==============================] - 0s 169us/step - loss: 0.0171 - val_loss: 0.0165\n",
      "Epoch 12/20\n",
      "131/131 [==============================] - 0s 151us/step - loss: 0.0168 - val_loss: 0.0158\n",
      "Epoch 13/20\n",
      "131/131 [==============================] - 0s 167us/step - loss: 0.0164 - val_loss: 0.0157\n",
      "Epoch 14/20\n",
      "131/131 [==============================] - 0s 144us/step - loss: 0.0161 - val_loss: 0.0147\n",
      "Epoch 15/20\n",
      "131/131 [==============================] - 0s 161us/step - loss: 0.0157 - val_loss: 0.0141\n",
      "Epoch 16/20\n",
      "131/131 [==============================] - 0s 150us/step - loss: 0.0154 - val_loss: 0.0140\n",
      "Epoch 17/20\n",
      "131/131 [==============================] - 0s 159us/step - loss: 0.0150 - val_loss: 0.0136\n",
      "Epoch 18/20\n",
      "131/131 [==============================] - 0s 152us/step - loss: 0.0145 - val_loss: 0.0132\n",
      "Epoch 19/20\n",
      "131/131 [==============================] - 0s 158us/step - loss: 0.0142 - val_loss: 0.0122\n",
      "Epoch 20/20\n",
      "131/131 [==============================] - 0s 156us/step - loss: 0.0138 - val_loss: 0.0114\n"
     ]
    }
   ],
   "source": [
    "\n",
    "history = model.fit([X_train[:,:,:n_output], X_train[:,n_steps-1,3:count_features-1]], y_train[:,:n_output],\n",
    "                    validation_data = ([X_test[:,:,:n_output], X_test[:,n_steps-1,3:count_features-1]],\n",
    "                                       y_test[:,:n_output]), \n",
    "                    epochs=20, verbose=1)"
   ]
  },
  {
   "cell_type": "code",
   "execution_count": 99,
   "metadata": {},
   "outputs": [],
   "source": [
    "# history = model.fit(X_train.reshape(X_train.shape[0], -1), y_train,\\\n",
    "#                     validation_data = (X_test.reshape(X_test.shape[0],-1), y_test), epochs=25, verbose=1)"
   ]
  },
  {
   "cell_type": "code",
   "execution_count": 100,
   "metadata": {},
   "outputs": [],
   "source": [
    "# model = keras.models.load_model('model')\n",
    "# model = keras.models.load_model('mdl_wts')"
   ]
  },
  {
   "cell_type": "code",
   "execution_count": 101,
   "metadata": {},
   "outputs": [],
   "source": [
    "# plt.plot(np.log(history.history['loss']))"
   ]
  },
  {
   "cell_type": "code",
   "execution_count": 102,
   "metadata": {},
   "outputs": [],
   "source": [
    "# plt.plot(np.log(history.history['val_loss']))"
   ]
  },
  {
   "cell_type": "code",
   "execution_count": 103,
   "metadata": {},
   "outputs": [
    {
     "data": {
      "text/plain": [
       "6"
      ]
     },
     "execution_count": 103,
     "metadata": {},
     "output_type": "execute_result"
    }
   ],
   "source": [
    "count_features"
   ]
  },
  {
   "cell_type": "code",
   "execution_count": 104,
   "metadata": {},
   "outputs": [
    {
     "data": {
      "text/plain": [
       "(31, 30)"
      ]
     },
     "execution_count": 104,
     "metadata": {},
     "output_type": "execute_result"
    }
   ],
   "source": [
    "X_test.reshape(X_test.shape[0],-1).shape"
   ]
  },
  {
   "cell_type": "code",
   "execution_count": 105,
   "metadata": {},
   "outputs": [
    {
     "data": {
      "text/plain": [
       "(131, 1)"
      ]
     },
     "execution_count": 105,
     "metadata": {},
     "output_type": "execute_result"
    }
   ],
   "source": [
    "y_train.shape"
   ]
  },
  {
   "cell_type": "markdown",
   "metadata": {},
   "source": [
    "# Calculate metric"
   ]
  },
  {
   "cell_type": "code",
   "execution_count": 106,
   "metadata": {},
   "outputs": [],
   "source": [
    "from sklearn.metrics import mean_absolute_error as MAE\n",
    "from sklearn.metrics import r2_score as r2"
   ]
  },
  {
   "cell_type": "code",
   "execution_count": 107,
   "metadata": {},
   "outputs": [],
   "source": [
    "def adj_r2(y_true, y_pred):\n",
    "    n_samples = len(y_true)\n",
    "    return 1 - ( (1 - r2(y_true, y_pred)) * (len(y_true) - 1) ) / (n_samples - count_features - 1) \n",
    "# count_features hardcode"
   ]
  },
  {
   "cell_type": "code",
   "execution_count": 108,
   "metadata": {},
   "outputs": [],
   "source": [
    "def MAPE(y_true, y_pred):\n",
    "    return np.mean(np.abs((y_true - y_pred) / y_true)) * 100"
   ]
  },
  {
   "cell_type": "code",
   "execution_count": 109,
   "metadata": {},
   "outputs": [],
   "source": [
    "def WAPE(y_true, y_pred):\n",
    "    return np.sum( np.abs(y_true - y_pred) ) / np.sum( np.abs(y_true) ) * 100"
   ]
  },
  {
   "cell_type": "code",
   "execution_count": 110,
   "metadata": {},
   "outputs": [],
   "source": [
    "# yhat_train = model.predict(X_train.reshape(X_train.shape[0], -1))\n",
    "# yhat_test = model.predict(X_test.reshape(X_test.shape[0],-1))"
   ]
  },
  {
   "cell_type": "code",
   "execution_count": 111,
   "metadata": {},
   "outputs": [],
   "source": [
    "yhat_train = model.predict([X_train[:,:,:n_output], X_train[:,n_steps-1,3:count_features-1]])\n",
    "yhat_test = model.predict([X_test[:,:,:n_output], X_test[:,n_steps-1,3:count_features-1]])"
   ]
  },
  {
   "cell_type": "code",
   "execution_count": 112,
   "metadata": {},
   "outputs": [],
   "source": [
    "# name_y = ['Confirmed', 'Deaths', 'Recovered']\n",
    "name_y = ['Confirmed']\n",
    "\n",
    "\n",
    "name_y_pred = [i + '_pred' for i in name_y]"
   ]
  },
  {
   "cell_type": "code",
   "execution_count": 113,
   "metadata": {},
   "outputs": [
    {
     "name": "stdout",
     "output_type": "stream",
     "text": [
      "0.10742850556315568\n"
     ]
    }
   ],
   "source": [
    "print(np.min(np.abs(yhat_test)))"
   ]
  },
  {
   "cell_type": "code",
   "execution_count": 114,
   "metadata": {},
   "outputs": [
    {
     "data": {
      "text/plain": [
       "(131, 2)"
      ]
     },
     "execution_count": 114,
     "metadata": {},
     "output_type": "execute_result"
    }
   ],
   "source": [
    "md_train.shape"
   ]
  },
  {
   "cell_type": "code",
   "execution_count": 115,
   "metadata": {},
   "outputs": [
    {
     "data": {
      "text/plain": [
       "(131, 1)"
      ]
     },
     "execution_count": 115,
     "metadata": {},
     "output_type": "execute_result"
    }
   ],
   "source": [
    "yhat_train.shape"
   ]
  },
  {
   "cell_type": "code",
   "execution_count": 116,
   "metadata": {},
   "outputs": [
    {
     "data": {
      "text/html": [
       "<div>\n",
       "<style scoped>\n",
       "    .dataframe tbody tr th:only-of-type {\n",
       "        vertical-align: middle;\n",
       "    }\n",
       "\n",
       "    .dataframe tbody tr th {\n",
       "        vertical-align: top;\n",
       "    }\n",
       "\n",
       "    .dataframe thead th {\n",
       "        text-align: right;\n",
       "    }\n",
       "</style>\n",
       "<table border=\"1\" class=\"dataframe\">\n",
       "  <thead>\n",
       "    <tr style=\"text-align: right;\">\n",
       "      <th></th>\n",
       "      <th>Country</th>\n",
       "      <th>Date</th>\n",
       "      <th>Confirmed</th>\n",
       "      <th>Deaths</th>\n",
       "      <th>Recovered</th>\n",
       "      <th>C5_Close public transport</th>\n",
       "      <th>E1_Income support</th>\n",
       "      <th>Population</th>\n",
       "    </tr>\n",
       "  </thead>\n",
       "  <tbody>\n",
       "    <tr>\n",
       "      <th>0</th>\n",
       "      <td>Brazil</td>\n",
       "      <td>03/10/2020</td>\n",
       "      <td>0.000028</td>\n",
       "      <td>0.000000</td>\n",
       "      <td>0.000000</td>\n",
       "      <td>0.0</td>\n",
       "      <td>0.0</td>\n",
       "      <td>211049.527</td>\n",
       "    </tr>\n",
       "    <tr>\n",
       "      <th>1</th>\n",
       "      <td>Brazil</td>\n",
       "      <td>03/11/2020</td>\n",
       "      <td>0.000033</td>\n",
       "      <td>0.000000</td>\n",
       "      <td>0.000000</td>\n",
       "      <td>0.0</td>\n",
       "      <td>0.0</td>\n",
       "      <td>211049.527</td>\n",
       "    </tr>\n",
       "    <tr>\n",
       "      <th>2</th>\n",
       "      <td>Brazil</td>\n",
       "      <td>03/12/2020</td>\n",
       "      <td>0.000066</td>\n",
       "      <td>0.000000</td>\n",
       "      <td>0.000000</td>\n",
       "      <td>0.0</td>\n",
       "      <td>0.0</td>\n",
       "      <td>211049.527</td>\n",
       "    </tr>\n",
       "    <tr>\n",
       "      <th>3</th>\n",
       "      <td>Brazil</td>\n",
       "      <td>03/13/2020</td>\n",
       "      <td>0.000469</td>\n",
       "      <td>0.000000</td>\n",
       "      <td>0.000000</td>\n",
       "      <td>0.0</td>\n",
       "      <td>0.0</td>\n",
       "      <td>211049.527</td>\n",
       "    </tr>\n",
       "    <tr>\n",
       "      <th>4</th>\n",
       "      <td>Brazil</td>\n",
       "      <td>03/14/2020</td>\n",
       "      <td>0.000000</td>\n",
       "      <td>0.000000</td>\n",
       "      <td>0.000000</td>\n",
       "      <td>0.0</td>\n",
       "      <td>0.0</td>\n",
       "      <td>211049.527</td>\n",
       "    </tr>\n",
       "    <tr>\n",
       "      <th>5</th>\n",
       "      <td>Brazil</td>\n",
       "      <td>03/15/2020</td>\n",
       "      <td>0.000052</td>\n",
       "      <td>0.000000</td>\n",
       "      <td>0.000000</td>\n",
       "      <td>0.0</td>\n",
       "      <td>0.0</td>\n",
       "      <td>211049.527</td>\n",
       "    </tr>\n",
       "    <tr>\n",
       "      <th>6</th>\n",
       "      <td>Brazil</td>\n",
       "      <td>03/16/2020</td>\n",
       "      <td>0.000180</td>\n",
       "      <td>0.000000</td>\n",
       "      <td>0.000005</td>\n",
       "      <td>0.0</td>\n",
       "      <td>0.0</td>\n",
       "      <td>211049.527</td>\n",
       "    </tr>\n",
       "    <tr>\n",
       "      <th>7</th>\n",
       "      <td>Brazil</td>\n",
       "      <td>03/17/2020</td>\n",
       "      <td>0.000573</td>\n",
       "      <td>0.000005</td>\n",
       "      <td>0.000009</td>\n",
       "      <td>0.0</td>\n",
       "      <td>0.0</td>\n",
       "      <td>211049.527</td>\n",
       "    </tr>\n",
       "    <tr>\n",
       "      <th>8</th>\n",
       "      <td>Brazil</td>\n",
       "      <td>03/18/2020</td>\n",
       "      <td>0.000242</td>\n",
       "      <td>0.000014</td>\n",
       "      <td>0.000009</td>\n",
       "      <td>0.0</td>\n",
       "      <td>0.0</td>\n",
       "      <td>211049.527</td>\n",
       "    </tr>\n",
       "    <tr>\n",
       "      <th>9</th>\n",
       "      <td>Brazil</td>\n",
       "      <td>03/19/2020</td>\n",
       "      <td>0.001180</td>\n",
       "      <td>0.000028</td>\n",
       "      <td>0.000009</td>\n",
       "      <td>1.0</td>\n",
       "      <td>0.0</td>\n",
       "      <td>211049.527</td>\n",
       "    </tr>\n",
       "  </tbody>\n",
       "</table>\n",
       "</div>"
      ],
      "text/plain": [
       "  Country        Date  Confirmed    Deaths  Recovered  \\\n",
       "0  Brazil  03/10/2020   0.000028  0.000000   0.000000   \n",
       "1  Brazil  03/11/2020   0.000033  0.000000   0.000000   \n",
       "2  Brazil  03/12/2020   0.000066  0.000000   0.000000   \n",
       "3  Brazil  03/13/2020   0.000469  0.000000   0.000000   \n",
       "4  Brazil  03/14/2020   0.000000  0.000000   0.000000   \n",
       "5  Brazil  03/15/2020   0.000052  0.000000   0.000000   \n",
       "6  Brazil  03/16/2020   0.000180  0.000000   0.000005   \n",
       "7  Brazil  03/17/2020   0.000573  0.000005   0.000009   \n",
       "8  Brazil  03/18/2020   0.000242  0.000014   0.000009   \n",
       "9  Brazil  03/19/2020   0.001180  0.000028   0.000009   \n",
       "\n",
       "   C5_Close public transport  E1_Income support  Population  \n",
       "0                        0.0                0.0  211049.527  \n",
       "1                        0.0                0.0  211049.527  \n",
       "2                        0.0                0.0  211049.527  \n",
       "3                        0.0                0.0  211049.527  \n",
       "4                        0.0                0.0  211049.527  \n",
       "5                        0.0                0.0  211049.527  \n",
       "6                        0.0                0.0  211049.527  \n",
       "7                        0.0                0.0  211049.527  \n",
       "8                        0.0                0.0  211049.527  \n",
       "9                        1.0                0.0  211049.527  "
      ]
     },
     "execution_count": 116,
     "metadata": {},
     "output_type": "execute_result"
    }
   ],
   "source": [
    "data_diff.head(10)"
   ]
  },
  {
   "cell_type": "code",
   "execution_count": 117,
   "metadata": {},
   "outputs": [],
   "source": [
    "if data_scale:\n",
    "    yhat_train = yhat_train * data_std[target[:n_output]].values  + data_mean[target[:n_output]].values"
   ]
  },
  {
   "cell_type": "code",
   "execution_count": 118,
   "metadata": {},
   "outputs": [],
   "source": [
    "if data_scale:\n",
    "    yhat_test = yhat_test * data_std[target[:n_output]].values  + data_mean[target[:n_output]].values"
   ]
  },
  {
   "cell_type": "code",
   "execution_count": 119,
   "metadata": {},
   "outputs": [
    {
     "data": {
      "text/html": [
       "<div>\n",
       "<style scoped>\n",
       "    .dataframe tbody tr th:only-of-type {\n",
       "        vertical-align: middle;\n",
       "    }\n",
       "\n",
       "    .dataframe tbody tr th {\n",
       "        vertical-align: top;\n",
       "    }\n",
       "\n",
       "    .dataframe thead th {\n",
       "        text-align: right;\n",
       "    }\n",
       "</style>\n",
       "<table border=\"1\" class=\"dataframe\">\n",
       "  <thead>\n",
       "    <tr style=\"text-align: right;\">\n",
       "      <th></th>\n",
       "      <th>Country</th>\n",
       "      <th>Date</th>\n",
       "      <th>Confirmed</th>\n",
       "      <th>Deaths</th>\n",
       "      <th>Recovered</th>\n",
       "      <th>C5_Close public transport</th>\n",
       "      <th>E1_Income support</th>\n",
       "      <th>Population</th>\n",
       "    </tr>\n",
       "  </thead>\n",
       "  <tbody>\n",
       "    <tr>\n",
       "      <th>3525</th>\n",
       "      <td>Brazil</td>\n",
       "      <td>03/09/2020</td>\n",
       "      <td>0.000118</td>\n",
       "      <td>0.0</td>\n",
       "      <td>0.0</td>\n",
       "      <td>0.0</td>\n",
       "      <td>0.0</td>\n",
       "      <td>211049.527</td>\n",
       "    </tr>\n",
       "    <tr>\n",
       "      <th>3526</th>\n",
       "      <td>Brazil</td>\n",
       "      <td>03/10/2020</td>\n",
       "      <td>0.000147</td>\n",
       "      <td>0.0</td>\n",
       "      <td>0.0</td>\n",
       "      <td>0.0</td>\n",
       "      <td>0.0</td>\n",
       "      <td>211049.527</td>\n",
       "    </tr>\n",
       "    <tr>\n",
       "      <th>3527</th>\n",
       "      <td>Brazil</td>\n",
       "      <td>03/11/2020</td>\n",
       "      <td>0.000180</td>\n",
       "      <td>0.0</td>\n",
       "      <td>0.0</td>\n",
       "      <td>0.0</td>\n",
       "      <td>0.0</td>\n",
       "      <td>211049.527</td>\n",
       "    </tr>\n",
       "    <tr>\n",
       "      <th>3528</th>\n",
       "      <td>Brazil</td>\n",
       "      <td>03/12/2020</td>\n",
       "      <td>0.000246</td>\n",
       "      <td>0.0</td>\n",
       "      <td>0.0</td>\n",
       "      <td>0.0</td>\n",
       "      <td>0.0</td>\n",
       "      <td>211049.527</td>\n",
       "    </tr>\n",
       "    <tr>\n",
       "      <th>3529</th>\n",
       "      <td>Brazil</td>\n",
       "      <td>03/13/2020</td>\n",
       "      <td>0.000715</td>\n",
       "      <td>0.0</td>\n",
       "      <td>0.0</td>\n",
       "      <td>0.0</td>\n",
       "      <td>0.0</td>\n",
       "      <td>211049.527</td>\n",
       "    </tr>\n",
       "  </tbody>\n",
       "</table>\n",
       "</div>"
      ],
      "text/plain": [
       "     Country        Date  Confirmed  Deaths  Recovered  \\\n",
       "3525  Brazil  03/09/2020   0.000118     0.0        0.0   \n",
       "3526  Brazil  03/10/2020   0.000147     0.0        0.0   \n",
       "3527  Brazil  03/11/2020   0.000180     0.0        0.0   \n",
       "3528  Brazil  03/12/2020   0.000246     0.0        0.0   \n",
       "3529  Brazil  03/13/2020   0.000715     0.0        0.0   \n",
       "\n",
       "      C5_Close public transport  E1_Income support  Population  \n",
       "3525                        0.0                0.0  211049.527  \n",
       "3526                        0.0                0.0  211049.527  \n",
       "3527                        0.0                0.0  211049.527  \n",
       "3528                        0.0                0.0  211049.527  \n",
       "3529                        0.0                0.0  211049.527  "
      ]
     },
     "execution_count": 119,
     "metadata": {},
     "output_type": "execute_result"
    }
   ],
   "source": [
    "data.head()"
   ]
  },
  {
   "cell_type": "code",
   "execution_count": 120,
   "metadata": {},
   "outputs": [
    {
     "data": {
      "text/plain": [
       "(131, 1)"
      ]
     },
     "execution_count": 120,
     "metadata": {},
     "output_type": "execute_result"
    }
   ],
   "source": [
    "yhat_train.shape"
   ]
  },
  {
   "cell_type": "code",
   "execution_count": 121,
   "metadata": {},
   "outputs": [
    {
     "data": {
      "text/plain": [
       "(31, 1)"
      ]
     },
     "execution_count": 121,
     "metadata": {},
     "output_type": "execute_result"
    }
   ],
   "source": [
    "yhat_test.shape"
   ]
  },
  {
   "cell_type": "code",
   "execution_count": 122,
   "metadata": {},
   "outputs": [
    {
     "data": {
      "text/plain": [
       "['Confirmed_pred']"
      ]
     },
     "execution_count": 122,
     "metadata": {},
     "output_type": "execute_result"
    }
   ],
   "source": [
    "name_y_pred"
   ]
  },
  {
   "cell_type": "code",
   "execution_count": 123,
   "metadata": {},
   "outputs": [
    {
     "data": {
      "text/plain": [
       "(131, 2)"
      ]
     },
     "execution_count": 123,
     "metadata": {},
     "output_type": "execute_result"
    }
   ],
   "source": [
    "md_train.shape"
   ]
  },
  {
   "cell_type": "code",
   "execution_count": 124,
   "metadata": {},
   "outputs": [
    {
     "name": "stderr",
     "output_type": "stream",
     "text": [
      "/Users/chernovandrey/PycharmProjects/network_analyse/Project2/Network-Science-Project-2/calculate_metrics.py:37: SettingWithCopyWarning: \n",
      "A value is trying to be set on a copy of a slice from a DataFrame.\n",
      "Try using .loc[row_indexer,col_indexer] = value instead\n",
      "\n",
      "See the caveats in the documentation: https://pandas.pydata.org/pandas-docs/stable/user_guide/indexing.html#returning-a-view-versus-a-copy\n",
      "  data['Date'] = pd.to_datetime(data['Date'])\n"
     ]
    }
   ],
   "source": [
    "y_df_train = construct_ts(name_y[:n_output], name_y_pred[:n_output], yhat_train, md_train, \n",
    "                          data[md_features + target\n",
    "                               +['Population']])\n",
    "y_df_test = construct_ts(name_y[:n_output], name_y_pred[:n_output], yhat_test, md_test,\n",
    "                         data[md_features + target\n",
    "                              + ['Population']])"
   ]
  },
  {
   "cell_type": "code",
   "execution_count": 125,
   "metadata": {},
   "outputs": [],
   "source": [
    "# y_df_train[target] = y_df_train[target]*data_std[target].values  + data_mean[target].values\n",
    "# y_df_test[target] = y_df_test[target]*data_std[target].values  + data_mean[target].values"
   ]
  },
  {
   "cell_type": "code",
   "execution_count": 126,
   "metadata": {},
   "outputs": [
    {
     "data": {
      "text/html": [
       "<div>\n",
       "<style scoped>\n",
       "    .dataframe tbody tr th:only-of-type {\n",
       "        vertical-align: middle;\n",
       "    }\n",
       "\n",
       "    .dataframe tbody tr th {\n",
       "        vertical-align: top;\n",
       "    }\n",
       "\n",
       "    .dataframe thead th {\n",
       "        text-align: right;\n",
       "    }\n",
       "</style>\n",
       "<table border=\"1\" class=\"dataframe\">\n",
       "  <thead>\n",
       "    <tr style=\"text-align: right;\">\n",
       "      <th></th>\n",
       "      <th>Country</th>\n",
       "      <th>Date</th>\n",
       "      <th>Confirmed</th>\n",
       "      <th>Deaths</th>\n",
       "      <th>Recovered</th>\n",
       "      <th>Population</th>\n",
       "      <th>Confirmed_pred</th>\n",
       "    </tr>\n",
       "  </thead>\n",
       "  <tbody>\n",
       "    <tr>\n",
       "      <th>0</th>\n",
       "      <td>Brazil</td>\n",
       "      <td>2020-07-24</td>\n",
       "      <td>11.103394</td>\n",
       "      <td>0.403877</td>\n",
       "      <td>8.022828</td>\n",
       "      <td>211049.527</td>\n",
       "      <td>10.968799</td>\n",
       "    </tr>\n",
       "    <tr>\n",
       "      <th>1</th>\n",
       "      <td>Brazil</td>\n",
       "      <td>2020-07-25</td>\n",
       "      <td>11.345740</td>\n",
       "      <td>0.409615</td>\n",
       "      <td>8.459431</td>\n",
       "      <td>211049.527</td>\n",
       "      <td>11.109207</td>\n",
       "    </tr>\n",
       "    <tr>\n",
       "      <th>2</th>\n",
       "      <td>Brazil</td>\n",
       "      <td>2020-07-26</td>\n",
       "      <td>11.462196</td>\n",
       "      <td>0.412244</td>\n",
       "      <td>8.589988</td>\n",
       "      <td>211049.527</td>\n",
       "      <td>11.256105</td>\n",
       "    </tr>\n",
       "    <tr>\n",
       "      <th>3</th>\n",
       "      <td>Brazil</td>\n",
       "      <td>2020-07-27</td>\n",
       "      <td>11.572521</td>\n",
       "      <td>0.415154</td>\n",
       "      <td>8.749799</td>\n",
       "      <td>211049.527</td>\n",
       "      <td>11.388955</td>\n",
       "    </tr>\n",
       "    <tr>\n",
       "      <th>4</th>\n",
       "      <td>Brazil</td>\n",
       "      <td>2020-07-28</td>\n",
       "      <td>11.765916</td>\n",
       "      <td>0.419518</td>\n",
       "      <td>8.854552</td>\n",
       "      <td>211049.527</td>\n",
       "      <td>11.504281</td>\n",
       "    </tr>\n",
       "    <tr>\n",
       "      <th>5</th>\n",
       "      <td>Brazil</td>\n",
       "      <td>2020-07-29</td>\n",
       "      <td>12.093204</td>\n",
       "      <td>0.427075</td>\n",
       "      <td>9.110667</td>\n",
       "      <td>211049.527</td>\n",
       "      <td>11.616700</td>\n",
       "    </tr>\n",
       "    <tr>\n",
       "      <th>6</th>\n",
       "      <td>Brazil</td>\n",
       "      <td>2020-07-30</td>\n",
       "      <td>12.367249</td>\n",
       "      <td>0.432425</td>\n",
       "      <td>9.271791</td>\n",
       "      <td>211049.527</td>\n",
       "      <td>11.741529</td>\n",
       "    </tr>\n",
       "    <tr>\n",
       "      <th>7</th>\n",
       "      <td>Brazil</td>\n",
       "      <td>2020-07-31</td>\n",
       "      <td>12.615451</td>\n",
       "      <td>0.438167</td>\n",
       "      <td>9.518401</td>\n",
       "      <td>211049.527</td>\n",
       "      <td>11.872232</td>\n",
       "    </tr>\n",
       "    <tr>\n",
       "      <th>8</th>\n",
       "      <td>Brazil</td>\n",
       "      <td>2020-08-01</td>\n",
       "      <td>12.830529</td>\n",
       "      <td>0.443322</td>\n",
       "      <td>9.656416</td>\n",
       "      <td>211049.527</td>\n",
       "      <td>12.010985</td>\n",
       "    </tr>\n",
       "    <tr>\n",
       "      <th>9</th>\n",
       "      <td>Brazil</td>\n",
       "      <td>2020-08-02</td>\n",
       "      <td>12.952775</td>\n",
       "      <td>0.445886</td>\n",
       "      <td>9.774369</td>\n",
       "      <td>211049.527</td>\n",
       "      <td>12.152783</td>\n",
       "    </tr>\n",
       "    <tr>\n",
       "      <th>10</th>\n",
       "      <td>Brazil</td>\n",
       "      <td>2020-08-03</td>\n",
       "      <td>13.031624</td>\n",
       "      <td>0.448544</td>\n",
       "      <td>9.945419</td>\n",
       "      <td>211049.527</td>\n",
       "      <td>12.282254</td>\n",
       "    </tr>\n",
       "    <tr>\n",
       "      <th>11</th>\n",
       "      <td>Brazil</td>\n",
       "      <td>2020-08-04</td>\n",
       "      <td>13.276130</td>\n",
       "      <td>0.454012</td>\n",
       "      <td>10.222643</td>\n",
       "      <td>211049.527</td>\n",
       "      <td>12.390751</td>\n",
       "    </tr>\n",
       "    <tr>\n",
       "      <th>12</th>\n",
       "      <td>Brazil</td>\n",
       "      <td>2020-08-05</td>\n",
       "      <td>13.546929</td>\n",
       "      <td>0.460821</td>\n",
       "      <td>10.378422</td>\n",
       "      <td>211049.527</td>\n",
       "      <td>12.503826</td>\n",
       "    </tr>\n",
       "    <tr>\n",
       "      <th>13</th>\n",
       "      <td>Brazil</td>\n",
       "      <td>2020-08-06</td>\n",
       "      <td>13.798714</td>\n",
       "      <td>0.466682</td>\n",
       "      <td>10.568808</td>\n",
       "      <td>211049.527</td>\n",
       "      <td>12.624168</td>\n",
       "    </tr>\n",
       "    <tr>\n",
       "      <th>14</th>\n",
       "      <td>Brazil</td>\n",
       "      <td>2020-08-07</td>\n",
       "      <td>14.036715</td>\n",
       "      <td>0.471794</td>\n",
       "      <td>10.766662</td>\n",
       "      <td>211049.527</td>\n",
       "      <td>12.750076</td>\n",
       "    </tr>\n",
       "    <tr>\n",
       "      <th>15</th>\n",
       "      <td>Brazil</td>\n",
       "      <td>2020-08-08</td>\n",
       "      <td>14.273484</td>\n",
       "      <td>0.476083</td>\n",
       "      <td>10.999963</td>\n",
       "      <td>211049.527</td>\n",
       "      <td>12.883261</td>\n",
       "    </tr>\n",
       "    <tr>\n",
       "      <th>16</th>\n",
       "      <td>Brazil</td>\n",
       "      <td>2020-08-09</td>\n",
       "      <td>14.382510</td>\n",
       "      <td>0.478793</td>\n",
       "      <td>11.167914</td>\n",
       "      <td>211049.527</td>\n",
       "      <td>13.024080</td>\n",
       "    </tr>\n",
       "    <tr>\n",
       "      <th>17</th>\n",
       "      <td>Brazil</td>\n",
       "      <td>2020-08-10</td>\n",
       "      <td>14.486979</td>\n",
       "      <td>0.482124</td>\n",
       "      <td>11.328289</td>\n",
       "      <td>211049.527</td>\n",
       "      <td>13.148715</td>\n",
       "    </tr>\n",
       "    <tr>\n",
       "      <th>18</th>\n",
       "      <td>Brazil</td>\n",
       "      <td>2020-08-11</td>\n",
       "      <td>14.734124</td>\n",
       "      <td>0.488160</td>\n",
       "      <td>11.605513</td>\n",
       "      <td>211049.527</td>\n",
       "      <td>13.258783</td>\n",
       "    </tr>\n",
       "    <tr>\n",
       "      <th>19</th>\n",
       "      <td>Brazil</td>\n",
       "      <td>2020-08-12</td>\n",
       "      <td>14.995461</td>\n",
       "      <td>0.493728</td>\n",
       "      <td>11.875070</td>\n",
       "      <td>211049.527</td>\n",
       "      <td>13.374398</td>\n",
       "    </tr>\n",
       "    <tr>\n",
       "      <th>20</th>\n",
       "      <td>Brazil</td>\n",
       "      <td>2020-08-13</td>\n",
       "      <td>15.280186</td>\n",
       "      <td>0.499707</td>\n",
       "      <td>11.945537</td>\n",
       "      <td>211049.527</td>\n",
       "      <td>13.496282</td>\n",
       "    </tr>\n",
       "    <tr>\n",
       "      <th>21</th>\n",
       "      <td>Brazil</td>\n",
       "      <td>2020-08-14</td>\n",
       "      <td>15.520149</td>\n",
       "      <td>0.504730</td>\n",
       "      <td>12.399843</td>\n",
       "      <td>211049.527</td>\n",
       "      <td>13.626034</td>\n",
       "    </tr>\n",
       "    <tr>\n",
       "      <th>22</th>\n",
       "      <td>Brazil</td>\n",
       "      <td>2020-08-15</td>\n",
       "      <td>15.717145</td>\n",
       "      <td>0.508089</td>\n",
       "      <td>12.427784</td>\n",
       "      <td>211049.527</td>\n",
       "      <td>13.763141</td>\n",
       "    </tr>\n",
       "    <tr>\n",
       "      <th>23</th>\n",
       "      <td>Brazil</td>\n",
       "      <td>2020-08-16</td>\n",
       "      <td>15.826603</td>\n",
       "      <td>0.511027</td>\n",
       "      <td>12.580066</td>\n",
       "      <td>211049.527</td>\n",
       "      <td>13.901624</td>\n",
       "    </tr>\n",
       "    <tr>\n",
       "      <th>24</th>\n",
       "      <td>Brazil</td>\n",
       "      <td>2020-08-17</td>\n",
       "      <td>15.918396</td>\n",
       "      <td>0.514268</td>\n",
       "      <td>12.788846</td>\n",
       "      <td>211049.527</td>\n",
       "      <td>14.024426</td>\n",
       "    </tr>\n",
       "    <tr>\n",
       "      <th>25</th>\n",
       "      <td>Brazil</td>\n",
       "      <td>2020-08-18</td>\n",
       "      <td>16.144808</td>\n",
       "      <td>0.520674</td>\n",
       "      <td>13.036021</td>\n",
       "      <td>211049.527</td>\n",
       "      <td>14.131854</td>\n",
       "    </tr>\n",
       "    <tr>\n",
       "      <th>26</th>\n",
       "      <td>Brazil</td>\n",
       "      <td>2020-08-19</td>\n",
       "      <td>16.378393</td>\n",
       "      <td>0.526417</td>\n",
       "      <td>13.276178</td>\n",
       "      <td>211049.527</td>\n",
       "      <td>14.241486</td>\n",
       "    </tr>\n",
       "    <tr>\n",
       "      <th>27</th>\n",
       "      <td>Brazil</td>\n",
       "      <td>2020-08-20</td>\n",
       "      <td>16.593143</td>\n",
       "      <td>0.532122</td>\n",
       "      <td>13.477017</td>\n",
       "      <td>211049.527</td>\n",
       "      <td>14.355338</td>\n",
       "    </tr>\n",
       "    <tr>\n",
       "      <th>28</th>\n",
       "      <td>Brazil</td>\n",
       "      <td>2020-08-21</td>\n",
       "      <td>16.736972</td>\n",
       "      <td>0.537116</td>\n",
       "      <td>13.530274</td>\n",
       "      <td>211049.527</td>\n",
       "      <td>14.472660</td>\n",
       "    </tr>\n",
       "    <tr>\n",
       "      <th>29</th>\n",
       "      <td>Brazil</td>\n",
       "      <td>2020-08-22</td>\n",
       "      <td>16.974035</td>\n",
       "      <td>0.541342</td>\n",
       "      <td>13.807025</td>\n",
       "      <td>211049.527</td>\n",
       "      <td>14.588048</td>\n",
       "    </tr>\n",
       "    <tr>\n",
       "      <th>30</th>\n",
       "      <td>Brazil</td>\n",
       "      <td>2020-08-23</td>\n",
       "      <td>17.085009</td>\n",
       "      <td>0.543683</td>\n",
       "      <td>13.967262</td>\n",
       "      <td>211049.527</td>\n",
       "      <td>14.713811</td>\n",
       "    </tr>\n",
       "  </tbody>\n",
       "</table>\n",
       "</div>"
      ],
      "text/plain": [
       "   Country       Date  Confirmed    Deaths  Recovered  Population  \\\n",
       "0   Brazil 2020-07-24  11.103394  0.403877   8.022828  211049.527   \n",
       "1   Brazil 2020-07-25  11.345740  0.409615   8.459431  211049.527   \n",
       "2   Brazil 2020-07-26  11.462196  0.412244   8.589988  211049.527   \n",
       "3   Brazil 2020-07-27  11.572521  0.415154   8.749799  211049.527   \n",
       "4   Brazil 2020-07-28  11.765916  0.419518   8.854552  211049.527   \n",
       "5   Brazil 2020-07-29  12.093204  0.427075   9.110667  211049.527   \n",
       "6   Brazil 2020-07-30  12.367249  0.432425   9.271791  211049.527   \n",
       "7   Brazil 2020-07-31  12.615451  0.438167   9.518401  211049.527   \n",
       "8   Brazil 2020-08-01  12.830529  0.443322   9.656416  211049.527   \n",
       "9   Brazil 2020-08-02  12.952775  0.445886   9.774369  211049.527   \n",
       "10  Brazil 2020-08-03  13.031624  0.448544   9.945419  211049.527   \n",
       "11  Brazil 2020-08-04  13.276130  0.454012  10.222643  211049.527   \n",
       "12  Brazil 2020-08-05  13.546929  0.460821  10.378422  211049.527   \n",
       "13  Brazil 2020-08-06  13.798714  0.466682  10.568808  211049.527   \n",
       "14  Brazil 2020-08-07  14.036715  0.471794  10.766662  211049.527   \n",
       "15  Brazil 2020-08-08  14.273484  0.476083  10.999963  211049.527   \n",
       "16  Brazil 2020-08-09  14.382510  0.478793  11.167914  211049.527   \n",
       "17  Brazil 2020-08-10  14.486979  0.482124  11.328289  211049.527   \n",
       "18  Brazil 2020-08-11  14.734124  0.488160  11.605513  211049.527   \n",
       "19  Brazil 2020-08-12  14.995461  0.493728  11.875070  211049.527   \n",
       "20  Brazil 2020-08-13  15.280186  0.499707  11.945537  211049.527   \n",
       "21  Brazil 2020-08-14  15.520149  0.504730  12.399843  211049.527   \n",
       "22  Brazil 2020-08-15  15.717145  0.508089  12.427784  211049.527   \n",
       "23  Brazil 2020-08-16  15.826603  0.511027  12.580066  211049.527   \n",
       "24  Brazil 2020-08-17  15.918396  0.514268  12.788846  211049.527   \n",
       "25  Brazil 2020-08-18  16.144808  0.520674  13.036021  211049.527   \n",
       "26  Brazil 2020-08-19  16.378393  0.526417  13.276178  211049.527   \n",
       "27  Brazil 2020-08-20  16.593143  0.532122  13.477017  211049.527   \n",
       "28  Brazil 2020-08-21  16.736972  0.537116  13.530274  211049.527   \n",
       "29  Brazil 2020-08-22  16.974035  0.541342  13.807025  211049.527   \n",
       "30  Brazil 2020-08-23  17.085009  0.543683  13.967262  211049.527   \n",
       "\n",
       "    Confirmed_pred  \n",
       "0        10.968799  \n",
       "1        11.109207  \n",
       "2        11.256105  \n",
       "3        11.388955  \n",
       "4        11.504281  \n",
       "5        11.616700  \n",
       "6        11.741529  \n",
       "7        11.872232  \n",
       "8        12.010985  \n",
       "9        12.152783  \n",
       "10       12.282254  \n",
       "11       12.390751  \n",
       "12       12.503826  \n",
       "13       12.624168  \n",
       "14       12.750076  \n",
       "15       12.883261  \n",
       "16       13.024080  \n",
       "17       13.148715  \n",
       "18       13.258783  \n",
       "19       13.374398  \n",
       "20       13.496282  \n",
       "21       13.626034  \n",
       "22       13.763141  \n",
       "23       13.901624  \n",
       "24       14.024426  \n",
       "25       14.131854  \n",
       "26       14.241486  \n",
       "27       14.355338  \n",
       "28       14.472660  \n",
       "29       14.588048  \n",
       "30       14.713811  "
      ]
     },
     "execution_count": 126,
     "metadata": {},
     "output_type": "execute_result"
    }
   ],
   "source": [
    "y_df_test"
   ]
  },
  {
   "cell_type": "code",
   "execution_count": 127,
   "metadata": {},
   "outputs": [],
   "source": [
    "for i in name_y[:n_output] + name_y_pred[:n_output]:\n",
    "#     y_df_train[i] = y_df_train[i]*y_df_train['Population']\n",
    "    y_df_test[i] = y_df_test[i]*y_df_test['Population']"
   ]
  },
  {
   "cell_type": "code",
   "execution_count": 128,
   "metadata": {},
   "outputs": [
    {
     "data": {
      "text/html": [
       "<div>\n",
       "<style scoped>\n",
       "    .dataframe tbody tr th:only-of-type {\n",
       "        vertical-align: middle;\n",
       "    }\n",
       "\n",
       "    .dataframe tbody tr th {\n",
       "        vertical-align: top;\n",
       "    }\n",
       "\n",
       "    .dataframe thead th {\n",
       "        text-align: right;\n",
       "    }\n",
       "</style>\n",
       "<table border=\"1\" class=\"dataframe\">\n",
       "  <thead>\n",
       "    <tr style=\"text-align: right;\">\n",
       "      <th></th>\n",
       "      <th>Country</th>\n",
       "      <th>Date</th>\n",
       "      <th>Confirmed</th>\n",
       "      <th>Deaths</th>\n",
       "      <th>Recovered</th>\n",
       "      <th>Population</th>\n",
       "      <th>Confirmed_pred</th>\n",
       "    </tr>\n",
       "  </thead>\n",
       "  <tbody>\n",
       "  </tbody>\n",
       "</table>\n",
       "</div>"
      ],
      "text/plain": [
       "Empty DataFrame\n",
       "Columns: [Country, Date, Confirmed, Deaths, Recovered, Population, Confirmed_pred]\n",
       "Index: []"
      ]
     },
     "execution_count": 128,
     "metadata": {},
     "output_type": "execute_result"
    }
   ],
   "source": [
    "y_df_test[y_df_test['Country'] == 'US'].head()"
   ]
  },
  {
   "cell_type": "code",
   "execution_count": 129,
   "metadata": {},
   "outputs": [],
   "source": [
    "metrics = [MAE, MAPE, adj_r2, WAPE]"
   ]
  },
  {
   "cell_type": "code",
   "execution_count": 130,
   "metadata": {},
   "outputs": [
    {
     "data": {
      "text/html": [
       "<div>\n",
       "<style scoped>\n",
       "    .dataframe tbody tr th:only-of-type {\n",
       "        vertical-align: middle;\n",
       "    }\n",
       "\n",
       "    .dataframe tbody tr th {\n",
       "        vertical-align: top;\n",
       "    }\n",
       "\n",
       "    .dataframe thead th {\n",
       "        text-align: right;\n",
       "    }\n",
       "</style>\n",
       "<table border=\"1\" class=\"dataframe\">\n",
       "  <thead>\n",
       "    <tr style=\"text-align: right;\">\n",
       "      <th></th>\n",
       "      <th>Confirmed</th>\n",
       "    </tr>\n",
       "  </thead>\n",
       "  <tbody>\n",
       "    <tr>\n",
       "      <th>mean_absolute_error</th>\n",
       "      <td>4.279626</td>\n",
       "    </tr>\n",
       "    <tr>\n",
       "      <th>MAPE</th>\n",
       "      <td>2557.031441</td>\n",
       "    </tr>\n",
       "    <tr>\n",
       "      <th>adj_r2</th>\n",
       "      <td>-0.979467</td>\n",
       "    </tr>\n",
       "    <tr>\n",
       "      <th>WAPE</th>\n",
       "      <td>148.039709</td>\n",
       "    </tr>\n",
       "  </tbody>\n",
       "</table>\n",
       "</div>"
      ],
      "text/plain": [
       "                       Confirmed\n",
       "mean_absolute_error     4.279626\n",
       "MAPE                 2557.031441\n",
       "adj_r2                 -0.979467\n",
       "WAPE                  148.039709"
      ]
     },
     "execution_count": 130,
     "metadata": {},
     "output_type": "execute_result"
    }
   ],
   "source": [
    "get_metrics_from_df(y_df_train, metrics, name_y[:n_output], name_y_pred[:n_output])"
   ]
  },
  {
   "cell_type": "code",
   "execution_count": 131,
   "metadata": {
    "scrolled": true
   },
   "outputs": [
    {
     "data": {
      "text/html": [
       "<div>\n",
       "<style scoped>\n",
       "    .dataframe tbody tr th:only-of-type {\n",
       "        vertical-align: middle;\n",
       "    }\n",
       "\n",
       "    .dataframe tbody tr th {\n",
       "        vertical-align: top;\n",
       "    }\n",
       "\n",
       "    .dataframe thead th {\n",
       "        text-align: right;\n",
       "    }\n",
       "</style>\n",
       "<table border=\"1\" class=\"dataframe\">\n",
       "  <thead>\n",
       "    <tr style=\"text-align: right;\">\n",
       "      <th></th>\n",
       "      <th>Confirmed</th>\n",
       "    </tr>\n",
       "  </thead>\n",
       "  <tbody>\n",
       "    <tr>\n",
       "      <th>mean_absolute_error</th>\n",
       "      <td>270074.544753</td>\n",
       "    </tr>\n",
       "    <tr>\n",
       "      <th>MAPE</th>\n",
       "      <td>8.523907</td>\n",
       "    </tr>\n",
       "    <tr>\n",
       "      <th>adj_r2</th>\n",
       "      <td>0.194078</td>\n",
       "    </tr>\n",
       "    <tr>\n",
       "      <th>WAPE</th>\n",
       "      <td>9.039582</td>\n",
       "    </tr>\n",
       "  </tbody>\n",
       "</table>\n",
       "</div>"
      ],
      "text/plain": [
       "                         Confirmed\n",
       "mean_absolute_error  270074.544753\n",
       "MAPE                      8.523907\n",
       "adj_r2                    0.194078\n",
       "WAPE                      9.039582"
      ]
     },
     "execution_count": 131,
     "metadata": {},
     "output_type": "execute_result"
    }
   ],
   "source": [
    "get_metrics_from_df(y_df_test, metrics, name_y[:n_output], name_y_pred[:n_output])"
   ]
  },
  {
   "cell_type": "code",
   "execution_count": 132,
   "metadata": {},
   "outputs": [
    {
     "data": {
      "text/plain": [
       "'07/24/2020'"
      ]
     },
     "execution_count": 132,
     "metadata": {},
     "output_type": "execute_result"
    }
   ],
   "source": [
    "md_test.groupby(['Country']).agg({'Date':['min']}).values[0][0]"
   ]
  },
  {
   "cell_type": "code",
   "execution_count": 133,
   "metadata": {},
   "outputs": [
    {
     "data": {
      "text/plain": [
       "Timestamp('2020-07-24 00:00:00')"
      ]
     },
     "execution_count": 133,
     "metadata": {},
     "output_type": "execute_result"
    }
   ],
   "source": [
    "pd.to_datetime(md_test.groupby(['Country']).agg({'Date':['min']}).values[0][0])"
   ]
  },
  {
   "cell_type": "code",
   "execution_count": 134,
   "metadata": {},
   "outputs": [],
   "source": [
    "countries = np.unique(data['Country'])\n",
    "# start_date_test = '2020-07-01'\n",
    "start_date_test = md_test.groupby(['Country']).agg({'Date':['min']}).values[0][0]\n",
    "end_date_train = md_train.groupby(['Country']).agg({'Date':['max']}).values[0][0]"
   ]
  },
  {
   "cell_type": "code",
   "execution_count": 135,
   "metadata": {},
   "outputs": [
    {
     "data": {
      "text/plain": [
       "'07/23/2020'"
      ]
     },
     "execution_count": 135,
     "metadata": {},
     "output_type": "execute_result"
    }
   ],
   "source": [
    "md_train.groupby(['Country']).agg({'Date':['max']}).values[0][0]"
   ]
  },
  {
   "cell_type": "code",
   "execution_count": 136,
   "metadata": {},
   "outputs": [
    {
     "data": {
      "text/plain": [
       "'07/24/2020'"
      ]
     },
     "execution_count": 136,
     "metadata": {},
     "output_type": "execute_result"
    }
   ],
   "source": [
    "md_test.groupby(['Country']).agg({'Date':['min']}).values[0][0]"
   ]
  },
  {
   "cell_type": "code",
   "execution_count": 137,
   "metadata": {},
   "outputs": [],
   "source": [
    "start_dates = [pd.to_datetime(start_date_test) - pd.DateOffset(i) for i in range(1,n_steps+1)] "
   ]
  },
  {
   "cell_type": "code",
   "execution_count": 138,
   "metadata": {},
   "outputs": [
    {
     "data": {
      "text/plain": [
       "[Timestamp('2020-07-23 00:00:00'),\n",
       " Timestamp('2020-07-22 00:00:00'),\n",
       " Timestamp('2020-07-21 00:00:00'),\n",
       " Timestamp('2020-07-20 00:00:00'),\n",
       " Timestamp('2020-07-19 00:00:00')]"
      ]
     },
     "execution_count": 138,
     "metadata": {},
     "output_type": "execute_result"
    }
   ],
   "source": [
    "start_dates\n",
    "# assert False"
   ]
  },
  {
   "cell_type": "code",
   "execution_count": 139,
   "metadata": {},
   "outputs": [],
   "source": [
    "def get_start_fact(data, name_y, country, start_date, count_test_day = 31):\n",
    "    start_dates = [pd.to_datetime(start_date) - pd.DateOffset(i) for i in range(1,n_steps+2)] # чтобы diff сделать\n",
    "    test_dates = [pd.to_datetime(start_date) + pd.DateOffset(i) for i in range(count_test_day)]\n",
    "    X_start = data.loc[(data['Country'] == country) & (data['Date'].isin(start_dates))]\\\n",
    "                    .sort_values(['Date'])[name_y].diff().values[1:]\n",
    "    y_test  = data.loc[(data['Country'] == country) & (data['Date'].isin(test_dates))]\\\n",
    "                    .sort_values(['Date'])[name_y].values\n",
    "    start_y = data.loc[(data['Country'] == country) & (data['Date'] == test_dates[0] - pd.DateOffset(1))]\\\n",
    "                    .sort_values(['Date'])[name_y].values\n",
    "    return X_start, y_test, start_y\n",
    "    "
   ]
  },
  {
   "cell_type": "code",
   "execution_count": 140,
   "metadata": {},
   "outputs": [],
   "source": [
    "country = 'Brazil'"
   ]
  },
  {
   "cell_type": "code",
   "execution_count": 141,
   "metadata": {},
   "outputs": [
    {
     "data": {
      "text/plain": [
       "Index(['Brazil'], dtype='object')"
      ]
     },
     "execution_count": 141,
     "metadata": {},
     "output_type": "execute_result"
    }
   ],
   "source": [
    "data['Country'].value_counts().keys()"
   ]
  },
  {
   "cell_type": "code",
   "execution_count": 142,
   "metadata": {},
   "outputs": [
    {
     "data": {
      "text/html": [
       "<div>\n",
       "<style scoped>\n",
       "    .dataframe tbody tr th:only-of-type {\n",
       "        vertical-align: middle;\n",
       "    }\n",
       "\n",
       "    .dataframe tbody tr th {\n",
       "        vertical-align: top;\n",
       "    }\n",
       "\n",
       "    .dataframe thead tr th {\n",
       "        text-align: left;\n",
       "    }\n",
       "\n",
       "    .dataframe thead tr:last-of-type th {\n",
       "        text-align: right;\n",
       "    }\n",
       "</style>\n",
       "<table border=\"1\" class=\"dataframe\">\n",
       "  <thead>\n",
       "    <tr>\n",
       "      <th></th>\n",
       "      <th>Date</th>\n",
       "    </tr>\n",
       "    <tr>\n",
       "      <th></th>\n",
       "      <th>min</th>\n",
       "    </tr>\n",
       "    <tr>\n",
       "      <th>Country</th>\n",
       "      <th></th>\n",
       "    </tr>\n",
       "  </thead>\n",
       "  <tbody>\n",
       "    <tr>\n",
       "      <th>Brazil</th>\n",
       "      <td>07/24/2020</td>\n",
       "    </tr>\n",
       "  </tbody>\n",
       "</table>\n",
       "</div>"
      ],
      "text/plain": [
       "               Date\n",
       "                min\n",
       "Country            \n",
       "Brazil   07/24/2020"
      ]
     },
     "execution_count": 142,
     "metadata": {},
     "output_type": "execute_result"
    }
   ],
   "source": [
    "md_test.groupby(['Country']).agg({'Date':['min']})"
   ]
  },
  {
   "cell_type": "code",
   "execution_count": 143,
   "metadata": {},
   "outputs": [],
   "source": [
    "def get_start_predict_future(country, end_train_date, start_test_date, md_test, data ):\n",
    "    md_test = md_test.reset_index(drop=True)\n",
    "    ind_start = md_test[(md_test['Country'] == country) & (md_test['Date'] == start_test_date)].index[0]\n",
    "    data_country_init = data[(data['Country'] == country) & (data['Date'] == end_train_date)][target]\n",
    "    ind  = md_test[(md_test['Country'] == country)].index\n",
    "    population = data.loc[data['Country'] == country, 'Population'].iloc[0]\n",
    "    return data_country_init, ind_start, population"
   ]
  },
  {
   "cell_type": "code",
   "execution_count": 144,
   "metadata": {},
   "outputs": [],
   "source": [
    "def predict_future(model, X, n_output, count_days = 31, country_policy=None, noise = 0.0):\n",
    "#     assert n_output == 3\n",
    "    y = np.zeros(shape = (count_days, n_output))\n",
    "    for i in range(count_days):\n",
    "        if country_policy is None:\n",
    "            y[i] = model.predict([X[:,:n_output].reshape(1,n_steps,-1), X[n_steps-1,3:count_features-1].reshape(1,-1)])\n",
    "        else:\n",
    "            y[i] = model.predict([X[:,:n_output].reshape(1,n_steps,-1), country_policy.reshape(1,-1)])\n",
    "#         y[i] = np.maximum(y[i]*np.random.normal(1.0, noise), 0.0)\n",
    "        X[:-1] = X[1:]\n",
    "#         print(X.shape)\n",
    "#         print(y[i].shape)\n",
    "        X[-1] = np.concatenate([y[i], X[-1,n_output:]], axis=0) \n",
    "    return y "
   ]
  },
  {
   "cell_type": "code",
   "execution_count": 145,
   "metadata": {},
   "outputs": [],
   "source": [
    "def from_percent(y_pred, init_val):\n",
    "    assert y_pred.shape[1] == 1\n",
    "    y_pred = y_pred.reshape(-1)\n",
    "    res = np.zeros(len(y_pred))\n",
    "    prev_val = init_val[0][0]\n",
    "    for i in range(len(y_pred)):\n",
    "        res[i] = y_pred[i]*prev_val + prev_val\n",
    "        prev_val = res[i]\n",
    "    print(res)\n",
    "    return res.reshape(-1,1)"
   ]
  },
  {
   "cell_type": "code",
   "execution_count": 146,
   "metadata": {},
   "outputs": [],
   "source": [
    "def full_predict(countries, end_train_date, start_test_date, model, X_test, md_test, count_days=31, country_policy=None, noise=0.0):\n",
    "    total_y_true = []\n",
    "    total_y_pred = []\n",
    "    for country in countries:\n",
    "        data_country_init, ind_start, population = get_start_predict_future(country, end_train_date, start_test_date,\n",
    "                                                                            md_test, data)\n",
    "        y_pred = predict_future(model, X_test[ind_start], n_output, count_days, country_policy, noise)\n",
    "\n",
    "        if data_scale:\n",
    "            y_pred = y_pred*data_std[target].values + data_mean[target].values\n",
    "        \n",
    "#         y_pred = from_percent(y_pred, data_country_init.values)\n",
    "        y_pred = np.cumsum(y_pred, axis=0) + data_country_init.values\n",
    "\n",
    "        y_pred = y_pred*population\n",
    "\n",
    "        y_true = data[(data['Country'] == country) & (data['Date'] > end_train_date)][target].values * population\n",
    "        total_y_pred.append(y_pred)\n",
    "        total_y_true.append(y_true)\n",
    "    return np.concatenate(total_y_true, axis=0), np.concatenate(total_y_pred, axis=0)"
   ]
  },
  {
   "cell_type": "code",
   "execution_count": 147,
   "metadata": {},
   "outputs": [],
   "source": [
    "# end_train_date = '06/30/2020'\n",
    "# start_test_date= '07/01/2020'\n",
    "\n",
    "# start_date_test = '2020-07-01'\n",
    "total_y_true, total_y_pred = full_predict(np.unique(md_test['Country']), end_date_train, start_date_test, model, X_test, md_test)"
   ]
  },
  {
   "cell_type": "code",
   "execution_count": 148,
   "metadata": {},
   "outputs": [
    {
     "data": {
      "text/plain": [
       "array([[2314959.86811523,  111566.86811523, 1647797.86811523],\n",
       "       [2341257.08114898,  137864.08114898, 1674095.08114898],\n",
       "       [2366636.12530964,  163243.12530964, 1699474.12530964],\n",
       "       [2390204.89823608,  186811.89823608, 1723042.89823608],\n",
       "       [2410866.16810177,  207473.16810177, 1743704.16810177],\n",
       "       [2429178.42899204,  225785.42899204, 1762016.42899204],\n",
       "       [2446710.61689997,  243317.61689997, 1779548.61689997],\n",
       "       [2463575.73870356,  260182.73870356, 1796413.73870356],\n",
       "       [2479861.79719858,  276468.79719858, 1812699.79719858],\n",
       "       [2495687.33884716,  292294.33884716, 1828525.33884716],\n",
       "       [2511207.42991446,  307814.42991446, 1844045.42991446],\n",
       "       [2526536.85016174,  323143.85016174, 1859374.85016174],\n",
       "       [2541721.06523725,  338328.06523725, 1874559.06523725],\n",
       "       [2556797.3703935 ,  353404.3703935 , 1889635.3703935 ],\n",
       "       [2571796.56700005,  368403.56700005, 1904634.56700005],\n",
       "       [2586742.37272407,  383349.37272407, 1919580.37272407],\n",
       "       [2601650.69424781,  398257.69424781, 1934488.69424781],\n",
       "       [2616531.81296366,  413138.81296366, 1949369.81296366],\n",
       "       [2631393.44165641,  428000.44165641, 1964231.44165641],\n",
       "       [2646241.24897196,  442848.24897196, 1979079.24897196],\n",
       "       [2661079.27540232,  457686.27540232, 1993917.27540232],\n",
       "       [2675910.33617645,  472517.33617645, 2008748.33617645],\n",
       "       [2690736.41613621,  487343.41613621, 2023574.41613621],\n",
       "       [2705558.94928807,  502165.94928807, 2038396.94928807],\n",
       "       [2720378.96114387,  516985.96114387, 2053216.96114387],\n",
       "       [2735197.17942717,  531804.17942717, 2068035.17942717],\n",
       "       [2750014.11990756,  546621.11990756, 2082852.11990756],\n",
       "       [2764830.14993901,  561437.14993901, 2097668.14993901],\n",
       "       [2779645.53191865,  576252.53191865, 2112483.53191865],\n",
       "       [2794460.45267241,  591067.45267241, 2127298.45267241],\n",
       "       [2809275.04505377,  605882.04505377, 2142113.04505377]])"
      ]
     },
     "execution_count": 148,
     "metadata": {},
     "output_type": "execute_result"
    }
   ],
   "source": [
    "total_y_pred"
   ]
  },
  {
   "cell_type": "code",
   "execution_count": 149,
   "metadata": {},
   "outputs": [
    {
     "data": {
      "text/plain": [
       "array([[2343366.,   85238., 1693214.],\n",
       "       [2394513.,   86449., 1785359.],\n",
       "       [2419091.,   87004., 1812913.],\n",
       "       [2442375.,   87618., 1846641.],\n",
       "       [2483191.,   88539., 1868749.],\n",
       "       [2552265.,   90134., 1922802.],\n",
       "       [2610102.,   91263., 1956807.],\n",
       "       [2662485.,   92475., 2008854.],\n",
       "       [2707877.,   93563., 2037982.],\n",
       "       [2733677.,   94104., 2062876.],\n",
       "       [2750318.,   94665., 2098976.],\n",
       "       [2801921.,   95819., 2157484.],\n",
       "       [2859073.,   97256., 2190361.],\n",
       "       [2912212.,   98493., 2230542.],\n",
       "       [2962442.,   99572., 2272299.],\n",
       "       [3012412.,  100477., 2321537.],\n",
       "       [3035422.,  101049., 2356983.],\n",
       "       [3057470.,  101752., 2390830.],\n",
       "       [3109630.,  103026., 2449338.],\n",
       "       [3164785.,  104201., 2506228.],\n",
       "       [3224876.,  105463., 2521100.],\n",
       "       [3275520.,  106523., 2616981.],\n",
       "       [3317096.,  107232., 2622878.],\n",
       "       [3340197.,  107852., 2655017.],\n",
       "       [3359570.,  108536., 2699080.],\n",
       "       [3407354.,  109888., 2751246.],\n",
       "       [3456652.,  111100., 2801931.],\n",
       "       [3501975.,  112304., 2844318.],\n",
       "       [3532330.,  113358., 2855558.],\n",
       "       [3582362.,  114250., 2913966.],\n",
       "       [3605783.,  114744., 2947784.]])"
      ]
     },
     "execution_count": 149,
     "metadata": {},
     "output_type": "execute_result"
    }
   ],
   "source": [
    "total_y_true"
   ]
  },
  {
   "cell_type": "code",
   "execution_count": 150,
   "metadata": {},
   "outputs": [
    {
     "data": {
      "text/html": [
       "<div>\n",
       "<style scoped>\n",
       "    .dataframe tbody tr th:only-of-type {\n",
       "        vertical-align: middle;\n",
       "    }\n",
       "\n",
       "    .dataframe tbody tr th {\n",
       "        vertical-align: top;\n",
       "    }\n",
       "\n",
       "    .dataframe thead th {\n",
       "        text-align: right;\n",
       "    }\n",
       "</style>\n",
       "<table border=\"1\" class=\"dataframe\">\n",
       "  <thead>\n",
       "    <tr style=\"text-align: right;\">\n",
       "      <th></th>\n",
       "      <th>Country</th>\n",
       "      <th>Date</th>\n",
       "    </tr>\n",
       "  </thead>\n",
       "  <tbody>\n",
       "    <tr>\n",
       "      <th>136</th>\n",
       "      <td>Brazil</td>\n",
       "      <td>07/24/2020</td>\n",
       "    </tr>\n",
       "    <tr>\n",
       "      <th>137</th>\n",
       "      <td>Brazil</td>\n",
       "      <td>07/25/2020</td>\n",
       "    </tr>\n",
       "    <tr>\n",
       "      <th>138</th>\n",
       "      <td>Brazil</td>\n",
       "      <td>07/26/2020</td>\n",
       "    </tr>\n",
       "    <tr>\n",
       "      <th>139</th>\n",
       "      <td>Brazil</td>\n",
       "      <td>07/27/2020</td>\n",
       "    </tr>\n",
       "    <tr>\n",
       "      <th>140</th>\n",
       "      <td>Brazil</td>\n",
       "      <td>07/28/2020</td>\n",
       "    </tr>\n",
       "    <tr>\n",
       "      <th>141</th>\n",
       "      <td>Brazil</td>\n",
       "      <td>07/29/2020</td>\n",
       "    </tr>\n",
       "    <tr>\n",
       "      <th>142</th>\n",
       "      <td>Brazil</td>\n",
       "      <td>07/30/2020</td>\n",
       "    </tr>\n",
       "    <tr>\n",
       "      <th>143</th>\n",
       "      <td>Brazil</td>\n",
       "      <td>07/31/2020</td>\n",
       "    </tr>\n",
       "    <tr>\n",
       "      <th>144</th>\n",
       "      <td>Brazil</td>\n",
       "      <td>08/01/2020</td>\n",
       "    </tr>\n",
       "    <tr>\n",
       "      <th>145</th>\n",
       "      <td>Brazil</td>\n",
       "      <td>08/02/2020</td>\n",
       "    </tr>\n",
       "    <tr>\n",
       "      <th>146</th>\n",
       "      <td>Brazil</td>\n",
       "      <td>08/03/2020</td>\n",
       "    </tr>\n",
       "    <tr>\n",
       "      <th>147</th>\n",
       "      <td>Brazil</td>\n",
       "      <td>08/04/2020</td>\n",
       "    </tr>\n",
       "    <tr>\n",
       "      <th>148</th>\n",
       "      <td>Brazil</td>\n",
       "      <td>08/05/2020</td>\n",
       "    </tr>\n",
       "    <tr>\n",
       "      <th>149</th>\n",
       "      <td>Brazil</td>\n",
       "      <td>08/06/2020</td>\n",
       "    </tr>\n",
       "    <tr>\n",
       "      <th>150</th>\n",
       "      <td>Brazil</td>\n",
       "      <td>08/07/2020</td>\n",
       "    </tr>\n",
       "    <tr>\n",
       "      <th>151</th>\n",
       "      <td>Brazil</td>\n",
       "      <td>08/08/2020</td>\n",
       "    </tr>\n",
       "    <tr>\n",
       "      <th>152</th>\n",
       "      <td>Brazil</td>\n",
       "      <td>08/09/2020</td>\n",
       "    </tr>\n",
       "    <tr>\n",
       "      <th>153</th>\n",
       "      <td>Brazil</td>\n",
       "      <td>08/10/2020</td>\n",
       "    </tr>\n",
       "    <tr>\n",
       "      <th>154</th>\n",
       "      <td>Brazil</td>\n",
       "      <td>08/11/2020</td>\n",
       "    </tr>\n",
       "    <tr>\n",
       "      <th>155</th>\n",
       "      <td>Brazil</td>\n",
       "      <td>08/12/2020</td>\n",
       "    </tr>\n",
       "    <tr>\n",
       "      <th>156</th>\n",
       "      <td>Brazil</td>\n",
       "      <td>08/13/2020</td>\n",
       "    </tr>\n",
       "    <tr>\n",
       "      <th>157</th>\n",
       "      <td>Brazil</td>\n",
       "      <td>08/14/2020</td>\n",
       "    </tr>\n",
       "    <tr>\n",
       "      <th>158</th>\n",
       "      <td>Brazil</td>\n",
       "      <td>08/15/2020</td>\n",
       "    </tr>\n",
       "    <tr>\n",
       "      <th>159</th>\n",
       "      <td>Brazil</td>\n",
       "      <td>08/16/2020</td>\n",
       "    </tr>\n",
       "    <tr>\n",
       "      <th>160</th>\n",
       "      <td>Brazil</td>\n",
       "      <td>08/17/2020</td>\n",
       "    </tr>\n",
       "    <tr>\n",
       "      <th>161</th>\n",
       "      <td>Brazil</td>\n",
       "      <td>08/18/2020</td>\n",
       "    </tr>\n",
       "    <tr>\n",
       "      <th>162</th>\n",
       "      <td>Brazil</td>\n",
       "      <td>08/19/2020</td>\n",
       "    </tr>\n",
       "    <tr>\n",
       "      <th>163</th>\n",
       "      <td>Brazil</td>\n",
       "      <td>08/20/2020</td>\n",
       "    </tr>\n",
       "    <tr>\n",
       "      <th>164</th>\n",
       "      <td>Brazil</td>\n",
       "      <td>08/21/2020</td>\n",
       "    </tr>\n",
       "    <tr>\n",
       "      <th>165</th>\n",
       "      <td>Brazil</td>\n",
       "      <td>08/22/2020</td>\n",
       "    </tr>\n",
       "    <tr>\n",
       "      <th>166</th>\n",
       "      <td>Brazil</td>\n",
       "      <td>08/23/2020</td>\n",
       "    </tr>\n",
       "  </tbody>\n",
       "</table>\n",
       "</div>"
      ],
      "text/plain": [
       "    Country        Date\n",
       "136  Brazil  07/24/2020\n",
       "137  Brazil  07/25/2020\n",
       "138  Brazil  07/26/2020\n",
       "139  Brazil  07/27/2020\n",
       "140  Brazil  07/28/2020\n",
       "141  Brazil  07/29/2020\n",
       "142  Brazil  07/30/2020\n",
       "143  Brazil  07/31/2020\n",
       "144  Brazil  08/01/2020\n",
       "145  Brazil  08/02/2020\n",
       "146  Brazil  08/03/2020\n",
       "147  Brazil  08/04/2020\n",
       "148  Brazil  08/05/2020\n",
       "149  Brazil  08/06/2020\n",
       "150  Brazil  08/07/2020\n",
       "151  Brazil  08/08/2020\n",
       "152  Brazil  08/09/2020\n",
       "153  Brazil  08/10/2020\n",
       "154  Brazil  08/11/2020\n",
       "155  Brazil  08/12/2020\n",
       "156  Brazil  08/13/2020\n",
       "157  Brazil  08/14/2020\n",
       "158  Brazil  08/15/2020\n",
       "159  Brazil  08/16/2020\n",
       "160  Brazil  08/17/2020\n",
       "161  Brazil  08/18/2020\n",
       "162  Brazil  08/19/2020\n",
       "163  Brazil  08/20/2020\n",
       "164  Brazil  08/21/2020\n",
       "165  Brazil  08/22/2020\n",
       "166  Brazil  08/23/2020"
      ]
     },
     "execution_count": 150,
     "metadata": {},
     "output_type": "execute_result"
    }
   ],
   "source": [
    "md_test"
   ]
  },
  {
   "cell_type": "code",
   "execution_count": 151,
   "metadata": {},
   "outputs": [
    {
     "data": {
      "text/plain": [
       "31"
      ]
     },
     "execution_count": 151,
     "metadata": {},
     "output_type": "execute_result"
    }
   ],
   "source": [
    "len(total_y_pred)"
   ]
  },
  {
   "cell_type": "code",
   "execution_count": 152,
   "metadata": {},
   "outputs": [
    {
     "data": {
      "text/plain": [
       "31"
      ]
     },
     "execution_count": 152,
     "metadata": {},
     "output_type": "execute_result"
    }
   ],
   "source": [
    "len(total_y_true)"
   ]
  },
  {
   "cell_type": "code",
   "execution_count": null,
   "metadata": {},
   "outputs": [],
   "source": []
  },
  {
   "cell_type": "code",
   "execution_count": 153,
   "metadata": {},
   "outputs": [],
   "source": [
    "# plt.plot(total_y_pred[32:62,0] -  total_y_pred[31:61,0], c='r')\n",
    "# plt.plot(total_y_true[32:62,0] -  total_y_true[31:61,0], c='b')"
   ]
  },
  {
   "cell_type": "code",
   "execution_count": 154,
   "metadata": {},
   "outputs": [
    {
     "data": {
      "text/plain": [
       "13.606050805909021"
      ]
     },
     "execution_count": 154,
     "metadata": {},
     "output_type": "execute_result"
    }
   ],
   "source": [
    "WAPE(total_y_true[:,0], total_y_pred[:,0]) # Confirmed"
   ]
  },
  {
   "cell_type": "code",
   "execution_count": 155,
   "metadata": {},
   "outputs": [
    {
     "data": {
      "text/plain": [
       "406506.40864872816"
      ]
     },
     "execution_count": 155,
     "metadata": {},
     "output_type": "execute_result"
    }
   ],
   "source": [
    "MAE(total_y_true[:,0], total_y_pred[:,0])"
   ]
  },
  {
   "cell_type": "code",
   "execution_count": 156,
   "metadata": {},
   "outputs": [
    {
     "data": {
      "text/plain": [
       "277.308643861813"
      ]
     },
     "execution_count": 156,
     "metadata": {},
     "output_type": "execute_result"
    }
   ],
   "source": [
    "WAPE(total_y_true[:,1], total_y_pred[:,1]) # Deaths"
   ]
  },
  {
   "cell_type": "code",
   "execution_count": 157,
   "metadata": {},
   "outputs": [
    {
     "data": {
      "text/plain": [
       "277661.72038352996"
      ]
     },
     "execution_count": 157,
     "metadata": {},
     "output_type": "execute_result"
    }
   ],
   "source": [
    "MAE(total_y_true[:,1], total_y_pred[:,1])"
   ]
  },
  {
   "cell_type": "code",
   "execution_count": 158,
   "metadata": {},
   "outputs": [
    {
     "data": {
      "text/plain": [
       "17.819805665571543"
      ]
     },
     "execution_count": 158,
     "metadata": {},
     "output_type": "execute_result"
    }
   ],
   "source": [
    "WAPE(total_y_true[:,2], total_y_pred[:,2]) # Recovered"
   ]
  },
  {
   "cell_type": "code",
   "execution_count": 159,
   "metadata": {},
   "outputs": [
    {
     "data": {
      "text/plain": [
       "415032.66671324434"
      ]
     },
     "execution_count": 159,
     "metadata": {},
     "output_type": "execute_result"
    }
   ],
   "source": [
    "MAE(total_y_true[:,2], total_y_pred[:,2])"
   ]
  },
  {
   "cell_type": "code",
   "execution_count": 160,
   "metadata": {},
   "outputs": [],
   "source": [
    "error_30 = pd.DataFrame(0.0, index=target, columns=['MAE', 'WAPE'])"
   ]
  },
  {
   "cell_type": "code",
   "execution_count": 161,
   "metadata": {},
   "outputs": [],
   "source": [
    "for i in range(len(error_30.index)):\n",
    "    error_30.at[error_30.index[i],'MAE'] = MAE(total_y_true[:,i], total_y_pred[:,i])\n",
    "    error_30.at[error_30.index[i],'WAPE'] = WAPE(total_y_true[:,i], total_y_pred[:,i])"
   ]
  },
  {
   "cell_type": "code",
   "execution_count": 162,
   "metadata": {},
   "outputs": [
    {
     "data": {
      "text/html": [
       "<div>\n",
       "<style scoped>\n",
       "    .dataframe tbody tr th:only-of-type {\n",
       "        vertical-align: middle;\n",
       "    }\n",
       "\n",
       "    .dataframe tbody tr th {\n",
       "        vertical-align: top;\n",
       "    }\n",
       "\n",
       "    .dataframe thead th {\n",
       "        text-align: right;\n",
       "    }\n",
       "</style>\n",
       "<table border=\"1\" class=\"dataframe\">\n",
       "  <thead>\n",
       "    <tr style=\"text-align: right;\">\n",
       "      <th></th>\n",
       "      <th>MAE</th>\n",
       "      <th>WAPE</th>\n",
       "    </tr>\n",
       "  </thead>\n",
       "  <tbody>\n",
       "    <tr>\n",
       "      <th>Confirmed</th>\n",
       "      <td>406506.408649</td>\n",
       "      <td>13.606051</td>\n",
       "    </tr>\n",
       "    <tr>\n",
       "      <th>Deaths</th>\n",
       "      <td>277661.720384</td>\n",
       "      <td>277.308644</td>\n",
       "    </tr>\n",
       "    <tr>\n",
       "      <th>Recovered</th>\n",
       "      <td>415032.666713</td>\n",
       "      <td>17.819806</td>\n",
       "    </tr>\n",
       "  </tbody>\n",
       "</table>\n",
       "</div>"
      ],
      "text/plain": [
       "                     MAE        WAPE\n",
       "Confirmed  406506.408649   13.606051\n",
       "Deaths     277661.720384  277.308644\n",
       "Recovered  415032.666713   17.819806"
      ]
     },
     "execution_count": 162,
     "metadata": {},
     "output_type": "execute_result"
    }
   ],
   "source": [
    "error_30"
   ]
  },
  {
   "cell_type": "code",
   "execution_count": 163,
   "metadata": {},
   "outputs": [
    {
     "data": {
      "text/plain": [
       "array(['Brazil'], dtype=object)"
      ]
     },
     "execution_count": 163,
     "metadata": {},
     "output_type": "execute_result"
    }
   ],
   "source": [
    "np.unique(data['Country'])"
   ]
  },
  {
   "cell_type": "code",
   "execution_count": 164,
   "metadata": {},
   "outputs": [],
   "source": [
    "full_rest = data[X_features].max()\n",
    "\n",
    "no_rest = data[X_features].min()"
   ]
  },
  {
   "cell_type": "code",
   "execution_count": 165,
   "metadata": {},
   "outputs": [
    {
     "data": {
      "text/plain": [
       "C5_Close public transport         0.000\n",
       "E1_Income support                 0.000\n",
       "Population                   211049.527\n",
       "dtype: float64"
      ]
     },
     "execution_count": 165,
     "metadata": {},
     "output_type": "execute_result"
    }
   ],
   "source": [
    "# full_rest\n",
    "no_rest"
   ]
  },
  {
   "cell_type": "code",
   "execution_count": 166,
   "metadata": {},
   "outputs": [],
   "source": [
    "# country = 'Brazil'\n",
    "y_true, y_pred_full = full_predict([country], end_date_train, start_date_test, model, X_test, md_test, \n",
    "                              90, np.array(full_rest[:-1]), noise=0.00)\n",
    "\n",
    "y_true, y_pred_no = full_predict([country], end_date_train, start_date_test, model, X_test, md_test, \n",
    "                              90, np.array(no_rest[:-1]), noise=0.00)\n",
    "\n",
    "y_true, y_pred_current = full_predict([country], end_date_train, start_date_test, model, X_test, md_test, \n",
    "                              90, noise=0.00)\n",
    "\n",
    "# y_true, y_pred_no_rest = full_predict([country], end_train_date, start_test_date, model, X_test, md_test, \n",
    "#                               90, np.array([1.0,2.0,1.0,1.0,2.0,1.0,1.0,4.0]), noise=0.00)\n",
    "# y_true, y_pred = full_predict(['Russia'], end_train_date, start_test_date, model, X_test, md_test, \n",
    "#                               count_days=31)"
   ]
  },
  {
   "cell_type": "code",
   "execution_count": 167,
   "metadata": {},
   "outputs": [],
   "source": [
    "# plt.plot(y_true[:,0], label='true')\n",
    "# plt.plot(y_pred[:,0],c='r', label='predict')\n",
    "# plt.legend()\n",
    "# plt.title('Russia')"
   ]
  },
  {
   "cell_type": "code",
   "execution_count": 168,
   "metadata": {},
   "outputs": [],
   "source": [
    "full_rest = data[X_features].max()\n",
    "\n",
    "no_rest = data[X_features].min()"
   ]
  },
  {
   "cell_type": "code",
   "execution_count": 169,
   "metadata": {},
   "outputs": [
    {
     "data": {
      "text/plain": [
       "C5_Close public transport         1.000\n",
       "E1_Income support                 1.000\n",
       "Population                   211049.527\n",
       "dtype: float64"
      ]
     },
     "execution_count": 169,
     "metadata": {},
     "output_type": "execute_result"
    }
   ],
   "source": [
    "full_rest"
   ]
  },
  {
   "cell_type": "code",
   "execution_count": 170,
   "metadata": {},
   "outputs": [
    {
     "data": {
      "text/plain": [
       "'07/24/2020'"
      ]
     },
     "execution_count": 170,
     "metadata": {},
     "output_type": "execute_result"
    }
   ],
   "source": [
    "start_date_test"
   ]
  },
  {
   "cell_type": "code",
   "execution_count": 171,
   "metadata": {},
   "outputs": [],
   "source": [
    "from datetime import timedelta\n",
    "d = [pd.to_datetime(start_date_test)+timedelta(days=i) for i in range(90)]"
   ]
  },
  {
   "cell_type": "code",
   "execution_count": 172,
   "metadata": {},
   "outputs": [
    {
     "data": {
      "text/plain": [
       "90"
      ]
     },
     "execution_count": 172,
     "metadata": {},
     "output_type": "execute_result"
    }
   ],
   "source": [
    "len(d)"
   ]
  },
  {
   "cell_type": "code",
   "execution_count": 173,
   "metadata": {},
   "outputs": [
    {
     "data": {
      "text/plain": [
       "Text(0.5, 1.0, 'Brazil')"
      ]
     },
     "execution_count": 173,
     "metadata": {},
     "output_type": "execute_result"
    },
    {
     "data": {
      "image/png": "[encoded data removed]",
      "text/plain": [
       "<Figure size 432x288 with 1 Axes>"
      ]
     },
     "metadata": {
      "needs_background": "light"
     },
     "output_type": "display_data"
    }
   ],
   "source": [
    "# plt.plot(y_pred_no[1:len(y_pred_no),0] - y_pred_no[:len(y_pred_no)-1,0], label='no restrictions')\n",
    "plt.plot(d[1:],y_pred_full[1:len(y_pred_full),0] - y_pred_full[:len(y_pred_full)-1,0], c='r', label='full restrictions')\n",
    "plt.plot(d[1:],y_pred_current[1:len(y_pred_no),0] - y_pred_current[:len(y_pred_no)-1,0], label='no restriction')\n",
    "# plt.plot(d[1:],y_pred_no[1:len(y_pred_no),0] - y_pred_no[:len(y_pred_no)-1,0], label='no restriction')\n",
    "# plt.plot(d[1:],y_pred_no_rest[1:len(y_pred_no_rest),0] - y_pred_no_rest[:len(y_pred_no_rest)-1,0] + 10000, label='full restriction')\n",
    "\n",
    "\n",
    "plt.legend()\n",
    "plt.xticks(rotation=90)\n",
    "plt.title(country)"
   ]
  },
  {
   "cell_type": "code",
   "execution_count": 174,
   "metadata": {},
   "outputs": [
    {
     "data": {
      "text/plain": [
       "[<matplotlib.lines.Line2D at 0x7f7ee8cdb0b8>]"
      ]
     },
     "execution_count": 174,
     "metadata": {},
     "output_type": "execute_result"
    },
    {
     "data": {
      "image/png": "[encoded data removed]",
      "text/plain": [
       "<Figure size 432x288 with 1 Axes>"
      ]
     },
     "metadata": {
      "needs_background": "light"
     },
     "output_type": "display_data"
    }
   ],
   "source": [
    "plt.plot(y_pred_no[1:len(y_pred_no),0] - y_pred_no[:len(y_pred_no)-1,0], c = 'r')"
   ]
  },
  {
   "cell_type": "code",
   "execution_count": 175,
   "metadata": {},
   "outputs": [
    {
     "data": {
      "text/plain": [
       "[<matplotlib.lines.Line2D at 0x7f7ee8e83630>]"
      ]
     },
     "execution_count": 175,
     "metadata": {},
     "output_type": "execute_result"
    },
    {
     "data": {
      "image/png": "[encoded data removed]",
      "text/plain": [
       "<Figure size 432x288 with 1 Axes>"
      ]
     },
     "metadata": {
      "needs_background": "light"
     },
     "output_type": "display_data"
    }
   ],
   "source": [
    "plt.plot(y_pred_full[1:len(y_pred_full),0] - y_pred_full[:len(y_pred_full)-1,0])"
   ]
  },
  {
   "cell_type": "code",
   "execution_count": 176,
   "metadata": {},
   "outputs": [
    {
     "ename": "NameError",
     "evalue": "name 'y_pred_no_rest' is not defined",
     "output_type": "error",
     "traceback": [
      "\u001b[0;31m---------------------------------------------------------------------------\u001b[0m",
      "\u001b[0;31mNameError\u001b[0m                                 Traceback (most recent call last)",
      "\u001b[0;32m<ipython-input-176-b413a922898f>\u001b[0m in \u001b[0;36m<module>\u001b[0;34m\u001b[0m\n\u001b[0;32m----> 1\u001b[0;31m \u001b[0mlen\u001b[0m\u001b[0;34m(\u001b[0m\u001b[0my_pred_no_rest\u001b[0m\u001b[0;34m[\u001b[0m\u001b[0;36m1\u001b[0m\u001b[0;34m:\u001b[0m\u001b[0mlen\u001b[0m\u001b[0;34m(\u001b[0m\u001b[0my_pred_no_rest\u001b[0m\u001b[0;34m)\u001b[0m\u001b[0;34m,\u001b[0m\u001b[0;36m0\u001b[0m\u001b[0;34m]\u001b[0m \u001b[0;34m-\u001b[0m \u001b[0my_pred_no_rest\u001b[0m\u001b[0;34m[\u001b[0m\u001b[0;34m:\u001b[0m\u001b[0mlen\u001b[0m\u001b[0;34m(\u001b[0m\u001b[0my_pred_no_rest\u001b[0m\u001b[0;34m)\u001b[0m\u001b[0;34m-\u001b[0m\u001b[0;36m1\u001b[0m\u001b[0;34m,\u001b[0m\u001b[0;36m0\u001b[0m\u001b[0;34m]\u001b[0m\u001b[0;34m)\u001b[0m\u001b[0;34m\u001b[0m\u001b[0;34m\u001b[0m\u001b[0m\n\u001b[0m",
      "\u001b[0;31mNameError\u001b[0m: name 'y_pred_no_rest' is not defined"
     ]
    }
   ],
   "source": [
    "len(y_pred_no_rest[1:len(y_pred_no_rest),0] - y_pred_no_rest[:len(y_pred_no_rest)-1,0])"
   ]
  },
  {
   "cell_type": "code",
   "execution_count": null,
   "metadata": {},
   "outputs": [],
   "source": [
    "len(np.unique(kek))"
   ]
  },
  {
   "cell_type": "code",
   "execution_count": null,
   "metadata": {},
   "outputs": [],
   "source": [
    "plt.plot(y_pred[1:len(y_pred),0] - y_pred[:len(y_pred)-1,0], c='r', label='pred')"
   ]
  },
  {
   "cell_type": "code",
   "execution_count": null,
   "metadata": {},
   "outputs": [],
   "source": [
    "data[X_features]"
   ]
  },
  {
   "cell_type": "code",
   "execution_count": null,
   "metadata": {},
   "outputs": [],
   "source": [
    "dates = data['Date']"
   ]
  },
  {
   "cell_type": "code",
   "execution_count": null,
   "metadata": {},
   "outputs": [],
   "source": [
    "from datetime import timedelta"
   ]
  },
  {
   "cell_type": "code",
   "execution_count": null,
   "metadata": {},
   "outputs": [],
   "source": [
    "kek = []\n",
    "d = pd.to_datetime(np.unique(dates[dates > '05/25/2020'])) + timedelta(31)\n",
    "kek += d\n",
    "kek += d + timedelta(30)\n",
    "kek += kek[1] + timedelta(30)"
   ]
  },
  {
   "cell_type": "code",
   "execution_count": null,
   "metadata": {},
   "outputs": [],
   "source": [
    "len(np.unique(kek))"
   ]
  },
  {
   "cell_type": "code",
   "execution_count": null,
   "metadata": {},
   "outputs": [],
   "source": [
    "len([pd.to_datetime('2020-06-25')+timedelta(days=i) for i in range(90)])"
   ]
  },
  {
   "cell_type": "code",
   "execution_count": null,
   "metadata": {},
   "outputs": [],
   "source": [
    "import pydot\n",
    "import pydotplus\n",
    "import graphviz\n",
    "from tensorflow.keras.utils import plot_model\n",
    "plot_model(\n",
    "    model,\n",
    "    to_file=\"model.png\",\n",
    "    show_shapes=False,\n",
    "    show_layer_names=True,\n",
    "    rankdir=\"TB\",\n",
    "#     expand_nested=False,\n",
    "#     dpi=96,\n",
    ")"
   ]
  },
  {
   "cell_type": "code",
   "execution_count": null,
   "metadata": {},
   "outputs": [],
   "source": [
    "from tensorflow import keras\n",
    "import pydot as pyd\n",
    "from IPython.display import SVG\n",
    "from tensorflow.keras.utils import model_to_dot\n",
    "keras.utils.pydot = pyd\n",
    "\n",
    "#Visualize Model\n",
    "\n",
    "def visualize_model(model):\n",
    "    return SVG(model_to_dot(model).create(prog='dot', format='svg'))\n",
    "#create your model\n",
    "#then call the function on your model\n",
    "visualize_model(model)"
   ]
  },
  {
   "cell_type": "code",
   "execution_count": null,
   "metadata": {},
   "outputs": [],
   "source": [
    "full_rest = data[X_features].max()"
   ]
  },
  {
   "cell_type": "code",
   "execution_count": null,
   "metadata": {},
   "outputs": [],
   "source": [
    "no_rest = data[X_features].min()"
   ]
  },
  {
   "cell_type": "code",
   "execution_count": null,
   "metadata": {},
   "outputs": [],
   "source": [
    "no_rest"
   ]
  },
  {
   "cell_type": "code",
   "execution_count": null,
   "metadata": {},
   "outputs": [],
   "source": [
    "countries = ['Chile', 'Peru', 'US', 'Sweden', 'Brazil', 'Spain', 'Belgium', 'Saudi Arabia', 'United Kingdom', 'Russia']"
   ]
  },
  {
   "cell_type": "code",
   "execution_count": null,
   "metadata": {},
   "outputs": [],
   "source": [
    "countries = np.unique(data['Country'])"
   ]
  },
  {
   "cell_type": "code",
   "execution_count": null,
   "metadata": {},
   "outputs": [],
   "source": [
    "d = [pd.to_datetime('2020-06-25')+timedelta(days=i) for i in range(90)]\n",
    "res = pd.DataFrame(0.0, index = countries, columns=d)"
   ]
  },
  {
   "cell_type": "code",
   "execution_count": null,
   "metadata": {},
   "outputs": [],
   "source": [
    "res"
   ]
  },
  {
   "cell_type": "code",
   "execution_count": null,
   "metadata": {},
   "outputs": [],
   "source": [
    "for i in range(len(countries)):\n",
    "#     print(countries[i])\n",
    "    _, pred = full_predict([countries[i]], end_train_date, start_test_date, model, X_test, md_test, \n",
    "                              90, noise=0.00)\n",
    "    res.loc[countries[i]] = pred[:,0]"
   ]
  },
  {
   "cell_type": "code",
   "execution_count": null,
   "metadata": {},
   "outputs": [],
   "source": [
    "res['2020-09-22'].sort_values()"
   ]
  },
  {
   "cell_type": "code",
   "execution_count": null,
   "metadata": {},
   "outputs": [],
   "source": [
    "res.loc['China']"
   ]
  },
  {
   "cell_type": "code",
   "execution_count": null,
   "metadata": {},
   "outputs": [],
   "source": [
    "ind_start = md_test[(md_test['Country'] == countries[i]) & (md_test['Date'] == start_test_date)]"
   ]
  },
  {
   "cell_type": "code",
   "execution_count": null,
   "metadata": {},
   "outputs": [],
   "source": [
    "md_test[md_test['Country'] == countries[4]]"
   ]
  },
  {
   "cell_type": "code",
   "execution_count": null,
   "metadata": {},
   "outputs": [],
   "source": [
    "start_test_date"
   ]
  },
  {
   "cell_type": "code",
   "execution_count": null,
   "metadata": {},
   "outputs": [],
   "source": [
    "ind_start"
   ]
  },
  {
   "cell_type": "code",
   "execution_count": null,
   "metadata": {},
   "outputs": [],
   "source": [
    "res.loc[countries[i]]"
   ]
  },
  {
   "cell_type": "code",
   "execution_count": null,
   "metadata": {},
   "outputs": [],
   "source": [
    "res['2020-09-22'].sort_values()"
   ]
  },
  {
   "cell_type": "code",
   "execution_count": null,
   "metadata": {},
   "outputs": [],
   "source": [
    "md_test"
   ]
  },
  {
   "cell_type": "code",
   "execution_count": null,
   "metadata": {},
   "outputs": [],
   "source": [
    "res.to_csv('powerfull_predcition.csv')"
   ]
  },
  {
   "cell_type": "code",
   "execution_count": null,
   "metadata": {},
   "outputs": [],
   "source": [
    "res"
   ]
  },
  {
   "cell_type": "code",
   "execution_count": null,
   "metadata": {},
   "outputs": [],
   "source": [
    "polic = pd.read_csv('polic.csv')"
   ]
  },
  {
   "cell_type": "code",
   "execution_count": null,
   "metadata": {},
   "outputs": [],
   "source": [
    "polic.isnull().sum(axis = 0)"
   ]
  },
  {
   "cell_type": "code",
   "execution_count": null,
   "metadata": {},
   "outputs": [],
   "source": [
    "polic.shape"
   ]
  },
  {
   "cell_type": "code",
   "execution_count": null,
   "metadata": {},
   "outputs": [],
   "source": [
    "col = polic.loc[polic['Country'] == 'Italy'].isnull().sum(axis = 0)"
   ]
  },
  {
   "cell_type": "code",
   "execution_count": null,
   "metadata": {},
   "outputs": [],
   "source": [
    "country = np.unique(polic['Country'])"
   ]
  },
  {
   "cell_type": "code",
   "execution_count": null,
   "metadata": {},
   "outputs": [],
   "source": [
    "res = pd.Series(0, index=country)"
   ]
  },
  {
   "cell_type": "code",
   "execution_count": null,
   "metadata": {},
   "outputs": [],
   "source": [
    "\n",
    "for i in range(len(country)):\n",
    "    col = polic.loc[polic['Country'] == country[i]].isnull().sum(axis = 0)\n",
    "    res[country[i]] = np.mean(col[3:])"
   ]
  },
  {
   "cell_type": "code",
   "execution_count": null,
   "metadata": {},
   "outputs": [],
   "source": [
    "res.sort_values().to_csv('null_values.csv')"
   ]
  },
  {
   "cell_type": "code",
   "execution_count": null,
   "metadata": {},
   "outputs": [],
   "source": [
    "res = res.sort_values()"
   ]
  },
  {
   "cell_type": "code",
   "execution_count": null,
   "metadata": {},
   "outputs": [],
   "source": [
    "plt.plot(res, 'bo')\n",
    "plt.show()"
   ]
  },
  {
   "cell_type": "code",
   "execution_count": null,
   "metadata": {},
   "outputs": [],
   "source": []
  }
 ],
 "metadata": {
  "kernelspec": {
   "display_name": "Python 3",
   "language": "python",
   "name": "python3"
  },
  "language_info": {
   "codemirror_mode": {
    "name": "ipython",
    "version": 3
   },
   "file_extension": ".py",
   "mimetype": "text/x-python",
   "name": "python",
   "nbconvert_exporter": "python",
   "pygments_lexer": "ipython3",
   "version": "3.6.10"
  }
 },
 "nbformat": 4,
 "nbformat_minor": 2
}
